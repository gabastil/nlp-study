{
 "cells": [
  {
   "cell_type": "markdown",
   "metadata": {},
   "source": [
    "# LSTM Generation Study\n",
    "---\n",
    "Glenn Abastillas"
   ]
  },
  {
   "cell_type": "code",
   "execution_count": 5,
   "metadata": {},
   "outputs": [],
   "source": [
    "from keras.layers import Input, Embedding, LSTM, Dense, Reshape, Flatten\n",
    "from keras.utils import to_categorical\n",
    "from keras.preprocessing.text import one_hot, Tokenizer\n",
    "from keras.preprocessing.sequence import pad_sequences, TimeseriesGenerator\n",
    "\n",
    "from keras.datasets import imdb\n",
    "import numpy as np\n",
    "\n",
    "np_load_old = np.load\n",
    "np.load = lambda *a, **k : np_load_old(*a, allow_pickle=True, **k)"
   ]
  },
  {
   "cell_type": "code",
   "execution_count": 7,
   "metadata": {},
   "outputs": [],
   "source": [
    "(x_train, y_train), (x_test, y_test) = imdb.load_data()"
   ]
  },
  {
   "cell_type": "code",
   "execution_count": 48,
   "metadata": {},
   "outputs": [
    {
     "ename": "ValueError",
     "evalue": "cannot reshape array of size 25000 into shape (1,)",
     "output_type": "error",
     "traceback": [
      "\u001b[0;31m---------------------------------------------------------------------------\u001b[0m",
      "\u001b[0;31mValueError\u001b[0m                                Traceback (most recent call last)",
      "\u001b[0;32m<ipython-input-48-8d2f55eeebd8>\u001b[0m in \u001b[0;36m<module>\u001b[0;34m\u001b[0m\n\u001b[0;32m----> 1\u001b[0;31m \u001b[0mx_train\u001b[0m\u001b[0;34m.\u001b[0m\u001b[0mreshape\u001b[0m\u001b[0;34m(\u001b[0m\u001b[0;36m1\u001b[0m\u001b[0;34m)\u001b[0m\u001b[0;34m\u001b[0m\u001b[0;34m\u001b[0m\u001b[0m\n\u001b[0m",
      "\u001b[0;31mValueError\u001b[0m: cannot reshape array of size 25000 into shape (1,)"
     ]
    }
   ],
   "source": [
    "x_train.reshape(1)"
   ]
  },
  {
   "cell_type": "markdown",
   "metadata": {},
   "source": [
    "#### Preprocess Data"
   ]
  },
  {
   "cell_type": "code",
   "execution_count": 30,
   "metadata": {},
   "outputs": [],
   "source": [
    "timeseries = TimeseriesGenerator(x, x, 10, batch_size=2, sampling_rate=2)"
   ]
  },
  {
   "cell_type": "code",
   "execution_count": 34,
   "metadata": {},
   "outputs": [
    {
     "data": {
      "text/plain": [
       "495"
      ]
     },
     "execution_count": 34,
     "metadata": {},
     "output_type": "execute_result"
    }
   ],
   "source": [
    "len(timeseries)"
   ]
  },
  {
   "cell_type": "code",
   "execution_count": 43,
   "metadata": {},
   "outputs": [
    {
     "name": "stdout",
     "output_type": "stream",
     "text": [
      "Help on TimeseriesGenerator in module keras_preprocessing.sequence object:\n",
      "\n",
      "class TimeseriesGenerator(tensorflow.python.keras.utils.data_utils.Sequence)\n",
      " |  Utility class for generating batches of temporal data.\n",
      " |  \n",
      " |  This class takes in a sequence of data-points gathered at\n",
      " |  equal intervals, along with time series parameters such as\n",
      " |  stride, length of history, etc., to produce batches for\n",
      " |  training/validation.\n",
      " |  \n",
      " |  # Arguments\n",
      " |      data: Indexable generator (such as list or Numpy array)\n",
      " |          containing consecutive data points (timesteps).\n",
      " |          The data should be at 2D, and axis 0 is expected\n",
      " |          to be the time dimension.\n",
      " |      targets: Targets corresponding to timesteps in `data`.\n",
      " |          It should have same length as `data`.\n",
      " |      length: Length of the output sequences (in number of timesteps).\n",
      " |      sampling_rate: Period between successive individual timesteps\n",
      " |          within sequences. For rate `r`, timesteps\n",
      " |          `data[i]`, `data[i-r]`, ... `data[i - length]`\n",
      " |          are used for create a sample sequence.\n",
      " |      stride: Period between successive output sequences.\n",
      " |          For stride `s`, consecutive output samples would\n",
      " |          be centered around `data[i]`, `data[i+s]`, `data[i+2*s]`, etc.\n",
      " |      start_index: Data points earlier than `start_index` will not be used\n",
      " |          in the output sequences. This is useful to reserve part of the\n",
      " |          data for test or validation.\n",
      " |      end_index: Data points later than `end_index` will not be used\n",
      " |          in the output sequences. This is useful to reserve part of the\n",
      " |          data for test or validation.\n",
      " |      shuffle: Whether to shuffle output samples,\n",
      " |          or instead draw them in chronological order.\n",
      " |      reverse: Boolean: if `true`, timesteps in each output sample will be\n",
      " |          in reverse chronological order.\n",
      " |      batch_size: Number of timeseries samples in each batch\n",
      " |          (except maybe the last one).\n",
      " |  \n",
      " |  # Returns\n",
      " |      A [Sequence](/utils/#sequence) instance.\n",
      " |  \n",
      " |  # Examples\n",
      " |  \n",
      " |  ```python\n",
      " |  from keras.preprocessing.sequence import TimeseriesGenerator\n",
      " |  import numpy as np\n",
      " |  \n",
      " |  data = np.array([[i] for i in range(50)])\n",
      " |  targets = np.array([[i] for i in range(50)])\n",
      " |  \n",
      " |  data_gen = TimeseriesGenerator(data, targets,\n",
      " |                                 length=10, sampling_rate=2,\n",
      " |                                 batch_size=2)\n",
      " |  assert len(data_gen) == 20\n",
      " |  \n",
      " |  batch_0 = data_gen[0]\n",
      " |  x, y = batch_0\n",
      " |  assert np.array_equal(x,\n",
      " |                        np.array([[[0], [2], [4], [6], [8]],\n",
      " |                                  [[1], [3], [5], [7], [9]]]))\n",
      " |  assert np.array_equal(y,\n",
      " |                        np.array([[10], [11]]))\n",
      " |  ```\n",
      " |  \n",
      " |  Method resolution order:\n",
      " |      TimeseriesGenerator\n",
      " |      tensorflow.python.keras.utils.data_utils.Sequence\n",
      " |      builtins.object\n",
      " |  \n",
      " |  Methods defined here:\n",
      " |  \n",
      " |  __getitem__(self, index)\n",
      " |      Gets batch at position `index`.\n",
      " |      \n",
      " |      Arguments:\n",
      " |          index: position of the batch in the Sequence.\n",
      " |      \n",
      " |      Returns:\n",
      " |          A batch\n",
      " |  \n",
      " |  __init__(self, data, targets, length, sampling_rate=1, stride=1, start_index=0, end_index=None, shuffle=False, reverse=False, batch_size=128)\n",
      " |      Initialize self.  See help(type(self)) for accurate signature.\n",
      " |  \n",
      " |  __len__(self)\n",
      " |      Number of batch in the Sequence.\n",
      " |      \n",
      " |      Returns:\n",
      " |          The number of batches in the Sequence.\n",
      " |  \n",
      " |  ----------------------------------------------------------------------\n",
      " |  Methods inherited from tensorflow.python.keras.utils.data_utils.Sequence:\n",
      " |  \n",
      " |  __iter__(self)\n",
      " |      Create a generator that iterate over the Sequence.\n",
      " |  \n",
      " |  on_epoch_end(self)\n",
      " |      Method called at the end of every epoch.\n",
      " |  \n",
      " |  ----------------------------------------------------------------------\n",
      " |  Data descriptors inherited from tensorflow.python.keras.utils.data_utils.Sequence:\n",
      " |  \n",
      " |  __dict__\n",
      " |      dictionary for instance variables (if defined)\n",
      " |  \n",
      " |  __weakref__\n",
      " |      list of weak references to the object (if defined)\n",
      "\n"
     ]
    }
   ],
   "source": [
    "help(timeseries)"
   ]
  },
  {
   "cell_type": "markdown",
   "metadata": {},
   "source": [
    "#### Build Model"
   ]
  },
  {
   "cell_type": "code",
   "execution_count": null,
   "metadata": {},
   "outputs": [],
   "source": []
  },
  {
   "cell_type": "code",
   "execution_count": null,
   "metadata": {},
   "outputs": [],
   "source": []
  }
 ],
 "metadata": {
  "kernelspec": {
   "display_name": "Python 3",
   "language": "python",
   "name": "python3"
  },
  "language_info": {
   "codemirror_mode": {
    "name": "ipython",
    "version": 3
   },
   "file_extension": ".py",
   "mimetype": "text/x-python",
   "name": "python",
   "nbconvert_exporter": "python",
   "pygments_lexer": "ipython3",
   "version": "3.6.9"
  }
 },
 "nbformat": 4,
 "nbformat_minor": 2
}
