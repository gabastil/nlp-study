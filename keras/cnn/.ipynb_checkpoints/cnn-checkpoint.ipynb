{
 "cells": [
  {
   "cell_type": "markdown",
   "metadata": {},
   "source": [
    "# CNN Train Test Study\n",
    "---\n",
    "Glenn Abastillas"
   ]
  },
  {
   "cell_type": "code",
   "execution_count": 62,
   "metadata": {},
   "outputs": [],
   "source": [
    "from keras.layers import Conv2D, MaxPool2D, Dense, Flatten\n",
    "from keras.models import Sequential\n",
    "from keras.utils import to_categorical\n",
    "from keras.datasets import fashion_mnist\n",
    "\n",
    "import matplotlib.pyplot as plt\n",
    "import pandas as pd\n",
    "import random"
   ]
  },
  {
   "cell_type": "markdown",
   "metadata": {},
   "source": [
    "#### Load Data"
   ]
  },
  {
   "cell_type": "code",
   "execution_count": 37,
   "metadata": {},
   "outputs": [],
   "source": [
    "(x_train, y_train), (x_test, y_test) = fashion_mnist.load_data()"
   ]
  },
  {
   "cell_type": "code",
   "execution_count": 38,
   "metadata": {},
   "outputs": [],
   "source": [
    "x_train = x_train / 255\n",
    "x_test = x_test / 255"
   ]
  },
  {
   "cell_type": "code",
   "execution_count": 39,
   "metadata": {},
   "outputs": [],
   "source": [
    "y_train, y_test = to_categorical(y_train), to_categorical(y_test)"
   ]
  },
  {
   "cell_type": "markdown",
   "metadata": {},
   "source": [
    "Visualize data."
   ]
  },
  {
   "cell_type": "code",
   "execution_count": 40,
   "metadata": {},
   "outputs": [
    {
     "data": {
      "image/png": "[encoded data removed]",
      "text/plain": [
       "<Figure size 720x720 with 12 Axes>"
      ]
     },
     "metadata": {},
     "output_type": "display_data"
    }
   ],
   "source": [
    "fig, axes = plt.subplots(3, 4, figsize=(10, 10))\n",
    "\n",
    "for ax in axes.flatten():\n",
    "    ax.imshow(x_train[random.randint(0, 10)], cmap='gray')\n",
    "    ax.set_yticks([])\n",
    "    ax.set_xticks([])"
   ]
  },
  {
   "cell_type": "markdown",
   "metadata": {},
   "source": [
    "#### Set Up Model"
   ]
  },
  {
   "cell_type": "code",
   "execution_count": 41,
   "metadata": {},
   "outputs": [],
   "source": [
    "layers = [\n",
    "            Conv2D(32, (3, 3), activation='relu', input_shape=(*x_train.shape[1:], 1)),\n",
    "            MaxPool2D(),\n",
    "            Flatten(),\n",
    "            Dense(100, activation='relu'),\n",
    "            Dense(y_train[0].size, activation='softmax')\n",
    "         ]\n",
    "\n",
    "model = Sequential(layers)\n",
    "model.compile('adam', 'categorical_crossentropy', metrics=['accuracy'])"
   ]
  },
  {
   "cell_type": "markdown",
   "metadata": {},
   "source": [
    "#### Fit Model\n",
    "\n",
    "Change array shape."
   ]
  },
  {
   "cell_type": "code",
   "execution_count": 42,
   "metadata": {},
   "outputs": [],
   "source": [
    "x_train = x_train.reshape(*x_train.shape, 1)\n",
    "x_test = x_test.reshape(*x_test.shape, 1)"
   ]
  },
  {
   "cell_type": "markdown",
   "metadata": {},
   "source": [
    "fit model."
   ]
  },
  {
   "cell_type": "code",
   "execution_count": 43,
   "metadata": {},
   "outputs": [
    {
     "name": "stdout",
     "output_type": "stream",
     "text": [
      "Train on 60000 samples, validate on 10000 samples\n",
      "Epoch 1/20\n",
      "60000/60000 [==============================] - 33s 553us/step - loss: 0.7562 - acc: 0.7481 - val_loss: 0.4869 - val_acc: 0.8227\n",
      "Epoch 2/20\n",
      "60000/60000 [==============================] - 29s 484us/step - loss: 0.4165 - acc: 0.8551 - val_loss: 0.4012 - val_acc: 0.8586\n",
      "Epoch 3/20\n",
      "60000/60000 [==============================] - 24s 396us/step - loss: 0.3570 - acc: 0.8751 - val_loss: 0.3614 - val_acc: 0.8755\n",
      "Epoch 4/20\n",
      "60000/60000 [==============================] - 27s 445us/step - loss: 0.3279 - acc: 0.8853 - val_loss: 0.3363 - val_acc: 0.8817\n",
      "Epoch 5/20\n",
      "60000/60000 [==============================] - 28s 458us/step - loss: 0.3065 - acc: 0.8916 - val_loss: 0.3368 - val_acc: 0.8767\n",
      "Epoch 6/20\n",
      "60000/60000 [==============================] - 27s 448us/step - loss: 0.2936 - acc: 0.8959 - val_loss: 0.3163 - val_acc: 0.8877\n",
      "Epoch 7/20\n",
      "60000/60000 [==============================] - 27s 451us/step - loss: 0.2784 - acc: 0.9019 - val_loss: 0.3045 - val_acc: 0.8906\n",
      "Epoch 8/20\n",
      "60000/60000 [==============================] - 27s 448us/step - loss: 0.2652 - acc: 0.9063 - val_loss: 0.3015 - val_acc: 0.8908\n",
      "Epoch 9/20\n",
      "60000/60000 [==============================] - 27s 442us/step - loss: 0.2556 - acc: 0.9102 - val_loss: 0.2943 - val_acc: 0.8963\n",
      "Epoch 10/20\n",
      "60000/60000 [==============================] - 28s 462us/step - loss: 0.2477 - acc: 0.9127 - val_loss: 0.2916 - val_acc: 0.8966\n",
      "Epoch 11/20\n",
      "60000/60000 [==============================] - 27s 448us/step - loss: 0.2441 - acc: 0.9127 - val_loss: 0.2942 - val_acc: 0.8911\n",
      "Epoch 12/20\n",
      "60000/60000 [==============================] - 26s 438us/step - loss: 0.2344 - acc: 0.9175 - val_loss: 0.2942 - val_acc: 0.8931\n",
      "Epoch 13/20\n",
      "60000/60000 [==============================] - 27s 458us/step - loss: 0.2273 - acc: 0.9187 - val_loss: 0.2863 - val_acc: 0.8957\n",
      "Epoch 14/20\n",
      "60000/60000 [==============================] - 26s 436us/step - loss: 0.2216 - acc: 0.9206 - val_loss: 0.2676 - val_acc: 0.9029\n",
      "Epoch 15/20\n",
      "60000/60000 [==============================] - 26s 435us/step - loss: 0.2160 - acc: 0.9226 - val_loss: 0.2666 - val_acc: 0.9030\n",
      "Epoch 16/20\n",
      "60000/60000 [==============================] - 26s 434us/step - loss: 0.2093 - acc: 0.9251 - val_loss: 0.2633 - val_acc: 0.9056\n",
      "Epoch 17/20\n",
      "60000/60000 [==============================] - 27s 446us/step - loss: 0.2012 - acc: 0.9286 - val_loss: 0.2629 - val_acc: 0.9043\n",
      "Epoch 18/20\n",
      "60000/60000 [==============================] - 31s 509us/step - loss: 0.1960 - acc: 0.9305 - val_loss: 0.2586 - val_acc: 0.9088\n",
      "Epoch 19/20\n",
      "60000/60000 [==============================] - 26s 438us/step - loss: 0.1934 - acc: 0.9317 - val_loss: 0.2599 - val_acc: 0.9083\n",
      "Epoch 20/20\n",
      "60000/60000 [==============================] - 27s 456us/step - loss: 0.1854 - acc: 0.9341 - val_loss: 0.2562 - val_acc: 0.9087\n"
     ]
    },
    {
     "data": {
      "text/plain": [
       "<keras.callbacks.History at 0x13aeddc18>"
      ]
     },
     "execution_count": 43,
     "metadata": {},
     "output_type": "execute_result"
    }
   ],
   "source": [
    "model.fit(x_train, y_train, batch_size=1000, epochs=20, validation_data=(x_test, y_test))"
   ]
  },
  {
   "cell_type": "markdown",
   "metadata": {},
   "source": [
    "Save model."
   ]
  },
  {
   "cell_type": "code",
   "execution_count": 44,
   "metadata": {},
   "outputs": [],
   "source": [
    "model.save('./cnn.model')"
   ]
  },
  {
   "cell_type": "markdown",
   "metadata": {},
   "source": [
    "#### Visualize Loss\n",
    "\n",
    "Get epoch metrics"
   ]
  },
  {
   "cell_type": "code",
   "execution_count": 60,
   "metadata": {},
   "outputs": [],
   "source": [
    "history = model.history.history\n",
    "\n",
    "df = pd.DataFrame(history)"
   ]
  },
  {
   "cell_type": "markdown",
   "metadata": {},
   "source": [
    "Plot metrics"
   ]
  },
  {
   "cell_type": "code",
   "execution_count": 68,
   "metadata": {},
   "outputs": [
    {
     "data": {
      "text/plain": [
       "Text(0, 0.5, 'Score')"
      ]
     },
     "execution_count": 68,
     "metadata": {},
     "output_type": "execute_result"
    },
    {
     "data": {
      "image/png": "[encoded data removed]",
      "text/plain": [
       "<Figure size 432x288 with 1 Axes>"
      ]
     },
     "metadata": {
      "needs_background": "light"
     },
     "output_type": "display_data"
    }
   ],
   "source": [
    "ax = df.plot()\n",
    "ax.set_xlabel('Epochs')\n",
    "ax.set_ylabel('Score')"
   ]
  },
  {
   "cell_type": "markdown",
   "metadata": {},
   "source": [
    "#### Make Predictions"
   ]
  },
  {
   "cell_type": "code",
   "execution_count": 92,
   "metadata": {},
   "outputs": [
    {
     "data": {
      "image/png": "[encoded data removed]",
      "text/plain": [
       "<Figure size 432x288 with 1 Axes>"
      ]
     },
     "metadata": {
      "needs_background": "light"
     },
     "output_type": "display_data"
    }
   ],
   "source": [
    "item = 17\n",
    "\n",
    "ax = plt.imshow(x_test[item].reshape(28, 28))"
   ]
  },
  {
   "cell_type": "markdown",
   "metadata": {},
   "source": [
    "Correct label"
   ]
  },
  {
   "cell_type": "code",
   "execution_count": 93,
   "metadata": {},
   "outputs": [
    {
     "data": {
      "text/plain": [
       "4"
      ]
     },
     "execution_count": 93,
     "metadata": {},
     "output_type": "execute_result"
    }
   ],
   "source": [
    "y_test[item].argmax()"
   ]
  },
  {
   "cell_type": "markdown",
   "metadata": {},
   "source": [
    "Predicted label"
   ]
  },
  {
   "cell_type": "code",
   "execution_count": 94,
   "metadata": {},
   "outputs": [
    {
     "data": {
      "text/plain": [
       "4"
      ]
     },
     "execution_count": 94,
     "metadata": {},
     "output_type": "execute_result"
    }
   ],
   "source": [
    "model.predict(x_test[item].reshape(1, 28, 28, 1)).argmax()"
   ]
  },
  {
   "cell_type": "markdown",
   "metadata": {},
   "source": [
    "---"
   ]
  }
 ],
 "metadata": {
  "kernelspec": {
   "display_name": "Python 3",
   "language": "python",
   "name": "python3"
  },
  "language_info": {
   "codemirror_mode": {
    "name": "ipython",
    "version": 3
   },
   "file_extension": ".py",
   "mimetype": "text/x-python",
   "name": "python",
   "nbconvert_exporter": "python",
   "pygments_lexer": "ipython3",
   "version": "3.6.9"
  }
 },
 "nbformat": 4,
 "nbformat_minor": 2
}
