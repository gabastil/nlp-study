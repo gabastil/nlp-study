{
 "cells": [
  {
   "cell_type": "code",
   "execution_count": 1,
   "metadata": {},
   "outputs": [
    {
     "data": {
      "text/html": [
       "./style/style.html"
      ],
      "text/plain": [
       "<IPython.core.display.HTML object>"
      ]
     },
     "execution_count": 1,
     "metadata": {},
     "output_type": "execute_result"
    }
   ],
   "source": [
    "from IPython.core.display import HTML\n",
    "\n",
    "HTML('./style/style.html')"
   ]
  },
  {
   "cell_type": "markdown",
   "metadata": {},
   "source": [
    "# Presentation on Word2Vec\n",
    "Glenn Abastillas | 24 March, 2020\n",
    "\n",
    "``` ADD VISUAL OF KING - QUEEN = MAN WITH SVG ```\n",
    "\n",
    "This notebook goes over an example implementation of Word2Vec and some existing packages that perform Word2Vec training.\n",
    "\n",
    "Contents\n",
    "  1.  Preliminary Steps\n",
    "      * [Load Packages](#load_packages)\n",
    "      * [Preprocess Data](#preprocess_data)\n",
    "      * [Quick Background](#quick_background)\n",
    "  2. [Implementation from Scratch](#implementation_from_scratch)\n",
    "      * Word2Vec Flavors: Continuous Back of Words (CBOW) / Skip Grams (SG)\n",
    "      * Training\n",
    "      * Retrieving the trained matrix\n",
    "      * Applications\n",
    "  3. Using an Existing Package\n",
    "\n",
    "__At each step, we will also cover other packages that can be used to acheive the same thing (e.g., Countvectorizer)__\n",
    "  \n",
    "<p class='tip banner'>This is an example of a tip.<p>\n",
    "<p class='attention banner'>This is an example of an attention.<p>\n",
    "<p class='warning banner'>This is an example of a warning.<p>\n",
    "  \n",
    "---\n",
    "\n",
    "### Load Packages <a id=\"load_packages\"></a>\n",
    "First we import packages and clean the data."
   ]
  },
  {
   "cell_type": "code",
   "execution_count": 2,
   "metadata": {},
   "outputs": [
    {
     "data": {
      "text/plain": [
       "RendererRegistry.enable('notebook')"
      ]
     },
     "execution_count": 2,
     "metadata": {},
     "output_type": "execute_result"
    }
   ],
   "source": [
    "import numpy as np\n",
    "import spacy\n",
    "from tqdm.notebook import trange, tqdm\n",
    "\n",
    "import pandas as pd\n",
    "import altair as alt\n",
    "\n",
    "from string import punctuation\n",
    "from nltk.corpus import gutenberg, stopwords\n",
    "from collections import namedtuple\n",
    "from sklearn.decomposition import PCA\n",
    "from sklearn.preprocessing import StandardScaler\n",
    "\n",
    "alt.renderers.enable('notebook')"
   ]
  },
  {
   "cell_type": "markdown",
   "metadata": {},
   "source": [
    "We will use data from the `gutenberg` corpus and normalize the input data."
   ]
  },
  {
   "cell_type": "code",
   "execution_count": 3,
   "metadata": {},
   "outputs": [
    {
     "name": "stdout",
     "output_type": "stream",
     "text": [
      "austen-emma.txt - 7811 words\n",
      "austen-persuasion.txt - 6132 words\n",
      "austen-sense.txt - 6833 words\n",
      "bible-kjv.txt - 13769 words\n",
      "blake-poems.txt - 1820 words\n",
      "bryant-stories.txt - 4420 words\n",
      "burgess-busterbrown.txt - 1764 words\n",
      "carroll-alice.txt - 3016 words\n",
      "chesterton-ball.txt - 8947 words\n",
      "chesterton-brown.txt - 8299 words\n",
      "chesterton-thursday.txt - 6807 words\n",
      "edgeworth-parents.txt - 9593 words\n",
      "melville-moby_dick.txt - 19317 words\n",
      "milton-paradise.txt - 10751 words\n",
      "shakespeare-caesar.txt - 3560 words\n",
      "shakespeare-hamlet.txt - 5447 words\n",
      "shakespeare-macbeth.txt - 4017 words\n",
      "whitman-leaves.txt - 14329 words\n"
     ]
    }
   ],
   "source": [
    "fileids = gutenberg.fileids()\n",
    "\n",
    "for fileid in fileids:\n",
    "    print(f'{fileid} - {len(set(gutenberg.words(fileid)))} words')"
   ]
  },
  {
   "cell_type": "code",
   "execution_count": 415,
   "metadata": {},
   "outputs": [
    {
     "name": "stdout",
     "output_type": "stream",
     "text": [
      "Number of sentences: 438\n",
      "Number of words: 8,354\n"
     ]
    }
   ],
   "source": [
    "title = 'blake-poems.txt'\n",
    "sents = gutenberg.sents(title)\n",
    "words = gutenberg.words(title)\n",
    "\n",
    "print(f'Number of sentences: {len(sents):,}')\n",
    "print(f'Number of words: {len(words):,}')"
   ]
  },
  {
   "cell_type": "code",
   "execution_count": 150,
   "metadata": {},
   "outputs": [],
   "source": [
    "sents = ['sarah is my mother who married my father'.split(), \n",
    "         'peter is my father and best friend'.split(), \n",
    "         'my dad works all day'.split(),\n",
    "         'sarah and peter live in our house but work outside the house'.split(),\n",
    "         'i love my mother and father'.split(),\n",
    "         'i love my mom and dad'.split(),\n",
    "         'mom is at work and dad is at home'.split(),\n",
    "         'alan turing is the organization that dad works for'.split(),\n",
    "         '3m is where my mom works'.split(),\n",
    "         'i work from home a lot'.split()]\n",
    "words = [word for sent in sents for word in sent]"
   ]
  },
  {
   "cell_type": "markdown",
   "metadata": {},
   "source": [
    "Generate word encodings and word probabilities."
   ]
  },
  {
   "cell_type": "code",
   "execution_count": 416,
   "metadata": {},
   "outputs": [],
   "source": [
    "words = [word.lower() for word in words]\n",
    "\n",
    "WORDS, COUNTS = np.unique(words, return_counts=True)\n",
    "\n",
    "PROBS = COUNTS**0.75 / (COUNTS**0.75).sum()\n",
    "\n",
    "INDEX = np.arange(WORDS.size)\n",
    "\n",
    "VOCAB = dict(zip(WORDS, INDEX))\n",
    "VOCABR = dict(zip(INDEX, WORDS))"
   ]
  },
  {
   "cell_type": "markdown",
   "metadata": {},
   "source": [
    "`[insert navigation here]`\n",
    "\n",
    "---\n",
    "### Preprocess Data <a id=\"preprocess_data\"></a>\n",
    "##### Normalize Vocabulary\n",
    "\n",
    "To improve processing and richness of our lexical items, we normalize our language data. \n",
    "\n",
    "Normalizing data can involve a variety of tasks depending on the final application of our language model. These tasks including making all words the same case, removing punctuation, and removing **<a id=\"stopword\" style=\"text-decoration: none; cursor: help;\" title=\"Words that contribute little semantic information to a text\">stopwords</a>**.\n",
    "\n",
    "For this presentation, we will use **<a id=\"token\" style=\"text-decoration: none; cursor: help;\" title=\"Combinations of characters separated by spaces (e.g., words, numbers)\">tokens</a>** that are not punctuation nor stopwords.\n",
    "\n",
    "Let's quickly define some functions we will use to pare our text data down."
   ]
  },
  {
   "cell_type": "code",
   "execution_count": 417,
   "metadata": {},
   "outputs": [],
   "source": [
    "stopwords_ = stopwords.words('english')\n",
    "\n",
    "def is_stopword(token):\n",
    "    ''' Check if a specified token is a stopword. '''\n",
    "    try:\n",
    "        return token.lower() in stopwords_\n",
    "    except:\n",
    "        return False\n",
    "\n",
    "def is_valid_token(token):\n",
    "    ''' Check if token is valid, i.e., not a stopword or punctuation '''\n",
    "    try:\n",
    "        return token.isalnum() & ~is_stopword(token)\n",
    "    except:\n",
    "        return False\n",
    "\n",
    "def subsample(vocabulary, probs=PROBS, sample_rate=0.001):\n",
    "    ''' Return the indices of words to be excluded '''\n",
    "    p_keep = (np.sqrt(probs / sample_rate) + 1) * sample_rate / probs\n",
    "    p_keep[p_keep >= 1] = 1\n",
    "    return p_keep\n",
    "    "
   ]
  },
  {
   "cell_type": "markdown",
   "metadata": {},
   "source": [
    "##### First Normalization Step\n",
    "Next, we create our `raw_text` data using the functions we just defined."
   ]
  },
  {
   "cell_type": "markdown",
   "metadata": {},
   "source": [
    "###### Subsampling\n",
    "\n",
    "Remove overly frequent words that may not contribute much to vector meanings (e.g., the). First, generate a list of frequent words with a low probability of keeping them (e.g., $P_{keep}(w_i) < 0.75$)"
   ]
  },
  {
   "cell_type": "code",
   "execution_count": 424,
   "metadata": {},
   "outputs": [],
   "source": [
    "p_keep = subsample(WORDS)\n",
    "exclude = [word.lower() for word in WORDS[p_keep < 0.75]]"
   ]
  },
  {
   "cell_type": "code",
   "execution_count": 425,
   "metadata": {
    "collapsed": true
   },
   "outputs": [
    {
     "data": {
      "text/plain": [
       "['!',\n",
       " '\"',\n",
       " \"'\",\n",
       " ',',\n",
       " '.',\n",
       " ':',\n",
       " ';',\n",
       " '?',\n",
       " 'a',\n",
       " 'and',\n",
       " 'he',\n",
       " 'his',\n",
       " 'i',\n",
       " 'in',\n",
       " 'is',\n",
       " 'little',\n",
       " 'my',\n",
       " 'of',\n",
       " 'on',\n",
       " 's',\n",
       " 'the',\n",
       " 'they',\n",
       " 'to',\n",
       " 'with']"
      ]
     },
     "execution_count": 425,
     "metadata": {},
     "output_type": "execute_result"
    }
   ],
   "source": [
    "exclude"
   ]
  },
  {
   "cell_type": "markdown",
   "metadata": {},
   "source": [
    "Update the sentences with the new `exclude` filter."
   ]
  },
  {
   "cell_type": "code",
   "execution_count": 426,
   "metadata": {},
   "outputs": [
    {
     "name": "stdout",
     "output_type": "stream",
     "text": [
      "Number of sentences: 438\n",
      "CPU times: user 58.5 ms, sys: 5.76 ms, total: 64.3 ms\n",
      "Wall time: 65.5 ms\n"
     ]
    }
   ],
   "source": [
    "%%time\n",
    "sents = [[word.lower() for word in sent if (word.lower() not in exclude) and word.isalnum()] for sent in sents]\n",
    "print(f'Number of sentences: {len(sents):,}')"
   ]
  },
  {
   "cell_type": "markdown",
   "metadata": {},
   "source": [
    "##### Second Normalization Step\n",
    "\n",
    "Using the conversion function defined above, we can convert our `normalized_sents` into `data`, which contains only integers that will be used in our Word2Vec example."
   ]
  },
  {
   "cell_type": "code",
   "execution_count": 427,
   "metadata": {},
   "outputs": [
    {
     "name": "stdout",
     "output_type": "stream",
     "text": [
      "CPU times: user 668 µs, sys: 1.71 ms, total: 2.38 ms\n",
      "Wall time: 2.39 ms\n"
     ]
    }
   ],
   "source": [
    "%%time\n",
    "data = (np.array([VOCAB[token] for token in sent]) for sent in sents)"
   ]
  },
  {
   "cell_type": "markdown",
   "metadata": {},
   "source": [
    "`[insert navigation here]`\n",
    "\n",
    "---\n",
    "\n",
    "Use this reference for later [Dimensions greater than 300 have diminishing returns](https://www.aclweb.org/anthology/D14-1162/)\n",
    "\n",
    "### Quick Background <a id=\"quick_background\"></a>\n",
    "#### Background Into Word2Vec\n",
    "\n",
    "* What is it?\n",
    "  - <p class='content'>Quick definition (implementation of theoretical matrix bit): A method or representing words as numerical vectors, which allow us to improve the efficiency of our models as well as enable us to glean insight on how words behave in a text.</p>\n",
    "  - What is does to text: The Word2Vec model converts words as strings into an array of numbers of n-dimensions by training a shallow neural network and keeping only the trained weights.\n",
    "  - What the output is: The trained weights from the neural network we train are conveniently also act as the word vectors themselves in a matrix format.\n",
    "  \n",
    "* Why do we need it?\n",
    "  - Many uses in AI: Semantic analysis, entity discovery, lexical and lexical relationship analysis, and topic modeling.\n",
    "  - Pros: We can do algebra with words and converting strings to numeric vectors unlocks a host of abilities that we can perform on these numeric vectors.\n",
    "  - Cons: We need a large vocabulary and training can be very time and resources heavy.\n",
    " \n",
    "* What cool things can it do?\n",
    "  - Condense text into a lightweight matrix\n",
    "  - Provide semantic abilities\n",
    "  - Enable data to have algebraic properties\n",
    " \n",
    "* What are competing models?\n",
    "  - Other models to represent text\n",
    "  - GloVe\n",
    "  - Other vectorization models"
   ]
  },
  {
   "cell_type": "markdown",
   "metadata": {},
   "source": [
    "`[insert navigation here]`\n",
    "\n",
    "---\n",
    "## Implementation from Scratch <a id=\"implementation_from_scratch\"></a>\n",
    "\n",
    "For things example, we will create a Word2Vec language model using the data we preprocessed above. \n",
    "\n",
    "In this section, we will develop a **<a id=\"skip-gram\" style=\"text-decoration: none; cursor: help;\" title=\"Using the a token to predict its surroundings\">Skip-gram</a>** flavored Word2Vec model.\n",
    "\n",
    "We will:\n",
    "  * Create Skip-gram windows\n",
    "  * Create preliminary <a id='one-hot' style='text-decoration: none; cursor: help;' title='A vector that is comprised of zeros and ones indicating absence or presence of a value'>one-hot vectors</a>\n",
    "\n",
    "\n",
    "###### Parameters <a id='parameters'></a>\n",
    "First we define some hyperparameters that we use for training."
   ]
  },
  {
   "cell_type": "code",
   "execution_count": 428,
   "metadata": {},
   "outputs": [],
   "source": [
    "parameters = {'window_size' : 2, 'dimensions' : 100, 'learning_rate' : 0.02, 'epochs' : 50}"
   ]
  },
  {
   "cell_type": "markdown",
   "metadata": {},
   "source": [
    "<style>\n",
    "table, td, tr {\n",
    "    border: solid 1px gray;\n",
    "    background: green;\n",
    "}\n",
    "</style>\n",
    "This table quickly describes what each parameter does.\n",
    "\n",
    "Parameters | Data Type | Description\n",
    "--- | :-: | :--\n",
    "`window_size` | `int` | The number of target tokens before and after a central token to include\n",
    "`dimensions` | `int` | The number of dimensions in hidden layer. Dimensions greater than 300 have diminishing returns `[cite]`.\n",
    "`learning_rate` | `float` | How quickly our model will correct itself\n",
    "`epochs` | `int` | The number of rounds the model is trained\n",
    "\n",
    "##### Creating the Training Data <a id=\"creating_the_training_data\"></a>\n",
    "\n",
    "We will generate loose <a id='one-hot' style='text-decoration: none; cursor: help;' title='A vector that is comprised of zeros and ones indicating absence or presence of a value'>one-hot vectors</a> that will serve as input and target data when training our model.\n",
    "\n",
    "First we filter our data to ensure we have sufficient data to window."
   ]
  },
  {
   "cell_type": "code",
   "execution_count": 429,
   "metadata": {},
   "outputs": [
    {
     "name": "stdout",
     "output_type": "stream",
     "text": [
      "Number of sentences in data: 352\n",
      "CPU times: user 3.97 ms, sys: 965 µs, total: 4.93 ms\n",
      "Wall time: 4.86 ms\n"
     ]
    }
   ],
   "source": [
    "%%time\n",
    "data = [sent for sent in data if sent.size >= parameters['window_size'] + 2]\n",
    "\n",
    "print(f'Number of sentences in data: {len(data)}')"
   ]
  },
  {
   "cell_type": "markdown",
   "metadata": {},
   "source": [
    "Now, we generate our one hot vectors using the `VOCAB` as a model for our vector.\n",
    "\n",
    "Let's define a few functions to help use generate these data."
   ]
  },
  {
   "cell_type": "code",
   "execution_count": 430,
   "metadata": {},
   "outputs": [],
   "source": [
    "Datum = namedtuple('Datum', 'target context'.split())\n",
    "\n",
    "def one_hot(token, size=WORDS.size):\n",
    "    ''' Convert an input token into an integer according to a specified reference '''\n",
    "    vector = np.zeros((size, 1))\n",
    "    vector[token] = 1\n",
    "    return vector\n",
    "\n",
    "def generate_examples(data, examples=[], size=parameters['window_size']):\n",
    "    ''' Create a example data with the structure [(context, targets), ...] '''\n",
    "    for i, sentence in tqdm(enumerate(data), desc='Generating examples', total=len(data)):\n",
    "        for j, token in enumerate(sentence):\n",
    "            before = max(j - size, 0)\n",
    "            after = j + size\n",
    "            skip = j + 1\n",
    "\n",
    "            context = one_hot(sentence[j])\n",
    "            targets = np.append(sentence[before:j], sentence[skip:after])\n",
    "            \n",
    "            _targets = []\n",
    "        \n",
    "            for target in targets:\n",
    "                _targets.append(one_hot(target))\n",
    "                \n",
    "            examples.append((context, _targets))\n",
    "    \n",
    "    return examples"
   ]
  },
  {
   "cell_type": "markdown",
   "metadata": {},
   "source": [
    "Loop through all the sentences to generate `target` and `context` data for training.\n",
    "<p class='attention'>Processing time may vary </p>"
   ]
  },
  {
   "cell_type": "code",
   "execution_count": 431,
   "metadata": {},
   "outputs": [
    {
     "data": {
      "application/vnd.jupyter.widget-view+json": {
       "model_id": "c71cdca04d1e4049a22b357f8977c0e9",
       "version_major": 2,
       "version_minor": 0
      },
      "text/plain": [
       "HBox(children=(FloatProgress(value=0.0, description='Generating examples', max=352.0, style=ProgressStyle(desc…"
      ]
     },
     "metadata": {},
     "output_type": "display_data"
    },
    {
     "name": "stdout",
     "output_type": "stream",
     "text": [
      "\n",
      "4848 examples\n"
     ]
    }
   ],
   "source": [
    "examples = generate_examples(data)\n",
    "print(f'{len(examples)} examples')"
   ]
  },
  {
   "cell_type": "markdown",
   "metadata": {},
   "source": [
    "`[insert navigation here]`\n",
    "\n",
    "---\n",
    "\n",
    "<p class='tip'>New Section</p>\n",
    "\n",
    "### Create Layers <a id='create_layers'></a>\n",
    "\n",
    "These matrices will serve as the layers that surround our `word2vec` layer during training."
   ]
  },
  {
   "cell_type": "code",
   "execution_count": 459,
   "metadata": {},
   "outputs": [
    {
     "name": "stdout",
     "output_type": "stream",
     "text": [
      "Dimensions\n",
      "Weights 1 (1535, 100)\n",
      "Weights 2 (1535, 100)\n"
     ]
    }
   ],
   "source": [
    "weights_1 = np.random.random((WORDS.size, parameters['dimensions']))\n",
    "weights_2 = np.random.random((WORDS.size, parameters['dimensions']))\n",
    "print(f'Dimensions\\nWeights 1 {weights_1.shape}\\nWeights 2 {weights_2.shape}')"
   ]
  },
  {
   "cell_type": "markdown",
   "metadata": {},
   "source": [
    "`[insert navigation here]`\n",
    "\n",
    "---\n",
    "###### Feed Forward Algorithm\n",
    "\n",
    "The first part of a two part algorithm defining a <a id='learning-step' style='text-decoration: none; cursor: help;' title='A phase where training data are learned and errors are adjusted throughout the model'>learning step</a>. This algorithm introduces our randomly initialized model to its first evidence of real data to learn from. It then predicts a surrounding vocabulary item from it."
   ]
  },
  {
   "cell_type": "code",
   "execution_count": 460,
   "metadata": {},
   "outputs": [],
   "source": [
    "def forward(datum, weights_1=weights_1, weights_2=weights_2):\n",
    "    ''' Return three matrices corresponding to the prediction, hidden layer, and output '''\n",
    "    hidden = np.dot(weights_1.T, datum)\n",
    "    output = np.dot(weights_2, hidden)\n",
    "    prediction = softmax(output)\n",
    "    return prediction, hidden, output\n",
    "\n",
    "def softmax(datum):\n",
    "    ''' Return the an array normalized to a probability '''\n",
    "    e = np.exp(datum - datum.max())\n",
    "    return e / e.sum()\n",
    "\n",
    "def calculate_loss(datum, prediction):\n",
    "    ''' Calculate the cross entropy for the output of a forward pass '''\n",
    "    dimensions = prediction.shape[1]\n",
    "    inner_sum = np.sum(datum * np.log(prediction), axis=0, keepdims=1)\n",
    "    outer_sum = np.sum(inner_sum, axis=1)\n",
    "    return - (1 / dimensions) * outer_sum"
   ]
  },
  {
   "cell_type": "markdown",
   "metadata": {},
   "source": [
    "<p class='warning'>Old functions</p>"
   ]
  },
  {
   "cell_type": "code",
   "execution_count": 461,
   "metadata": {},
   "outputs": [],
   "source": [
    "def calculate_error(prediction, context):\n",
    "    ''' Return a weights with the summed prediction error '''\n",
    "    error = np.zeros((prediction.size, 1))\n",
    "    for subcontext in context:\n",
    "        for token in subcontext:\n",
    "            error += prediction - token\n",
    "    return error\n",
    "\n",
    "# def negative_sample(targets, n=5, index=INDEX, probs=PROBS):\n",
    "#     ''' Return an array of randomly sampled tokens to be updated '''\n",
    "#     positives = np.sum(targets, axis=0).flatten() >= 1\n",
    "#     negatives = ~positives\n",
    "#     sample = index[negatives]\n",
    "#     p = probs[negatives] / probs[negatives].sum()\n",
    "#     return np.random.choice(sample, n, p=p)\n",
    "\n",
    "def backpropagate(prediction, hidden, target, context, weights_1=weights_1, weights_2=weights_2, index=INDEX):\n",
    "    ''' Update weight matrices according to output from forward() '''\n",
    "    error = calculate_error(prediction, context)\n",
    "    \n",
    "    weights_2_delta = np.outer(error, hidden)\n",
    "    hidden_error = np.dot(weights_2.T, error)\n",
    "    weights_1_delta = np.outer(hidden_error, target).T\n",
    "    \n",
    "    weights_1 -= weights_1_delta * parameters['learning_rate']\n",
    "    weights_2 -= weights_2_delta * parameters['learning_rate']\n",
    "    \n",
    "# def backprop(prediction, hidden, context, targets, n=20, w1=weights_1, w2=weights_2):\n",
    "#     error = calculate_error(prediction, targets)\n",
    "#     sample = negative_sample(targets, n)\n",
    "#     context_i = INDEX[context.flatten() >= 1]\n",
    "    \n",
    "#     sample = np.append(context_i, sample)\n",
    "\n",
    "#     w1_delta = np.outer(error[sample], hidden)\n",
    "#     h_delta = np.dot(w2.T, error)\n",
    "#     w2_delta = np.outer(h_delta, context[sample]).T\n",
    "    \n",
    "#     weights_1[sample] -= w1_delta * parameters['learning_rate']\n",
    "#     weights_2[sample] -= w2_delta * parameters['learning_rate']\n",
    "    "
   ]
  },
  {
   "cell_type": "markdown",
   "metadata": {},
   "source": [
    "`[insert navigation here]`\n",
    "\n",
    "---\n",
    "##### Training Algorithm\n",
    "\n",
    "Having both the feed forward and backpropagation algorithms defined, we can now define a training algorithm to learn all training examples for a single <a id='epoch' style='text-decoration: none; cursor: help;' title='A complete cycle of learning steps through all training data'>epoch</a>."
   ]
  },
  {
   "cell_type": "code",
   "execution_count": 462,
   "metadata": {},
   "outputs": [],
   "source": [
    "def train(examples, weights_1=weights_1, weights_2=weights_2, parameters=parameters, total=WORDS.size):\n",
    "    ''' Train the Word2Vec model on our training data to generate meaningful word vectors '''\n",
    "    \n",
    "    epochs = trange(parameters['epochs'], desc=\"Epoch\")\n",
    "    loss = []\n",
    "\n",
    "    for epoch in epochs:\n",
    "        data = tqdm(examples, desc=f'Epoch {epoch}', leave=False)\n",
    "        for context, targets in data:\n",
    "            prediction, hidden, output = forward(context)\n",
    "            backpropagate(prediction, hidden, context, targets)\n",
    "            loss.append(calculate_loss(context, prediction))\n",
    "    return loss"
   ]
  },
  {
   "cell_type": "markdown",
   "metadata": {},
   "source": [
    "`[insert navigation here]`\n",
    "\n",
    "---\n",
    "###### Test Iteration <a id='test_iteration'></a>\n",
    "\n",
    "This cell loops through all our training data to demonstrate what happens in one training <a id='epoch' style='text-decoration: none; cursor: help;' title='A complete cycle of learning steps through all training data'>epoch</a>.\n",
    "\n",
    "<p class='warning'>Processing time may vary</p>"
   ]
  },
  {
   "cell_type": "code",
   "execution_count": 463,
   "metadata": {},
   "outputs": [
    {
     "data": {
      "application/vnd.jupyter.widget-view+json": {
       "model_id": "6d57dff9d2044dfa9420a48187280fa7",
       "version_major": 2,
       "version_minor": 0
      },
      "text/plain": [
       "HBox(children=(FloatProgress(value=0.0, description='Epoch', max=1.0, style=ProgressStyle(description_width='i…"
      ]
     },
     "metadata": {},
     "output_type": "display_data"
    },
    {
     "data": {
      "application/vnd.jupyter.widget-view+json": {
       "model_id": "a8f7708304a14b1aaf0c1fe59b9a197b",
       "version_major": 2,
       "version_minor": 0
      },
      "text/plain": [
       "HBox(children=(FloatProgress(value=0.0, description='Epoch 0', max=4848.0, style=ProgressStyle(description_wid…"
      ]
     },
     "metadata": {},
     "output_type": "display_data"
    },
    {
     "name": "stderr",
     "output_type": "stream",
     "text": [
      "/Applications/anaconda/lib/python3.6/site-packages/ipykernel_launcher.py:16: RuntimeWarning: divide by zero encountered in log\n",
      "  app.launch_new_instance()\n",
      "/Applications/anaconda/lib/python3.6/site-packages/ipykernel_launcher.py:16: RuntimeWarning: invalid value encountered in multiply\n",
      "  app.launch_new_instance()\n"
     ]
    },
    {
     "ename": "KeyboardInterrupt",
     "evalue": "",
     "output_type": "error",
     "traceback": [
      "\u001b[0;31m---------------------------------------------------------------------------\u001b[0m",
      "\u001b[0;31mKeyboardInterrupt\u001b[0m                         Traceback (most recent call last)",
      "\u001b[0;32m<timed exec>\u001b[0m in \u001b[0;36m<module>\u001b[0;34m\u001b[0m\n",
      "\u001b[0;32m<ipython-input-462-85288459592a>\u001b[0m in \u001b[0;36mtrain\u001b[0;34m(examples, weights_1, weights_2, parameters, total)\u001b[0m\n\u001b[1;32m      9\u001b[0m         \u001b[0;32mfor\u001b[0m \u001b[0mcontext\u001b[0m\u001b[0;34m,\u001b[0m \u001b[0mtargets\u001b[0m \u001b[0;32min\u001b[0m \u001b[0mdata\u001b[0m\u001b[0;34m:\u001b[0m\u001b[0;34m\u001b[0m\u001b[0;34m\u001b[0m\u001b[0m\n\u001b[1;32m     10\u001b[0m             \u001b[0mprediction\u001b[0m\u001b[0;34m,\u001b[0m \u001b[0mhidden\u001b[0m\u001b[0;34m,\u001b[0m \u001b[0moutput\u001b[0m \u001b[0;34m=\u001b[0m \u001b[0mforward\u001b[0m\u001b[0;34m(\u001b[0m\u001b[0mcontext\u001b[0m\u001b[0;34m)\u001b[0m\u001b[0;34m\u001b[0m\u001b[0;34m\u001b[0m\u001b[0m\n\u001b[0;32m---> 11\u001b[0;31m             \u001b[0mbackpropagate\u001b[0m\u001b[0;34m(\u001b[0m\u001b[0mprediction\u001b[0m\u001b[0;34m,\u001b[0m \u001b[0mhidden\u001b[0m\u001b[0;34m,\u001b[0m \u001b[0mcontext\u001b[0m\u001b[0;34m,\u001b[0m \u001b[0mtargets\u001b[0m\u001b[0;34m)\u001b[0m\u001b[0;34m\u001b[0m\u001b[0;34m\u001b[0m\u001b[0m\n\u001b[0m\u001b[1;32m     12\u001b[0m             \u001b[0mloss\u001b[0m\u001b[0;34m.\u001b[0m\u001b[0mappend\u001b[0m\u001b[0;34m(\u001b[0m\u001b[0mcalculate_loss\u001b[0m\u001b[0;34m(\u001b[0m\u001b[0mcontext\u001b[0m\u001b[0;34m,\u001b[0m \u001b[0mprediction\u001b[0m\u001b[0;34m)\u001b[0m\u001b[0;34m)\u001b[0m\u001b[0;34m\u001b[0m\u001b[0;34m\u001b[0m\u001b[0m\n\u001b[1;32m     13\u001b[0m     \u001b[0;32mreturn\u001b[0m \u001b[0mloss\u001b[0m\u001b[0;34m\u001b[0m\u001b[0;34m\u001b[0m\u001b[0m\n",
      "\u001b[0;32m<ipython-input-461-e154ece34817>\u001b[0m in \u001b[0;36mbackpropagate\u001b[0;34m(prediction, hidden, target, context, weights_1, weights_2, index)\u001b[0m\n\u001b[1;32m     17\u001b[0m \u001b[0;32mdef\u001b[0m \u001b[0mbackpropagate\u001b[0m\u001b[0;34m(\u001b[0m\u001b[0mprediction\u001b[0m\u001b[0;34m,\u001b[0m \u001b[0mhidden\u001b[0m\u001b[0;34m,\u001b[0m \u001b[0mtarget\u001b[0m\u001b[0;34m,\u001b[0m \u001b[0mcontext\u001b[0m\u001b[0;34m,\u001b[0m \u001b[0mweights_1\u001b[0m\u001b[0;34m=\u001b[0m\u001b[0mweights_1\u001b[0m\u001b[0;34m,\u001b[0m \u001b[0mweights_2\u001b[0m\u001b[0;34m=\u001b[0m\u001b[0mweights_2\u001b[0m\u001b[0;34m,\u001b[0m \u001b[0mindex\u001b[0m\u001b[0;34m=\u001b[0m\u001b[0mINDEX\u001b[0m\u001b[0;34m)\u001b[0m\u001b[0;34m:\u001b[0m\u001b[0;34m\u001b[0m\u001b[0;34m\u001b[0m\u001b[0m\n\u001b[1;32m     18\u001b[0m     \u001b[0;34m''' Update weight matrices according to output from forward() '''\u001b[0m\u001b[0;34m\u001b[0m\u001b[0;34m\u001b[0m\u001b[0m\n\u001b[0;32m---> 19\u001b[0;31m     \u001b[0merror\u001b[0m \u001b[0;34m=\u001b[0m \u001b[0mcalculate_error\u001b[0m\u001b[0;34m(\u001b[0m\u001b[0mprediction\u001b[0m\u001b[0;34m,\u001b[0m \u001b[0mcontext\u001b[0m\u001b[0;34m)\u001b[0m\u001b[0;34m\u001b[0m\u001b[0;34m\u001b[0m\u001b[0m\n\u001b[0m\u001b[1;32m     20\u001b[0m \u001b[0;34m\u001b[0m\u001b[0m\n\u001b[1;32m     21\u001b[0m     \u001b[0mweights_2_delta\u001b[0m \u001b[0;34m=\u001b[0m \u001b[0mnp\u001b[0m\u001b[0;34m.\u001b[0m\u001b[0mouter\u001b[0m\u001b[0;34m(\u001b[0m\u001b[0merror\u001b[0m\u001b[0;34m,\u001b[0m \u001b[0mhidden\u001b[0m\u001b[0;34m)\u001b[0m\u001b[0;34m\u001b[0m\u001b[0;34m\u001b[0m\u001b[0m\n",
      "\u001b[0;32m<ipython-input-461-e154ece34817>\u001b[0m in \u001b[0;36mcalculate_error\u001b[0;34m(prediction, context)\u001b[0m\n\u001b[1;32m      4\u001b[0m     \u001b[0;32mfor\u001b[0m \u001b[0msubcontext\u001b[0m \u001b[0;32min\u001b[0m \u001b[0mcontext\u001b[0m\u001b[0;34m:\u001b[0m\u001b[0;34m\u001b[0m\u001b[0;34m\u001b[0m\u001b[0m\n\u001b[1;32m      5\u001b[0m         \u001b[0;32mfor\u001b[0m \u001b[0mtoken\u001b[0m \u001b[0;32min\u001b[0m \u001b[0msubcontext\u001b[0m\u001b[0;34m:\u001b[0m\u001b[0;34m\u001b[0m\u001b[0;34m\u001b[0m\u001b[0m\n\u001b[0;32m----> 6\u001b[0;31m             \u001b[0merror\u001b[0m \u001b[0;34m+=\u001b[0m \u001b[0mprediction\u001b[0m \u001b[0;34m-\u001b[0m \u001b[0mtoken\u001b[0m\u001b[0;34m\u001b[0m\u001b[0;34m\u001b[0m\u001b[0m\n\u001b[0m\u001b[1;32m      7\u001b[0m     \u001b[0;32mreturn\u001b[0m \u001b[0merror\u001b[0m\u001b[0;34m\u001b[0m\u001b[0;34m\u001b[0m\u001b[0m\n\u001b[1;32m      8\u001b[0m \u001b[0;34m\u001b[0m\u001b[0m\n",
      "\u001b[0;31mKeyboardInterrupt\u001b[0m: "
     ]
    }
   ],
   "source": [
    "%%time\n",
    "parameters['epochs'] = 1\n",
    "train(examples)"
   ]
  },
  {
   "cell_type": "markdown",
   "metadata": {},
   "source": [
    "##### Looking at Some Examples\n",
    "\n",
    "We define some functions to inspect the output of our model."
   ]
  },
  {
   "cell_type": "code",
   "execution_count": 391,
   "metadata": {},
   "outputs": [],
   "source": [
    "def word_vector(token, model=weights_1):\n",
    "    ''' Return the word vector corresponding to a token '''\n",
    "    return model[token]\n",
    "\n",
    "def similarity(vector1, vector2):\n",
    "    ''' Return the cosine similarity score for two tokens input as vectors '''\n",
    "    if isinstance(vector1, int):\n",
    "        vector1 = word_vector(vector1)\n",
    "        \n",
    "    if isinstance(vector2, int):\n",
    "        vector2 = word_vector(vector2)\n",
    "        \n",
    "    a = np.dot(vector1, vector2)\n",
    "    b = np.dot(vector1, vector1)\n",
    "    c = np.dot(vector2, vector2)\n",
    "    return a / (np.sqrt(b) * np.sqrt(c))"
   ]
  },
  {
   "cell_type": "markdown",
   "metadata": {},
   "source": [
    "We inspect randomly selected words for their similarity score where $similarity \\in [-1,1]$"
   ]
  },
  {
   "cell_type": "code",
   "execution_count": 402,
   "metadata": {},
   "outputs": [
    {
     "name": "stdout",
     "output_type": "stream",
     "text": [
      "ground and such\n"
     ]
    },
    {
     "data": {
      "text/plain": [
       "0.7639746096354518"
      ]
     },
     "execution_count": 402,
     "metadata": {},
     "output_type": "execute_result"
    }
   ],
   "source": [
    "v1 = np.random.randint(0, WORDS.size)\n",
    "v2 = np.random.randint(0, WORDS.size)\n",
    "print(f'{VOCABR[v1]} and {VOCABR[v2]}')\n",
    "similarity(v1, v2)"
   ]
  },
  {
   "cell_type": "code",
   "execution_count": 413,
   "metadata": {},
   "outputs": [
    {
     "data": {
      "text/plain": [
       "211"
      ]
     },
     "execution_count": 413,
     "metadata": {},
     "output_type": "execute_result"
    }
   ],
   "source": [
    "VOCAB['builds']"
   ]
  },
  {
   "cell_type": "code",
   "execution_count": 414,
   "metadata": {},
   "outputs": [
    {
     "name": "stdout",
     "output_type": "stream",
     "text": [
      "builds and built\n"
     ]
    },
    {
     "data": {
      "text/plain": [
       "0.7698266189691662"
      ]
     },
     "execution_count": 414,
     "metadata": {},
     "output_type": "execute_result"
    }
   ],
   "source": [
    "v1 = 211\n",
    "v2 = 212\n",
    "print(f'{VOCABR[v1]} and {VOCABR[v2]}')\n",
    "similarity(v1, v2)"
   ]
  },
  {
   "cell_type": "markdown",
   "metadata": {},
   "source": [
    "Test the current model trained only on a single epoch."
   ]
  },
  {
   "cell_type": "code",
   "execution_count": 355,
   "metadata": {},
   "outputs": [
    {
     "name": "stdout",
     "output_type": "stream",
     "text": [
      "Token number 33 is \"turing\" along with \"the\" with cos score as 0.8672008011186455\n"
     ]
    }
   ],
   "source": [
    "token = np.random.randint(0, WORDS.size)\n",
    "a, b = weights_1[token - 1], weights_1[token]\n",
    "distance = np.dot(a,b) / (np.sqrt(np.dot(a, a)) * np.sqrt(np.dot(b,b)))\n",
    "\n",
    "print(f'Token number {token} is \"{VOCABR[token]}\" along with \"{VOCABR[token-1]}\" with cos score as {distance}')"
   ]
  },
  {
   "cell_type": "code",
   "execution_count": null,
   "metadata": {},
   "outputs": [],
   "source": [
    "# np.savetxt('20200326_blake-poems.csv', weights_1, delimiter=',')"
   ]
  },
  {
   "cell_type": "markdown",
   "metadata": {},
   "source": [
    "`[insert navigation here]`\n",
    "\n",
    "---\n",
    "#### Using Our Trained Model\n",
    "\n",
    "We can use our trained model to `list things we can do with our Word2Vec model from earlier`.\n",
    "\n",
    "First, we define functions to help do those things."
   ]
  },
  {
   "cell_type": "code",
   "execution_count": null,
   "metadata": {},
   "outputs": [],
   "source": [
    "def topn(token, n=3, model=weights_1):\n",
    "    ''' Return the top n tokens and vectors most closely related to input token '''\n",
    "    \n",
    "    similarity_scores, vectors = [], []\n",
    "    token_vector = word_vector(token, model)\n",
    "    \n",
    "    for vector in model:\n",
    "        similarity_scores.append(similarity(token, vector))\n",
    "    \n",
    "    return np.array(similarity_scores)\n",
    "    \n",
    "#     for i, current_vector in enumerate(model):\n",
    "#         score = similarity(token_vector, current_vector)\n",
    "        \n",
    "#         if similarity_scores and similarity_scores[0] < score:\n",
    "#             similarity_scores.insert(0, score)\n",
    "#             vectors.insert(0, i)\n",
    "        "
   ]
  },
  {
   "cell_type": "code",
   "execution_count": null,
   "metadata": {},
   "outputs": [],
   "source": [
    "res = topn(400)"
   ]
  },
  {
   "cell_type": "markdown",
   "metadata": {},
   "source": [
    "Test with algebraic interactions of this "
   ]
  },
  {
   "cell_type": "code",
   "execution_count": null,
   "metadata": {},
   "outputs": [],
   "source": [
    "most_similar(994)"
   ]
  },
  {
   "cell_type": "code",
   "execution_count": null,
   "metadata": {},
   "outputs": [],
   "source": [
    "VOCABR[994], VOCABR[8066]"
   ]
  },
  {
   "cell_type": "code",
   "execution_count": null,
   "metadata": {},
   "outputs": [],
   "source": [
    "similarity(word_vector(343), word_vector(344)), VOCABR[343], VOCABR[344]"
   ]
  },
  {
   "cell_type": "markdown",
   "metadata": {},
   "source": [
    "`[insert navigation here]`\n",
    "\n",
    "---\n",
    "\n",
    "### Visualize Word2Vec\n",
    "\n",
    "We can visualize our word vectors trained using plotting packages like `matplotlib`, `seaborn`, and others. I make use of the `altair` visualization package.\n",
    "\n",
    "<p class='tip'>Preprocessing</p>"
   ]
  },
  {
   "cell_type": "code",
   "execution_count": 356,
   "metadata": {},
   "outputs": [],
   "source": [
    "from sklearn.decomposition import PCA\n",
    "from sklearn.manifold import TSNE\n",
    "from sklearn.preprocessing import StandardScaler"
   ]
  },
  {
   "cell_type": "markdown",
   "metadata": {},
   "source": [
    "Declare preprocessing models."
   ]
  },
  {
   "cell_type": "code",
   "execution_count": 362,
   "metadata": {},
   "outputs": [],
   "source": [
    "pca2 = PCA(n_components=2)\n",
    "pca50 = PCA(n_components=min(50, weights_1.shape[0]))\n",
    "tsne = TSNE(n_components=2, perplexity=100)\n",
    "scale = StandardScaler()"
   ]
  },
  {
   "cell_type": "markdown",
   "metadata": {},
   "source": [
    "Normalize the vector weights so that $\\mu = 0$ and $\\sigma = 1$."
   ]
  },
  {
   "cell_type": "code",
   "execution_count": 363,
   "metadata": {},
   "outputs": [],
   "source": [
    "scaled_data = scale.fit_transform(weights_1)"
   ]
  },
  {
   "cell_type": "markdown",
   "metadata": {},
   "source": [
    "Reduce dimensionality via PCA transform."
   ]
  },
  {
   "cell_type": "code",
   "execution_count": 364,
   "metadata": {},
   "outputs": [],
   "source": [
    "pca_data_2 = pca2.fit_transform(scaled_data)\n",
    "pca_data_50 = pca50.fit_transform(scaled_data)"
   ]
  },
  {
   "cell_type": "markdown",
   "metadata": {},
   "source": [
    "Reduce dimensionality via TSNE transform.\n",
    "\n",
    "<p class='warning'> Results may vary from run to run</p>"
   ]
  },
  {
   "cell_type": "code",
   "execution_count": 365,
   "metadata": {},
   "outputs": [
    {
     "name": "stdout",
     "output_type": "stream",
     "text": [
      "CPU times: user 1.72 s, sys: 179 ms, total: 1.9 s\n",
      "Wall time: 1.42 s\n"
     ]
    }
   ],
   "source": [
    "%%time\n",
    "tsne_data = tsne.fit_transform(pca_data_50)"
   ]
  },
  {
   "cell_type": "code",
   "execution_count": 366,
   "metadata": {},
   "outputs": [
    {
     "ename": "NameError",
     "evalue": "name 'plt' is not defined",
     "output_type": "error",
     "traceback": [
      "\u001b[0;31m---------------------------------------------------------------------------\u001b[0m",
      "\u001b[0;31mNameError\u001b[0m                                 Traceback (most recent call last)",
      "\u001b[0;32m<ipython-input-366-a7530b153205>\u001b[0m in \u001b[0;36m<module>\u001b[0;34m\u001b[0m\n\u001b[0;32m----> 1\u001b[0;31m \u001b[0mplt\u001b[0m\u001b[0;34m.\u001b[0m\u001b[0mscatter\u001b[0m\u001b[0;34m(\u001b[0m\u001b[0mx\u001b[0m\u001b[0;34m=\u001b[0m\u001b[0mtsne_data\u001b[0m\u001b[0;34m[\u001b[0m\u001b[0;34m:\u001b[0m\u001b[0;34m,\u001b[0m\u001b[0;36m0\u001b[0m\u001b[0;34m]\u001b[0m\u001b[0;34m,\u001b[0m \u001b[0my\u001b[0m\u001b[0;34m=\u001b[0m\u001b[0mtsne_data\u001b[0m\u001b[0;34m[\u001b[0m\u001b[0;34m:\u001b[0m\u001b[0;34m,\u001b[0m\u001b[0;36m1\u001b[0m\u001b[0;34m]\u001b[0m\u001b[0;34m)\u001b[0m\u001b[0;34m\u001b[0m\u001b[0;34m\u001b[0m\u001b[0m\n\u001b[0m",
      "\u001b[0;31mNameError\u001b[0m: name 'plt' is not defined"
     ]
    }
   ],
   "source": [
    "plt.scatter(x=tsne_data[:,0], y=tsne_data[:,1])"
   ]
  },
  {
   "cell_type": "code",
   "execution_count": null,
   "metadata": {},
   "outputs": [],
   "source": [
    "plt.scatter(x=pca_data[:,0], y=pca_data[:,1])"
   ]
  },
  {
   "cell_type": "markdown",
   "metadata": {},
   "source": [
    "#### Visualization with Altaïr\n",
    "\n",
    "After transforming the high-dimensional data down to 2 and 3 dimensional datasets, we can better visualize what the vectors we trained look like."
   ]
  },
  {
   "cell_type": "code",
   "execution_count": 367,
   "metadata": {},
   "outputs": [],
   "source": [
    "current = tsne_data\n",
    "columns = [f'd{i}' for i in range(current.shape[-1])]\n",
    "index = [f'{VOCABR[i]}' for i in range(current.shape[0])]\n",
    "\n",
    "viz_data = pd.DataFrame(tsne_data, columns=columns, index=index).reset_index()"
   ]
  },
  {
   "cell_type": "code",
   "execution_count": 369,
   "metadata": {},
   "outputs": [],
   "source": [
    "chart = alt.Chart(viz_data)"
   ]
  },
  {
   "cell_type": "code",
   "execution_count": 370,
   "metadata": {},
   "outputs": [
    {
     "data": {
      "application/javascript": [
       "const spec = {\"config\": {\"view\": {\"width\": 400, \"height\": 300}, \"mark\": {\"tooltip\": null}}, \"data\": {\"name\": \"data-a40173adb743c75fc95729da8b427c77\"}, \"mark\": \"point\", \"encoding\": {\"tooltip\": {\"type\": \"nominal\", \"field\": \"index\"}, \"x\": {\"type\": \"quantitative\", \"field\": \"d1\"}, \"y\": {\"type\": \"quantitative\", \"field\": \"d0\"}}, \"$schema\": \"https://vega.github.io/schema/vega-lite/v3.4.0.json\", \"datasets\": {\"data-a40173adb743c75fc95729da8b427c77\": [{\"index\": \"3m\", \"d0\": 51.92217254638672, \"d1\": 105.4508285522461}, {\"index\": \"a\", \"d0\": -53.06382751464844, \"d1\": 22.6287899017334}, {\"index\": \"alan\", \"d0\": -16.51459503173828, \"d1\": 13.365488052368164}, {\"index\": \"all\", \"d0\": -55.04095458984375, \"d1\": -81.9420166015625}, {\"index\": \"and\", \"d0\": -134.53175354003906, \"d1\": 33.27809143066406}, {\"index\": \"at\", \"d0\": -104.33052825927734, \"d1\": 78.47650146484375}, {\"index\": \"best\", \"d0\": -5.178005218505859, \"d1\": -22.415607452392578}, {\"index\": \"but\", \"d0\": -21.68450927734375, \"d1\": 50.791683197021484}, {\"index\": \"dad\", \"d0\": -13.07787036895752, \"d1\": -89.63127899169922}, {\"index\": \"day\", \"d0\": 76.80967712402344, \"d1\": -19.306894302368164}, {\"index\": \"father\", \"d0\": 72.52621459960938, \"d1\": -106.16301727294922}, {\"index\": \"for\", \"d0\": -85.1416015625, \"d1\": -7.766901016235352}, {\"index\": \"friend\", \"d0\": -26.69796371459961, \"d1\": 90.72233581542969}, {\"index\": \"from\", \"d0\": 57.49375534057617, \"d1\": -59.91793441772461}, {\"index\": \"home\", \"d0\": 53.351409912109375, \"d1\": 56.57809829711914}, {\"index\": \"house\", \"d0\": 14.629955291748047, \"d1\": 80.19747161865234}, {\"index\": \"i\", \"d0\": 10.373688697814941, \"d1\": -132.490478515625}, {\"index\": \"in\", \"d0\": -42.569461822509766, \"d1\": -126.50360870361328}, {\"index\": \"is\", \"d0\": 94.12736511230469, \"d1\": 74.70196533203125}, {\"index\": \"live\", \"d0\": 102.3681869506836, \"d1\": -61.10554885864258}, {\"index\": \"lot\", \"d0\": -64.83283233642578, \"d1\": 113.05400085449219}, {\"index\": \"love\", \"d0\": -29.67040252685547, \"d1\": -51.10862731933594}, {\"index\": \"married\", \"d0\": -61.05345153808594, \"d1\": 63.70567321777344}, {\"index\": \"mom\", \"d0\": 29.936758041381836, \"d1\": -92.42787170410156}, {\"index\": \"mother\", \"d0\": 1.1888113021850586, \"d1\": 126.30375671386719}, {\"index\": \"my\", \"d0\": 56.82658767700195, \"d1\": 16.14923667907715}, {\"index\": \"organization\", \"d0\": -93.888427734375, \"d1\": -101.24177551269531}, {\"index\": \"our\", \"d0\": 11.844650268554688, \"d1\": -56.221580505371094}, {\"index\": \"outside\", \"d0\": -91.3095474243164, \"d1\": 32.48880386352539}, {\"index\": \"peter\", \"d0\": -128.34112548828125, \"d1\": -14.544244766235352}, {\"index\": \"sarah\", \"d0\": 16.143226623535156, \"d1\": 41.21773147583008}, {\"index\": \"that\", \"d0\": 37.12351989746094, \"d1\": -26.345333099365234}, {\"index\": \"the\", \"d0\": 97.87140655517578, \"d1\": 28.38912582397461}, {\"index\": \"turing\", \"d0\": 120.88388061523438, \"d1\": -12.149209976196289}, {\"index\": \"where\", \"d0\": -114.38304138183594, \"d1\": -57.75996017456055}, {\"index\": \"who\", \"d0\": -44.62138366699219, \"d1\": -15.219355583190918}, {\"index\": \"work\", \"d0\": 20.441715240478516, \"d1\": 5.59503173828125}, {\"index\": \"works\", \"d0\": -72.5984115600586, \"d1\": -45.341243743896484}]}};\n",
       "const opt = {};\n",
       "const type = \"vega-lite\";\n",
       "const id = \"8709bcdc-d060-43b7-bf05-d903a7248c07\";\n",
       "\n",
       "const output_area = this;\n",
       "\n",
       "require([\"nbextensions/jupyter-vega/index\"], function(vega) {\n",
       "  const target = document.createElement(\"div\");\n",
       "  target.id = id;\n",
       "  target.className = \"vega-embed\";\n",
       "\n",
       "  const style = document.createElement(\"style\");\n",
       "  style.textContent = [\n",
       "    \".vega-embed .error p {\",\n",
       "    \"  color: firebrick;\",\n",
       "    \"  font-size: 14px;\",\n",
       "    \"}\",\n",
       "  ].join(\"\\\\n\");\n",
       "\n",
       "  // element is a jQuery wrapped DOM element inside the output area\n",
       "  // see http://ipython.readthedocs.io/en/stable/api/generated/\\\n",
       "  // IPython.display.html#IPython.display.Javascript.__init__\n",
       "  element[0].appendChild(target);\n",
       "  element[0].appendChild(style);\n",
       "\n",
       "  vega.render(\"#\" + id, spec, type, opt, output_area);\n",
       "}, function (err) {\n",
       "  if (err.requireType !== \"scripterror\") {\n",
       "    throw(err);\n",
       "  }\n",
       "});\n"
      ],
      "text/plain": [
       "<vega.vegalite.VegaLite at 0x115ec6f28>"
      ]
     },
     "metadata": {
      "jupyter-vega": "#8709bcdc-d060-43b7-bf05-d903a7248c07"
     },
     "output_type": "display_data"
    },
    {
     "data": {
      "text/plain": []
     },
     "execution_count": 370,
     "metadata": {},
     "output_type": "execute_result"
    },
    {
     "data": {
      "image/png": "[encoded data removed]"
     },
     "metadata": {
      "jupyter-vega": "#8709bcdc-d060-43b7-bf05-d903a7248c07"
     },
     "output_type": "display_data"
    }
   ],
   "source": [
    "marked = chart.mark_point()\n",
    "marked.encode(x='d1:Q', y='d0:Q', tooltip='index')"
   ]
  },
  {
   "cell_type": "code",
   "execution_count": null,
   "metadata": {},
   "outputs": [],
   "source": [
    "viz_data"
   ]
  },
  {
   "cell_type": "markdown",
   "metadata": {},
   "source": [
    "---"
   ]
  },
  {
   "cell_type": "code",
   "execution_count": null,
   "metadata": {},
   "outputs": [],
   "source": [
    "vector.shape, matrix_1.shape"
   ]
  },
  {
   "cell_type": "code",
   "execution_count": null,
   "metadata": {},
   "outputs": [],
   "source": [
    "pred, h, u = forward(vector, matrix_1, matrix_2)\n",
    "pred.shape, h.shape, u.shape"
   ]
  },
  {
   "cell_type": "code",
   "execution_count": null,
   "metadata": {},
   "outputs": [],
   "source": [
    "VOCABR[vector.argmax()]"
   ]
  },
  {
   "cell_type": "code",
   "execution_count": null,
   "metadata": {},
   "outputs": [],
   "source": [
    "VOCABR[pred.argmax()]"
   ]
  },
  {
   "cell_type": "markdown",
   "metadata": {},
   "source": [
    "## Using an Existing Package\n",
    "\n",
    "There are existing implementations that already exist that allow you to use Word2Vec technology out of the box.\n",
    "\n",
    "Examples of these include:\n",
    "  * SpaCy\n",
    "  * gensim\n",
    "  * ELMo\n",
    "  * fasttext\n",
    " \n",
    " \n",
    "### SpaCy"
   ]
  },
  {
   "cell_type": "code",
   "execution_count": null,
   "metadata": {},
   "outputs": [],
   "source": [
    "nlp = spacy.load('en_core_web_sm')"
   ]
  },
  {
   "cell_type": "code",
   "execution_count": null,
   "metadata": {},
   "outputs": [],
   "source": []
  },
  {
   "cell_type": "code",
   "execution_count": null,
   "metadata": {},
   "outputs": [],
   "source": []
  }
 ],
 "metadata": {
  "kernelspec": {
   "display_name": "Python 3",
   "language": "python",
   "name": "python3"
  },
  "language_info": {
   "codemirror_mode": {
    "name": "ipython",
    "version": 3
   },
   "file_extension": ".py",
   "mimetype": "text/x-python",
   "name": "python",
   "nbconvert_exporter": "python",
   "pygments_lexer": "ipython3",
   "version": "3.6.9"
  }
 },
 "nbformat": 4,
 "nbformat_minor": 2
}
