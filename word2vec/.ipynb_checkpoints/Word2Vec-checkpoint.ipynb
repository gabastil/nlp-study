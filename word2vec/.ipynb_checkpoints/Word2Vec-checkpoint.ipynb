{
 "cells": [
  {
   "cell_type": "markdown",
   "metadata": {},
   "source": [
    "# Presentation on Word2Vec\n",
    "\n",
    "--- \n",
    "Glenn Abastillas | 24 March, 2020\n",
    "\n",
    "<link rel=\"stylesheet\" href=\"./css/style.css\" type=\"text/css\" />\n",
    "<img src=\"./images/splash_image.png\" style=\"height: 50%; width: 50%; float: right; margin-left: 2em;\" />\n",
    "\n",
    "This notebook goes over an example implementation of Word2Vec and some existing packages that perform Word2Vec training.\n",
    "\n",
    "Contents\n",
    "  1.  Preliminary Steps\n",
    "      * [Load Packages](#load_packages)\n",
    "      * [Preprocess Data](#preprocess_data)\n",
    "      * [Quick Background](#quick_background)\n",
    "  2. [Implementation from Scratch](#implementation_from_scratch)\n",
    "      * Word2Vec Flavors: Continuous Back of Words (CBOW) / Skip Grams (SG)\n",
    "      * Training\n",
    "      * Retrieving the trained matrix\n",
    "      * Applications\n",
    "  3. Using an Existing Package\n",
    "\n",
    "---\n",
    "\n",
    "### Load Packages <a id=\"load_packages\"></a>\n",
    "First we import packages and clean the data."
   ]
  },
  {
   "cell_type": "code",
   "execution_count": 1,
   "metadata": {},
   "outputs": [],
   "source": [
    "import numpy as np\n",
    "import spacy\n",
    "from tqdm.notebook import trange, tqdm\n",
    "\n",
    "import pandas as pd\n",
    "import altair as alt\n",
    "import matplotlib.pyplot as plt\n",
    "\n",
    "from string import punctuation\n",
    "from nltk.corpus import brown, gutenberg, stopwords\n",
    "from collections import namedtuple\n",
    "from sklearn.decomposition import PCA\n",
    "from sklearn.preprocessing import StandardScaler\n",
    "from sklearn.manifold import TSNE\n",
    "\n",
    "from IPython.core.display import HTML\n",
    "\n",
    "HTML('./style/style.html')\n",
    "alt.renderers.enable('notebook')\n",
    "corpus = brown"
   ]
  },
  {
   "cell_type": "markdown",
   "metadata": {},
   "source": [
    "We will use data from the `gutenberg` corpus and normalize the input data."
   ]
  },
  {
   "cell_type": "code",
   "execution_count": 2,
   "metadata": {},
   "outputs": [
    {
     "name": "stdout",
     "output_type": "stream",
     "text": [
      "Number of sentences: 131\n",
      "Number of words: 2,332\n"
     ]
    }
   ],
   "source": [
    "title = 'cp01'\n",
    "sents = corpus.sents(title)\n",
    "words = corpus.words(title)\n",
    "\n",
    "print(f'Number of sentences: {len(sents):,}')\n",
    "print(f'Number of words: {len(words):,}')"
   ]
  },
  {
   "cell_type": "markdown",
   "metadata": {},
   "source": [
    "Generate word encodings and word probabilities."
   ]
  },
  {
   "cell_type": "code",
   "execution_count": 3,
   "metadata": {},
   "outputs": [],
   "source": [
    "words = [word.lower() for word in words]\n",
    "\n",
    "WORDS, COUNTS = np.unique(words, return_counts=True)\n",
    "\n",
    "PROBS = COUNTS**0.75 / (COUNTS**0.75).sum()\n",
    "\n",
    "INDEX = np.arange(WORDS.size)\n",
    "\n",
    "VOCAB = dict(zip(WORDS, INDEX))\n",
    "VOCABR = dict(zip(INDEX, WORDS))"
   ]
  },
  {
   "cell_type": "markdown",
   "metadata": {},
   "source": [
    "---\n",
    "##### Visual Inspection\n",
    "\n",
    "A quick look into our corpus reveals that the most frequent sentences in our corpus are 3, 16, and 10 tokens long."
   ]
  },
  {
   "cell_type": "code",
   "execution_count": 4,
   "metadata": {},
   "outputs": [],
   "source": [
    "lengths = [len(sent) for sent in sents]\n",
    "lengths_data = pd.DataFrame(lengths, columns=['Sentence Length'])\n",
    "lengths_data = lengths_data['Sentence Length'].value_counts()"
   ]
  },
  {
   "cell_type": "markdown",
   "metadata": {},
   "source": [
    "Let's visualize the counts of sentence length."
   ]
  },
  {
   "cell_type": "code",
   "execution_count": 5,
   "metadata": {},
   "outputs": [
    {
     "data": {
      "text/plain": [
       "Text(0, 0.5, 'Counts')"
      ]
     },
     "execution_count": 5,
     "metadata": {},
     "output_type": "execute_result"
    },
    {
     "data": {
      "image/png": "[encoded data removed]",
      "text/plain": [
       "<Figure size 1440x360 with 1 Axes>"
      ]
     },
     "metadata": {
      "needs_background": "light"
     },
     "output_type": "display_data"
    }
   ],
   "source": [
    "params = {'kind' : 'bar', 'figsize' : (20, 5), 'title' : f'Tally of Sentence Lengths'}\n",
    "ax = lengths_data.plot(**params)\n",
    "ax.set_xlabel('Number of tokens in a sentence')\n",
    "ax.set_ylabel('Counts')"
   ]
  },
  {
   "cell_type": "markdown",
   "metadata": {},
   "source": [
    "---\n",
    "\n",
    "##### Preprocessing the Text\n",
    "\n",
    "Next we preprocess the text to get rid of overly frequent words (e.g., `the`) and stopwords (e.g., `and`, `but`). \n",
    "\n",
    "\\[INSERT IMAGE HERE OF CROSSED OUT STOPWORDS\\]\n",
    "\n",
    "These functions help us do that filtering."
   ]
  },
  {
   "cell_type": "code",
   "execution_count": null,
   "metadata": {},
   "outputs": [],
   "source": [
    "stopwords_ = stopwords.words('english')\n",
    "\n",
    "def is_stopword(token):\n",
    "    ''' Check if a specified token is a stopword. '''\n",
    "    try:\n",
    "        return token.lower() in stopwords_\n",
    "    except:\n",
    "        return False\n",
    "\n",
    "def is_valid_token(token):\n",
    "    ''' Check if token is valid, i.e., not a stopword or punctuation '''\n",
    "    try:\n",
    "        return token.isalnum() & ~is_stopword(token)\n",
    "    except:\n",
    "        return False\n",
    "\n",
    "def subsample(vocabulary, probs=PROBS, sample_rate=0.001):\n",
    "    ''' Return the indices of words to be excluded '''\n",
    "    p_keep = (np.sqrt(probs / sample_rate) + 1) * sample_rate / probs\n",
    "    p_keep[p_keep >= 1] = 1\n",
    "    return p_keep\n",
    "    "
   ]
  },
  {
   "cell_type": "markdown",
   "metadata": {},
   "source": [
    "##### First Normalization Step\n",
    "Next, we create our `raw_text` data using the functions we just defined."
   ]
  },
  {
   "cell_type": "markdown",
   "metadata": {},
   "source": [
    "###### Subsampling\n",
    "\n",
    "Remove overly frequent words that may not contribute much to vector meanings (e.g., the). First, generate a list of frequent words with a low probability of keeping them (e.g., $P_{keep}(w_i) < 0.75$)\n",
    "\n",
    "<p class='attention banner'>cite this paper</p>"
   ]
  },
  {
   "cell_type": "code",
   "execution_count": null,
   "metadata": {},
   "outputs": [],
   "source": [
    "p_keep = subsample(WORDS)\n",
    "exclude = [word.lower() for word in WORDS[p_keep < 0.75]]"
   ]
  },
  {
   "cell_type": "markdown",
   "metadata": {},
   "source": [
    "Update the sentences with the new `exclude` filter.\n",
    "\n",
    "<p class='attention banner'>Examplain usage of timer?</p>"
   ]
  },
  {
   "cell_type": "code",
   "execution_count": null,
   "metadata": {},
   "outputs": [],
   "source": [
    "%%time\n",
    "sents = [[word.lower() for word in sent if (word.lower() not in exclude) and word.isalnum()] for sent in sents]\n",
    "print(f'Number of sentences: {len(sents):,}')"
   ]
  },
  {
   "cell_type": "markdown",
   "metadata": {},
   "source": [
    "##### Second Normalization Step\n",
    "\n",
    "Using the conversion function defined above, we can convert our `normalized_sents` into `data`, which contains only integers that will be used in our Word2Vec example."
   ]
  },
  {
   "cell_type": "code",
   "execution_count": null,
   "metadata": {},
   "outputs": [],
   "source": [
    "%%time\n",
    "data = (np.array([VOCAB[token] for token in sent]) for sent in sents)"
   ]
  },
  {
   "cell_type": "markdown",
   "metadata": {},
   "source": [
    "`[insert navigation here]`\n",
    "\n",
    "---\n",
    "\n",
    "Use this reference for later [Dimensions greater than 300 have diminishing returns](https://www.aclweb.org/anthology/D14-1162/)\n",
    "\n",
    "## Quick Background <a id=\"quick_background\"></a>\n",
    "\n",
    "<img src=\"./images/splash_image_2.png\" style=\"float: right; height: 40%; width: 40%; margin-left: 2em;\" />\n",
    "\n",
    "<h3>Word2Vec—What is it?</h3>\n",
    "<p class='content'><span class='bold'>Word2Vec</span> is a method of representing words as numerical vectors. This representation allows us to improve model efficiency and endows words with numeric properties that capture semantic relationships in text like the image to the right.</p>\n",
    "<p class='content'>That means that we convert words built from characters to 'words' built from numbers.</p>\n",
    "<p class='example'>$e.g., \"security\" \\Rightarrow [0.1,0.7,0.3,0.9,0.3]$</p>\n",
    "\n",
    "<h3>What are its uses?</h3>\n",
    "<p class='content'>Because of <span class='bold'>Word2Vec</span>'s uncanny ability to capture hidden patterns in large corpora, <span class='bold'>Word2Vec</span> has many uses for information extraction from a large, unknown text. Here's a short list of applications:</p>\n",
    "<p class='content'></p>\n",
    "<p class='content'></p>\n",
    "- Many uses in AI: Semantic analysis, entity discovery, lexical and lexical relationship analysis, and topic modeling.\n",
    "  - Pros: We can do algebra with words and converting strings to numeric vectors unlocks a host of abilities that we can perform on these numeric vectors.\n",
    "  - Cons: We need a large vocabulary and training can be very time and resources heavy.\n",
    " \n",
    " \n",
    "<p class='warning banner'>Add classic image of king - man + woman = queen but as a rebus</p>\n",
    "* What cool things can it do?\n",
    "  - Condense text into a lightweight matrix\n",
    "  - Provide semantic abilities\n",
    "  - Enable data to have algebraic properties\n",
    " \n",
    "* What are competing models?\n",
    "  - Other models to represent text\n",
    "  - GloVe\n",
    "  - Other vectorization models"
   ]
  },
  {
   "cell_type": "markdown",
   "metadata": {},
   "source": [
    "`[insert navigation here]`\n",
    "\n",
    "---\n",
    "## Implementation from Scratch <a id=\"implementation_from_scratch\"></a>\n",
    "\n",
    "For things example, we will create a Word2Vec language model using the data we preprocessed above. \n",
    "\n",
    "In this section, we will develop a **<a id=\"skip-gram\" style=\"text-decoration: none; cursor: help;\" title=\"Using the a token to predict its surroundings\">Skip-gram</a>** flavored Word2Vec model.\n",
    "\n",
    "We will:\n",
    "  * Create Skip-gram windows\n",
    "  * Create preliminary <a id='one-hot' style='text-decoration: none; cursor: help;' title='A vector that is comprised of zeros and ones indicating absence or presence of a value'>one-hot vectors</a>\n",
    "\n",
    "\n",
    "###### Parameters <a id='parameters'></a>\n",
    "First we define some hyperparameters that we use for training."
   ]
  },
  {
   "cell_type": "code",
   "execution_count": null,
   "metadata": {},
   "outputs": [],
   "source": [
    "parameters = {'window_size' : 3, 'dimensions' : 100, 'learning_rate' : 0.01, 'epochs' : 10}"
   ]
  },
  {
   "cell_type": "markdown",
   "metadata": {},
   "source": [
    "<p class='attention banner'>Style this table later and move to before the cell</p>\n",
    "This table quickly describes what each parameter does.\n",
    "\n",
    "Parameters | Data Type | Description\n",
    "--- | :-: | :--\n",
    "`window_size` | `int` | The number of target tokens before and after a central token to include\n",
    "`dimensions` | `int` | The number of dimensions in hidden layer. Dimensions greater than 300 have diminishing returns `[cite]`.\n",
    "`learning_rate` | `float` | How quickly our model will correct itself\n",
    "`epochs` | `int` | The number of rounds the model is trained\n",
    "\n",
    "##### Creating the Training Data <a id=\"creating_the_training_data\"></a>\n",
    "\n",
    "We will generate loose <a id='one-hot' style='text-decoration: none; cursor: help;' title='A vector that is comprised of zeros and ones indicating absence or presence of a value'>one-hot vectors</a> that will serve as input and target data when training our model.\n",
    "\n",
    "First we filter our data to ensure we have sufficient data to window."
   ]
  },
  {
   "cell_type": "code",
   "execution_count": null,
   "metadata": {},
   "outputs": [],
   "source": [
    "%%time\n",
    "data = [sent for sent in data if sent.size >= parameters['window_size'] + 2]\n",
    "\n",
    "print(f'Number of sentences in data: {len(data)}')"
   ]
  },
  {
   "cell_type": "markdown",
   "metadata": {},
   "source": [
    "Now, we generate our one hot vectors using the `VOCAB` as a model for our vector.\n",
    "\n",
    "Let's define a few functions to help use generate these data."
   ]
  },
  {
   "cell_type": "code",
   "execution_count": null,
   "metadata": {},
   "outputs": [],
   "source": [
    "Datum = namedtuple('Datum', 'target context'.split())\n",
    "\n",
    "def one_hot(token, size=WORDS.size):\n",
    "    ''' Convert an input token into an integer according to a specified reference '''\n",
    "    vector = np.zeros((size, 1))\n",
    "    vector[token] = 1\n",
    "    return vector\n",
    "\n",
    "def generate_examples(data, examples=[], size=parameters['window_size']):\n",
    "    ''' Create a example data with the structure [(context, targets), ...] '''\n",
    "    for i, sentence in tqdm(enumerate(data), desc='Generating examples', total=len(data)):\n",
    "        for j, token in enumerate(sentence):\n",
    "            before = max(j - size, 0)\n",
    "            after = j + size\n",
    "            skip = j + 1\n",
    "\n",
    "            context = one_hot(sentence[j])\n",
    "            targets = np.append(sentence[before:j], sentence[skip:after])\n",
    "            \n",
    "            _targets = []\n",
    "        \n",
    "            for target in targets:\n",
    "                _targets.append(one_hot(target))\n",
    "                \n",
    "            examples.append((context, _targets))\n",
    "    \n",
    "    return examples"
   ]
  },
  {
   "cell_type": "markdown",
   "metadata": {},
   "source": [
    "Loop through all the sentences to generate `target` and `context` data for training.\n",
    "<p class='attention'>Processing time may vary </p>"
   ]
  },
  {
   "cell_type": "code",
   "execution_count": null,
   "metadata": {},
   "outputs": [],
   "source": [
    "examples = generate_examples(data)\n",
    "print(f'{len(examples)} examples')"
   ]
  },
  {
   "cell_type": "markdown",
   "metadata": {},
   "source": [
    "`[insert navigation here]`\n",
    "\n",
    "---\n",
    "\n",
    "<p class='tip banner'>New Section</p>\n",
    "\n",
    "### Create Layers <a id='create_layers'></a>\n",
    "\n",
    "These matrices will serve as the layers that surround our `word2vec` layer during training."
   ]
  },
  {
   "cell_type": "code",
   "execution_count": null,
   "metadata": {},
   "outputs": [],
   "source": [
    "w1 = np.random.random((WORDS.size, parameters['dimensions']))\n",
    "w2 = np.random.random((WORDS.size, parameters['dimensions']))\n",
    "print(f'Dimensions\\nWeights 1 {w1.shape}\\nWeights 2 {w2.shape}')"
   ]
  },
  {
   "cell_type": "markdown",
   "metadata": {},
   "source": [
    "`[insert navigation here]`\n",
    "\n",
    "---\n",
    "###### Feed Forward Algorithm\n",
    "\n",
    "The first part of a two part algorithm defining a <a id='learning-step' style='text-decoration: none; cursor: help;' title='A phase where training data are learned and errors are adjusted throughout the model'>learning step</a>. This algorithm introduces our randomly initialized model to its first evidence of real data to learn from. It then predicts a surrounding vocabulary item from it."
   ]
  },
  {
   "cell_type": "code",
   "execution_count": null,
   "metadata": {},
   "outputs": [],
   "source": [
    "def forward(datum, w1=w1, w2=w2):\n",
    "    ''' Return three matrices corresponding to the prediction, hidden layer, and output '''\n",
    "    hidden = w1.T @ datum\n",
    "    output = w2 @ hidden\n",
    "    prediction = softmax(output)\n",
    "    return prediction, hidden, output\n",
    "\n",
    "def softmax(datum):\n",
    "    ''' Return the an array normalized to a probability '''\n",
    "    e = np.exp(datum - datum.max())\n",
    "    e[np.isnan(e)] = 1\n",
    "    return e / e.sum()\n",
    "\n",
    "def calculate_loss(datum, prediction):\n",
    "    ''' Calculate the cross entropy for the output of a forward pass '''\n",
    "    dimensions = prediction.shape[1]\n",
    "    log = np.log(prediction)\n",
    "    log[np.isnan(log) | (log == 0)] = 1\n",
    "    inner_sum = np.sum(datum * log, axis=0, keepdims=1)\n",
    "    outer_sum = np.sum(inner_sum, axis=1)\n",
    "    return - (1 / dimensions) * outer_sum"
   ]
  },
  {
   "cell_type": "code",
   "execution_count": null,
   "metadata": {},
   "outputs": [],
   "source": [
    "self.loss += -np.sum([u[word.index(1)] for word in w_c]) + len(w_c) * np.log(np.sum(np.exp(u)))"
   ]
  },
  {
   "cell_type": "markdown",
   "metadata": {},
   "source": [
    "<p class='warning banner'>Old functions</p>"
   ]
  },
  {
   "cell_type": "code",
   "execution_count": null,
   "metadata": {},
   "outputs": [],
   "source": [
    "def calculate_error(prediction, context):\n",
    "    ''' Return a weights with the summed prediction error '''\n",
    "    error = [np.subtract(prediction, token) for token in context]\n",
    "    return np.sum(error, axis=0)\n",
    "\n",
    "def backpropagate(prediction, hidden, target, context, w1=w1, w2=w2):\n",
    "    ''' Update weight matrices according to output from forward() '''\n",
    "    error = calculate_error(prediction, context)\n",
    "    \n",
    "    w2_delta = np.outer(error, hidden) * parameters['learning_rate']\n",
    "\n",
    "    hidden_error = error.T @ w2\n",
    "    w1_delta = np.outer(target, hidden_error) * parameters['learning_rate']\n",
    "    \n",
    "    w1 -= w1_delta\n",
    "    w2 -= w2_delta"
   ]
  },
  {
   "cell_type": "markdown",
   "metadata": {},
   "source": [
    "`[insert navigation here]`\n",
    "\n",
    "---\n",
    "##### Training Algorithm\n",
    "\n",
    "Having both the feed forward and backpropagation algorithms defined, we can now define a training algorithm to learn all training examples for a single <a id='epoch' style='text-decoration: none; cursor: help;' title='A complete cycle of learning steps through all training data'>epoch</a>."
   ]
  },
  {
   "cell_type": "code",
   "execution_count": null,
   "metadata": {},
   "outputs": [],
   "source": [
    "def train(examples, w1=w1, w2=w2, parameters=parameters, total=WORDS.size):\n",
    "    ''' Train the Word2Vec model on our training data to generate meaningful word vectors '''\n",
    "    \n",
    "    epochs = trange(parameters['epochs'], desc=\"Training\")\n",
    "    total_loss, loss = [], []\n",
    "    predictions = []\n",
    "\n",
    "    for epoch in epochs:\n",
    "        data = tqdm(examples, desc=f'Epoch {epoch}', leave=False)\n",
    "        for context, targets in data:\n",
    "            prediction, hidden, output = forward(context)\n",
    "            backpropagate(prediction, hidden, context, targets)\n",
    "            loss.append(calculate_loss(context, prediction)[0])\n",
    "        total_loss.append(np.mean(loss))\n",
    "    return total_loss"
   ]
  },
  {
   "cell_type": "markdown",
   "metadata": {},
   "source": [
    "`[insert navigation here]`\n",
    "\n",
    "---\n",
    "###### Test Iteration <a id='test_iteration'></a>\n",
    "\n",
    "This cell loops through all our training data to demonstrate what happens in one training <a id='epoch' style='text-decoration: none; cursor: help;' title='A complete cycle of learning steps through all training data'>epoch</a>.\n",
    "\n",
    "<p class='warning banner'>Processing time may vary</p>"
   ]
  },
  {
   "cell_type": "code",
   "execution_count": null,
   "metadata": {},
   "outputs": [],
   "source": [
    "%%time\n",
    "parameters['epochs'] = 30\n",
    "loss = train(examples)"
   ]
  },
  {
   "cell_type": "markdown",
   "metadata": {},
   "source": [
    "##### Plot the Cross-Entropy Loss of the Model"
   ]
  },
  {
   "cell_type": "code",
   "execution_count": null,
   "metadata": {},
   "outputs": [],
   "source": [
    "x_y = (range(len(loss)), loss)\n",
    "ax = plt.plot(*x_y)"
   ]
  },
  {
   "cell_type": "markdown",
   "metadata": {},
   "source": [
    "<p class='tip banner'>Save model with today's date YYYY-MM-DD</p>"
   ]
  },
  {
   "cell_type": "code",
   "execution_count": null,
   "metadata": {},
   "outputs": [],
   "source": [
    "# from datetime import datetime\n",
    "# np.save(f'{datetime.today():%Y%m%d}-model.csv', weights_1)"
   ]
  },
  {
   "cell_type": "markdown",
   "metadata": {},
   "source": [
    "##### Looking at Some Examples\n",
    "\n",
    "We define some functions to inspect the output of our model."
   ]
  },
  {
   "cell_type": "code",
   "execution_count": null,
   "metadata": {},
   "outputs": [],
   "source": [
    "def word_vector(token, model=w1):\n",
    "    ''' Return the word vector corresponding to a token '''\n",
    "    return model[token]\n",
    "\n",
    "def similarity(vector1, vector2):\n",
    "    ''' Return the cosine similarity score for two tokens input as vectors '''\n",
    "    if isinstance(vector1, str):\n",
    "        vector1 = VOCAB[vector1]\n",
    "\n",
    "    if isinstance(vector2, str):\n",
    "        vector2 = VOCAB[vector2]\n",
    "    \n",
    "    if isinstance(vector1, int):\n",
    "        vector1 = word_vector(vector1)\n",
    "        \n",
    "    if isinstance(vector2, int):\n",
    "        vector2 = word_vector(vector2)\n",
    "        \n",
    "    a = np.dot(vector1, vector2)\n",
    "    b = np.dot(vector1, vector1)\n",
    "    c = np.dot(vector2, vector2)\n",
    "    return a / (np.sqrt(b) * np.sqrt(c))"
   ]
  },
  {
   "cell_type": "markdown",
   "metadata": {},
   "source": [
    "We inspect randomly selected words for their similarity score where $similarity \\in [-1,1]$"
   ]
  },
  {
   "cell_type": "code",
   "execution_count": null,
   "metadata": {},
   "outputs": [],
   "source": [
    "v1 = np.random.randint(0, WORDS.size)\n",
    "v2 = np.random.randint(0, WORDS.size)\n",
    "print(f'{VOCABR[v1]} and {VOCABR[v2]}')\n",
    "similarity(v1, v2)"
   ]
  },
  {
   "cell_type": "code",
   "execution_count": null,
   "metadata": {},
   "outputs": [],
   "source": [
    "similarity(392, 393)"
   ]
  },
  {
   "cell_type": "code",
   "execution_count": null,
   "metadata": {},
   "outputs": [],
   "source": [
    "v1 = 'again'\n",
    "v2 = 'against'\n",
    "\n",
    "vocab1 = v1; vocab2 = v2\n",
    "if isinstance(v1, int):\n",
    "    vocab1 = VOCABR[v1]\n",
    "if isinstance(v2, int):\n",
    "    vocab2 = VOCABR[v2]\n",
    "\n",
    "print(f'{vocab1} and {vocab2}')\n",
    "similarity(v1, v2)"
   ]
  },
  {
   "cell_type": "markdown",
   "metadata": {},
   "source": [
    "Test the current model trained only on a single epoch."
   ]
  },
  {
   "cell_type": "code",
   "execution_count": null,
   "metadata": {},
   "outputs": [],
   "source": [
    "token = np.random.randint(0, WORDS.size)\n",
    "a, b = w1[token - 1], w1[token]\n",
    "distance = np.dot(a,b) / (np.sqrt(np.dot(a, a)) * np.sqrt(np.dot(b,b)))\n",
    "\n",
    "print(f'Token number {token} is \"{VOCABR[token]}\" along with \"{VOCABR[token-1]}\" with cos score as {distance}')"
   ]
  },
  {
   "cell_type": "code",
   "execution_count": null,
   "metadata": {},
   "outputs": [],
   "source": [
    "# np.savetxt('20200326_blake-poems.csv', weights_1, delimiter=',')"
   ]
  },
  {
   "cell_type": "markdown",
   "metadata": {},
   "source": [
    "`[insert navigation here]`\n",
    "\n",
    "---\n",
    "#### Using Our Trained Model\n",
    "\n",
    "We can use our trained model to `list things we can do with our Word2Vec model from earlier`.\n",
    "\n",
    "First, we define functions to help do those things."
   ]
  },
  {
   "cell_type": "markdown",
   "metadata": {},
   "source": [
    "Test with algebraic interactions of this "
   ]
  },
  {
   "cell_type": "markdown",
   "metadata": {},
   "source": [
    "`[insert navigation here]`\n",
    "\n",
    "---\n",
    "\n",
    "### Visualize Word2Vec\n",
    "\n",
    "We can visualize our word vectors trained using plotting packages like `matplotlib`, `seaborn`, and others. I make use of the `altair` visualization package.\n",
    "\n",
    "<p class='tip'>Preprocessing</p>"
   ]
  },
  {
   "cell_type": "markdown",
   "metadata": {},
   "source": [
    "Declare preprocessing models."
   ]
  },
  {
   "cell_type": "code",
   "execution_count": null,
   "metadata": {},
   "outputs": [],
   "source": [
    "pca2 = PCA(n_components=2)\n",
    "pca50 = PCA(n_components=min(50, w1.shape[0]))\n",
    "tsne = TSNE(n_components=2, perplexity=100)\n",
    "scale = StandardScaler()"
   ]
  },
  {
   "cell_type": "markdown",
   "metadata": {},
   "source": [
    "Normalize the vector weights so that $\\mu = 0$ and $\\sigma = 1$."
   ]
  },
  {
   "cell_type": "code",
   "execution_count": null,
   "metadata": {},
   "outputs": [],
   "source": [
    "scaled_data = scale.fit_transform(w1)"
   ]
  },
  {
   "cell_type": "markdown",
   "metadata": {},
   "source": [
    "Reduce dimensionality via PCA transform."
   ]
  },
  {
   "cell_type": "code",
   "execution_count": null,
   "metadata": {},
   "outputs": [],
   "source": [
    "pca_data_2 = pca2.fit_transform(scaled_data)\n",
    "pca_data_50 = pca50.fit_transform(scaled_data)"
   ]
  },
  {
   "cell_type": "markdown",
   "metadata": {},
   "source": [
    "Reduce dimensionality via TSNE transform.\n",
    "\n",
    "<p class='warning'> Results may vary from run to run</p>"
   ]
  },
  {
   "cell_type": "code",
   "execution_count": null,
   "metadata": {},
   "outputs": [],
   "source": [
    "%%time\n",
    "tsne_data = tsne.fit_transform(pca_data_50)"
   ]
  },
  {
   "cell_type": "code",
   "execution_count": null,
   "metadata": {},
   "outputs": [],
   "source": [
    "plt.scatter(x=tsne_data[:,0], y=tsne_data[:,1])"
   ]
  },
  {
   "cell_type": "code",
   "execution_count": null,
   "metadata": {},
   "outputs": [],
   "source": [
    "plt.scatter(x=pca_data_2[:,0], y=pca_data_2[:,1])"
   ]
  },
  {
   "cell_type": "markdown",
   "metadata": {},
   "source": [
    "#### Visualization with Altaïr\n",
    "\n",
    "After transforming the high-dimensional data down to 2 and 3 dimensional datasets, we can better visualize what the vectors we trained look like."
   ]
  },
  {
   "cell_type": "code",
   "execution_count": null,
   "metadata": {},
   "outputs": [],
   "source": [
    "current = tsne_data\n",
    "columns = [f'd{i}' for i in range(current.shape[-1])]\n",
    "index = [f'{VOCABR[i]}' for i in range(current.shape[0])]\n",
    "\n",
    "viz_data = pd.DataFrame(tsne_data, columns=columns, index=index).reset_index()"
   ]
  },
  {
   "cell_type": "code",
   "execution_count": null,
   "metadata": {},
   "outputs": [],
   "source": [
    "chart = alt.Chart(viz_data)"
   ]
  },
  {
   "cell_type": "code",
   "execution_count": null,
   "metadata": {},
   "outputs": [],
   "source": [
    "marked = chart.mark_point()\n",
    "marked.encode(x=alt.X('d1:Q', title='Dimension'), y='d0:Q', tooltip='index').interactive(True)"
   ]
  },
  {
   "cell_type": "code",
   "execution_count": null,
   "metadata": {},
   "outputs": [],
   "source": [
    "corpus.sents(title)"
   ]
  },
  {
   "cell_type": "code",
   "execution_count": null,
   "metadata": {},
   "outputs": [],
   "source": [
    "viz_data"
   ]
  },
  {
   "cell_type": "markdown",
   "metadata": {},
   "source": [
    "---"
   ]
  },
  {
   "cell_type": "code",
   "execution_count": null,
   "metadata": {},
   "outputs": [],
   "source": [
    "vector.shape, matrix_1.shape"
   ]
  },
  {
   "cell_type": "code",
   "execution_count": null,
   "metadata": {},
   "outputs": [],
   "source": [
    "pred, h, u = forward(vector, matrix_1, matrix_2)\n",
    "pred.shape, h.shape, u.shape"
   ]
  },
  {
   "cell_type": "code",
   "execution_count": null,
   "metadata": {},
   "outputs": [],
   "source": [
    "VOCABR[vector.argmax()]"
   ]
  },
  {
   "cell_type": "code",
   "execution_count": null,
   "metadata": {},
   "outputs": [],
   "source": [
    "VOCABR[pred.argmax()]"
   ]
  },
  {
   "cell_type": "markdown",
   "metadata": {},
   "source": [
    "## Using an Existing Package\n",
    "\n",
    "There are existing implementations that already exist that allow you to use Word2Vec technology out of the box.\n",
    "\n",
    "Examples of these include:\n",
    "  * SpaCy\n",
    "  * gensim\n",
    "  * ELMo\n",
    "  * fasttext\n",
    " \n",
    " \n",
    "### SpaCy\n",
    "\n",
    "\n",
    "---\n",
    "\n",
    "References\n",
    "[1] Test"
   ]
  },
  {
   "cell_type": "markdown",
   "metadata": {},
   "source": [
    "---"
   ]
  }
 ],
 "metadata": {
  "kernelspec": {
   "display_name": "Python 3",
   "language": "python",
   "name": "python3"
  },
  "language_info": {
   "codemirror_mode": {
    "name": "ipython",
    "version": 3
   },
   "file_extension": ".py",
   "mimetype": "text/x-python",
   "name": "python",
   "nbconvert_exporter": "python",
   "pygments_lexer": "ipython3",
   "version": "3.6.9"
  }
 },
 "nbformat": 4,
 "nbformat_minor": 2
}
