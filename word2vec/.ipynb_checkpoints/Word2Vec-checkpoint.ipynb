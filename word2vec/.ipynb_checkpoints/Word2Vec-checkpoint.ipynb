{
 "cells": [
  {
   "cell_type": "markdown",
   "metadata": {},
   "source": [
    "# Presentation on Word2Vec\n",
    "Glenn Abastillas | 24 March, 2020\n",
    "\n",
    "This notebook goes over an example implementation of Word2Vec and some existing packages that perform Word2Vec training.\n",
    "\n",
    "Contents\n",
    "  1.  Preliminary Steps\n",
    "      * [Load Packages](#load_packages)\n",
    "      * [Preprocess Data](#preprocess_data)\n",
    "      * [Quick Background](#quick_background)\n",
    "  2. [Implementation from Scratch](#implementation_from_scratch)\n",
    "      * Word2Vec Flavors: Continuous Back of Words (CBOW) / Skip Grams (SG)\n",
    "      * Training\n",
    "      * Retrieving the trained matrix\n",
    "  3. Using an Existing Package\n",
    "\n",
    "__At each step, we will also cover other packages that can be used to acheive the same thing (e.g., Countvectorizer)__\n",
    "  \n",
    "---\n",
    "\n",
    "### Load Packages <a id=\"load_packages\"></a>\n",
    "First we import packages and clean the data."
   ]
  },
  {
   "cell_type": "code",
   "execution_count": 1,
   "metadata": {},
   "outputs": [],
   "source": [
    "import numpy as np\n",
    "import spacy\n",
    "import tqdm\n",
    "from string import punctuation\n",
    "from nltk.corpus import gutenberg, stopwords"
   ]
  },
  {
   "cell_type": "markdown",
   "metadata": {},
   "source": [
    "We will use data from the `gutenberg` corpus and normalize the input data."
   ]
  },
  {
   "cell_type": "code",
   "execution_count": 2,
   "metadata": {},
   "outputs": [],
   "source": [
    "sents = gutenberg.sents('melville-moby_dick.txt')"
   ]
  },
  {
   "cell_type": "markdown",
   "metadata": {},
   "source": [
    "`[insert navigation here]`\n",
    "\n",
    "---\n",
    "### Preprocess Data <a id=\"preprocess_data\"></a>\n",
    "##### Normalize Vocabulary\n",
    "\n",
    "To improve processing and richness of our lexical items, we normalize our language data. \n",
    "\n",
    "Normalizing data can involve a variety of tasks depending on the final application of our language model. These tasks including making all words the same case, removing punctuation, and removing **<a id=\"stopword\" style=\"text-decoration: none; cursor: help;\" title=\"Words that contribute little semantic information to a text\">stopwords</a>**.\n",
    "\n",
    "For this presentation, we will use **<a id=\"token\" style=\"text-decoration: none; cursor: help;\" title=\"Combinations of characters separated by spaces (e.g., words, numbers)\">tokens</a>** that are not punctuation nor stopwords.\n",
    "\n",
    "Let's quickly define some functions we will use to pare our text data down."
   ]
  },
  {
   "cell_type": "code",
   "execution_count": 3,
   "metadata": {},
   "outputs": [],
   "source": [
    "stopwords_ = stopwords.words('english')\n",
    "\n",
    "def is_stopword(token):\n",
    "    ''' Check if a specified token is a stopword. \n",
    "    \n",
    "        Parameters\n",
    "        ----------\n",
    "            token (str) : token to check\n",
    "        \n",
    "        Returns\n",
    "        -------\n",
    "            (boolean) True if token is a stopword, else False\n",
    "        \n",
    "        Notes\n",
    "        -----\n",
    "            Input that are not strings will return as False\n",
    "    '''\n",
    "    try:\n",
    "        return token.lower() in stopwords_\n",
    "    except:\n",
    "        return False\n",
    "\n",
    "def is_valid_token(token):\n",
    "    ''' Check if token is valid, i.e., not a stopword or punctuation\n",
    "    \n",
    "        Parameters\n",
    "        ----------\n",
    "            token (str) : token to check\n",
    "        \n",
    "        Returns\n",
    "        -------\n",
    "            (boolean) True if token is a stopword, else False\n",
    "        \n",
    "        Notes\n",
    "        -----\n",
    "            Input that are not strings will return as False\n",
    "    '''\n",
    "    try:\n",
    "        return token.isalnum() & ~is_stopword(token)\n",
    "    except:\n",
    "        return False"
   ]
  },
  {
   "cell_type": "markdown",
   "metadata": {},
   "source": [
    "##### First Normalization Step\n",
    "Next, we create our `raw_text` data using the functions we just defined."
   ]
  },
  {
   "cell_type": "code",
   "execution_count": 11,
   "metadata": {},
   "outputs": [
    {
     "name": "stdout",
     "output_type": "stream",
     "text": [
      "Wall time: 2.45 s\n"
     ]
    }
   ],
   "source": [
    "%%time\n",
    "normalized_sents = [[word.lower() for word in sent if is_valid_token(word)] for sent in sents]"
   ]
  },
  {
   "cell_type": "markdown",
   "metadata": {},
   "source": [
    "With our `normalized_text`, we can create a `dict` to convert the strings into numbers for faster processing down the line."
   ]
  },
  {
   "cell_type": "code",
   "execution_count": 6,
   "metadata": {},
   "outputs": [],
   "source": [
    "flattened_text = [word for sent in normalized_sents for word in sent]\n",
    "\n",
    "VOCAB, INDEX = np.unique(flattened_text, return_index=True)"
   ]
  },
  {
   "cell_type": "markdown",
   "metadata": {},
   "source": [
    "We now define a `to_index` function to convert strings to integers for faster processing."
   ]
  },
  {
   "cell_type": "code",
   "execution_count": 8,
   "metadata": {},
   "outputs": [],
   "source": [
    "def to_index(token, reference=VOCAB):\n",
    "    ''' Convert an input token into an integer according to a specified reference\n",
    "        \n",
    "        Parameters\n",
    "        ----------\n",
    "            token (str) : token to convert to an integer\n",
    "            reference (list, array) : Reference array with unique vocabulary\n",
    "        \n",
    "        Returns\n",
    "        -------\n",
    "            An integer representing the input token's position in the reference object\n",
    "    \n",
    "        Notes\n",
    "        -----\n",
    "            Function assumes input token is already in lower case\n",
    "        \n",
    "    '''\n",
    "    return np.argwhere(reference == token)[0][0]"
   ]
  },
  {
   "cell_type": "markdown",
   "metadata": {},
   "source": [
    "##### Second Normalization Step\n",
    "\n",
    "Using the conversion function defined above, we can convert our `normalized_sents` into `data`, which contains only integers that will be used in our Word2Vec example."
   ]
  },
  {
   "cell_type": "code",
   "execution_count": 29,
   "metadata": {},
   "outputs": [
    {
     "name": "stdout",
     "output_type": "stream",
     "text": [
      "Wall time: 2.96 ms\n"
     ]
    }
   ],
   "source": [
    "%%time\n",
    "data = ([to_index(word) for word in sent] for sent in normalized_sents)"
   ]
  },
  {
   "cell_type": "markdown",
   "metadata": {},
   "source": [
    "`[insert navigation here]`\n",
    "\n",
    "---\n",
    "### Preprocessing Text\n",
    "\n",
    "Use this reference for later [Dimensions greater than 300 have diminishing returns](https://www.aclweb.org/anthology/D14-1162/)\n",
    "\n",
    "### Quick Background <a id=\"quick_background\"></a>\n",
    "#### Background Into Word2Vec\n",
    "\n",
    "* What is it?\n",
    "  - Quick definition (implementation of theoretical matrix bit)\n",
    "  - What is does to text.\n",
    "  - What the output is.\n",
    "  \n",
    "* Why do we need it?\n",
    "  - Many uses in AI.\n",
    "  - Usage in NLP\n",
    "  - Pros\n",
    "  - Cons\n",
    " \n",
    "* What cool things can it do?\n",
    "  - Condense text into a lightweight matrix\n",
    "  - Provide semantic abilities\n",
    "  - Enable data to have algebraic properties\n",
    " \n",
    "* What are competing models?\n",
    "  - Other models to represent text\n",
    "  - GloVe\n",
    "  - Other vectorization models"
   ]
  },
  {
   "cell_type": "markdown",
   "metadata": {},
   "source": [
    "`[insert navigation here]`\n",
    "\n",
    "---\n",
    "## Implementation from Scratch <a id=\"implementation_from_scratch\"></a>\n",
    "\n",
    "For things example, we will create a Word2Vec language model using the data we preprocessed above. \n",
    "\n",
    "In this section, we will develop a **<a id=\"cbow\" style=\"text-decoration: none; cursor: help;\" title=\"Continuous Bag of Words\">CBOW</a>** flavored Word2Vec model.\n",
    "\n",
    "We will:\n",
    "  * Create CBOW windows\n",
    "  * Create preliminary <a id='one-hot' style='text-decoration: none; cursor: help;' title='A vector that is comprised of zeros and ones indicating absence or presence of a value'>one-hot vectors</a>\n",
    "\n",
    "\n",
    "###### Parameters <a id='parameters'></a>\n",
    "First we define some hyperparameters that we use for training."
   ]
  },
  {
   "cell_type": "code",
   "execution_count": 20,
   "metadata": {},
   "outputs": [],
   "source": [
    "parameters = {'window_size' : 2, 'dimensions' : 100, 'learning_rate' : 0.02, 'epochs' : 500}"
   ]
  },
  {
   "cell_type": "markdown",
   "metadata": {},
   "source": [
    "This table quickly describes what each parameter does.\n",
    "\n",
    "Parameters | Data Type | Description\n",
    "--- | :-: | :--\n",
    "`window_size` | `int` | The number of target tokens before and after a central token to include\n",
    "`dimensions` | `int` | The number of dimensions in hidden layer. Dimensions greater than 300 have diminishing returns `[cite]`.\n",
    "`learning_rate` | `float` | How quickly our model will correct itself\n",
    "`epochs` | `int` | The number of rounds the model is trained\n",
    "\n",
    "###### Creating the Training Data <a id=\"creating_the_training_data\"></a>\n",
    "\n",
    "**Windowing** : We will generate loose <a id='one-hot' style='text-decoration: none; cursor: help;' title='A vector that is comprised of zeros and ones indicating absence or presence of a value'>one-hot vectors</a> that will serve as input and target data when training our model.\n",
    "\n",
    "First we filter our data to ensure we have sufficient data to window."
   ]
  },
  {
   "cell_type": "code",
   "execution_count": 30,
   "metadata": {},
   "outputs": [
    {
     "name": "stdout",
     "output_type": "stream",
     "text": [
      "Wall time: 36.7 s\n"
     ]
    }
   ],
   "source": [
    "%%time\n",
    "data = [sent for sent in data if len(sent) >= parameters['window_size'] + 1]"
   ]
  },
  {
   "cell_type": "markdown",
   "metadata": {},
   "source": [
    "Now, we generate our one hot vectors using the `VOCAB` as a model for our vector."
   ]
  },
  {
   "cell_type": "code",
   "execution_count": 31,
   "metadata": {},
   "outputs": [
    {
     "name": "stdout",
     "output_type": "stream",
     "text": [
      "[9521, 4196, 7041, 9312, 82]\n",
      "[14536, 8513, 3264, 16057, 6540, 12817]\n",
      "[10464, 16057, 15016, 2852, 6941, 1739, 1870, 12963]\n",
      "[5183, 4684, 10185, 8669, 6541, 11748, 6790, 9528, 4876, 6286, 5758, 8398, 9831, 16856]\n",
      "[8907, 4683, 10185, 6541, 13728, 9412, 12137, 9629]\n",
      "[14746, 6782, 12817, 10298, 14832, 9795, 16587, 5724, 2193, 15197, 8598, 7428, 8652, 6718, 574, 577, 9053, 13348, 16843, 3977, 15446]\n",
      "[682, 9796, 12555, 12513, 3780]\n",
      "[7365, 846, 16131]\n",
      "[16397, 16409, 7383, 12510, 16400]\n",
      "[16686, 676, 12769]\n",
      "[10695, 10027, 10027, 5594]\n",
      "[10695, 10027, 10027, 5108]\n",
      "[5382, 14536, 14357, 14357, 8683]\n",
      "[12976, 9343, 10451, 2113, 6671, 16859, 11162, 4162, 14357, 14357, 788, 6497, 8850, 16128, 14263, 14042, 4715, 10886, 16607, 11861, 570, 16597, 3443, 754, 5693, 1772, 16608, 12642, 11477]\n",
      "[14948, 9751, 5187, 2339, 8593, 14746, 7075, 10908, 16587, 14088, 7280, 1083, 5382, 16176, 6514, 2452]\n",
      "[15254, 663, 1091, 6306, 16571, 11104, 787, 5382, 13703, 16103, 5037, 436, 6402, 1578, 5395, 16234, 11519, 12664, 15002, 5477, 14489, 8663, 9125, 9831, 6308, 7611]\n",
      "[5490, 14939, 16571, 11162, 4162, 14357, 14357, 16693, 2981]\n",
      "[15000, 1465, 7217, 12688, 15395, 16748, 16856, 5183, 16443, 5175, 10464, 13187, 16875, 12541, 14302, 10206, 13731, 8913, 13412, 5587, 11162, 4163, 6662, 3361, 16030, 14841, 12770, 1709, 6153, 5401, 4919, 6408, 598, 15875, 12652, 6387, 14357, 14379]\n",
      "[9697, 10450, 16942, 14746, 11049, 16856, 9697, 13122, 16942, 5183, 6468, 14934]\n",
      "[16875, 3443, 2748, 6779, 3480, 15479, 16942]\n",
      "[6703, 14841, 7070, 576, 12574, 9200, 6950, 6103, 6497, 2752, 13082, 14209, 6963, 9054, 12046, 8850, 10486, 6202, 9384, 11871, 2967]\n",
      "[16942, 14281, 13924, 6950, 15168, 16942, 13122, 14281, 15946, 6408]\n",
      "[6480, 3550, 6585, 16597]\n",
      "[8663, 9053, 10614, 13199, 10206, 16875, 14972, 3916, 7133]\n",
      "[8881, 11338, 6585, 5724, 14619, 8222]\n",
      "[6468, 13210, 8663, 15000, 6865, 8996, 11036, 14949]\n",
      "[3836, 8881, 13755, 6585, 14302, 14684, 13122, 11664, 8663, 10903, 13058, 5175, 8663, 3610, 13058, 13122, 13494, 4545, 12912]\n",
      "[14970, 13678, 1505, 2955, 16786, 2485, 9583, 9675, 1356, 1725, 14195, 6485, 7630, 6027, 6585, 14619, 10774, 1810, 6698, 10628]\n",
      "[7163, 11092, 9613]\n",
      "[7667, 12912, 1925, 1556, 5731, 621, 16597, 16655, 2193, 1188, 14746, 9697, 8632, 6039, 314, 894, 8456]\n",
      "[12792, 11453, 15549, 3839, 12912, 14495, 6585, 9125, 16597, 9584, 12912, 786]\n",
      "[621, 5995, 10206, 9585, 13427]\n",
      "[2206, 15261, 16048, 10217, 9676, 11842, 16498, 13328, 1362, 12912, 5876]\n",
      "[16290, 3467, 587, 16234, 2373, 7241, 16597, 1766, 6585, 16104, 14851, 2009, 8348]\n",
      "[1513, 16597, 2370, 3467, 6019, 4802, 5671, 16932, 8850]\n",
      "[12664, 10206, 13421, 8331, 13426, 15549, 3839]\n",
      "[10140, 16165, 9819, 14747, 9675, 8348, 534, 176]\n",
      "[16623, 14971, 16635, 1356, 16196, 5031, 4570, 6698, 9583, 16587, 9675, 7470, 8889, 14620, 12912, 6682, 12333, 6585, 12958, 13506]\n",
      "[764, 11832, 12938]\n",
      "[8649, 16048, 5871, 8649, 16048, 5871]\n",
      "[10185, 9927, 14746, 8663, 4080, 9950, 11549, 9634, 8698, 10616, 8193]\n",
      "[16587, 8795, 15549, 2331]\n",
      "[6585, 8663, 9053, 12926, 12979, 8720, 1744, 10488]\n",
      "[8881, 1167, 16188, 11625]\n",
      "[15254, 9585, 2057, 16587, 10280, 11956, 10004, 2443]\n",
      "[6662, 5228, 5515, 7863, 7640, 11732, 10178, 5380, 10206, 16587]\n",
      "[7121, 8698, 3860]\n",
      "[13785, 14970, 4715, 10543, 8054, 2016]\n",
      "[12953, 13442, 8560, 916, 9640, 1100, 12344, 459, 16877, 16849, 8925, 3812, 4252, 1909, 1922, 12302, 10445, 8720, 16878, 16587, 13243, 5812, 15035, 9036]\n",
      "[7473, 16597, 9645, 16693, 16125, 1735, 10649, 2198, 15434, 10134, 15103, 1741]\n",
      "[13405, 16724, 3830]\n",
      "[13864, 9321, 9400, 8287, 4519, 13380, 8588, 7247, 16847, 14988, 16946, 12676, 10997, 9901, 11767, 13412]\n",
      "[13862, 2450, 13862, 2450, 16587]\n",
      "[16232, 16075, 4699]\n",
      "[8720, 13857, 14767, 9536, 5759, 15023, 12597, 11154, 14742]\n",
      "[5751, 8140, 8760, 13323, 16531, 1153, 6660, 10910, 788]\n",
      "[16398, 1320, 14476, 8089]\n",
      "[916, 3550, 6585, 8663, 2193, 2997, 14083, 8521, 2705, 924, 9076]\n",
      "[10219, 13029, 7135, 8663]\n",
      "[13363, 9118, 14620, 16787, 2575, 13968, 9675, 16587]\n",
      "[12912, 1356, 8663, 6480, 16855, 3550, 7296, 14671, 10134, 14258]\n",
      "[8663, 7296, 8800, 3558, 3916, 14270, 8720, 11526, 13506, 14674, 12975, 9687, 8456, 6373, 4567, 1913, 13962, 12912]\n",
      "[9405, 16597, 14671, 12912, 16486, 12912, 10178, 14673]\n",
      "[6157, 11477, 7171, 14083]\n",
      "[2798, 1429, 11526, 8692, 7293, 8663, 1046, 11398, 6387, 2473, 14619, 6146, 6251, 8147, 9498, 16507]\n",
      "[4640, 705, 9455]\n",
      "[16587, 5828, 14147, 13204, 3726, 6909, 15260, 1725, 9855, 13243, 2949, 489, 15525, 14986, 5593, 16486]\n",
      "[14994, 4764, 14874, 16342, 13915, 11668]\n",
      "[16507, 12765, 9125, 16597, 13943, 10134, 16430, 6198, 16486, 10946, 16160, 9840, 10982, 13256]\n",
      "[13405, 7025, 16342, 947, 452]\n",
      "[12765, 7293, 15426, 16597, 5936, 11452, 6585, 3855, 2393, 5546, 12616, 13204, 16030]\n",
      "[12824, 13425, 2676]\n",
      "[13070, 12665, 4818, 16736, 9787, 4699]\n",
      "[13204, 2193, 8223, 16587]\n",
      "[12770, 16587, 10217, 9675, 5406]\n",
      "[6089, 2777, 9213, 12963, 16635, 12963, 16587, 5723, 4306, 4643, 10450]\n",
      "[15180, 16587, 14747, 9855, 13188, 1275, 7055, 1462]\n",
      "[10206, 6851, 15180, 2385, 16587, 13915, 16672]\n",
      "[16338, 6600, 51, 6856, 2905]\n",
      "[13086, 16597, 2949, 16030, 2849, 5666, 697, 49, 10206, 4805, 5593, 8632, 16587, 1764, 8338, 2206, 7775, 1505, 16125, 11732, 10178, 434, 130, 16564, 1193]\n",
      "[8147, 14051, 6274, 6252, 10970]\n",
      "[13315, 5666, 8354]\n",
      "[487, 15462, 16635, 9202, 8330, 13862, 2450, 16587, 3443, 9912, 6931, 13761, 8331, 9076, 5663, 14670]\n",
      "[12402, 14227, 8652, 1496]\n",
      "[16597, 12912, 6480, 16309, 10064]\n",
      "[9787, 4699, 11410]\n",
      "[12765, 587, 254, 8491, 16597, 13780, 12926, 9243, 12770, 7329, 10206, 9985, 16048]\n",
      "[2275, 3500, 16338, 12548, 6438, 57]\n",
      "[1913, 16587, 6086, 1049, 7891, 13582, 1976, 4363, 1870]\n",
      "[15570, 13778, 614]\n",
      "[5671, 2623, 14694, 13826, 10000, 15456, 7533, 2502, 10835]\n",
      "[10171, 8398, 13082, 5894, 5611, 5434, 14992, 14337, 7208, 882, 12400, 16587]\n",
      "[3023, 8456, 683, 12279, 9024, 14746, 220, 3916, 13122, 5693, 783, 3275, 3026]\n",
      "[16587, 4522, 8495, 682, 3553]\n",
      "[16913, 5406, 8785, 5731, 16875, 9049, 13818, 8720, 6585, 16389]\n",
      "[456, 12765, 14543, 12494, 6029, 3845, 16587, 949, 8331, 15266, 946]\n",
      "[12971, 4947, 3083, 1429, 16587, 10257, 1112, 12976, 16048]\n",
      "[8494, 16597, 12992, 16161, 1034]\n",
      "[14051, 6585, 4568, 12912, 449, 9331, 5175, 9800, 2324, 4668, 8736, 14195, 8274, 16828, 922, 9840, 1728, 10257, 14909, 11392, 9855, 814]\n",
      "[15862, 16327, 15424, 8654, 1232, 13696, 16338, 7391, 59]\n",
      "[13864, 16587, 6029, 9804, 323, 5661, 682, 12234, 16125, 341, 1751, 5728]\n",
      "[14994, 8155, 16587, 9318, 6079, 9446, 62]\n",
      "[11275, 13405, 16856, 5080]\n",
      "[4772, 2103, 12032, 10539, 9801, 16587, 5730]\n",
      "[13795, 6585, 16587, 14240, 13246, 5164]\n",
      "[14893, 1874, 8348, 10263, 12360, 12664, 6655, 3219, 6681, 11576, 12926, 10950, 12487, 12428, 12574, 5724, 16587, 14353]\n",
      "[4806, 15053, 946, 2385, 9855, 2849, 11543, 8348]\n",
      "[13742, 13941, 3860, 3581, 12176, 12504, 15726, 5092, 6909, 14602, 1258, 14126, 5187, 15507, 1051]\n",
      "[1959, 13235, 12526, 4487, 13908, 12498, 1662, 12998, 4604, 6800, 9558, 5707, 893, 16130, 6961]\n",
      "[5707, 16486, 3023, 10134, 13066, 7076, 13956, 16587, 505, 5351, 16005, 8237]\n",
      "[3501, 11744, 16286, 8844]\n",
      "[14874, 5667, 6230, 1683, 15053, 6941, 14298, 7473, 16144]\n",
      "[8200, 7338, 284, 4392, 16587]\n",
      "[13575, 13428, 10206]\n",
      "[756, 16587, 8494, 1791, 9035, 10945, 16486, 16855, 8844, 1950, 16486, 12482, 10577, 10945, 7747, 7522, 16144, 1683, 6716, 16587, 6941]\n",
      "[16587, 9073, 682, 16787, 7093, 5593]\n",
      "[115, 3949, 13778, 12765, 13864, 16597, 14746, 15107, 5723, 9243, 12912, 3490]\n",
      "[2922, 16338, 11680, 5363, 13863, 16587, 5730]\n",
      "[6067, 4830, 1479, 14622, 5840, 4435, 11036, 2455, 1320, 5731, 5187, 2930, 5989, 8338, 8471, 2238, 10452, 9144, 9912, 12976, 4568, 8663, 7844, 9428, 10727, 5187, 16496, 6278, 13225, 7473, 8720, 5828, 8089, 8602, 9777, 7879, 16473, 15280, 12065, 15001, 5187, 13323, 974, 16328, 4964, 16597, 13144, 9584, 880, 6127, 8145, 14685, 12768, 13899, 7231, 7203, 5484]\n",
      "[9588, 16856, 5835]\n",
      "[5705, 10725, 8348]\n",
      "[9402, 16587, 16125, 1025, 5534, 5724, 5842, 12548, 11121, 12912]\n",
      "[2513, 8446, 15415, 16587]\n",
      "[16944, 52, 10805, 7076, 7087, 10103, 16597, 13960, 13943, 10206, 10100, 11108, 12912, 6596, 10600, 2587, 6543, 2587, 6468, 1899]\n",
      "[10060, 8989, 7121, 9801]\n",
      "[2052, 3438, 14593, 8996, 6276, 5989, 6516, 837, 13075, 16587, 8145, 1766]\n",
      "[6902, 15528, 15180, 14752]\n"
     ]
    },
    {
     "name": "stdout",
     "output_type": "stream",
     "text": [
      "[2206, 1510, 9591, 5723, 8906, 8331, 16587, 10419, 10134, 8644, 6019, 16946, 478]\n",
      "[13405, 15144, 12428, 16587, 717, 15185, 12765, 13981, 15028, 10459, 11387, 11836, 2630, 16875, 16769, 8861]\n",
      "[11797, 10178, 2137, 5603]\n",
      "[10514, 2009, 12765, 1495, 6294, 16597, 7997, 14023]\n",
      "[4752, 3345, 6487]\n",
      "[9693, 2455, 9232]\n",
      "[717, 14219, 16587]\n",
      "[9819, 13211, 16587, 13204, 5134, 9801, 1035, 5692, 4132, 8491, 13861, 16587, 10419, 10134]\n",
      "[10403, 2455, 9801, 5723, 9218, 12664, 16196]\n",
      "[9914, 16969, 72]\n",
      "[9144, 12733, 13290, 10206, 9931, 16736, 10947, 6067, 1959, 4242, 9600, 10464, 10863, 6413, 16381, 16587, 5840, 12912]\n",
      "[4846, 10048, 13591]\n",
      "[11732, 8746, 16780, 1728, 4972, 2280, 10206, 16587, 625, 598, 2, 121, 16932, 9860, 13421, 4981, 9415]\n",
      "[13731, 16587, 13119, 15381, 14742, 505, 3511, 8720, 16647, 12278, 4402, 15024, 6039, 9415]\n",
      "[8990, 479, 4961, 6090, 1037, 7776, 13861, 16587, 12515, 11935, 5013, 6909, 16699, 5302, 8147, 13618, 5189, 893, 12624, 1728, 6909, 11537, 16125, 14670, 13731, 16072, 4132]\n",
      "[9232, 6585, 1011, 3219, 6725, 7934, 2985, 11105, 16234, 7533, 682, 13861, 16587, 5044, 9886, 5245, 8785, 3698, 621, 10034, 9125, 3033, 10101, 8513, 16946, 9751, 11210, 255, 3339, 10238, 16792, 6731]\n",
      "[14994, 1342, 7121, 13861, 16587, 77]\n",
      "[2167, 13861, 16587, 1533, 882, 15446, 16587, 6600, 12428, 16587, 11212, 5997, 16520, 4806, 5391, 1739, 587, 6089, 4378, 4382, 4911, 16521, 10155, 9110, 920, 1747, 9468, 8561, 12056, 3788, 1034, 8398, 13830, 16587, 15395]\n",
      "[6066, 3864, 1488, 16602, 16338, 12548, 6438, 78]\n",
      "[1698, 14489, 9200, 6909]\n",
      "[15024, 11110, 8606, 1831, 13405]\n",
      "[9200, 6909, 497]\n",
      "[1135, 1135, 13405]\n",
      "[13223, 13861, 16597]\n",
      "[13388, 5187, 15115]\n",
      "[1135, 1135, 13405]\n",
      "[14936, 1698, 1836, 1713, 10291]\n",
      "[15549, 9415, 6751]\n",
      "[8113, 12539, 2013, 5148, 16602, 3651]\n",
      "[16587, 13204, 6438, 1715, 16196, 10131, 7235, 15316, 12092, 1464, 8087, 9801]\n",
      "[9819, 6438, 8548, 7361, 14592]\n",
      "[11690, 16587, 16878, 10546, 973, 15115, 8451, 6174, 9583, 8632, 12623, 1725, 3080, 11362, 8585, 16486, 12765, 10210, 7723]\n",
      "[9492, 8231, 15552, 1488]\n",
      "[9801, 12664, 9693, 16543, 14283, 10667, 11193, 9830, 7932]\n",
      "[11173, 4802, 9941, 15010, 10805, 8800, 12912, 338, 8492, 5187, 16944, 9830, 16517, 1749, 10793, 7713]\n",
      "[12205, 3790, 16543, 13847, 15563, 13011, 799, 5097, 1908, 9801]\n",
      "[16587, 5601, 4262, 11444, 8331, 9556]\n",
      "[16587, 2279, 16593, 403, 16587, 1575, 6279, 7176, 3644, 2989, 11284]\n",
      "[9049, 8593, 3768, 1588, 9960, 12203, 12705, 13013, 7001]\n",
      "[8698, 12705, 3081, 9763, 2005, 16724, 3081]\n",
      "[715, 16188, 16587, 13204, 6438, 9819]\n",
      "[16342, 4687, 4981, 9983, 10134, 10257, 11217, 4304, 10577, 7664, 15001, 5435, 9035, 10070, 8438, 10217, 6893, 16587]\n",
      "[9254, 2985, 4201]\n",
      "[14971, 11967, 1200, 11949, 1817, 6020, 8552, 10217, 6893, 16587, 16594, 12970, 7682, 7122, 16030, 9914, 2770, 9780, 9982, 16579, 10577]\n",
      "[7542, 9301, 16587, 13204, 10134, 16787, 14308, 9855, 784]\n",
      "[16196, 13247, 12665, 8861, 10332, 9200, 6919, 4701, 12787, 16699, 5306, 893, 15249, 4212, 505, 4972, 12067, 16338]\n",
      "[10677, 16221, 8844, 4856, 9243, 11984, 12976, 8491, 3716, 1766, 13070, 16034, 4715, 4806, 5989, 848, 6277, 5051, 524, 9243, 10760, 15180, 12400, 16597]\n",
      "[14752, 16587, 16340, 856, 10134]\n",
      "[15107, 1728, 12345, 11693, 16597, 16677, 12765, 13204, 1689, 11213, 12756, 5018, 621, 3580]\n",
      "[9920, 284, 14749, 12326, 16587, 13204, 7137]\n",
      "[6306, 16571, 8398, 3581, 16602, 16197, 615, 5183, 12343, 13210, 1715, 4033]\n",
      "[3644, 16587, 1725]\n",
      "[14435, 9405, 9194, 4892, 16486, 13252, 10782, 505]\n",
      "[9458, 2880, 16587, 5727]\n",
      "[16587, 6849, 14553, 1526, 16875, 9077, 11259, 15617, 2935, 9343, 797, 12534, 15090, 12531, 14742]\n",
      "[2492, 16602, 12400, 15444]\n",
      "[10206, 10118, 12765, 15549, 9584, 16597, 11444, 9060, 5607, 13559, 14673, 10206, 16786, 8644, 14195, 15051, 13243, 14900, 3953, 6148, 1391, 15376, 5362, 1875]\n",
      "[3817, 16338, 9837]\n",
      "[5250, 9218, 16030, 15509, 6909, 12765, 4406, 8147, 8491, 13861, 16587, 2798, 6909, 1725, 15022, 7870, 4136, 14147, 8797]\n",
      "[16605, 16587, 8332]\n",
      "[2556, 8436, 8649, 6950, 9912, 5434, 1747, 6850, 14283, 16587]\n",
      "[10176, 11879, 10185, 16587, 9387, 14211, 6216, 10134, 7173, 6359, 9400, 9400, 12428, 8348, 1822, 12912]\n",
      "[16946, 478, 9912, 9436, 8850, 11300, 8785, 9566, 11687, 10004, 10561, 7932, 13243, 15002, 16875, 12665, 8785, 12963, 16494, 10550, 16856]\n",
      "[16507, 4608, 13919, 12070, 2669]\n",
      "[16622, 5693, 6663, 6623, 9675, 16622, 3773, 4609, 10020, 13766, 16622, 5693, 8046, 10635, 2880, 16440, 1977, 11933, 5187, 6168, 9301, 5122, 16622, 7379, 6347, 16031, 6782, 12234, 14302, 9611, 11421, 11392, 3959, 14144, 14263, 9374, 8385, 10725, 6884, 284, 7076, 15115, 6347, 12912, 13742]\n",
      "[14395, 10955, 1200]\n",
      "[10858, 5844, 2379, 15054, 16030, 14684, 11772, 14746, 13204]\n",
      "[8369, 574, 9321, 3948, 15115, 2561, 9860, 5591, 15261, 10134]\n",
      "[7885, 2699, 9092, 1471, 12548, 16606, 7667, 8091, 3389, 12023, 2984, 14581, 14556]\n",
      "[12428, 8612, 14264, 14746, 16493]\n",
      "[5386, 4530, 1319, 9950, 9549, 16467, 16498, 3371, 1931, 7263, 11396, 13336, 8456]\n",
      "[8861, 3629, 16486, 6292]\n",
      "[2671, 2699, 4580, 12635, 456]\n"
     ]
    }
   ],
   "source": [
    "vector = np.zeros(VOCAB.size)\n",
    "\n",
    "for datum in data[:200]:\n",
    "    print(datum)"
   ]
  },
  {
   "cell_type": "markdown",
   "metadata": {},
   "source": [
    "## Using an Existing Package\n",
    "\n",
    "There are existing implementations that already exist that allow you to use Word2Vec technology out of the box. In this section, we look at the Python package `gensim` with an API implementing Word2Vec.\n",
    "\n",
    "Contents\n",
    "  * SpaCy\n",
    "  * gensim\n",
    " \n",
    " \n",
    "### SpaCy"
   ]
  },
  {
   "cell_type": "code",
   "execution_count": null,
   "metadata": {},
   "outputs": [],
   "source": [
    "nlp = spacy.load('en_core_web_sm')"
   ]
  },
  {
   "cell_type": "code",
   "execution_count": null,
   "metadata": {},
   "outputs": [],
   "source": []
  },
  {
   "cell_type": "code",
   "execution_count": null,
   "metadata": {},
   "outputs": [],
   "source": []
  }
 ],
 "metadata": {
  "kernelspec": {
   "display_name": "Python 3",
   "language": "python",
   "name": "python3"
  },
  "language_info": {
   "codemirror_mode": {
    "name": "ipython",
    "version": 3
   },
   "file_extension": ".py",
   "mimetype": "text/x-python",
   "name": "python",
   "nbconvert_exporter": "python",
   "pygments_lexer": "ipython3",
   "version": "3.7.3"
  }
 },
 "nbformat": 4,
 "nbformat_minor": 2
}
