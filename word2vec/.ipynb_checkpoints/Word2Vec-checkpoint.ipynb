{
 "cells": [
  {
   "cell_type": "code",
   "execution_count": 1,
   "metadata": {},
   "outputs": [
    {
     "data": {
      "text/html": [
       "./style/style.html"
      ],
      "text/plain": [
       "<IPython.core.display.HTML object>"
      ]
     },
     "execution_count": 1,
     "metadata": {},
     "output_type": "execute_result"
    }
   ],
   "source": [
    "from IPython.core.display import HTML\n",
    "\n",
    "HTML('./style/style.html')"
   ]
  },
  {
   "cell_type": "markdown",
   "metadata": {},
   "source": [
    "# Presentation on Word2Vec\n",
    "Glenn Abastillas | 24 March, 2020\n",
    "\n",
    "``` ADD VISUAL OF KING - QUEEN = MAN WITH SVG ```\n",
    "\n",
    "This notebook goes over an example implementation of Word2Vec and some existing packages that perform Word2Vec training.\n",
    "\n",
    "Contents\n",
    "  1.  Preliminary Steps\n",
    "      * [Load Packages](#load_packages)\n",
    "      * [Preprocess Data](#preprocess_data)\n",
    "      * [Quick Background](#quick_background)\n",
    "  2. [Implementation from Scratch](#implementation_from_scratch)\n",
    "      * Word2Vec Flavors: Continuous Back of Words (CBOW) / Skip Grams (SG)\n",
    "      * Training\n",
    "      * Retrieving the trained matrix\n",
    "      * Applications\n",
    "  3. Using an Existing Package\n",
    "\n",
    "__At each step, we will also cover other packages that can be used to acheive the same thing (e.g., Countvectorizer)__\n",
    "  \n",
    "<p class='tip banner'>This is an example of a tip.<p>\n",
    "<p class='attention banner'>This is an example of an attention.<p>\n",
    "<p class='warning banner'>This is an example of a warning.<p>\n",
    "  \n",
    "---\n",
    "\n",
    "### Load Packages <a id=\"load_packages\"></a>\n",
    "First we import packages and clean the data."
   ]
  },
  {
   "cell_type": "code",
   "execution_count": 2,
   "metadata": {},
   "outputs": [
    {
     "data": {
      "text/plain": [
       "RendererRegistry.enable('notebook')"
      ]
     },
     "execution_count": 2,
     "metadata": {},
     "output_type": "execute_result"
    }
   ],
   "source": [
    "import numpy as np\n",
    "import spacy\n",
    "from tqdm.notebook import trange, tqdm\n",
    "\n",
    "import pandas as pd\n",
    "import altair as alt\n",
    "\n",
    "from string import punctuation\n",
    "from nltk.corpus import gutenberg, stopwords\n",
    "from collections import namedtuple\n",
    "from sklearn.decomposition import PCA\n",
    "from sklearn.preprocessing import StandardScaler\n",
    "\n",
    "alt.renderers.enable('notebook')"
   ]
  },
  {
   "cell_type": "markdown",
   "metadata": {},
   "source": [
    "We will use data from the `gutenberg` corpus and normalize the input data."
   ]
  },
  {
   "cell_type": "code",
   "execution_count": 3,
   "metadata": {},
   "outputs": [
    {
     "name": "stdout",
     "output_type": "stream",
     "text": [
      "austen-emma.txt - 7811 words\n",
      "austen-persuasion.txt - 6132 words\n",
      "austen-sense.txt - 6833 words\n",
      "bible-kjv.txt - 13769 words\n",
      "blake-poems.txt - 1820 words\n",
      "bryant-stories.txt - 4420 words\n",
      "burgess-busterbrown.txt - 1764 words\n",
      "carroll-alice.txt - 3016 words\n",
      "chesterton-ball.txt - 8947 words\n",
      "chesterton-brown.txt - 8299 words\n",
      "chesterton-thursday.txt - 6807 words\n",
      "edgeworth-parents.txt - 9593 words\n",
      "melville-moby_dick.txt - 19317 words\n",
      "milton-paradise.txt - 10751 words\n",
      "shakespeare-caesar.txt - 3560 words\n",
      "shakespeare-hamlet.txt - 5447 words\n",
      "shakespeare-macbeth.txt - 4017 words\n",
      "whitman-leaves.txt - 14329 words\n"
     ]
    }
   ],
   "source": [
    "fileids = gutenberg.fileids()\n",
    "\n",
    "for fileid in fileids:\n",
    "    print(f'{fileid} - {len(set(gutenberg.words(fileid)))} words')"
   ]
  },
  {
   "cell_type": "code",
   "execution_count": 415,
   "metadata": {},
   "outputs": [
    {
     "name": "stdout",
     "output_type": "stream",
     "text": [
      "Number of sentences: 438\n",
      "Number of words: 8,354\n"
     ]
    }
   ],
   "source": [
    "title = 'blake-poems.txt'\n",
    "sents = gutenberg.sents(title)\n",
    "words = gutenberg.words(title)\n",
    "\n",
    "print(f'Number of sentences: {len(sents):,}')\n",
    "print(f'Number of words: {len(words):,}')"
   ]
  },
  {
   "cell_type": "code",
   "execution_count": 150,
   "metadata": {},
   "outputs": [],
   "source": [
    "sents = ['sarah is my mother who married my father'.split(), \n",
    "         'peter is my father and best friend'.split(), \n",
    "         'my dad works all day'.split(),\n",
    "         'sarah and peter live in our house but work outside the house'.split(),\n",
    "         'i love my mother and father'.split(),\n",
    "         'i love my mom and dad'.split(),\n",
    "         'mom is at work and dad is at home'.split(),\n",
    "         'alan turing is the organization that dad works for'.split(),\n",
    "         '3m is where my mom works'.split(),\n",
    "         'i work from home a lot'.split()]\n",
    "words = [word for sent in sents for word in sent]"
   ]
  },
  {
   "cell_type": "code",
   "execution_count": 464,
   "metadata": {},
   "outputs": [],
   "source": [
    "text = \"\"\"\"The Road Not Taken\" is a narrative poem. It reads naturally or conversationally and begins as a kind of photographic depiction of a quiet moment in woods. It consists of four stanzas of 5 lines each. The first line rhymes with the third and fourth, and the second line rhymes with the fifth (ABAAB). The meter is basically iambic tetrameter, with each line having four two-syllable feet. Though in almost every line, in different positions, an iamb is replaced with an anapest. The variation of the rhythm gives naturalness, a feeling of thought occurring spontaneously, and it also affects the reader's sense of expectation.[3] In the only line that contains strictly iambs, the more regular rhythm supports the idea of a turning towards an acceptance of a kind of reality: \"Though as for that the passing there … \" In the final line, the way the rhyme and rhythm work together is significantly different, and catches the reader off guard.[4]\n",
    "\n",
    "It is one of Frost's most popular works. Some have said that it is one of his most misunderstood poems, claiming that it is not simply a poem that champions the idea of \"following your own path\", but that the poem, they suggest, expresses some irony regarding that idea.[5][1]\n",
    "\n",
    "Frost's biographer Lawrance Thompson suggests that the poem's narrator is \"one who habitually wastes energy in regretting any choice made: belatedly but wistfully he sighs over the attractive alternative rejected\".[6] Thompson also says that when introducing the poem in readings, Frost would say that the speaker was based on his friend Edward Thomas. In Frost's words, Thomas was \"a person who, whichever road he went, would be sorry he didn't go the other. He was hard on himself that way.\"[7]\n",
    "\n",
    "Regarding the \"sigh\" that is mentioned in the last stanza, it may be seen as an expression of regret or of satisfaction, but there is significance in the difference between what the speaker has just said of the two roads, and what he will say in the future.[8] According to the biographer Lawrance Thompson, as Frost was once about to read the poem, he commented to his audience, \"You have to be careful of that one; it's a tricky poem—very tricky,\" perhaps intending to suggest the poem's ironic possibilities.[6][9] A New York Times Sunday book review on Brian Hall's 2008 biography Fall of Frost states: \"Whichever way they go, they're sure to miss something good on the other path.\"[10]\"\"\""
   ]
  },
  {
   "cell_type": "code",
   "execution_count": 467,
   "metadata": {},
   "outputs": [],
   "source": [
    "sents = [[word.lower() for word in sent.split()] for sent in text.split('.')]\n",
    "words = [word for sent in sents for word in sent]"
   ]
  },
  {
   "cell_type": "markdown",
   "metadata": {},
   "source": [
    "Generate word encodings and word probabilities."
   ]
  },
  {
   "cell_type": "code",
   "execution_count": 468,
   "metadata": {},
   "outputs": [],
   "source": [
    "words = [word.lower() for word in words]\n",
    "\n",
    "WORDS, COUNTS = np.unique(words, return_counts=True)\n",
    "\n",
    "PROBS = COUNTS**0.75 / (COUNTS**0.75).sum()\n",
    "\n",
    "INDEX = np.arange(WORDS.size)\n",
    "\n",
    "VOCAB = dict(zip(WORDS, INDEX))\n",
    "VOCABR = dict(zip(INDEX, WORDS))"
   ]
  },
  {
   "cell_type": "markdown",
   "metadata": {},
   "source": [
    "`[insert navigation here]`\n",
    "\n",
    "---\n",
    "### Preprocess Data <a id=\"preprocess_data\"></a>\n",
    "##### Normalize Vocabulary\n",
    "\n",
    "To improve processing and richness of our lexical items, we normalize our language data. \n",
    "\n",
    "Normalizing data can involve a variety of tasks depending on the final application of our language model. These tasks including making all words the same case, removing punctuation, and removing **<a id=\"stopword\" style=\"text-decoration: none; cursor: help;\" title=\"Words that contribute little semantic information to a text\">stopwords</a>**.\n",
    "\n",
    "For this presentation, we will use **<a id=\"token\" style=\"text-decoration: none; cursor: help;\" title=\"Combinations of characters separated by spaces (e.g., words, numbers)\">tokens</a>** that are not punctuation nor stopwords.\n",
    "\n",
    "Let's quickly define some functions we will use to pare our text data down."
   ]
  },
  {
   "cell_type": "code",
   "execution_count": 469,
   "metadata": {},
   "outputs": [],
   "source": [
    "stopwords_ = stopwords.words('english')\n",
    "\n",
    "def is_stopword(token):\n",
    "    ''' Check if a specified token is a stopword. '''\n",
    "    try:\n",
    "        return token.lower() in stopwords_\n",
    "    except:\n",
    "        return False\n",
    "\n",
    "def is_valid_token(token):\n",
    "    ''' Check if token is valid, i.e., not a stopword or punctuation '''\n",
    "    try:\n",
    "        return token.isalnum() & ~is_stopword(token)\n",
    "    except:\n",
    "        return False\n",
    "\n",
    "def subsample(vocabulary, probs=PROBS, sample_rate=0.001):\n",
    "    ''' Return the indices of words to be excluded '''\n",
    "    p_keep = (np.sqrt(probs / sample_rate) + 1) * sample_rate / probs\n",
    "    p_keep[p_keep >= 1] = 1\n",
    "    return p_keep\n",
    "    "
   ]
  },
  {
   "cell_type": "markdown",
   "metadata": {},
   "source": [
    "##### First Normalization Step\n",
    "Next, we create our `raw_text` data using the functions we just defined."
   ]
  },
  {
   "cell_type": "markdown",
   "metadata": {},
   "source": [
    "###### Subsampling\n",
    "\n",
    "Remove overly frequent words that may not contribute much to vector meanings (e.g., the). First, generate a list of frequent words with a low probability of keeping them (e.g., $P_{keep}(w_i) < 0.75$)"
   ]
  },
  {
   "cell_type": "code",
   "execution_count": 470,
   "metadata": {},
   "outputs": [],
   "source": [
    "p_keep = subsample(WORDS)\n",
    "exclude = [word.lower() for word in WORDS[p_keep < 0.75]]"
   ]
  },
  {
   "cell_type": "code",
   "execution_count": 471,
   "metadata": {
    "collapsed": true
   },
   "outputs": [
    {
     "data": {
      "text/plain": [
       "['a',\n",
       " 'also',\n",
       " 'an',\n",
       " 'and',\n",
       " 'as',\n",
       " 'be',\n",
       " 'biographer',\n",
       " 'but',\n",
       " 'each',\n",
       " 'four',\n",
       " 'frost',\n",
       " \"frost's\",\n",
       " 'have',\n",
       " 'he',\n",
       " 'his',\n",
       " 'idea',\n",
       " 'in',\n",
       " 'is',\n",
       " 'it',\n",
       " 'kind',\n",
       " 'lawrance',\n",
       " 'line',\n",
       " 'line,',\n",
       " 'most',\n",
       " 'not',\n",
       " 'of',\n",
       " 'on',\n",
       " 'one',\n",
       " 'or',\n",
       " 'other',\n",
       " 'poem',\n",
       " \"poem's\",\n",
       " 'poem,',\n",
       " 'regarding',\n",
       " 'rhymes',\n",
       " 'rhythm',\n",
       " 'road',\n",
       " 'said',\n",
       " 'say',\n",
       " 'some',\n",
       " 'speaker',\n",
       " 'that',\n",
       " 'the',\n",
       " 'there',\n",
       " 'they',\n",
       " 'thomas',\n",
       " 'thompson',\n",
       " 'to',\n",
       " 'was',\n",
       " 'way',\n",
       " 'what',\n",
       " 'with',\n",
       " 'would']"
      ]
     },
     "execution_count": 471,
     "metadata": {},
     "output_type": "execute_result"
    }
   ],
   "source": [
    "exclude"
   ]
  },
  {
   "cell_type": "markdown",
   "metadata": {},
   "source": [
    "Update the sentences with the new `exclude` filter."
   ]
  },
  {
   "cell_type": "code",
   "execution_count": 473,
   "metadata": {},
   "outputs": [
    {
     "name": "stdout",
     "output_type": "stream",
     "text": [
      "Number of sentences: 18\n",
      "CPU times: user 1.04 ms, sys: 389 µs, total: 1.42 ms\n",
      "Wall time: 1.57 ms\n"
     ]
    }
   ],
   "source": [
    "%%time\n",
    "sents = [[word.lower() for word in sent if (word.lower() not in exclude) and word.isalnum()] for sent in sents]\n",
    "print(f'Number of sentences: {len(sents):,}')"
   ]
  },
  {
   "cell_type": "markdown",
   "metadata": {},
   "source": [
    "##### Second Normalization Step\n",
    "\n",
    "Using the conversion function defined above, we can convert our `normalized_sents` into `data`, which contains only integers that will be used in our Word2Vec example."
   ]
  },
  {
   "cell_type": "code",
   "execution_count": 474,
   "metadata": {},
   "outputs": [
    {
     "name": "stdout",
     "output_type": "stream",
     "text": [
      "CPU times: user 1.46 ms, sys: 4.26 ms, total: 5.72 ms\n",
      "Wall time: 6.41 ms\n"
     ]
    }
   ],
   "source": [
    "%%time\n",
    "data = (np.array([VOCAB[token] for token in sent]) for sent in sents)"
   ]
  },
  {
   "cell_type": "markdown",
   "metadata": {},
   "source": [
    "`[insert navigation here]`\n",
    "\n",
    "---\n",
    "\n",
    "Use this reference for later [Dimensions greater than 300 have diminishing returns](https://www.aclweb.org/anthology/D14-1162/)\n",
    "\n",
    "### Quick Background <a id=\"quick_background\"></a>\n",
    "#### Background Into Word2Vec\n",
    "\n",
    "* What is it?\n",
    "  - <p class='content'>Quick definition (implementation of theoretical matrix bit): A method or representing words as numerical vectors, which allow us to improve the efficiency of our models as well as enable us to glean insight on how words behave in a text.</p>\n",
    "  - What is does to text: The Word2Vec model converts words as strings into an array of numbers of n-dimensions by training a shallow neural network and keeping only the trained weights.\n",
    "  - What the output is: The trained weights from the neural network we train are conveniently also act as the word vectors themselves in a matrix format.\n",
    "  \n",
    "* Why do we need it?\n",
    "  - Many uses in AI: Semantic analysis, entity discovery, lexical and lexical relationship analysis, and topic modeling.\n",
    "  - Pros: We can do algebra with words and converting strings to numeric vectors unlocks a host of abilities that we can perform on these numeric vectors.\n",
    "  - Cons: We need a large vocabulary and training can be very time and resources heavy.\n",
    " \n",
    "* What cool things can it do?\n",
    "  - Condense text into a lightweight matrix\n",
    "  - Provide semantic abilities\n",
    "  - Enable data to have algebraic properties\n",
    " \n",
    "* What are competing models?\n",
    "  - Other models to represent text\n",
    "  - GloVe\n",
    "  - Other vectorization models"
   ]
  },
  {
   "cell_type": "markdown",
   "metadata": {},
   "source": [
    "`[insert navigation here]`\n",
    "\n",
    "---\n",
    "## Implementation from Scratch <a id=\"implementation_from_scratch\"></a>\n",
    "\n",
    "For things example, we will create a Word2Vec language model using the data we preprocessed above. \n",
    "\n",
    "In this section, we will develop a **<a id=\"skip-gram\" style=\"text-decoration: none; cursor: help;\" title=\"Using the a token to predict its surroundings\">Skip-gram</a>** flavored Word2Vec model.\n",
    "\n",
    "We will:\n",
    "  * Create Skip-gram windows\n",
    "  * Create preliminary <a id='one-hot' style='text-decoration: none; cursor: help;' title='A vector that is comprised of zeros and ones indicating absence or presence of a value'>one-hot vectors</a>\n",
    "\n",
    "\n",
    "###### Parameters <a id='parameters'></a>\n",
    "First we define some hyperparameters that we use for training."
   ]
  },
  {
   "cell_type": "code",
   "execution_count": 475,
   "metadata": {},
   "outputs": [],
   "source": [
    "parameters = {'window_size' : 2, 'dimensions' : 100, 'learning_rate' : 0.02, 'epochs' : 50}"
   ]
  },
  {
   "cell_type": "markdown",
   "metadata": {},
   "source": [
    "<style>\n",
    "table, td, tr {\n",
    "    border: solid 1px gray;\n",
    "    background: green;\n",
    "}\n",
    "</style>\n",
    "This table quickly describes what each parameter does.\n",
    "\n",
    "Parameters | Data Type | Description\n",
    "--- | :-: | :--\n",
    "`window_size` | `int` | The number of target tokens before and after a central token to include\n",
    "`dimensions` | `int` | The number of dimensions in hidden layer. Dimensions greater than 300 have diminishing returns `[cite]`.\n",
    "`learning_rate` | `float` | How quickly our model will correct itself\n",
    "`epochs` | `int` | The number of rounds the model is trained\n",
    "\n",
    "##### Creating the Training Data <a id=\"creating_the_training_data\"></a>\n",
    "\n",
    "We will generate loose <a id='one-hot' style='text-decoration: none; cursor: help;' title='A vector that is comprised of zeros and ones indicating absence or presence of a value'>one-hot vectors</a> that will serve as input and target data when training our model.\n",
    "\n",
    "First we filter our data to ensure we have sufficient data to window."
   ]
  },
  {
   "cell_type": "code",
   "execution_count": 476,
   "metadata": {},
   "outputs": [
    {
     "name": "stdout",
     "output_type": "stream",
     "text": [
      "Number of sentences in data: 14\n",
      "CPU times: user 370 µs, sys: 150 µs, total: 520 µs\n",
      "Wall time: 450 µs\n"
     ]
    }
   ],
   "source": [
    "%%time\n",
    "data = [sent for sent in data if sent.size >= parameters['window_size'] + 2]\n",
    "\n",
    "print(f'Number of sentences in data: {len(data)}')"
   ]
  },
  {
   "cell_type": "markdown",
   "metadata": {},
   "source": [
    "Now, we generate our one hot vectors using the `VOCAB` as a model for our vector.\n",
    "\n",
    "Let's define a few functions to help use generate these data."
   ]
  },
  {
   "cell_type": "code",
   "execution_count": 477,
   "metadata": {},
   "outputs": [],
   "source": [
    "Datum = namedtuple('Datum', 'target context'.split())\n",
    "\n",
    "def one_hot(token, size=WORDS.size):\n",
    "    ''' Convert an input token into an integer according to a specified reference '''\n",
    "    vector = np.zeros((size, 1))\n",
    "    vector[token] = 1\n",
    "    return vector\n",
    "\n",
    "def generate_examples(data, examples=[], size=parameters['window_size']):\n",
    "    ''' Create a example data with the structure [(context, targets), ...] '''\n",
    "    for i, sentence in tqdm(enumerate(data), desc='Generating examples', total=len(data)):\n",
    "        for j, token in enumerate(sentence):\n",
    "            before = max(j - size, 0)\n",
    "            after = j + size\n",
    "            skip = j + 1\n",
    "\n",
    "            context = one_hot(sentence[j])\n",
    "            targets = np.append(sentence[before:j], sentence[skip:after])\n",
    "            \n",
    "            _targets = []\n",
    "        \n",
    "            for target in targets:\n",
    "                _targets.append(one_hot(target))\n",
    "                \n",
    "            examples.append((context, _targets))\n",
    "    \n",
    "    return examples"
   ]
  },
  {
   "cell_type": "markdown",
   "metadata": {},
   "source": [
    "Loop through all the sentences to generate `target` and `context` data for training.\n",
    "<p class='attention'>Processing time may vary </p>"
   ]
  },
  {
   "cell_type": "code",
   "execution_count": 478,
   "metadata": {},
   "outputs": [
    {
     "data": {
      "application/vnd.jupyter.widget-view+json": {
       "model_id": "c0455313311445d1815bb711d373eceb",
       "version_major": 2,
       "version_minor": 0
      },
      "text/plain": [
       "HBox(children=(FloatProgress(value=0.0, description='Generating examples', max=14.0, style=ProgressStyle(descr…"
      ]
     },
     "metadata": {},
     "output_type": "display_data"
    },
    {
     "name": "stdout",
     "output_type": "stream",
     "text": [
      "\n",
      "131 examples\n"
     ]
    }
   ],
   "source": [
    "examples = generate_examples(data)\n",
    "print(f'{len(examples)} examples')"
   ]
  },
  {
   "cell_type": "markdown",
   "metadata": {},
   "source": [
    "`[insert navigation here]`\n",
    "\n",
    "---\n",
    "\n",
    "<p class='tip'>New Section</p>\n",
    "\n",
    "### Create Layers <a id='create_layers'></a>\n",
    "\n",
    "These matrices will serve as the layers that surround our `word2vec` layer during training."
   ]
  },
  {
   "cell_type": "code",
   "execution_count": 642,
   "metadata": {},
   "outputs": [
    {
     "name": "stdout",
     "output_type": "stream",
     "text": [
      "Dimensions\n",
      "Weights 1 (242, 100)\n",
      "Weights 2 (242, 100)\n"
     ]
    }
   ],
   "source": [
    "weights_1 = np.random.random((WORDS.size, parameters['dimensions']))\n",
    "weights_2 = np.random.random((WORDS.size, parameters['dimensions']))\n",
    "print(f'Dimensions\\nWeights 1 {weights_1.shape}\\nWeights 2 {weights_2.shape}')"
   ]
  },
  {
   "cell_type": "markdown",
   "metadata": {},
   "source": [
    "`[insert navigation here]`\n",
    "\n",
    "---\n",
    "###### Feed Forward Algorithm\n",
    "\n",
    "The first part of a two part algorithm defining a <a id='learning-step' style='text-decoration: none; cursor: help;' title='A phase where training data are learned and errors are adjusted throughout the model'>learning step</a>. This algorithm introduces our randomly initialized model to its first evidence of real data to learn from. It then predicts a surrounding vocabulary item from it."
   ]
  },
  {
   "cell_type": "code",
   "execution_count": 643,
   "metadata": {},
   "outputs": [],
   "source": [
    "def forward(datum, weights_1=weights_1, weights_2=weights_2):\n",
    "    ''' Return three matrices corresponding to the prediction, hidden layer, and output '''\n",
    "    hidden = np.dot(weights_1.T, datum)\n",
    "    output = np.dot(weights_2, hidden)\n",
    "    prediction = softmax(output)\n",
    "    return prediction, hidden, output\n",
    "\n",
    "def softmax(datum):\n",
    "    ''' Return the an array normalized to a probability '''\n",
    "    e = np.exp(datum - datum.max())\n",
    "    return e / e.sum()\n",
    "\n",
    "def calculate_loss(datum, prediction):\n",
    "    ''' Calculate the cross entropy for the output of a forward pass '''\n",
    "    dimensions = prediction.shape[1]\n",
    "    inner_sum = np.sum(datum * np.log(prediction), axis=0, keepdims=1)\n",
    "    outer_sum = np.sum(inner_sum, axis=1)\n",
    "    return - (1 / dimensions) * outer_sum"
   ]
  },
  {
   "cell_type": "markdown",
   "metadata": {},
   "source": [
    "<p class='warning'>Old functions</p>"
   ]
  },
  {
   "cell_type": "code",
   "execution_count": 644,
   "metadata": {},
   "outputs": [],
   "source": [
    "def calculate_error(prediction, context):\n",
    "    ''' Return a weights with the summed prediction error '''\n",
    "    error = np.zeros((prediction.size, 1))\n",
    "    for subcontext in context:\n",
    "        for token in subcontext:\n",
    "            error += prediction - token\n",
    "    return error\n",
    "\n",
    "def backpropagate(prediction, hidden, target, context, weights_1=weights_1, weights_2=weights_2, index=INDEX):\n",
    "    ''' Update weight matrices according to output from forward() '''\n",
    "    error = calculate_error(prediction, context)\n",
    "    \n",
    "    weights_2_delta = np.outer(error, hidden)\n",
    "    hidden_error = np.dot(weights_2.T, error)\n",
    "    weights_1_delta = np.outer(hidden_error, target).T\n",
    "    \n",
    "    weights_1 -= weights_1_delta * parameters['learning_rate']\n",
    "    weights_2 -= weights_2_delta * parameters['learning_rate']"
   ]
  },
  {
   "cell_type": "markdown",
   "metadata": {},
   "source": [
    "`[insert navigation here]`\n",
    "\n",
    "---\n",
    "##### Training Algorithm\n",
    "\n",
    "Having both the feed forward and backpropagation algorithms defined, we can now define a training algorithm to learn all training examples for a single <a id='epoch' style='text-decoration: none; cursor: help;' title='A complete cycle of learning steps through all training data'>epoch</a>."
   ]
  },
  {
   "cell_type": "code",
   "execution_count": 645,
   "metadata": {},
   "outputs": [],
   "source": [
    "def train(examples, weights_1=weights_1, weights_2=weights_2, parameters=parameters, total=WORDS.size):\n",
    "    ''' Train the Word2Vec model on our training data to generate meaningful word vectors '''\n",
    "    \n",
    "    epochs = trange(parameters['epochs'], desc=\"Training\")\n",
    "    loss = []\n",
    "    predictions = []\n",
    "\n",
    "    for epoch in epochs:\n",
    "        data = tqdm(examples, desc=f'Epoch {epoch}', leave=False)\n",
    "        for context, targets in data:\n",
    "            prediction, hidden, output = forward(context)\n",
    "            backpropagate(prediction, hidden, context, targets)\n",
    "            predictions.append(prediction.argmax())\n",
    "#             loss.append(calculate_loss(context, prediction)[0])\n",
    "    return loss, predictions"
   ]
  },
  {
   "cell_type": "code",
   "execution_count": 649,
   "metadata": {},
   "outputs": [
    {
     "data": {
      "text/plain": [
       "[85,\n",
       " 196,\n",
       " 87,\n",
       " 209,\n",
       " 68,\n",
       " 73,\n",
       " 142,\n",
       " 126,\n",
       " 89,\n",
       " 95,\n",
       " 176,\n",
       " 40,\n",
       " 228,\n",
       " 21,\n",
       " 161,\n",
       " 41,\n",
       " 24,\n",
       " 212,\n",
       " 10,\n",
       " 155,\n",
       " 192,\n",
       " 210,\n",
       " 220,\n",
       " 100,\n",
       " 169,\n",
       " 22,\n",
       " 172,\n",
       " 4,\n",
       " 203,\n",
       " 66,\n",
       " 39,\n",
       " 85,\n",
       " 104,\n",
       " 197,\n",
       " 91,\n",
       " 52,\n",
       " 211,\n",
       " 102,\n",
       " 23,\n",
       " 168,\n",
       " 57,\n",
       " 201,\n",
       " 82,\n",
       " 45,\n",
       " 61,\n",
       " 211,\n",
       " 234,\n",
       " 49,\n",
       " 195,\n",
       " 206,\n",
       " 190,\n",
       " 4,\n",
       " 66,\n",
       " 99,\n",
       " 232,\n",
       " 59,\n",
       " 163,\n",
       " 147,\n",
       " 121,\n",
       " 208,\n",
       " 18,\n",
       " 51,\n",
       " 132,\n",
       " 213,\n",
       " 217,\n",
       " 81,\n",
       " 141,\n",
       " 102,\n",
       " 190,\n",
       " 108,\n",
       " 236,\n",
       " 135,\n",
       " 90,\n",
       " 168,\n",
       " 225,\n",
       " 121,\n",
       " 142,\n",
       " 84,\n",
       " 6,\n",
       " 68,\n",
       " 97,\n",
       " 19,\n",
       " 224,\n",
       " 101,\n",
       " 83,\n",
       " 202,\n",
       " 66,\n",
       " 235,\n",
       " 171,\n",
       " 14,\n",
       " 44,\n",
       " 27,\n",
       " 65,\n",
       " 203,\n",
       " 136,\n",
       " 51,\n",
       " 206,\n",
       " 210,\n",
       " 84,\n",
       " 179,\n",
       " 221,\n",
       " 134,\n",
       " 166,\n",
       " 133,\n",
       " 93,\n",
       " 120,\n",
       " 197,\n",
       " 173,\n",
       " 42,\n",
       " 132,\n",
       " 59,\n",
       " 87,\n",
       " 111,\n",
       " 172,\n",
       " 142,\n",
       " 137,\n",
       " 66,\n",
       " 45,\n",
       " 91,\n",
       " 49,\n",
       " 168,\n",
       " 205,\n",
       " 84,\n",
       " 33,\n",
       " 57,\n",
       " 238,\n",
       " 104,\n",
       " 231,\n",
       " 214,\n",
       " 21,\n",
       " 87]"
      ]
     },
     "execution_count": 649,
     "metadata": {},
     "output_type": "execute_result"
    }
   ],
   "source": [
    "loss[1]"
   ]
  },
  {
   "cell_type": "markdown",
   "metadata": {},
   "source": [
    "`[insert navigation here]`\n",
    "\n",
    "---\n",
    "###### Test Iteration <a id='test_iteration'></a>\n",
    "\n",
    "This cell loops through all our training data to demonstrate what happens in one training <a id='epoch' style='text-decoration: none; cursor: help;' title='A complete cycle of learning steps through all training data'>epoch</a>.\n",
    "\n",
    "<p class='warning'>Processing time may vary</p>"
   ]
  },
  {
   "cell_type": "code",
   "execution_count": 651,
   "metadata": {},
   "outputs": [
    {
     "data": {
      "application/vnd.jupyter.widget-view+json": {
       "model_id": "7ddf33db880743ec8ea5d1389a3c5e64",
       "version_major": 2,
       "version_minor": 0
      },
      "text/plain": [
       "HBox(children=(FloatProgress(value=0.0, description='Training', max=10.0, style=ProgressStyle(description_widt…"
      ]
     },
     "metadata": {},
     "output_type": "display_data"
    },
    {
     "data": {
      "application/vnd.jupyter.widget-view+json": {
       "model_id": "",
       "version_major": 2,
       "version_minor": 0
      },
      "text/plain": [
       "HBox(children=(FloatProgress(value=0.0, description='Epoch 0', max=131.0, style=ProgressStyle(description_widt…"
      ]
     },
     "metadata": {},
     "output_type": "display_data"
    },
    {
     "data": {
      "application/vnd.jupyter.widget-view+json": {
       "model_id": "",
       "version_major": 2,
       "version_minor": 0
      },
      "text/plain": [
       "HBox(children=(FloatProgress(value=0.0, description='Epoch 1', max=131.0, style=ProgressStyle(description_widt…"
      ]
     },
     "metadata": {},
     "output_type": "display_data"
    },
    {
     "data": {
      "application/vnd.jupyter.widget-view+json": {
       "model_id": "",
       "version_major": 2,
       "version_minor": 0
      },
      "text/plain": [
       "HBox(children=(FloatProgress(value=0.0, description='Epoch 2', max=131.0, style=ProgressStyle(description_widt…"
      ]
     },
     "metadata": {},
     "output_type": "display_data"
    },
    {
     "data": {
      "application/vnd.jupyter.widget-view+json": {
       "model_id": "",
       "version_major": 2,
       "version_minor": 0
      },
      "text/plain": [
       "HBox(children=(FloatProgress(value=0.0, description='Epoch 3', max=131.0, style=ProgressStyle(description_widt…"
      ]
     },
     "metadata": {},
     "output_type": "display_data"
    },
    {
     "data": {
      "application/vnd.jupyter.widget-view+json": {
       "model_id": "",
       "version_major": 2,
       "version_minor": 0
      },
      "text/plain": [
       "HBox(children=(FloatProgress(value=0.0, description='Epoch 4', max=131.0, style=ProgressStyle(description_widt…"
      ]
     },
     "metadata": {},
     "output_type": "display_data"
    },
    {
     "data": {
      "application/vnd.jupyter.widget-view+json": {
       "model_id": "",
       "version_major": 2,
       "version_minor": 0
      },
      "text/plain": [
       "HBox(children=(FloatProgress(value=0.0, description='Epoch 5', max=131.0, style=ProgressStyle(description_widt…"
      ]
     },
     "metadata": {},
     "output_type": "display_data"
    },
    {
     "data": {
      "application/vnd.jupyter.widget-view+json": {
       "model_id": "",
       "version_major": 2,
       "version_minor": 0
      },
      "text/plain": [
       "HBox(children=(FloatProgress(value=0.0, description='Epoch 6', max=131.0, style=ProgressStyle(description_widt…"
      ]
     },
     "metadata": {},
     "output_type": "display_data"
    },
    {
     "data": {
      "application/vnd.jupyter.widget-view+json": {
       "model_id": "",
       "version_major": 2,
       "version_minor": 0
      },
      "text/plain": [
       "HBox(children=(FloatProgress(value=0.0, description='Epoch 7', max=131.0, style=ProgressStyle(description_widt…"
      ]
     },
     "metadata": {},
     "output_type": "display_data"
    },
    {
     "data": {
      "application/vnd.jupyter.widget-view+json": {
       "model_id": "",
       "version_major": 2,
       "version_minor": 0
      },
      "text/plain": [
       "HBox(children=(FloatProgress(value=0.0, description='Epoch 8', max=131.0, style=ProgressStyle(description_widt…"
      ]
     },
     "metadata": {},
     "output_type": "display_data"
    },
    {
     "data": {
      "application/vnd.jupyter.widget-view+json": {
       "model_id": "",
       "version_major": 2,
       "version_minor": 0
      },
      "text/plain": [
       "HBox(children=(FloatProgress(value=0.0, description='Epoch 9', max=131.0, style=ProgressStyle(description_widt…"
      ]
     },
     "metadata": {},
     "output_type": "display_data"
    },
    {
     "name": "stdout",
     "output_type": "stream",
     "text": [
      "\n",
      "CPU times: user 7.42 s, sys: 217 ms, total: 7.63 s\n",
      "Wall time: 7.69 s\n"
     ]
    }
   ],
   "source": [
    "%%time\n",
    "parameters['epochs'] = 10\n",
    "loss = train(examples)"
   ]
  },
  {
   "cell_type": "markdown",
   "metadata": {},
   "source": [
    "##### Looking at Some Examples\n",
    "\n",
    "We define some functions to inspect the output of our model."
   ]
  },
  {
   "cell_type": "code",
   "execution_count": 652,
   "metadata": {},
   "outputs": [],
   "source": [
    "def word_vector(token, model=weights_2):\n",
    "    ''' Return the word vector corresponding to a token '''\n",
    "    return model[token]\n",
    "\n",
    "def similarity(vector1, vector2):\n",
    "    ''' Return the cosine similarity score for two tokens input as vectors '''\n",
    "    if isinstance(vector1, int):\n",
    "        vector1 = word_vector(vector1)\n",
    "        \n",
    "    if isinstance(vector2, int):\n",
    "        vector2 = word_vector(vector2)\n",
    "        \n",
    "    a = np.dot(vector1, vector2)\n",
    "    b = np.dot(vector1, vector1)\n",
    "    c = np.dot(vector2, vector2)\n",
    "    return a / (np.sqrt(b) * np.sqrt(c))"
   ]
  },
  {
   "cell_type": "markdown",
   "metadata": {},
   "source": [
    "We inspect randomly selected words for their similarity score where $similarity \\in [-1,1]$"
   ]
  },
  {
   "cell_type": "code",
   "execution_count": 653,
   "metadata": {},
   "outputs": [
    {
     "name": "stdout",
     "output_type": "stream",
     "text": [
      "will and once\n"
     ]
    },
    {
     "data": {
      "text/plain": [
       "0.997687731599427"
      ]
     },
     "execution_count": 653,
     "metadata": {},
     "output_type": "execute_result"
    }
   ],
   "source": [
    "v1 = np.random.randint(0, WORDS.size)\n",
    "v2 = np.random.randint(0, WORDS.size)\n",
    "print(f'{VOCABR[v1]} and {VOCABR[v2]}')\n",
    "similarity(v1, v2)"
   ]
  },
  {
   "cell_type": "code",
   "execution_count": 654,
   "metadata": {},
   "outputs": [
    {
     "data": {
      "text/plain": [
       "(186, 169)"
      ]
     },
     "execution_count": 654,
     "metadata": {},
     "output_type": "execute_result"
    }
   ],
   "source": [
    "VOCAB['sorry'], VOCAB['rhymes']"
   ]
  },
  {
   "cell_type": "code",
   "execution_count": 664,
   "metadata": {},
   "outputs": [
    {
     "name": "stdout",
     "output_type": "stream",
     "text": [
      "stanza, and stanzas\n"
     ]
    },
    {
     "data": {
      "text/plain": [
       "-0.5056590273259606"
      ]
     },
     "execution_count": 664,
     "metadata": {},
     "output_type": "execute_result"
    }
   ],
   "source": [
    "v1 = 189\n",
    "v2 = 190\n",
    "print(f'{VOCABR[v1]} and {VOCABR[v2]}')\n",
    "similarity(v1, v2)"
   ]
  },
  {
   "cell_type": "markdown",
   "metadata": {},
   "source": [
    "Test the current model trained only on a single epoch."
   ]
  },
  {
   "cell_type": "code",
   "execution_count": 588,
   "metadata": {},
   "outputs": [
    {
     "name": "stdout",
     "output_type": "stream",
     "text": [
      "Token number 83 is \"good\" along with \"go,\" with cos score as 0.7756679016707607\n"
     ]
    }
   ],
   "source": [
    "token = np.random.randint(0, WORDS.size)\n",
    "a, b = weights_1[token - 1], weights_1[token]\n",
    "distance = np.dot(a,b) / (np.sqrt(np.dot(a, a)) * np.sqrt(np.dot(b,b)))\n",
    "\n",
    "print(f'Token number {token} is \"{VOCABR[token]}\" along with \"{VOCABR[token-1]}\" with cos score as {distance}')"
   ]
  },
  {
   "cell_type": "code",
   "execution_count": 551,
   "metadata": {},
   "outputs": [],
   "source": [
    "# np.savetxt('20200326_blake-poems.csv', weights_1, delimiter=',')"
   ]
  },
  {
   "cell_type": "markdown",
   "metadata": {},
   "source": [
    "`[insert navigation here]`\n",
    "\n",
    "---\n",
    "#### Using Our Trained Model\n",
    "\n",
    "We can use our trained model to `list things we can do with our Word2Vec model from earlier`.\n",
    "\n",
    "First, we define functions to help do those things."
   ]
  },
  {
   "cell_type": "code",
   "execution_count": 552,
   "metadata": {},
   "outputs": [],
   "source": [
    "def topn(token, n=3, model=weights_1):\n",
    "    ''' Return the top n tokens and vectors most closely related to input token '''\n",
    "    \n",
    "    similarity_scores, vectors = [], []\n",
    "    token_vector = word_vector(token, model)\n",
    "    \n",
    "    for vector in model:\n",
    "        similarity_scores.append(similarity(token, vector))\n",
    "    \n",
    "    return np.array(similarity_scores)\n",
    "    \n",
    "#     for i, current_vector in enumerate(model):\n",
    "#         score = similarity(token_vector, current_vector)\n",
    "        \n",
    "#         if similarity_scores and similarity_scores[0] < score:\n",
    "#             similarity_scores.insert(0, score)\n",
    "#             vectors.insert(0, i)\n",
    "        "
   ]
  },
  {
   "cell_type": "code",
   "execution_count": 553,
   "metadata": {},
   "outputs": [
    {
     "ename": "IndexError",
     "evalue": "index 400 is out of bounds for axis 0 with size 242",
     "output_type": "error",
     "traceback": [
      "\u001b[0;31m---------------------------------------------------------------------------\u001b[0m",
      "\u001b[0;31mIndexError\u001b[0m                                Traceback (most recent call last)",
      "\u001b[0;32m<ipython-input-553-34e71fea0539>\u001b[0m in \u001b[0;36m<module>\u001b[0;34m\u001b[0m\n\u001b[0;32m----> 1\u001b[0;31m \u001b[0mres\u001b[0m \u001b[0;34m=\u001b[0m \u001b[0mtopn\u001b[0m\u001b[0;34m(\u001b[0m\u001b[0;36m400\u001b[0m\u001b[0;34m)\u001b[0m\u001b[0;34m\u001b[0m\u001b[0;34m\u001b[0m\u001b[0m\n\u001b[0m",
      "\u001b[0;32m<ipython-input-552-aa76161b4e35>\u001b[0m in \u001b[0;36mtopn\u001b[0;34m(token, n, model)\u001b[0m\n\u001b[1;32m      3\u001b[0m \u001b[0;34m\u001b[0m\u001b[0m\n\u001b[1;32m      4\u001b[0m     \u001b[0msimilarity_scores\u001b[0m\u001b[0;34m,\u001b[0m \u001b[0mvectors\u001b[0m \u001b[0;34m=\u001b[0m \u001b[0;34m[\u001b[0m\u001b[0;34m]\u001b[0m\u001b[0;34m,\u001b[0m \u001b[0;34m[\u001b[0m\u001b[0;34m]\u001b[0m\u001b[0;34m\u001b[0m\u001b[0;34m\u001b[0m\u001b[0m\n\u001b[0;32m----> 5\u001b[0;31m     \u001b[0mtoken_vector\u001b[0m \u001b[0;34m=\u001b[0m \u001b[0mword_vector\u001b[0m\u001b[0;34m(\u001b[0m\u001b[0mtoken\u001b[0m\u001b[0;34m,\u001b[0m \u001b[0mmodel\u001b[0m\u001b[0;34m)\u001b[0m\u001b[0;34m\u001b[0m\u001b[0;34m\u001b[0m\u001b[0m\n\u001b[0m\u001b[1;32m      6\u001b[0m \u001b[0;34m\u001b[0m\u001b[0m\n\u001b[1;32m      7\u001b[0m     \u001b[0;32mfor\u001b[0m \u001b[0mvector\u001b[0m \u001b[0;32min\u001b[0m \u001b[0mmodel\u001b[0m\u001b[0;34m:\u001b[0m\u001b[0;34m\u001b[0m\u001b[0;34m\u001b[0m\u001b[0m\n",
      "\u001b[0;32m<ipython-input-528-5b261836788d>\u001b[0m in \u001b[0;36mword_vector\u001b[0;34m(token, model)\u001b[0m\n\u001b[1;32m      1\u001b[0m \u001b[0;32mdef\u001b[0m \u001b[0mword_vector\u001b[0m\u001b[0;34m(\u001b[0m\u001b[0mtoken\u001b[0m\u001b[0;34m,\u001b[0m \u001b[0mmodel\u001b[0m\u001b[0;34m=\u001b[0m\u001b[0mweights_1\u001b[0m\u001b[0;34m)\u001b[0m\u001b[0;34m:\u001b[0m\u001b[0;34m\u001b[0m\u001b[0;34m\u001b[0m\u001b[0m\n\u001b[1;32m      2\u001b[0m     \u001b[0;34m''' Return the word vector corresponding to a token '''\u001b[0m\u001b[0;34m\u001b[0m\u001b[0;34m\u001b[0m\u001b[0m\n\u001b[0;32m----> 3\u001b[0;31m     \u001b[0;32mreturn\u001b[0m \u001b[0mmodel\u001b[0m\u001b[0;34m[\u001b[0m\u001b[0mtoken\u001b[0m\u001b[0;34m]\u001b[0m\u001b[0;34m\u001b[0m\u001b[0;34m\u001b[0m\u001b[0m\n\u001b[0m\u001b[1;32m      4\u001b[0m \u001b[0;34m\u001b[0m\u001b[0m\n\u001b[1;32m      5\u001b[0m \u001b[0;32mdef\u001b[0m \u001b[0msimilarity\u001b[0m\u001b[0;34m(\u001b[0m\u001b[0mvector1\u001b[0m\u001b[0;34m,\u001b[0m \u001b[0mvector2\u001b[0m\u001b[0;34m)\u001b[0m\u001b[0;34m:\u001b[0m\u001b[0;34m\u001b[0m\u001b[0;34m\u001b[0m\u001b[0m\n",
      "\u001b[0;31mIndexError\u001b[0m: index 400 is out of bounds for axis 0 with size 242"
     ]
    }
   ],
   "source": [
    "res = topn(400)"
   ]
  },
  {
   "cell_type": "markdown",
   "metadata": {},
   "source": [
    "Test with algebraic interactions of this "
   ]
  },
  {
   "cell_type": "code",
   "execution_count": null,
   "metadata": {},
   "outputs": [],
   "source": [
    "most_similar(994)"
   ]
  },
  {
   "cell_type": "code",
   "execution_count": null,
   "metadata": {},
   "outputs": [],
   "source": [
    "VOCABR[994], VOCABR[8066]"
   ]
  },
  {
   "cell_type": "code",
   "execution_count": null,
   "metadata": {},
   "outputs": [],
   "source": [
    "similarity(word_vector(343), word_vector(344)), VOCABR[343], VOCABR[344]"
   ]
  },
  {
   "cell_type": "markdown",
   "metadata": {},
   "source": [
    "`[insert navigation here]`\n",
    "\n",
    "---\n",
    "\n",
    "### Visualize Word2Vec\n",
    "\n",
    "We can visualize our word vectors trained using plotting packages like `matplotlib`, `seaborn`, and others. I make use of the `altair` visualization package.\n",
    "\n",
    "<p class='tip'>Preprocessing</p>"
   ]
  },
  {
   "cell_type": "code",
   "execution_count": 560,
   "metadata": {},
   "outputs": [],
   "source": [
    "from sklearn.decomposition import PCA\n",
    "from sklearn.manifold import TSNE\n",
    "from sklearn.preprocessing import StandardScaler\n",
    "import matplotlib.pyplot as plt"
   ]
  },
  {
   "cell_type": "markdown",
   "metadata": {},
   "source": [
    "Declare preprocessing models."
   ]
  },
  {
   "cell_type": "code",
   "execution_count": 665,
   "metadata": {},
   "outputs": [],
   "source": [
    "pca2 = PCA(n_components=2)\n",
    "pca50 = PCA(n_components=min(50, weights_1.shape[0]))\n",
    "tsne = TSNE(n_components=2, perplexity=100)\n",
    "scale = StandardScaler()"
   ]
  },
  {
   "cell_type": "markdown",
   "metadata": {},
   "source": [
    "Normalize the vector weights so that $\\mu = 0$ and $\\sigma = 1$."
   ]
  },
  {
   "cell_type": "code",
   "execution_count": 666,
   "metadata": {},
   "outputs": [],
   "source": [
    "scaled_data = scale.fit_transform(weights_1)"
   ]
  },
  {
   "cell_type": "markdown",
   "metadata": {},
   "source": [
    "Reduce dimensionality via PCA transform."
   ]
  },
  {
   "cell_type": "code",
   "execution_count": 667,
   "metadata": {},
   "outputs": [],
   "source": [
    "pca_data_2 = pca2.fit_transform(scaled_data)\n",
    "pca_data_50 = pca50.fit_transform(scaled_data)"
   ]
  },
  {
   "cell_type": "markdown",
   "metadata": {},
   "source": [
    "Reduce dimensionality via TSNE transform.\n",
    "\n",
    "<p class='warning'> Results may vary from run to run</p>"
   ]
  },
  {
   "cell_type": "code",
   "execution_count": 668,
   "metadata": {},
   "outputs": [
    {
     "name": "stdout",
     "output_type": "stream",
     "text": [
      "CPU times: user 7.12 s, sys: 89.9 ms, total: 7.21 s\n",
      "Wall time: 2.01 s\n"
     ]
    }
   ],
   "source": [
    "%%time\n",
    "tsne_data = tsne.fit_transform(pca_data_50)"
   ]
  },
  {
   "cell_type": "code",
   "execution_count": 669,
   "metadata": {},
   "outputs": [
    {
     "data": {
      "text/plain": [
       "<matplotlib.collections.PathCollection at 0x118679a20>"
      ]
     },
     "execution_count": 669,
     "metadata": {},
     "output_type": "execute_result"
    },
    {
     "data": {
      "image/png": "[encoded data removed]",
      "text/plain": [
       "<Figure size 432x288 with 1 Axes>"
      ]
     },
     "metadata": {
      "needs_background": "light"
     },
     "output_type": "display_data"
    }
   ],
   "source": [
    "plt.scatter(x=tsne_data[:,0], y=tsne_data[:,1])"
   ]
  },
  {
   "cell_type": "code",
   "execution_count": 670,
   "metadata": {},
   "outputs": [
    {
     "data": {
      "text/plain": [
       "<matplotlib.collections.PathCollection at 0x1188b2710>"
      ]
     },
     "execution_count": 670,
     "metadata": {},
     "output_type": "execute_result"
    },
    {
     "data": {
      "image/png": "[encoded data removed]",
      "text/plain": [
       "<Figure size 432x288 with 1 Axes>"
      ]
     },
     "metadata": {
      "needs_background": "light"
     },
     "output_type": "display_data"
    }
   ],
   "source": [
    "plt.scatter(x=pca_data_2[:,0], y=pca_data_2[:,1])"
   ]
  },
  {
   "cell_type": "markdown",
   "metadata": {},
   "source": [
    "#### Visualization with Altaïr\n",
    "\n",
    "After transforming the high-dimensional data down to 2 and 3 dimensional datasets, we can better visualize what the vectors we trained look like."
   ]
  },
  {
   "cell_type": "code",
   "execution_count": 602,
   "metadata": {},
   "outputs": [],
   "source": [
    "current = tsne_data\n",
    "columns = [f'd{i}' for i in range(current.shape[-1])]\n",
    "index = [f'{VOCABR[i]}' for i in range(current.shape[0])]\n",
    "\n",
    "viz_data = pd.DataFrame(tsne_data, columns=columns, index=index).reset_index()"
   ]
  },
  {
   "cell_type": "code",
   "execution_count": 603,
   "metadata": {},
   "outputs": [],
   "source": [
    "chart = alt.Chart(viz_data)"
   ]
  },
  {
   "cell_type": "code",
   "execution_count": 604,
   "metadata": {},
   "outputs": [
    {
     "data": {
      "text/plain": [
       "X({\n",
       "  \n",
       "})"
      ]
     },
     "execution_count": 604,
     "metadata": {},
     "output_type": "execute_result"
    }
   ],
   "source": [
    "alt.X()"
   ]
  },
  {
   "cell_type": "code",
   "execution_count": 605,
   "metadata": {},
   "outputs": [
    {
     "data": {
      "application/javascript": [
       "const spec = {\"config\": {\"view\": {\"width\": 400, \"height\": 300}, \"mark\": {\"tooltip\": null}}, \"data\": {\"name\": \"data-a47acf60e3b662400ed2dc4c056524bd\"}, \"mark\": \"point\", \"encoding\": {\"tooltip\": {\"type\": \"nominal\", \"field\": \"index\"}, \"x\": {\"type\": \"quantitative\", \"field\": \"d1\", \"title\": \"Dimension\"}, \"y\": {\"type\": \"quantitative\", \"field\": \"d0\"}}, \"selection\": {\"selector004\": {\"type\": \"interval\", \"bind\": \"scales\", \"encodings\": [\"x\", \"y\"]}}, \"$schema\": \"https://vega.github.io/schema/vega-lite/v3.4.0.json\", \"datasets\": {\"data-a47acf60e3b662400ed2dc4c056524bd\": [{\"index\": \"\\\"\", \"d0\": -0.019578229635953903, \"d1\": -4.129173278808594}, {\"index\": \"\\\"[10]\", \"d0\": -0.00589266512542963, \"d1\": 3.180783748626709}, {\"index\": \"\\\"[7]\", \"d0\": 1.3978309631347656, \"d1\": -3.493726968765259}, {\"index\": \"\\\"a\", \"d0\": 3.245042562484741, \"d1\": 0.7453663349151611}, {\"index\": \"\\\"following\", \"d0\": 2.2105700969696045, \"d1\": -0.7510890960693359}, {\"index\": \"\\\"one\", \"d0\": 2.496764659881592, \"d1\": 1.1512246131896973}, {\"index\": \"\\\"sigh\\\"\", \"d0\": 2.8342206478118896, \"d1\": -1.7348830699920654}, {\"index\": \"\\\"the\", \"d0\": -1.3023244142532349, \"d1\": 1.610892653465271}, {\"index\": \"\\\"though\", \"d0\": -1.146593689918518, \"d1\": -2.217820882797241}, {\"index\": \"\\\"whichever\", \"d0\": -1.048374891281128, \"d1\": -1.8357740640640259}, {\"index\": \"\\\"you\", \"d0\": 3.8646390438079834, \"d1\": -0.3515988886356354}, {\"index\": \"(abaab)\", \"d0\": 2.583200216293335, \"d1\": 2.7883903980255127}, {\"index\": \"2008\", \"d0\": -1.0697660446166992, \"d1\": 1.0286685228347778}, {\"index\": \"5\", \"d0\": -1.351184368133545, \"d1\": 0.7323439121246338}, {\"index\": \"[3]\", \"d0\": -0.6946340799331665, \"d1\": -0.8526492118835449}, {\"index\": \"[4]\", \"d0\": 1.8582946062088013, \"d1\": 2.8914878368377686}, {\"index\": \"[5][1]\", \"d0\": 2.077690839767456, \"d1\": -1.6305062770843506}, {\"index\": \"[6]\", \"d0\": 1.0337421894073486, \"d1\": -2.8084628582000732}, {\"index\": \"[6][9]\", \"d0\": -3.1209516525268555, \"d1\": -0.5788565874099731}, {\"index\": \"[8]\", \"d0\": 2.5131638050079346, \"d1\": -3.2626965045928955}, {\"index\": \"a\", \"d0\": -0.08020785450935364, \"d1\": 1.4529138803482056}, {\"index\": \"about\", \"d0\": 3.249969720840454, \"d1\": -3.550691843032837}, {\"index\": \"acceptance\", \"d0\": -2.779034376144409, \"d1\": -0.712312638759613}, {\"index\": \"according\", \"d0\": -3.2134816646575928, \"d1\": 2.2875046730041504}, {\"index\": \"affects\", \"d0\": 2.3633840084075928, \"d1\": 2.1324005126953125}, {\"index\": \"almost\", \"d0\": -2.1987597942352295, \"d1\": -3.0458803176879883}, {\"index\": \"also\", \"d0\": -2.1462349891662598, \"d1\": -0.45856523513793945}, {\"index\": \"alternative\", \"d0\": -1.6228816509246826, \"d1\": -2.135751724243164}, {\"index\": \"an\", \"d0\": 1.4470547437667847, \"d1\": -2.3722729682922363}, {\"index\": \"anapest\", \"d0\": -2.2230663299560547, \"d1\": -2.3614563941955566}, {\"index\": \"and\", \"d0\": -3.420074224472046, \"d1\": 0.302653044462204}, {\"index\": \"any\", \"d0\": 1.884527325630188, \"d1\": 0.5044115781784058}, {\"index\": \"as\", \"d0\": 1.6302257776260376, \"d1\": 3.763033151626587}, {\"index\": \"attractive\", \"d0\": -1.436915636062622, \"d1\": -3.0799739360809326}, {\"index\": \"audience,\", \"d0\": 1.8942124843597412, \"d1\": -0.9248670339584351}, {\"index\": \"based\", \"d0\": 2.6817116737365723, \"d1\": 0.08830949664115906}, {\"index\": \"basically\", \"d0\": 0.3334861695766449, \"d1\": -3.829836368560791}, {\"index\": \"be\", \"d0\": 1.324739694595337, \"d1\": 0.6512129306793213}, {\"index\": \"begins\", \"d0\": -0.7146801352500916, \"d1\": -1.3484869003295898}, {\"index\": \"belatedly\", \"d0\": -2.5840327739715576, \"d1\": -0.38904237747192383}, {\"index\": \"between\", \"d0\": 3.1908583641052246, \"d1\": -3.511186122894287}, {\"index\": \"biographer\", \"d0\": -1.5952702760696411, \"d1\": -0.44583794474601746}, {\"index\": \"biography\", \"d0\": 1.4954249858856201, \"d1\": -1.4102494716644287}, {\"index\": \"book\", \"d0\": 1.2999203205108643, \"d1\": 0.5007932186126709}, {\"index\": \"brian\", \"d0\": -2.511594772338867, \"d1\": 0.8835349082946777}, {\"index\": \"but\", \"d0\": -3.0735111236572266, \"d1\": -1.929150104522705}, {\"index\": \"careful\", \"d0\": -2.2399072647094727, \"d1\": -1.6004204750061035}, {\"index\": \"catches\", \"d0\": 0.5825840830802917, \"d1\": 4.021267890930176}, {\"index\": \"champions\", \"d0\": -1.7639026641845703, \"d1\": 0.38309919834136963}, {\"index\": \"choice\", \"d0\": 2.3723108768463135, \"d1\": -3.0117480754852295}, {\"index\": \"claiming\", \"d0\": -2.0073792934417725, \"d1\": -3.6086912155151367}, {\"index\": \"commented\", \"d0\": 1.592233419418335, \"d1\": 3.5619874000549316}, {\"index\": \"consists\", \"d0\": 3.4261438846588135, \"d1\": -1.5416886806488037}, {\"index\": \"contains\", \"d0\": 1.5536798238754272, \"d1\": 1.742904543876648}, {\"index\": \"conversationally\", \"d0\": -1.8151357173919678, \"d1\": 2.337259531021118}, {\"index\": \"depiction\", \"d0\": 3.0181806087493896, \"d1\": -3.5727922916412354}, {\"index\": \"didn't\", \"d0\": 2.4784159660339355, \"d1\": -2.58835768699646}, {\"index\": \"difference\", \"d0\": 2.854691982269287, \"d1\": -0.3426310122013092}, {\"index\": \"different\", \"d0\": -1.5237404108047485, \"d1\": 1.5755234956741333}, {\"index\": \"different,\", \"d0\": 1.2058826684951782, \"d1\": 1.7460317611694336}, {\"index\": \"each\", \"d0\": -0.7299437522888184, \"d1\": -3.029829263687134}, {\"index\": \"edward\", \"d0\": -0.8121046423912048, \"d1\": -1.5388758182525635}, {\"index\": \"energy\", \"d0\": 0.23500889539718628, \"d1\": -2.238978624343872}, {\"index\": \"every\", \"d0\": 4.209914207458496, \"d1\": 0.09689494222402573}, {\"index\": \"expectation\", \"d0\": 2.71905517578125, \"d1\": -0.6619755625724792}, {\"index\": \"expresses\", \"d0\": 1.4567220211029053, \"d1\": 2.4224090576171875}, {\"index\": \"expression\", \"d0\": 2.15573787689209, \"d1\": -0.048186954110860825}, {\"index\": \"fall\", \"d0\": 1.2944999933242798, \"d1\": -4.038541793823242}, {\"index\": \"feeling\", \"d0\": -2.8698956966400146, \"d1\": 2.408022880554199}, {\"index\": \"feet\", \"d0\": -1.8115475177764893, \"d1\": -1.3620582818984985}, {\"index\": \"fifth\", \"d0\": 2.694767713546753, \"d1\": -2.89859676361084}, {\"index\": \"final\", \"d0\": 3.0637428760528564, \"d1\": 0.842114269733429}, {\"index\": \"first\", \"d0\": -1.3462129831314087, \"d1\": 1.8764691352844238}, {\"index\": \"for\", \"d0\": 3.230929374694824, \"d1\": -2.216135025024414}, {\"index\": \"four\", \"d0\": -3.3406710624694824, \"d1\": 0.602184534072876}, {\"index\": \"fourth,\", \"d0\": -2.5787765979766846, \"d1\": 1.3478405475616455}, {\"index\": \"friend\", \"d0\": -3.5097010135650635, \"d1\": -2.2178823947906494}, {\"index\": \"frost\", \"d0\": -1.2606152296066284, \"d1\": -2.6992526054382324}, {\"index\": \"frost's\", \"d0\": 3.0901472568511963, \"d1\": 0.2787083387374878}, {\"index\": \"future\", \"d0\": 0.4057173728942871, \"d1\": -2.724236011505127}, {\"index\": \"gives\", \"d0\": 0.6201841235160828, \"d1\": 2.9178128242492676}, {\"index\": \"go\", \"d0\": -0.13673391938209534, \"d1\": 3.0995097160339355}, {\"index\": \"go,\", \"d0\": -1.08821439743042, \"d1\": 2.660747528076172}, {\"index\": \"good\", \"d0\": -1.4236780405044556, \"d1\": 2.4893734455108643}, {\"index\": \"guard\", \"d0\": 2.463430643081665, \"d1\": -1.254033088684082}, {\"index\": \"habitually\", \"d0\": 1.3049355745315552, \"d1\": 1.0755749940872192}, {\"index\": \"hall's\", \"d0\": -2.0795347690582275, \"d1\": 2.954864263534546}, {\"index\": \"hard\", \"d0\": 0.12637148797512054, \"d1\": -3.976757287979126}, {\"index\": \"has\", \"d0\": 3.8677494525909424, \"d1\": 1.5291997194290161}, {\"index\": \"have\", \"d0\": -4.0728759765625, \"d1\": -0.3789147734642029}, {\"index\": \"having\", \"d0\": 1.2208753824234009, \"d1\": -1.7405898571014404}, {\"index\": \"he\", \"d0\": 1.9065468311309814, \"d1\": 2.975184679031372}, {\"index\": \"himself\", \"d0\": 3.6580169200897217, \"d1\": -1.7164812088012695}, {\"index\": \"his\", \"d0\": 0.9789301156997681, \"d1\": 2.9055800437927246}, {\"index\": \"iamb\", \"d0\": 4.019769668579102, \"d1\": 1.6304060220718384}, {\"index\": \"iambic\", \"d0\": -0.6890718936920166, \"d1\": 1.6823188066482544}, {\"index\": \"iambs,\", \"d0\": -1.6340898275375366, \"d1\": 1.1233246326446533}, {\"index\": \"idea\", \"d0\": -2.0341858863830566, \"d1\": 3.848142385482788}, {\"index\": \"in\", \"d0\": -2.848024368286133, \"d1\": -2.2396974563598633}, {\"index\": \"intending\", \"d0\": -1.8598971366882324, \"d1\": 3.4322073459625244}, {\"index\": \"introducing\", \"d0\": 1.0058573484420776, \"d1\": -1.5368609428405762}, {\"index\": \"ironic\", \"d0\": -0.9861183166503906, \"d1\": 3.5979485511779785}, {\"index\": \"irony\", \"d0\": 0.6107649207115173, \"d1\": -3.5001676082611084}, {\"index\": \"is\", \"d0\": -2.0618350505828857, \"d1\": -2.205197334289551}, {\"index\": \"it\", \"d0\": 0.9017800092697144, \"d1\": 2.440714120864868}, {\"index\": \"it's\", \"d0\": -2.3147060871124268, \"d1\": -2.39174485206604}, {\"index\": \"just\", \"d0\": 1.4627861976623535, \"d1\": 2.9129600524902344}, {\"index\": \"kind\", \"d0\": -2.775291681289673, \"d1\": 1.2257684469223022}, {\"index\": \"last\", \"d0\": 1.0993317365646362, \"d1\": -3.1207070350646973}, {\"index\": \"lawrance\", \"d0\": 3.7981202602386475, \"d1\": -0.7052142024040222}, {\"index\": \"line\", \"d0\": 0.0064031933434307575, \"d1\": 0.4954773485660553}, {\"index\": \"line,\", \"d0\": 1.8715029954910278, \"d1\": -3.6661972999572754}, {\"index\": \"lines\", \"d0\": -1.6169018745422363, \"d1\": 0.8814122080802917}, {\"index\": \"made:\", \"d0\": 1.6551804542541504, \"d1\": -3.1218180656433105}, {\"index\": \"may\", \"d0\": 2.038825273513794, \"d1\": -0.5275552272796631}, {\"index\": \"mentioned\", \"d0\": -0.440940797328949, \"d1\": -2.057363271713257}, {\"index\": \"meter\", \"d0\": 1.9482673406600952, \"d1\": -2.6937925815582275}, {\"index\": \"miss\", \"d0\": -3.723231077194214, \"d1\": -0.16311149299144745}, {\"index\": \"misunderstood\", \"d0\": -2.1105804443359375, \"d1\": -3.511787176132202}, {\"index\": \"moment\", \"d0\": 1.7080639600753784, \"d1\": 3.9107000827789307}, {\"index\": \"more\", \"d0\": 0.7274683713912964, \"d1\": 2.565089464187622}, {\"index\": \"most\", \"d0\": -1.8904671669006348, \"d1\": 2.3960494995117188}, {\"index\": \"narrative\", \"d0\": 1.8125035762786865, \"d1\": 0.4712187349796295}, {\"index\": \"narrator\", \"d0\": 2.500383138656616, \"d1\": -0.04880748316645622}, {\"index\": \"naturally\", \"d0\": 4.1572418212890625, \"d1\": 0.9866692423820496}, {\"index\": \"naturalness,\", \"d0\": -2.213731050491333, \"d1\": 3.1150569915771484}, {\"index\": \"new\", \"d0\": -0.12060627341270447, \"d1\": -1.8531827926635742}, {\"index\": \"not\", \"d0\": 2.484621047973633, \"d1\": 1.2575305700302124}, {\"index\": \"occurring\", \"d0\": -1.5708065032958984, \"d1\": 1.7455329895019531}, {\"index\": \"of\", \"d0\": -0.7240798473358154, \"d1\": 1.059092402458191}, {\"index\": \"off\", \"d0\": 2.748552083969116, \"d1\": 2.378723382949829}, {\"index\": \"on\", \"d0\": 0.2580261826515198, \"d1\": -1.9354842901229858}, {\"index\": \"once\", \"d0\": -1.5618698596954346, \"d1\": -3.145002841949463}, {\"index\": \"one\", \"d0\": 2.0407674312591553, \"d1\": -0.5363321900367737}, {\"index\": \"one;\", \"d0\": -0.0756354033946991, \"d1\": 4.202080249786377}, {\"index\": \"only\", \"d0\": 3.357550859451294, \"d1\": -0.35766032338142395}, {\"index\": \"or\", \"d0\": 3.9802145957946777, \"d1\": -1.8099600076675415}, {\"index\": \"other\", \"d0\": 2.626235008239746, \"d1\": -2.7348315715789795}, {\"index\": \"over\", \"d0\": -0.954566478729248, \"d1\": -2.0709142684936523}, {\"index\": \"own\", \"d0\": 0.03724290803074837, \"d1\": 2.701732873916626}, {\"index\": \"passing\", \"d0\": 3.3370392322540283, \"d1\": 0.590176522731781}, {\"index\": \"path\", \"d0\": -2.7656407356262207, \"d1\": 2.0829005241394043}, {\"index\": \"path\\\",\", \"d0\": -2.006096124649048, \"d1\": 3.8011021614074707}, {\"index\": \"perhaps\", \"d0\": 4.251107692718506, \"d1\": -0.3631632924079895}, {\"index\": \"person\", \"d0\": -3.55385160446167, \"d1\": -1.5236207246780396}, {\"index\": \"photographic\", \"d0\": 0.38250645995140076, \"d1\": -1.4495863914489746}, {\"index\": \"poem\", \"d0\": 1.7401758432388306, \"d1\": -3.2312679290771484}, {\"index\": \"poem's\", \"d0\": 0.7822423577308655, \"d1\": -3.251376152038574}, {\"index\": \"poem,\", \"d0\": 0.31951627135276794, \"d1\": 2.8421483039855957}, {\"index\": \"poems,\", \"d0\": 0.6250978112220764, \"d1\": -0.7546214461326599}, {\"index\": \"poem\\u2014very\", \"d0\": 0.36052799224853516, \"d1\": -0.9361023902893066}, {\"index\": \"popular\", \"d0\": -2.2301433086395264, \"d1\": -0.8460367918014526}, {\"index\": \"positions,\", \"d0\": -0.5565845966339111, \"d1\": 3.1911380290985107}, {\"index\": \"possibilities\", \"d0\": -2.8578169345855713, \"d1\": 0.24468693137168884}, {\"index\": \"quiet\", \"d0\": 1.3216910362243652, \"d1\": -0.05408446863293648}, {\"index\": \"read\", \"d0\": 3.3891680240631104, \"d1\": 1.7234288454055786}, {\"index\": \"reader\", \"d0\": 1.372531533241272, \"d1\": -3.531372308731079}, {\"index\": \"reader's\", \"d0\": 0.22462256252765656, \"d1\": 0.4955378770828247}, {\"index\": \"readings,\", \"d0\": -3.334808588027954, \"d1\": -1.4417598247528076}, {\"index\": \"reads\", \"d0\": -2.487901210784912, \"d1\": 2.7959675788879395}, {\"index\": \"reality:\", \"d0\": -1.5667725801467896, \"d1\": -3.0996835231781006}, {\"index\": \"regarding\", \"d0\": -2.6401047706604004, \"d1\": -1.0181809663772583}, {\"index\": \"regret\", \"d0\": -3.807269334793091, \"d1\": -0.5153822898864746}, {\"index\": \"regretting\", \"d0\": -1.3793361186981201, \"d1\": -3.639172077178955}, {\"index\": \"regular\", \"d0\": -0.5491749048233032, \"d1\": -2.565542697906494}, {\"index\": \"rejected\\\"\", \"d0\": -1.4728447198867798, \"d1\": -1.1450859308242798}, {\"index\": \"replaced\", \"d0\": 0.6172189712524414, \"d1\": 4.336066722869873}, {\"index\": \"review\", \"d0\": 2.6168460845947266, \"d1\": -1.801500916481018}, {\"index\": \"rhyme\", \"d0\": -1.0067229270935059, \"d1\": -2.623582601547241}, {\"index\": \"rhymes\", \"d0\": -0.4206247925758362, \"d1\": -3.4594614505767822}, {\"index\": \"rhythm\", \"d0\": -2.580672025680542, \"d1\": 2.1443967819213867}, {\"index\": \"road\", \"d0\": 1.570552110671997, \"d1\": -0.7271774411201477}, {\"index\": \"roads,\", \"d0\": -2.669757604598999, \"d1\": 0.8010122776031494}, {\"index\": \"said\", \"d0\": 0.5567511320114136, \"d1\": 0.4517098665237427}, {\"index\": \"satisfaction,\", \"d0\": -3.080386161804199, \"d1\": -2.461724042892456}, {\"index\": \"say\", \"d0\": -3.139569044113159, \"d1\": 1.8911197185516357}, {\"index\": \"says\", \"d0\": 0.63251793384552, \"d1\": 1.8998521566390991}, {\"index\": \"second\", \"d0\": 3.452897548675537, \"d1\": -1.3521575927734375}, {\"index\": \"seen\", \"d0\": -0.7019160389900208, \"d1\": 2.7641608715057373}, {\"index\": \"sense\", \"d0\": 4.0196943283081055, \"d1\": 0.6847379207611084}, {\"index\": \"sighs\", \"d0\": 0.34029045701026917, \"d1\": 3.892597198486328}, {\"index\": \"significance\", \"d0\": -2.6759238243103027, \"d1\": -0.884559154510498}, {\"index\": \"significantly\", \"d0\": -0.27693864703178406, \"d1\": -1.5970544815063477}, {\"index\": \"simply\", \"d0\": 2.5089502334594727, \"d1\": 2.992067575454712}, {\"index\": \"some\", \"d0\": 3.231001615524292, \"d1\": -2.2571606636047363}, {\"index\": \"something\", \"d0\": -2.765723943710327, \"d1\": -0.4613283574581146}, {\"index\": \"sorry\", \"d0\": 1.8914885520935059, \"d1\": 1.225964069366455}, {\"index\": \"speaker\", \"d0\": 2.010056257247925, \"d1\": 0.9653043150901794}, {\"index\": \"spontaneously,\", \"d0\": 1.770647406578064, \"d1\": -1.6853877305984497}, {\"index\": \"stanza,\", \"d0\": -0.44163477420806885, \"d1\": -0.6803507804870605}, {\"index\": \"stanzas\", \"d0\": -1.5149818658828735, \"d1\": 2.607574939727783}, {\"index\": \"states:\", \"d0\": -0.9333954453468323, \"d1\": 2.3061296939849854}, {\"index\": \"strictly\", \"d0\": -0.39650821685791016, \"d1\": 3.7494747638702393}, {\"index\": \"suggest\", \"d0\": -0.2854098081588745, \"d1\": -2.562974214553833}, {\"index\": \"suggest,\", \"d0\": -3.87141489982605, \"d1\": 0.6945589184761047}, {\"index\": \"suggests\", \"d0\": -2.2155160903930664, \"d1\": 0.46903499960899353}, {\"index\": \"sunday\", \"d0\": 3.3900046348571777, \"d1\": 1.5754112005233765}, {\"index\": \"supports\", \"d0\": -1.4803866147994995, \"d1\": 0.9351758360862732}, {\"index\": \"sure\", \"d0\": 1.5701240301132202, \"d1\": 0.2814851701259613}, {\"index\": \"taken\\\"\", \"d0\": 1.0682706832885742, \"d1\": -0.5742956399917603}, {\"index\": \"tetrameter,\", \"d0\": -2.671931743621826, \"d1\": -3.0110490322113037}, {\"index\": \"that\", \"d0\": -3.3933300971984863, \"d1\": 0.8749134540557861}, {\"index\": \"the\", \"d0\": -0.9524128437042236, \"d1\": -4.066555500030518}, {\"index\": \"there\", \"d0\": 0.9388049244880676, \"d1\": 3.588123083114624}, {\"index\": \"they\", \"d0\": -1.6164599657058716, \"d1\": 3.448659658432007}, {\"index\": \"they're\", \"d0\": 4.038370609283447, \"d1\": -0.4585805833339691}, {\"index\": \"third\", \"d0\": 2.632774829864502, \"d1\": 2.832719326019287}, {\"index\": \"thomas\", \"d0\": -1.306899070739746, \"d1\": -1.5324476957321167}, {\"index\": \"thompson\", \"d0\": 2.7485780715942383, \"d1\": 2.2888879776000977}, {\"index\": \"thompson,\", \"d0\": -0.08811536431312561, \"d1\": -4.0355072021484375}, {\"index\": \"though\", \"d0\": -1.3832199573516846, \"d1\": 0.10492376983165741}, {\"index\": \"thought\", \"d0\": 3.166956663131714, \"d1\": 2.8754467964172363}, {\"index\": \"times\", \"d0\": 1.3312885761260986, \"d1\": 1.236304521560669}, {\"index\": \"to\", \"d0\": -0.049529336392879486, \"d1\": 2.4299919605255127}, {\"index\": \"together\", \"d0\": 4.3203444480896, \"d1\": 0.7774842381477356}, {\"index\": \"towards\", \"d0\": 1.8419525623321533, \"d1\": 2.1930699348449707}, {\"index\": \"tricky\", \"d0\": 3.4059882164001465, \"d1\": -1.4628649950027466}, {\"index\": \"tricky,\\\"\", \"d0\": -0.6185619831085205, \"d1\": 1.9180314540863037}, {\"index\": \"turning\", \"d0\": 1.5419975519180298, \"d1\": 2.5788347721099854}, {\"index\": \"two\", \"d0\": 3.2861852645874023, \"d1\": -2.5540387630462646}, {\"index\": \"two-syllable\", \"d0\": -3.4973464012145996, \"d1\": 0.07791072130203247}, {\"index\": \"variation\", \"d0\": 3.3167271614074707, \"d1\": 1.7288577556610107}, {\"index\": \"was\", \"d0\": -1.566142201423645, \"d1\": 1.0949610471725464}, {\"index\": \"wastes\", \"d0\": -0.6714360117912292, \"d1\": -0.37420305609703064}, {\"index\": \"way\", \"d0\": -1.097973108291626, \"d1\": -0.06620920449495316}, {\"index\": \"went,\", \"d0\": -0.42039915919303894, \"d1\": 3.6911659240722656}, {\"index\": \"what\", \"d0\": -2.838979959487915, \"d1\": -2.7448537349700928}, {\"index\": \"when\", \"d0\": 3.75567626953125, \"d1\": -2.050527811050415}, {\"index\": \"whichever\", \"d0\": 1.3418259620666504, \"d1\": -0.25533396005630493}, {\"index\": \"who\", \"d0\": -0.7863829731941223, \"d1\": 1.0211278200149536}, {\"index\": \"who,\", \"d0\": 2.748685836791992, \"d1\": -2.0634799003601074}, {\"index\": \"will\", \"d0\": -3.4536778926849365, \"d1\": 0.2920302748680115}, {\"index\": \"wistfully\", \"d0\": -0.4545876383781433, \"d1\": -2.5158979892730713}, {\"index\": \"with\", \"d0\": -1.7131237983703613, \"d1\": -3.788867473602295}, {\"index\": \"woods\", \"d0\": -0.3587917387485504, \"d1\": -1.233230471611023}, {\"index\": \"words,\", \"d0\": -3.233799934387207, \"d1\": -1.4842535257339478}, {\"index\": \"work\", \"d0\": -0.07397463172674179, \"d1\": 1.091261386871338}, {\"index\": \"works\", \"d0\": -0.5372337102890015, \"d1\": 3.4606144428253174}, {\"index\": \"would\", \"d0\": 2.696963310241699, \"d1\": 0.5979654788970947}, {\"index\": \"york\", \"d0\": 2.1371777057647705, \"d1\": 3.5336148738861084}, {\"index\": \"your\", \"d0\": -0.4212131202220917, \"d1\": -3.7780654430389404}, {\"index\": \"\\u2026\", \"d0\": -1.0519115924835205, \"d1\": 4.022556781768799}]}};\n",
       "const opt = {};\n",
       "const type = \"vega-lite\";\n",
       "const id = \"f37ce59f-c5b9-480d-a1de-147a03cbc546\";\n",
       "\n",
       "const output_area = this;\n",
       "\n",
       "require([\"nbextensions/jupyter-vega/index\"], function(vega) {\n",
       "  const target = document.createElement(\"div\");\n",
       "  target.id = id;\n",
       "  target.className = \"vega-embed\";\n",
       "\n",
       "  const style = document.createElement(\"style\");\n",
       "  style.textContent = [\n",
       "    \".vega-embed .error p {\",\n",
       "    \"  color: firebrick;\",\n",
       "    \"  font-size: 14px;\",\n",
       "    \"}\",\n",
       "  ].join(\"\\\\n\");\n",
       "\n",
       "  // element is a jQuery wrapped DOM element inside the output area\n",
       "  // see http://ipython.readthedocs.io/en/stable/api/generated/\\\n",
       "  // IPython.display.html#IPython.display.Javascript.__init__\n",
       "  element[0].appendChild(target);\n",
       "  element[0].appendChild(style);\n",
       "\n",
       "  vega.render(\"#\" + id, spec, type, opt, output_area);\n",
       "}, function (err) {\n",
       "  if (err.requireType !== \"scripterror\") {\n",
       "    throw(err);\n",
       "  }\n",
       "});\n"
      ],
      "text/plain": [
       "<vega.vegalite.VegaLite at 0x1183b2400>"
      ]
     },
     "metadata": {
      "jupyter-vega": "#f37ce59f-c5b9-480d-a1de-147a03cbc546"
     },
     "output_type": "display_data"
    },
    {
     "data": {
      "text/plain": []
     },
     "execution_count": 605,
     "metadata": {},
     "output_type": "execute_result"
    },
    {
     "data": {
      "image/png": "[encoded data removed]"
     },
     "metadata": {
      "jupyter-vega": "#f37ce59f-c5b9-480d-a1de-147a03cbc546"
     },
     "output_type": "display_data"
    }
   ],
   "source": [
    "marked = chart.mark_point()\n",
    "marked.encode(x=alt.X('d1:Q', title='Dimension'), y='d0:Q', tooltip='index').interactive(True)"
   ]
  },
  {
   "cell_type": "code",
   "execution_count": null,
   "metadata": {},
   "outputs": [],
   "source": [
    "viz_data"
   ]
  },
  {
   "cell_type": "markdown",
   "metadata": {},
   "source": [
    "---"
   ]
  },
  {
   "cell_type": "code",
   "execution_count": null,
   "metadata": {},
   "outputs": [],
   "source": [
    "vector.shape, matrix_1.shape"
   ]
  },
  {
   "cell_type": "code",
   "execution_count": null,
   "metadata": {},
   "outputs": [],
   "source": [
    "pred, h, u = forward(vector, matrix_1, matrix_2)\n",
    "pred.shape, h.shape, u.shape"
   ]
  },
  {
   "cell_type": "code",
   "execution_count": null,
   "metadata": {},
   "outputs": [],
   "source": [
    "VOCABR[vector.argmax()]"
   ]
  },
  {
   "cell_type": "code",
   "execution_count": null,
   "metadata": {},
   "outputs": [],
   "source": [
    "VOCABR[pred.argmax()]"
   ]
  },
  {
   "cell_type": "markdown",
   "metadata": {},
   "source": [
    "## Using an Existing Package\n",
    "\n",
    "There are existing implementations that already exist that allow you to use Word2Vec technology out of the box.\n",
    "\n",
    "Examples of these include:\n",
    "  * SpaCy\n",
    "  * gensim\n",
    "  * ELMo\n",
    "  * fasttext\n",
    " \n",
    " \n",
    "### SpaCy"
   ]
  },
  {
   "cell_type": "code",
   "execution_count": null,
   "metadata": {},
   "outputs": [],
   "source": [
    "nlp = spacy.load('en_core_web_sm')"
   ]
  },
  {
   "cell_type": "code",
   "execution_count": null,
   "metadata": {},
   "outputs": [],
   "source": []
  },
  {
   "cell_type": "code",
   "execution_count": null,
   "metadata": {},
   "outputs": [],
   "source": []
  }
 ],
 "metadata": {
  "kernelspec": {
   "display_name": "Python 3",
   "language": "python",
   "name": "python3"
  },
  "language_info": {
   "codemirror_mode": {
    "name": "ipython",
    "version": 3
   },
   "file_extension": ".py",
   "mimetype": "text/x-python",
   "name": "python",
   "nbconvert_exporter": "python",
   "pygments_lexer": "ipython3",
   "version": "3.6.9"
  }
 },
 "nbformat": 4,
 "nbformat_minor": 2
}
