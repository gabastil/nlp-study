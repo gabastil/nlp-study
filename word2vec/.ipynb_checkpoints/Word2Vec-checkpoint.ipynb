{
 "cells": [
  {
   "cell_type": "markdown",
   "metadata": {},
   "source": [
    "# Presentation on Word2Vec\n",
    "Glenn Abastillas | 24 March, 2020\n",
    "\n",
    "This notebook goes over an example implementation of Word2Vec and some existing packages that perform Word2Vec training.\n",
    "\n",
    "Contents\n",
    "  1.  Preliminary Steps\n",
    "      * [Load Packages](#load_packages)\n",
    "      * [Preprocess Data](#preprocess_data)\n",
    "      * [Quick Background](#quick_background)\n",
    "  2. [Implementation from Scratch](#implementation_from_scratch)\n",
    "      * Word2Vec Flavors: Continuous Back of Words (CBOW) / Skip Grams (SG)\n",
    "      * Training\n",
    "      * Retrieving the trained matrix\n",
    "  3. Using an Existing Package\n",
    "\n",
    "__At each step, we will also cover other packages that can be used to acheive the same thing (e.g., Countvectorizer)__\n",
    "  \n",
    "---\n",
    "\n",
    "### Load Packages <a id=\"load_packages\"></a>\n",
    "First we import packages and clean the data."
   ]
  },
  {
   "cell_type": "code",
   "execution_count": 1,
   "metadata": {},
   "outputs": [],
   "source": [
    "import numpy as np\n",
    "import spacy\n",
    "import tqdm\n",
    "from string import punctuation\n",
    "from nltk.corpus import gutenberg, stopwords\n",
    "from collections import namedtuple"
   ]
  },
  {
   "cell_type": "markdown",
   "metadata": {},
   "source": [
    "We will use data from the `gutenberg` corpus and normalize the input data."
   ]
  },
  {
   "cell_type": "code",
   "execution_count": 2,
   "metadata": {},
   "outputs": [],
   "source": [
    "sents = gutenberg.sents('melville-moby_dick.txt')"
   ]
  },
  {
   "cell_type": "markdown",
   "metadata": {},
   "source": [
    "`[insert navigation here]`\n",
    "\n",
    "---\n",
    "### Preprocess Data <a id=\"preprocess_data\"></a>\n",
    "##### Normalize Vocabulary\n",
    "\n",
    "To improve processing and richness of our lexical items, we normalize our language data. \n",
    "\n",
    "Normalizing data can involve a variety of tasks depending on the final application of our language model. These tasks including making all words the same case, removing punctuation, and removing **<a id=\"stopword\" style=\"text-decoration: none; cursor: help;\" title=\"Words that contribute little semantic information to a text\">stopwords</a>**.\n",
    "\n",
    "For this presentation, we will use **<a id=\"token\" style=\"text-decoration: none; cursor: help;\" title=\"Combinations of characters separated by spaces (e.g., words, numbers)\">tokens</a>** that are not punctuation nor stopwords.\n",
    "\n",
    "Let's quickly define some functions we will use to pare our text data down."
   ]
  },
  {
   "cell_type": "code",
   "execution_count": 3,
   "metadata": {},
   "outputs": [],
   "source": [
    "stopwords_ = stopwords.words('english')\n",
    "\n",
    "def is_stopword(token):\n",
    "    ''' Check if a specified token is a stopword. '''\n",
    "    try:\n",
    "        return token.lower() in stopwords_\n",
    "    except:\n",
    "        return False\n",
    "\n",
    "def is_valid_token(token):\n",
    "    ''' Check if token is valid, i.e., not a stopword or punctuation '''\n",
    "    try:\n",
    "        return token.isalnum() & ~is_stopword(token)\n",
    "    except:\n",
    "        return False"
   ]
  },
  {
   "cell_type": "markdown",
   "metadata": {},
   "source": [
    "##### First Normalization Step\n",
    "Next, we create our `raw_text` data using the functions we just defined."
   ]
  },
  {
   "cell_type": "code",
   "execution_count": 4,
   "metadata": {},
   "outputs": [
    {
     "name": "stdout",
     "output_type": "stream",
     "text": [
      "Number of sentences : 7428\n",
      "CPU times: user 1.83 s, sys: 38.7 ms, total: 1.86 s\n",
      "Wall time: 1.88 s\n"
     ]
    }
   ],
   "source": [
    "%%time\n",
    "normalized_sents = [[word.lower() for word in sent if is_valid_token(word)] for sent in sents]\n",
    "normalized_sents = [sent for sent in normalized_sents if len(sent) > 3]\n",
    "print(f'Number of sentences : {len(normalized_sents)}')"
   ]
  },
  {
   "cell_type": "markdown",
   "metadata": {},
   "source": [
    "With our `normalized_text`, we can create a `dict` to convert the strings into numbers for faster processing down the line."
   ]
  },
  {
   "cell_type": "code",
   "execution_count": 5,
   "metadata": {},
   "outputs": [],
   "source": [
    "flattened_text = [word for sent in normalized_sents for word in sent]\n",
    "\n",
    "WORDS = np.unique(flattened_text)\n",
    "INDEX = np.arange(WORDS.size)\n",
    "\n",
    "VOCAB = dict(zip(WORDS, INDEX))\n",
    "VOCABR = dict(zip(INDEX, WORDS))"
   ]
  },
  {
   "cell_type": "markdown",
   "metadata": {},
   "source": [
    "We now define a `to_index` function to convert strings to integers for faster processing."
   ]
  },
  {
   "cell_type": "code",
   "execution_count": 6,
   "metadata": {},
   "outputs": [],
   "source": [
    "def to_index(token, reference=VOCAB, indices=INDEX):\n",
    "    ''' Convert an input token into an integer according to a specified reference\n",
    "        \n",
    "        Parameters\n",
    "        ----------\n",
    "            token (str) : token to convert to an integer\n",
    "            reference (list, array) : Reference array with unique vocabulary\n",
    "            indices (list, array) : Reference array with vocabulary indices\n",
    "        \n",
    "        Returns\n",
    "        -------\n",
    "            An integer representing the input token's position in the reference object\n",
    "    \n",
    "        Notes\n",
    "        -----\n",
    "            Function assumes input token is already in lower case\n",
    "    '''\n",
    "    return VOCAB[token]"
   ]
  },
  {
   "cell_type": "markdown",
   "metadata": {},
   "source": [
    "##### Second Normalization Step\n",
    "\n",
    "Using the conversion function defined above, we can convert our `normalized_sents` into `data`, which contains only integers that will be used in our Word2Vec example."
   ]
  },
  {
   "cell_type": "code",
   "execution_count": 7,
   "metadata": {},
   "outputs": [
    {
     "name": "stdout",
     "output_type": "stream",
     "text": [
      "CPU times: user 5 µs, sys: 1e+03 ns, total: 6 µs\n",
      "Wall time: 8.82 µs\n"
     ]
    }
   ],
   "source": [
    "%%time\n",
    "data = (np.array([to_index(word) for word in sent]) for sent in normalized_sents)"
   ]
  },
  {
   "cell_type": "markdown",
   "metadata": {},
   "source": [
    "`[insert navigation here]`\n",
    "\n",
    "---\n",
    "### Preprocessing Text\n",
    "\n",
    "Use this reference for later [Dimensions greater than 300 have diminishing returns](https://www.aclweb.org/anthology/D14-1162/)\n",
    "\n",
    "### Quick Background <a id=\"quick_background\"></a>\n",
    "#### Background Into Word2Vec\n",
    "\n",
    "* What is it?\n",
    "  - Quick definition (implementation of theoretical matrix bit)\n",
    "  - What is does to text.\n",
    "  - What the output is.\n",
    "  \n",
    "* Why do we need it?\n",
    "  - Many uses in AI.\n",
    "  - Usage in NLP\n",
    "  - Pros\n",
    "  - Cons\n",
    " \n",
    "* What cool things can it do?\n",
    "  - Condense text into a lightweight matrix\n",
    "  - Provide semantic abilities\n",
    "  - Enable data to have algebraic properties\n",
    " \n",
    "* What are competing models?\n",
    "  - Other models to represent text\n",
    "  - GloVe\n",
    "  - Other vectorization models"
   ]
  },
  {
   "cell_type": "markdown",
   "metadata": {},
   "source": [
    "`[insert navigation here]`\n",
    "\n",
    "---\n",
    "## Implementation from Scratch <a id=\"implementation_from_scratch\"></a>\n",
    "\n",
    "For things example, we will create a Word2Vec language model using the data we preprocessed above. \n",
    "\n",
    "In this section, we will develop a **<a id=\"cbow\" style=\"text-decoration: none; cursor: help;\" title=\"Continuous Bag of Words\">CBOW</a>** flavored Word2Vec model.\n",
    "\n",
    "We will:\n",
    "  * Create CBOW windows\n",
    "  * Create preliminary <a id='one-hot' style='text-decoration: none; cursor: help;' title='A vector that is comprised of zeros and ones indicating absence or presence of a value'>one-hot vectors</a>\n",
    "\n",
    "\n",
    "###### Parameters <a id='parameters'></a>\n",
    "First we define some hyperparameters that we use for training."
   ]
  },
  {
   "cell_type": "code",
   "execution_count": 8,
   "metadata": {},
   "outputs": [],
   "source": [
    "parameters = {'window_size' : 2, 'dimensions' : 100, 'learning_rate' : 0.02, 'epochs' : 500}"
   ]
  },
  {
   "cell_type": "markdown",
   "metadata": {},
   "source": [
    "This table quickly describes what each parameter does.\n",
    "\n",
    "Parameters | Data Type | Description\n",
    "--- | :-: | :--\n",
    "`window_size` | `int` | The number of target tokens before and after a central token to include\n",
    "`dimensions` | `int` | The number of dimensions in hidden layer. Dimensions greater than 300 have diminishing returns `[cite]`.\n",
    "`learning_rate` | `float` | How quickly our model will correct itself\n",
    "`epochs` | `int` | The number of rounds the model is trained\n",
    "\n",
    "##### Creating the Training Data <a id=\"creating_the_training_data\"></a>\n",
    "\n",
    "**Windowing** : We will generate loose <a id='one-hot' style='text-decoration: none; cursor: help;' title='A vector that is comprised of zeros and ones indicating absence or presence of a value'>one-hot vectors</a> that will serve as input and target data when training our model.\n",
    "\n",
    "First we filter our data to ensure we have sufficient data to window."
   ]
  },
  {
   "cell_type": "code",
   "execution_count": 9,
   "metadata": {},
   "outputs": [
    {
     "name": "stdout",
     "output_type": "stream",
     "text": [
      "CPU times: user 89.2 ms, sys: 5 ms, total: 94.2 ms\n",
      "Wall time: 100 ms\n"
     ]
    }
   ],
   "source": [
    "%%time\n",
    "data = [sent for sent in data if sent.size >= parameters['window_size'] + 1]"
   ]
  },
  {
   "cell_type": "markdown",
   "metadata": {},
   "source": [
    "Now, we generate our one hot vectors using the `VOCAB` as a model for our vector.\n",
    "\n",
    "Let's define a few functions to help use generate these data."
   ]
  },
  {
   "cell_type": "code",
   "execution_count": 11,
   "metadata": {},
   "outputs": [],
   "source": [
    "Datum = namedtuple('Datum', 'target context'.split())\n",
    "\n",
    "def one_hot(token, size=WORDS.size, key=VOCAB):\n",
    "    ''' Convert an input token into an integer according to a specified reference\n",
    "        \n",
    "        Parameters\n",
    "        ----------\n",
    "            token (str) : token to convert to a one-hot array\n",
    "            size (int) : length of one-hot array to return\n",
    "            key (dict) : key-value mapping for tokens and indices\n",
    "        \n",
    "        Returns\n",
    "        -------\n",
    "            (np.array) A one-hot vector\n",
    "    '''\n",
    "    vector = np.zeros((size, 1))\n",
    "    vector[token] = 1\n",
    "    return vector\n",
    "\n",
    "def process_sentence(sent, processed_sentence={}, window_size=parameters['window_size'] + 1):\n",
    "    ''' Return a dictionary with token keys and contexts as values\n",
    "        \n",
    "        Parameters\n",
    "        ----------\n",
    "            sent (list) : sentence to convert into one-hot vectors \n",
    "                          and group into target and context\n",
    "            processed_sentence (dict) : Previously processed sentences to add to\n",
    "            window_size (int) : Window size of CBOW\n",
    "        \n",
    "        Returns\n",
    "        -------\n",
    "            (dict) object with tokens as keys and their corresponding\n",
    "                   one-hot vector targets and context in the following format:\n",
    "            \n",
    "            >> { token : [[target, [context-1, context-2, ...]], ...]}\n",
    "    '''\n",
    "    \n",
    "    for i, token in enumerate(sent):\n",
    "        a, b, j = max(i - window_size, 0), i + window_size, i+1\n",
    "        before, after = sent[a:i], sent[j:b]\n",
    "\n",
    "        context = []\n",
    "\n",
    "        for context_token in np.append(before, after):\n",
    "            try:\n",
    "                context.append(one_hot(context_token))\n",
    "            except:\n",
    "                print(token, context_token, a, b, before, after, sent[a:b])\n",
    "                raise\n",
    "        \n",
    "        if token in processed_sentence:\n",
    "            processed_sentence[token].context.append(context)\n",
    "        else:\n",
    "            target = one_hot(token)\n",
    "            processed_sentence[token] = Datum(target, [context])\n",
    "\n",
    "    return processed_sentence"
   ]
  },
  {
   "cell_type": "markdown",
   "metadata": {},
   "source": [
    "```For debuggin purposes, item in index 10 has duplicates```"
   ]
  },
  {
   "cell_type": "code",
   "execution_count": 12,
   "metadata": {},
   "outputs": [],
   "source": [
    "test = process_sentence(data[10])"
   ]
  },
  {
   "cell_type": "markdown",
   "metadata": {},
   "source": [
    "Loop through all the sentences to generate `target` and `context` data for training."
   ]
  },
  {
   "cell_type": "code",
   "execution_count": 13,
   "metadata": {},
   "outputs": [
    {
     "name": "stderr",
     "output_type": "stream",
     "text": [
      "100%|██████████| 7428/7428 [00:09<00:00, 815.10it/s] \n"
     ]
    }
   ],
   "source": [
    "processed_sentences = {}\n",
    "for sent in tqdm.tqdm(data):\n",
    "    processed_sentences = process_sentence(sent, processed_sentences)\n"
   ]
  },
  {
   "cell_type": "markdown",
   "metadata": {},
   "source": [
    "`[insert navigation here]`\n",
    "\n",
    "---\n",
    "##### Create Layers <a id='create_layers'></a>\n",
    "\n",
    "These matrices will serve as the layers that surround our `word2vec` layer during training."
   ]
  },
  {
   "cell_type": "code",
   "execution_count": 14,
   "metadata": {},
   "outputs": [
    {
     "name": "stdout",
     "output_type": "stream",
     "text": [
      "Dimensions\n",
      "Matrix 1 (16577, 100)\n",
      "Matrix 2 (16577, 100)\n"
     ]
    }
   ],
   "source": [
    "matrix_1 = np.random.random((WORDS.size, parameters['dimensions']))\n",
    "matrix_2 = np.random.random((WORDS.size, parameters['dimensions']))\n",
    "print(f'Dimensions\\nMatrix 1 {matrix_1.shape}\\nMatrix 2 {matrix_2.shape}')"
   ]
  },
  {
   "cell_type": "markdown",
   "metadata": {},
   "source": [
    "`[insert navigation here]`\n",
    "\n",
    "---\n",
    "###### Feed Forward Algorithm\n",
    "\n",
    "The first part of a two part algorithm defining a <a id='learning-step' style='text-decoration: none; cursor: help;' title='A phase where training data are learned and errors are adjusted throughout the model'>learning step</a>. This algorithm introduces our randomly initialized model to its first evidence of real data to learn from. It then predicts a surrounding vocabulary item from it."
   ]
  },
  {
   "cell_type": "code",
   "execution_count": 63,
   "metadata": {},
   "outputs": [],
   "source": [
    "def softmax(datum):\n",
    "    ''' Return the an array normalized to a probability '''\n",
    "    e = np.exp(datum - datum.max())\n",
    "    return e / e.sum()\n",
    "\n",
    "def forward(datum, matrix_1=matrix_1, matrix_2=matrix_2):\n",
    "    ''' Return three matrices corresponding to the prediction, hidden layer, and output '''\n",
    "    hidden = np.dot(matrix_1.T, datum)\n",
    "    output = np.dot(matrix_2, hidden)\n",
    "    prediction = softmax(output)\n",
    "    return prediction, hidden, output"
   ]
  },
  {
   "cell_type": "markdown",
   "metadata": {},
   "source": [
    "`[insert navigation here]`\n",
    "\n",
    "---\n",
    "###### Backpropagation Algorithm\n",
    "\n",
    "The second part of the two part algorithm defining a <a id='learning-step' style='text-decoration: none; cursor: help;' title='A phase where training data are learned and errors are adjusted throughout the model'>learning step</a>. This algorithm compares the output of the <a id='feed-forward-algorithm' style='text-decoration: none; cursor: help;' title='The algorithm that takes in new data and attempts to make predictions from it'>feed forward algorithm</a> to the input token's actual context, calculates the error, and adjusts the model to correct for it. The adjustments are made in increments set by the learning rate parameter we set in our `parameters` variable."
   ]
  },
  {
   "cell_type": "code",
   "execution_count": 103,
   "metadata": {},
   "outputs": [],
   "source": [
    "def calculate_error(prediction, context):\n",
    "    ''' Return a matrix with the summed prediction error '''\n",
    "    error = np.zeros((prediction.size, 1))\n",
    "    for subcontext in context:\n",
    "        for token in subcontext:\n",
    "            error += prediction - token\n",
    "    return error\n",
    "\n",
    "def backpropagate(prediction, hidden, target, context, matrix_1=matrix_1, matrix_2=matrix_2):\n",
    "    ''' Update weight matrices according to output from forward() '''\n",
    "    error = calculate_error(prediction, context)\n",
    "    \n",
    "    matrix_2_delta = np.outer(error, hidden)\n",
    "    hidden_error = np.dot(matrix_2.T, error)\n",
    "    matrix_1_delta = np.outer(hidden_error, target).T\n",
    "    \n",
    "    matrix_1 -= matrix_1_delta * parameters['learning_rate']\n",
    "    matrix_2 -= matrix_2_delta * parameters['learning_rate']\n",
    "    \n",
    "#     return matrix_1_delta, matrix_2_delta"
   ]
  },
  {
   "cell_type": "markdown",
   "metadata": {},
   "source": [
    "Sandbox test for FF and BP"
   ]
  },
  {
   "cell_type": "code",
   "execution_count": 71,
   "metadata": {},
   "outputs": [],
   "source": [
    "example = processed_sentences[0]\n",
    "target, context = example.target, example.context"
   ]
  },
  {
   "cell_type": "code",
   "execution_count": null,
   "metadata": {},
   "outputs": [],
   "source": [
    "pred, h, u = forward(target)"
   ]
  },
  {
   "cell_type": "code",
   "execution_count": 87,
   "metadata": {},
   "outputs": [],
   "source": [
    "error = calculate_error(pred, context)"
   ]
  },
  {
   "cell_type": "code",
   "execution_count": 90,
   "metadata": {},
   "outputs": [
    {
     "data": {
      "text/plain": [
       "((100, 1), (16577, 1))"
      ]
     },
     "execution_count": 90,
     "metadata": {},
     "output_type": "execute_result"
    }
   ],
   "source": [
    "h.shape, error.shape"
   ]
  },
  {
   "cell_type": "code",
   "execution_count": 92,
   "metadata": {},
   "outputs": [
    {
     "data": {
      "text/plain": [
       "(16577, 100)"
      ]
     },
     "execution_count": 92,
     "metadata": {},
     "output_type": "execute_result"
    }
   ],
   "source": [
    "delta_matrix_2 = np.outer(error, h)\n",
    "delta_matrix_2.shape"
   ]
  },
  {
   "cell_type": "code",
   "execution_count": 93,
   "metadata": {},
   "outputs": [
    {
     "data": {
      "text/plain": [
       "(100, 1)"
      ]
     },
     "execution_count": 93,
     "metadata": {},
     "output_type": "execute_result"
    }
   ],
   "source": [
    "error_2 = np.dot(matrix_2.T, error)\n",
    "error_2.shape"
   ]
  },
  {
   "cell_type": "code",
   "execution_count": 95,
   "metadata": {},
   "outputs": [
    {
     "data": {
      "text/plain": [
       "(16577, 100)"
      ]
     },
     "execution_count": 95,
     "metadata": {},
     "output_type": "execute_result"
    }
   ],
   "source": [
    "delta_matrix_1 = np.outer(error_2, target).T\n",
    "delta_matrix_1.shape"
   ]
  },
  {
   "cell_type": "code",
   "execution_count": 106,
   "metadata": {},
   "outputs": [
    {
     "data": {
      "text/plain": [
       "array([[0.38490835, 0.41208988, 0.79012308, ..., 0.31443844, 0.47499274,\n",
       "        0.11162906],\n",
       "       [0.98700023, 0.18140922, 0.21087622, ..., 0.238097  , 0.85380081,\n",
       "        0.1249468 ],\n",
       "       [0.60810407, 0.52739173, 0.77811759, ..., 0.38378451, 0.41722406,\n",
       "        0.16823821],\n",
       "       ...,\n",
       "       [0.91325697, 0.17505074, 0.60027193, ..., 0.4266736 , 0.90757864,\n",
       "        0.76876453],\n",
       "       [0.95033783, 0.40006368, 0.03528345, ..., 0.26815636, 0.12235591,\n",
       "        0.62071525],\n",
       "       [0.8295425 , 0.30225424, 0.0124439 , ..., 0.31442391, 0.16807255,\n",
       "        0.03391902]])"
      ]
     },
     "execution_count": 106,
     "metadata": {},
     "output_type": "execute_result"
    }
   ],
   "source": [
    "matrix_1"
   ]
  },
  {
   "cell_type": "code",
   "execution_count": 107,
   "metadata": {},
   "outputs": [],
   "source": [
    "backpropagate(pred, h, target, context)"
   ]
  },
  {
   "cell_type": "code",
   "execution_count": 108,
   "metadata": {},
   "outputs": [
    {
     "data": {
      "text/plain": [
       "array([[0.39310655, 0.31295965, 0.81709893, ..., 0.28803477, 0.43422899,\n",
       "        0.11577817],\n",
       "       [0.98700023, 0.18140922, 0.21087622, ..., 0.238097  , 0.85380081,\n",
       "        0.1249468 ],\n",
       "       [0.60810407, 0.52739173, 0.77811759, ..., 0.38378451, 0.41722406,\n",
       "        0.16823821],\n",
       "       ...,\n",
       "       [0.91325697, 0.17505074, 0.60027193, ..., 0.4266736 , 0.90757864,\n",
       "        0.76876453],\n",
       "       [0.95033783, 0.40006368, 0.03528345, ..., 0.26815636, 0.12235591,\n",
       "        0.62071525],\n",
       "       [0.8295425 , 0.30225424, 0.0124439 , ..., 0.31442391, 0.16807255,\n",
       "        0.03391902]])"
      ]
     },
     "execution_count": 108,
     "metadata": {},
     "output_type": "execute_result"
    }
   ],
   "source": [
    "matrix_1"
   ]
  },
  {
   "cell_type": "markdown",
   "metadata": {},
   "source": [
    "---"
   ]
  },
  {
   "cell_type": "code",
   "execution_count": 62,
   "metadata": {},
   "outputs": [
    {
     "data": {
      "text/plain": [
       "((16577, 1), (16577, 100))"
      ]
     },
     "execution_count": 62,
     "metadata": {},
     "output_type": "execute_result"
    }
   ],
   "source": [
    "vector.shape, matrix_1.shape"
   ]
  },
  {
   "cell_type": "code",
   "execution_count": 61,
   "metadata": {},
   "outputs": [
    {
     "data": {
      "text/plain": [
       "((16577, 1), (100, 1), (16577, 1))"
      ]
     },
     "execution_count": 61,
     "metadata": {},
     "output_type": "execute_result"
    }
   ],
   "source": [
    "pred, h, u = forward(vector, matrix_1, matrix_2)\n",
    "pred.shape, h.shape, u.shape"
   ]
  },
  {
   "cell_type": "code",
   "execution_count": 67,
   "metadata": {},
   "outputs": [
    {
     "data": {
      "text/plain": [
       "'bounties'"
      ]
     },
     "execution_count": 67,
     "metadata": {},
     "output_type": "execute_result"
    }
   ],
   "source": [
    "VOCABR[vector.argmax()]"
   ]
  },
  {
   "cell_type": "code",
   "execution_count": 65,
   "metadata": {},
   "outputs": [
    {
     "data": {
      "text/plain": [
       "'copestone'"
      ]
     },
     "execution_count": 65,
     "metadata": {},
     "output_type": "execute_result"
    }
   ],
   "source": [
    "VOCABR[pred.argmax()]"
   ]
  },
  {
   "cell_type": "markdown",
   "metadata": {},
   "source": [
    "## Using an Existing Package\n",
    "\n",
    "There are existing implementations that already exist that allow you to use Word2Vec technology out of the box. In this section, we look at the Python package `gensim` with an API implementing Word2Vec.\n",
    "\n",
    "Contents\n",
    "  * SpaCy\n",
    "  * gensim\n",
    " \n",
    " \n",
    "### SpaCy"
   ]
  },
  {
   "cell_type": "code",
   "execution_count": null,
   "metadata": {},
   "outputs": [],
   "source": [
    "nlp = spacy.load('en_core_web_sm')"
   ]
  },
  {
   "cell_type": "code",
   "execution_count": null,
   "metadata": {},
   "outputs": [],
   "source": []
  },
  {
   "cell_type": "code",
   "execution_count": null,
   "metadata": {},
   "outputs": [],
   "source": []
  }
 ],
 "metadata": {
  "kernelspec": {
   "display_name": "Python 3",
   "language": "python",
   "name": "python3"
  },
  "language_info": {
   "codemirror_mode": {
    "name": "ipython",
    "version": 3
   },
   "file_extension": ".py",
   "mimetype": "text/x-python",
   "name": "python",
   "nbconvert_exporter": "python",
   "pygments_lexer": "ipython3",
   "version": "3.6.9"
  }
 },
 "nbformat": 4,
 "nbformat_minor": 2
}
