{
 "cells": [
  {
   "cell_type": "code",
   "execution_count": 41,
   "metadata": {},
   "outputs": [
    {
     "data": {
      "text/html": [
       "\n",
       "<style>\n",
       "\n",
       ".banner {\n",
       "    border-radius: 2px;\n",
       "    border-left: solid 5px gray;\n",
       "    padding-left: 1em;\n",
       "}\n",
       "\n",
       ".tip {\n",
       "    background: lightgreen;\n",
       "    border-left: solid 5px green;\n",
       "}\n",
       ".attention {\n",
       "    background: yellow;\n",
       "    border-left: solid 5px orange;\n",
       "}\n",
       "\n",
       ".warning {\n",
       "    background: orange;\n",
       "    border-left: solid 5px red;\n",
       "}\n",
       "\n",
       ".navigation {\n",
       "    font-size: 1.05em;\n",
       "    color: gray;\n",
       "}\n",
       "\n",
       ".navigation:hover {\n",
       "    color: black;\n",
       "}\n",
       "\n",
       ".content {\n",
       "    font-size: 1.1em;\n",
       "}\n",
       "</style>"
      ],
      "text/plain": [
       "<IPython.core.display.HTML object>"
      ]
     },
     "execution_count": 41,
     "metadata": {},
     "output_type": "execute_result"
    }
   ],
   "source": [
    "from IPython.core.display import HTML\n",
    "\n",
    "HTML('''\n",
    "<style>\n",
    "\n",
    ".banner {\n",
    "    border-radius: 2px;\n",
    "    border-left: solid 5px gray;\n",
    "    padding-left: 1em;\n",
    "}\n",
    "\n",
    ".tip {\n",
    "    background: lightgreen;\n",
    "    border-left: solid 5px green;\n",
    "}\n",
    ".attention {\n",
    "    background: yellow;\n",
    "    border-left: solid 5px orange;\n",
    "}\n",
    "\n",
    ".warning {\n",
    "    background: orange;\n",
    "    border-left: solid 5px red;\n",
    "}\n",
    "\n",
    ".navigation {\n",
    "    font-size: 1.05em;\n",
    "    color: gray;\n",
    "}\n",
    "\n",
    ".navigation:hover {\n",
    "    color: black;\n",
    "}\n",
    "\n",
    ".content {\n",
    "    font-size: 1.1em;\n",
    "}\n",
    "</style>''')"
   ]
  },
  {
   "cell_type": "markdown",
   "metadata": {},
   "source": [
    "# Presentation on Word2Vec\n",
    "Glenn Abastillas | 24 March, 2020\n",
    "\n",
    "``` ADD VISUAL OF KING - QUEEN = MAN WITH SVG ```\n",
    "\n",
    "This notebook goes over an example implementation of Word2Vec and some existing packages that perform Word2Vec training.\n",
    "\n",
    "Contents\n",
    "  1.  Preliminary Steps\n",
    "      * [Load Packages](#load_packages)\n",
    "      * [Preprocess Data](#preprocess_data)\n",
    "      * [Quick Background](#quick_background)\n",
    "  2. [Implementation from Scratch](#implementation_from_scratch)\n",
    "      * Word2Vec Flavors: Continuous Back of Words (CBOW) / Skip Grams (SG)\n",
    "      * Training\n",
    "      * Retrieving the trained matrix\n",
    "      * Applications\n",
    "  3. Using an Existing Package\n",
    "\n",
    "__At each step, we will also cover other packages that can be used to acheive the same thing (e.g., Countvectorizer)__\n",
    "  \n",
    "<p class='tip banner'>This is an example of a tip.<p>\n",
    "<p class='attention banner'>This is an example of an attention.<p>\n",
    "<p class='warning banner'>This is an example of a warning.<p>\n",
    "  \n",
    "---\n",
    "\n",
    "### Load Packages <a id=\"load_packages\"></a>\n",
    "First we import packages and clean the data."
   ]
  },
  {
   "cell_type": "code",
   "execution_count": 150,
   "metadata": {},
   "outputs": [
    {
     "data": {
      "text/plain": [
       "RendererRegistry.enable('notebook')"
      ]
     },
     "execution_count": 150,
     "metadata": {},
     "output_type": "execute_result"
    }
   ],
   "source": [
    "import numpy as np\n",
    "import spacy\n",
    "import tqdm\n",
    "\n",
    "import pandas as pd\n",
    "import altair as alt\n",
    "\n",
    "from string import punctuation\n",
    "from nltk.corpus import gutenberg, stopwords\n",
    "from collections import namedtuple\n",
    "from sklearn.decomposition import PCA\n",
    "from sklearn.preprocessing import StandardScaler\n",
    "\n",
    "alt.renderers.enable('notebook')"
   ]
  },
  {
   "cell_type": "markdown",
   "metadata": {},
   "source": [
    "We will use data from the `gutenberg` corpus and normalize the input data."
   ]
  },
  {
   "cell_type": "code",
   "execution_count": 306,
   "metadata": {},
   "outputs": [
    {
     "name": "stdout",
     "output_type": "stream",
     "text": [
      "austen-emma.txt - 7811 words\n",
      "austen-persuasion.txt - 6132 words\n",
      "austen-sense.txt - 6833 words\n",
      "bible-kjv.txt - 13769 words\n",
      "blake-poems.txt - 1820 words\n",
      "bryant-stories.txt - 4420 words\n",
      "burgess-busterbrown.txt - 1764 words\n",
      "carroll-alice.txt - 3016 words\n",
      "chesterton-ball.txt - 8947 words\n",
      "chesterton-brown.txt - 8299 words\n",
      "chesterton-thursday.txt - 6807 words\n",
      "edgeworth-parents.txt - 9593 words\n",
      "melville-moby_dick.txt - 19317 words\n",
      "milton-paradise.txt - 10751 words\n",
      "shakespeare-caesar.txt - 3560 words\n",
      "shakespeare-hamlet.txt - 5447 words\n",
      "shakespeare-macbeth.txt - 4017 words\n",
      "whitman-leaves.txt - 14329 words\n"
     ]
    }
   ],
   "source": [
    "fileids = gutenberg.fileids()\n",
    "\n",
    "for fileid in fileids:\n",
    "    print(f'{fileid} - {len(set(gutenberg.words(fileid)))} words')"
   ]
  },
  {
   "cell_type": "code",
   "execution_count": 307,
   "metadata": {},
   "outputs": [
    {
     "name": "stdout",
     "output_type": "stream",
     "text": [
      "Number of sentences: 1054\n"
     ]
    }
   ],
   "source": [
    "sents = gutenberg.sents('burgess-busterbrown.txt')\n",
    "\n",
    "print(f'Number of sentences: {len(sents)}')"
   ]
  },
  {
   "cell_type": "code",
   "execution_count": 214,
   "metadata": {},
   "outputs": [],
   "source": [
    "# sents = ['cats and dogs are some of my favorite pets'.split(), \n",
    "#          'lions are in the feline or cat family and hunt for their prey'.split(),\n",
    "#          'dogs are part of the canidae or dog family and also hunt for their prey'.split(),\n",
    "#          'some of my neighbors have pets and they love them a lot'.split(),\n",
    "#          'i went on safari and saw big cats like lions tigers and leopards'.split(),\n",
    "#          'lion king is about the turmoil a pride of lions face'.split(),\n",
    "#          'cats is a story that looks into the independent stories of different kinds of cats'.split(),\n",
    "#         ]"
   ]
  },
  {
   "cell_type": "markdown",
   "metadata": {},
   "source": [
    "`[insert navigation here]`\n",
    "\n",
    "---\n",
    "### Preprocess Data <a id=\"preprocess_data\"></a>\n",
    "##### Normalize Vocabulary\n",
    "\n",
    "To improve processing and richness of our lexical items, we normalize our language data. \n",
    "\n",
    "Normalizing data can involve a variety of tasks depending on the final application of our language model. These tasks including making all words the same case, removing punctuation, and removing **<a id=\"stopword\" style=\"text-decoration: none; cursor: help;\" title=\"Words that contribute little semantic information to a text\">stopwords</a>**.\n",
    "\n",
    "For this presentation, we will use **<a id=\"token\" style=\"text-decoration: none; cursor: help;\" title=\"Combinations of characters separated by spaces (e.g., words, numbers)\">tokens</a>** that are not punctuation nor stopwords.\n",
    "\n",
    "Let's quickly define some functions we will use to pare our text data down."
   ]
  },
  {
   "cell_type": "code",
   "execution_count": 308,
   "metadata": {},
   "outputs": [],
   "source": [
    "stopwords_ = stopwords.words('english')\n",
    "\n",
    "def is_stopword(token):\n",
    "    ''' Check if a specified token is a stopword. '''\n",
    "    try:\n",
    "        return token.lower() in stopwords_\n",
    "    except:\n",
    "        return False\n",
    "\n",
    "def is_valid_token(token):\n",
    "    ''' Check if token is valid, i.e., not a stopword or punctuation '''\n",
    "    try:\n",
    "        return token.isalnum() & ~is_stopword(token)\n",
    "    except:\n",
    "        return False"
   ]
  },
  {
   "cell_type": "markdown",
   "metadata": {},
   "source": [
    "##### First Normalization Step\n",
    "Next, we create our `raw_text` data using the functions we just defined."
   ]
  },
  {
   "cell_type": "code",
   "execution_count": 309,
   "metadata": {},
   "outputs": [
    {
     "name": "stdout",
     "output_type": "stream",
     "text": [
      "Number of sentences : 1054\n",
      "CPU times: user 165 ms, sys: 13.7 ms, total: 179 ms\n",
      "Wall time: 180 ms\n"
     ]
    }
   ],
   "source": [
    "%%time\n",
    "normalized_sents = [[word.lower() for word in sent if is_valid_token(word)] for sent in sents]\n",
    "\n",
    "print(f'Number of sentences : {len(normalized_sents)}')"
   ]
  },
  {
   "cell_type": "markdown",
   "metadata": {},
   "source": [
    "With our `normalized_text`, we can create a `dict` to convert the strings into numbers for faster processing down the line. We also create maps for strings to integers, integers to strings, and a probability distribution of word frequencies for possible negative sampling (if there is time)."
   ]
  },
  {
   "cell_type": "code",
   "execution_count": 310,
   "metadata": {},
   "outputs": [
    {
     "name": "stdout",
     "output_type": "stream",
     "text": [
      "Vocabulary size: 1387\n"
     ]
    }
   ],
   "source": [
    "flattened_text = [word for sent in normalized_sents for word in sent]\n",
    "\n",
    "WORDS, COUNTS = np.unique(flattened_text, return_counts=True)\n",
    "\n",
    "PROBS = COUNTS**(3/4) / (COUNTS**(3/4)).sum()\n",
    "\n",
    "INDEX = np.arange(WORDS.size)\n",
    "\n",
    "VOCAB = dict(zip(WORDS, INDEX))\n",
    "VOCABR = dict(zip(INDEX, WORDS))\n",
    "\n",
    "print(f'Vocabulary size: {WORDS.size}')"
   ]
  },
  {
   "cell_type": "markdown",
   "metadata": {},
   "source": [
    "##### Second Normalization Step\n",
    "\n",
    "Using the conversion function defined above, we can convert our `normalized_sents` into `data`, which contains only integers that will be used in our Word2Vec example."
   ]
  },
  {
   "cell_type": "code",
   "execution_count": 311,
   "metadata": {},
   "outputs": [
    {
     "name": "stdout",
     "output_type": "stream",
     "text": [
      "CPU times: user 5 µs, sys: 1e+03 ns, total: 6 µs\n",
      "Wall time: 10 µs\n"
     ]
    }
   ],
   "source": [
    "%%time\n",
    "data = (np.array([VOCAB[token] for token in sent]) for sent in normalized_sents)"
   ]
  },
  {
   "cell_type": "markdown",
   "metadata": {},
   "source": [
    "`[insert navigation here]`\n",
    "\n",
    "---\n",
    "\n",
    "Use this reference for later [Dimensions greater than 300 have diminishing returns](https://www.aclweb.org/anthology/D14-1162/)\n",
    "\n",
    "### Quick Background <a id=\"quick_background\"></a>\n",
    "#### Background Into Word2Vec\n",
    "\n",
    "* What is it?\n",
    "  - <p class='content'>Quick definition (implementation of theoretical matrix bit): A method or representing words as numerical vectors, which allow us to improve the efficiency of our models as well as enable us to glean insight on how words behave in a text.</p>\n",
    "  - What is does to text: The Word2Vec model converts words as strings into an array of numbers of n-dimensions by training a shallow neural network and keeping only the trained weights.\n",
    "  - What the output is: The trained weights from the neural network we train are conveniently also act as the word vectors themselves in a matrix format.\n",
    "  \n",
    "* Why do we need it?\n",
    "  - Many uses in AI: Semantic analysis, entity discovery, lexical and lexical relationship analysis, and topic modeling.\n",
    "  - Pros: We can do algebra with words and converting strings to numeric vectors unlocks a host of abilities that we can perform on these numeric vectors.\n",
    "  - Cons: We need a large vocabulary and training can be very time and resources heavy.\n",
    " \n",
    "* What cool things can it do?\n",
    "  - Condense text into a lightweight matrix\n",
    "  - Provide semantic abilities\n",
    "  - Enable data to have algebraic properties\n",
    " \n",
    "* What are competing models?\n",
    "  - Other models to represent text\n",
    "  - GloVe\n",
    "  - Other vectorization models"
   ]
  },
  {
   "cell_type": "markdown",
   "metadata": {},
   "source": [
    "`[insert navigation here]`\n",
    "\n",
    "---\n",
    "## Implementation from Scratch <a id=\"implementation_from_scratch\"></a>\n",
    "\n",
    "For things example, we will create a Word2Vec language model using the data we preprocessed above. \n",
    "\n",
    "In this section, we will develop a **<a id=\"skip-gram\" style=\"text-decoration: none; cursor: help;\" title=\"Using the a token to predict its surroundings\">Skip-gram</a>** flavored Word2Vec model.\n",
    "\n",
    "We will:\n",
    "  * Create Skip-gram windows\n",
    "  * Create preliminary <a id='one-hot' style='text-decoration: none; cursor: help;' title='A vector that is comprised of zeros and ones indicating absence or presence of a value'>one-hot vectors</a>\n",
    "\n",
    "\n",
    "###### Parameters <a id='parameters'></a>\n",
    "First we define some hyperparameters that we use for training."
   ]
  },
  {
   "cell_type": "code",
   "execution_count": 312,
   "metadata": {},
   "outputs": [],
   "source": [
    "parameters = {'window_size' : 5, 'dimensions' : 150, 'learning_rate' : 0.01, 'epochs' : 50}"
   ]
  },
  {
   "cell_type": "markdown",
   "metadata": {},
   "source": [
    "<style>\n",
    "table, td, tr {\n",
    "    border: solid 1px gray;\n",
    "    background: green;\n",
    "}\n",
    "</style>\n",
    "This table quickly describes what each parameter does.\n",
    "\n",
    "Parameters | Data Type | Description\n",
    "--- | :-: | :--\n",
    "`window_size` | `int` | The number of target tokens before and after a central token to include\n",
    "`dimensions` | `int` | The number of dimensions in hidden layer. Dimensions greater than 300 have diminishing returns `[cite]`.\n",
    "`learning_rate` | `float` | How quickly our model will correct itself\n",
    "`epochs` | `int` | The number of rounds the model is trained\n",
    "\n",
    "##### Creating the Training Data <a id=\"creating_the_training_data\"></a>\n",
    "\n",
    "We will generate loose <a id='one-hot' style='text-decoration: none; cursor: help;' title='A vector that is comprised of zeros and ones indicating absence or presence of a value'>one-hot vectors</a> that will serve as input and target data when training our model.\n",
    "\n",
    "First we filter our data to ensure we have sufficient data to window."
   ]
  },
  {
   "cell_type": "code",
   "execution_count": 313,
   "metadata": {},
   "outputs": [
    {
     "name": "stdout",
     "output_type": "stream",
     "text": [
      "Number of sentences in data: 539\n",
      "CPU times: user 9.15 ms, sys: 1.39 ms, total: 10.5 ms\n",
      "Wall time: 23.9 ms\n"
     ]
    }
   ],
   "source": [
    "%%time\n",
    "data = [sent for sent in data if sent.size >= parameters['window_size'] + 1]\n",
    "\n",
    "print(f'Number of sentences in data: {len(data)}')"
   ]
  },
  {
   "cell_type": "markdown",
   "metadata": {},
   "source": [
    "Now, we generate our one hot vectors using the `VOCAB` as a model for our vector.\n",
    "\n",
    "Let's define a few functions to help use generate these data."
   ]
  },
  {
   "cell_type": "code",
   "execution_count": 314,
   "metadata": {},
   "outputs": [],
   "source": [
    "Datum = namedtuple('Datum', 'target context'.split())\n",
    "\n",
    "def one_hot(token, size=WORDS.size):\n",
    "    ''' Convert an input token into an integer according to a specified reference '''\n",
    "    vector = np.zeros((size, 1))\n",
    "    vector[token] = 1\n",
    "    return vector\n",
    "\n",
    "def process_sentence(sent, processed_sentence={}, window_size=parameters['window_size'] + 1):\n",
    "    ''' Return a dictionary with token keys and contexts as values\n",
    "        \n",
    "        Parameters\n",
    "        ----------\n",
    "            sent (list) : sentence to convert into one-hot vectors \n",
    "                          and group into target and context\n",
    "            processed_sentence (dict) : Previously processed sentences to add to\n",
    "            window_size (int) : Window size of CBOW\n",
    "        \n",
    "        Returns\n",
    "        -------\n",
    "            (dict) object with tokens as keys and their corresponding\n",
    "                   one-hot vector targets and context in the following format:\n",
    "            \n",
    "            >> { token : [[target, [context-1, context-2, ...]], ...]}\n",
    "    '''\n",
    "    for i, token in enumerate(sent):\n",
    "        a, b, j = max(i - window_size, 0), i + window_size, i+1\n",
    "        before, after = sent[a:i], sent[j:b]\n",
    "\n",
    "        context = []\n",
    "\n",
    "        # Loop through the surrounding tokens\n",
    "        for context_token in np.append(before, after):\n",
    "            try:\n",
    "                context.append(one_hot(context_token))\n",
    "            except:\n",
    "                print(token, context_token, a, b, before, after, sent[a:b])\n",
    "                raise\n",
    "        \n",
    "        if token in processed_sentence:\n",
    "            processed_sentence[token].context.append(context)\n",
    "        else:\n",
    "            target = one_hot(token)\n",
    "            processed_sentence[token] = Datum(target, [context])\n",
    "\n",
    "    return processed_sentence"
   ]
  },
  {
   "cell_type": "markdown",
   "metadata": {},
   "source": [
    "Loop through all the sentences to generate `target` and `context` data for training."
   ]
  },
  {
   "cell_type": "code",
   "execution_count": 315,
   "metadata": {},
   "outputs": [
    {
     "name": "stderr",
     "output_type": "stream",
     "text": [
      "\n",
      "\n",
      "  0%|          | 0/539 [00:00<?, ?it/s]\u001b[A\u001b[A\n",
      "\n",
      "  6%|▌         | 32/539 [00:00<00:01, 311.59it/s]\u001b[A\u001b[A\n",
      "\n",
      " 18%|█▊        | 97/539 [00:00<00:01, 368.93it/s]\u001b[A\u001b[A\n",
      "\n",
      " 27%|██▋       | 144/539 [00:00<00:01, 391.74it/s]\u001b[A\u001b[A\n",
      "\n",
      " 35%|███▌      | 190/539 [00:00<00:00, 406.76it/s]\u001b[A\u001b[A\n",
      "\n",
      " 42%|████▏     | 226/539 [00:00<00:00, 382.93it/s]\u001b[A\u001b[A\n",
      "\n",
      " 49%|████▊     | 262/539 [00:00<00:00, 346.70it/s]\u001b[A\u001b[A\n",
      "\n",
      " 58%|█████▊    | 311/539 [00:00<00:00, 379.88it/s]\u001b[A\u001b[A\n",
      "\n",
      " 65%|██████▍   | 349/539 [00:00<00:00, 369.92it/s]\u001b[A\u001b[A\n",
      "\n",
      " 76%|███████▌  | 409/539 [00:00<00:00, 417.47it/s]\u001b[A\u001b[A\n",
      "\n",
      " 85%|████████▌ | 459/539 [00:01<00:00, 437.41it/s]\u001b[A\u001b[A\n",
      "\n",
      "100%|██████████| 539/539 [00:01<00:00, 429.50it/s]\u001b[A\u001b[A\n"
     ]
    }
   ],
   "source": [
    "processed_sentences = {}\n",
    "for sent in tqdm.tqdm(data):\n",
    "    processed_sentences = process_sentence(sent, processed_sentences)\n"
   ]
  },
  {
   "cell_type": "markdown",
   "metadata": {},
   "source": [
    "<p class='attention'>&uparrow; Processing time may vary </p>\n",
    "\n",
    "`[insert navigation here]`\n",
    "\n",
    "---\n",
    "##### Create Layers <a id='create_layers'></a>\n",
    "\n",
    "These matrices will serve as the layers that surround our `word2vec` layer during training."
   ]
  },
  {
   "cell_type": "code",
   "execution_count": 316,
   "metadata": {},
   "outputs": [
    {
     "name": "stdout",
     "output_type": "stream",
     "text": [
      "Dimensions\n",
      "Weights 1 (1387, 150)\n",
      "Weights 2 (1387, 150)\n"
     ]
    }
   ],
   "source": [
    "weights_1 = np.random.random((WORDS.size, parameters['dimensions']))\n",
    "weights_2 = np.random.random((WORDS.size, parameters['dimensions']))\n",
    "print(f'Dimensions\\nWeights 1 {weights_1.shape}\\nWeights 2 {weights_2.shape}')"
   ]
  },
  {
   "cell_type": "markdown",
   "metadata": {},
   "source": [
    "`[insert navigation here]`\n",
    "\n",
    "---\n",
    "###### Feed Forward Algorithm\n",
    "\n",
    "The first part of a two part algorithm defining a <a id='learning-step' style='text-decoration: none; cursor: help;' title='A phase where training data are learned and errors are adjusted throughout the model'>learning step</a>. This algorithm introduces our randomly initialized model to its first evidence of real data to learn from. It then predicts a surrounding vocabulary item from it."
   ]
  },
  {
   "cell_type": "code",
   "execution_count": 317,
   "metadata": {},
   "outputs": [],
   "source": [
    "def softmax(datum):\n",
    "    ''' Return the an array normalized to a probability '''\n",
    "    e = np.exp(datum - datum.max())\n",
    "    return e / e.sum()\n",
    "\n",
    "def forward(datum, weights_1=weights_1, weights_2=weights_2):\n",
    "    ''' Return three matrices corresponding to the prediction, hidden layer, and output '''\n",
    "    hidden = np.dot(weights_1.T, datum)\n",
    "    output = np.dot(weights_2, hidden)\n",
    "    prediction = softmax(output)\n",
    "    return prediction, hidden, output"
   ]
  },
  {
   "cell_type": "markdown",
   "metadata": {},
   "source": [
    "`[insert navigation here]`\n",
    "\n",
    "---\n",
    "###### Backpropagation Algorithm\n",
    "\n",
    "The second part of the two part algorithm defining a <a id='learning-step' style='text-decoration: none; cursor: help;' title='A phase where training data are learned and errors are adjusted throughout the model'>learning step</a>. This algorithm compares the output of the <a id='feed-forward-algorithm' style='text-decoration: none; cursor: help;' title='The algorithm that takes in new data and attempts to make predictions from it'>feed forward algorithm</a> to the input token's actual context, calculates the error, and adjusts the model to correct for it. The adjustments are made in increments set by the learning rate parameter we set in our `parameters` variable."
   ]
  },
  {
   "cell_type": "code",
   "execution_count": 318,
   "metadata": {},
   "outputs": [],
   "source": [
    "def calculate_error(prediction, context):\n",
    "    ''' Return a weights with the summed prediction error '''\n",
    "    error = np.zeros((prediction.size, 1))\n",
    "    for subcontext in context:\n",
    "        for token in subcontext:\n",
    "            error += prediction - token\n",
    "    return error\n",
    "\n",
    "def backpropagate(prediction, hidden, target, context, weights_1=weights_1, weights_2=weights_2, index=INDEX):\n",
    "    ''' Update weight matrices according to output from forward() '''\n",
    "    error = calculate_error(prediction, context)\n",
    "\n",
    "#     sample = negative_sample(context)\n",
    "#     target_index = index[target.flatten() == 1]\n",
    "#     sample = np.append(target_index, sample)\n",
    "#     error[~sample] = 0\n",
    "    \n",
    "    weights_2_delta = np.outer(error, hidden)\n",
    "    hidden_error = np.dot(weights_2.T, error)\n",
    "    weights_1_delta = np.outer(hidden_error, target).T\n",
    "    \n",
    "    weights_1 -= weights_1_delta * parameters['learning_rate']\n",
    "    weights_2 -= weights_2_delta * parameters['learning_rate']\n",
    "    \n",
    "def negative_sample(context, n=5, index=INDEX, probs=PROBS):\n",
    "    ''' Return an array of randomly sampled tokens to be updated '''\n",
    "    positives = sum([sum(c) for c in context]).flatten() >= 1\n",
    "    negatives = np.invert(positives)\n",
    "    sample = index[negatives]\n",
    "    p = probs[negatives] / probs[negatives].sum()\n",
    "    return np.random.choice(sample, n, p=p)"
   ]
  },
  {
   "cell_type": "markdown",
   "metadata": {},
   "source": [
    "`[insert navigation here]`\n",
    "\n",
    "---\n",
    "##### Training Algorithm\n",
    "\n",
    "Having both the feed forward and backpropagation algorithms defined, we can now define a training algorithm to learn all training examples for a single <a id='epoch' style='text-decoration: none; cursor: help;' title='A complete cycle of learning steps through all training data'>epoch</a>."
   ]
  },
  {
   "cell_type": "code",
   "execution_count": 323,
   "metadata": {},
   "outputs": [],
   "source": [
    "def train(training_data, weights_1=weights_1, weights_2=weights_2, parameters=parameters, total=WORDS.size):\n",
    "    ''' Train the Word2Vec model on our training data to generate meaningful word vectors '''\n",
    "    \n",
    "    epochs = tqdm.trange(parameters['epochs'])\n",
    "#     data = tqdm.tqdm(training_data.items())\n",
    "    data = training_data.items()\n",
    "\n",
    "    for epoch in epochs:\n",
    "        for __, (target, context) in data:\n",
    "            prediction, hidden, output = forward(target)\n",
    "            backpropagate(prediction, hidden, target, context)"
   ]
  },
  {
   "cell_type": "markdown",
   "metadata": {},
   "source": [
    "`[insert navigation here]`\n",
    "\n",
    "---\n",
    "###### Test Iteration <a id='test_iteration'></a>\n",
    "\n",
    "This cell loops through all our training data to demonstrate what happens in one training <a id='epoch' style='text-decoration: none; cursor: help;' title='A complete cycle of learning steps through all training data'>epoch</a>.\n",
    "\n",
    "<p class='warning'>Processing time may vary</p>"
   ]
  },
  {
   "cell_type": "code",
   "execution_count": 324,
   "metadata": {},
   "outputs": [
    {
     "name": "stderr",
     "output_type": "stream",
     "text": [
      "\n",
      "\n",
      "\n",
      "  0%|          | 0/50 [00:00<?, ?it/s]\u001b[A\u001b[A\u001b[A\n",
      "\n",
      "\n",
      "  2%|▏         | 1/50 [00:06<05:01,  6.16s/it]\u001b[A\u001b[A\u001b[A\n",
      "\n",
      "\n",
      "  4%|▍         | 2/50 [00:11<04:48,  6.02s/it]\u001b[A\u001b[A\u001b[A\n",
      "\n",
      "\n",
      "  6%|▌         | 3/50 [00:17<04:36,  5.87s/it]\u001b[A\u001b[A\u001b[A\n",
      "\n",
      "\n",
      "  8%|▊         | 4/50 [00:22<04:25,  5.76s/it]\u001b[A\u001b[A\u001b[A\n",
      "\n",
      "\n",
      " 10%|█         | 5/50 [00:28<04:22,  5.83s/it]\u001b[A\u001b[A\u001b[A\n",
      "\n",
      "\n",
      " 12%|█▏        | 6/50 [00:34<04:18,  5.88s/it]\u001b[A\u001b[A\u001b[A\n",
      "\n",
      "\n",
      " 14%|█▍        | 7/50 [00:40<04:15,  5.95s/it]\u001b[A\u001b[A\u001b[A\n",
      "\n",
      "\n",
      " 16%|█▌        | 8/50 [00:46<04:10,  5.95s/it]\u001b[A\u001b[A\u001b[A\n",
      "\n",
      "\n",
      " 18%|█▊        | 9/50 [00:53<04:05,  5.99s/it]\u001b[A\u001b[A\u001b[A\n",
      "\n",
      "\n",
      " 20%|██        | 10/50 [00:58<03:57,  5.94s/it]\u001b[A\u001b[A\u001b[A\n",
      "\n",
      "\n",
      " 22%|██▏       | 11/50 [01:04<03:48,  5.87s/it]\u001b[A\u001b[A\u001b[A\n",
      "\n",
      "\n",
      " 24%|██▍       | 12/50 [01:10<03:39,  5.78s/it]\u001b[A\u001b[A\u001b[A\n",
      "\n",
      "\n",
      " 26%|██▌       | 13/50 [01:15<03:34,  5.81s/it]\u001b[A\u001b[A\u001b[A\n",
      "\n",
      "\n",
      " 28%|██▊       | 14/50 [01:21<03:28,  5.80s/it]\u001b[A\u001b[A\u001b[A\n",
      "\n",
      "\n",
      " 30%|███       | 15/50 [01:27<03:22,  5.77s/it]\u001b[A\u001b[A\u001b[A\n",
      "\n",
      "\n",
      " 32%|███▏      | 16/50 [01:33<03:18,  5.84s/it]\u001b[A\u001b[A\u001b[A\n",
      "\n",
      "\n",
      " 34%|███▍      | 17/50 [01:39<03:13,  5.88s/it]\u001b[A\u001b[A\u001b[A\n",
      "\n",
      "\n",
      " 36%|███▌      | 18/50 [01:45<03:11,  6.00s/it]\u001b[A\u001b[A\u001b[A\n",
      "\n",
      "\n",
      " 38%|███▊      | 19/50 [01:52<03:14,  6.27s/it]\u001b[A\u001b[A\u001b[A\n",
      "\n",
      "\n",
      " 40%|████      | 20/50 [01:58<03:04,  6.15s/it]\u001b[A\u001b[A\u001b[A\n",
      "\n",
      "\n",
      " 42%|████▏     | 21/50 [02:04<02:56,  6.08s/it]\u001b[A\u001b[A\u001b[A\n",
      "\n",
      "\n",
      " 44%|████▍     | 22/50 [02:10<02:47,  5.98s/it]\u001b[A\u001b[A\u001b[A\n",
      "\n",
      "\n",
      " 46%|████▌     | 23/50 [02:16<02:40,  5.96s/it]\u001b[A\u001b[A\u001b[A\n",
      "\n",
      "\n",
      " 48%|████▊     | 24/50 [02:22<02:38,  6.08s/it]\u001b[A\u001b[A\u001b[A\n",
      "\n",
      "\n",
      " 50%|█████     | 25/50 [02:28<02:28,  5.93s/it]\u001b[A\u001b[A\u001b[A\n",
      "\n",
      "\n",
      " 52%|█████▏    | 26/50 [02:33<02:19,  5.83s/it]\u001b[A\u001b[A\u001b[A\n",
      "\n",
      "\n",
      " 54%|█████▍    | 27/50 [02:38<02:10,  5.67s/it]\u001b[A\u001b[A\u001b[A\n",
      "\n",
      "\n",
      " 56%|█████▌    | 28/50 [02:45<02:09,  5.90s/it]\u001b[A\u001b[A\u001b[A\n",
      "\n",
      "\n",
      " 58%|█████▊    | 29/50 [02:51<02:03,  5.89s/it]\u001b[A\u001b[A\u001b[A\n",
      "\n",
      "\n",
      " 60%|██████    | 30/50 [02:57<01:58,  5.93s/it]\u001b[A\u001b[A\u001b[A\n",
      "\n",
      "\n",
      " 62%|██████▏   | 31/50 [03:03<01:52,  5.91s/it]\u001b[A\u001b[A\u001b[A\n",
      "\n",
      "\n",
      " 64%|██████▍   | 32/50 [03:09<01:48,  6.04s/it]\u001b[A\u001b[A\u001b[A\n",
      "\n",
      "\n",
      " 66%|██████▌   | 33/50 [03:15<01:42,  6.04s/it]\u001b[A\u001b[A\u001b[A\n",
      "\n",
      "\n",
      " 68%|██████▊   | 34/50 [03:21<01:37,  6.10s/it]\u001b[A\u001b[A\u001b[A\n",
      "\n",
      "\n",
      " 70%|███████   | 35/50 [03:27<01:29,  5.96s/it]\u001b[A\u001b[A\u001b[A\n",
      "\n",
      "\n",
      " 72%|███████▏  | 36/50 [03:32<01:21,  5.83s/it]\u001b[A\u001b[A\u001b[A\n",
      "\n",
      "\n",
      " 74%|███████▍  | 37/50 [03:38<01:15,  5.84s/it]\u001b[A\u001b[A\u001b[A\n",
      "\n",
      "\n",
      " 76%|███████▌  | 38/50 [03:45<01:13,  6.15s/it]\u001b[A\u001b[A\u001b[A\n",
      "\n",
      "\n",
      " 78%|███████▊  | 39/50 [03:51<01:06,  6.00s/it]\u001b[A\u001b[A\u001b[A\n",
      "\n",
      "\n",
      " 80%|████████  | 40/50 [03:56<00:58,  5.84s/it]\u001b[A\u001b[A\u001b[A\n",
      "\n",
      "\n",
      " 82%|████████▏ | 41/50 [04:02<00:53,  5.95s/it]\u001b[A\u001b[A\u001b[A\n",
      "\n",
      "\n",
      " 84%|████████▍ | 42/50 [04:14<01:00,  7.53s/it]\u001b[A\u001b[A\u001b[A\n",
      "\n",
      "\n",
      " 86%|████████▌ | 43/50 [04:24<00:59,  8.45s/it]\u001b[A\u001b[A\u001b[A\n",
      "\n",
      "\n",
      " 88%|████████▊ | 44/50 [04:31<00:47,  7.97s/it]\u001b[A\u001b[A\u001b[A\n",
      "\n",
      "\n",
      " 90%|█████████ | 45/50 [04:38<00:38,  7.79s/it]\u001b[A\u001b[A\u001b[A\n",
      "\n",
      "\n",
      " 92%|█████████▏| 46/50 [04:45<00:30,  7.54s/it]\u001b[A\u001b[A\u001b[A\n",
      "\n",
      "\n",
      " 94%|█████████▍| 47/50 [04:53<00:22,  7.59s/it]\u001b[A\u001b[A\u001b[A\n",
      "\n",
      "\n",
      " 96%|█████████▌| 48/50 [05:00<00:14,  7.37s/it]\u001b[A\u001b[A\u001b[A\n",
      "\n",
      "\n",
      " 98%|█████████▊| 49/50 [05:06<00:06,  6.88s/it]\u001b[A\u001b[A\u001b[A\n",
      "\n",
      "\n",
      "100%|██████████| 50/50 [05:11<00:00,  6.23s/it]\u001b[A\u001b[A\u001b[A"
     ]
    },
    {
     "name": "stdout",
     "output_type": "stream",
     "text": [
      "CPU times: user 4min 27s, sys: 26.8 s, total: 4min 54s\n",
      "Wall time: 5min 11s\n"
     ]
    },
    {
     "name": "stderr",
     "output_type": "stream",
     "text": [
      "\n"
     ]
    }
   ],
   "source": [
    "%%time\n",
    "train(processed_sentences)"
   ]
  },
  {
   "cell_type": "markdown",
   "metadata": {},
   "source": [
    "##### Looking at Some Examples\n",
    "\n",
    "We define some functions to inspect the output of our model."
   ]
  },
  {
   "cell_type": "code",
   "execution_count": 325,
   "metadata": {},
   "outputs": [],
   "source": [
    "def word_vector(token, model=weights_1):\n",
    "    ''' Return the word vector corresponding to a token '''\n",
    "    return model[token]\n",
    "\n",
    "def similarity(vector1, vector2):\n",
    "    ''' Return the cosine similarity score for two tokens input as vectors '''\n",
    "    if isinstance(vector1, int):\n",
    "        vector1 = word_vector(vector1)\n",
    "        \n",
    "    if isinstance(vector2, int):\n",
    "        vector2 = word_vector(vector2)\n",
    "        \n",
    "    a = np.dot(vector1, vector2)\n",
    "    b = np.dot(vector1, vector1)\n",
    "    c = np.dot(vector2, vector2)\n",
    "    return a / (np.sqrt(b) * np.sqrt(c))"
   ]
  },
  {
   "cell_type": "markdown",
   "metadata": {},
   "source": [
    "We inspect randomly selected words for their similarity score where $similarity \\in [-1,1]$"
   ]
  },
  {
   "cell_type": "code",
   "execution_count": 337,
   "metadata": {},
   "outputs": [
    {
     "name": "stdout",
     "output_type": "stream",
     "text": [
      "hungrier and paw\n"
     ]
    },
    {
     "data": {
      "text/plain": [
       "0.049098361985827205"
      ]
     },
     "execution_count": 337,
     "metadata": {},
     "output_type": "execute_result"
    }
   ],
   "source": [
    "v1 = np.random.randint(0, WORDS.size)\n",
    "v2 = np.random.randint(0, WORDS.size)\n",
    "print(f'{VOCABR[v1]} and {VOCABR[v2]}')\n",
    "similarity(v1, v2)"
   ]
  },
  {
   "cell_type": "markdown",
   "metadata": {},
   "source": [
    "Test the current model trained only on a single epoch."
   ]
  },
  {
   "cell_type": "code",
   "execution_count": 344,
   "metadata": {},
   "outputs": [
    {
     "name": "stdout",
     "output_type": "stream",
     "text": [
      "Token number 782 is \"often\" along with \"odd\" with cos score as -0.9999369487638876\n"
     ]
    }
   ],
   "source": [
    "token = np.random.randint(0, WORDS.size)\n",
    "a, b = weights_1[token - 1], weights_1[token]\n",
    "distance = np.dot(a,b) / (np.sqrt(np.dot(a, a)) * np.sqrt(np.dot(b,b)))\n",
    "\n",
    "print(f'Token number {token} is \"{VOCABR[token]}\" along with \"{VOCABR[token-1]}\" with cos score as {distance}')"
   ]
  },
  {
   "cell_type": "code",
   "execution_count": 345,
   "metadata": {},
   "outputs": [],
   "source": [
    "# np.savetxt('20200326_blake-poems.csv', weights_1, delimiter=',')"
   ]
  },
  {
   "cell_type": "markdown",
   "metadata": {},
   "source": [
    "`[insert navigation here]`\n",
    "\n",
    "---\n",
    "#### Using Our Trained Model\n",
    "\n",
    "We can use our trained model to `list things we can do with our Word2Vec model from earlier`.\n",
    "\n",
    "First, we define functions to help do those things."
   ]
  },
  {
   "cell_type": "code",
   "execution_count": 346,
   "metadata": {},
   "outputs": [],
   "source": [
    "def most_similar(token, model=weights_1):\n",
    "    ''' Return the token and vector of the most similar token in the model to input token '''\n",
    "    best_score = -1\n",
    "    token_vector = word_vector(token)\n",
    "    best_vector = None\n",
    "    for i, current_vector in enumerate(model):\n",
    "        if i == token:\n",
    "            continue\n",
    "            \n",
    "        score = similarity(token_vector, current_vector)\n",
    "        if score > best_score:\n",
    "            best_score = score\n",
    "            best_vector = i\n",
    "    return best_vector, best_score\n",
    "\n",
    "\n",
    "def topn(token, n=3, model=weights_1):\n",
    "    ''' Return the top n tokens and vectors most closely related to input token '''\n",
    "    \n",
    "    similarity_scores, vectors = [], []\n",
    "    token_vector = word_vector(token, model)\n",
    "    \n",
    "    for i, current_vector in enumerate(model):\n",
    "        score = similarity(token_vector, current_vector)\n",
    "        \n",
    "        if similarity_scores and similarity_scores[0] < score:\n",
    "            similarity_scores.insert(0, score)\n",
    "            vectors.insert(0, i)\n",
    "        "
   ]
  },
  {
   "cell_type": "markdown",
   "metadata": {},
   "source": [
    "Test with algebraic interactions of this "
   ]
  },
  {
   "cell_type": "code",
   "execution_count": null,
   "metadata": {},
   "outputs": [],
   "source": [
    "most_similar(994)"
   ]
  },
  {
   "cell_type": "code",
   "execution_count": null,
   "metadata": {},
   "outputs": [],
   "source": [
    "VOCABR[994], VOCABR[8066]"
   ]
  },
  {
   "cell_type": "code",
   "execution_count": null,
   "metadata": {},
   "outputs": [],
   "source": [
    "similarity(word_vector(343), word_vector(344)), VOCABR[343], VOCABR[344]"
   ]
  },
  {
   "cell_type": "markdown",
   "metadata": {},
   "source": [
    "`[insert navigation here]`\n",
    "\n",
    "---\n",
    "\n",
    "### Visualize Word2Vec\n",
    "\n",
    "We can visualize our word vectors trained using plotting packages like `matplotlib`, `seaborn`, and others. I make use of the `altair` visualization package.\n",
    "\n",
    "<p class='tip'>Preprocessing</p>"
   ]
  },
  {
   "cell_type": "code",
   "execution_count": 281,
   "metadata": {},
   "outputs": [],
   "source": [
    "from sklearn.decomposition import PCA\n",
    "from sklearn.manifold import TSNE\n",
    "from sklearn.preprocessing import StandardScaler"
   ]
  },
  {
   "cell_type": "markdown",
   "metadata": {},
   "source": [
    "Declare preprocessing models."
   ]
  },
  {
   "cell_type": "code",
   "execution_count": 350,
   "metadata": {},
   "outputs": [],
   "source": [
    "pca2 = PCA(n_components=2)\n",
    "pca50 = PCA(n_components=50)\n",
    "tsne = TSNE(n_components=2, perplexity=100)\n",
    "scale = StandardScaler()"
   ]
  },
  {
   "cell_type": "markdown",
   "metadata": {},
   "source": [
    "Normalize the vector weights so that $\\mu = 0$ and $\\sigma = 1$."
   ]
  },
  {
   "cell_type": "code",
   "execution_count": 348,
   "metadata": {},
   "outputs": [],
   "source": [
    "scaled_data = scale.fit_transform(weights_1)"
   ]
  },
  {
   "cell_type": "markdown",
   "metadata": {},
   "source": [
    "Reduce dimensionality via PCA transform."
   ]
  },
  {
   "cell_type": "code",
   "execution_count": 351,
   "metadata": {},
   "outputs": [],
   "source": [
    "pca_data_2 = pca2.fit_transform(scaled_data)\n",
    "pca_data_50 = pca50.fit_transform(scaled_data)"
   ]
  },
  {
   "cell_type": "markdown",
   "metadata": {},
   "source": [
    "Reduce dimensionality via TSNE transform.\n",
    "\n",
    "<p class='warning'> Results may vary from run to run</p>"
   ]
  },
  {
   "cell_type": "code",
   "execution_count": 352,
   "metadata": {},
   "outputs": [
    {
     "name": "stdout",
     "output_type": "stream",
     "text": [
      "CPU times: user 1min 7s, sys: 2.04 s, total: 1min 9s\n",
      "Wall time: 21.1 s\n"
     ]
    }
   ],
   "source": [
    "%%time\n",
    "tsne_data = tsne.fit_transform(pca_data_50)"
   ]
  },
  {
   "cell_type": "code",
   "execution_count": 360,
   "metadata": {},
   "outputs": [],
   "source": [
    "from tqdm.notebook import trange, tqdm"
   ]
  },
  {
   "cell_type": "code",
   "execution_count": 368,
   "metadata": {},
   "outputs": [],
   "source": [
    "from ipywidgets import IntProgress, FloatProgress"
   ]
  },
  {
   "cell_type": "code",
   "execution_count": 369,
   "metadata": {},
   "outputs": [
    {
     "ename": "ImportError",
     "evalue": "IntProgress not found. Please update jupyter and ipywidgets. See https://ipywidgets.readthedocs.io/en/stable/user_install.html",
     "output_type": "error",
     "traceback": [
      "\u001b[0;31m---------------------------------------------------------------------------\u001b[0m",
      "\u001b[0;31mNameError\u001b[0m                                 Traceback (most recent call last)",
      "\u001b[0;32m/Applications/anaconda/lib/python3.6/site-packages/tqdm/notebook.py\u001b[0m in \u001b[0;36mstatus_printer\u001b[0;34m(_, total, desc, ncols)\u001b[0m\n\u001b[1;32m    102\u001b[0m             \u001b[0;31m# #187 #451 #558\u001b[0m\u001b[0;34m\u001b[0m\u001b[0;34m\u001b[0m\u001b[0;34m\u001b[0m\u001b[0m\n\u001b[0;32m--> 103\u001b[0;31m             raise ImportError(\n\u001b[0m\u001b[1;32m    104\u001b[0m                 \u001b[0;34m\"FloatProgress not found. Please update jupyter and ipywidgets.\"\u001b[0m\u001b[0;34m\u001b[0m\u001b[0;34m\u001b[0m\u001b[0m\n",
      "\u001b[0;31mNameError\u001b[0m: name 'IntProgress' is not defined",
      "\nDuring handling of the above exception, another exception occurred:\n",
      "\u001b[0;31mImportError\u001b[0m                               Traceback (most recent call last)",
      "\u001b[0;32m<ipython-input-369-da43a980c8aa>\u001b[0m in \u001b[0;36m<module>\u001b[0;34m\u001b[0m\n\u001b[0;32m----> 1\u001b[0;31m \u001b[0;32mfor\u001b[0m \u001b[0mi\u001b[0m \u001b[0;32min\u001b[0m \u001b[0mtqdm\u001b[0m\u001b[0;34m(\u001b[0m\u001b[0mrange\u001b[0m\u001b[0;34m(\u001b[0m\u001b[0;36m500\u001b[0m\u001b[0;34m)\u001b[0m\u001b[0;34m)\u001b[0m\u001b[0;34m:\u001b[0m\u001b[0;34m\u001b[0m\u001b[0;34m\u001b[0m\u001b[0m\n\u001b[0m\u001b[1;32m      2\u001b[0m     \u001b[0;32mfor\u001b[0m \u001b[0mj\u001b[0m \u001b[0;32min\u001b[0m \u001b[0mrange\u001b[0m\u001b[0;34m(\u001b[0m\u001b[0;36m200\u001b[0m\u001b[0;34m)\u001b[0m\u001b[0;34m:\u001b[0m\u001b[0;34m\u001b[0m\u001b[0;34m\u001b[0m\u001b[0m\n\u001b[1;32m      3\u001b[0m         \u001b[0;32mpass\u001b[0m\u001b[0;34m\u001b[0m\u001b[0;34m\u001b[0m\u001b[0m\n",
      "\u001b[0;32m/Applications/anaconda/lib/python3.6/site-packages/tqdm/notebook.py\u001b[0m in \u001b[0;36m__init__\u001b[0;34m(self, *args, **kwargs)\u001b[0m\n\u001b[1;32m    211\u001b[0m \u001b[0;34m\u001b[0m\u001b[0m\n\u001b[1;32m    212\u001b[0m         \u001b[0;31m# Print initial bar state\u001b[0m\u001b[0;34m\u001b[0m\u001b[0;34m\u001b[0m\u001b[0;34m\u001b[0m\u001b[0m\n\u001b[0;32m--> 213\u001b[0;31m         \u001b[0;32mif\u001b[0m \u001b[0;32mnot\u001b[0m \u001b[0mself\u001b[0m\u001b[0;34m.\u001b[0m\u001b[0mdisable\u001b[0m\u001b[0;34m:\u001b[0m\u001b[0;34m\u001b[0m\u001b[0;34m\u001b[0m\u001b[0m\n\u001b[0m\u001b[1;32m    214\u001b[0m             \u001b[0mself\u001b[0m\u001b[0;34m.\u001b[0m\u001b[0mdisplay\u001b[0m\u001b[0;34m(\u001b[0m\u001b[0;34m)\u001b[0m\u001b[0;34m\u001b[0m\u001b[0;34m\u001b[0m\u001b[0m\n\u001b[1;32m    215\u001b[0m \u001b[0;34m\u001b[0m\u001b[0m\n",
      "\u001b[0;32m/Applications/anaconda/lib/python3.6/site-packages/tqdm/notebook.py\u001b[0m in \u001b[0;36mstatus_printer\u001b[0;34m(_, total, desc, ncols)\u001b[0m\n\u001b[1;32m    109\u001b[0m             \u001b[0mpbar\u001b[0m\u001b[0;34m.\u001b[0m\u001b[0mdescription\u001b[0m \u001b[0;34m=\u001b[0m \u001b[0mdesc\u001b[0m\u001b[0;34m\u001b[0m\u001b[0;34m\u001b[0m\u001b[0m\n\u001b[1;32m    110\u001b[0m             \u001b[0;32mif\u001b[0m \u001b[0mIPYW\u001b[0m \u001b[0;34m>=\u001b[0m \u001b[0;36m7\u001b[0m\u001b[0;34m:\u001b[0m\u001b[0;34m\u001b[0m\u001b[0;34m\u001b[0m\u001b[0m\n\u001b[0;32m--> 111\u001b[0;31m                 \u001b[0mpbar\u001b[0m\u001b[0;34m.\u001b[0m\u001b[0mstyle\u001b[0m\u001b[0;34m.\u001b[0m\u001b[0mdescription_width\u001b[0m \u001b[0;34m=\u001b[0m \u001b[0;34m'initial'\u001b[0m\u001b[0;34m\u001b[0m\u001b[0;34m\u001b[0m\u001b[0m\n\u001b[0m\u001b[1;32m    112\u001b[0m         \u001b[0;31m# Prepare status text\u001b[0m\u001b[0;34m\u001b[0m\u001b[0;34m\u001b[0m\u001b[0;34m\u001b[0m\u001b[0m\n\u001b[1;32m    113\u001b[0m         \u001b[0mptext\u001b[0m \u001b[0;34m=\u001b[0m \u001b[0mHTML\u001b[0m\u001b[0;34m(\u001b[0m\u001b[0;34m)\u001b[0m\u001b[0;34m\u001b[0m\u001b[0;34m\u001b[0m\u001b[0m\n",
      "\u001b[0;31mImportError\u001b[0m: IntProgress not found. Please update jupyter and ipywidgets. See https://ipywidgets.readthedocs.io/en/stable/user_install.html"
     ]
    }
   ],
   "source": [
    "for i in tqdm(range(500)):\n",
    "    for j in range(200):\n",
    "        pass"
   ]
  },
  {
   "cell_type": "code",
   "execution_count": 287,
   "metadata": {},
   "outputs": [
    {
     "data": {
      "text/plain": [
       "<matplotlib.collections.PathCollection at 0x8ca0620f0>"
      ]
     },
     "execution_count": 287,
     "metadata": {},
     "output_type": "execute_result"
    },
    {
     "data": {
      "image/png": "[encoded data removed]",
      "text/plain": [
       "<Figure size 432x288 with 1 Axes>"
      ]
     },
     "metadata": {
      "needs_background": "light"
     },
     "output_type": "display_data"
    }
   ],
   "source": [
    "plt.scatter(x=tsne_data[:,0], y=tsne_data[:,1])"
   ]
  },
  {
   "cell_type": "code",
   "execution_count": 288,
   "metadata": {},
   "outputs": [
    {
     "data": {
      "text/plain": [
       "<matplotlib.collections.PathCollection at 0x8c9148048>"
      ]
     },
     "execution_count": 288,
     "metadata": {},
     "output_type": "execute_result"
    },
    {
     "data": {
      "image/png": "[encoded data removed]",
      "text/plain": [
       "<Figure size 432x288 with 1 Axes>"
      ]
     },
     "metadata": {
      "needs_background": "light"
     },
     "output_type": "display_data"
    }
   ],
   "source": [
    "plt.scatter(x=pca_data[:,0], y=pca_data[:,1])"
   ]
  },
  {
   "cell_type": "markdown",
   "metadata": {},
   "source": [
    "#### Visualization with Altaïr\n",
    "\n",
    "After transforming the high-dimensional data down to 2 and 3 dimensional datasets, we can better visualize what the vectors we trained look like."
   ]
  },
  {
   "cell_type": "code",
   "execution_count": 302,
   "metadata": {},
   "outputs": [],
   "source": [
    "current = tsne_data\n",
    "columns = [f'd{i}' for i in range(current.shape[-1])]\n",
    "index = [f'{VOCABR[i]}' for i in range(current.shape[0])]\n",
    "\n",
    "viz_data = pd.DataFrame(tsne_data, columns=columns, index=index).reset_index()"
   ]
  },
  {
   "cell_type": "code",
   "execution_count": 303,
   "metadata": {},
   "outputs": [],
   "source": [
    "chart = alt.Chart(viz_data.sample(100))"
   ]
  },
  {
   "cell_type": "code",
   "execution_count": 304,
   "metadata": {},
   "outputs": [
    {
     "data": {
      "application/javascript": [
       "const spec = {\"config\": {\"view\": {\"width\": 400, \"height\": 300}, \"mark\": {\"tooltip\": null}}, \"data\": {\"name\": \"data-f3b3072e644a3797c26a256e12d75d6a\"}, \"mark\": \"point\", \"encoding\": {\"tooltip\": {\"type\": \"nominal\", \"field\": \"index\"}, \"x\": {\"type\": \"quantitative\", \"field\": \"d1\"}, \"y\": {\"type\": \"quantitative\", \"field\": \"d0\"}}, \"$schema\": \"https://vega.github.io/schema/vega-lite/v3.4.0.json\", \"datasets\": {\"data-f3b3072e644a3797c26a256e12d75d6a\": [{\"index\": \"pinnacles\", \"d0\": 0.5218527317047119, \"d1\": -0.18607306480407715}, {\"index\": \"east\", \"d0\": -0.3154037594795227, \"d1\": 0.473748117685318}, {\"index\": \"speech\", \"d0\": 0.629334032535553, \"d1\": 2.2212917804718018}, {\"index\": \"rivulet\", \"d0\": -1.1529645919799805, \"d1\": 0.7452785968780518}, {\"index\": \"suspend\", \"d0\": -0.11822613328695297, \"d1\": 0.2756336033344269}, {\"index\": \"comparison\", \"d0\": 1.6419798135757446, \"d1\": 1.432934284210205}, {\"index\": \"transgress\", \"d0\": -0.756888747215271, \"d1\": -2.49776291847229}, {\"index\": \"expiate\", \"d0\": -1.0634092092514038, \"d1\": -1.8787837028503418}, {\"index\": \"terrene\", \"d0\": 0.5487369894981384, \"d1\": 1.220602035522461}, {\"index\": \"deathless\", \"d0\": 0.5374749302864075, \"d1\": 0.2578718662261963}, {\"index\": \"euboic\", \"d0\": 0.460816353559494, \"d1\": 2.4562339782714844}, {\"index\": \"low\", \"d0\": -0.40449124574661255, \"d1\": -0.5770986676216125}, {\"index\": \"dwellings\", \"d0\": 1.8066915273666382, \"d1\": -1.3483058214187622}, {\"index\": \"capitoline\", \"d0\": 0.8815547227859497, \"d1\": 1.2533081769943237}, {\"index\": \"fraoud\", \"d0\": 0.09049606323242188, \"d1\": -0.7132164239883423}, {\"index\": \"scoffing\", \"d0\": 0.4480961263179779, \"d1\": 0.8627337217330933}, {\"index\": \"departs\", \"d0\": 1.7610440254211426, \"d1\": 0.9973262548446655}, {\"index\": \"prophecy\", \"d0\": -1.5927222967147827, \"d1\": -1.1683653593063354}, {\"index\": \"ray\", \"d0\": 0.2040109783411026, \"d1\": 1.516956090927124}, {\"index\": \"betwixt\", \"d0\": -0.35375580191612244, \"d1\": -2.032412528991699}, {\"index\": \"rain\", \"d0\": -0.7034586668014526, \"d1\": -0.5643031001091003}, {\"index\": \"everlasting\", \"d0\": 0.30906373262405396, \"d1\": -0.4812007248401642}, {\"index\": \"depends\", \"d0\": -1.170466423034668, \"d1\": -0.9191341400146484}, {\"index\": \"lambs\", \"d0\": -1.4044643640518188, \"d1\": 0.033672869205474854}, {\"index\": \"passes\", \"d0\": -0.4448620080947876, \"d1\": -0.7699421048164368}, {\"index\": \"immovable\", \"d0\": -0.4768030643463135, \"d1\": 1.2527817487716675}, {\"index\": \"thistles\", \"d0\": 0.01348299439996481, \"d1\": -0.3784625828266144}, {\"index\": \"undertake\", \"d0\": 0.07493440061807632, \"d1\": -0.7919036746025085}, {\"index\": \"longing\", \"d0\": -1.105007529258728, \"d1\": -0.7638452053070068}, {\"index\": \"abandon\", \"d0\": 1.9715040922164917, \"d1\": 1.414017677307129}, {\"index\": \"acquaint\", \"d0\": -0.09350813180208206, \"d1\": -0.5375233292579651}, {\"index\": \"redounding\", \"d0\": -0.12738284468650818, \"d1\": -0.2159302681684494}, {\"index\": \"tempered\", \"d0\": 1.3054265975952148, \"d1\": -0.30039748549461365}, {\"index\": \"warriours\", \"d0\": 1.1223154067993164, \"d1\": -0.9138293862342834}, {\"index\": \"vi\", \"d0\": -0.3517687916755676, \"d1\": -0.23540031909942627}, {\"index\": \"unfortunate\", \"d0\": 0.27729272842407227, \"d1\": -0.7198048233985901}, {\"index\": \"speculations\", \"d0\": -0.6637582778930664, \"d1\": -1.2449676990509033}, {\"index\": \"lasting\", \"d0\": -0.584219753742218, \"d1\": 2.44199800491333}, {\"index\": \"victory\", \"d0\": 0.8444642424583435, \"d1\": -0.09400615096092224}, {\"index\": \"polluted\", \"d0\": 0.9732457995414734, \"d1\": -0.39433497190475464}, {\"index\": \"herald\", \"d0\": 1.1149526834487915, \"d1\": 0.613971471786499}, {\"index\": \"wall\", \"d0\": -0.70004802942276, \"d1\": -1.3858907222747803}, {\"index\": \"sit\", \"d0\": -1.697400450706482, \"d1\": 1.416860580444336}, {\"index\": \"blue\", \"d0\": 0.2814164459705353, \"d1\": -2.022562265396118}, {\"index\": \"lighter\", \"d0\": -0.21179530024528503, \"d1\": 1.3790760040283203}, {\"index\": \"themis\", \"d0\": 0.3879709541797638, \"d1\": -0.8404524922370911}, {\"index\": \"flock\", \"d0\": -0.30139032006263733, \"d1\": 1.718511939048767}, {\"index\": \"pause\", \"d0\": -1.3869566917419434, \"d1\": -0.7403997778892517}, {\"index\": \"thanks\", \"d0\": 0.8015130758285522, \"d1\": 0.5339623093605042}, {\"index\": \"much\", \"d0\": -2.137887477874756, \"d1\": 1.0248754024505615}, {\"index\": \"persuasive\", \"d0\": -1.3820172548294067, \"d1\": -0.16397970914840698}, {\"index\": \"undazzled\", \"d0\": 0.07961313426494598, \"d1\": 0.5855740308761597}, {\"index\": \"chilling\", \"d0\": -1.6880557537078857, \"d1\": 1.282515048980713}, {\"index\": \"designs\", \"d0\": -0.05599980056285858, \"d1\": 1.4047973155975342}, {\"index\": \"unawares\", \"d0\": 0.11668752133846283, \"d1\": -1.4700709581375122}, {\"index\": \"disobeyed\", \"d0\": 0.9361258149147034, \"d1\": -1.4802972078323364}, {\"index\": \"tainted\", \"d0\": -1.4698952436447144, \"d1\": -0.990813136100769}, {\"index\": \"depend\", \"d0\": -1.397367000579834, \"d1\": -0.3714384138584137}, {\"index\": \"jarring\", \"d0\": 1.6540371179580688, \"d1\": -0.7895709276199341}, {\"index\": \"injury\", \"d0\": 1.4580751657485962, \"d1\": -0.33900877833366394}, {\"index\": \"whispering\", \"d0\": -1.0956571102142334, \"d1\": 0.8469048738479614}, {\"index\": \"fleet\", \"d0\": 1.0697227716445923, \"d1\": -1.5672208070755005}, {\"index\": \"advantage\", \"d0\": 0.33443376421928406, \"d1\": -1.834191918373108}, {\"index\": \"caves\", \"d0\": 0.026336561888456345, \"d1\": 0.0627279281616211}, {\"index\": \"mere\", \"d0\": -1.498547911643982, \"d1\": -0.8570228815078735}, {\"index\": \"plained\", \"d0\": 0.2900691032409668, \"d1\": -0.7121492624282837}, {\"index\": \"factious\", \"d0\": -0.25119924545288086, \"d1\": -1.1263524293899536}, {\"index\": \"doric\", \"d0\": -0.3019361197948456, \"d1\": 1.0761373043060303}, {\"index\": \"unblest\", \"d0\": -0.6870880126953125, \"d1\": 0.5252317786216736}, {\"index\": \"rested\", \"d0\": 1.4315688610076904, \"d1\": -0.7808330655097961}, {\"index\": \"acts\", \"d0\": -0.8741828799247742, \"d1\": -0.013969862833619118}, {\"index\": \"pastured\", \"d0\": 1.3157907724380493, \"d1\": -2.0982887744903564}, {\"index\": \"transient\", \"d0\": -0.28211796283721924, \"d1\": -2.2726075649261475}, {\"index\": \"ponder\", \"d0\": 0.8765769004821777, \"d1\": -1.5297930240631104}, {\"index\": \"embower\", \"d0\": 1.1294622421264648, \"d1\": -2.1741838455200195}, {\"index\": \"fitter\", \"d0\": 0.748994767665863, \"d1\": -0.9236642718315125}, {\"index\": \"head\", \"d0\": -0.8033448457717896, \"d1\": 0.6605529189109802}, {\"index\": \"uproar\", \"d0\": 1.5944381952285767, \"d1\": 1.1381391286849976}, {\"index\": \"line\", \"d0\": -0.23982100188732147, \"d1\": -0.3519057035446167}, {\"index\": \"beaten\", \"d0\": -0.04819846525788307, \"d1\": 0.3471589982509613}, {\"index\": \"unsucked\", \"d0\": 1.3835840225219727, \"d1\": -0.06927745044231415}, {\"index\": \"besmeared\", \"d0\": 2.283090591430664, \"d1\": -0.005200631450861692}, {\"index\": \"woven\", \"d0\": -1.785016655921936, \"d1\": 1.63768470287323}, {\"index\": \"pythian\", \"d0\": 0.4682553708553314, \"d1\": 0.3597812354564667}, {\"index\": \"marl\", \"d0\": 0.20944254100322723, \"d1\": 1.3418887853622437}, {\"index\": \"fares\", \"d0\": 1.1080271005630493, \"d1\": -1.7599778175354004}, {\"index\": \"small\", \"d0\": -1.9395685195922852, \"d1\": 0.14446675777435303}, {\"index\": \"hirelings\", \"d0\": 1.0380247831344604, \"d1\": -0.9672709107398987}, {\"index\": \"ignorant\", \"d0\": 0.8832836747169495, \"d1\": -0.7140166163444519}, {\"index\": \"leaned\", \"d0\": -0.05964351072907448, \"d1\": 0.05640624463558197}, {\"index\": \"provokes\", \"d0\": -2.1482789516448975, \"d1\": -0.20088432729244232}, {\"index\": \"ophiusa\", \"d0\": -0.3950110375881195, \"d1\": 1.1035375595092773}, {\"index\": \"appoints\", \"d0\": 0.20374076068401337, \"d1\": -1.2637927532196045}, {\"index\": \"downfall\", \"d0\": 1.9969934225082397, \"d1\": 0.9419072866439819}, {\"index\": \"journey\", \"d0\": 0.6774201393127441, \"d1\": 0.9537309408187866}, {\"index\": \"despair\", \"d0\": -1.8688209056854248, \"d1\": -0.11367989331483841}, {\"index\": \"blows\", \"d0\": 0.9007396697998047, \"d1\": 0.2863945960998535}, {\"index\": \"dispels\", \"d0\": -1.555891990661621, \"d1\": -0.49087244272232056}, {\"index\": \"decan\", \"d0\": -0.019324200227856636, \"d1\": 2.2464981079101562}, {\"index\": \"amidst\", \"d0\": 1.5483566522598267, \"d1\": -1.7483818531036377}]}};\n",
       "const opt = {};\n",
       "const type = \"vega-lite\";\n",
       "const id = \"3dbc40aa-c057-4a0b-863c-9fd17a349703\";\n",
       "\n",
       "const output_area = this;\n",
       "\n",
       "require([\"nbextensions/jupyter-vega/index\"], function(vega) {\n",
       "  const target = document.createElement(\"div\");\n",
       "  target.id = id;\n",
       "  target.className = \"vega-embed\";\n",
       "\n",
       "  const style = document.createElement(\"style\");\n",
       "  style.textContent = [\n",
       "    \".vega-embed .error p {\",\n",
       "    \"  color: firebrick;\",\n",
       "    \"  font-size: 14px;\",\n",
       "    \"}\",\n",
       "  ].join(\"\\\\n\");\n",
       "\n",
       "  // element is a jQuery wrapped DOM element inside the output area\n",
       "  // see http://ipython.readthedocs.io/en/stable/api/generated/\\\n",
       "  // IPython.display.html#IPython.display.Javascript.__init__\n",
       "  element[0].appendChild(target);\n",
       "  element[0].appendChild(style);\n",
       "\n",
       "  vega.render(\"#\" + id, spec, type, opt, output_area);\n",
       "}, function (err) {\n",
       "  if (err.requireType !== \"scripterror\") {\n",
       "    throw(err);\n",
       "  }\n",
       "});\n"
      ],
      "text/plain": [
       "<vega.vegalite.VegaLite at 0x8ca0c9860>"
      ]
     },
     "metadata": {
      "jupyter-vega": "#3dbc40aa-c057-4a0b-863c-9fd17a349703"
     },
     "output_type": "display_data"
    },
    {
     "data": {
      "text/plain": []
     },
     "execution_count": 304,
     "metadata": {},
     "output_type": "execute_result"
    },
    {
     "data": {
      "image/png": "[encoded data removed]"
     },
     "metadata": {
      "jupyter-vega": "#3dbc40aa-c057-4a0b-863c-9fd17a349703"
     },
     "output_type": "display_data"
    }
   ],
   "source": [
    "marked = chart.mark_point()\n",
    "marked.encode(x='d1:Q', y='d0:Q', tooltip='index')"
   ]
  },
  {
   "cell_type": "code",
   "execution_count": 126,
   "metadata": {},
   "outputs": [
    {
     "data": {
      "text/html": [
       "<div>\n",
       "<style scoped>\n",
       "    .dataframe tbody tr th:only-of-type {\n",
       "        vertical-align: middle;\n",
       "    }\n",
       "\n",
       "    .dataframe tbody tr th {\n",
       "        vertical-align: top;\n",
       "    }\n",
       "\n",
       "    .dataframe thead th {\n",
       "        text-align: right;\n",
       "    }\n",
       "</style>\n",
       "<table border=\"1\" class=\"dataframe\">\n",
       "  <thead>\n",
       "    <tr style=\"text-align: right;\">\n",
       "      <th></th>\n",
       "      <th>dim0</th>\n",
       "      <th>dim1</th>\n",
       "      <th>dim2</th>\n",
       "      <th>dim3</th>\n",
       "      <th>dim4</th>\n",
       "      <th>dim5</th>\n",
       "      <th>dim6</th>\n",
       "      <th>dim7</th>\n",
       "      <th>dim8</th>\n",
       "      <th>dim9</th>\n",
       "      <th>...</th>\n",
       "      <th>dim90</th>\n",
       "      <th>dim91</th>\n",
       "      <th>dim92</th>\n",
       "      <th>dim93</th>\n",
       "      <th>dim94</th>\n",
       "      <th>dim95</th>\n",
       "      <th>dim96</th>\n",
       "      <th>dim97</th>\n",
       "      <th>dim98</th>\n",
       "      <th>dim99</th>\n",
       "    </tr>\n",
       "  </thead>\n",
       "  <tbody>\n",
       "    <tr>\n",
       "      <th>0</th>\n",
       "      <td>0.494439</td>\n",
       "      <td>0.914252</td>\n",
       "      <td>0.749852</td>\n",
       "      <td>0.450282</td>\n",
       "      <td>0.333984</td>\n",
       "      <td>-0.177128</td>\n",
       "      <td>0.812821</td>\n",
       "      <td>-0.074200</td>\n",
       "      <td>0.030697</td>\n",
       "      <td>0.209158</td>\n",
       "      <td>...</td>\n",
       "      <td>0.479364</td>\n",
       "      <td>-0.186662</td>\n",
       "      <td>0.294927</td>\n",
       "      <td>0.480878</td>\n",
       "      <td>0.312198</td>\n",
       "      <td>0.550375</td>\n",
       "      <td>0.558543</td>\n",
       "      <td>0.252235</td>\n",
       "      <td>0.598827</td>\n",
       "      <td>0.430232</td>\n",
       "    </tr>\n",
       "    <tr>\n",
       "      <th>1</th>\n",
       "      <td>0.203339</td>\n",
       "      <td>0.380945</td>\n",
       "      <td>0.362574</td>\n",
       "      <td>0.255523</td>\n",
       "      <td>0.535332</td>\n",
       "      <td>0.637117</td>\n",
       "      <td>0.037985</td>\n",
       "      <td>0.088838</td>\n",
       "      <td>1.109675</td>\n",
       "      <td>0.485825</td>\n",
       "      <td>...</td>\n",
       "      <td>1.002769</td>\n",
       "      <td>0.946495</td>\n",
       "      <td>0.668023</td>\n",
       "      <td>0.230546</td>\n",
       "      <td>0.151393</td>\n",
       "      <td>1.043824</td>\n",
       "      <td>0.520433</td>\n",
       "      <td>0.658831</td>\n",
       "      <td>0.771033</td>\n",
       "      <td>1.092829</td>\n",
       "    </tr>\n",
       "    <tr>\n",
       "      <th>2</th>\n",
       "      <td>1.028624</td>\n",
       "      <td>0.397761</td>\n",
       "      <td>0.306731</td>\n",
       "      <td>0.842353</td>\n",
       "      <td>0.563798</td>\n",
       "      <td>0.661317</td>\n",
       "      <td>1.018939</td>\n",
       "      <td>0.419322</td>\n",
       "      <td>1.091091</td>\n",
       "      <td>0.963010</td>\n",
       "      <td>...</td>\n",
       "      <td>1.234041</td>\n",
       "      <td>0.903139</td>\n",
       "      <td>0.182104</td>\n",
       "      <td>1.054777</td>\n",
       "      <td>0.107126</td>\n",
       "      <td>0.243657</td>\n",
       "      <td>0.737183</td>\n",
       "      <td>1.046090</td>\n",
       "      <td>0.592238</td>\n",
       "      <td>0.061236</td>\n",
       "    </tr>\n",
       "    <tr>\n",
       "      <th>3</th>\n",
       "      <td>0.222952</td>\n",
       "      <td>0.488836</td>\n",
       "      <td>0.068310</td>\n",
       "      <td>-0.178257</td>\n",
       "      <td>0.033890</td>\n",
       "      <td>0.064640</td>\n",
       "      <td>0.253433</td>\n",
       "      <td>0.008154</td>\n",
       "      <td>-0.082744</td>\n",
       "      <td>0.348853</td>\n",
       "      <td>...</td>\n",
       "      <td>0.144667</td>\n",
       "      <td>-0.281052</td>\n",
       "      <td>0.556063</td>\n",
       "      <td>-0.083624</td>\n",
       "      <td>0.112865</td>\n",
       "      <td>0.646510</td>\n",
       "      <td>0.104911</td>\n",
       "      <td>0.147255</td>\n",
       "      <td>-0.127217</td>\n",
       "      <td>0.084823</td>\n",
       "    </tr>\n",
       "    <tr>\n",
       "      <th>4</th>\n",
       "      <td>0.669227</td>\n",
       "      <td>0.743517</td>\n",
       "      <td>0.591324</td>\n",
       "      <td>0.444454</td>\n",
       "      <td>-0.485687</td>\n",
       "      <td>0.127059</td>\n",
       "      <td>-0.261203</td>\n",
       "      <td>0.385965</td>\n",
       "      <td>0.269238</td>\n",
       "      <td>-0.238900</td>\n",
       "      <td>...</td>\n",
       "      <td>0.208579</td>\n",
       "      <td>0.390439</td>\n",
       "      <td>0.005111</td>\n",
       "      <td>0.357903</td>\n",
       "      <td>0.117769</td>\n",
       "      <td>-0.117638</td>\n",
       "      <td>-0.084027</td>\n",
       "      <td>-0.222754</td>\n",
       "      <td>0.339683</td>\n",
       "      <td>0.658402</td>\n",
       "    </tr>\n",
       "    <tr>\n",
       "      <th>5</th>\n",
       "      <td>0.813467</td>\n",
       "      <td>0.549822</td>\n",
       "      <td>0.561410</td>\n",
       "      <td>0.518991</td>\n",
       "      <td>0.760137</td>\n",
       "      <td>0.305789</td>\n",
       "      <td>0.525087</td>\n",
       "      <td>0.273355</td>\n",
       "      <td>0.166117</td>\n",
       "      <td>0.816249</td>\n",
       "      <td>...</td>\n",
       "      <td>0.275559</td>\n",
       "      <td>0.144456</td>\n",
       "      <td>0.072923</td>\n",
       "      <td>0.129566</td>\n",
       "      <td>0.606418</td>\n",
       "      <td>0.638694</td>\n",
       "      <td>0.597726</td>\n",
       "      <td>0.229721</td>\n",
       "      <td>-0.052099</td>\n",
       "      <td>0.056636</td>\n",
       "    </tr>\n",
       "    <tr>\n",
       "      <th>6</th>\n",
       "      <td>0.652677</td>\n",
       "      <td>0.202364</td>\n",
       "      <td>0.239423</td>\n",
       "      <td>0.287444</td>\n",
       "      <td>0.542215</td>\n",
       "      <td>1.176485</td>\n",
       "      <td>0.601531</td>\n",
       "      <td>-0.030565</td>\n",
       "      <td>0.516171</td>\n",
       "      <td>0.938214</td>\n",
       "      <td>...</td>\n",
       "      <td>-0.159999</td>\n",
       "      <td>0.391361</td>\n",
       "      <td>0.324426</td>\n",
       "      <td>0.135161</td>\n",
       "      <td>0.684149</td>\n",
       "      <td>0.271289</td>\n",
       "      <td>0.625202</td>\n",
       "      <td>0.462927</td>\n",
       "      <td>0.220081</td>\n",
       "      <td>0.954849</td>\n",
       "    </tr>\n",
       "    <tr>\n",
       "      <th>7</th>\n",
       "      <td>0.125664</td>\n",
       "      <td>0.259307</td>\n",
       "      <td>0.128758</td>\n",
       "      <td>0.034620</td>\n",
       "      <td>0.416053</td>\n",
       "      <td>-0.258667</td>\n",
       "      <td>0.393291</td>\n",
       "      <td>-0.003707</td>\n",
       "      <td>0.066546</td>\n",
       "      <td>-0.159775</td>\n",
       "      <td>...</td>\n",
       "      <td>0.466502</td>\n",
       "      <td>0.202674</td>\n",
       "      <td>0.040047</td>\n",
       "      <td>-0.085224</td>\n",
       "      <td>-0.452957</td>\n",
       "      <td>-0.187634</td>\n",
       "      <td>0.126403</td>\n",
       "      <td>0.655603</td>\n",
       "      <td>0.600788</td>\n",
       "      <td>0.813031</td>\n",
       "    </tr>\n",
       "    <tr>\n",
       "      <th>8</th>\n",
       "      <td>0.229914</td>\n",
       "      <td>0.306723</td>\n",
       "      <td>0.123883</td>\n",
       "      <td>0.406303</td>\n",
       "      <td>-0.136383</td>\n",
       "      <td>0.301645</td>\n",
       "      <td>0.247908</td>\n",
       "      <td>0.250259</td>\n",
       "      <td>-0.099217</td>\n",
       "      <td>0.246128</td>\n",
       "      <td>...</td>\n",
       "      <td>0.508956</td>\n",
       "      <td>0.010383</td>\n",
       "      <td>0.879290</td>\n",
       "      <td>0.395683</td>\n",
       "      <td>0.375984</td>\n",
       "      <td>0.300406</td>\n",
       "      <td>0.289190</td>\n",
       "      <td>0.422819</td>\n",
       "      <td>0.838257</td>\n",
       "      <td>-0.091356</td>\n",
       "    </tr>\n",
       "    <tr>\n",
       "      <th>9</th>\n",
       "      <td>0.208903</td>\n",
       "      <td>0.607210</td>\n",
       "      <td>-0.329320</td>\n",
       "      <td>-0.077515</td>\n",
       "      <td>-0.053989</td>\n",
       "      <td>-0.336191</td>\n",
       "      <td>-0.288182</td>\n",
       "      <td>-0.331140</td>\n",
       "      <td>0.067510</td>\n",
       "      <td>0.420567</td>\n",
       "      <td>...</td>\n",
       "      <td>0.043040</td>\n",
       "      <td>-0.047593</td>\n",
       "      <td>-0.140932</td>\n",
       "      <td>-0.049722</td>\n",
       "      <td>0.230108</td>\n",
       "      <td>0.706089</td>\n",
       "      <td>-0.001288</td>\n",
       "      <td>-0.107248</td>\n",
       "      <td>0.696415</td>\n",
       "      <td>0.417715</td>\n",
       "    </tr>\n",
       "    <tr>\n",
       "      <th>10</th>\n",
       "      <td>0.487188</td>\n",
       "      <td>0.178490</td>\n",
       "      <td>0.587925</td>\n",
       "      <td>-0.082761</td>\n",
       "      <td>0.247275</td>\n",
       "      <td>-0.293217</td>\n",
       "      <td>-0.169783</td>\n",
       "      <td>0.606247</td>\n",
       "      <td>-0.118817</td>\n",
       "      <td>-0.046901</td>\n",
       "      <td>...</td>\n",
       "      <td>-0.368696</td>\n",
       "      <td>-0.278385</td>\n",
       "      <td>0.449192</td>\n",
       "      <td>-0.114744</td>\n",
       "      <td>-0.256546</td>\n",
       "      <td>0.553310</td>\n",
       "      <td>0.176502</td>\n",
       "      <td>-0.261479</td>\n",
       "      <td>0.129310</td>\n",
       "      <td>0.228611</td>\n",
       "    </tr>\n",
       "    <tr>\n",
       "      <th>11</th>\n",
       "      <td>0.882960</td>\n",
       "      <td>-0.066353</td>\n",
       "      <td>0.731264</td>\n",
       "      <td>0.592625</td>\n",
       "      <td>0.442540</td>\n",
       "      <td>0.717944</td>\n",
       "      <td>0.102344</td>\n",
       "      <td>0.225426</td>\n",
       "      <td>0.247398</td>\n",
       "      <td>0.217294</td>\n",
       "      <td>...</td>\n",
       "      <td>0.610405</td>\n",
       "      <td>0.856892</td>\n",
       "      <td>0.196266</td>\n",
       "      <td>0.425822</td>\n",
       "      <td>0.469113</td>\n",
       "      <td>0.129316</td>\n",
       "      <td>0.327685</td>\n",
       "      <td>0.152777</td>\n",
       "      <td>0.275611</td>\n",
       "      <td>0.845665</td>\n",
       "    </tr>\n",
       "    <tr>\n",
       "      <th>12</th>\n",
       "      <td>-0.072496</td>\n",
       "      <td>0.046143</td>\n",
       "      <td>0.486121</td>\n",
       "      <td>0.789149</td>\n",
       "      <td>-0.008031</td>\n",
       "      <td>0.262297</td>\n",
       "      <td>0.594720</td>\n",
       "      <td>0.194706</td>\n",
       "      <td>0.951513</td>\n",
       "      <td>0.663909</td>\n",
       "      <td>...</td>\n",
       "      <td>0.188255</td>\n",
       "      <td>0.871551</td>\n",
       "      <td>0.500301</td>\n",
       "      <td>-0.004858</td>\n",
       "      <td>0.691556</td>\n",
       "      <td>0.965341</td>\n",
       "      <td>0.411615</td>\n",
       "      <td>0.342424</td>\n",
       "      <td>1.035050</td>\n",
       "      <td>0.823338</td>\n",
       "    </tr>\n",
       "    <tr>\n",
       "      <th>13</th>\n",
       "      <td>0.653314</td>\n",
       "      <td>0.823657</td>\n",
       "      <td>0.633076</td>\n",
       "      <td>0.401748</td>\n",
       "      <td>0.418217</td>\n",
       "      <td>0.524824</td>\n",
       "      <td>1.109423</td>\n",
       "      <td>0.257077</td>\n",
       "      <td>0.936955</td>\n",
       "      <td>0.977117</td>\n",
       "      <td>...</td>\n",
       "      <td>0.498698</td>\n",
       "      <td>0.685609</td>\n",
       "      <td>0.114326</td>\n",
       "      <td>0.701226</td>\n",
       "      <td>0.791799</td>\n",
       "      <td>0.027657</td>\n",
       "      <td>0.830513</td>\n",
       "      <td>1.199680</td>\n",
       "      <td>0.568242</td>\n",
       "      <td>0.087784</td>\n",
       "    </tr>\n",
       "  </tbody>\n",
       "</table>\n",
       "<p>14 rows × 100 columns</p>\n",
       "</div>"
      ],
      "text/plain": [
       "        dim0      dim1      dim2      dim3      dim4      dim5      dim6  \\\n",
       "0   0.494439  0.914252  0.749852  0.450282  0.333984 -0.177128  0.812821   \n",
       "1   0.203339  0.380945  0.362574  0.255523  0.535332  0.637117  0.037985   \n",
       "2   1.028624  0.397761  0.306731  0.842353  0.563798  0.661317  1.018939   \n",
       "3   0.222952  0.488836  0.068310 -0.178257  0.033890  0.064640  0.253433   \n",
       "4   0.669227  0.743517  0.591324  0.444454 -0.485687  0.127059 -0.261203   \n",
       "5   0.813467  0.549822  0.561410  0.518991  0.760137  0.305789  0.525087   \n",
       "6   0.652677  0.202364  0.239423  0.287444  0.542215  1.176485  0.601531   \n",
       "7   0.125664  0.259307  0.128758  0.034620  0.416053 -0.258667  0.393291   \n",
       "8   0.229914  0.306723  0.123883  0.406303 -0.136383  0.301645  0.247908   \n",
       "9   0.208903  0.607210 -0.329320 -0.077515 -0.053989 -0.336191 -0.288182   \n",
       "10  0.487188  0.178490  0.587925 -0.082761  0.247275 -0.293217 -0.169783   \n",
       "11  0.882960 -0.066353  0.731264  0.592625  0.442540  0.717944  0.102344   \n",
       "12 -0.072496  0.046143  0.486121  0.789149 -0.008031  0.262297  0.594720   \n",
       "13  0.653314  0.823657  0.633076  0.401748  0.418217  0.524824  1.109423   \n",
       "\n",
       "        dim7      dim8      dim9  ...     dim90     dim91     dim92     dim93  \\\n",
       "0  -0.074200  0.030697  0.209158  ...  0.479364 -0.186662  0.294927  0.480878   \n",
       "1   0.088838  1.109675  0.485825  ...  1.002769  0.946495  0.668023  0.230546   \n",
       "2   0.419322  1.091091  0.963010  ...  1.234041  0.903139  0.182104  1.054777   \n",
       "3   0.008154 -0.082744  0.348853  ...  0.144667 -0.281052  0.556063 -0.083624   \n",
       "4   0.385965  0.269238 -0.238900  ...  0.208579  0.390439  0.005111  0.357903   \n",
       "5   0.273355  0.166117  0.816249  ...  0.275559  0.144456  0.072923  0.129566   \n",
       "6  -0.030565  0.516171  0.938214  ... -0.159999  0.391361  0.324426  0.135161   \n",
       "7  -0.003707  0.066546 -0.159775  ...  0.466502  0.202674  0.040047 -0.085224   \n",
       "8   0.250259 -0.099217  0.246128  ...  0.508956  0.010383  0.879290  0.395683   \n",
       "9  -0.331140  0.067510  0.420567  ...  0.043040 -0.047593 -0.140932 -0.049722   \n",
       "10  0.606247 -0.118817 -0.046901  ... -0.368696 -0.278385  0.449192 -0.114744   \n",
       "11  0.225426  0.247398  0.217294  ...  0.610405  0.856892  0.196266  0.425822   \n",
       "12  0.194706  0.951513  0.663909  ...  0.188255  0.871551  0.500301 -0.004858   \n",
       "13  0.257077  0.936955  0.977117  ...  0.498698  0.685609  0.114326  0.701226   \n",
       "\n",
       "       dim94     dim95     dim96     dim97     dim98     dim99  \n",
       "0   0.312198  0.550375  0.558543  0.252235  0.598827  0.430232  \n",
       "1   0.151393  1.043824  0.520433  0.658831  0.771033  1.092829  \n",
       "2   0.107126  0.243657  0.737183  1.046090  0.592238  0.061236  \n",
       "3   0.112865  0.646510  0.104911  0.147255 -0.127217  0.084823  \n",
       "4   0.117769 -0.117638 -0.084027 -0.222754  0.339683  0.658402  \n",
       "5   0.606418  0.638694  0.597726  0.229721 -0.052099  0.056636  \n",
       "6   0.684149  0.271289  0.625202  0.462927  0.220081  0.954849  \n",
       "7  -0.452957 -0.187634  0.126403  0.655603  0.600788  0.813031  \n",
       "8   0.375984  0.300406  0.289190  0.422819  0.838257 -0.091356  \n",
       "9   0.230108  0.706089 -0.001288 -0.107248  0.696415  0.417715  \n",
       "10 -0.256546  0.553310  0.176502 -0.261479  0.129310  0.228611  \n",
       "11  0.469113  0.129316  0.327685  0.152777  0.275611  0.845665  \n",
       "12  0.691556  0.965341  0.411615  0.342424  1.035050  0.823338  \n",
       "13  0.791799  0.027657  0.830513  1.199680  0.568242  0.087784  \n",
       "\n",
       "[14 rows x 100 columns]"
      ]
     },
     "execution_count": 126,
     "metadata": {},
     "output_type": "execute_result"
    }
   ],
   "source": [
    "viz_data"
   ]
  },
  {
   "cell_type": "markdown",
   "metadata": {},
   "source": [
    "---"
   ]
  },
  {
   "cell_type": "code",
   "execution_count": null,
   "metadata": {},
   "outputs": [],
   "source": [
    "vector.shape, matrix_1.shape"
   ]
  },
  {
   "cell_type": "code",
   "execution_count": null,
   "metadata": {},
   "outputs": [],
   "source": [
    "pred, h, u = forward(vector, matrix_1, matrix_2)\n",
    "pred.shape, h.shape, u.shape"
   ]
  },
  {
   "cell_type": "code",
   "execution_count": null,
   "metadata": {},
   "outputs": [],
   "source": [
    "VOCABR[vector.argmax()]"
   ]
  },
  {
   "cell_type": "code",
   "execution_count": null,
   "metadata": {},
   "outputs": [],
   "source": [
    "VOCABR[pred.argmax()]"
   ]
  },
  {
   "cell_type": "markdown",
   "metadata": {},
   "source": [
    "## Using an Existing Package\n",
    "\n",
    "There are existing implementations that already exist that allow you to use Word2Vec technology out of the box.\n",
    "\n",
    "Examples of these include:\n",
    "  * SpaCy\n",
    "  * gensim\n",
    "  * ELMo\n",
    "  * fasttext\n",
    " \n",
    " \n",
    "### SpaCy"
   ]
  },
  {
   "cell_type": "code",
   "execution_count": null,
   "metadata": {},
   "outputs": [],
   "source": [
    "nlp = spacy.load('en_core_web_sm')"
   ]
  },
  {
   "cell_type": "code",
   "execution_count": null,
   "metadata": {},
   "outputs": [],
   "source": []
  },
  {
   "cell_type": "code",
   "execution_count": null,
   "metadata": {},
   "outputs": [],
   "source": []
  }
 ],
 "metadata": {
  "kernelspec": {
   "display_name": "Python 3",
   "language": "python",
   "name": "python3"
  },
  "language_info": {
   "codemirror_mode": {
    "name": "ipython",
    "version": 3
   },
   "file_extension": ".py",
   "mimetype": "text/x-python",
   "name": "python",
   "nbconvert_exporter": "python",
   "pygments_lexer": "ipython3",
   "version": "3.6.9"
  }
 },
 "nbformat": 4,
 "nbformat_minor": 2
}
