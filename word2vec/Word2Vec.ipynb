{
 "cells": [
  {
   "cell_type": "markdown",
   "metadata": {
    "slideshow": {
     "slide_type": "slide"
    },
    "tags": [
     "introduction",
     "contents"
    ]
   },
   "source": [
    "# Harvesting Meaning from Text: A Quick Demonstration on Word2Vec\n",
    "\n",
    "--- \n",
    "Glenn Abastillas | 24 March, 2020\n",
    "<style>\n",
    "    p {\n",
    "        font-family: 'Calibri Light', 'Helvetica', 'Arial', sans-serif;\n",
    "    }\n",
    "</style>\n",
    "<img src=\"./images/splash_image.png\" style=\"height: 50%; width: 50%; float: right; margin-left: 2em;\" />\n",
    "\n",
    "This notebook goes over an example implementation of Word2Vec and some existing packages that perform Word2Vec training.\n",
    "\n",
    "### Contents\n",
    "  1. [Preliminary Steps](#phase-1)\n",
    "      - [1.0 Load Packages](#section-1)\n",
    "      - [1.1 Visual Inspection](#section-1-1)\n",
    "      - [1.2 Slimming Down](#section-1-2)\n",
    "      - [1.2 Subsampling](#section-1-3)\n",
    "      - [1.2 Encoding Tokens](#section-1-4)\n",
    "      \n",
    "  2. [Background](#phase-2)\n",
    "      - [2.0 Word2Vec](#section-2)\n",
    "      - [2.1 From Scratch](#section-2-1)\n",
    "      - [2.2 Generate Data](#section-2-2)\n",
    "      - [2.3 Algorithm Architecture](#section-2-3)\n",
    "      - [2.4 Forward and Backward](#section-2-4)\n",
    "          - [2.4.1 Supporting Functions](#section-2-4-1)\n",
    "      - [2.5 Training](#section-2-5)\n",
    "          - [2.5.1 Run Training](#section-2-5-1)\n",
    "      \n",
    "  3. [Some Examples](#phase-3)\n",
    "      - [3.0 Wordsmithing](#section-3)\n",
    "      - [3.1 Random Inspection](#section-3-1)\n",
    "      - [3.2 Attemping Algebra](#section-3-2)\n",
    "  4. [Visualizating Vectors](#phase-4)\n",
    "      - [4.0 Declaring Classes](#section-4)\n",
    "      - [4.1 Dimension Reduction](#section-4-1)\n",
    "      - [4.2 Vector Space](#section-4-2)\n",
    "  5. [Key Takeaways](#section-5)\n",
    "\n",
    "---\n",
    "\n",
    "# Preliminary Steps <a id='phase-1'></a>\n",
    "\n",
    "<span class='bold'>Section</span> [Top](#phase-1) &bull; [Bottom](#phase-2) &bull; 1.0 Load Packages &bull; [1.1 Visual Inspection](#section-1-1) &bull; [1.2 Slimming Down](#section-1-2) &bull; [1.3 Subsampling](#section-1-3) &bull; [1.4 Encoding Tokens](#section-1-4)\n",
    "\n",
    "## <span class='phase-1'>1.0</span> Load Packages <a id=\"section-1\"></a>\n",
    "First we import packages and clean the data."
   ]
  },
  {
   "cell_type": "code",
   "execution_count": 1,
   "metadata": {},
   "outputs": [
    {
     "data": {
      "text/html": [
       "<!DOCTYPE html>\n",
       "<html>\n",
       "<head>\n",
       "    <title>CSS Stylesheet for Jupyter</title>\n",
       "    <style>\n",
       "        .banner {\n",
       "            border-left: solid 5px black;\n",
       "            background: lightgray;\n",
       "            padding-left: 1em;\n",
       "        }\n",
       "\n",
       "        .tip {\n",
       "            border-left-color: darkgreen;\n",
       "            background: lightgreen;\n",
       "        }\n",
       "\n",
       "        .attention {\n",
       "            border-left-color: goldenrod;\n",
       "            background: lightgoldenrodyellow;\n",
       "        }\n",
       "        .warning {\n",
       "            border-left-color: darkred;\n",
       "            background: lightcoral;\n",
       "        }\n",
       "\n",
       "        .section-header {\n",
       "            color: green;\n",
       "        }\n",
       "\n",
       "        .bold {\n",
       "            font-weight: 600;\n",
       "        }\n",
       "\n",
       "        .level-2 {\n",
       "            color: blue;\n",
       "        }\n",
       "\n",
       "        .phase-1 {\n",
       "            color: cornflowerblue;\n",
       "        }\n",
       "        .phase-2 {\n",
       "            color: seagreen;\n",
       "        }\n",
       "        .phase-3 {\n",
       "            color: goldenrod;\n",
       "        }\n",
       "        .phase-4 {\n",
       "            color: orange;\n",
       "        }\n",
       "        .phase-5 {\n",
       "            color: fuchsia;\n",
       "        }\n",
       "\n",
       "        a, a:active, a:visited {\n",
       "            text-decoration: none;\n",
       "            transition: all 0.25s ease;\n",
       "            opacity: 0.75;\n",
       "        }\n",
       "\n",
       "        a:hover {\n",
       "            /* background: lightgoldenrodyellow; */\n",
       "            opacity: 1;\n",
       "        }\n",
       "\n",
       "        h1 {\n",
       "            font-family: 'Helvetica', 'Arial', sans-serif;\n",
       "            color: black;\n",
       "        }\n",
       "\n",
       "        img {\n",
       "        }\n",
       "\n",
       "        p {\n",
       "            font-family: 'calibri light', 'helvetica light', 'helvetica', 'arial', sans-serif;\n",
       "        }\n",
       "\n",
       "        li {\n",
       "            font-size: 1em;\n",
       "            color: gray;\n",
       "        }\n",
       "\n",
       "        li:hover {\n",
       "            color: black;\n",
       "        }\n",
       "\n",
       "    </style>\n",
       "</head>\n",
       "<body>\n",
       "\n",
       "</body>\n",
       "</html>"
      ],
      "text/plain": [
       "<IPython.core.display.HTML object>"
      ]
     },
     "metadata": {},
     "output_type": "display_data"
    }
   ],
   "source": [
    "import numpy as np\n",
    "import spacy\n",
    "from tqdm.notebook import trange, tqdm\n",
    "\n",
    "import pandas as pd\n",
    "import altair as alt\n",
    "import matplotlib.pyplot as plt\n",
    "\n",
    "from string import punctuation\n",
    "from nltk.corpus import brown, gutenberg, stopwords\n",
    "from collections import namedtuple\n",
    "from sklearn.decomposition import PCA\n",
    "from sklearn.preprocessing import StandardScaler\n",
    "from sklearn.manifold import TSNE\n",
    "from IPython.core.display import display, HTML\n",
    "\n",
    "display(HTML('./style/style.html'))\n",
    "alt.renderers.enable('notebook')\n",
    "corpus = brown"
   ]
  },
  {
   "cell_type": "markdown",
   "metadata": {},
   "source": [
    "We will use data from the `gutenberg` corpus and normalize the input data."
   ]
  },
  {
   "cell_type": "code",
   "execution_count": 2,
   "metadata": {},
   "outputs": [
    {
     "name": "stdout",
     "output_type": "stream",
     "text": [
      "Number of sentences: 131\n",
      "Number of words: 2,332\n"
     ]
    }
   ],
   "source": [
    "title = 'cp01'\n",
    "sents = corpus.sents(title)\n",
    "words = corpus.words(title)\n",
    "\n",
    "print(f'Number of sentences: {len(sents):,}')\n",
    "print(f'Number of words: {len(words):,}')"
   ]
  },
  {
   "cell_type": "markdown",
   "metadata": {},
   "source": [
    "<p class='tips banner'>Parameters, Counts, and Probability Data for Later</p>"
   ]
  },
  {
   "cell_type": "code",
   "execution_count": 3,
   "metadata": {},
   "outputs": [],
   "source": [
    "sents = [[word.lower() for word in sent] for sent in sents]\n",
    "words = [word.lower() for word in words]\n",
    "\n",
    "# Constant values for unique words and word counts\n",
    "WORDS, COUNTS = np.unique(words, return_counts=True)\n",
    "\n",
    "# Probability of words in corpus raised to 3/4th power (see paper cited)\n",
    "PROBS = COUNTS**0.75 / (COUNTS**0.75).sum()\n",
    "\n",
    "# Numeric index of all unique words\n",
    "INDEX = np.arange(WORDS.size)\n",
    "\n",
    "# Mappings from word-to-index and index-to-word\n",
    "VOCAB = dict(zip(WORDS, INDEX))\n",
    "VOCABR = dict(zip(INDEX, WORDS))"
   ]
  },
  {
   "cell_type": "markdown",
   "metadata": {},
   "source": [
    "\n",
    "---\n",
    "<span class='bold'>Section</span> [Top](#section-1) &bull; [Bottom](#section-2) &bull; [1.0 Load Packages](#section-1) &bull; 1.1 Visual Inspection &bull; [1.2 Slimming Down](#section-1-2) &bull; [1.3 Subsampling](#section-1-3) &bull; [1.4 Encoding Tokens](#section-1-4)\n",
    "\n",
    "### 1.1 Visual Inspection <a id='section-1-1'></a>\n",
    "\n",
    "A quick look into our corpus reveals that a handful of sentence lengths dominate this text."
   ]
  },
  {
   "cell_type": "code",
   "execution_count": 4,
   "metadata": {},
   "outputs": [
    {
     "data": {
      "application/javascript": [
       "const spec = {\"config\": {\"view\": {\"width\": 400, \"height\": 300}, \"mark\": {\"tooltip\": null}, \"title\": {\"fontSize\": 20}}, \"data\": {\"name\": \"data-70d4a1714119b14558f9567456973654\"}, \"mark\": {\"type\": \"bar\", \"size\": 10}, \"encoding\": {\"color\": {\"type\": \"quantitative\", \"field\": \"length\", \"title\": \"Sentences\"}, \"tooltip\": {\"type\": \"quantitative\", \"field\": \"tokens\"}, \"x\": {\"type\": \"ordinal\", \"field\": \"tokens\", \"sort\": {\"field\": \"length\", \"order\": \"descending\"}, \"title\": \"Number of Tokens in a Sentence\"}, \"y\": {\"type\": \"quantitative\", \"field\": \"length\", \"scale\": {\"domain\": [0, 20]}, \"title\": \"Number of Sentences\"}}, \"height\": 250, \"selection\": {\"selector001\": {\"type\": \"interval\", \"bind\": \"scales\", \"encodings\": [\"x\", \"y\"]}}, \"title\": \"Count of Sentences by Number of Tokens\", \"width\": 800, \"$schema\": \"https://vega.github.io/schema/vega-lite/v3.4.0.json\", \"datasets\": {\"data-70d4a1714119b14558f9567456973654\": [{\"tokens\": 9, \"length\": 10}, {\"tokens\": 21, \"length\": 7}, {\"tokens\": 18, \"length\": 6}, {\"tokens\": 6, \"length\": 6}, {\"tokens\": 7, \"length\": 6}, {\"tokens\": 17, \"length\": 6}, {\"tokens\": 10, \"length\": 6}, {\"tokens\": 14, \"length\": 6}, {\"tokens\": 13, \"length\": 5}, {\"tokens\": 15, \"length\": 5}, {\"tokens\": 12, \"length\": 5}, {\"tokens\": 11, \"length\": 5}, {\"tokens\": 5, \"length\": 5}, {\"tokens\": 23, \"length\": 4}, {\"tokens\": 30, \"length\": 4}, {\"tokens\": 20, \"length\": 4}, {\"tokens\": 8, \"length\": 3}, {\"tokens\": 22, \"length\": 3}, {\"tokens\": 4, \"length\": 3}, {\"tokens\": 25, \"length\": 3}, {\"tokens\": 26, \"length\": 3}, {\"tokens\": 27, \"length\": 3}, {\"tokens\": 36, \"length\": 3}, {\"tokens\": 40, \"length\": 2}, {\"tokens\": 19, \"length\": 2}, {\"tokens\": 16, \"length\": 2}, {\"tokens\": 31, \"length\": 2}, {\"tokens\": 24, \"length\": 2}, {\"tokens\": 45, \"length\": 1}, {\"tokens\": 43, \"length\": 1}, {\"tokens\": 42, \"length\": 1}, {\"tokens\": 41, \"length\": 1}, {\"tokens\": 32, \"length\": 1}, {\"tokens\": 38, \"length\": 1}, {\"tokens\": 34, \"length\": 1}, {\"tokens\": 33, \"length\": 1}, {\"tokens\": 28, \"length\": 1}, {\"tokens\": 51, \"length\": 1}]}};\n",
       "const opt = {};\n",
       "const type = \"vega-lite\";\n",
       "const id = \"f314a757-203e-4326-8bf9-8c572f058dd4\";\n",
       "\n",
       "const output_area = this;\n",
       "\n",
       "require([\"nbextensions/jupyter-vega/index\"], function(vega) {\n",
       "  const target = document.createElement(\"div\");\n",
       "  target.id = id;\n",
       "  target.className = \"vega-embed\";\n",
       "\n",
       "  const style = document.createElement(\"style\");\n",
       "  style.textContent = [\n",
       "    \".vega-embed .error p {\",\n",
       "    \"  color: firebrick;\",\n",
       "    \"  font-size: 14px;\",\n",
       "    \"}\",\n",
       "  ].join(\"\\\\n\");\n",
       "\n",
       "  // element is a jQuery wrapped DOM element inside the output area\n",
       "  // see http://ipython.readthedocs.io/en/stable/api/generated/\\\n",
       "  // IPython.display.html#IPython.display.Javascript.__init__\n",
       "  element[0].appendChild(target);\n",
       "  element[0].appendChild(style);\n",
       "\n",
       "  vega.render(\"#\" + id, spec, type, opt, output_area);\n",
       "}, function (err) {\n",
       "  if (err.requireType !== \"scripterror\") {\n",
       "    throw(err);\n",
       "  }\n",
       "});\n"
      ],
      "text/plain": [
       "<vega.vegalite.VegaLite at 0x10e83c940>"
      ]
     },
     "metadata": {
      "jupyter-vega": "#f314a757-203e-4326-8bf9-8c572f058dd4"
     },
     "output_type": "display_data"
    },
    {
     "data": {
      "text/plain": []
     },
     "execution_count": 4,
     "metadata": {},
     "output_type": "execute_result"
    },
    {
     "data": {
      "image/png": "[encoded data removed]"
     },
     "metadata": {
      "jupyter-vega": "#f314a757-203e-4326-8bf9-8c572f058dd4"
     },
     "output_type": "display_data"
    }
   ],
   "source": [
    "lengths = [len(sent) for sent in sents]\n",
    "lengths = pd.DataFrame(lengths, columns=['tokens'])\n",
    "lengths = lengths['tokens'].value_counts()\n",
    "lengths = pd.DataFrame(lengths.reset_index())\n",
    "lengths.columns = ['tokens', 'length']\n",
    "\n",
    "# Visual look at the sentence lengths\n",
    "chart = alt.Chart(lengths, width=800, height=250).mark_bar(size=10)\n",
    "chart = chart.encode(x=alt.X('tokens:O', \n",
    "                             title='Number of Tokens in a Sentence', \n",
    "                             sort=alt.SortField(field='length', order='descending')), \n",
    "                     y=alt.Y('length', \n",
    "                             title='Number of Sentences', \n",
    "                             scale=alt.Scale(domain=[0, 20])),\n",
    "                     color=alt.Color('length', title='Sentences'),\n",
    "                     tooltip='tokens')\n",
    "chart = chart.properties(title='Count of Sentences by Number of Tokens').configure_title(fontSize=20)\n",
    "chart.interactive()"
   ]
  },
  {
   "cell_type": "markdown",
   "metadata": {},
   "source": [
    "\n",
    "---\n",
    "<span class='bold'>Section</span> [Top](#section-1) &bull; [Bottom](#section-2) &bull; [1.0 Load Packages](#section-1) &bull; [1.1 Visual Inspection](#section-1-1) &bull; [1.2 Slimming Down](#section-1-2) &bull; [1.3 Subsampling](#section-1-3) &bull; [1.4 Encoding Tokens](#section-1-4)\n",
    "\n",
    "### 1.2 Slimming Down <a id='section-1-2'></a>\n",
    "\n",
    "Next we preprocess the text to get rid of overly frequent words like stopwords. An example of stopwords are shown below. \n",
    "\n",
    "<img src='./images/stopwords.jpg' style='height: 15em; width: 15em;' />\n",
    "\n",
    "This cell defines some functions to help us clean the input text of these types of words."
   ]
  },
  {
   "cell_type": "code",
   "execution_count": 5,
   "metadata": {},
   "outputs": [],
   "source": [
    "stopwords_ = stopwords.words('english')\n",
    "\n",
    "def is_stopword(token):\n",
    "    ''' Check if a specified token is a stopword. '''\n",
    "    try:\n",
    "        return token.lower() in stopwords_\n",
    "    except:\n",
    "        return False\n",
    "\n",
    "def is_valid_token(token):\n",
    "    ''' Check if token is valid, i.e., not a stopword or punctuation '''\n",
    "    try:\n",
    "        return token.isalnum() & ~is_stopword(token)\n",
    "    except:\n",
    "        return False\n",
    "\n",
    "def subsample(vocabulary, probs=PROBS, sample_rate=0.001):\n",
    "    ''' Return the indices of words to be excluded '''\n",
    "    p_keep = (np.sqrt(probs / sample_rate) + 1) * sample_rate / probs\n",
    "    p_keep[p_keep >= 1] = 1\n",
    "    return p_keep"
   ]
  },
  {
   "cell_type": "markdown",
   "metadata": {},
   "source": [
    "\n",
    "---\n",
    "<span class='bold'>Section</span> [Top](#section-1) &bull; [Bottom](#section-2) &bull; [1.0 Load Packages](#section-1) &bull; [1.1 Visual Inspection](#section-1-1) &bull; [1.2 Slimming Down](#section-1-2) &bull; [1.3 Subsampling](#section-1-3) &bull; [1.4 Encoding Tokens](#section-1-4)\n",
    "\n",
    "<img src=\"./images/subsample.png\" style='float: left; height: 10em; margin-left: 1em; margin-right: 2em; margin-top: 2em;'/>\n",
    "\n",
    "### 1.3 Subsampling <a id='section-1-3'></a>\n",
    "\n",
    "Remove overly frequent words that may not contribute much to vector meanings (e.g., the). First, generate a list of frequent words with a low probability of keeping them.\n",
    "That is,  $P_{keep}(w_i) < 75\\%$\n",
    "\n",
    "<br>\n",
    "<br>\n",
    "<br>\n",
    "<p class='attention banner'>For more detail on subsampling, see <a href=\"http://arxiv.org/pdf/1310.4546.pdf\" target='blank'>Mikolov, Sutskever, et al.</a> (2013).</p>"
   ]
  },
  {
   "cell_type": "code",
   "execution_count": 6,
   "metadata": {},
   "outputs": [
    {
     "name": "stdout",
     "output_type": "stream",
     "text": [
      "Number of sentences: 131\n"
     ]
    }
   ],
   "source": [
    "keep = subsample(WORDS)\n",
    "exclude = [word for word in WORDS[keep < 0.75]]\n",
    "\n",
    "# Apply exclude filter to sentences\n",
    "sents = [[word for word in sent if (word not in exclude) and is_valid_token(word)] for sent in sents]\n",
    "print(f'Number of sentences: {len(sents):,}')"
   ]
  },
  {
   "cell_type": "markdown",
   "metadata": {},
   "source": [
    "\n",
    "---\n",
    "<span class='bold'>Section</span> [Top](#section-1) &bull; [Bottom](#section-2) &bull; [1.0 Load Packages](#section-1) &bull; [1.1 Visual Inspection](#section-1-1) &bull; [1.2 Slimming Down](#section-1-2) &bull; [1.3 Subsampling](#section-1-3) &bull; [1.4 Encoding Tokens](#section-1-4)\n",
    "\n",
    "<img src=\"./images/matrix.png\" style=\"float: right; height: 7em; margin-top: 2em; margin-right: 5em;\" />\n",
    "\n",
    "### 1.4 Encoding Tokens <a id='section-1-4'></a>\n",
    "\n",
    "Using the conversion function defined above, we can convert our `normalized_sents` into `data`, which contains only integers that will be used in our Word2Vec example."
   ]
  },
  {
   "cell_type": "code",
   "execution_count": 7,
   "metadata": {},
   "outputs": [
    {
     "name": "stdout",
     "output_type": "stream",
     "text": [
      "CPU times: user 4 µs, sys: 1e+03 ns, total: 5 µs\n",
      "Wall time: 9.06 µs\n"
     ]
    }
   ],
   "source": [
    "%%time\n",
    "data = (np.array([VOCAB[token] for token in sent]) for sent in sents)"
   ]
  },
  {
   "cell_type": "markdown",
   "metadata": {},
   "source": [
    "<p class='tip banner'>Preprocessing complete! Now on to the model. </p>\n",
    "\n",
    "##### Section 1.0 Navigation \n",
    "[Top of Section](#section-1) &bull; [Bottom of Section](#section-2) &bull; [1.1 Visual Inspection](#section-1-1) &bull; [1.2 Slimming Down](#section-1-2) &bull; [1.3 Subsampling](#section-1-3) &bull; [1.4 Encoding Tokens](#section-1-4)\n",
    "\n",
    "#### Document Navigation [1.0 Preliminary Steps](#phase-1) | [2.0 Quick Background](#phase-2) | [3.0 Model Output](#section-3) | [4.0 Data Viz](#section-4)\n",
    "\n",
    "---\n",
    "\n",
    "# Background <a id='phase-2'></a>\n",
    "\n",
    "## 2.0 Word2Vec <a id='section-2'></a>\n",
    "\n",
    "<img src=\"./images/splash_image_2.png\" style=\"float: right; height: 40%; width: 40%; margin-left: 2em;\" />\n",
    "\n",
    "<h3> Word2Vec—What is it?</h3>\n",
    "<p class='content'><span class='bold'>Word2Vec</span> is a method of representing words as numerical vectors. This representation allows us to improve model efficiency and endows words with numeric properties that capture semantic relationships in text like the image to the right.</p>\n",
    "<p class='content'>That means that we convert words built from characters to 'words' built from numbers.</p>\n",
    "    <p class='example'>$word \\Rightarrow [0.1,0.7,0.3,0.9,0.3]$</p>\n",
    "    <p class='example'>$bird \\Rightarrow [0.1,0.7,0.8,0.7,0.5]$</p>\n",
    "\n",
    "---\n",
    "\n",
    "<h3> What are its uses?</h3>\n",
    "<p class='content'>Because of <span class='bold'>Word2Vec</span>'s uncanny ability to capture hidden patterns in large corpora, <span class='bold'>Word2Vec</span> has many uses for information extraction from a large, unknown text. \n",
    "    Here's a short list of applications of <span class='bold'>Word2Vec</span> in documents:</p>\n",
    "\n",
    "  * Identifying emerging topics in large amounts of text\n",
    "  * Identifying entities and relationships\n",
    "  * Developing knowledge resources for other NLP work (e.g., semantic analyses)\n",
    " \n",
    "---\n",
    "<h3> Other Models</h3>\n",
    "<p class='content'><span class='bold'>Word2Vec</span> is not the only way to represent lexical items as numeric vectors. Other methods include <span class='bold'>Global Vectors for Word Representation (GloVe)</span> and <span class='bold'>Text Frequency - Inverse Document Frequency (TF-IDF)</span>.</p>\n"
   ]
  },
  {
   "cell_type": "markdown",
   "metadata": {},
   "source": [
    "\n",
    "---\n",
    "<span class='bold'>Section</span> [Top](#section-2) &bull; [Bottom](#section-3) &bull; [2.0 Word2Vec](#section-2) &bull; [2.1 From Scratch](#section-2-1) &bull; [2.2 Generate Input](#section-2-2) &bull; [2.3 Algorithm Architecture](#section-2-3) &bull; [2.4 Forward and Backward](#section-2-4) &bull; [2.5 Training](#section-2-5)\n",
    "<!--\n",
    "<img src='./images/from_scratch.jpg' style='height: 20em; float: right; padding-right: 3em;' />\n",
    "-->\n",
    "\n",
    "### 2.1 From Scratch <a id=\"section-2-1\"></a>\n",
    "\n",
    "For things example, we will create a Word2Vec language model using the data we preprocessed above. In this section, we will develop a **<a id=\"skip-gram\" style=\"text-decoration: none; cursor: help;\" title=\"Using the a token to predict its surroundings\">Skip-gram</a>** flavored Word2Vec model.\n",
    "\n",
    "We will:\n",
    "  * Create Skip-gram windows\n",
    "  * Create preliminary <a id='one-hot' style='text-decoration: none; cursor: help;' title='A vector that is comprised of zeros and ones indicating absence or presence of a value'>one-hot vectors</a>\n",
    "\n",
    "\n",
    "###### Parameters <a id='parameters'></a>\n",
    "First we define some hyperparameters that we use for training. \n",
    "\n",
    "<p class='attention banner'>For more information on setting parameters, see <a href='https://www.aclweb.org/anthology/D14-1162/'>Proceedings of the 2014 Conference on Empirical Methods in Natural Language Processing</a>.</p>"
   ]
  },
  {
   "cell_type": "code",
   "execution_count": 8,
   "metadata": {},
   "outputs": [],
   "source": [
    "parameters = {'window' : 3, 'dimensions' : 100, 'learning_rate' : 0.01, 'epochs' : 20}"
   ]
  },
  {
   "cell_type": "markdown",
   "metadata": {},
   "source": [
    "\n",
    "---\n",
    "<span class='bold'>Section</span> [Top](#section-2) &bull; [Bottom](#section-3) &bull; [2.0 Word2Vec](#section-2) &bull; [2.1 From Scratch](#section-2-1) &bull; [2.2 Generate Input](#section-2-2) &bull; [2.3 Algorithm Architecture](#section-2-3) &bull; [2.4 Forward and Backward](#section-2-4) &bull; [2.5 Training](#section-2-5)\n",
    "\n",
    "\n",
    "\n",
    "### 2.2 Generate Data <a id=\"section-2-2\"></a>\n",
    "\n",
    "We will generate loose <a id='one-hot' style='text-decoration: none; cursor: help;' title='A vector that is comprised of zeros and ones indicating absence or presence of a value'>one-hot vectors</a> that will serve as input and target data when training our model.\n",
    "\n",
    "First we filter our data to ensure we have sufficient data to window."
   ]
  },
  {
   "cell_type": "code",
   "execution_count": 9,
   "metadata": {},
   "outputs": [
    {
     "name": "stdout",
     "output_type": "stream",
     "text": [
      "Number of sentences in data: 95\n",
      "CPU times: user 1.05 ms, sys: 122 µs, total: 1.17 ms\n",
      "Wall time: 1.11 ms\n"
     ]
    }
   ],
   "source": [
    "%%time\n",
    "\n",
    "# Make sure data fits within window\n",
    "data = [sent for sent in data if sent.size >= parameters['window'] + 1]\n",
    "\n",
    "print(f'Number of sentences in data: {len(data)}')"
   ]
  },
  {
   "cell_type": "markdown",
   "metadata": {},
   "source": [
    "Now, we generate our one hot vectors using the `VOCAB` as a model for our vector.\n",
    "\n",
    "Let's define a few functions to help use generate these data."
   ]
  },
  {
   "cell_type": "code",
   "execution_count": 11,
   "metadata": {},
   "outputs": [],
   "source": [
    "Datum = namedtuple('Datum', 'target context'.split())\n",
    "\n",
    "def one_hot(token, size=WORDS.size):\n",
    "    ''' Convert an input token into an integer according to a specified reference '''\n",
    "    vector = np.zeros((1, size))\n",
    "    vector[0, token] = 1\n",
    "    return vector\n",
    "\n",
    "def generate_examples(data, examples=[], size=parameters['window']):\n",
    "    ''' Create a example data with the structure [(context, targets), ...] '''\n",
    "    sentences = tqdm(enumerate(data), desc='Generating examples', total=len(data))\n",
    "    \n",
    "    for i, sentence in sentences:\n",
    "        \n",
    "        for j, token in enumerate(sentence):\n",
    "            before = max(j - size, 0)\n",
    "            after = j + size\n",
    "            skip = j + 1\n",
    "\n",
    "            context = one_hot(sentence[j])\n",
    "            targets = np.append(sentence[before:j], sentence[skip:after])\n",
    "            \n",
    "            _targets = []\n",
    "        \n",
    "            for target in targets:\n",
    "                _targets.append(one_hot(target))\n",
    "                \n",
    "            examples.append((context, _targets))\n",
    "    \n",
    "    return examples"
   ]
  },
  {
   "cell_type": "markdown",
   "metadata": {},
   "source": [
    "\n",
    "Loop through all the sentences to generate `target` and `context` data for training.\n",
    "<p class='attention banner'>Processing time may vary </p>"
   ]
  },
  {
   "cell_type": "code",
   "execution_count": 12,
   "metadata": {},
   "outputs": [
    {
     "data": {
      "application/vnd.jupyter.widget-view+json": {
       "model_id": "f743051852bf4bc08b7b91a1b18729d7",
       "version_major": 2,
       "version_minor": 0
      },
      "text/plain": [
       "HBox(children=(FloatProgress(value=0.0, description='Generating examples', max=95.0, style=ProgressStyle(descr…"
      ]
     },
     "metadata": {},
     "output_type": "display_data"
    },
    {
     "name": "stdout",
     "output_type": "stream",
     "text": [
      "\n",
      "847 examples\n"
     ]
    }
   ],
   "source": [
    "examples = generate_examples(data)\n",
    "print(f'{len(examples)} examples')"
   ]
  },
  {
   "cell_type": "markdown",
   "metadata": {},
   "source": [
    "\n",
    "---\n",
    "<span class='bold'>Section</span> [Top](#section-2) &bull; [Bottom](#section-3) &bull; [2.0 Word2Vec](#section-2) &bull; [2.1 From Scratch](#section-2-1) &bull; [2.2 Generate Input](#section-2-2) &bull; [2.3 Algorithm Architecture](#section-2-3) &bull; [2.4 Forward and Backward](#section-2-4) &bull; [2.5 Training](#section-2-5)\n",
    "\n",
    "\n",
    "### 2.3 Algorithm Architecture <a id='create_layers'></a>\n",
    "\n",
    "These matrices will serve as the layers that surround our `word2vec` layer during training.\n",
    "\n",
    "<img src='./images/architecture.png' style='height: 50%; width: 50%; margin-bottom; 2em;' />\n",
    "\n",
    "This cell defines the weight matrices used by the model."
   ]
  },
  {
   "cell_type": "code",
   "execution_count": 13,
   "metadata": {},
   "outputs": [
    {
     "name": "stdout",
     "output_type": "stream",
     "text": [
      "Dimensions\n",
      "Weights 1 (776, 100)\n",
      "Weights 2 (100, 776)\n"
     ]
    }
   ],
   "source": [
    "dimensions = parameters['dimensions']\n",
    "size = WORDS.size\n",
    "\n",
    "w1 = np.random.random((size, dimensions))\n",
    "w2 = np.random.random((dimensions, size))\n",
    "\n",
    "print(f'Dimensions\\nWeights 1 {w1.shape}\\nWeights 2 {w2.shape}')"
   ]
  },
  {
   "cell_type": "markdown",
   "metadata": {},
   "source": [
    "\n",
    "---\n",
    "<span class='bold'>Section</span> [Top](#section-2) &bull; [Bottom](#section-3) &bull; [2.0 Word2Vec](#section-2) &bull; [2.1 From Scratch](#section-2-1) &bull; [2.2 Generate Input](#section-2-2) &bull; [2.3 Algorithm Architecture](#section-2-3) &bull; [2.4 Forward and Backward](#section-2-4) &bull; [2.5 Training](#section-2-5)\n",
    "\n",
    "### 2.4 Forward and Backward <a id='section-2-4'></a>\n",
    "\n",
    "The first part of a two part algorithm defining a <a id='learning-step' style='text-decoration: none; cursor: help;' title='A phase where training data are learned and errors are adjusted throughout the model'>learning step</a>. This algorithm introduces our randomly initialized model to its first evidence of real data to learn from. It then predicts a surrounding vocabulary item from it."
   ]
  },
  {
   "cell_type": "code",
   "execution_count": 14,
   "metadata": {},
   "outputs": [],
   "source": [
    "def forward(context, targets, w1=w1, w2=w2):\n",
    "    ''' Return three matrices corresponding to the prediction, hidden layer, and output '''\n",
    "    hidden = context @ w1\n",
    "    output = hidden @ w2\n",
    "    prediction = softmax(output)\n",
    "    error = calculate_error(prediction, targets)\n",
    "    return prediction, error, output, hidden\n",
    "\n",
    "def backpropagate(error, hidden, context, w1=w1, w2=w2):\n",
    "    ''' Update weight matrices according to output from forward() '''\n",
    "    w2_delta = np.outer(hidden, error) * parameters['learning_rate']\n",
    "    hidden_error = error @ w2.T\n",
    "    w1_delta = np.outer(context, hidden_error) * parameters['learning_rate']\n",
    "    \n",
    "    w1 -= w1_delta\n",
    "    w2 -= w2_delta"
   ]
  },
  {
   "cell_type": "markdown",
   "metadata": {},
   "source": [
    "#### 2.4.1 Supporting Functions for Forward and Backpropagate <a id='section-2-4-1'></a>"
   ]
  },
  {
   "cell_type": "code",
   "execution_count": 15,
   "metadata": {},
   "outputs": [],
   "source": [
    "def softmax(output):\n",
    "    ''' Return the an array normalized to a probability '''\n",
    "    e = np.exp(output)\n",
    "    return e / e.sum()\n",
    "\n",
    "def calculate_error(prediction, targets):\n",
    "    ''' Return weights with the summed prediction error '''\n",
    "    error = [prediction - token for token in targets]\n",
    "    return np.sum(error, axis=0)\n",
    "\n",
    "def calculate_loss(output, targets):\n",
    "    ''' Calculate the cross entropy loss for an output of a forward pass '''\n",
    "    right = len(targets) * np.log(np.sum(np.exp(output)))\n",
    "    left = np.sum([output[target == 1] for target in targets])\n",
    "    return -left + right\n",
    "\n",
    "def cross_entropy(context, prediction):\n",
    "    sum_ = np.sum(context * np.log(prediction))\n",
    "    return -sum_ / context.size"
   ]
  },
  {
   "cell_type": "markdown",
   "metadata": {},
   "source": [
    "\n",
    "---\n",
    "<span class='bold'>Section</span> [Top](#section-2) &bull; [Bottom](#section-3) &bull; [2.0 Word2Vec](#section-2) &bull; [2.1 From Scratch](#section-2-1) &bull; [2.2 Generate Input](#section-2-2) &bull; [2.3 Algorithm Architecture](#section-2-3) &bull; [2.4 Forward and Backward](#section-2-4) &bull; [2.5 Training](#section-2-5)\n",
    "\n",
    "### 2.5 Training <a id='section-2-5'></a>\n",
    "\n",
    "Having both the feed forward and backpropagation algorithms defined, we can now define a training algorithm to learn all training examples for a single <a id='epoch' style='text-decoration: none; cursor: help;' title='A complete cycle of learning steps through all training data'>epoch</a>."
   ]
  },
  {
   "cell_type": "code",
   "execution_count": 20,
   "metadata": {},
   "outputs": [],
   "source": [
    "def train(examples, w1=w1, w2=w2, parameters=parameters, total=WORDS.size):\n",
    "    ''' Train the Word2Vec model on our training data to generate meaningful word vectors '''\n",
    "    \n",
    "    epochs = trange(parameters['epochs'], desc=\"Training\")\n",
    "#     total_loss = []\n",
    "    current_loss = 0\n",
    "    predictions = []\n",
    "\n",
    "    for epoch in epochs:\n",
    "        data = tqdm(examples, desc=f'Epoch {epoch} — Previous Loss {round(current_loss, 1)}', leave=False)\n",
    "#         current_loss = 0\n",
    "        for context, targets in data:\n",
    "            prediction, error, output, hidden = forward(context, targets)\n",
    "            backpropagate(error, hidden, context)\n",
    "#             current_loss += calculate_loss(context, prediction)\n",
    "#         total_loss.append(current_loss)\n",
    "#     return total_loss"
   ]
  },
  {
   "cell_type": "markdown",
   "metadata": {},
   "source": [
    "\n",
    "###### 2.5.1 Run Training <a id='section-2-5-1'></a>\n",
    "\n",
    "This cell loops through all our training data to demonstrate what happens in one training <a id='epoch' style='text-decoration: none; cursor: help;' title='A complete cycle of learning steps through all training data'>epoch</a>.\n",
    "\n",
    "<p class='attention banner'>Processing time may vary</p>"
   ]
  },
  {
   "cell_type": "code",
   "execution_count": 21,
   "metadata": {},
   "outputs": [
    {
     "data": {
      "application/vnd.jupyter.widget-view+json": {
       "model_id": "617a73735b154ef9870fe7c12db3274e",
       "version_major": 2,
       "version_minor": 0
      },
      "text/plain": [
       "HBox(children=(FloatProgress(value=0.0, description='Training', max=20.0, style=ProgressStyle(description_widt…"
      ]
     },
     "metadata": {},
     "output_type": "display_data"
    },
    {
     "data": {
      "application/vnd.jupyter.widget-view+json": {
       "model_id": "",
       "version_major": 2,
       "version_minor": 0
      },
      "text/plain": [
       "HBox(children=(FloatProgress(value=0.0, description='Epoch 0 — Previous Loss 0', max=847.0, style=ProgressStyl…"
      ]
     },
     "metadata": {},
     "output_type": "display_data"
    },
    {
     "data": {
      "application/vnd.jupyter.widget-view+json": {
       "model_id": "",
       "version_major": 2,
       "version_minor": 0
      },
      "text/plain": [
       "HBox(children=(FloatProgress(value=0.0, description='Epoch 1 — Previous Loss 0', max=847.0, style=ProgressStyl…"
      ]
     },
     "metadata": {},
     "output_type": "display_data"
    },
    {
     "data": {
      "application/vnd.jupyter.widget-view+json": {
       "model_id": "",
       "version_major": 2,
       "version_minor": 0
      },
      "text/plain": [
       "HBox(children=(FloatProgress(value=0.0, description='Epoch 2 — Previous Loss 0', max=847.0, style=ProgressStyl…"
      ]
     },
     "metadata": {},
     "output_type": "display_data"
    },
    {
     "data": {
      "application/vnd.jupyter.widget-view+json": {
       "model_id": "",
       "version_major": 2,
       "version_minor": 0
      },
      "text/plain": [
       "HBox(children=(FloatProgress(value=0.0, description='Epoch 3 — Previous Loss 0', max=847.0, style=ProgressStyl…"
      ]
     },
     "metadata": {},
     "output_type": "display_data"
    },
    {
     "data": {
      "application/vnd.jupyter.widget-view+json": {
       "model_id": "",
       "version_major": 2,
       "version_minor": 0
      },
      "text/plain": [
       "HBox(children=(FloatProgress(value=0.0, description='Epoch 4 — Previous Loss 0', max=847.0, style=ProgressStyl…"
      ]
     },
     "metadata": {},
     "output_type": "display_data"
    },
    {
     "data": {
      "application/vnd.jupyter.widget-view+json": {
       "model_id": "",
       "version_major": 2,
       "version_minor": 0
      },
      "text/plain": [
       "HBox(children=(FloatProgress(value=0.0, description='Epoch 5 — Previous Loss 0', max=847.0, style=ProgressStyl…"
      ]
     },
     "metadata": {},
     "output_type": "display_data"
    },
    {
     "data": {
      "application/vnd.jupyter.widget-view+json": {
       "model_id": "",
       "version_major": 2,
       "version_minor": 0
      },
      "text/plain": [
       "HBox(children=(FloatProgress(value=0.0, description='Epoch 6 — Previous Loss 0', max=847.0, style=ProgressStyl…"
      ]
     },
     "metadata": {},
     "output_type": "display_data"
    },
    {
     "data": {
      "application/vnd.jupyter.widget-view+json": {
       "model_id": "",
       "version_major": 2,
       "version_minor": 0
      },
      "text/plain": [
       "HBox(children=(FloatProgress(value=0.0, description='Epoch 7 — Previous Loss 0', max=847.0, style=ProgressStyl…"
      ]
     },
     "metadata": {},
     "output_type": "display_data"
    },
    {
     "data": {
      "application/vnd.jupyter.widget-view+json": {
       "model_id": "",
       "version_major": 2,
       "version_minor": 0
      },
      "text/plain": [
       "HBox(children=(FloatProgress(value=0.0, description='Epoch 8 — Previous Loss 0', max=847.0, style=ProgressStyl…"
      ]
     },
     "metadata": {},
     "output_type": "display_data"
    },
    {
     "data": {
      "application/vnd.jupyter.widget-view+json": {
       "model_id": "",
       "version_major": 2,
       "version_minor": 0
      },
      "text/plain": [
       "HBox(children=(FloatProgress(value=0.0, description='Epoch 9 — Previous Loss 0', max=847.0, style=ProgressStyl…"
      ]
     },
     "metadata": {},
     "output_type": "display_data"
    },
    {
     "data": {
      "application/vnd.jupyter.widget-view+json": {
       "model_id": "",
       "version_major": 2,
       "version_minor": 0
      },
      "text/plain": [
       "HBox(children=(FloatProgress(value=0.0, description='Epoch 10 — Previous Loss 0', max=847.0, style=ProgressSty…"
      ]
     },
     "metadata": {},
     "output_type": "display_data"
    },
    {
     "data": {
      "application/vnd.jupyter.widget-view+json": {
       "model_id": "",
       "version_major": 2,
       "version_minor": 0
      },
      "text/plain": [
       "HBox(children=(FloatProgress(value=0.0, description='Epoch 11 — Previous Loss 0', max=847.0, style=ProgressSty…"
      ]
     },
     "metadata": {},
     "output_type": "display_data"
    },
    {
     "data": {
      "application/vnd.jupyter.widget-view+json": {
       "model_id": "",
       "version_major": 2,
       "version_minor": 0
      },
      "text/plain": [
       "HBox(children=(FloatProgress(value=0.0, description='Epoch 12 — Previous Loss 0', max=847.0, style=ProgressSty…"
      ]
     },
     "metadata": {},
     "output_type": "display_data"
    },
    {
     "data": {
      "application/vnd.jupyter.widget-view+json": {
       "model_id": "",
       "version_major": 2,
       "version_minor": 0
      },
      "text/plain": [
       "HBox(children=(FloatProgress(value=0.0, description='Epoch 13 — Previous Loss 0', max=847.0, style=ProgressSty…"
      ]
     },
     "metadata": {},
     "output_type": "display_data"
    },
    {
     "data": {
      "application/vnd.jupyter.widget-view+json": {
       "model_id": "",
       "version_major": 2,
       "version_minor": 0
      },
      "text/plain": [
       "HBox(children=(FloatProgress(value=0.0, description='Epoch 14 — Previous Loss 0', max=847.0, style=ProgressSty…"
      ]
     },
     "metadata": {},
     "output_type": "display_data"
    },
    {
     "data": {
      "application/vnd.jupyter.widget-view+json": {
       "model_id": "",
       "version_major": 2,
       "version_minor": 0
      },
      "text/plain": [
       "HBox(children=(FloatProgress(value=0.0, description='Epoch 15 — Previous Loss 0', max=847.0, style=ProgressSty…"
      ]
     },
     "metadata": {},
     "output_type": "display_data"
    },
    {
     "data": {
      "application/vnd.jupyter.widget-view+json": {
       "model_id": "",
       "version_major": 2,
       "version_minor": 0
      },
      "text/plain": [
       "HBox(children=(FloatProgress(value=0.0, description='Epoch 16 — Previous Loss 0', max=847.0, style=ProgressSty…"
      ]
     },
     "metadata": {},
     "output_type": "display_data"
    },
    {
     "data": {
      "application/vnd.jupyter.widget-view+json": {
       "model_id": "",
       "version_major": 2,
       "version_minor": 0
      },
      "text/plain": [
       "HBox(children=(FloatProgress(value=0.0, description='Epoch 17 — Previous Loss 0', max=847.0, style=ProgressSty…"
      ]
     },
     "metadata": {},
     "output_type": "display_data"
    },
    {
     "data": {
      "application/vnd.jupyter.widget-view+json": {
       "model_id": "",
       "version_major": 2,
       "version_minor": 0
      },
      "text/plain": [
       "HBox(children=(FloatProgress(value=0.0, description='Epoch 18 — Previous Loss 0', max=847.0, style=ProgressSty…"
      ]
     },
     "metadata": {},
     "output_type": "display_data"
    },
    {
     "data": {
      "application/vnd.jupyter.widget-view+json": {
       "model_id": "",
       "version_major": 2,
       "version_minor": 0
      },
      "text/plain": [
       "HBox(children=(FloatProgress(value=0.0, description='Epoch 19 — Previous Loss 0', max=847.0, style=ProgressSty…"
      ]
     },
     "metadata": {},
     "output_type": "display_data"
    },
    {
     "name": "stdout",
     "output_type": "stream",
     "text": [
      "\n",
      "CPU times: user 19.7 s, sys: 748 ms, total: 20.4 s\n",
      "Wall time: 21.1 s\n"
     ]
    }
   ],
   "source": [
    "%%time\n",
    "total_loss = train(examples)"
   ]
  },
  {
   "cell_type": "markdown",
   "metadata": {},
   "source": [
    "<p class='tip banner'>Save model with today's date YYYY-MM-DD</p>"
   ]
  },
  {
   "cell_type": "code",
   "execution_count": 22,
   "metadata": {},
   "outputs": [],
   "source": [
    "# from datetime import datetime\n",
    "# np.save(f'{datetime.today():%Y%m%d}-model.csv', weights_1)"
   ]
  },
  {
   "cell_type": "markdown",
   "metadata": {},
   "source": [
    "\n",
    "##### Section 2.0 Navigation \n",
    "[Top of Section](#section-2) | [Bottom of Section](#section-3) | [2.1 From Scratch](#section-2-1) | [2.2 Generate Input](#section-2-2) | [2.3 Algorithm Architecture](#section-2-3) | [2.4 Forward and Backward](#section-2-4) | [2.5 Training Algorithm](#section-2-5)\n",
    "\n",
    "\n",
    "---\n",
    "\n",
    "# Some Examples <a id='phase-3'></a>\n",
    "\n",
    "<!--<img src='./images/wordsmith.png' style='float: right; margin-right: 5em; margin-left: 2em; height: 10em;' />\n",
    "-->\n",
    "## <span class='phase-3'>3.0</span> Wordsmithing <a id='section-3'></a>\n",
    "\n",
    "To make use of the learned weights from training, we should define some functions to do things like convert words into vectors and check for similarity between vectors."
   ]
  },
  {
   "cell_type": "code",
   "execution_count": 23,
   "metadata": {},
   "outputs": [],
   "source": [
    "def word_vector(token, model=w1):\n",
    "    ''' Return the word vector corresponding to a token '''\n",
    "    return model[token]\n",
    "\n",
    "def similarity(vector1, vector2):\n",
    "    ''' Return the cosine similarity score for two tokens input as vectors '''\n",
    "    if isinstance(vector1, str):\n",
    "        vector1 = VOCAB[vector1]\n",
    "\n",
    "    if isinstance(vector2, str):\n",
    "        vector2 = VOCAB[vector2]\n",
    "    \n",
    "    if isinstance(vector1, int):\n",
    "        vector1 = word_vector(vector1)\n",
    "        \n",
    "    if isinstance(vector2, int):\n",
    "        vector2 = word_vector(vector2)\n",
    "        \n",
    "    a = np.dot(vector1, vector2)\n",
    "    b = np.dot(vector1, vector1)\n",
    "    c = np.dot(vector2, vector2)\n",
    "    return a / (np.sqrt(b) * np.sqrt(c))"
   ]
  },
  {
   "cell_type": "markdown",
   "metadata": {},
   "source": [
    "\n",
    "##### Section 3.0 Navigation\n",
    "[Top of Section](#section-3) &bull; [Bottom of Section](#section-4) &bull; [3.0 Wordsmithing](#section-3) &bull; [3.1 Random Inspection](#section-3-1) &bull; [3.2 Attemping Algebra](#section-3-2)\n",
    "\n",
    "---\n",
    "\n",
    "### 3.1 Random Inspection\n",
    "We inspect randomly selected words for their similarity score where $similarity \\in [-1,1]$"
   ]
  },
  {
   "cell_type": "code",
   "execution_count": 24,
   "metadata": {},
   "outputs": [
    {
     "name": "stdout",
     "output_type": "stream",
     "text": [
      "sun and raise\n"
     ]
    },
    {
     "data": {
      "text/plain": [
       "0.7010428023514615"
      ]
     },
     "execution_count": 24,
     "metadata": {},
     "output_type": "execute_result"
    }
   ],
   "source": [
    "v1 = np.random.randint(0, WORDS.size)\n",
    "v2 = np.random.randint(0, WORDS.size)\n",
    "print(f'{VOCABR[v1]} and {VOCABR[v2]}')\n",
    "similarity(v1, v2)"
   ]
  },
  {
   "cell_type": "markdown",
   "metadata": {},
   "source": [
    "\n",
    "##### Section 3.0 Navigation\n",
    "[Top of Section](#section-3) &bull; [Bottom of Section](#section-4) &bull; [3.0 Wordsmithing](#section-3) &bull; [3.1 Random Inspection](#section-3-1) &bull; [3.2 Attemping Algebra](#section-3-2)\n",
    "\n",
    "---\n",
    "### 3.2 Attempt at Algebra <a id='section-3-2'></a>\n",
    "\n",
    "With our quickly trained model, we can attempt our own $king - man + woman = queen$ equation."
   ]
  },
  {
   "cell_type": "code",
   "execution_count": 31,
   "metadata": {},
   "outputs": [
    {
     "data": {
      "text/plain": [
       "0.4084977998419403"
      ]
     },
     "execution_count": 31,
     "metadata": {},
     "output_type": "execute_result"
    }
   ],
   "source": [
    "v3 = word_vector(v1) - word_vector(v2)\n",
    "similarity(v3, v1)"
   ]
  },
  {
   "cell_type": "markdown",
   "metadata": {},
   "source": [
    "Now we can check similarity of vector 3 with the intended vector."
   ]
  },
  {
   "cell_type": "code",
   "execution_count": 32,
   "metadata": {
    "collapsed": true
   },
   "outputs": [
    {
     "ename": "TypeError",
     "evalue": "unsupported operand type(s) for *: 'float' and 'NoneType'",
     "output_type": "error",
     "traceback": [
      "\u001b[0;31m---------------------------------------------------------------------------\u001b[0m",
      "\u001b[0;31mTypeError\u001b[0m                                 Traceback (most recent call last)",
      "\u001b[0;32m<ipython-input-32-d22053dfb262>\u001b[0m in \u001b[0;36m<module>\u001b[0;34m\u001b[0m\n\u001b[1;32m      1\u001b[0m \u001b[0mv4\u001b[0m \u001b[0;34m=\u001b[0m \u001b[0;32mNone\u001b[0m \u001b[0;31m# Intended vector\u001b[0m\u001b[0;34m\u001b[0m\u001b[0;34m\u001b[0m\u001b[0m\n\u001b[0;32m----> 2\u001b[0;31m \u001b[0msimilarity\u001b[0m\u001b[0;34m(\u001b[0m\u001b[0mv3\u001b[0m\u001b[0;34m,\u001b[0m \u001b[0mv4\u001b[0m\u001b[0;34m)\u001b[0m\u001b[0;34m\u001b[0m\u001b[0;34m\u001b[0m\u001b[0m\n\u001b[0m",
      "\u001b[0;32m<ipython-input-23-2d626d8b9b74>\u001b[0m in \u001b[0;36msimilarity\u001b[0;34m(vector1, vector2)\u001b[0m\n\u001b[1;32m     17\u001b[0m         \u001b[0mvector2\u001b[0m \u001b[0;34m=\u001b[0m \u001b[0mword_vector\u001b[0m\u001b[0;34m(\u001b[0m\u001b[0mvector2\u001b[0m\u001b[0;34m)\u001b[0m\u001b[0;34m\u001b[0m\u001b[0;34m\u001b[0m\u001b[0m\n\u001b[1;32m     18\u001b[0m \u001b[0;34m\u001b[0m\u001b[0m\n\u001b[0;32m---> 19\u001b[0;31m     \u001b[0ma\u001b[0m \u001b[0;34m=\u001b[0m \u001b[0mnp\u001b[0m\u001b[0;34m.\u001b[0m\u001b[0mdot\u001b[0m\u001b[0;34m(\u001b[0m\u001b[0mvector1\u001b[0m\u001b[0;34m,\u001b[0m \u001b[0mvector2\u001b[0m\u001b[0;34m)\u001b[0m\u001b[0;34m\u001b[0m\u001b[0;34m\u001b[0m\u001b[0m\n\u001b[0m\u001b[1;32m     20\u001b[0m     \u001b[0mb\u001b[0m \u001b[0;34m=\u001b[0m \u001b[0mnp\u001b[0m\u001b[0;34m.\u001b[0m\u001b[0mdot\u001b[0m\u001b[0;34m(\u001b[0m\u001b[0mvector1\u001b[0m\u001b[0;34m,\u001b[0m \u001b[0mvector1\u001b[0m\u001b[0;34m)\u001b[0m\u001b[0;34m\u001b[0m\u001b[0;34m\u001b[0m\u001b[0m\n\u001b[1;32m     21\u001b[0m     \u001b[0mc\u001b[0m \u001b[0;34m=\u001b[0m \u001b[0mnp\u001b[0m\u001b[0;34m.\u001b[0m\u001b[0mdot\u001b[0m\u001b[0;34m(\u001b[0m\u001b[0mvector2\u001b[0m\u001b[0;34m,\u001b[0m \u001b[0mvector2\u001b[0m\u001b[0;34m)\u001b[0m\u001b[0;34m\u001b[0m\u001b[0;34m\u001b[0m\u001b[0m\n",
      "\u001b[0;32m<__array_function__ internals>\u001b[0m in \u001b[0;36mdot\u001b[0;34m(*args, **kwargs)\u001b[0m\n",
      "\u001b[0;31mTypeError\u001b[0m: unsupported operand type(s) for *: 'float' and 'NoneType'"
     ]
    }
   ],
   "source": [
    "v4 = None # Intended vector\n",
    "similarity(v3, v4)"
   ]
  },
  {
   "cell_type": "markdown",
   "metadata": {},
   "source": [
    "\n",
    "##### Section 3.0 Navigation\n",
    "[Top of Section](#section-3) &bull; [Bottom of Section](#section-4) &bull; [3.0 Wordsmithing](#section-3) &bull; [3.1 Random Inspection](#section-3-1) &bull; [3.2 Attemping Algebra](#section-3-2)\n",
    "\n",
    "---\n",
    "<!--\n",
    "<img src='./images/data_viz.png' style='float: right; margin-left: 2em;' />\n",
    "-->\n",
    "\n",
    "## Data Visualization <a id='phase-4'></a>\n",
    "\n",
    "We can visualize our word vectors trained using plotting packages like `matplotlib`, `seaborn`, and others. I make use of the `altair` visualization package.\n",
    "\n",
    "\n",
    "## <span class='phase-4'>4.0</span> Declaring the Models <a id='section-4'></a>\n",
    "\n",
    "We will use Principle Component Analysis (PCA) and t-Stochastic Neighbor Embeddings (t-SNE) to convert our high-dimensional data into 2- and 3-dimensional data for visualization."
   ]
  },
  {
   "cell_type": "code",
   "execution_count": 33,
   "metadata": {},
   "outputs": [],
   "source": [
    "pca2 = PCA(n_components=2)\n",
    "pca50 = PCA(n_components=min(50, w1.shape[0]))\n",
    "tsne = TSNE(n_components=2, perplexity=100)\n",
    "scale = StandardScaler()"
   ]
  },
  {
   "cell_type": "markdown",
   "metadata": {},
   "source": [
    "### <span class='phase-4'>4.1</span> Fit and Transform Models <a id='section-4-1'></a>\n",
    "Normalize the vector weights so that $\\mu = 0$ and $\\sigma = 1$."
   ]
  },
  {
   "cell_type": "code",
   "execution_count": 34,
   "metadata": {},
   "outputs": [],
   "source": [
    "scaled_data = scale.fit_transform(w1)"
   ]
  },
  {
   "cell_type": "markdown",
   "metadata": {},
   "source": [
    "Reduce dimensionality via PCA transform. Create one set of data for visualization and another set of data to feed the t-SNE algorithm."
   ]
  },
  {
   "cell_type": "code",
   "execution_count": 35,
   "metadata": {},
   "outputs": [],
   "source": [
    "pca_data_2 = pca2.fit_transform(scaled_data)\n",
    "pca_data_50 = pca50.fit_transform(scaled_data)"
   ]
  },
  {
   "cell_type": "markdown",
   "metadata": {},
   "source": [
    "Reduce dimensionality via TSNE transform.\n",
    "\n",
    "<p class='attention banner'> Results may vary from run to run</p>"
   ]
  },
  {
   "cell_type": "code",
   "execution_count": 36,
   "metadata": {},
   "outputs": [
    {
     "name": "stdout",
     "output_type": "stream",
     "text": [
      "CPU times: user 43.4 s, sys: 1.43 s, total: 44.9 s\n",
      "Wall time: 15.1 s\n"
     ]
    }
   ],
   "source": [
    "%%time\n",
    "tsne_data = tsne.fit_transform(pca_data_50)"
   ]
  },
  {
   "cell_type": "markdown",
   "metadata": {},
   "source": [
    "### 4.2 Visualize Words in Vector Space\n",
    "\n",
    "After transforming the high-dimensional data down to 2 and 3 dimensional datasets, we can better visualize what the vectors we trained look like."
   ]
  },
  {
   "cell_type": "code",
   "execution_count": 37,
   "metadata": {},
   "outputs": [],
   "source": [
    "current = tsne_data\n",
    "columns = [f'd{i}' for i in range(current.shape[-1])]\n",
    "index = [f'{VOCABR[i]}' for i in range(current.shape[0])]\n",
    "\n",
    "viz_data = pd.DataFrame(tsne_data, columns=columns, index=index).reset_index()"
   ]
  },
  {
   "cell_type": "code",
   "execution_count": 38,
   "metadata": {},
   "outputs": [],
   "source": [
    "chart = alt.Chart(viz_data)"
   ]
  },
  {
   "cell_type": "code",
   "execution_count": 39,
   "metadata": {},
   "outputs": [
    {
     "data": {
      "application/javascript": [
       "const spec = {\"config\": {\"view\": {\"width\": 400, \"height\": 300}, \"mark\": {\"tooltip\": null}}, \"data\": {\"name\": \"data-36e04fe01814f6d22b062aa70cbd5133\"}, \"mark\": \"point\", \"encoding\": {\"tooltip\": {\"type\": \"nominal\", \"field\": \"index\"}, \"x\": {\"type\": \"quantitative\", \"field\": \"d1\", \"title\": \"Dimension\"}, \"y\": {\"type\": \"quantitative\", \"field\": \"d0\"}}, \"selection\": {\"selector002\": {\"type\": \"interval\", \"bind\": \"scales\", \"encodings\": [\"x\", \"y\"]}}, \"$schema\": \"https://vega.github.io/schema/vega-lite/v3.4.0.json\", \"datasets\": {\"data-36e04fe01814f6d22b062aa70cbd5133\": [{\"index\": \"!\", \"d0\": -0.07477640360593796, \"d1\": 0.8043606281280518}, {\"index\": \"''\", \"d0\": 0.09971791505813599, \"d1\": -1.059195637702942}, {\"index\": \"(\", \"d0\": -0.14309564232826233, \"d1\": -0.37009885907173157}, {\"index\": \")\", \"d0\": -0.7655243277549744, \"d1\": 0.4827673137187958}, {\"index\": \",\", \"d0\": -0.4510502219200134, \"d1\": -1.592133641242981}, {\"index\": \"--\", \"d0\": 0.5293025374412537, \"d1\": -0.9755926132202148}, {\"index\": \".\", \"d0\": -0.4425807595252991, \"d1\": 0.18532781302928925}, {\"index\": \";\", \"d0\": 0.9556638598442078, \"d1\": -1.2979543209075928}, {\"index\": \"?\", \"d0\": -0.05766589939594269, \"d1\": 0.09866372495889664}, {\"index\": \"``\", \"d0\": 0.43246784806251526, \"d1\": 0.8167296648025513}, {\"index\": \"a\", \"d0\": -0.2281922996044159, \"d1\": 0.5736538171768188}, {\"index\": \"about\", \"d0\": -0.3396996855735779, \"d1\": -0.4378322660923004}, {\"index\": \"above\", \"d0\": 0.5753459930419922, \"d1\": 1.0852681398391724}, {\"index\": \"actresses\", \"d0\": -1.3458898067474365, \"d1\": -1.0902070999145508}, {\"index\": \"after\", \"d0\": -0.3163408637046814, \"d1\": -0.33522531390190125}, {\"index\": \"again\", \"d0\": -0.006501112133264542, \"d1\": -0.6120478510856628}, {\"index\": \"against\", \"d0\": -0.5648390650749207, \"d1\": 0.44597306847572327}, {\"index\": \"aged\", \"d0\": 0.2187563180923462, \"d1\": -1.369806170463562}, {\"index\": \"ain't\", \"d0\": -1.4738075733184814, \"d1\": -0.2504006028175354}, {\"index\": \"airs\", \"d0\": 0.29569751024246216, \"d1\": 0.5523585081100464}, {\"index\": \"alive\", \"d0\": 1.0268189907073975, \"d1\": 0.31338953971862793}, {\"index\": \"all\", \"d0\": -1.145071268081665, \"d1\": -1.3875559568405151}, {\"index\": \"alleyways\", \"d0\": -0.7502815127372742, \"d1\": -0.01064029149711132}, {\"index\": \"aloneness\", \"d0\": 0.6207593083381653, \"d1\": -1.1580594778060913}, {\"index\": \"also\", \"d0\": 1.212478518486023, \"d1\": 0.933983325958252}, {\"index\": \"altered\", \"d0\": -1.4015918970108032, \"d1\": 0.014448979869484901}, {\"index\": \"although\", \"d0\": -0.6293484568595886, \"d1\": 0.43527188897132874}, {\"index\": \"aluminum\", \"d0\": 0.6618791818618774, \"d1\": -1.9542443752288818}, {\"index\": \"always\", \"d0\": -0.21220044791698456, \"d1\": -1.9393839836120605}, {\"index\": \"amber\", \"d0\": -0.5900745987892151, \"d1\": 0.8145096302032471}, {\"index\": \"americans\", \"d0\": -0.5414023399353027, \"d1\": 0.950208306312561}, {\"index\": \"an\", \"d0\": -0.147938534617424, \"d1\": -1.6276017427444458}, {\"index\": \"and\", \"d0\": -0.4924792945384979, \"d1\": 0.628491222858429}, {\"index\": \"angels\", \"d0\": -1.1326749324798584, \"d1\": -1.6990747451782227}, {\"index\": \"answer\", \"d0\": 1.45453941822052, \"d1\": -0.458183228969574}, {\"index\": \"anyone\", \"d0\": -0.5057778358459473, \"d1\": 1.3108912706375122}, {\"index\": \"anything\", \"d0\": -2.1716115474700928, \"d1\": 0.8268969655036926}, {\"index\": \"arch\", \"d0\": -0.8630761504173279, \"d1\": 1.9933279752731323}, {\"index\": \"are\", \"d0\": 0.18100367486476898, \"d1\": -0.14147499203681946}, {\"index\": \"arms\", \"d0\": -0.7471163868904114, \"d1\": 0.2798515558242798}, {\"index\": \"around\", \"d0\": 0.25320613384246826, \"d1\": 0.9682974219322205}, {\"index\": \"artfully\", \"d0\": 0.20948348939418793, \"d1\": 2.122312068939209}, {\"index\": \"as\", \"d0\": -0.23654355108737946, \"d1\": -0.345066636800766}, {\"index\": \"ash\", \"d0\": -1.2415186166763306, \"d1\": 0.9593759179115295}, {\"index\": \"asked\", \"d0\": 0.3839263916015625, \"d1\": 0.3249654173851013}, {\"index\": \"at\", \"d0\": 0.7327937483787537, \"d1\": 0.8081313371658325}, {\"index\": \"aunt\", \"d0\": -0.4580344259738922, \"d1\": -1.7629426717758179}, {\"index\": \"away\", \"d0\": -1.011646032333374, \"d1\": 1.9624090194702148}, {\"index\": \"back\", \"d0\": 0.2925206124782562, \"d1\": 2.364978313446045}, {\"index\": \"backyards\", \"d0\": -1.5025438070297241, \"d1\": -0.5799700617790222}, {\"index\": \"bagpipe\", \"d0\": 1.117301106452942, \"d1\": 1.1789413690567017}, {\"index\": \"bari\", \"d0\": 0.022396666929125786, \"d1\": -1.047429084777832}, {\"index\": \"bartoli's\", \"d0\": 0.4649098217487335, \"d1\": 0.2958278954029083}, {\"index\": \"bats\", \"d0\": -1.8412173986434937, \"d1\": 0.04283739998936653}, {\"index\": \"bay\", \"d0\": -0.37937113642692566, \"d1\": 0.972044050693512}, {\"index\": \"be\", \"d0\": 1.0059945583343506, \"d1\": 0.39624106884002686}, {\"index\": \"because\", \"d0\": 0.24248415231704712, \"d1\": -0.4941551089286804}, {\"index\": \"become\", \"d0\": 1.9243088960647583, \"d1\": 0.4482605755329132}, {\"index\": \"been\", \"d0\": -0.24259622395038605, \"d1\": 0.14365364611148834}, {\"index\": \"bees\", \"d0\": -0.7418520450592041, \"d1\": -0.8298686146736145}, {\"index\": \"before\", \"d0\": 0.04596303030848503, \"d1\": -1.0322555303573608}, {\"index\": \"began\", \"d0\": 1.384924292564392, \"d1\": 1.0232512950897217}, {\"index\": \"beginning\", \"d0\": -0.28994837403297424, \"d1\": 1.7618882656097412}, {\"index\": \"behind\", \"d0\": 1.296457052230835, \"d1\": -1.1918163299560547}, {\"index\": \"belied\", \"d0\": 0.6876152753829956, \"d1\": -0.6251049637794495}, {\"index\": \"bell\", \"d0\": 1.4701263904571533, \"d1\": -0.28734084963798523}, {\"index\": \"belly\", \"d0\": 2.053192138671875, \"d1\": -1.317063570022583}, {\"index\": \"belonged\", \"d0\": 0.028141606599092484, \"d1\": -0.5144804120063782}, {\"index\": \"below\", \"d0\": 0.4231261610984802, \"d1\": 0.651042640209198}, {\"index\": \"beneath\", \"d0\": -0.5472452044487, \"d1\": -2.3179047107696533}, {\"index\": \"beyond\", \"d0\": 0.7109528183937073, \"d1\": -0.8807860612869263}, {\"index\": \"bigger\", \"d0\": 0.6711564660072327, \"d1\": 0.26425206661224365}, {\"index\": \"biggest\", \"d0\": 0.38733989000320435, \"d1\": -2.488079309463501}, {\"index\": \"bill\", \"d0\": -0.3021649122238159, \"d1\": 1.6831247806549072}, {\"index\": \"black\", \"d0\": 0.6357306241989136, \"d1\": 0.25524595379829407}, {\"index\": \"blackness\", \"d0\": 1.0564254522323608, \"d1\": 0.6212282180786133}, {\"index\": \"blended\", \"d0\": -0.3553217053413391, \"d1\": -0.2635924220085144}, {\"index\": \"blind\", \"d0\": 0.708333432674408, \"d1\": 0.7655742168426514}, {\"index\": \"blocks\", \"d0\": 1.5889793634414673, \"d1\": 0.6407599449157715}, {\"index\": \"blue\", \"d0\": -0.5480232238769531, \"d1\": 0.6344811320304871}, {\"index\": \"bodies\", \"d0\": 0.055561404675245285, \"d1\": 2.239346981048584}, {\"index\": \"body\", \"d0\": -2.5266733169555664, \"d1\": -0.710041344165802}, {\"index\": \"boiling\", \"d0\": -0.5518666505813599, \"d1\": 0.441339910030365}, {\"index\": \"boredom\", \"d0\": -2.0197808742523193, \"d1\": 1.2699806690216064}, {\"index\": \"both\", \"d0\": -0.16912399232387543, \"d1\": 0.01729538105428219}, {\"index\": \"bowing\", \"d0\": -2.2176156044006348, \"d1\": -1.739753246307373}, {\"index\": \"boy\", \"d0\": 2.1933562755584717, \"d1\": -0.5250623822212219}, {\"index\": \"boy's\", \"d0\": 0.40140828490257263, \"d1\": 1.1474546194076538}, {\"index\": \"breaking\", \"d0\": -0.9284917712211609, \"d1\": 1.0287727117538452}, {\"index\": \"brief\", \"d0\": -0.2799474596977234, \"d1\": 0.38616251945495605}, {\"index\": \"bring\", \"d0\": -1.2924410104751587, \"d1\": -0.8112154006958008}, {\"index\": \"broken\", \"d0\": -1.4321236610412598, \"d1\": 0.6963372230529785}, {\"index\": \"brother\", \"d0\": 1.215636968612671, \"d1\": 0.3904072940349579}, {\"index\": \"brushing\", \"d0\": 1.1370621919631958, \"d1\": -1.3028119802474976}, {\"index\": \"but\", \"d0\": 0.9511560797691345, \"d1\": -0.5141929388046265}, {\"index\": \"buttocks\", \"d0\": -0.9899167418479919, \"d1\": 0.24651609361171722}, {\"index\": \"buzzing\", \"d0\": 1.6001300811767578, \"d1\": -0.3447299897670746}, {\"index\": \"by\", \"d0\": 0.31008073687553406, \"d1\": -0.7340037822723389}, {\"index\": \"called\", \"d0\": 0.883671760559082, \"d1\": -1.6932587623596191}, {\"index\": \"calling\", \"d0\": -2.057685136795044, \"d1\": -1.539451003074646}, {\"index\": \"calloused\", \"d0\": -0.6604475378990173, \"d1\": -0.4409845173358917}, {\"index\": \"came\", \"d0\": 0.5478867292404175, \"d1\": -2.293358564376831}, {\"index\": \"cane\", \"d0\": -0.8892161846160889, \"d1\": 0.3044629395008087}, {\"index\": \"cards\", \"d0\": 1.622024416923523, \"d1\": 1.3214632272720337}, {\"index\": \"care\", \"d0\": 1.5689579248428345, \"d1\": 2.167299509048462}, {\"index\": \"cared\", \"d0\": 2.149979591369629, \"d1\": 0.1716245859861374}, {\"index\": \"caressed\", \"d0\": -0.9415292739868164, \"d1\": 1.7715598344802856}, {\"index\": \"carry\", \"d0\": 0.17590446770191193, \"d1\": 1.4304457902908325}, {\"index\": \"case\", \"d0\": 0.10071521252393723, \"d1\": 0.09171061217784882}, {\"index\": \"cemetery\", \"d0\": 1.2012934684753418, \"d1\": -0.37223243713378906}, {\"index\": \"center\", \"d0\": -1.9660364389419556, \"d1\": -0.0071054683066904545}, {\"index\": \"cheesecloth\", \"d0\": 1.5580638647079468, \"d1\": -0.5643953084945679}, {\"index\": \"chest\", \"d0\": -1.2284618616104126, \"d1\": -0.49172210693359375}, {\"index\": \"chieti\", \"d0\": 1.6792919635772705, \"d1\": 0.8871254920959473}, {\"index\": \"childlike\", \"d0\": 0.06347952038049698, \"d1\": 2.020338535308838}, {\"index\": \"children\", \"d0\": 1.56100332736969, \"d1\": 1.7393070459365845}, {\"index\": \"chin\", \"d0\": 0.051415760070085526, \"d1\": -0.7680220007896423}, {\"index\": \"chins\", \"d0\": 0.10537171363830566, \"d1\": 3.199692487716675}, {\"index\": \"christ\", \"d0\": -1.210510015487671, \"d1\": -0.14199642837047577}, {\"index\": \"church\", \"d0\": -0.019203374162316322, \"d1\": -2.3424758911132812}, {\"index\": \"city\", \"d0\": 2.4148945808410645, \"d1\": -0.06790439039468765}, {\"index\": \"city's\", \"d0\": 0.7704111337661743, \"d1\": 0.1819300502538681}, {\"index\": \"clapping\", \"d0\": -1.4994871616363525, \"d1\": 0.1895679235458374}, {\"index\": \"claret\", \"d0\": -0.5443598628044128, \"d1\": 1.3240313529968262}, {\"index\": \"climbed\", \"d0\": -0.9251729249954224, \"d1\": 1.8472005128860474}, {\"index\": \"climbing\", \"d0\": 0.9743636250495911, \"d1\": 0.07787556946277618}, {\"index\": \"close\", \"d0\": -0.6360204815864563, \"d1\": -1.7821214199066162}, {\"index\": \"closer\", \"d0\": -1.1869741678237915, \"d1\": -2.388542413711548}, {\"index\": \"cloud\", \"d0\": -0.8277186155319214, \"d1\": 0.17256130278110504}, {\"index\": \"clouded\", \"d0\": 0.09272049367427826, \"d1\": -0.08265175670385361}, {\"index\": \"clutched\", \"d0\": 1.363530158996582, \"d1\": -0.30979669094085693}, {\"index\": \"coffee\", \"d0\": -2.2377119064331055, \"d1\": -0.8949062824249268}, {\"index\": \"color\", \"d0\": -1.9205173254013062, \"d1\": -0.8182031512260437}, {\"index\": \"come\", \"d0\": 2.081571340560913, \"d1\": -1.6677346229553223}, {\"index\": \"commanded\", \"d0\": 0.7200396656990051, \"d1\": 0.5866567492485046}, {\"index\": \"companion\", \"d0\": 0.9287148118019104, \"d1\": -0.976162314414978}, {\"index\": \"concetta\", \"d0\": -1.8937569856643677, \"d1\": -1.2814205884933472}, {\"index\": \"concetta's\", \"d0\": -0.3040584623813629, \"d1\": -0.31906306743621826}, {\"index\": \"concrete\", \"d0\": 1.397788166999817, \"d1\": -1.3410029411315918}, {\"index\": \"condemned\", \"d0\": 0.10754136741161346, \"d1\": 0.35479697585105896}, {\"index\": \"confession\", \"d0\": 0.2516637444496155, \"d1\": -0.6796587109565735}, {\"index\": \"consumed\", \"d0\": 0.05115802213549614, \"d1\": 1.1214443445205688}, {\"index\": \"contemptuous\", \"d0\": -0.20145784318447113, \"d1\": -0.5131670832633972}, {\"index\": \"contours\", \"d0\": 0.0873328149318695, \"d1\": -0.10519148409366608}, {\"index\": \"coolness\", \"d0\": -0.07470429688692093, \"d1\": 0.6056162714958191}, {\"index\": \"core\", \"d0\": 0.20017977058887482, \"d1\": -1.2766159772872925}, {\"index\": \"corner\", \"d0\": -0.2697305679321289, \"d1\": -1.2200558185577393}, {\"index\": \"could\", \"d0\": 1.5606052875518799, \"d1\": -1.7539764642715454}, {\"index\": \"couldn't\", \"d0\": 1.810569405555725, \"d1\": -0.034309759736061096}, {\"index\": \"country\", \"d0\": 1.2957006692886353, \"d1\": 0.14803414046764374}, {\"index\": \"course\", \"d0\": 1.4819062948226929, \"d1\": 0.16581887006759644}, {\"index\": \"courtyards\", \"d0\": 1.1613045930862427, \"d1\": -1.5192488431930542}, {\"index\": \"covering\", \"d0\": -1.2310798168182373, \"d1\": -0.950642466545105}, {\"index\": \"creaking\", \"d0\": -1.3820958137512207, \"d1\": -1.0774180889129639}, {\"index\": \"creek\", \"d0\": 0.8775126934051514, \"d1\": 0.8947038054466248}, {\"index\": \"dante\", \"d0\": -1.1361719369888306, \"d1\": -1.9902573823928833}, {\"index\": \"day\", \"d0\": 0.33724740147590637, \"d1\": 0.3227943778038025}, {\"index\": \"daydreaming\", \"d0\": -0.49955305457115173, \"d1\": -0.24934180080890656}, {\"index\": \"dead\", \"d0\": -0.16739127039909363, \"d1\": 0.6329549551010132}, {\"index\": \"delighting\", \"d0\": -0.4784870147705078, \"d1\": -0.5015453100204468}, {\"index\": \"determined\", \"d0\": -0.24002863466739655, \"d1\": -0.9180769920349121}, {\"index\": \"devil\", \"d0\": -2.2747960090637207, \"d1\": 0.5384647250175476}, {\"index\": \"did\", \"d0\": 0.44227370619773865, \"d1\": -1.0233395099639893}, {\"index\": \"didn't\", \"d0\": -0.7290807366371155, \"d1\": 0.2708156108856201}, {\"index\": \"direction\", \"d0\": -0.3265879452228546, \"d1\": 1.445483684539795}, {\"index\": \"directly\", \"d0\": 0.01837652549147606, \"d1\": 1.3334044218063354}, {\"index\": \"disfigured\", \"d0\": -1.4111578464508057, \"d1\": 0.9304813146591187}, {\"index\": \"disliked\", \"d0\": -0.35513412952423096, \"d1\": -0.407485693693161}, {\"index\": \"distance\", \"d0\": 0.00135156256146729, \"d1\": -2.1257550716400146}, {\"index\": \"dived\", \"d0\": 0.3803804814815521, \"d1\": 1.8089656829833984}, {\"index\": \"divided\", \"d0\": -0.9669365882873535, \"d1\": 1.0300902128219604}, {\"index\": \"do\", \"d0\": 0.7227475643157959, \"d1\": 0.3639979660511017}, {\"index\": \"doesn't\", \"d0\": -1.1331148147583008, \"d1\": -0.2379036843776703}, {\"index\": \"dog\", \"d0\": 1.014969825744629, \"d1\": -0.05321785435080528}, {\"index\": \"dog's\", \"d0\": 0.5836225748062134, \"d1\": -1.0419450998306274}, {\"index\": \"dogs\", \"d0\": -0.07816676795482635, \"d1\": -0.7550137639045715}, {\"index\": \"dollar\", \"d0\": -0.35650449991226196, \"d1\": 2.4289000034332275}, {\"index\": \"door\", \"d0\": 1.7108954191207886, \"d1\": -1.6565402746200562}, {\"index\": \"doors\", \"d0\": -0.784814178943634, \"d1\": 0.7306492924690247}, {\"index\": \"down\", \"d0\": 0.795199990272522, \"d1\": -1.5022156238555908}, {\"index\": \"downcast\", \"d0\": -0.15379247069358826, \"d1\": 1.8140196800231934}, {\"index\": \"dream\", \"d0\": -0.22276261448860168, \"d1\": -0.9966905117034912}, {\"index\": \"dreaming\", \"d0\": -2.1392273902893066, \"d1\": -0.5277900099754333}, {\"index\": \"dreams\", \"d0\": 1.5951578617095947, \"d1\": -1.108606219291687}, {\"index\": \"dregs\", \"d0\": -0.4660947918891907, \"d1\": -1.8859052658081055}, {\"index\": \"drexel\", \"d0\": -1.3932241201400757, \"d1\": 1.4209753274917603}, {\"index\": \"drying\", \"d0\": 0.26667964458465576, \"d1\": 0.6555346250534058}, {\"index\": \"due\", \"d0\": -0.9938053488731384, \"d1\": -0.6297674775123596}, {\"index\": \"each\", \"d0\": 0.013845570385456085, \"d1\": -0.039724647998809814}, {\"index\": \"early\", \"d0\": -0.45942890644073486, \"d1\": 0.3317093849182129}, {\"index\": \"earthy\", \"d0\": -0.2946305274963379, \"d1\": 0.5496524572372437}, {\"index\": \"ecstatic\", \"d0\": 1.157729983329773, \"d1\": -0.3093257546424866}, {\"index\": \"edged\", \"d0\": -0.028867242857813835, \"d1\": 1.7718712091445923}, {\"index\": \"eh\", \"d0\": 0.38961777091026306, \"d1\": 0.6498298048973083}, {\"index\": \"eight-thirty\", \"d0\": -0.4132014214992523, \"d1\": -0.948328971862793}, {\"index\": \"either\", \"d0\": 1.5594247579574585, \"d1\": 0.23016643524169922}, {\"index\": \"elders\", \"d0\": 0.19520483911037445, \"d1\": -1.945221185684204}, {\"index\": \"elevated\", \"d0\": 0.7954939603805542, \"d1\": -1.027564287185669}, {\"index\": \"else\", \"d0\": -0.6567717790603638, \"d1\": 0.34775465726852417}, {\"index\": \"encrusted\", \"d0\": 1.1131492853164673, \"d1\": -1.0138951539993286}, {\"index\": \"ended\", \"d0\": -0.33056482672691345, \"d1\": -0.5423445105552673}, {\"index\": \"enough\", \"d0\": -0.2253117561340332, \"d1\": -2.233107328414917}, {\"index\": \"evasive\", \"d0\": -0.8313776850700378, \"d1\": 0.23748306930065155}, {\"index\": \"even\", \"d0\": 0.9246466159820557, \"d1\": -0.1577540785074234}, {\"index\": \"evening\", \"d0\": -1.3744962215423584, \"d1\": -0.14467203617095947}, {\"index\": \"evenings\", \"d0\": -0.8475255966186523, \"d1\": 0.6192841529846191}, {\"index\": \"everywhere\", \"d0\": -1.6072806119918823, \"d1\": 0.32718703150749207}, {\"index\": \"examining\", \"d0\": -1.0242342948913574, \"d1\": -0.16236358880996704}, {\"index\": \"except\", \"d0\": -1.4676307439804077, \"d1\": 1.698602318763733}, {\"index\": \"excitedly\", \"d0\": 0.4077199101448059, \"d1\": -2.1094226837158203}, {\"index\": \"exhausted\", \"d0\": 0.21874088048934937, \"d1\": 0.8663802146911621}, {\"index\": \"expectantly\", \"d0\": -2.1102938652038574, \"d1\": 0.733392059803009}, {\"index\": \"expected\", \"d0\": 1.0818150043487549, \"d1\": 0.2623826861381531}, {\"index\": \"expression\", \"d0\": 0.858403205871582, \"d1\": -0.5107096433639526}, {\"index\": \"eye\", \"d0\": -1.4123234748840332, \"d1\": 1.9179728031158447}, {\"index\": \"eyes\", \"d0\": 0.7592049837112427, \"d1\": -0.0469246581196785}, {\"index\": \"facade\", \"d0\": -0.97580486536026, \"d1\": -0.6802058219909668}, {\"index\": \"face\", \"d0\": -1.7261950969696045, \"d1\": -0.5211324095726013}, {\"index\": \"fancy\", \"d0\": -0.738563597202301, \"d1\": 0.8626871705055237}, {\"index\": \"farewell\", \"d0\": -1.1137253046035767, \"d1\": 0.2288195639848709}, {\"index\": \"fear\", \"d0\": -0.2558497190475464, \"d1\": 1.1384800672531128}, {\"index\": \"feasting\", \"d0\": -0.9084646105766296, \"d1\": 0.8440548777580261}, {\"index\": \"features\", \"d0\": 0.41411954164505005, \"d1\": -1.3355395793914795}, {\"index\": \"fed\", \"d0\": 0.3536538779735565, \"d1\": -1.6658351421356201}, {\"index\": \"female\", \"d0\": -0.5947346687316895, \"d1\": 0.9541606903076172}, {\"index\": \"fence\", \"d0\": 1.1215134859085083, \"d1\": -1.200853943824768}, {\"index\": \"fences\", \"d0\": -1.279624581336975, \"d1\": 1.0119739770889282}, {\"index\": \"fifteen\", \"d0\": -0.4282427728176117, \"d1\": 0.7891319394111633}, {\"index\": \"fig\", \"d0\": 1.265305995941162, \"d1\": -1.8323378562927246}, {\"index\": \"figure\", \"d0\": -0.5603429675102234, \"d1\": -0.4555959701538086}, {\"index\": \"filippo\", \"d0\": 0.2534038722515106, \"d1\": -0.539588987827301}, {\"index\": \"finger\", \"d0\": 1.5375179052352905, \"d1\": -1.7626147270202637}, {\"index\": \"fingers\", \"d0\": 2.5558414459228516, \"d1\": 0.01069825328886509}, {\"index\": \"first\", \"d0\": 0.5093738436698914, \"d1\": -0.7569242715835571}, {\"index\": \"fist\", \"d0\": -0.8685400485992432, \"d1\": -1.1455594301223755}, {\"index\": \"fleas\", \"d0\": -1.148540735244751, \"d1\": -0.22211481630802155}, {\"index\": \"flesh\", \"d0\": -1.98671293258667, \"d1\": 1.4911900758743286}, {\"index\": \"fleshy\", \"d0\": 0.8288698792457581, \"d1\": 0.2703574597835541}, {\"index\": \"flown\", \"d0\": 1.9893763065338135, \"d1\": -0.36253419518470764}, {\"index\": \"fluttering\", \"d0\": -1.2493699789047241, \"d1\": -0.9638014435768127}, {\"index\": \"fly-dotted\", \"d0\": -0.7528663873672485, \"d1\": -0.6037894487380981}, {\"index\": \"fold\", \"d0\": 0.3680497407913208, \"d1\": 0.18330985307693481}, {\"index\": \"foot\", \"d0\": 0.7374681830406189, \"d1\": 1.3400063514709473}, {\"index\": \"for\", \"d0\": 0.7496386170387268, \"d1\": -0.1528153419494629}, {\"index\": \"forked\", \"d0\": 2.0083351135253906, \"d1\": 0.3890538513660431}, {\"index\": \"form\", \"d0\": 1.3052655458450317, \"d1\": -1.008156180381775}, {\"index\": \"fortresses\", \"d0\": 1.3406953811645508, \"d1\": 1.608769416809082}, {\"index\": \"fragile\", \"d0\": -1.4009485244750977, \"d1\": -2.037445068359375}, {\"index\": \"framed\", \"d0\": 0.6680107712745667, \"d1\": -1.5167807340621948}, {\"index\": \"from\", \"d0\": 0.5177619457244873, \"d1\": 0.5644097328186035}, {\"index\": \"front\", \"d0\": -0.7969362735748291, \"d1\": 1.2864419221878052}, {\"index\": \"fully\", \"d0\": 0.44232943654060364, \"d1\": -1.0190341472625732}, {\"index\": \"fur-piece\", \"d0\": -1.179265022277832, \"d1\": -1.5821969509124756}, {\"index\": \"gave\", \"d0\": 0.9547666311264038, \"d1\": -1.0124902725219727}, {\"index\": \"get\", \"d0\": -1.4310981035232544, \"d1\": -0.8999981880187988}, {\"index\": \"gilded\", \"d0\": 0.4285118579864502, \"d1\": -0.6159027814865112}, {\"index\": \"ginkgo\", \"d0\": 2.554663896560669, \"d1\": -0.33390969038009644}, {\"index\": \"girl\", \"d0\": -0.5580927133560181, \"d1\": -1.0353010892868042}, {\"index\": \"git\", \"d0\": -1.2559725046157837, \"d1\": -0.29609233140945435}, {\"index\": \"give\", \"d0\": -0.49881550669670105, \"d1\": 1.3865251541137695}, {\"index\": \"given\", \"d0\": -0.8848210573196411, \"d1\": 2.1629433631896973}, {\"index\": \"glance\", \"d0\": 0.7082104682922363, \"d1\": 0.1610439568758011}, {\"index\": \"glass\", \"d0\": -0.39376866817474365, \"d1\": 0.458188533782959}, {\"index\": \"gloved\", \"d0\": -0.9009013175964355, \"d1\": -0.7813718914985657}, {\"index\": \"gloves\", \"d0\": 1.317944049835205, \"d1\": -0.1581905335187912}, {\"index\": \"glowed\", \"d0\": 0.34808412194252014, \"d1\": 0.7831209897994995}, {\"index\": \"glued\", \"d0\": 0.6512834429740906, \"d1\": 0.18793465197086334}, {\"index\": \"goat\", \"d0\": -1.3835093975067139, \"d1\": -0.08436104655265808}, {\"index\": \"goat's\", \"d0\": -0.5319740176200867, \"d1\": 0.3758949339389801}, {\"index\": \"good\", \"d0\": 2.6076133251190186, \"d1\": -0.3929964303970337}, {\"index\": \"gossip\", \"d0\": -0.3136887848377228, \"d1\": 1.1209758520126343}, {\"index\": \"gradually\", \"d0\": 0.6540635824203491, \"d1\": -1.3053195476531982}, {\"index\": \"grape\", \"d0\": -0.0536305233836174, \"d1\": 0.8983970284461975}, {\"index\": \"grasp\", \"d0\": 1.3380228281021118, \"d1\": -0.11931678652763367}, {\"index\": \"grating\", \"d0\": -0.5274969339370728, \"d1\": -0.9248262047767639}, {\"index\": \"ground\", \"d0\": -1.458768606185913, \"d1\": 0.09168260544538498}, {\"index\": \"guessed\", \"d0\": 1.58078134059906, \"d1\": 1.563694715499878}, {\"index\": \"had\", \"d0\": 1.2142552137374878, \"d1\": -0.4868745803833008}, {\"index\": \"hair\", \"d0\": 0.9258903861045837, \"d1\": -2.196950912475586}, {\"index\": \"hairs\", \"d0\": 0.28344452381134033, \"d1\": 1.1226661205291748}, {\"index\": \"half-hour\", \"d0\": -0.06854263693094254, \"d1\": 0.4618776738643646}, {\"index\": \"hand\", \"d0\": -2.645123243331909, \"d1\": 0.12479571253061295}, {\"index\": \"happened\", \"d0\": 0.8324505686759949, \"d1\": -0.095131054520607}, {\"index\": \"harshness\", \"d0\": 0.6268413662910461, \"d1\": -0.3563731908798218}, {\"index\": \"hatred\", \"d0\": 1.1201609373092651, \"d1\": -2.1379387378692627}, {\"index\": \"haunches\", \"d0\": -1.5055797100067139, \"d1\": 0.2597605884075165}, {\"index\": \"have\", \"d0\": 0.3245547413825989, \"d1\": 0.16479934751987457}, {\"index\": \"having\", \"d0\": 1.5968953371047974, \"d1\": -0.7340168356895447}, {\"index\": \"he\", \"d0\": 0.9243270754814148, \"d1\": 1.1835384368896484}, {\"index\": \"head\", \"d0\": 0.7355724573135376, \"d1\": 1.8656911849975586}, {\"index\": \"hear\", \"d0\": -0.9245889782905579, \"d1\": -1.2247519493103027}, {\"index\": \"heard\", \"d0\": -0.3535538911819458, \"d1\": 1.6856861114501953}, {\"index\": \"hearing\", \"d0\": 0.11696304380893707, \"d1\": 1.6321392059326172}, {\"index\": \"heat\", \"d0\": -1.3555165529251099, \"d1\": -0.9754575490951538}, {\"index\": \"heavy\", \"d0\": -1.031258463859558, \"d1\": -0.9733958840370178}, {\"index\": \"hedge\", \"d0\": -0.7450739741325378, \"d1\": -2.2564258575439453}, {\"index\": \"henh\", \"d0\": -0.48176461458206177, \"d1\": 0.2858354151248932}, {\"index\": \"her\", \"d0\": -0.7185331583023071, \"d1\": 0.464620977640152}, {\"index\": \"here\", \"d0\": 0.06827814131975174, \"d1\": 0.312309205532074}, {\"index\": \"heritage\", \"d0\": 1.1670821905136108, \"d1\": 0.16901230812072754}, {\"index\": \"herself\", \"d0\": -0.3645491302013397, \"d1\": -0.5116079449653625}, {\"index\": \"hey\", \"d0\": 0.692570149898529, \"d1\": 0.059649523347616196}, {\"index\": \"high\", \"d0\": -0.6180703043937683, \"d1\": 1.816664695739746}, {\"index\": \"higher\", \"d0\": 0.605355441570282, \"d1\": -0.702458381652832}, {\"index\": \"hill\", \"d0\": 2.3480148315429688, \"d1\": 1.0578099489212036}, {\"index\": \"him\", \"d0\": -0.26817232370376587, \"d1\": -0.10907945781946182}, {\"index\": \"himself\", \"d0\": -1.8638832569122314, \"d1\": -0.4801122546195984}, {\"index\": \"hinges\", \"d0\": -0.5248345136642456, \"d1\": -1.250028371810913}, {\"index\": \"his\", \"d0\": -0.3581220805644989, \"d1\": 0.1610661745071411}, {\"index\": \"hold\", \"d0\": -0.4556509852409363, \"d1\": -0.13394245505332947}, {\"index\": \"holding\", \"d0\": -1.1762800216674805, \"d1\": 0.290317177772522}, {\"index\": \"hopped\", \"d0\": -0.14320747554302216, \"d1\": 0.9737304449081421}, {\"index\": \"house\", \"d0\": -0.9120779037475586, \"d1\": -0.39617952704429626}, {\"index\": \"housed\", \"d0\": 2.0891778469085693, \"d1\": -0.3881760835647583}, {\"index\": \"houses\", \"d0\": -2.3317959308624268, \"d1\": -1.0900697708129883}, {\"index\": \"hundred\", \"d0\": 1.710207462310791, \"d1\": 1.1254024505615234}, {\"index\": \"i\", \"d0\": -0.47585222125053406, \"d1\": 1.2878445386886597}, {\"index\": \"idiot\", \"d0\": -1.6124937534332275, \"d1\": -0.005958858877420425}, {\"index\": \"if\", \"d0\": 0.292143315076828, \"d1\": -0.39411094784736633}, {\"index\": \"ignored\", \"d0\": -0.078774593770504, \"d1\": -0.46474412083625793}, {\"index\": \"impetuous\", \"d0\": 0.8513128757476807, \"d1\": 1.1542792320251465}, {\"index\": \"in\", \"d0\": -0.4347708821296692, \"d1\": -0.6905642747879028}, {\"index\": \"inside\", \"d0\": -0.7757019996643066, \"d1\": -1.4396733045578003}, {\"index\": \"interrupted\", \"d0\": -0.09125065803527832, \"d1\": 0.8371240496635437}, {\"index\": \"intervals\", \"d0\": 1.1596859693527222, \"d1\": -1.672450065612793}, {\"index\": \"intimacy\", \"d0\": 0.6761316061019897, \"d1\": 2.3322761058807373}, {\"index\": \"into\", \"d0\": 0.0783395767211914, \"d1\": -0.6041761040687561}, {\"index\": \"iron\", \"d0\": -1.3498611450195312, \"d1\": -0.7921212315559387}, {\"index\": \"it\", \"d0\": 0.8437119126319885, \"d1\": -0.13328245282173157}, {\"index\": \"it's\", \"d0\": 0.7159198522567749, \"d1\": -0.5244992971420288}, {\"index\": \"italy\", \"d0\": -0.17073719203472137, \"d1\": 1.0603067874908447}, {\"index\": \"its\", \"d0\": -0.4992099702358246, \"d1\": 0.7123064994812012}, {\"index\": \"jowls\", \"d0\": -1.1599171161651611, \"d1\": -0.21112056076526642}, {\"index\": \"june\", \"d0\": 0.5332544445991516, \"d1\": -0.6218726634979248}, {\"index\": \"just\", \"d0\": 0.8089030385017395, \"d1\": 1.0855292081832886}, {\"index\": \"kept\", \"d0\": -0.37334442138671875, \"d1\": -1.038275122642517}, {\"index\": \"kiss\", \"d0\": -2.338576555252075, \"d1\": 0.5619474053382874}, {\"index\": \"knew\", \"d0\": 1.4730949401855469, \"d1\": -1.5491763353347778}, {\"index\": \"know\", \"d0\": -2.213130474090576, \"d1\": -0.022697055712342262}, {\"index\": \"knowing\", \"d0\": 1.2317938804626465, \"d1\": 0.14833134412765503}, {\"index\": \"known\", \"d0\": 1.22555673122406, \"d1\": 0.8698246479034424}, {\"index\": \"laced\", \"d0\": -0.9954130053520203, \"d1\": 1.6200995445251465}, {\"index\": \"lapping\", \"d0\": 0.8979416489601135, \"d1\": 0.7807015776634216}, {\"index\": \"laura\", \"d0\": 1.620429277420044, \"d1\": 0.7326381802558899}, {\"index\": \"lawn\", \"d0\": 1.2099496126174927, \"d1\": -1.1809405088424683}, {\"index\": \"lawns\", \"d0\": 0.9588340520858765, \"d1\": -1.0541325807571411}, {\"index\": \"leaned\", \"d0\": -0.058284174650907516, \"d1\": 1.1635631322860718}, {\"index\": \"left\", \"d0\": 0.7781004905700684, \"d1\": 0.00927030760794878}, {\"index\": \"leg\", \"d0\": 0.16815230250358582, \"d1\": -1.145412564277649}, {\"index\": \"less\", \"d0\": 1.1955993175506592, \"d1\": 0.6978073120117188}, {\"index\": \"let\", \"d0\": 0.9495739936828613, \"d1\": -2.344003677368164}, {\"index\": \"licked\", \"d0\": 0.1037224680185318, \"d1\": -1.2632970809936523}, {\"index\": \"life\", \"d0\": 1.1972692012786865, \"d1\": 1.4244221448898315}, {\"index\": \"light\", \"d0\": -0.9004641771316528, \"d1\": 0.9968668222427368}, {\"index\": \"lights\", \"d0\": -0.7763203978538513, \"d1\": 0.746313750743866}, {\"index\": \"like\", \"d0\": 1.7716975212097168, \"d1\": -0.9081197381019592}, {\"index\": \"liked\", \"d0\": 0.07227400690317154, \"d1\": -0.1825876384973526}, {\"index\": \"lined\", \"d0\": -0.7423611283302307, \"d1\": 0.9181221723556519}, {\"index\": \"lines\", \"d0\": 1.0462778806686401, \"d1\": -0.28124570846557617}, {\"index\": \"lithe\", \"d0\": -0.5474889874458313, \"d1\": 1.1118755340576172}, {\"index\": \"lived\", \"d0\": 0.8296716809272766, \"d1\": 1.190949559211731}, {\"index\": \"local\", \"d0\": 0.10086136311292648, \"d1\": -0.6860631108283997}, {\"index\": \"long\", \"d0\": 0.5489425659179688, \"d1\": 0.0077760228887200356}, {\"index\": \"looked\", \"d0\": -0.6424763202667236, \"d1\": -0.23178283870220184}, {\"index\": \"looking\", \"d0\": -1.8109897375106812, \"d1\": 1.8546394109725952}, {\"index\": \"loosely\", \"d0\": 1.7740274667739868, \"d1\": -0.5757355093955994}, {\"index\": \"lost\", \"d0\": -0.37649834156036377, \"d1\": 1.7401747703552246}, {\"index\": \"love\", \"d0\": 0.01126350648701191, \"d1\": -0.22948160767555237}, {\"index\": \"low\", \"d0\": 0.16603492200374603, \"d1\": 1.217781901359558}, {\"index\": \"lyric\", \"d0\": 0.7991863489151001, \"d1\": -2.015127658843994}, {\"index\": \"made\", \"d0\": 0.4685963988304138, \"d1\": -1.3509085178375244}, {\"index\": \"making\", \"d0\": 0.7416449189186096, \"d1\": -0.07258366793394089}, {\"index\": \"man\", \"d0\": 0.14199493825435638, \"d1\": -0.8475115299224854}, {\"index\": \"man's\", \"d0\": -0.5038161277770996, \"d1\": -0.1851888746023178}, {\"index\": \"manure-scented\", \"d0\": -0.7693277597427368, \"d1\": 0.4695191979408264}, {\"index\": \"marbleized\", \"d0\": -0.7226864099502563, \"d1\": -0.2646813988685608}, {\"index\": \"mass\", \"d0\": 0.0887969508767128, \"d1\": -0.3623274266719818}, {\"index\": \"matter\", \"d0\": -1.7774312496185303, \"d1\": -0.5582699179649353}, {\"index\": \"mauve-colored\", \"d0\": -0.6615230441093445, \"d1\": -0.061750274151563644}, {\"index\": \"meantime\", \"d0\": -1.3484869003295898, \"d1\": -0.5485522747039795}, {\"index\": \"memory\", \"d0\": 1.3576205968856812, \"d1\": 1.456687092781067}, {\"index\": \"men\", \"d0\": -1.0966004133224487, \"d1\": 1.4550007581710815}, {\"index\": \"might\", \"d0\": -0.9218624234199524, \"d1\": -0.06491328030824661}, {\"index\": \"milk\", \"d0\": -0.7087163925170898, \"d1\": 1.2849489450454712}, {\"index\": \"miniature\", \"d0\": 0.7430965900421143, \"d1\": 0.09091462194919586}, {\"index\": \"missed\", \"d0\": -2.017997980117798, \"d1\": -1.221706509590149}, {\"index\": \"monotonous\", \"d0\": -2.0225794315338135, \"d1\": 1.1400974988937378}, {\"index\": \"month\", \"d0\": -0.7444183230400085, \"d1\": -1.904543161392212}, {\"index\": \"months\", \"d0\": -0.4908672273159027, \"d1\": -1.0907008647918701}, {\"index\": \"mood\", \"d0\": 0.7416757345199585, \"d1\": 1.9775488376617432}, {\"index\": \"morning\", \"d0\": 0.31846001744270325, \"d1\": 0.7562873959541321}, {\"index\": \"mother\", \"d0\": -0.8806797862052917, \"d1\": 0.1993831843137741}, {\"index\": \"mouth\", \"d0\": -0.4793204069137573, \"d1\": -0.31835901737213135}, {\"index\": \"mouths\", \"d0\": 0.4732736349105835, \"d1\": -0.2843930125236511}, {\"index\": \"moving\", \"d0\": 0.4307233989238739, \"d1\": -0.20697301626205444}, {\"index\": \"mysterious\", \"d0\": -0.9750099778175354, \"d1\": -0.6139728426933289}, {\"index\": \"name\", \"d0\": 0.428119421005249, \"d1\": -1.0644668340682983}, {\"index\": \"named\", \"d0\": 1.6801977157592773, \"d1\": 0.31278717517852783}, {\"index\": \"near\", \"d0\": 0.26296308636665344, \"d1\": -0.6241190433502197}, {\"index\": \"neatest\", \"d0\": -1.5899220705032349, \"d1\": -0.3961554169654846}, {\"index\": \"neighborhood\", \"d0\": -0.5632132887840271, \"d1\": -1.329288363456726}, {\"index\": \"neither\", \"d0\": 0.4882030487060547, \"d1\": 1.3573368787765503}, {\"index\": \"never\", \"d0\": -2.2980897426605225, \"d1\": 1.3855456113815308}, {\"index\": \"new\", \"d0\": -0.16447512805461884, \"d1\": 0.4658183455467224}, {\"index\": \"next\", \"d0\": -1.2725576162338257, \"d1\": -0.06512094289064407}, {\"index\": \"night\", \"d0\": 0.4443323314189911, \"d1\": 0.35493004322052}, {\"index\": \"niobe\", \"d0\": -1.8186635971069336, \"d1\": 0.701970100402832}, {\"index\": \"no\", \"d0\": -0.30352574586868286, \"d1\": 0.41035571694374084}, {\"index\": \"nobody\", \"d0\": 2.0443193912506104, \"d1\": 0.609475314617157}, {\"index\": \"noon\", \"d0\": 0.3639864921569824, \"d1\": 0.19728706777095795}, {\"index\": \"nor\", \"d0\": -0.4038868248462677, \"d1\": -0.5543590188026428}, {\"index\": \"not\", \"d0\": -0.5836325883865356, \"d1\": -1.0162652730941772}, {\"index\": \"nothing\", \"d0\": 1.337994933128357, \"d1\": -1.1546382904052734}, {\"index\": \"noticed\", \"d0\": -0.5025808215141296, \"d1\": 1.1271532773971558}, {\"index\": \"now\", \"d0\": 1.4604674577713013, \"d1\": 0.086412213742733}, {\"index\": \"obeyed\", \"d0\": -1.2277398109436035, \"d1\": 0.5056782960891724}, {\"index\": \"ocher\", \"d0\": -1.5861504077911377, \"d1\": -0.7173022627830505}, {\"index\": \"of\", \"d0\": -0.4539465606212616, \"d1\": 1.0053043365478516}, {\"index\": \"old\", \"d0\": 0.326131671667099, \"d1\": -0.8372921347618103}, {\"index\": \"older\", \"d0\": 0.1961250752210617, \"d1\": 0.0956185981631279}, {\"index\": \"on\", \"d0\": 0.3308335244655609, \"d1\": 0.37885698676109314}, {\"index\": \"once\", \"d0\": -0.8111655116081238, \"d1\": 0.3246397376060486}, {\"index\": \"one\", \"d0\": -0.7386177182197571, \"d1\": -0.9706993699073792}, {\"index\": \"ones\", \"d0\": -1.8580697774887085, \"d1\": -1.2143702507019043}, {\"index\": \"only\", \"d0\": 0.6767750978469849, \"d1\": 1.003771185874939}, {\"index\": \"onto\", \"d0\": 0.5714243054389954, \"d1\": -0.6815995573997498}, {\"index\": \"opened\", \"d0\": 1.130266547203064, \"d1\": 1.7581901550292969}, {\"index\": \"operated\", \"d0\": -1.3806281089782715, \"d1\": 1.2160135507583618}, {\"index\": \"opposition\", \"d0\": -0.42383742332458496, \"d1\": 1.3078334331512451}, {\"index\": \"or\", \"d0\": -0.0014138832921162248, \"d1\": -1.1994584798812866}, {\"index\": \"orange\", \"d0\": -0.5928773880004883, \"d1\": 1.1343944072723389}, {\"index\": \"order\", \"d0\": -0.8381708264350891, \"d1\": 0.17668071389198303}, {\"index\": \"other\", \"d0\": 1.11189603805542, \"d1\": 0.39776739478111267}, {\"index\": \"ours\", \"d0\": -0.5072275996208191, \"d1\": 1.2663179636001587}, {\"index\": \"out\", \"d0\": 0.49492979049682617, \"d1\": -0.09010689705610275}, {\"index\": \"outskirts\", \"d0\": -1.208832025527954, \"d1\": 1.119170904159546}, {\"index\": \"over\", \"d0\": 0.6112565398216248, \"d1\": -0.23034611344337463}, {\"index\": \"owned\", \"d0\": -0.09006334096193314, \"d1\": 1.4059187173843384}, {\"index\": \"pact\", \"d0\": -0.6074892282485962, \"d1\": -0.007294120732694864}, {\"index\": \"paid\", \"d0\": -0.9160970449447632, \"d1\": -0.3321506679058075}, {\"index\": \"pales\", \"d0\": 1.1915712356567383, \"d1\": 1.0980931520462036}, {\"index\": \"parents\", \"d0\": 0.5015198588371277, \"d1\": -0.3198535442352295}, {\"index\": \"park\", \"d0\": -1.587694525718689, \"d1\": -0.39671048521995544}, {\"index\": \"part\", \"d0\": -0.032083649188280106, \"d1\": 0.04631761088967323}, {\"index\": \"pass\", \"d0\": 0.006644514389336109, \"d1\": -1.395742654800415}, {\"index\": \"passing\", \"d0\": 0.10521235316991806, \"d1\": 0.03949366509914398}, {\"index\": \"passion\", \"d0\": -1.971415400505066, \"d1\": -0.3295970559120178}, {\"index\": \"past\", \"d0\": -2.1948509216308594, \"d1\": 0.0034520800691097975}, {\"index\": \"paste\", \"d0\": 1.815837025642395, \"d1\": -0.7595301866531372}, {\"index\": \"paved\", \"d0\": -0.841850757598877, \"d1\": 0.7064127922058105}, {\"index\": \"pay\", \"d0\": -2.3780298233032227, \"d1\": -0.568419337272644}, {\"index\": \"people\", \"d0\": -0.6440252065658569, \"d1\": 0.4239982068538666}, {\"index\": \"perched\", \"d0\": 2.3029937744140625, \"d1\": 1.111039400100708}, {\"index\": \"perhaps\", \"d0\": 1.3418893814086914, \"d1\": -0.6136928796768188}, {\"index\": \"philadelphia\", \"d0\": -1.0491933822631836, \"d1\": 1.560302972793579}, {\"index\": \"pink\", \"d0\": -1.2824748754501343, \"d1\": 1.072595238685608}, {\"index\": \"pipe\", \"d0\": -1.3511182069778442, \"d1\": 0.8028343915939331}, {\"index\": \"place\", \"d0\": -1.3306009769439697, \"d1\": -1.0439141988754272}, {\"index\": \"player\", \"d0\": -0.03876091539859772, \"d1\": 0.10343410074710846}, {\"index\": \"playing\", \"d0\": 1.0905696153640747, \"d1\": 1.6999213695526123}, {\"index\": \"pleasure\", \"d0\": -0.3872436583042145, \"d1\": -0.4457898736000061}, {\"index\": \"pocket\", \"d0\": 0.18310660123825073, \"d1\": 0.7642858624458313}, {\"index\": \"pointed\", \"d0\": -0.3487873077392578, \"d1\": 2.093984603881836}, {\"index\": \"polished\", \"d0\": 0.037124067544937134, \"d1\": -1.7815401554107666}, {\"index\": \"pompeii\", \"d0\": 0.45480695366859436, \"d1\": 2.226499557495117}, {\"index\": \"pompeii's\", \"d0\": 0.41816088557243347, \"d1\": 1.1304254531860352}, {\"index\": \"porch\", \"d0\": 2.6010003089904785, \"d1\": 0.18481974303722382}, {\"index\": \"porches\", \"d0\": -0.2334105521440506, \"d1\": 1.403643250465393}, {\"index\": \"portentous\", \"d0\": 0.5159101486206055, \"d1\": 0.9146462678909302}, {\"index\": \"possessed\", \"d0\": -0.34692662954330444, \"d1\": -2.3326451778411865}, {\"index\": \"pound\", \"d0\": -1.183694839477539, \"d1\": -1.2528411149978638}, {\"index\": \"present\", \"d0\": -0.9595227241516113, \"d1\": 0.9334676265716553}, {\"index\": \"pressing\", \"d0\": -1.4100587368011475, \"d1\": 0.468425989151001}, {\"index\": \"pretended\", \"d0\": 0.6456266641616821, \"d1\": -1.472051978111267}, {\"index\": \"pretty\", \"d0\": 1.2181850671768188, \"d1\": -0.5812764763832092}, {\"index\": \"price\", \"d0\": 0.6280584335327148, \"d1\": -0.3898484706878662}, {\"index\": \"privacy\", \"d0\": -0.9547960162162781, \"d1\": -1.2721526622772217}, {\"index\": \"property\", \"d0\": -0.45812124013900757, \"d1\": -0.1554001271724701}, {\"index\": \"provided\", \"d0\": 0.15962903201580048, \"d1\": -0.9473594427108765}, {\"index\": \"puckered\", \"d0\": -2.0602385997772217, \"d1\": 0.07888470590114594}, {\"index\": \"pulling\", \"d0\": -0.23475857079029083, \"d1\": -1.1211543083190918}, {\"index\": \"purpose\", \"d0\": -0.5983356237411499, \"d1\": 1.110748529434204}, {\"index\": \"pushed\", \"d0\": 0.4707789123058319, \"d1\": -1.7851202487945557}, {\"index\": \"puttana\", \"d0\": 0.49714407324790955, \"d1\": -0.20021618902683258}, {\"index\": \"quality\", \"d0\": 0.13566163182258606, \"d1\": 0.4236004948616028}, {\"index\": \"quarters\", \"d0\": -0.2656909227371216, \"d1\": 2.477037191390991}, {\"index\": \"questioned\", \"d0\": 0.8699480295181274, \"d1\": 0.6602758169174194}, {\"index\": \"quickly\", \"d0\": 0.10019676387310028, \"d1\": 0.5778509974479675}, {\"index\": \"rail\", \"d0\": 2.2106151580810547, \"d1\": 0.9256514310836792}, {\"index\": \"railing\", \"d0\": -0.1261601597070694, \"d1\": -1.1642611026763916}, {\"index\": \"raise\", \"d0\": 1.5115667581558228, \"d1\": -1.2402784824371338}, {\"index\": \"rang\", \"d0\": -1.0007318258285522, \"d1\": -0.7114179730415344}, {\"index\": \"reach\", \"d0\": 0.7340533137321472, \"d1\": -0.19333899021148682}, {\"index\": \"reached\", \"d0\": 0.879540205001831, \"d1\": 0.08733515441417694}, {\"index\": \"reassured\", \"d0\": -2.0611352920532227, \"d1\": -0.5842981338500977}, {\"index\": \"reeked\", \"d0\": 0.4222652316093445, \"d1\": 0.5867053270339966}, {\"index\": \"released\", \"d0\": -0.6614553332328796, \"d1\": -0.1769706755876541}, {\"index\": \"remember\", \"d0\": 1.0536913871765137, \"d1\": 1.9644100666046143}, {\"index\": \"remove\", \"d0\": 0.3093997836112976, \"d1\": -2.0114405155181885}, {\"index\": \"repetitive\", \"d0\": 0.11902709305286407, \"d1\": 2.05554461479187}, {\"index\": \"restless\", \"d0\": 0.2810075879096985, \"d1\": 0.0324171744287014}, {\"index\": \"rich\", \"d0\": 0.8764188885688782, \"d1\": 1.0700017213821411}, {\"index\": \"ride\", \"d0\": 1.2337652444839478, \"d1\": 0.3633597195148468}, {\"index\": \"ripe\", \"d0\": 1.445233941078186, \"d1\": -2.068833827972412}, {\"index\": \"rising\", \"d0\": 2.503197193145752, \"d1\": 1.1277021169662476}, {\"index\": \"road\", \"d0\": -0.7342897057533264, \"d1\": -0.35525792837142944}, {\"index\": \"roared\", \"d0\": 0.27423879504203796, \"d1\": -1.86605703830719}, {\"index\": \"rode\", \"d0\": -0.3758366107940674, \"d1\": 1.205909252166748}, {\"index\": \"rolled\", \"d0\": -0.7751557230949402, \"d1\": -1.079593300819397}, {\"index\": \"romeo\", \"d0\": -1.0991644859313965, \"d1\": -1.7484002113342285}, {\"index\": \"romeo's\", \"d0\": -0.2879796326160431, \"d1\": -1.5007057189941406}, {\"index\": \"roof\", \"d0\": -1.4810090065002441, \"d1\": 1.0909152030944824}, {\"index\": \"rosaries\", \"d0\": -0.3498986065387726, \"d1\": -2.201404571533203}, {\"index\": \"rose\", \"d0\": 1.5770915746688843, \"d1\": 1.9661668539047241}, {\"index\": \"rossi\", \"d0\": 1.4667357206344604, \"d1\": 1.5178958177566528}, {\"index\": \"rot\", \"d0\": 0.24342355132102966, \"d1\": -0.12409289181232452}, {\"index\": \"rotundity\", \"d0\": 1.2505329847335815, \"d1\": 1.7751727104187012}, {\"index\": \"running\", \"d0\": -2.1841087341308594, \"d1\": -1.739944577217102}, {\"index\": \"rusted\", \"d0\": 1.185071349143982, \"d1\": -0.6961884498596191}, {\"index\": \"said\", \"d0\": -1.838564395904541, \"d1\": -1.3395850658416748}, {\"index\": \"sake\", \"d0\": -0.2364266961812973, \"d1\": -1.6740938425064087}, {\"index\": \"sallow\", \"d0\": 2.102424144744873, \"d1\": 0.24494102597236633}, {\"index\": \"salt\", \"d0\": -0.051682546734809875, \"d1\": -0.4919751286506653}, {\"index\": \"same\", \"d0\": 0.1805947870016098, \"d1\": 0.07796603441238403}, {\"index\": \"sameness\", \"d0\": 1.1905139684677124, \"d1\": 0.789915144443512}, {\"index\": \"sandals\", \"d0\": -1.4376888275146484, \"d1\": -0.9173325896263123}, {\"index\": \"sat\", \"d0\": 0.576659619808197, \"d1\": -2.258784294128418}, {\"index\": \"satin-covered\", \"d0\": -0.5005595088005066, \"d1\": 0.7123807072639465}, {\"index\": \"saturday\", \"d0\": -0.06771686673164368, \"d1\": -1.5512042045593262}, {\"index\": \"savored\", \"d0\": -0.22424355149269104, \"d1\": 0.4803559184074402}, {\"index\": \"saw\", \"d0\": 0.3380925953388214, \"d1\": -0.4802248179912567}, {\"index\": \"say\", \"d0\": 1.0576528310775757, \"d1\": -0.1938972920179367}, {\"index\": \"scent\", \"d0\": 1.0586260557174683, \"d1\": -0.5593264698982239}, {\"index\": \"schuylkill\", \"d0\": -0.7042950391769409, \"d1\": 0.23382218182086945}, {\"index\": \"screeched\", \"d0\": -1.039300560951233, \"d1\": -1.9549381732940674}, {\"index\": \"screeching\", \"d0\": 2.2520408630371094, \"d1\": 0.9053755402565002}, {\"index\": \"screen\", \"d0\": 1.7515321969985962, \"d1\": -1.796345591545105}, {\"index\": \"seams\", \"d0\": 1.497901201248169, \"d1\": 0.842479407787323}, {\"index\": \"second-story\", \"d0\": -0.0333600789308548, \"d1\": -0.45923346281051636}, {\"index\": \"see\", \"d0\": 1.829267978668213, \"d1\": -1.314899206161499}, {\"index\": \"seemed\", \"d0\": 0.4998970925807953, \"d1\": 0.4760075509548187}, {\"index\": \"seen\", \"d0\": 1.1853703260421753, \"d1\": 1.2022764682769775}, {\"index\": \"sensing\", \"d0\": 1.519455909729004, \"d1\": 1.1128172874450684}, {\"index\": \"service\", \"d0\": -0.8959999680519104, \"d1\": -0.6195985078811646}, {\"index\": \"shaded\", \"d0\": 0.13997100293636322, \"d1\": 0.49695640802383423}, {\"index\": \"shadow\", \"d0\": -1.212966799736023, \"d1\": -2.0904200077056885}, {\"index\": \"shaved\", \"d0\": -0.016241349279880524, \"d1\": -2.255239963531494}, {\"index\": \"she\", \"d0\": -0.8640082478523254, \"d1\": 0.9202297925949097}, {\"index\": \"she's\", \"d0\": 0.7669603824615479, \"d1\": 0.9481688141822815}, {\"index\": \"shining\", \"d0\": -0.057601965963840485, \"d1\": -0.2007254660129547}, {\"index\": \"shooing\", \"d0\": -0.16874714195728302, \"d1\": 0.31772735714912415}, {\"index\": \"shop\", \"d0\": -1.4835662841796875, \"d1\": -0.6660961508750916}, {\"index\": \"shoulders\", \"d0\": 0.29283878207206726, \"d1\": 1.3462944030761719}, {\"index\": \"shouldn't\", \"d0\": -0.6742803454399109, \"d1\": -0.2974047362804413}, {\"index\": \"showed\", \"d0\": 0.5421015620231628, \"d1\": 0.6475184559822083}, {\"index\": \"showroom\", \"d0\": 0.40581998229026794, \"d1\": 0.04195582866668701}, {\"index\": \"shrill\", \"d0\": -0.6072553992271423, \"d1\": -1.0153448581695557}, {\"index\": \"side\", \"d0\": -1.4720423221588135, \"d1\": -0.2734357416629791}, {\"index\": \"sidewalk\", \"d0\": -0.5846461653709412, \"d1\": -1.9330670833587646}, {\"index\": \"sight\", \"d0\": 1.6312347650527954, \"d1\": -0.5491405129432678}, {\"index\": \"sign\", \"d0\": -1.495468020439148, \"d1\": -1.3066158294677734}, {\"index\": \"signore\", \"d0\": -0.2360973209142685, \"d1\": -0.04095158353447914}, {\"index\": \"silent\", \"d0\": -0.149844691157341, \"d1\": -0.1240399181842804}, {\"index\": \"silently\", \"d0\": -0.7002260684967041, \"d1\": -0.8408387899398804}, {\"index\": \"since\", \"d0\": 0.3696123957633972, \"d1\": 0.4263688325881958}, {\"index\": \"sinewy\", \"d0\": 0.6144303679466248, \"d1\": 1.132062554359436}, {\"index\": \"sinister\", \"d0\": -0.514009952545166, \"d1\": 0.7166988849639893}, {\"index\": \"sink\", \"d0\": -1.193996787071228, \"d1\": -0.5679234862327576}, {\"index\": \"sister\", \"d0\": -2.0007195472717285, \"d1\": 0.8114612698554993}, {\"index\": \"sit\", \"d0\": 1.970066785812378, \"d1\": 1.1177971363067627}, {\"index\": \"six\", \"d0\": 0.5530322790145874, \"d1\": -1.5853331089019775}, {\"index\": \"skilled\", \"d0\": -1.6921576261520386, \"d1\": 1.6777513027191162}, {\"index\": \"skin\", \"d0\": -1.4733376502990723, \"d1\": 1.013973593711853}, {\"index\": \"slant\", \"d0\": 1.5147346258163452, \"d1\": 1.6051113605499268}, {\"index\": \"slapped\", \"d0\": -0.25102266669273376, \"d1\": -0.5729546546936035}, {\"index\": \"slashed\", \"d0\": 0.4929201602935791, \"d1\": -0.7387945652008057}, {\"index\": \"sleep\", \"d0\": -0.2863706350326538, \"d1\": -0.5369950532913208}, {\"index\": \"slid\", \"d0\": -1.4390226602554321, \"d1\": -0.47626563906669617}, {\"index\": \"sloping\", \"d0\": -0.09445325285196304, \"d1\": 0.33374783396720886}, {\"index\": \"small\", \"d0\": -1.650687575340271, \"d1\": -1.612858533859253}, {\"index\": \"smell\", \"d0\": 1.21175217628479, \"d1\": -1.8487707376480103}, {\"index\": \"smelled\", \"d0\": 1.2309354543685913, \"d1\": -1.5099525451660156}, {\"index\": \"smiled\", \"d0\": 0.03773165121674538, \"d1\": 0.808143675327301}, {\"index\": \"smoke\", \"d0\": 2.2301697731018066, \"d1\": -0.5181121230125427}, {\"index\": \"smoked\", \"d0\": 1.4996864795684814, \"d1\": -0.09184751659631729}, {\"index\": \"smooth\", \"d0\": -1.387718677520752, \"d1\": 2.121269702911377}, {\"index\": \"smoothness\", \"d0\": -1.2587777376174927, \"d1\": 1.7146711349487305}, {\"index\": \"so\", \"d0\": 0.6048588156700134, \"d1\": 1.210922122001648}, {\"index\": \"softness\", \"d0\": -0.7289695143699646, \"d1\": 1.6778632402420044}, {\"index\": \"something\", \"d0\": -0.21278752386569977, \"d1\": -1.793224573135376}, {\"index\": \"somewhat\", \"d0\": 0.8030756115913391, \"d1\": -0.5828700661659241}, {\"index\": \"son\", \"d0\": 0.8956046104431152, \"d1\": -0.1494404524564743}, {\"index\": \"soothing\", \"d0\": 1.620124340057373, \"d1\": 0.24225835502147675}, {\"index\": \"soul\", \"d0\": 1.1551189422607422, \"d1\": -0.7665918469429016}, {\"index\": \"sound\", \"d0\": 0.6829025149345398, \"d1\": 2.2389960289001465}, {\"index\": \"sounds\", \"d0\": 1.8419276475906372, \"d1\": -0.7592148780822754}, {\"index\": \"sour\", \"d0\": 0.3836197257041931, \"d1\": -1.843170166015625}, {\"index\": \"soutane\", \"d0\": 2.132819175720215, \"d1\": -1.0057027339935303}, {\"index\": \"space\", \"d0\": -0.23125149309635162, \"d1\": -0.9168319702148438}, {\"index\": \"speeches\", \"d0\": 0.2656867206096649, \"d1\": -1.3961939811706543}, {\"index\": \"spent\", \"d0\": 0.9375666975975037, \"d1\": 1.1942267417907715}, {\"index\": \"sphere\", \"d0\": 0.9224088191986084, \"d1\": 0.5665164589881897}, {\"index\": \"sprouted\", \"d0\": -1.3163800239562988, \"d1\": 0.667329728603363}, {\"index\": \"spun\", \"d0\": -0.32545047998428345, \"d1\": 0.030983081087470055}, {\"index\": \"square\", \"d0\": 1.6679250001907349, \"d1\": 0.8038191199302673}, {\"index\": \"squatted\", \"d0\": -0.2456192821264267, \"d1\": 0.07414742559194565}, {\"index\": \"squirted\", \"d0\": 0.9230725169181824, \"d1\": 1.5001806020736694}, {\"index\": \"stable-garage\", \"d0\": 0.5198232531547546, \"d1\": -0.9845247864723206}, {\"index\": \"stage\", \"d0\": 0.31416305899620056, \"d1\": -0.8475120067596436}, {\"index\": \"stained\", \"d0\": -2.002394676208496, \"d1\": -0.10248839855194092}, {\"index\": \"stared\", \"d0\": -1.847183108329773, \"d1\": 1.0660121440887451}, {\"index\": \"station\", \"d0\": 1.3242638111114502, \"d1\": 0.9636397957801819}, {\"index\": \"step\", \"d0\": 1.6836659908294678, \"d1\": 0.18089254200458527}, {\"index\": \"steps\", \"d0\": 0.1384810358285904, \"d1\": -0.07114128023386002}, {\"index\": \"still\", \"d0\": -0.8314453959465027, \"d1\": -0.799091100692749}, {\"index\": \"stockings\", \"d0\": 0.18684810400009155, \"d1\": -1.7515755891799927}, {\"index\": \"stop\", \"d0\": -0.6454541087150574, \"d1\": 0.7360926866531372}, {\"index\": \"storm\", \"d0\": -1.8580349683761597, \"d1\": -1.1478400230407715}, {\"index\": \"straddled\", \"d0\": 1.5413742065429688, \"d1\": -0.8185305595397949}, {\"index\": \"straining\", \"d0\": -1.193629264831543, \"d1\": -0.24337531626224518}, {\"index\": \"straw\", \"d0\": -2.3976378440856934, \"d1\": 0.44222164154052734}, {\"index\": \"street\", \"d0\": -1.4802333116531372, \"d1\": 1.8277828693389893}, {\"index\": \"streetcar\", \"d0\": 0.39087018370628357, \"d1\": 0.5358349084854126}, {\"index\": \"streetcars\", \"d0\": -0.5135248899459839, \"d1\": 1.6846715211868286}, {\"index\": \"streets\", \"d0\": 0.0013045930536463857, \"d1\": -0.6409021615982056}, {\"index\": \"stretched\", \"d0\": 0.19888105988502502, \"d1\": -1.9760419130325317}, {\"index\": \"strutted\", \"d0\": -0.5294545292854309, \"d1\": 0.5060557723045349}, {\"index\": \"stucco\", \"d0\": 1.7595313787460327, \"d1\": 1.219154953956604}, {\"index\": \"stuff\", \"d0\": 2.3400278091430664, \"d1\": -0.663176417350769}, {\"index\": \"suddenly\", \"d0\": 1.1789427995681763, \"d1\": 0.9548540711402893}, {\"index\": \"suitcase\", \"d0\": 0.5149735808372498, \"d1\": 0.21147063374519348}, {\"index\": \"sullen\", \"d0\": -0.1294795125722885, \"d1\": 0.2189510464668274}, {\"index\": \"sun\", \"d0\": 0.12089493870735168, \"d1\": 3.3777499198913574}, {\"index\": \"sunday\", \"d0\": -2.029669761657715, \"d1\": -0.7730135321617126}, {\"index\": \"sundays\", \"d0\": -0.9791389107704163, \"d1\": 1.6449470520019531}, {\"index\": \"sundials\", \"d0\": -0.8769677877426147, \"d1\": -0.8215423822402954}, {\"index\": \"suppleness\", \"d0\": 0.012591855600476265, \"d1\": 0.158456951379776}, {\"index\": \"supporting\", \"d0\": -1.6979310512542725, \"d1\": -0.2649086117744446}, {\"index\": \"sure\", \"d0\": -1.3858023881912231, \"d1\": -1.4902511835098267}, {\"index\": \"surging\", \"d0\": 0.3853403329849243, \"d1\": -1.3935426473617554}, {\"index\": \"surveyed\", \"d0\": -0.9488721489906311, \"d1\": -2.416438579559326}, {\"index\": \"swayed\", \"d0\": -0.06428688764572144, \"d1\": -2.194554328918457}, {\"index\": \"sweet\", \"d0\": -0.4598664343357086, \"d1\": -1.2382912635803223}, {\"index\": \"sweeter\", \"d0\": 0.13257016241550446, \"d1\": 1.376907229423523}, {\"index\": \"swept\", \"d0\": -0.5040347576141357, \"d1\": 1.921440839767456}, {\"index\": \"swings\", \"d0\": -1.0406997203826904, \"d1\": -1.9131232500076294}, {\"index\": \"swirled\", \"d0\": -0.7330147624015808, \"d1\": -0.7344092130661011}, {\"index\": \"swollen\", \"d0\": -2.0216472148895264, \"d1\": -0.2708974778652191}, {\"index\": \"swung\", \"d0\": -1.098656177520752, \"d1\": -1.4013370275497437}, {\"index\": \"table\", \"d0\": -1.0421955585479736, \"d1\": -0.7556913495063782}, {\"index\": \"take\", \"d0\": -2.1288044452667236, \"d1\": 0.7130631804466248}, {\"index\": \"taking\", \"d0\": 0.8754329085350037, \"d1\": 0.22166089713573456}, {\"index\": \"tanned\", \"d0\": 0.5837198495864868, \"d1\": -0.37451907992362976}, {\"index\": \"tapering\", \"d0\": 2.460559129714966, \"d1\": 0.0320347398519516}, {\"index\": \"taste\", \"d0\": 2.038508415222168, \"d1\": 0.5074111819267273}, {\"index\": \"taut\", \"d0\": 0.1878994256258011, \"d1\": -1.7520618438720703}, {\"index\": \"teats\", \"d0\": 0.6249259114265442, \"d1\": 1.4964829683303833}, {\"index\": \"tell\", \"d0\": 0.2153121531009674, \"d1\": 0.3919449746608734}, {\"index\": \"ten\", \"d0\": -0.27202892303466797, \"d1\": -0.4069814383983612}, {\"index\": \"than\", \"d0\": 0.7572051286697388, \"d1\": -0.2936585545539856}, {\"index\": \"that\", \"d0\": 0.2918620705604553, \"d1\": -0.31696048378944397}, {\"index\": \"that's\", \"d0\": 0.9538764357566833, \"d1\": -0.5865623354911804}, {\"index\": \"the\", \"d0\": -1.1487642526626587, \"d1\": 0.1127486526966095}, {\"index\": \"their\", \"d0\": 0.3817853331565857, \"d1\": 0.7041076421737671}, {\"index\": \"them\", \"d0\": -0.9945564270019531, \"d1\": 0.03279848396778107}, {\"index\": \"then\", \"d0\": -1.2660144567489624, \"d1\": 0.5114893913269043}, {\"index\": \"there\", \"d0\": -0.9059833884239197, \"d1\": -0.37059155106544495}, {\"index\": \"there's\", \"d0\": -0.9149993658065796, \"d1\": 0.4815223217010498}, {\"index\": \"these\", \"d0\": -0.5775510668754578, \"d1\": 0.6648286581039429}, {\"index\": \"they\", \"d0\": 0.5395418405532837, \"d1\": 1.854435920715332}, {\"index\": \"thick\", \"d0\": -0.7885034084320068, \"d1\": 0.27550771832466125}, {\"index\": \"thighs\", \"d0\": 0.308754026889801, \"d1\": 0.7650514245033264}, {\"index\": \"thin\", \"d0\": 2.227029800415039, \"d1\": 0.1474878489971161}, {\"index\": \"thing\", \"d0\": 0.30748945474624634, \"d1\": 2.406398296356201}, {\"index\": \"thinner\", \"d0\": 0.12605954706668854, \"d1\": -2.4574763774871826}, {\"index\": \"this\", \"d0\": -0.04535386711359024, \"d1\": -0.4743824005126953}, {\"index\": \"those\", \"d0\": -1.278784990310669, \"d1\": -0.1973639875650406}, {\"index\": \"though\", \"d0\": -2.0486900806427, \"d1\": 0.5946217179298401}, {\"index\": \"thought\", \"d0\": 1.2533866167068481, \"d1\": -0.12386935949325562}, {\"index\": \"threw\", \"d0\": 0.8393238186836243, \"d1\": -0.7718857526779175}, {\"index\": \"through\", \"d0\": -1.85818612575531, \"d1\": -0.10457520186901093}, {\"index\": \"thrown\", \"d0\": -0.4313838481903076, \"d1\": -1.192252278327942}, {\"index\": \"ticks\", \"d0\": -0.5925592184066772, \"d1\": -0.6657661199569702}, {\"index\": \"time\", \"d0\": -2.5475194454193115, \"d1\": 0.5809246897697449}, {\"index\": \"time-cast\", \"d0\": 0.20990107953548431, \"d1\": 0.05264417827129364}, {\"index\": \"tiny\", \"d0\": 1.891012191772461, \"d1\": -0.8039860129356384}, {\"index\": \"tips\", \"d0\": 0.9546439051628113, \"d1\": 2.0953423976898193}, {\"index\": \"to\", \"d0\": 0.72190260887146, \"d1\": -0.08492313325405121}, {\"index\": \"toes\", \"d0\": 2.1779627799987793, \"d1\": -0.9798182249069214}, {\"index\": \"tomato\", \"d0\": 0.528870165348053, \"d1\": 0.020543895661830902}, {\"index\": \"tone\", \"d0\": -1.8965539932250977, \"d1\": -0.036956220865249634}, {\"index\": \"tongue\", \"d0\": 2.2769558429718018, \"d1\": 0.5818304419517517}, {\"index\": \"too\", \"d0\": 0.2844316065311432, \"d1\": -1.5221096277236938}, {\"index\": \"took\", \"d0\": 0.02719198539853096, \"d1\": 1.8555577993392944}, {\"index\": \"top\", \"d0\": 0.559821367263794, \"d1\": 2.0097415447235107}, {\"index\": \"torino\", \"d0\": 2.1016061305999756, \"d1\": 1.3254190683364868}, {\"index\": \"torn\", \"d0\": -0.4297046959400177, \"d1\": -1.0338910818099976}, {\"index\": \"touch\", \"d0\": -2.481358766555786, \"d1\": 0.002311406657099724}, {\"index\": \"toward\", \"d0\": 1.6309741735458374, \"d1\": -1.5314366817474365}, {\"index\": \"tower\", \"d0\": 0.6247982978820801, \"d1\": -0.3356420397758484}, {\"index\": \"town\", \"d0\": 1.0926966667175293, \"d1\": -1.3801594972610474}, {\"index\": \"trains\", \"d0\": -0.6299496293067932, \"d1\": -1.2323247194290161}, {\"index\": \"trays\", \"d0\": -0.11960528045892715, \"d1\": -1.2819318771362305}, {\"index\": \"trees\", \"d0\": -1.047878623008728, \"d1\": 0.9856842160224915}, {\"index\": \"tribute\", \"d0\": 1.935577392578125, \"d1\": 0.5108500719070435}, {\"index\": \"tunneled\", \"d0\": -0.6192495822906494, \"d1\": 2.1698615550994873}, {\"index\": \"tweezed\", \"d0\": -1.1545344591140747, \"d1\": 0.2839880585670471}, {\"index\": \"two-story\", \"d0\": -0.3594855070114136, \"d1\": 1.301759958267212}, {\"index\": \"unconcerned\", \"d0\": -0.7889756560325623, \"d1\": 0.4163885712623596}, {\"index\": \"undulated\", \"d0\": 1.2916465997695923, \"d1\": 0.012631808407604694}, {\"index\": \"unfalteringly\", \"d0\": 0.41750746965408325, \"d1\": 1.3681079149246216}, {\"index\": \"unimportant\", \"d0\": 0.5435763001441956, \"d1\": 0.7403533458709717}, {\"index\": \"unity\", \"d0\": -1.492183804512024, \"d1\": -1.4923150539398193}, {\"index\": \"unusual\", \"d0\": 0.2602185904979706, \"d1\": 1.4672602415084839}, {\"index\": \"up\", \"d0\": 0.6088175177574158, \"d1\": 0.09895066171884537}, {\"index\": \"upon\", \"d0\": 1.6225582361221313, \"d1\": -0.3383287489414215}, {\"index\": \"upward\", \"d0\": -0.4635339379310608, \"d1\": 1.6745604276657104}, {\"index\": \"variegated\", \"d0\": -0.9140122532844543, \"d1\": -1.288693904876709}, {\"index\": \"very\", \"d0\": 0.01808805577456951, \"d1\": -0.27247270941734314}, {\"index\": \"vest\", \"d0\": -0.3478075861930847, \"d1\": 0.7445593476295471}, {\"index\": \"vines\", \"d0\": 0.3494184911251068, \"d1\": 0.5443500876426697}, {\"index\": \"voice\", \"d0\": 0.6388331651687622, \"d1\": 1.6999413967132568}, {\"index\": \"waiting\", \"d0\": -0.4059586524963379, \"d1\": -0.6787950396537781}, {\"index\": \"wall\", \"d0\": 0.9834790229797363, \"d1\": -1.4213941097259521}, {\"index\": \"walls\", \"d0\": -0.6871827840805054, \"d1\": 2.2742223739624023}, {\"index\": \"wanted\", \"d0\": 0.15201275050640106, \"d1\": -0.025377726182341576}, {\"index\": \"warm\", \"d0\": 0.6813538074493408, \"d1\": 2.366584539413452}, {\"index\": \"warmth\", \"d0\": 1.09499192237854, \"d1\": -0.31907662749290466}, {\"index\": \"was\", \"d0\": 0.4144105613231659, \"d1\": -1.1938765048980713}, {\"index\": \"watching\", \"d0\": 1.8863877058029175, \"d1\": 0.139898881316185}, {\"index\": \"wave\", \"d0\": -1.706502079963684, \"d1\": 1.6130996942520142}, {\"index\": \"way\", \"d0\": -1.3595871925354004, \"d1\": 2.285620927810669}, {\"index\": \"we\", \"d0\": 0.7089695930480957, \"d1\": 0.9281086921691895}, {\"index\": \"well\", \"d0\": 0.5357704162597656, \"d1\": 0.1829840987920761}, {\"index\": \"went\", \"d0\": -0.5107124447822571, \"d1\": -1.9924023151397705}, {\"index\": \"were\", \"d0\": -0.2040349394083023, \"d1\": 0.43342944979667664}, {\"index\": \"wet\", \"d0\": 1.0249927043914795, \"d1\": 0.24086646735668182}, {\"index\": \"wetness\", \"d0\": -0.0818844884634018, \"d1\": -0.9008790254592896}, {\"index\": \"what\", \"d0\": -0.9369535446166992, \"d1\": -0.08546396344900131}, {\"index\": \"when\", \"d0\": 0.17452748119831085, \"d1\": -0.36384329199790955}, {\"index\": \"where\", \"d0\": -0.32420456409454346, \"d1\": 0.8511757254600525}, {\"index\": \"which\", \"d0\": 0.002879997016862035, \"d1\": 0.531951904296875}, {\"index\": \"while\", \"d0\": 0.10646407306194305, \"d1\": 0.3385073244571686}, {\"index\": \"whirling\", \"d0\": 1.5328874588012695, \"d1\": -1.3072690963745117}, {\"index\": \"whiskered\", \"d0\": -1.6249390840530396, \"d1\": 0.5278843641281128}, {\"index\": \"white\", \"d0\": -0.29804399609565735, \"d1\": 2.4468486309051514}, {\"index\": \"white-columned\", \"d0\": -1.1320494413375854, \"d1\": 0.20631788671016693}, {\"index\": \"who\", \"d0\": 0.1979643553495407, \"d1\": 0.547877848148346}, {\"index\": \"whom\", \"d0\": -0.5322742462158203, \"d1\": -0.4253982603549957}, {\"index\": \"whose\", \"d0\": -0.5437097549438477, \"d1\": 1.606369972229004}, {\"index\": \"why\", \"d0\": 0.8400182127952576, \"d1\": -0.03178919106721878}, {\"index\": \"wicker\", \"d0\": 0.7079235911369324, \"d1\": 0.686077356338501}, {\"index\": \"wide\", \"d0\": 1.0295817852020264, \"d1\": 1.9190226793289185}, {\"index\": \"wife\", \"d0\": -1.805551528930664, \"d1\": 0.833167314529419}, {\"index\": \"wiggled\", \"d0\": 0.15357816219329834, \"d1\": 0.6449408531188965}, {\"index\": \"window\", \"d0\": 0.23139677941799164, \"d1\": -0.7082318067550659}, {\"index\": \"wine\", \"d0\": -1.4339568614959717, \"d1\": 0.6265971064567566}, {\"index\": \"with\", \"d0\": 0.3143451511859894, \"d1\": -0.22097425162792206}, {\"index\": \"withered\", \"d0\": -0.06046363711357117, \"d1\": -0.2566955089569092}, {\"index\": \"within\", \"d0\": -1.0465160608291626, \"d1\": -1.9979186058044434}, {\"index\": \"without\", \"d0\": -1.8425519466400146, \"d1\": 1.698108434677124}, {\"index\": \"woman\", \"d0\": 1.4530606269836426, \"d1\": 1.9078917503356934}, {\"index\": \"women\", \"d0\": 0.7221823930740356, \"d1\": 1.7442028522491455}, {\"index\": \"wood\", \"d0\": -2.3089492321014404, \"d1\": 0.46867436170578003}, {\"index\": \"wooden\", \"d0\": -0.22380255162715912, \"d1\": 1.9799344539642334}, {\"index\": \"work\", \"d0\": 0.6375211477279663, \"d1\": 0.9448249340057373}, {\"index\": \"would\", \"d0\": 0.05515061318874359, \"d1\": -1.5920246839523315}, {\"index\": \"wouldn't\", \"d0\": 0.1723099946975708, \"d1\": 0.8043226599693298}, {\"index\": \"wrapped\", \"d0\": -0.04309433326125145, \"d1\": -1.3231045007705688}, {\"index\": \"wrinkled\", \"d0\": -1.0974409580230713, \"d1\": -1.4404358863830566}, {\"index\": \"yellow\", \"d0\": 1.0568547248840332, \"d1\": -2.0787649154663086}, {\"index\": \"yet\", \"d0\": -2.5016913414001465, \"d1\": 0.5066891312599182}, {\"index\": \"you\", \"d0\": 0.15397219359874725, \"d1\": 0.7238090634346008}, {\"index\": \"you're\", \"d0\": -0.279331237077713, \"d1\": -0.7631979584693909}, {\"index\": \"your\", \"d0\": -1.1632856130599976, \"d1\": -0.24726060032844543}, {\"index\": \"youth\", \"d0\": -0.7383444905281067, \"d1\": 1.9744627475738525}]}};\n",
       "const opt = {};\n",
       "const type = \"vega-lite\";\n",
       "const id = \"de6f9b29-b724-45c2-940e-4e2c9688d51e\";\n",
       "\n",
       "const output_area = this;\n",
       "\n",
       "require([\"nbextensions/jupyter-vega/index\"], function(vega) {\n",
       "  const target = document.createElement(\"div\");\n",
       "  target.id = id;\n",
       "  target.className = \"vega-embed\";\n",
       "\n",
       "  const style = document.createElement(\"style\");\n",
       "  style.textContent = [\n",
       "    \".vega-embed .error p {\",\n",
       "    \"  color: firebrick;\",\n",
       "    \"  font-size: 14px;\",\n",
       "    \"}\",\n",
       "  ].join(\"\\\\n\");\n",
       "\n",
       "  // element is a jQuery wrapped DOM element inside the output area\n",
       "  // see http://ipython.readthedocs.io/en/stable/api/generated/\\\n",
       "  // IPython.display.html#IPython.display.Javascript.__init__\n",
       "  element[0].appendChild(target);\n",
       "  element[0].appendChild(style);\n",
       "\n",
       "  vega.render(\"#\" + id, spec, type, opt, output_area);\n",
       "}, function (err) {\n",
       "  if (err.requireType !== \"scripterror\") {\n",
       "    throw(err);\n",
       "  }\n",
       "});\n"
      ],
      "text/plain": [
       "<vega.vegalite.VegaLite at 0x10e7b3ef0>"
      ]
     },
     "metadata": {
      "jupyter-vega": "#de6f9b29-b724-45c2-940e-4e2c9688d51e"
     },
     "output_type": "display_data"
    },
    {
     "data": {
      "text/plain": []
     },
     "execution_count": 39,
     "metadata": {},
     "output_type": "execute_result"
    },
    {
     "data": {
      "image/png": "[encoded data removed]"
     },
     "metadata": {
      "jupyter-vega": "#de6f9b29-b724-45c2-940e-4e2c9688d51e"
     },
     "output_type": "display_data"
    }
   ],
   "source": [
    "marked = chart.mark_point()\n",
    "marked.encode(x=alt.X('d1:Q', title='Dimension'), y='d0:Q', tooltip='index').interactive(True)"
   ]
  },
  {
   "cell_type": "code",
   "execution_count": null,
   "metadata": {},
   "outputs": [],
   "source": [
    "corpus.sents(title)"
   ]
  },
  {
   "cell_type": "code",
   "execution_count": null,
   "metadata": {},
   "outputs": [],
   "source": [
    "viz_data"
   ]
  },
  {
   "cell_type": "code",
   "execution_count": null,
   "metadata": {},
   "outputs": [],
   "source": [
    "plt.scatter(x=tsne_data[:,0], y=tsne_data[:,1])"
   ]
  },
  {
   "cell_type": "code",
   "execution_count": null,
   "metadata": {},
   "outputs": [],
   "source": [
    "plt.scatter(x=pca_data_2[:,0], y=pca_data_2[:,1])"
   ]
  },
  {
   "cell_type": "markdown",
   "metadata": {},
   "source": [
    "---\n",
    "\n",
    "# Closing <a id='phase-5'></a>\n",
    "\n",
    "## <span class='phase-5'>5.0</span> Key Takeaways<a id='section-5'></a>\n",
    "<img src='./images/takeaway.jpg' style='float: right; height: 10em; margin-right: 2em;'/>\n",
    "\n",
    "Here are some main points to remember after this presentation:\n",
    "\n",
    "  * Words can be converted into mathematical objects\n",
    "  * Words as mathematical objects can encode and capture deep relationships in the original text\n",
    "  * Word2Vec is only one way of creating word embeddings\n",
    "\n",
    "### <span class='phase-5'>5.1</span> Using an Existing Package <a id='section-5'></a>\n",
    "\n",
    "There are existing implementations that already exist that allow you to use Word2Vec technology out of the box.\n",
    "\n",
    "Examples of these include:\n",
    "  * SpaCy\n",
    "  * gensim\n",
    "  * ELMo\n",
    "  * fasttext\n",
    " \n",
    "\n",
    "---\n",
    "\n",
    "References\n",
    "[1] Test"
   ]
  },
  {
   "cell_type": "markdown",
   "metadata": {},
   "source": [
    "---"
   ]
  }
 ],
 "metadata": {
  "kernelspec": {
   "display_name": "Python 3",
   "language": "python",
   "name": "python3"
  },
  "language_info": {
   "codemirror_mode": {
    "name": "ipython",
    "version": 3
   },
   "file_extension": ".py",
   "mimetype": "text/x-python",
   "name": "python",
   "nbconvert_exporter": "python",
   "pygments_lexer": "ipython3",
   "version": "3.6.9"
  }
 },
 "nbformat": 4,
 "nbformat_minor": 2
}
