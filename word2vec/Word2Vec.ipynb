{
 "cells": [
  {
   "cell_type": "markdown",
   "metadata": {
    "slideshow": {
     "slide_type": "slide"
    },
    "tags": [
     "introduction",
     "contents"
    ]
   },
   "source": [
    "<a id='phase-0'></a>\n",
    "# Harvesting Meaning from Text: A Quick Demonstration on Word2Vec\n",
    "\n",
    "--- \n",
    "#### Glenn Abastillas | 24 March, 2020\n",
    "\n",
    "<img src=\"./images/splash_image.png\" style=\"height: 50%; width: 50%; float: right; margin-left: 1em;\" />\n",
    "\n",
    "This notebook goes over an example implementation of Word2Vec and some existing packages that perform Word2Vec training.\n",
    "\n",
    "### Contents\n",
    "  1. [Preliminary Steps](#phase-1) : Loading and preprocessing the text data\n",
    "      \n",
    "  2. [Background](#phase-2) : Brief overview on Word2Vec and building the model\n",
    "      \n",
    "  3. [Some Examples](#phase-3) : Looking at some example word vectors by similarity\n",
    "  \n",
    "  4. [Visualizating Vectors](#phase-4) : Visualizing the model's vectors\n",
    "  \n",
    "  5. [Key Takeaways](#section-5) : Things to note and remember\n",
    "\n",
    "<br>\n",
    "<br>\n",
    "\n",
    "<a id='phase-1'></a><a id=\"section-1\"></a></span>\n",
    "\n",
    "---\n",
    "\n",
    "<span class='bold'>Section</span> [Top](#phase-0) &bull; [Bottom](#phase-2) &bull; 1.0 Load Packages &bull; [1.1 Visual Inspection](#section-1-1) &bull; [1.2 Slimming Down](#section-1-2) &bull; [1.3 Subsampling](#section-1-3) &bull; [1.4 Encoding Tokens](#section-1-4)\n",
    "\n",
    "# Preliminary Steps \n",
    "\n",
    "\n",
    "## <span class='phase-1'>1.0 Load Packages \n",
    "First we import packages and clean the data."
   ]
  },
  {
   "cell_type": "code",
   "execution_count": 69,
   "metadata": {},
   "outputs": [
    {
     "data": {
      "text/html": [
       "<!DOCTYPE html>\n",
       "<html>\n",
       "<head>\n",
       "    <title>CSS Stylesheet for Jupyter</title>\n",
       "    <style>\n",
       "        .banner {\n",
       "            border-left: solid 5px black;\n",
       "            background: lightgray;\n",
       "            padding-left: 1em;\n",
       "        }\n",
       "\n",
       "        .tip {\n",
       "            border-left-color: darkgreen;\n",
       "            background: lightgreen;\n",
       "        }\n",
       "\n",
       "        .attention {\n",
       "            border-left-color: goldenrod;\n",
       "            background: lightgoldenrodyellow;\n",
       "        }\n",
       "        .warning {\n",
       "            border-left-color: darkred;\n",
       "            background: lightcoral;\n",
       "        }\n",
       "\n",
       "        .section-header {\n",
       "            color: green;\n",
       "        }\n",
       "\n",
       "        .bold {\n",
       "            font-weight: 600;\n",
       "        }\n",
       "\n",
       "        .level-2 {\n",
       "            color: blue;\n",
       "        }\n",
       "\n",
       "        .phase-1 {\n",
       "            color: cornflowerblue;\n",
       "        }\n",
       "        .phase-2 {\n",
       "            color: seagreen;\n",
       "        }\n",
       "        .phase-3 {\n",
       "            color: goldenrod;\n",
       "        }\n",
       "        .phase-4 {\n",
       "            color: darkorange;\n",
       "        }\n",
       "        .phase-5 {\n",
       "            color: fuchsia;\n",
       "        }\n",
       "\n",
       "        a, a:active, a:visited {\n",
       "            text-decoration: none;\n",
       "            transition: all 0.25s ease;\n",
       "            opacity: 0.75;\n",
       "        }\n",
       "\n",
       "        a:hover {\n",
       "            /* background: lightgoldenrodyellow; */\n",
       "            opacity: 1;\n",
       "        }\n",
       "\n",
       "        h1 {\n",
       "            font-family: 'Bell MT', 'Garamond', 'Arial', sans-serif;\n",
       "            color: black;\n",
       "            margin-bottom:  0;\n",
       "        }\n",
       "\n",
       "        img {\n",
       "        }\n",
       "\n",
       "        p {\n",
       "            font-family: 'calibri light', 'helvetica light', 'helvetica', 'arial', sans-serif;\n",
       "        }\n",
       "\n",
       "        li {\n",
       "            font-size: 1em;\n",
       "            color: gray;\n",
       "        }\n",
       "\n",
       "        li:hover {\n",
       "            color: black;\n",
       "        }\n",
       "\n",
       "    </style>\n",
       "</head>\n",
       "<body>\n",
       "\n",
       "</body>\n",
       "</html>"
      ],
      "text/plain": [
       "<IPython.core.display.HTML object>"
      ]
     },
     "metadata": {},
     "output_type": "display_data"
    }
   ],
   "source": [
    "import numpy as np\n",
    "import pandas as pd\n",
    "import altair as alt\n",
    "\n",
    "from string import punctuation\n",
    "from collections import namedtuple\n",
    "from nltk.corpus import brown, gutenberg, stopwords\n",
    "from tqdm.notebook import trange, tqdm\n",
    "from IPython.core.display import display, HTML\n",
    "\n",
    "display(HTML('./style/style.html'))\n",
    "alt.renderers.enable('notebook')\n",
    "corpus = brown"
   ]
  },
  {
   "cell_type": "markdown",
   "metadata": {},
   "source": [
    "We will use data from the `gutenberg` corpus and normalize the input data."
   ]
  },
  {
   "cell_type": "code",
   "execution_count": 209,
   "metadata": {},
   "outputs": [
    {
     "name": "stdout",
     "output_type": "stream",
     "text": [
      "Number of sentences: 131\n",
      "Number of words: 2,332\n"
     ]
    }
   ],
   "source": [
    "title = 'cp01'\n",
    "sents = corpus.sents(title)\n",
    "words = corpus.words(title)\n",
    "tagged = corpus.tagged_words(title)\n",
    "\n",
    "print(f'Number of sentences: {len(sents):,}')\n",
    "print(f'Number of words: {len(words):,}')"
   ]
  },
  {
   "cell_type": "markdown",
   "metadata": {},
   "source": [
    "<p class='attention banner'>Parameters, Counts, and Probability Data for Later</p>"
   ]
  },
  {
   "cell_type": "code",
   "execution_count": 79,
   "metadata": {},
   "outputs": [],
   "source": [
    "sents = [[word.lower() for word in sent] for sent in sents]\n",
    "words = [word.lower() for word in words]\n",
    "\n",
    "WORDS, COUNTS = np.unique(words, return_counts=True)  # Constant values for unique words and word counts\n",
    "PROBS = COUNTS**0.75 / (COUNTS**0.75).sum()  # Frequency of words in corpus (see paper cited)\n",
    "INDEX = np.arange(WORDS.size)  # Numeric index of all unique words\n",
    "\n",
    "VOCAB = dict(zip(WORDS, INDEX))  # Mappings from word-to-index\n",
    "VOCABR = dict(zip(INDEX, WORDS))  # Mappings from index-to-word"
   ]
  },
  {
   "cell_type": "markdown",
   "metadata": {},
   "source": [
    "<a id='section-1-1'></a>\n",
    "\n",
    "---\n",
    "<span class='bold'>Section</span> [Top](#section-1) &bull; [Bottom](#section-2) &bull; [1.0 Load Packages](#section-1) &bull; 1.1 Visual Inspection &bull; [1.2 Slimming Down](#section-1-2) &bull; [1.3 Subsampling](#section-1-3) &bull; [1.4 Encoding Tokens](#section-1-4)\n",
    "\n",
    "### <span class='phase-1'>1.1 Visual Inspection</span> \n",
    "\n",
    "A quick look into our corpus reveals that a handful of sentence lengths dominate this text."
   ]
  },
  {
   "cell_type": "code",
   "execution_count": 125,
   "metadata": {},
   "outputs": [],
   "source": [
    "lengths = [len(sent) for sent in sents]\n",
    "unique = pd.DataFrame(zip(lengths, sents), columns=['tokens', 'sents']).drop_duplicates('tokens')\n",
    "\n",
    "lengths = pd.DataFrame(lengths, columns=['tokens'])\n",
    "\n",
    "lengths = lengths['tokens'].value_counts()\n",
    "lengths = pd.DataFrame(lengths.reset_index())\n",
    "lengths.columns = ['tokens', 'length']\n",
    "\n",
    "lengths = lengths.merge(unique)\n",
    "\n",
    "lengths.sents = lengths.sents.str.join(' ')"
   ]
  },
  {
   "cell_type": "markdown",
   "metadata": {},
   "source": [
    "<p class='tip banner'>Bar chart shows this distribution</p>"
   ]
  },
  {
   "cell_type": "code",
   "execution_count": 128,
   "metadata": {},
   "outputs": [
    {
     "data": {
      "application/javascript": [
       "const spec = {\"config\": {\"view\": {\"width\": 400, \"height\": 300}, \"mark\": {\"tooltip\": null}, \"title\": {\"fontSize\": 20}}, \"data\": {\"name\": \"data-5ab3655c1aa69a34e97e7d4cf06a855d\"}, \"mark\": {\"type\": \"bar\", \"size\": 10}, \"encoding\": {\"color\": {\"type\": \"quantitative\", \"field\": \"length\", \"title\": \"Sentences\"}, \"tooltip\": {\"type\": \"nominal\", \"field\": \"sents\"}, \"x\": {\"type\": \"ordinal\", \"field\": \"tokens\", \"sort\": {\"field\": \"length\", \"order\": \"descending\"}, \"title\": \"Number of Tokens in a Sentence\"}, \"y\": {\"type\": \"quantitative\", \"field\": \"length\", \"title\": \"Number of Sentences\"}}, \"height\": 250, \"selection\": {\"selector006\": {\"type\": \"interval\", \"bind\": \"scales\", \"encodings\": [\"x\", \"y\"]}}, \"title\": \"Count of Sentences by Number of Tokens\", \"width\": 800, \"$schema\": \"https://vega.github.io/schema/vega-lite/v3.4.0.json\", \"datasets\": {\"data-5ab3655c1aa69a34e97e7d4cf06a855d\": [{\"tokens\": 9, \"length\": 10, \"sents\": \"they neither liked nor disliked the old man .\"}, {\"tokens\": 21, \"length\": 7, \"sents\": \"but this was not unusual , because youth in these quarters was always pushed at a distance from its elders .\"}, {\"tokens\": 18, \"length\": 6, \"sents\": \"`` but she shouldn't have come here in the first place '' , the women had said .\"}, {\"tokens\": 6, \"length\": 6, \"sents\": \"the old man was unimportant .\"}, {\"tokens\": 7, \"length\": 6, \"sents\": \"she gave herself fancy airs ! !\"}, {\"tokens\": 17, \"length\": 6, \"sents\": \"in one hand she clutched a hundred dollar bill and in the other a straw suitcase .\"}, {\"tokens\": 10, \"length\": 6, \"sents\": \"the hedge reeked of coffee dregs thrown against it .\"}, {\"tokens\": 14, \"length\": 6, \"sents\": \"filippo rossi , that's what he was called in the old country ; ;\"}, {\"tokens\": 13, \"length\": 5, \"sents\": \"the only thing unusual about the old man had long since happened .\"}, {\"tokens\": 15, \"length\": 5, \"sents\": \"it went to church on sunday and one saturday a month went to confession .\"}, {\"tokens\": 12, \"length\": 5, \"sents\": \"they never called him by name , although he had one .\"}, {\"tokens\": 11, \"length\": 5, \"sents\": \"but here he was just signore or the old man .\"}, {\"tokens\": 5, \"length\": 5, \"sents\": \"youth obeyed when commanded .\"}, {\"tokens\": 23, \"length\": 4, \"sents\": \"with a tiny fur-piece wrapped around her shoulders , she wiggled her satin-covered buttocks down the street before him and didn't stop .\"}, {\"tokens\": 30, \"length\": 4, \"sents\": \"calloused fingers , caressed only by the smoothness of polished rosaries , had swayed excitedly beneath puckered chins where tiny black hairs sprouted , never to be tweezed away .\"}, {\"tokens\": 20, \"length\": 4, \"sents\": \") and his eyes -- those miniature sundials of variegated yellow -- had not altered their expression or direction .\"}, {\"tokens\": 8, \"length\": 3, \"sents\": \"( he was never without that dog .\"}, {\"tokens\": 22, \"length\": 3, \"sents\": \"sameness for the old man was framed in by a wall of ginkgo trees which divided these quarters from the city .\"}, {\"tokens\": 4, \"length\": 3, \"sents\": \"not that one .\"}, {\"tokens\": 25, \"length\": 3, \"sents\": \"it was as though he had made a pact with the devil himself , but it was not yet time to pay the price .\"}, {\"tokens\": 26, \"length\": 3, \"sents\": \"or the surging whirling sounds of bats at night , when their black bodies dived into the blackness above and below the amber street lights .\"}, {\"tokens\": 27, \"length\": 3, \"sents\": \"and the coffee shop on drexel street , where the men spent their evenings and sundays playing cards , had a rose hedge beneath its window .\"}, {\"tokens\": 36, \"length\": 3, \"sents\": \"he would order her to bring coffee , and would take from his vest pocket a thin black pipe which he would stuff -- he would not remove his gloves -- and light and smoke .\"}, {\"tokens\": 40, \"length\": 2, \"sents\": \"yet everywhere else sameness was stucco and wood in square blocks -- like fortresses perched against the slant of the hill , rising with the hill to the top where the church was and beyond that to the cemetery .\"}, {\"tokens\": 19, \"length\": 2, \"sents\": \"to him life was a restless boredom that began with the rising sun and ended only with sleep .\"}, {\"tokens\": 16, \"length\": 2, \"sents\": \"it swayed with the wicker swings and screeched with the rusted hinges of screen doors .\"}, {\"tokens\": 31, \"length\": 2, \"sents\": \"mauve-colored mouths that had never known anything sweeter than the taste of new wine and the passion of man's tongue had not smiled , but had condemned again and again .\"}, {\"tokens\": 24, \"length\": 2, \"sents\": \"the old man's very soul could have left him and flown down that street , but he wouldn't have had anyone know it .\"}, {\"tokens\": 45, \"length\": 1, \"sents\": \"to them he could have been the broken bell in the church tower which rang before and after mass , and at noon , and at six each evening -- its tone , repetitive , monotonous , never breaking the boredom of the streets .\"}, {\"tokens\": 43, \"length\": 1, \"sents\": \"only paved alleyways tunneled through the walls of those fortresses into the mysterious core of intimacy behind the houses where backyards owned no fences , where one man's property blended with the next to form courtyards in which no one knew privacy .\"}, {\"tokens\": 42, \"length\": 1, \"sents\": \"he would sit inside the coffee shop and pound a gloved fist upon the table and a girl would hear him and come running , bowing with her running , calling out in her bowing , `` at your service '' .\"}, {\"tokens\": 41, \"length\": 1, \"sents\": \"but when he called for his withered , wrinkled sister rose to care for him and the children , had he guessed that all he would remember of his woman was the memory of her climbing into that streetcar ? ?\"}, {\"tokens\": 32, \"length\": 1, \"sents\": \"yet if he were not there , they would have missed him , as they would have missed the sounds of bees buzzing against the screen door in early june ; ;\"}, {\"tokens\": 38, \"length\": 1, \"sents\": \"without looking at him , without looking at anything except drexel street directly in front of her , she climbed up into one of those orange streetcars , rode away in it , and never came back .\"}, {\"tokens\": 34, \"length\": 1, \"sents\": \"what did it matter to him that the park at the foot of ash road stretched beneath elevated trains that roared from the stucco station into the city's center at half-hour intervals ? ?\"}, {\"tokens\": 33, \"length\": 1, \"sents\": \"the old man's son threw himself down , belly first , upon a concrete step , taking in the coolness of it , and dreaming of the day he would be rich .\"}, {\"tokens\": 28, \"length\": 1, \"sents\": \"or the smell of thick tomato paste -- the ripe smell that was both sweet and sour -- rising up from aluminum trays wrapped in fly-dotted cheesecloth .\"}, {\"tokens\": 51, \"length\": 1, \"sents\": \"it was enough for people to know that at one time he had looked down the street at the fleshy suppleness of a woman he had consumed -- watching her become thinner and thinner in the distance , as thin as the seams on her stockings , and still thinner .\"}]}};\n",
       "const opt = {};\n",
       "const type = \"vega-lite\";\n",
       "const id = \"ec2502b4-8096-4b77-9f08-a91ac2b24fa7\";\n",
       "\n",
       "const output_area = this;\n",
       "\n",
       "require([\"nbextensions/jupyter-vega/index\"], function(vega) {\n",
       "  const target = document.createElement(\"div\");\n",
       "  target.id = id;\n",
       "  target.className = \"vega-embed\";\n",
       "\n",
       "  const style = document.createElement(\"style\");\n",
       "  style.textContent = [\n",
       "    \".vega-embed .error p {\",\n",
       "    \"  color: firebrick;\",\n",
       "    \"  font-size: 14px;\",\n",
       "    \"}\",\n",
       "  ].join(\"\\\\n\");\n",
       "\n",
       "  // element is a jQuery wrapped DOM element inside the output area\n",
       "  // see http://ipython.readthedocs.io/en/stable/api/generated/\\\n",
       "  // IPython.display.html#IPython.display.Javascript.__init__\n",
       "  element[0].appendChild(target);\n",
       "  element[0].appendChild(style);\n",
       "\n",
       "  vega.render(\"#\" + id, spec, type, opt, output_area);\n",
       "}, function (err) {\n",
       "  if (err.requireType !== \"scripterror\") {\n",
       "    throw(err);\n",
       "  }\n",
       "});\n"
      ],
      "text/plain": [
       "<vega.vegalite.VegaLite at 0x111c9e470>"
      ]
     },
     "metadata": {
      "jupyter-vega": "#ec2502b4-8096-4b77-9f08-a91ac2b24fa7"
     },
     "output_type": "display_data"
    },
    {
     "data": {
      "text/plain": []
     },
     "execution_count": 128,
     "metadata": {},
     "output_type": "execute_result"
    },
    {
     "data": {
      "image/png": "[encoded data removed]"
     },
     "metadata": {
      "jupyter-vega": "#ec2502b4-8096-4b77-9f08-a91ac2b24fa7"
     },
     "output_type": "display_data"
    }
   ],
   "source": [
    "# Visual look at the sentence lengths\n",
    "chart = alt.Chart(lengths, width=800, height=250).mark_bar(size=10)\n",
    "chart = chart.encode(x=alt.X('tokens:O', \n",
    "                             title='Number of Tokens in a Sentence', \n",
    "                             sort=alt.SortField(field='length', order='descending')), \n",
    "                     y=alt.Y('length', \n",
    "                             title='Number of Sentences'),\n",
    "                     color=alt.Color('length', title='Sentences'),\n",
    "                     tooltip='sents')\n",
    "chart = chart.properties(title='Count of Sentences by Number of Tokens').configure_title(fontSize=20)\n",
    "chart.interactive()"
   ]
  },
  {
   "cell_type": "markdown",
   "metadata": {},
   "source": [
    "<a id='section-1-2'></a>\n",
    "\n",
    "---\n",
    "<span class='bold'>Section</span> [Top](#section-1) &bull; [Bottom](#section-2) &bull; [1.0 Load Packages](#section-1) &bull; [1.1 Visual Inspection](#section-1-1) &bull; 1.2 Slimming Down &bull; [1.3 Subsampling](#section-1-3) &bull; [1.4 Encoding Tokens](#section-1-4)\n",
    "\n",
    "### <span class='phase-1'>1.2 Slimming Down</span> \n",
    "\n",
    "Next we preprocess the text to get rid of overly frequent words like stopwords. An example of stopwords are shown below. \n",
    "\n",
    "<img src='./images/stopwords.jpg' style='height: 15em; width: 15em;' />"
   ]
  },
  {
   "cell_type": "code",
   "execution_count": 145,
   "metadata": {},
   "outputs": [],
   "source": [
    "# Functions to help us slim down our text\n",
    "stopwords_ = stopwords.words('english')\n",
    "\n",
    "def is_stopword(token):\n",
    "    ''' Check if a specified token is a stopword. '''\n",
    "    try:\n",
    "        return token.lower() in stopwords_\n",
    "    except:\n",
    "        return False\n",
    "\n",
    "def is_valid_token(token):\n",
    "    ''' Check if token is valid, i.e., not a stopword or punctuation '''\n",
    "    try:\n",
    "        return token.isalnum() & ~is_stopword(token)\n",
    "    except:\n",
    "        return False\n",
    "\n",
    "def subsample(vocabulary, probs=PROBS, sample_rate=0.001):\n",
    "    ''' Return the indices of words to be excluded '''\n",
    "    p_keep = (np.sqrt(probs / sample_rate) + 1) * sample_rate / probs\n",
    "    p_keep[p_keep >= 1] = 1\n",
    "    return p_keep"
   ]
  },
  {
   "cell_type": "markdown",
   "metadata": {},
   "source": [
    "<a id='section-1-3'></a>\n",
    "\n",
    "---\n",
    "<span class='bold'>Section</span> [Top](#section-1) &bull; [Bottom](#section-2) &bull; [1.0 Load Packages](#section-1) &bull; [1.1 Visual Inspection](#section-1-1) &bull; [1.2 Slimming Down](#section-1-2) &bull; 1.3 Subsampling &bull; [1.4 Encoding Tokens](#section-1-4)\n",
    "\n",
    "<!--\n",
    "<img src=\"./images/subsample.png\" style='float: left; height: 10em; margin-left: 1em; margin-right: 2em; margin-top: 2em;'/>\n",
    "-->\n",
    "\n",
    "### <span class='phase-1'>1.3 Subsampling</span> \n",
    "\n",
    "Remove overly frequent words that may not contribute much to vector meanings. \n",
    "<br>\n",
    "<br>\n",
    "$e.g., probability_{keep}(word) < 75\\%$.\n",
    "<br>\n",
    "<br>\n",
    "<p class='attention banner'>For more detail on subsampling, see <a href=\"http://arxiv.org/pdf/1310.4546.pdf\" target='blank'>Mikolov, Sutskever, et al.</a> (2013).</p>"
   ]
  },
  {
   "cell_type": "code",
   "execution_count": 146,
   "metadata": {},
   "outputs": [
    {
     "name": "stdout",
     "output_type": "stream",
     "text": [
      "Number of sentences: 131\n"
     ]
    }
   ],
   "source": [
    "keep = subsample(WORDS)\n",
    "exclude = [word for word in WORDS[keep < 0.75]]\n",
    "\n",
    "# Apply exclude filter to sentences\n",
    "sents = [[word for word in sent if (word not in exclude) and is_valid_token(word)] for sent in sents]\n",
    "print(f'Number of sentences: {len(sents):,}')"
   ]
  },
  {
   "cell_type": "markdown",
   "metadata": {},
   "source": [
    "<a id='section-1-4'></a>\n",
    "\n",
    "---\n",
    "<span class='bold'>Section</span> [Top](#section-1) &bull; [Bottom](#section-2) &bull; [1.0 Load Packages](#section-1) &bull; [1.1 Visual Inspection](#section-1-1) &bull; [1.2 Slimming Down](#section-1-2) &bull; [1.3 Subsampling](#section-1-3) &bull; 1.4 Encoding Tokens\n",
    "\n",
    "<!--\n",
    "<img src=\"./images/matrix.png\" style=\"float: right; height: 7em; margin-top: 2em; margin-right: 5em;\" />\n",
    "-->\n",
    "\n",
    "### <span class='phase-1'>1.4 Encoding Tokens</span> \n",
    "\n",
    "The last step is to encode our language data from strings into integers so that it can be processed by our machines."
   ]
  },
  {
   "cell_type": "code",
   "execution_count": 147,
   "metadata": {},
   "outputs": [
    {
     "name": "stdout",
     "output_type": "stream",
     "text": [
      "CPU times: user 85 µs, sys: 2 µs, total: 87 µs\n",
      "Wall time: 93 µs\n"
     ]
    }
   ],
   "source": [
    "%%time\n",
    "data = (np.array([VOCAB[token] for token in sent]) for sent in sents)"
   ]
  },
  {
   "cell_type": "markdown",
   "metadata": {},
   "source": [
    "<p class='tip banner'>Preprocessing complete! Now on to the model. </p>\n",
    "\n",
    "<a id='phase-2'></a><a id='section-2'></a>\n",
    "\n",
    "---\n",
    "\n",
    "<span class='bold'>Section</span> [Top](#phase-1) &bull; [Bottom](#phase-3) &bull; 2.0 Word2Vec &bull; [2.1 From Scratch](#section-2-1) &bull; [2.2 Generate Input](#section-2-2) &bull; [2.3 Algorithm Architecture](#section-2-3) &bull; [2.4 Forward and Backward](#section-2-4) &bull; [2.5 Training](#section-2-5)\n",
    "\n",
    "# Background \n",
    "\n",
    "## <span class='phase-2'>2.0 Word2Vec</span> \n",
    "\n",
    "<img src=\"./images/splash_image_2.png\" style=\"float: right; height: 40%; width: 40%; margin-left: 2em;\" />\n",
    "\n",
    "<h3 class='phase-2'> Word2Vec—What is it?</h3>\n",
    "<p class='content'><span class='bold'>Word2Vec</span> is a method of representing words as numerical vectors. This representation allows us to improve model efficiency and endows words with numeric properties that capture semantic relationships in text like the image to the right.</p>\n",
    "<p class='content'>That means that we convert words built from characters to 'words' built from numbers.</p>\n",
    "    <p class='example'>$word \\Rightarrow [0.1,0.7,0.3,0.9,0.3]$</p>\n",
    "    <p class='example'>$bird \\Rightarrow [0.1,0.7,0.8,0.7,0.5]$</p>\n",
    "\n",
    "---\n",
    "\n",
    "<h3 class='phase-2'> What are its uses?</h3>\n",
    "<p class='content'>Because of <span class='bold'>Word2Vec</span>'s uncanny ability to capture hidden patterns in large corpora, <span class='bold'>Word2Vec</span> has many uses for information extraction from a large, unknown text. \n",
    "    Here's a short list of applications of <span class='bold'>Word2Vec</span> in documents:</p>\n",
    "\n",
    "  * Identifying emerging topics in large amounts of text\n",
    "  * Identifying entities and relationships\n",
    "  * Developing knowledge resources for other NLP work (e.g., semantic analyses)\n",
    " \n",
    "---\n",
    "<p class='warning banner'>Make this a list and include Elmo and Fasttext</p>\n",
    "<h3 class='phase-2'> Other Models</h3>\n",
    "<p class='content'><span class='bold'>Word2Vec</span> is not the only way to represent lexical items as numeric vectors. Other methods include <span class='bold'>Global Vectors for Word Representation (GloVe)</span> and <span class='bold'>Text Frequency - Inverse Document Frequency (TF-IDF)</span>.</p>\n"
   ]
  },
  {
   "cell_type": "markdown",
   "metadata": {},
   "source": [
    "<a id=\"section-2-1\"></a>\n",
    "\n",
    "---\n",
    "<span class='bold'>Section</span> [Top](#phase-2) &bull; [Bottom](#phase-3) &bull; [2.0 Word2Vec](#section-2) &bull; 2.1 From Scratch &bull; [2.2 Generate Input](#section-2-2) &bull; [2.3 Algorithm Architecture](#section-2-3) &bull; [2.4 Forward and Backward](#section-2-4) &bull; [2.5 Training](#section-2-5)\n",
    "<!--\n",
    "<img src='./images/from_scratch.jpg' style='height: 20em; float: right; padding-right: 3em;' />\n",
    "-->\n",
    "\n",
    "### <span class='phase-2'>2.1 From Scratch</span> \n",
    "\n",
    "For things example, we will create a Word2Vec language model using the data we preprocessed above. In this section, we will develop a **<a id=\"skip-gram\" style=\"text-decoration: none; cursor: help;\" title=\"Using the a token to predict its surroundings\">Skip-gram</a>** flavored Word2Vec model.\n",
    "\n",
    "We will:\n",
    "  * Create Skip-gram windows\n",
    "  * Create preliminary <a id='one-hot' style='text-decoration: none; cursor: help;' title='A vector that is comprised of zeros and ones indicating absence or presence of a value'>one-hot vectors</a>\n",
    "\n",
    "\n",
    "###### Parameters <a id='parameters'></a>\n",
    "First we define some hyperparameters that we use for training. \n",
    "\n",
    "<p class='attention banner'>For more information on setting parameters, see <a href='https://www.aclweb.org/anthology/D14-1162/'>Proceedings of the 2014 Conference on Empirical Methods in Natural Language Processing</a>.</p>"
   ]
  },
  {
   "cell_type": "code",
   "execution_count": 148,
   "metadata": {},
   "outputs": [],
   "source": [
    "parameters = {'window' : 3, 'dimensions' : 100, 'learning_rate' : 0.01, 'epochs' : 100}"
   ]
  },
  {
   "cell_type": "markdown",
   "metadata": {},
   "source": [
    "<a id=\"section-2-2\"></a>\n",
    "\n",
    "---\n",
    "<span class='bold'>Section</span> [Top](#phase-2) &bull; [Bottom](#phase-3) &bull; [2.0 Word2Vec](#section-2) &bull; [2.1 From Scratch](#section-2-1) &bull; 2.2 Generate Input &bull; [2.3 Algorithm Architecture](#section-2-3) &bull; [2.4 Forward and Backward](#section-2-4) &bull; [2.5 Training](#section-2-5)\n",
    "\n",
    "\n",
    "\n",
    "### <span class='phase-2'>2.2 Generate Input</span> \n",
    "\n",
    "We will generate loose <a id='one-hot' style='text-decoration: none; cursor: help;' title='A vector that is comprised of zeros and ones indicating absence or presence of a value'>one-hot vectors</a> that will serve as input and target data when training our model.\n",
    "\n",
    "First we filter our data to ensure we have sufficient data to window."
   ]
  },
  {
   "cell_type": "code",
   "execution_count": 149,
   "metadata": {},
   "outputs": [
    {
     "name": "stdout",
     "output_type": "stream",
     "text": [
      "Number of sentences in data: 95\n",
      "CPU times: user 1.24 ms, sys: 389 µs, total: 1.63 ms\n",
      "Wall time: 1.58 ms\n"
     ]
    }
   ],
   "source": [
    "%%time\n",
    "\n",
    "# Make sure data fits within window\n",
    "data = [sent for sent in data if sent.size >= parameters['window'] + 1]\n",
    "\n",
    "print(f'Number of sentences in data: {len(data)}')"
   ]
  },
  {
   "cell_type": "markdown",
   "metadata": {},
   "source": [
    "Now, we generate our one hot vectors using the `VOCAB` as a model for our vector.\n",
    "\n",
    "Let's define a few functions to help use generate these data."
   ]
  },
  {
   "cell_type": "code",
   "execution_count": 150,
   "metadata": {},
   "outputs": [],
   "source": [
    "Datum = namedtuple('Datum', 'target context'.split())\n",
    "\n",
    "def one_hot(token, size=WORDS.size):\n",
    "    ''' Convert an input token into an integer according to a specified reference '''\n",
    "    vector = np.zeros((1, size))\n",
    "    vector[0, token] = 1\n",
    "    return vector\n",
    "\n",
    "def generate_examples(data, examples=[], size=parameters['window']):\n",
    "    ''' Create a example data with the structure [(context, targets), ...] '''\n",
    "    sentences = tqdm(enumerate(data), desc='Generating examples', total=len(data))\n",
    "    \n",
    "    for i, sentence in sentences:\n",
    "        \n",
    "        for j, token in enumerate(sentence):\n",
    "            before = max(j - size, 0)\n",
    "            after = j + size\n",
    "            skip = j + 1\n",
    "\n",
    "            context = one_hot(sentence[j])\n",
    "            targets = np.append(sentence[before:j], sentence[skip:after])\n",
    "            \n",
    "            _targets = []\n",
    "        \n",
    "            for target in targets:\n",
    "                _targets.append(one_hot(target))\n",
    "                \n",
    "            examples.append((context, _targets))\n",
    "    \n",
    "    return examples"
   ]
  },
  {
   "cell_type": "markdown",
   "metadata": {},
   "source": [
    "\n",
    "Loop through all the sentences to generate `target` and `context` data for training.\n",
    "<p class='attention banner'>Processing time may vary </p>"
   ]
  },
  {
   "cell_type": "code",
   "execution_count": 151,
   "metadata": {},
   "outputs": [
    {
     "data": {
      "application/vnd.jupyter.widget-view+json": {
       "model_id": "ff8f9e0e51294240b1c4aab7bc639abd",
       "version_major": 2,
       "version_minor": 0
      },
      "text/plain": [
       "HBox(children=(FloatProgress(value=0.0, description='Generating examples', max=95.0, style=ProgressStyle(descr…"
      ]
     },
     "metadata": {},
     "output_type": "display_data"
    },
    {
     "name": "stdout",
     "output_type": "stream",
     "text": [
      "\n",
      "847 examples\n"
     ]
    }
   ],
   "source": [
    "examples = generate_examples(data)\n",
    "print(f'{len(examples)} examples')"
   ]
  },
  {
   "cell_type": "markdown",
   "metadata": {},
   "source": [
    "<a id='section-2-3'></a>\n",
    "\n",
    "---\n",
    "<span class='bold'>Section</span> [Top](#phase-2) &bull; [Bottom](#phase-3) &bull; [2.0 Word2Vec](#section-2) &bull; [2.1 From Scratch](#section-2-1) &bull; [2.2 Generate Input](#section-2-2) &bull; 2.3 Algorithm Architecture &bull; [2.4 Forward and Backward](#section-2-4) &bull; [2.5 Training](#section-2-5)\n",
    "\n",
    "\n",
    "### <span class='phase-2'>2.3 Algorithm Architecture</span> \n",
    "\n",
    "These matrices will serve as the layers that surround our `word2vec` layer during training.\n",
    "\n",
    "<img src='./images/architecture.png' style='height: 50%; width: 50%; margin-bottom; 2em;' />\n",
    "\n",
    "This cell defines the weight matrices used by the model."
   ]
  },
  {
   "cell_type": "code",
   "execution_count": 152,
   "metadata": {},
   "outputs": [
    {
     "name": "stdout",
     "output_type": "stream",
     "text": [
      "Dimensions\n",
      "Weights 1 (776, 100)\n",
      "Weights 2 (100, 776)\n"
     ]
    }
   ],
   "source": [
    "dimensions = parameters['dimensions']\n",
    "size = WORDS.size\n",
    "\n",
    "w1 = np.random.random((size, dimensions))\n",
    "w2 = np.random.random((dimensions, size))\n",
    "\n",
    "print(f'Dimensions\\nWeights 1 {w1.shape}\\nWeights 2 {w2.shape}')"
   ]
  },
  {
   "cell_type": "markdown",
   "metadata": {},
   "source": [
    "<a id='section-2-4'></a>\n",
    "\n",
    "---\n",
    "<span class='bold'>Section</span> [Top](#phase-2) &bull; [Bottom](#phase-3) &bull; [2.0 Word2Vec](#section-2) &bull; [2.1 From Scratch](#section-2-1) &bull; [2.2 Generate Input](#section-2-2) &bull; [2.3 Algorithm Architecture](#section-2-3) &bull; 2.4 Forward and Backward &bull; [2.5 Training](#section-2-5)\n",
    "\n",
    "### <span class='phase-2'>2.4 Forward and Backward</span> \n",
    "\n",
    "The first part of a two part algorithm defining a <a id='learning-step' style='text-decoration: none; cursor: help;' title='A phase where training data are learned and errors are adjusted throughout the model'>learning step</a>. This algorithm introduces our randomly initialized model to its first evidence of real data to learn from. It then predicts a surrounding vocabulary item from it."
   ]
  },
  {
   "cell_type": "code",
   "execution_count": 153,
   "metadata": {},
   "outputs": [],
   "source": [
    "def forward(context, targets, w1=w1, w2=w2):\n",
    "    ''' Return three matrices corresponding to the prediction, hidden layer, and output '''\n",
    "    hidden = context @ w1\n",
    "    output = hidden @ w2\n",
    "    prediction = softmax(output)\n",
    "    error = calculate_error(prediction, targets)\n",
    "    return prediction, error, output, hidden\n",
    "\n",
    "def backpropagate(error, hidden, context, w1=w1, w2=w2):\n",
    "    ''' Update weight matrices according to output from forward() '''\n",
    "    w2_delta = np.outer(hidden, error) * parameters['learning_rate']\n",
    "    hidden_error = error @ w2.T\n",
    "    w1_delta = np.outer(context, hidden_error) * parameters['learning_rate']\n",
    "    \n",
    "    w1 -= w1_delta\n",
    "    w2 -= w2_delta"
   ]
  },
  {
   "cell_type": "markdown",
   "metadata": {},
   "source": [
    "#### 2.4.1 Supporting Functions for Forward and Backpropagate <a id='section-2-4-1'></a>"
   ]
  },
  {
   "cell_type": "code",
   "execution_count": 154,
   "metadata": {},
   "outputs": [],
   "source": [
    "def softmax(output):\n",
    "    ''' Return the an array normalized to a probability '''\n",
    "    e = np.exp(output)\n",
    "    return e / e.sum()\n",
    "\n",
    "def calculate_error(prediction, targets):\n",
    "    ''' Return weights with the summed prediction error '''\n",
    "    error = [prediction - token for token in targets]\n",
    "    return np.sum(error, axis=0)"
   ]
  },
  {
   "cell_type": "markdown",
   "metadata": {},
   "source": [
    "<a id='section-2-5'></a>\n",
    "\n",
    "---\n",
    "<span class='bold'>Section</span> [Top](#phase-2) &bull; [Bottom](#phase-3) &bull; [2.0 Word2Vec](#section-2) &bull; [2.1 From Scratch](#section-2-1) &bull; [2.2 Generate Input](#section-2-2) &bull; [2.3 Algorithm Architecture](#section-2-3) &bull; [2.4 Forward and Backward](#section-2-4) &bull; 2.5 Training\n",
    "\n",
    "### <span class='phase-2'>2.5 Training</span> \n",
    "\n",
    "Having both the feed forward and backpropagation algorithms defined, we can now define a training algorithm to learn all training examples for a single <a id='epoch' style='text-decoration: none; cursor: help;' title='A complete cycle of learning steps through all training data'>epoch</a>."
   ]
  },
  {
   "cell_type": "code",
   "execution_count": 155,
   "metadata": {},
   "outputs": [],
   "source": [
    "def train(examples, w1=w1, w2=w2, parameters=parameters, total=WORDS.size):\n",
    "    ''' Train the Word2Vec model on our training data to generate meaningful word vectors '''\n",
    "    \n",
    "    epochs = trange(parameters['epochs'], desc=\"Training\")\n",
    "\n",
    "    for epoch in epochs:\n",
    "        data = tqdm(examples, desc=f'Epoch {epoch}', leave=False)\n",
    "\n",
    "        for context, targets in data:\n",
    "            prediction, error, output, hidden = forward(context, targets)\n",
    "            backpropagate(error, hidden, context)"
   ]
  },
  {
   "cell_type": "markdown",
   "metadata": {},
   "source": [
    "\n",
    "###### 2.5.1 Run Training <a id='section-2-5-1'></a>\n",
    "\n",
    "This cell loops through all our training data to demonstrate what happens in one training <a id='epoch' style='text-decoration: none; cursor: help;' title='A complete cycle of learning steps through all training data'>epoch</a>.\n",
    "\n",
    "<p class='attention banner'>Processing time may vary</p>"
   ]
  },
  {
   "cell_type": "code",
   "execution_count": 156,
   "metadata": {},
   "outputs": [
    {
     "data": {
      "application/vnd.jupyter.widget-view+json": {
       "model_id": "ffe41cd6491d440599c89cb8fe1cdfab",
       "version_major": 2,
       "version_minor": 0
      },
      "text/plain": [
       "HBox(children=(FloatProgress(value=0.0, description='Training', style=ProgressStyle(description_width='initial…"
      ]
     },
     "metadata": {},
     "output_type": "display_data"
    },
    {
     "data": {
      "application/vnd.jupyter.widget-view+json": {
       "model_id": "",
       "version_major": 2,
       "version_minor": 0
      },
      "text/plain": [
       "HBox(children=(FloatProgress(value=0.0, description='Epoch 0', max=847.0, style=ProgressStyle(description_widt…"
      ]
     },
     "metadata": {},
     "output_type": "display_data"
    },
    {
     "data": {
      "application/vnd.jupyter.widget-view+json": {
       "model_id": "",
       "version_major": 2,
       "version_minor": 0
      },
      "text/plain": [
       "HBox(children=(FloatProgress(value=0.0, description='Epoch 1', max=847.0, style=ProgressStyle(description_widt…"
      ]
     },
     "metadata": {},
     "output_type": "display_data"
    },
    {
     "data": {
      "application/vnd.jupyter.widget-view+json": {
       "model_id": "",
       "version_major": 2,
       "version_minor": 0
      },
      "text/plain": [
       "HBox(children=(FloatProgress(value=0.0, description='Epoch 2', max=847.0, style=ProgressStyle(description_widt…"
      ]
     },
     "metadata": {},
     "output_type": "display_data"
    },
    {
     "data": {
      "application/vnd.jupyter.widget-view+json": {
       "model_id": "",
       "version_major": 2,
       "version_minor": 0
      },
      "text/plain": [
       "HBox(children=(FloatProgress(value=0.0, description='Epoch 3', max=847.0, style=ProgressStyle(description_widt…"
      ]
     },
     "metadata": {},
     "output_type": "display_data"
    },
    {
     "data": {
      "application/vnd.jupyter.widget-view+json": {
       "model_id": "",
       "version_major": 2,
       "version_minor": 0
      },
      "text/plain": [
       "HBox(children=(FloatProgress(value=0.0, description='Epoch 4', max=847.0, style=ProgressStyle(description_widt…"
      ]
     },
     "metadata": {},
     "output_type": "display_data"
    },
    {
     "data": {
      "application/vnd.jupyter.widget-view+json": {
       "model_id": "",
       "version_major": 2,
       "version_minor": 0
      },
      "text/plain": [
       "HBox(children=(FloatProgress(value=0.0, description='Epoch 5', max=847.0, style=ProgressStyle(description_widt…"
      ]
     },
     "metadata": {},
     "output_type": "display_data"
    },
    {
     "data": {
      "application/vnd.jupyter.widget-view+json": {
       "model_id": "",
       "version_major": 2,
       "version_minor": 0
      },
      "text/plain": [
       "HBox(children=(FloatProgress(value=0.0, description='Epoch 6', max=847.0, style=ProgressStyle(description_widt…"
      ]
     },
     "metadata": {},
     "output_type": "display_data"
    },
    {
     "data": {
      "application/vnd.jupyter.widget-view+json": {
       "model_id": "",
       "version_major": 2,
       "version_minor": 0
      },
      "text/plain": [
       "HBox(children=(FloatProgress(value=0.0, description='Epoch 7', max=847.0, style=ProgressStyle(description_widt…"
      ]
     },
     "metadata": {},
     "output_type": "display_data"
    },
    {
     "data": {
      "application/vnd.jupyter.widget-view+json": {
       "model_id": "",
       "version_major": 2,
       "version_minor": 0
      },
      "text/plain": [
       "HBox(children=(FloatProgress(value=0.0, description='Epoch 8', max=847.0, style=ProgressStyle(description_widt…"
      ]
     },
     "metadata": {},
     "output_type": "display_data"
    },
    {
     "data": {
      "application/vnd.jupyter.widget-view+json": {
       "model_id": "",
       "version_major": 2,
       "version_minor": 0
      },
      "text/plain": [
       "HBox(children=(FloatProgress(value=0.0, description='Epoch 9', max=847.0, style=ProgressStyle(description_widt…"
      ]
     },
     "metadata": {},
     "output_type": "display_data"
    },
    {
     "data": {
      "application/vnd.jupyter.widget-view+json": {
       "model_id": "",
       "version_major": 2,
       "version_minor": 0
      },
      "text/plain": [
       "HBox(children=(FloatProgress(value=0.0, description='Epoch 10', max=847.0, style=ProgressStyle(description_wid…"
      ]
     },
     "metadata": {},
     "output_type": "display_data"
    },
    {
     "data": {
      "application/vnd.jupyter.widget-view+json": {
       "model_id": "",
       "version_major": 2,
       "version_minor": 0
      },
      "text/plain": [
       "HBox(children=(FloatProgress(value=0.0, description='Epoch 11', max=847.0, style=ProgressStyle(description_wid…"
      ]
     },
     "metadata": {},
     "output_type": "display_data"
    },
    {
     "data": {
      "application/vnd.jupyter.widget-view+json": {
       "model_id": "",
       "version_major": 2,
       "version_minor": 0
      },
      "text/plain": [
       "HBox(children=(FloatProgress(value=0.0, description='Epoch 12', max=847.0, style=ProgressStyle(description_wid…"
      ]
     },
     "metadata": {},
     "output_type": "display_data"
    },
    {
     "data": {
      "application/vnd.jupyter.widget-view+json": {
       "model_id": "",
       "version_major": 2,
       "version_minor": 0
      },
      "text/plain": [
       "HBox(children=(FloatProgress(value=0.0, description='Epoch 13', max=847.0, style=ProgressStyle(description_wid…"
      ]
     },
     "metadata": {},
     "output_type": "display_data"
    },
    {
     "data": {
      "application/vnd.jupyter.widget-view+json": {
       "model_id": "",
       "version_major": 2,
       "version_minor": 0
      },
      "text/plain": [
       "HBox(children=(FloatProgress(value=0.0, description='Epoch 14', max=847.0, style=ProgressStyle(description_wid…"
      ]
     },
     "metadata": {},
     "output_type": "display_data"
    },
    {
     "data": {
      "application/vnd.jupyter.widget-view+json": {
       "model_id": "",
       "version_major": 2,
       "version_minor": 0
      },
      "text/plain": [
       "HBox(children=(FloatProgress(value=0.0, description='Epoch 15', max=847.0, style=ProgressStyle(description_wid…"
      ]
     },
     "metadata": {},
     "output_type": "display_data"
    },
    {
     "data": {
      "application/vnd.jupyter.widget-view+json": {
       "model_id": "",
       "version_major": 2,
       "version_minor": 0
      },
      "text/plain": [
       "HBox(children=(FloatProgress(value=0.0, description='Epoch 16', max=847.0, style=ProgressStyle(description_wid…"
      ]
     },
     "metadata": {},
     "output_type": "display_data"
    },
    {
     "data": {
      "application/vnd.jupyter.widget-view+json": {
       "model_id": "",
       "version_major": 2,
       "version_minor": 0
      },
      "text/plain": [
       "HBox(children=(FloatProgress(value=0.0, description='Epoch 17', max=847.0, style=ProgressStyle(description_wid…"
      ]
     },
     "metadata": {},
     "output_type": "display_data"
    },
    {
     "data": {
      "application/vnd.jupyter.widget-view+json": {
       "model_id": "",
       "version_major": 2,
       "version_minor": 0
      },
      "text/plain": [
       "HBox(children=(FloatProgress(value=0.0, description='Epoch 18', max=847.0, style=ProgressStyle(description_wid…"
      ]
     },
     "metadata": {},
     "output_type": "display_data"
    },
    {
     "data": {
      "application/vnd.jupyter.widget-view+json": {
       "model_id": "",
       "version_major": 2,
       "version_minor": 0
      },
      "text/plain": [
       "HBox(children=(FloatProgress(value=0.0, description='Epoch 19', max=847.0, style=ProgressStyle(description_wid…"
      ]
     },
     "metadata": {},
     "output_type": "display_data"
    },
    {
     "data": {
      "application/vnd.jupyter.widget-view+json": {
       "model_id": "",
       "version_major": 2,
       "version_minor": 0
      },
      "text/plain": [
       "HBox(children=(FloatProgress(value=0.0, description='Epoch 20', max=847.0, style=ProgressStyle(description_wid…"
      ]
     },
     "metadata": {},
     "output_type": "display_data"
    },
    {
     "data": {
      "application/vnd.jupyter.widget-view+json": {
       "model_id": "",
       "version_major": 2,
       "version_minor": 0
      },
      "text/plain": [
       "HBox(children=(FloatProgress(value=0.0, description='Epoch 21', max=847.0, style=ProgressStyle(description_wid…"
      ]
     },
     "metadata": {},
     "output_type": "display_data"
    },
    {
     "data": {
      "application/vnd.jupyter.widget-view+json": {
       "model_id": "",
       "version_major": 2,
       "version_minor": 0
      },
      "text/plain": [
       "HBox(children=(FloatProgress(value=0.0, description='Epoch 22', max=847.0, style=ProgressStyle(description_wid…"
      ]
     },
     "metadata": {},
     "output_type": "display_data"
    },
    {
     "data": {
      "application/vnd.jupyter.widget-view+json": {
       "model_id": "",
       "version_major": 2,
       "version_minor": 0
      },
      "text/plain": [
       "HBox(children=(FloatProgress(value=0.0, description='Epoch 23', max=847.0, style=ProgressStyle(description_wid…"
      ]
     },
     "metadata": {},
     "output_type": "display_data"
    },
    {
     "data": {
      "application/vnd.jupyter.widget-view+json": {
       "model_id": "",
       "version_major": 2,
       "version_minor": 0
      },
      "text/plain": [
       "HBox(children=(FloatProgress(value=0.0, description='Epoch 24', max=847.0, style=ProgressStyle(description_wid…"
      ]
     },
     "metadata": {},
     "output_type": "display_data"
    },
    {
     "data": {
      "application/vnd.jupyter.widget-view+json": {
       "model_id": "",
       "version_major": 2,
       "version_minor": 0
      },
      "text/plain": [
       "HBox(children=(FloatProgress(value=0.0, description='Epoch 25', max=847.0, style=ProgressStyle(description_wid…"
      ]
     },
     "metadata": {},
     "output_type": "display_data"
    },
    {
     "data": {
      "application/vnd.jupyter.widget-view+json": {
       "model_id": "",
       "version_major": 2,
       "version_minor": 0
      },
      "text/plain": [
       "HBox(children=(FloatProgress(value=0.0, description='Epoch 26', max=847.0, style=ProgressStyle(description_wid…"
      ]
     },
     "metadata": {},
     "output_type": "display_data"
    },
    {
     "data": {
      "application/vnd.jupyter.widget-view+json": {
       "model_id": "",
       "version_major": 2,
       "version_minor": 0
      },
      "text/plain": [
       "HBox(children=(FloatProgress(value=0.0, description='Epoch 27', max=847.0, style=ProgressStyle(description_wid…"
      ]
     },
     "metadata": {},
     "output_type": "display_data"
    },
    {
     "data": {
      "application/vnd.jupyter.widget-view+json": {
       "model_id": "",
       "version_major": 2,
       "version_minor": 0
      },
      "text/plain": [
       "HBox(children=(FloatProgress(value=0.0, description='Epoch 28', max=847.0, style=ProgressStyle(description_wid…"
      ]
     },
     "metadata": {},
     "output_type": "display_data"
    },
    {
     "data": {
      "application/vnd.jupyter.widget-view+json": {
       "model_id": "",
       "version_major": 2,
       "version_minor": 0
      },
      "text/plain": [
       "HBox(children=(FloatProgress(value=0.0, description='Epoch 29', max=847.0, style=ProgressStyle(description_wid…"
      ]
     },
     "metadata": {},
     "output_type": "display_data"
    },
    {
     "data": {
      "application/vnd.jupyter.widget-view+json": {
       "model_id": "",
       "version_major": 2,
       "version_minor": 0
      },
      "text/plain": [
       "HBox(children=(FloatProgress(value=0.0, description='Epoch 30', max=847.0, style=ProgressStyle(description_wid…"
      ]
     },
     "metadata": {},
     "output_type": "display_data"
    },
    {
     "data": {
      "application/vnd.jupyter.widget-view+json": {
       "model_id": "",
       "version_major": 2,
       "version_minor": 0
      },
      "text/plain": [
       "HBox(children=(FloatProgress(value=0.0, description='Epoch 31', max=847.0, style=ProgressStyle(description_wid…"
      ]
     },
     "metadata": {},
     "output_type": "display_data"
    },
    {
     "data": {
      "application/vnd.jupyter.widget-view+json": {
       "model_id": "",
       "version_major": 2,
       "version_minor": 0
      },
      "text/plain": [
       "HBox(children=(FloatProgress(value=0.0, description='Epoch 32', max=847.0, style=ProgressStyle(description_wid…"
      ]
     },
     "metadata": {},
     "output_type": "display_data"
    },
    {
     "data": {
      "application/vnd.jupyter.widget-view+json": {
       "model_id": "",
       "version_major": 2,
       "version_minor": 0
      },
      "text/plain": [
       "HBox(children=(FloatProgress(value=0.0, description='Epoch 33', max=847.0, style=ProgressStyle(description_wid…"
      ]
     },
     "metadata": {},
     "output_type": "display_data"
    },
    {
     "data": {
      "application/vnd.jupyter.widget-view+json": {
       "model_id": "",
       "version_major": 2,
       "version_minor": 0
      },
      "text/plain": [
       "HBox(children=(FloatProgress(value=0.0, description='Epoch 34', max=847.0, style=ProgressStyle(description_wid…"
      ]
     },
     "metadata": {},
     "output_type": "display_data"
    },
    {
     "data": {
      "application/vnd.jupyter.widget-view+json": {
       "model_id": "",
       "version_major": 2,
       "version_minor": 0
      },
      "text/plain": [
       "HBox(children=(FloatProgress(value=0.0, description='Epoch 35', max=847.0, style=ProgressStyle(description_wid…"
      ]
     },
     "metadata": {},
     "output_type": "display_data"
    },
    {
     "data": {
      "application/vnd.jupyter.widget-view+json": {
       "model_id": "",
       "version_major": 2,
       "version_minor": 0
      },
      "text/plain": [
       "HBox(children=(FloatProgress(value=0.0, description='Epoch 36', max=847.0, style=ProgressStyle(description_wid…"
      ]
     },
     "metadata": {},
     "output_type": "display_data"
    },
    {
     "data": {
      "application/vnd.jupyter.widget-view+json": {
       "model_id": "",
       "version_major": 2,
       "version_minor": 0
      },
      "text/plain": [
       "HBox(children=(FloatProgress(value=0.0, description='Epoch 37', max=847.0, style=ProgressStyle(description_wid…"
      ]
     },
     "metadata": {},
     "output_type": "display_data"
    },
    {
     "data": {
      "application/vnd.jupyter.widget-view+json": {
       "model_id": "",
       "version_major": 2,
       "version_minor": 0
      },
      "text/plain": [
       "HBox(children=(FloatProgress(value=0.0, description='Epoch 38', max=847.0, style=ProgressStyle(description_wid…"
      ]
     },
     "metadata": {},
     "output_type": "display_data"
    },
    {
     "data": {
      "application/vnd.jupyter.widget-view+json": {
       "model_id": "",
       "version_major": 2,
       "version_minor": 0
      },
      "text/plain": [
       "HBox(children=(FloatProgress(value=0.0, description='Epoch 39', max=847.0, style=ProgressStyle(description_wid…"
      ]
     },
     "metadata": {},
     "output_type": "display_data"
    },
    {
     "data": {
      "application/vnd.jupyter.widget-view+json": {
       "model_id": "",
       "version_major": 2,
       "version_minor": 0
      },
      "text/plain": [
       "HBox(children=(FloatProgress(value=0.0, description='Epoch 40', max=847.0, style=ProgressStyle(description_wid…"
      ]
     },
     "metadata": {},
     "output_type": "display_data"
    },
    {
     "data": {
      "application/vnd.jupyter.widget-view+json": {
       "model_id": "",
       "version_major": 2,
       "version_minor": 0
      },
      "text/plain": [
       "HBox(children=(FloatProgress(value=0.0, description='Epoch 41', max=847.0, style=ProgressStyle(description_wid…"
      ]
     },
     "metadata": {},
     "output_type": "display_data"
    },
    {
     "data": {
      "application/vnd.jupyter.widget-view+json": {
       "model_id": "",
       "version_major": 2,
       "version_minor": 0
      },
      "text/plain": [
       "HBox(children=(FloatProgress(value=0.0, description='Epoch 42', max=847.0, style=ProgressStyle(description_wid…"
      ]
     },
     "metadata": {},
     "output_type": "display_data"
    },
    {
     "data": {
      "application/vnd.jupyter.widget-view+json": {
       "model_id": "",
       "version_major": 2,
       "version_minor": 0
      },
      "text/plain": [
       "HBox(children=(FloatProgress(value=0.0, description='Epoch 43', max=847.0, style=ProgressStyle(description_wid…"
      ]
     },
     "metadata": {},
     "output_type": "display_data"
    },
    {
     "data": {
      "application/vnd.jupyter.widget-view+json": {
       "model_id": "",
       "version_major": 2,
       "version_minor": 0
      },
      "text/plain": [
       "HBox(children=(FloatProgress(value=0.0, description='Epoch 44', max=847.0, style=ProgressStyle(description_wid…"
      ]
     },
     "metadata": {},
     "output_type": "display_data"
    },
    {
     "data": {
      "application/vnd.jupyter.widget-view+json": {
       "model_id": "",
       "version_major": 2,
       "version_minor": 0
      },
      "text/plain": [
       "HBox(children=(FloatProgress(value=0.0, description='Epoch 45', max=847.0, style=ProgressStyle(description_wid…"
      ]
     },
     "metadata": {},
     "output_type": "display_data"
    },
    {
     "data": {
      "application/vnd.jupyter.widget-view+json": {
       "model_id": "",
       "version_major": 2,
       "version_minor": 0
      },
      "text/plain": [
       "HBox(children=(FloatProgress(value=0.0, description='Epoch 46', max=847.0, style=ProgressStyle(description_wid…"
      ]
     },
     "metadata": {},
     "output_type": "display_data"
    },
    {
     "data": {
      "application/vnd.jupyter.widget-view+json": {
       "model_id": "",
       "version_major": 2,
       "version_minor": 0
      },
      "text/plain": [
       "HBox(children=(FloatProgress(value=0.0, description='Epoch 47', max=847.0, style=ProgressStyle(description_wid…"
      ]
     },
     "metadata": {},
     "output_type": "display_data"
    },
    {
     "data": {
      "application/vnd.jupyter.widget-view+json": {
       "model_id": "",
       "version_major": 2,
       "version_minor": 0
      },
      "text/plain": [
       "HBox(children=(FloatProgress(value=0.0, description='Epoch 48', max=847.0, style=ProgressStyle(description_wid…"
      ]
     },
     "metadata": {},
     "output_type": "display_data"
    },
    {
     "data": {
      "application/vnd.jupyter.widget-view+json": {
       "model_id": "",
       "version_major": 2,
       "version_minor": 0
      },
      "text/plain": [
       "HBox(children=(FloatProgress(value=0.0, description='Epoch 49', max=847.0, style=ProgressStyle(description_wid…"
      ]
     },
     "metadata": {},
     "output_type": "display_data"
    },
    {
     "data": {
      "application/vnd.jupyter.widget-view+json": {
       "model_id": "",
       "version_major": 2,
       "version_minor": 0
      },
      "text/plain": [
       "HBox(children=(FloatProgress(value=0.0, description='Epoch 50', max=847.0, style=ProgressStyle(description_wid…"
      ]
     },
     "metadata": {},
     "output_type": "display_data"
    },
    {
     "data": {
      "application/vnd.jupyter.widget-view+json": {
       "model_id": "",
       "version_major": 2,
       "version_minor": 0
      },
      "text/plain": [
       "HBox(children=(FloatProgress(value=0.0, description='Epoch 51', max=847.0, style=ProgressStyle(description_wid…"
      ]
     },
     "metadata": {},
     "output_type": "display_data"
    },
    {
     "data": {
      "application/vnd.jupyter.widget-view+json": {
       "model_id": "",
       "version_major": 2,
       "version_minor": 0
      },
      "text/plain": [
       "HBox(children=(FloatProgress(value=0.0, description='Epoch 52', max=847.0, style=ProgressStyle(description_wid…"
      ]
     },
     "metadata": {},
     "output_type": "display_data"
    },
    {
     "data": {
      "application/vnd.jupyter.widget-view+json": {
       "model_id": "",
       "version_major": 2,
       "version_minor": 0
      },
      "text/plain": [
       "HBox(children=(FloatProgress(value=0.0, description='Epoch 53', max=847.0, style=ProgressStyle(description_wid…"
      ]
     },
     "metadata": {},
     "output_type": "display_data"
    },
    {
     "data": {
      "application/vnd.jupyter.widget-view+json": {
       "model_id": "",
       "version_major": 2,
       "version_minor": 0
      },
      "text/plain": [
       "HBox(children=(FloatProgress(value=0.0, description='Epoch 54', max=847.0, style=ProgressStyle(description_wid…"
      ]
     },
     "metadata": {},
     "output_type": "display_data"
    },
    {
     "data": {
      "application/vnd.jupyter.widget-view+json": {
       "model_id": "",
       "version_major": 2,
       "version_minor": 0
      },
      "text/plain": [
       "HBox(children=(FloatProgress(value=0.0, description='Epoch 55', max=847.0, style=ProgressStyle(description_wid…"
      ]
     },
     "metadata": {},
     "output_type": "display_data"
    },
    {
     "data": {
      "application/vnd.jupyter.widget-view+json": {
       "model_id": "",
       "version_major": 2,
       "version_minor": 0
      },
      "text/plain": [
       "HBox(children=(FloatProgress(value=0.0, description='Epoch 56', max=847.0, style=ProgressStyle(description_wid…"
      ]
     },
     "metadata": {},
     "output_type": "display_data"
    },
    {
     "data": {
      "application/vnd.jupyter.widget-view+json": {
       "model_id": "",
       "version_major": 2,
       "version_minor": 0
      },
      "text/plain": [
       "HBox(children=(FloatProgress(value=0.0, description='Epoch 57', max=847.0, style=ProgressStyle(description_wid…"
      ]
     },
     "metadata": {},
     "output_type": "display_data"
    },
    {
     "data": {
      "application/vnd.jupyter.widget-view+json": {
       "model_id": "",
       "version_major": 2,
       "version_minor": 0
      },
      "text/plain": [
       "HBox(children=(FloatProgress(value=0.0, description='Epoch 58', max=847.0, style=ProgressStyle(description_wid…"
      ]
     },
     "metadata": {},
     "output_type": "display_data"
    },
    {
     "data": {
      "application/vnd.jupyter.widget-view+json": {
       "model_id": "",
       "version_major": 2,
       "version_minor": 0
      },
      "text/plain": [
       "HBox(children=(FloatProgress(value=0.0, description='Epoch 59', max=847.0, style=ProgressStyle(description_wid…"
      ]
     },
     "metadata": {},
     "output_type": "display_data"
    },
    {
     "data": {
      "application/vnd.jupyter.widget-view+json": {
       "model_id": "",
       "version_major": 2,
       "version_minor": 0
      },
      "text/plain": [
       "HBox(children=(FloatProgress(value=0.0, description='Epoch 60', max=847.0, style=ProgressStyle(description_wid…"
      ]
     },
     "metadata": {},
     "output_type": "display_data"
    },
    {
     "data": {
      "application/vnd.jupyter.widget-view+json": {
       "model_id": "",
       "version_major": 2,
       "version_minor": 0
      },
      "text/plain": [
       "HBox(children=(FloatProgress(value=0.0, description='Epoch 61', max=847.0, style=ProgressStyle(description_wid…"
      ]
     },
     "metadata": {},
     "output_type": "display_data"
    },
    {
     "data": {
      "application/vnd.jupyter.widget-view+json": {
       "model_id": "",
       "version_major": 2,
       "version_minor": 0
      },
      "text/plain": [
       "HBox(children=(FloatProgress(value=0.0, description='Epoch 62', max=847.0, style=ProgressStyle(description_wid…"
      ]
     },
     "metadata": {},
     "output_type": "display_data"
    },
    {
     "data": {
      "application/vnd.jupyter.widget-view+json": {
       "model_id": "",
       "version_major": 2,
       "version_minor": 0
      },
      "text/plain": [
       "HBox(children=(FloatProgress(value=0.0, description='Epoch 63', max=847.0, style=ProgressStyle(description_wid…"
      ]
     },
     "metadata": {},
     "output_type": "display_data"
    },
    {
     "data": {
      "application/vnd.jupyter.widget-view+json": {
       "model_id": "",
       "version_major": 2,
       "version_minor": 0
      },
      "text/plain": [
       "HBox(children=(FloatProgress(value=0.0, description='Epoch 64', max=847.0, style=ProgressStyle(description_wid…"
      ]
     },
     "metadata": {},
     "output_type": "display_data"
    },
    {
     "data": {
      "application/vnd.jupyter.widget-view+json": {
       "model_id": "",
       "version_major": 2,
       "version_minor": 0
      },
      "text/plain": [
       "HBox(children=(FloatProgress(value=0.0, description='Epoch 65', max=847.0, style=ProgressStyle(description_wid…"
      ]
     },
     "metadata": {},
     "output_type": "display_data"
    },
    {
     "data": {
      "application/vnd.jupyter.widget-view+json": {
       "model_id": "",
       "version_major": 2,
       "version_minor": 0
      },
      "text/plain": [
       "HBox(children=(FloatProgress(value=0.0, description='Epoch 66', max=847.0, style=ProgressStyle(description_wid…"
      ]
     },
     "metadata": {},
     "output_type": "display_data"
    },
    {
     "data": {
      "application/vnd.jupyter.widget-view+json": {
       "model_id": "",
       "version_major": 2,
       "version_minor": 0
      },
      "text/plain": [
       "HBox(children=(FloatProgress(value=0.0, description='Epoch 67', max=847.0, style=ProgressStyle(description_wid…"
      ]
     },
     "metadata": {},
     "output_type": "display_data"
    },
    {
     "data": {
      "application/vnd.jupyter.widget-view+json": {
       "model_id": "",
       "version_major": 2,
       "version_minor": 0
      },
      "text/plain": [
       "HBox(children=(FloatProgress(value=0.0, description='Epoch 68', max=847.0, style=ProgressStyle(description_wid…"
      ]
     },
     "metadata": {},
     "output_type": "display_data"
    },
    {
     "data": {
      "application/vnd.jupyter.widget-view+json": {
       "model_id": "",
       "version_major": 2,
       "version_minor": 0
      },
      "text/plain": [
       "HBox(children=(FloatProgress(value=0.0, description='Epoch 69', max=847.0, style=ProgressStyle(description_wid…"
      ]
     },
     "metadata": {},
     "output_type": "display_data"
    },
    {
     "data": {
      "application/vnd.jupyter.widget-view+json": {
       "model_id": "",
       "version_major": 2,
       "version_minor": 0
      },
      "text/plain": [
       "HBox(children=(FloatProgress(value=0.0, description='Epoch 70', max=847.0, style=ProgressStyle(description_wid…"
      ]
     },
     "metadata": {},
     "output_type": "display_data"
    },
    {
     "data": {
      "application/vnd.jupyter.widget-view+json": {
       "model_id": "",
       "version_major": 2,
       "version_minor": 0
      },
      "text/plain": [
       "HBox(children=(FloatProgress(value=0.0, description='Epoch 71', max=847.0, style=ProgressStyle(description_wid…"
      ]
     },
     "metadata": {},
     "output_type": "display_data"
    },
    {
     "data": {
      "application/vnd.jupyter.widget-view+json": {
       "model_id": "",
       "version_major": 2,
       "version_minor": 0
      },
      "text/plain": [
       "HBox(children=(FloatProgress(value=0.0, description='Epoch 72', max=847.0, style=ProgressStyle(description_wid…"
      ]
     },
     "metadata": {},
     "output_type": "display_data"
    },
    {
     "data": {
      "application/vnd.jupyter.widget-view+json": {
       "model_id": "",
       "version_major": 2,
       "version_minor": 0
      },
      "text/plain": [
       "HBox(children=(FloatProgress(value=0.0, description='Epoch 73', max=847.0, style=ProgressStyle(description_wid…"
      ]
     },
     "metadata": {},
     "output_type": "display_data"
    },
    {
     "data": {
      "application/vnd.jupyter.widget-view+json": {
       "model_id": "",
       "version_major": 2,
       "version_minor": 0
      },
      "text/plain": [
       "HBox(children=(FloatProgress(value=0.0, description='Epoch 74', max=847.0, style=ProgressStyle(description_wid…"
      ]
     },
     "metadata": {},
     "output_type": "display_data"
    },
    {
     "data": {
      "application/vnd.jupyter.widget-view+json": {
       "model_id": "",
       "version_major": 2,
       "version_minor": 0
      },
      "text/plain": [
       "HBox(children=(FloatProgress(value=0.0, description='Epoch 75', max=847.0, style=ProgressStyle(description_wid…"
      ]
     },
     "metadata": {},
     "output_type": "display_data"
    },
    {
     "data": {
      "application/vnd.jupyter.widget-view+json": {
       "model_id": "",
       "version_major": 2,
       "version_minor": 0
      },
      "text/plain": [
       "HBox(children=(FloatProgress(value=0.0, description='Epoch 76', max=847.0, style=ProgressStyle(description_wid…"
      ]
     },
     "metadata": {},
     "output_type": "display_data"
    },
    {
     "data": {
      "application/vnd.jupyter.widget-view+json": {
       "model_id": "",
       "version_major": 2,
       "version_minor": 0
      },
      "text/plain": [
       "HBox(children=(FloatProgress(value=0.0, description='Epoch 77', max=847.0, style=ProgressStyle(description_wid…"
      ]
     },
     "metadata": {},
     "output_type": "display_data"
    },
    {
     "data": {
      "application/vnd.jupyter.widget-view+json": {
       "model_id": "",
       "version_major": 2,
       "version_minor": 0
      },
      "text/plain": [
       "HBox(children=(FloatProgress(value=0.0, description='Epoch 78', max=847.0, style=ProgressStyle(description_wid…"
      ]
     },
     "metadata": {},
     "output_type": "display_data"
    },
    {
     "data": {
      "application/vnd.jupyter.widget-view+json": {
       "model_id": "",
       "version_major": 2,
       "version_minor": 0
      },
      "text/plain": [
       "HBox(children=(FloatProgress(value=0.0, description='Epoch 79', max=847.0, style=ProgressStyle(description_wid…"
      ]
     },
     "metadata": {},
     "output_type": "display_data"
    },
    {
     "data": {
      "application/vnd.jupyter.widget-view+json": {
       "model_id": "",
       "version_major": 2,
       "version_minor": 0
      },
      "text/plain": [
       "HBox(children=(FloatProgress(value=0.0, description='Epoch 80', max=847.0, style=ProgressStyle(description_wid…"
      ]
     },
     "metadata": {},
     "output_type": "display_data"
    },
    {
     "data": {
      "application/vnd.jupyter.widget-view+json": {
       "model_id": "",
       "version_major": 2,
       "version_minor": 0
      },
      "text/plain": [
       "HBox(children=(FloatProgress(value=0.0, description='Epoch 81', max=847.0, style=ProgressStyle(description_wid…"
      ]
     },
     "metadata": {},
     "output_type": "display_data"
    },
    {
     "data": {
      "application/vnd.jupyter.widget-view+json": {
       "model_id": "",
       "version_major": 2,
       "version_minor": 0
      },
      "text/plain": [
       "HBox(children=(FloatProgress(value=0.0, description='Epoch 82', max=847.0, style=ProgressStyle(description_wid…"
      ]
     },
     "metadata": {},
     "output_type": "display_data"
    },
    {
     "data": {
      "application/vnd.jupyter.widget-view+json": {
       "model_id": "",
       "version_major": 2,
       "version_minor": 0
      },
      "text/plain": [
       "HBox(children=(FloatProgress(value=0.0, description='Epoch 83', max=847.0, style=ProgressStyle(description_wid…"
      ]
     },
     "metadata": {},
     "output_type": "display_data"
    },
    {
     "data": {
      "application/vnd.jupyter.widget-view+json": {
       "model_id": "",
       "version_major": 2,
       "version_minor": 0
      },
      "text/plain": [
       "HBox(children=(FloatProgress(value=0.0, description='Epoch 84', max=847.0, style=ProgressStyle(description_wid…"
      ]
     },
     "metadata": {},
     "output_type": "display_data"
    },
    {
     "data": {
      "application/vnd.jupyter.widget-view+json": {
       "model_id": "",
       "version_major": 2,
       "version_minor": 0
      },
      "text/plain": [
       "HBox(children=(FloatProgress(value=0.0, description='Epoch 85', max=847.0, style=ProgressStyle(description_wid…"
      ]
     },
     "metadata": {},
     "output_type": "display_data"
    },
    {
     "data": {
      "application/vnd.jupyter.widget-view+json": {
       "model_id": "",
       "version_major": 2,
       "version_minor": 0
      },
      "text/plain": [
       "HBox(children=(FloatProgress(value=0.0, description='Epoch 86', max=847.0, style=ProgressStyle(description_wid…"
      ]
     },
     "metadata": {},
     "output_type": "display_data"
    },
    {
     "data": {
      "application/vnd.jupyter.widget-view+json": {
       "model_id": "",
       "version_major": 2,
       "version_minor": 0
      },
      "text/plain": [
       "HBox(children=(FloatProgress(value=0.0, description='Epoch 87', max=847.0, style=ProgressStyle(description_wid…"
      ]
     },
     "metadata": {},
     "output_type": "display_data"
    },
    {
     "data": {
      "application/vnd.jupyter.widget-view+json": {
       "model_id": "",
       "version_major": 2,
       "version_minor": 0
      },
      "text/plain": [
       "HBox(children=(FloatProgress(value=0.0, description='Epoch 88', max=847.0, style=ProgressStyle(description_wid…"
      ]
     },
     "metadata": {},
     "output_type": "display_data"
    },
    {
     "data": {
      "application/vnd.jupyter.widget-view+json": {
       "model_id": "",
       "version_major": 2,
       "version_minor": 0
      },
      "text/plain": [
       "HBox(children=(FloatProgress(value=0.0, description='Epoch 89', max=847.0, style=ProgressStyle(description_wid…"
      ]
     },
     "metadata": {},
     "output_type": "display_data"
    },
    {
     "data": {
      "application/vnd.jupyter.widget-view+json": {
       "model_id": "",
       "version_major": 2,
       "version_minor": 0
      },
      "text/plain": [
       "HBox(children=(FloatProgress(value=0.0, description='Epoch 90', max=847.0, style=ProgressStyle(description_wid…"
      ]
     },
     "metadata": {},
     "output_type": "display_data"
    },
    {
     "data": {
      "application/vnd.jupyter.widget-view+json": {
       "model_id": "",
       "version_major": 2,
       "version_minor": 0
      },
      "text/plain": [
       "HBox(children=(FloatProgress(value=0.0, description='Epoch 91', max=847.0, style=ProgressStyle(description_wid…"
      ]
     },
     "metadata": {},
     "output_type": "display_data"
    },
    {
     "data": {
      "application/vnd.jupyter.widget-view+json": {
       "model_id": "",
       "version_major": 2,
       "version_minor": 0
      },
      "text/plain": [
       "HBox(children=(FloatProgress(value=0.0, description='Epoch 92', max=847.0, style=ProgressStyle(description_wid…"
      ]
     },
     "metadata": {},
     "output_type": "display_data"
    },
    {
     "data": {
      "application/vnd.jupyter.widget-view+json": {
       "model_id": "",
       "version_major": 2,
       "version_minor": 0
      },
      "text/plain": [
       "HBox(children=(FloatProgress(value=0.0, description='Epoch 93', max=847.0, style=ProgressStyle(description_wid…"
      ]
     },
     "metadata": {},
     "output_type": "display_data"
    },
    {
     "data": {
      "application/vnd.jupyter.widget-view+json": {
       "model_id": "",
       "version_major": 2,
       "version_minor": 0
      },
      "text/plain": [
       "HBox(children=(FloatProgress(value=0.0, description='Epoch 94', max=847.0, style=ProgressStyle(description_wid…"
      ]
     },
     "metadata": {},
     "output_type": "display_data"
    },
    {
     "data": {
      "application/vnd.jupyter.widget-view+json": {
       "model_id": "",
       "version_major": 2,
       "version_minor": 0
      },
      "text/plain": [
       "HBox(children=(FloatProgress(value=0.0, description='Epoch 95', max=847.0, style=ProgressStyle(description_wid…"
      ]
     },
     "metadata": {},
     "output_type": "display_data"
    },
    {
     "data": {
      "application/vnd.jupyter.widget-view+json": {
       "model_id": "",
       "version_major": 2,
       "version_minor": 0
      },
      "text/plain": [
       "HBox(children=(FloatProgress(value=0.0, description='Epoch 96', max=847.0, style=ProgressStyle(description_wid…"
      ]
     },
     "metadata": {},
     "output_type": "display_data"
    },
    {
     "data": {
      "application/vnd.jupyter.widget-view+json": {
       "model_id": "",
       "version_major": 2,
       "version_minor": 0
      },
      "text/plain": [
       "HBox(children=(FloatProgress(value=0.0, description='Epoch 97', max=847.0, style=ProgressStyle(description_wid…"
      ]
     },
     "metadata": {},
     "output_type": "display_data"
    },
    {
     "data": {
      "application/vnd.jupyter.widget-view+json": {
       "model_id": "",
       "version_major": 2,
       "version_minor": 0
      },
      "text/plain": [
       "HBox(children=(FloatProgress(value=0.0, description='Epoch 98', max=847.0, style=ProgressStyle(description_wid…"
      ]
     },
     "metadata": {},
     "output_type": "display_data"
    },
    {
     "data": {
      "application/vnd.jupyter.widget-view+json": {
       "model_id": "",
       "version_major": 2,
       "version_minor": 0
      },
      "text/plain": [
       "HBox(children=(FloatProgress(value=0.0, description='Epoch 99', max=847.0, style=ProgressStyle(description_wid…"
      ]
     },
     "metadata": {},
     "output_type": "display_data"
    },
    {
     "name": "stdout",
     "output_type": "stream",
     "text": [
      "\n",
      "CPU times: user 1min 42s, sys: 10.4 s, total: 1min 53s\n",
      "Wall time: 1min 56s\n"
     ]
    }
   ],
   "source": [
    "%%time\n",
    "total_loss = train(examples)"
   ]
  },
  {
   "cell_type": "markdown",
   "metadata": {},
   "source": [
    "<a id='phase-3'></a><a id='section-3'></a>\n",
    "\n",
    "---\n",
    "<span class='bold'>Section</span> [Top](#phase-2) &bull; [Bottom](#phase-4) &bull; 3.0 Wordsmithing &bull; [3.1 Random Inspection](#section-3-1) &bull; [3.2 Attemping Algebra](#section-3-2)\n",
    "\n",
    "# Some Examples \n",
    "\n",
    "<img src='./images/wordsmith.png' style='float: left; margin-right: 5em; margin-left: 2em; height: 10em;' />\n",
    "\n",
    "## <span class='phase-3'>3.0 Wordsmithing</span> \n",
    "\n",
    "To make use of the learned weights from training, we should define some functions to do things like convert words into vectors and check for similarity between vectors."
   ]
  },
  {
   "cell_type": "code",
   "execution_count": 157,
   "metadata": {},
   "outputs": [],
   "source": [
    "def word_vector(token, model=w1):\n",
    "    ''' Return the word vector corresponding to a token '''\n",
    "    if isinstance(token, np.ndarray) or isinstance(token, list):\n",
    "        return token\n",
    "    if isinstance(token, str):\n",
    "        token = VOCAB[token]\n",
    "    return model[token]\n",
    "\n",
    "def similarity(vector1, vector2):\n",
    "    ''' Return the cosine similarity score for two tokens input as vectors '''\n",
    "    vector1, vector2 = word_vector(vector1), word_vector(vector2)\n",
    "    a = np.dot(vector1, vector2)\n",
    "    b = np.dot(vector1, vector1)\n",
    "    c = np.dot(vector2, vector2)\n",
    "    return a / (np.sqrt(b) * np.sqrt(c))"
   ]
  },
  {
   "cell_type": "markdown",
   "metadata": {},
   "source": [
    "<a id='section-3-1'></a>\n",
    "\n",
    "---\n",
    "<span class='bold'>Section</span> [Top](#phase-3) &bull; [Bottom](#phase-4) &bull; [3.0 Wordsmithing](#section-3) &bull; 3.1 Random Inspection &bull; [3.2 Attemping Algebra](#section-3-2)\n",
    "\n",
    "### <span class='phase-3'>3.1 Random Inspection</span> \n",
    "We inspect randomly selected words for their similarity score where $similarity \\in [-1,1]$"
   ]
  },
  {
   "cell_type": "code",
   "execution_count": 194,
   "metadata": {},
   "outputs": [
    {
     "name": "stdout",
     "output_type": "stream",
     "text": [
      "\"passing\" and \"sour\" have a similarity score of 0.645\n"
     ]
    }
   ],
   "source": [
    "v1 = np.random.choice(WORDS)\n",
    "v2 = np.random.choice(WORDS)\n",
    "\n",
    "print(f'\"{v1}\" and \"{v2}\" have a similarity score of {round(similarity(v1, v2), 3)}')"
   ]
  },
  {
   "cell_type": "markdown",
   "metadata": {},
   "source": [
    "<a id='section-3-2'></a>\n",
    "\n",
    "---\n",
    "<span class='bold'>Section</span> [Top](#phase-3) &bull; [Bottom](#phase-4) &bull; [3.0 Wordsmithing](#section-3) &bull; [3.1 Random Inspection](#section-3-1) &bull; 3.2 Attemping Algebra\n",
    "\n",
    "### <span class='phase-3'>3.2 Attempting Algebra</span> \n",
    "\n",
    "With our quickly trained model, we can attempt our own $king - man + woman = queen$ equation."
   ]
  },
  {
   "cell_type": "code",
   "execution_count": 195,
   "metadata": {},
   "outputs": [
    {
     "data": {
      "text/plain": [
       "0.36423499197889203"
      ]
     },
     "execution_count": 195,
     "metadata": {},
     "output_type": "execute_result"
    }
   ],
   "source": [
    "v3 = word_vector(v1) - word_vector(v2)\n",
    "similarity(v1, v3)"
   ]
  },
  {
   "cell_type": "markdown",
   "metadata": {},
   "source": [
    "Now we can check similarity of vector 3 with the intended vector."
   ]
  },
  {
   "cell_type": "code",
   "execution_count": 196,
   "metadata": {},
   "outputs": [
    {
     "data": {
      "text/plain": [
       "-0.0914967555787578"
      ]
     },
     "execution_count": 196,
     "metadata": {},
     "output_type": "execute_result"
    }
   ],
   "source": [
    "v4 = 'morning' # Intended vector\n",
    "similarity(v3, v4)"
   ]
  },
  {
   "cell_type": "markdown",
   "metadata": {},
   "source": [
    "<a id='phase-4'></a>\n",
    "\n",
    "\n",
    "---\n",
    "<span class='bold'>Section</span> [Top](#phase-3) &bull; [Bottom](#phase-5) &bull; 4.0 Declaring the Models &bull; [4.1 Dimension Reduction](#section-4-1) &bull; [4.2 Vector Space](#section-4-2)\n",
    "\n",
    "<!--\n",
    "<img src='./images/data_viz.png' style='float: right; margin-left: 2em;' />\n",
    "-->\n",
    "\n",
    "## Data Visualization \n",
    "\n",
    "We can visualize our word vectors trained using plotting packages like `matplotlib`, `seaborn`, and others. I make use of the `altair` visualization package.\n",
    "\n",
    "\n",
    "### <span class='phase-4'>4.0</span> Declaring the Models <a id='section-4'></a>\n",
    "\n",
    "We will use Principle Component Analysis (PCA) and t-Stochastic Neighbor Embeddings (t-SNE) to convert our high-dimensional data into 2- and 3-dimensional data for visualization."
   ]
  },
  {
   "cell_type": "code",
   "execution_count": 197,
   "metadata": {},
   "outputs": [],
   "source": [
    "from sklearn.decomposition import PCA\n",
    "from sklearn.preprocessing import StandardScaler\n",
    "from sklearn.manifold import TSNE\n",
    "\n",
    "pca2 = PCA(n_components=2)\n",
    "pca50 = PCA(n_components=min(50, w1.shape[0]))\n",
    "tsne = TSNE(n_components=3, perplexity=100)\n",
    "scale = StandardScaler()"
   ]
  },
  {
   "cell_type": "markdown",
   "metadata": {},
   "source": [
    "<a id='section-4-1'></a>\n",
    "\n",
    "---\n",
    "<span class='bold'>Section</span> [Top](#phase-4) &bull; [Bottom](#phase-5) &bull; [4.0 Declaring the Models](#section-4) &bull; 4.1 Dimension Reduction &bull; [4.2 Vector Space](#section-4-2)\n",
    "\n",
    "### <span class='phase-4'>4.1 Dimension Reduction</span>\n",
    "Normalize the vector weights so that $\\mu = 0$ and $\\sigma = 1$."
   ]
  },
  {
   "cell_type": "code",
   "execution_count": 198,
   "metadata": {},
   "outputs": [],
   "source": [
    "scaled_data = scale.fit_transform(w1)"
   ]
  },
  {
   "cell_type": "markdown",
   "metadata": {},
   "source": [
    "Reduce dimensionality via PCA transform. Create one set of data for visualization and another set of data to feed the t-SNE algorithm."
   ]
  },
  {
   "cell_type": "code",
   "execution_count": 199,
   "metadata": {},
   "outputs": [],
   "source": [
    "pca_data_2 = pca2.fit_transform(scaled_data)\n",
    "pca_data_50 = pca50.fit_transform(scaled_data)"
   ]
  },
  {
   "cell_type": "markdown",
   "metadata": {},
   "source": [
    "Reduce dimensionality via TSNE transform.\n",
    "\n",
    "<p class='attention banner'> Results may vary from run to run</p>"
   ]
  },
  {
   "cell_type": "code",
   "execution_count": 200,
   "metadata": {},
   "outputs": [
    {
     "name": "stdout",
     "output_type": "stream",
     "text": [
      "CPU times: user 44.8 s, sys: 1.79 s, total: 46.6 s\n",
      "Wall time: 14.7 s\n"
     ]
    }
   ],
   "source": [
    "%%time\n",
    "tsne_data = tsne.fit_transform(pca_data_50)"
   ]
  },
  {
   "cell_type": "markdown",
   "metadata": {},
   "source": [
    "<a id='section-4-2'></a>\n",
    "\n",
    "---\n",
    "<span class='bold'>Section</span> [Top](#phase-4) &bull; [Bottom](#phase-5) &bull; [4.0 Declaring the Models](#section-4) &bull; [4.1 Dimension Reduction](#section-4-1) &bull; 4.2 Vector Space\n",
    "\n",
    "### <span class='phase-4'>4.2 Vector Space</span>\n",
    "\n",
    "After transforming the high-dimensional data down to 2 and 3 dimensional datasets, we can better visualize what the vectors we trained look like."
   ]
  },
  {
   "cell_type": "code",
   "execution_count": 217,
   "metadata": {},
   "outputs": [],
   "source": [
    "current = tsne_data\n",
    "columns = [f'd{i}' for i in range(current.shape[-1])]\n",
    "index = [f'{VOCABR[i]}' for i in range(current.shape[0])]\n",
    "\n",
    "viz_data = pd.DataFrame(tsne_data, columns=columns, index=index).reset_index()\n",
    "tagged_words = pd.DataFrame(tagged, columns=['index', 'tag'])\n",
    "viz_data = viz_data.merge(tagged_words, how='left').drop_duplicates()"
   ]
  },
  {
   "cell_type": "code",
   "execution_count": 235,
   "metadata": {},
   "outputs": [],
   "source": [
    "chart = alt.Chart(viz_data, height=400, width=400)"
   ]
  },
  {
   "cell_type": "code",
   "execution_count": 236,
   "metadata": {},
   "outputs": [
    {
     "data": {
      "application/javascript": [
       "const spec = {\"config\": {\"view\": {\"width\": 400, \"height\": 300}, \"mark\": {\"tooltip\": null}, \"title\": {\"fontSize\": 20}}, \"data\": {\"name\": \"data-388652faa86f014eddff567343ca1c27\"}, \"mark\": {\"type\": \"circle\", \"size\": 50}, \"encoding\": {\"color\": {\"type\": \"nominal\", \"field\": \"tag\", \"legend\": null}, \"tooltip\": {\"type\": \"nominal\", \"field\": \"index\"}, \"x\": {\"type\": \"quantitative\", \"field\": \"d1\", \"title\": \"Dimension 1\"}, \"y\": {\"type\": \"quantitative\", \"field\": \"d0\", \"title\": \"Dimension 2\"}}, \"height\": 400, \"selection\": {\"selector023\": {\"type\": \"interval\", \"bind\": \"scales\", \"encodings\": [\"x\", \"y\"]}}, \"title\": \"2-dimensional t-SNE Visualization of our Data\", \"width\": 400, \"$schema\": \"https://vega.github.io/schema/vega-lite/v3.4.0.json\", \"datasets\": {\"data-388652faa86f014eddff567343ca1c27\": [{\"index\": \"!\", \"d0\": 0.29264599084854126, \"d1\": -0.3058999180793762, \"tag\": \".\"}, {\"index\": \"''\", \"d0\": -0.375503808259964, \"d1\": 0.5118359327316284, \"tag\": \"''\"}, {\"index\": \"(\", \"d0\": 0.23484674096107483, \"d1\": -0.5567205548286438, \"tag\": \"(\"}, {\"index\": \")\", \"d0\": 0.37196364998817444, \"d1\": 0.36273854970932007, \"tag\": \")\"}, {\"index\": \",\", \"d0\": 0.6510264873504639, \"d1\": -0.01271201204508543, \"tag\": \",\"}, {\"index\": \"--\", \"d0\": 0.1766025274991989, \"d1\": 0.45604968070983887, \"tag\": \"--\"}, {\"index\": \".\", \"d0\": 0.9005095958709717, \"d1\": 0.38055920600891113, \"tag\": \".\"}, {\"index\": \";\", \"d0\": 0.7610620856285095, \"d1\": -0.039504505693912506, \"tag\": \".\"}, {\"index\": \"?\", \"d0\": 0.09336574375629425, \"d1\": 0.46352893114089966, \"tag\": \".\"}, {\"index\": \"``\", \"d0\": 0.8863223195075989, \"d1\": 0.31177935004234314, \"tag\": \"``\"}, {\"index\": \"a\", \"d0\": 0.8682307600975037, \"d1\": -0.5477585196495056, \"tag\": \"AT\"}, {\"index\": \"about\", \"d0\": 0.7857567667961121, \"d1\": 0.05347621813416481, \"tag\": \"IN\"}, {\"index\": \"about\", \"d0\": 0.7857567667961121, \"d1\": 0.05347621813416481, \"tag\": \"RB\"}, {\"index\": \"above\", \"d0\": 0.4341828525066376, \"d1\": 0.6055060029029846, \"tag\": \"IN\"}, {\"index\": \"actresses\", \"d0\": 1.5889736413955688, \"d1\": 2.9049172401428223, \"tag\": \"NNS\"}, {\"index\": \"after\", \"d0\": 0.49423766136169434, \"d1\": 0.10702406615018845, \"tag\": \"IN\"}, {\"index\": \"again\", \"d0\": 1.0356944799423218, \"d1\": 0.5881121158599854, \"tag\": \"RB\"}, {\"index\": \"against\", \"d0\": 0.8319884538650513, \"d1\": 0.21672146022319794, \"tag\": \"IN\"}, {\"index\": \"aged\", \"d0\": -1.0126878023147583, \"d1\": -0.564609944820404, \"tag\": \"VBN\"}, {\"index\": \"ain't\", \"d0\": -0.0250534825026989, \"d1\": -0.732826828956604, \"tag\": \"BER*\"}, {\"index\": \"airs\", \"d0\": 0.158999964594841, \"d1\": -0.550342321395874, \"tag\": \"NNS\"}, {\"index\": \"alive\", \"d0\": 0.377396821975708, \"d1\": 0.21618595719337463, \"tag\": \"JJ\"}, {\"index\": \"all\", \"d0\": 0.10710153728723526, \"d1\": 0.2725354731082916, \"tag\": \"ABN\"}, {\"index\": \"alleyways\", \"d0\": -1.4002569913864136, \"d1\": 2.262558937072754, \"tag\": \"NNS\"}, {\"index\": \"aloneness\", \"d0\": 1.2548612356185913, \"d1\": -2.2627785205841064, \"tag\": \"NN\"}, {\"index\": \"also\", \"d0\": 0.4040549695491791, \"d1\": 1.6481844186782837, \"tag\": \"RB\"}, {\"index\": \"altered\", \"d0\": -1.4508578777313232, \"d1\": -0.48213815689086914, \"tag\": \"VBN\"}, {\"index\": \"although\", \"d0\": 1.3550115823745728, \"d1\": -0.943493664264679, \"tag\": \"CS\"}, {\"index\": \"aluminum\", \"d0\": 2.2024059295654297, \"d1\": 3.9442262649536133, \"tag\": \"NN\"}, {\"index\": \"always\", \"d0\": -2.514636516571045, \"d1\": -3.2493104934692383, \"tag\": \"RB\"}, {\"index\": \"amber\", \"d0\": 1.2952384948730469, \"d1\": -1.6054130792617798, \"tag\": \"JJ\"}, {\"index\": \"americans\", \"d0\": -1.165283203125, \"d1\": 0.9195848703384399, \"tag\": null}, {\"index\": \"an\", \"d0\": 1.3618181943893433, \"d1\": -0.41093316674232483, \"tag\": \"AT\"}, {\"index\": \"and\", \"d0\": 0.28093579411506653, \"d1\": 0.18220137059688568, \"tag\": \"CC\"}, {\"index\": \"angels\", \"d0\": -0.05419561266899109, \"d1\": 1.4104325771331787, \"tag\": \"NNS\"}, {\"index\": \"answer\", \"d0\": -0.7434864640235901, \"d1\": 0.7135328650474548, \"tag\": \"VB\"}, {\"index\": \"answer\", \"d0\": -0.7434864640235901, \"d1\": 0.7135328650474548, \"tag\": \"NN\"}, {\"index\": \"anyone\", \"d0\": 3.5464894771575928, \"d1\": 1.722055196762085, \"tag\": \"PN\"}, {\"index\": \"anything\", \"d0\": 2.7061591148376465, \"d1\": -0.9050388336181641, \"tag\": \"PN\"}, {\"index\": \"arch\", \"d0\": -1.356428623199463, \"d1\": 3.840761661529541, \"tag\": \"NN\"}, {\"index\": \"are\", \"d0\": 0.447255402803421, \"d1\": -0.6796882748603821, \"tag\": \"BER\"}, {\"index\": \"arms\", \"d0\": 3.3049521446228027, \"d1\": 1.2511707544326782, \"tag\": \"NNS\"}, {\"index\": \"around\", \"d0\": 2.4022598266601562, \"d1\": 2.189267158508301, \"tag\": \"IN\"}, {\"index\": \"artfully\", \"d0\": 0.8028702735900879, \"d1\": -4.948696613311768, \"tag\": \"RB\"}, {\"index\": \"as\", \"d0\": -0.2135498970746994, \"d1\": -0.4956946074962616, \"tag\": \"CS\"}, {\"index\": \"as\", \"d0\": -0.2135498970746994, \"d1\": -0.4956946074962616, \"tag\": \"QL\"}, {\"index\": \"ash\", \"d0\": -2.4278242588043213, \"d1\": 0.35202255845069885, \"tag\": \"NN\"}, {\"index\": \"asked\", \"d0\": 0.7164211273193359, \"d1\": -2.39009952545166, \"tag\": \"VBD\"}, {\"index\": \"at\", \"d0\": 0.9504420757293701, \"d1\": -0.04919639974832535, \"tag\": \"IN\"}, {\"index\": \"aunt\", \"d0\": 1.8529529571533203, \"d1\": 0.2860218286514282, \"tag\": null}, {\"index\": \"away\", \"d0\": -1.605966567993164, \"d1\": 0.19814454019069672, \"tag\": \"RB\"}, {\"index\": \"back\", \"d0\": 2.618666410446167, \"d1\": 1.0826510190963745, \"tag\": \"RB\"}, {\"index\": \"back\", \"d0\": 2.618666410446167, \"d1\": 1.0826510190963745, \"tag\": \"NN\"}, {\"index\": \"back\", \"d0\": 2.618666410446167, \"d1\": 1.0826510190963745, \"tag\": \"JJ\"}, {\"index\": \"backyards\", \"d0\": -1.1809457540512085, \"d1\": 1.3708302974700928, \"tag\": \"NNS\"}, {\"index\": \"bagpipe\", \"d0\": -0.3887895941734314, \"d1\": -4.226034164428711, \"tag\": \"NN\"}, {\"index\": \"bari\", \"d0\": 1.9860724210739136, \"d1\": 0.5207719802856445, \"tag\": null}, {\"index\": \"bartoli's\", \"d0\": 0.5065292119979858, \"d1\": 0.6775754690170288, \"tag\": null}, {\"index\": \"bats\", \"d0\": 1.7791742086410522, \"d1\": -2.576392412185669, \"tag\": \"NNS\"}, {\"index\": \"bay\", \"d0\": -1.0403099060058594, \"d1\": 0.5903363227844238, \"tag\": \"NN\"}, {\"index\": \"be\", \"d0\": 1.2950034141540527, \"d1\": -0.01241085771471262, \"tag\": \"BE\"}, {\"index\": \"because\", \"d0\": 0.6887654662132263, \"d1\": -0.3183041214942932, \"tag\": \"CS\"}, {\"index\": \"become\", \"d0\": 3.9225637912750244, \"d1\": -1.4771771430969238, \"tag\": \"VB\"}, {\"index\": \"been\", \"d0\": 0.5212839841842651, \"d1\": 0.35181230306625366, \"tag\": \"BEN\"}, {\"index\": \"bees\", \"d0\": 2.3636090755462646, \"d1\": -3.3687069416046143, \"tag\": \"NNS\"}, {\"index\": \"before\", \"d0\": 0.02801099792122841, \"d1\": 0.41726547479629517, \"tag\": \"IN\"}, {\"index\": \"began\", \"d0\": 2.0477285385131836, \"d1\": -1.0842702388763428, \"tag\": \"VBD\"}, {\"index\": \"beginning\", \"d0\": 2.677994728088379, \"d1\": -2.456650972366333, \"tag\": \"VBG\"}, {\"index\": \"behind\", \"d0\": -0.9727604985237122, \"d1\": 1.059162974357605, \"tag\": \"IN\"}, {\"index\": \"belied\", \"d0\": -3.520512580871582, \"d1\": 2.4421989917755127, \"tag\": \"VBD\"}, {\"index\": \"bell\", \"d0\": 3.4186840057373047, \"d1\": -0.18717975914478302, \"tag\": \"NN\"}, {\"index\": \"belly\", \"d0\": -1.6329612731933594, \"d1\": -1.7201085090637207, \"tag\": \"NN\"}, {\"index\": \"belonged\", \"d0\": -0.006839035544544458, \"d1\": 3.567676067352295, \"tag\": \"VBD\"}, {\"index\": \"below\", \"d0\": 0.6539655327796936, \"d1\": -0.33732444047927856, \"tag\": \"IN\"}, {\"index\": \"beneath\", \"d0\": -3.825387477874756, \"d1\": -0.5790587067604065, \"tag\": \"IN\"}, {\"index\": \"beyond\", \"d0\": -2.138122320175171, \"d1\": 2.866644859313965, \"tag\": \"IN\"}, {\"index\": \"bigger\", \"d0\": 0.8711058497428894, \"d1\": 1.3829066753387451, \"tag\": \"JJR\"}, {\"index\": \"biggest\", \"d0\": 0.013375422917306423, \"d1\": 3.041506767272949, \"tag\": \"JJT\"}, {\"index\": \"bill\", \"d0\": -2.4024593830108643, \"d1\": -1.0111883878707886, \"tag\": \"NN\"}, {\"index\": \"black\", \"d0\": 1.5001649856567383, \"d1\": -2.588374614715576, \"tag\": \"JJ\"}, {\"index\": \"blackness\", \"d0\": 1.275063157081604, \"d1\": -1.8359988927841187, \"tag\": \"NN\"}, {\"index\": \"blended\", \"d0\": -0.8813320994377136, \"d1\": 1.7016944885253906, \"tag\": \"VBD\"}, {\"index\": \"blind\", \"d0\": 2.1301465034484863, \"d1\": 1.1727296113967896, \"tag\": \"JJ\"}, {\"index\": \"blocks\", \"d0\": -1.1079835891723633, \"d1\": 2.5931994915008545, \"tag\": \"NNS\"}, {\"index\": \"blue\", \"d0\": 0.8663582801818848, \"d1\": -1.396644115447998, \"tag\": \"JJ\"}, {\"index\": \"bodies\", \"d0\": 1.6723663806915283, \"d1\": -2.388894557952881, \"tag\": \"NNS\"}, {\"index\": \"body\", \"d0\": -3.6271822452545166, \"d1\": -2.0867347717285156, \"tag\": \"NN\"}, {\"index\": \"boiling\", \"d0\": 0.34890979528427124, \"d1\": 0.15963391959667206, \"tag\": \"VBG\"}, {\"index\": \"boredom\", \"d0\": 4.034254550933838, \"d1\": -0.8860868811607361, \"tag\": \"NN\"}, {\"index\": \"both\", \"d0\": -0.2329341620206833, \"d1\": -0.27008670568466187, \"tag\": \"ABX\"}, {\"index\": \"bowing\", \"d0\": 3.3495426177978516, \"d1\": 3.488001823425293, \"tag\": \"VBG\"}, {\"index\": \"bowing\", \"d0\": 3.3495426177978516, \"d1\": 3.488001823425293, \"tag\": \"NN\"}, {\"index\": \"boy\", \"d0\": 2.5189645290374756, \"d1\": 0.2945571839809418, \"tag\": \"NN\"}, {\"index\": \"boy's\", \"d0\": 0.49253442883491516, \"d1\": 0.6440033316612244, \"tag\": \"NN$\"}, {\"index\": \"breaking\", \"d0\": 4.051061153411865, \"d1\": -0.8139221668243408, \"tag\": \"VBG\"}, {\"index\": \"brief\", \"d0\": 0.3155357539653778, \"d1\": 0.6464284062385559, \"tag\": \"NN\"}, {\"index\": \"bring\", \"d0\": 0.07108817994594574, \"d1\": -1.6140422821044922, \"tag\": \"VB\"}, {\"index\": \"broken\", \"d0\": -2.324747085571289, \"d1\": 1.4461337327957153, \"tag\": \"VBN\"}, {\"index\": \"brother\", \"d0\": 0.05960669741034508, \"d1\": 3.932849645614624, \"tag\": \"NN\"}, {\"index\": \"brushing\", \"d0\": -2.268322229385376, \"d1\": 1.3780726194381714, \"tag\": \"VBG\"}, {\"index\": \"but\", \"d0\": 0.3105010390281677, \"d1\": -0.020972607657313347, \"tag\": \"CC\"}, {\"index\": \"but\", \"d0\": 0.3105010390281677, \"d1\": -0.020972607657313347, \"tag\": \"IN\"}, {\"index\": \"buttocks\", \"d0\": 2.5397181510925293, \"d1\": 1.5682690143585205, \"tag\": \"NNS\"}, {\"index\": \"buzzing\", \"d0\": 2.5132293701171875, \"d1\": -3.611454486846924, \"tag\": \"VBG\"}, {\"index\": \"by\", \"d0\": 0.1702609658241272, \"d1\": 0.04553135111927986, \"tag\": \"IN\"}, {\"index\": \"called\", \"d0\": 1.382552981376648, \"d1\": -1.5172924995422363, \"tag\": \"VBD\"}, {\"index\": \"called\", \"d0\": 1.382552981376648, \"d1\": -1.5172924995422363, \"tag\": \"VBN\"}, {\"index\": \"calling\", \"d0\": 3.25331974029541, \"d1\": 3.3982107639312744, \"tag\": \"VBG\"}, {\"index\": \"calloused\", \"d0\": 0.3205757439136505, \"d1\": 1.148447871208191, \"tag\": null}, {\"index\": \"came\", \"d0\": 0.9414525628089905, \"d1\": 1.4606175422668457, \"tag\": \"VBD\"}, {\"index\": \"cane\", \"d0\": 2.205693006515503, \"d1\": 1.9783920049667358, \"tag\": \"NN\"}, {\"index\": \"cards\", \"d0\": 2.0470495223999023, \"d1\": -0.44656485319137573, \"tag\": \"NNS\"}, {\"index\": \"care\", \"d0\": 3.289374351501465, \"d1\": -1.171622633934021, \"tag\": \"VB\"}, {\"index\": \"cared\", \"d0\": 2.3935387134552, \"d1\": -0.019274165853857994, \"tag\": \"VBD\"}, {\"index\": \"cared\", \"d0\": 2.3935387134552, \"d1\": -0.019274165853857994, \"tag\": \"VBN\"}, {\"index\": \"caressed\", \"d0\": -2.7610838413238525, \"d1\": 0.628359854221344, \"tag\": \"VBN\"}, {\"index\": \"carry\", \"d0\": 2.2139484882354736, \"d1\": 1.8110452890396118, \"tag\": \"VB\"}, {\"index\": \"case\", \"d0\": 0.914198100566864, \"d1\": 0.13075201213359833, \"tag\": \"NN\"}, {\"index\": \"cemetery\", \"d0\": -2.2328882217407227, \"d1\": 3.048959493637085, \"tag\": \"NN\"}, {\"index\": \"center\", \"d0\": -3.475208044052124, \"d1\": -0.8513177633285522, \"tag\": \"NN\"}, {\"index\": \"cheesecloth\", \"d0\": 2.207634449005127, \"d1\": 3.756989002227783, \"tag\": \"NN\"}, {\"index\": \"chest\", \"d0\": 3.330207586288452, \"d1\": 1.165790319442749, \"tag\": \"NN\"}, {\"index\": \"chieti\", \"d0\": 2.4916136264801025, \"d1\": 0.9533012509346008, \"tag\": null}, {\"index\": \"childlike\", \"d0\": 2.6001389026641846, \"d1\": -2.2613468170166016, \"tag\": \"JJ\"}, {\"index\": \"children\", \"d0\": 3.2325448989868164, \"d1\": -1.1644355058670044, \"tag\": \"NNS\"}, {\"index\": \"chin\", \"d0\": -1.6886887550354004, \"d1\": -4.06287956237793, \"tag\": \"NN\"}, {\"index\": \"chins\", \"d0\": 1.3089350461959839, \"d1\": -3.810410261154175, \"tag\": \"NNS\"}, {\"index\": \"christ\", \"d0\": 1.3147997856140137, \"d1\": 1.0905170440673828, \"tag\": null}, {\"index\": \"church\", \"d0\": -2.3911759853363037, \"d1\": 3.013395071029663, \"tag\": \"NN\"}, {\"index\": \"city\", \"d0\": 1.8745594024658203, \"d1\": -1.0826777219772339, \"tag\": \"NN\"}, {\"index\": \"city's\", \"d0\": 1.0318691730499268, \"d1\": -0.7091746926307678, \"tag\": \"NN$\"}, {\"index\": \"clapping\", \"d0\": 1.1179521083831787, \"d1\": 2.0243232250213623, \"tag\": \"NN\"}, {\"index\": \"claret\", \"d0\": -0.6016339659690857, \"d1\": -2.9039673805236816, \"tag\": \"JJ\"}, {\"index\": \"climbed\", \"d0\": 2.4816524982452393, \"d1\": 2.6551268100738525, \"tag\": \"VBD\"}, {\"index\": \"climbing\", \"d0\": 3.57660174369812, \"d1\": -1.3744598627090454, \"tag\": \"VBG\"}, {\"index\": \"close\", \"d0\": -3.515409469604492, \"d1\": 1.1177902221679688, \"tag\": \"RB\"}, {\"index\": \"closer\", \"d0\": -3.6902105808258057, \"d1\": -2.1079671382904053, \"tag\": \"RBR\"}, {\"index\": \"cloud\", \"d0\": 0.5689520835876465, \"d1\": 2.840730667114258, \"tag\": \"NN\"}, {\"index\": \"clouded\", \"d0\": 0.5490252375602722, \"d1\": 1.4663281440734863, \"tag\": \"VBN\"}, {\"index\": \"clutched\", \"d0\": -1.0988878011703491, \"d1\": -0.6372619867324829, \"tag\": \"VBD\"}, {\"index\": \"coffee\", \"d0\": 0.3738081753253937, \"d1\": -1.9543253183364868, \"tag\": \"NN\"}, {\"index\": \"color\", \"d0\": -3.5683834552764893, \"d1\": 1.1576340198516846, \"tag\": \"NN\"}, {\"index\": \"come\", \"d0\": -2.644951820373535, \"d1\": -0.8417791724205017, \"tag\": \"VBN\"}, {\"index\": \"come\", \"d0\": -2.644951820373535, \"d1\": -0.8417791724205017, \"tag\": \"VB\"}, {\"index\": \"commanded\", \"d0\": 0.46912601590156555, \"d1\": -0.23019438982009888, \"tag\": \"VBN\"}, {\"index\": \"companion\", \"d0\": 1.2812615633010864, \"d1\": -2.631704330444336, \"tag\": \"NN\"}, {\"index\": \"concetta\", \"d0\": 0.1051468625664711, \"d1\": 4.161579132080078, \"tag\": null}, {\"index\": \"concetta's\", \"d0\": 0.6601175665855408, \"d1\": -0.16870851814746857, \"tag\": null}, {\"index\": \"concrete\", \"d0\": 1.2058806419372559, \"d1\": 2.127272367477417, \"tag\": \"NN\"}, {\"index\": \"condemned\", \"d0\": -0.8273552060127258, \"d1\": -0.7761240601539612, \"tag\": \"VBN\"}, {\"index\": \"confession\", \"d0\": -2.4047391414642334, \"d1\": 2.2732794284820557, \"tag\": \"NN\"}, {\"index\": \"consumed\", \"d0\": 4.114675045013428, \"d1\": -1.5240358114242554, \"tag\": \"VBN\"}, {\"index\": \"contemptuous\", \"d0\": 2.0070877075195312, \"d1\": 0.30176272988319397, \"tag\": \"JJ\"}, {\"index\": \"contours\", \"d0\": -3.4611737728118896, \"d1\": 2.3789355754852295, \"tag\": \"NNS\"}, {\"index\": \"coolness\", \"d0\": -1.0043118000030518, \"d1\": 0.23948051035404205, \"tag\": \"NN\"}, {\"index\": \"core\", \"d0\": -1.2769606113433838, \"d1\": 1.4608643054962158, \"tag\": \"NN\"}, {\"index\": \"corner\", \"d0\": 0.7643435597419739, \"d1\": 3.4348983764648438, \"tag\": \"NN\"}, {\"index\": \"could\", \"d0\": 3.58655047416687, \"d1\": 2.5114285945892334, \"tag\": \"MD\"}, {\"index\": \"couldn't\", \"d0\": 0.96073979139328, \"d1\": -0.17255865037441254, \"tag\": \"MD*\"}, {\"index\": \"country\", \"d0\": 1.7415770292282104, \"d1\": 1.205769419670105, \"tag\": \"NN\"}, {\"index\": \"course\", \"d0\": 1.1705926656723022, \"d1\": -4.50036096572876, \"tag\": \"NN\"}, {\"index\": \"courtyards\", \"d0\": -0.311892032623291, \"d1\": 2.5742907524108887, \"tag\": \"NNS\"}, {\"index\": \"covering\", \"d0\": -3.5187926292419434, \"d1\": -0.04101882502436638, \"tag\": \"VBG\"}, {\"index\": \"creaking\", \"d0\": 5.148250102996826, \"d1\": -0.30596181750297546, \"tag\": \"VBG\"}, {\"index\": \"creek\", \"d0\": 1.1906582117080688, \"d1\": -4.266842365264893, \"tag\": \"NN\"}, {\"index\": \"dante\", \"d0\": 1.48807954788208, \"d1\": 2.8496451377868652, \"tag\": null}, {\"index\": \"day\", \"d0\": -0.5129847526550293, \"d1\": 0.8068636655807495, \"tag\": \"NN\"}, {\"index\": \"daydreaming\", \"d0\": -1.742135763168335, \"d1\": -3.3037450313568115, \"tag\": \"NN\"}, {\"index\": \"dead\", \"d0\": 0.41726750135421753, \"d1\": -2.419588088989258, \"tag\": \"JJ\"}, {\"index\": \"delighting\", \"d0\": -0.2531256675720215, \"d1\": -4.132012367248535, \"tag\": \"VBG\"}, {\"index\": \"determined\", \"d0\": -0.042419787496328354, \"d1\": -1.0123555660247803, \"tag\": \"VBN\"}, {\"index\": \"devil\", \"d0\": 4.628325462341309, \"d1\": 1.26646888256073, \"tag\": \"NN\"}, {\"index\": \"did\", \"d0\": -0.12451391667127609, \"d1\": 0.3240973651409149, \"tag\": \"DOD\"}, {\"index\": \"didn't\", \"d0\": 0.08858668059110641, \"d1\": -0.6952723860740662, \"tag\": \"DOD*\"}, {\"index\": \"direction\", \"d0\": -1.292948603630066, \"d1\": -0.40914177894592285, \"tag\": \"NN\"}, {\"index\": \"directly\", \"d0\": 2.5706090927124023, \"d1\": 1.6165379285812378, \"tag\": \"RB\"}, {\"index\": \"disfigured\", \"d0\": 3.520742654800415, \"d1\": -2.4934117794036865, \"tag\": \"VBN\"}, {\"index\": \"disliked\", \"d0\": 0.99576735496521, \"d1\": -0.36016103625297546, \"tag\": \"VBD\"}, {\"index\": \"distance\", \"d0\": 4.612916469573975, \"d1\": -1.9335988759994507, \"tag\": \"NN\"}, {\"index\": \"dived\", \"d0\": 1.4541029930114746, \"d1\": -2.20723557472229, \"tag\": \"VBD\"}, {\"index\": \"divided\", \"d0\": 0.5265407562255859, \"d1\": -3.363952875137329, \"tag\": \"VBD\"}, {\"index\": \"do\", \"d0\": 0.6876966953277588, \"d1\": -0.17375333607196808, \"tag\": \"DO\"}, {\"index\": \"doesn't\", \"d0\": 0.32393747568130493, \"d1\": -0.4237407445907593, \"tag\": \"DOZ*\"}, {\"index\": \"dog\", \"d0\": -1.443744421005249, \"d1\": -0.04200674593448639, \"tag\": \"NN\"}, {\"index\": \"dog's\", \"d0\": -0.12534329295158386, \"d1\": -0.3797184228897095, \"tag\": \"NN$\"}, {\"index\": \"dogs\", \"d0\": -1.1711840629577637, \"d1\": 0.6228591203689575, \"tag\": \"NNS\"}, {\"index\": \"dollar\", \"d0\": -2.3893613815307617, \"d1\": -1.083813190460205, \"tag\": \"NN\"}, {\"index\": \"door\", \"d0\": 2.602156639099121, \"d1\": -3.776293992996216, \"tag\": \"NN\"}, {\"index\": \"doors\", \"d0\": 2.719980478286743, \"d1\": -3.640767812728882, \"tag\": \"NNS\"}, {\"index\": \"down\", \"d0\": 0.04466032609343529, \"d1\": 0.20684675872325897, \"tag\": \"IN\"}, {\"index\": \"down\", \"d0\": 0.04466032609343529, \"d1\": 0.20684675872325897, \"tag\": \"RP\"}, {\"index\": \"downcast\", \"d0\": -2.6908164024353027, \"d1\": -3.0595452785491943, \"tag\": \"JJ\"}, {\"index\": \"dream\", \"d0\": -1.9322614669799805, \"d1\": 0.192924365401268, \"tag\": \"VB\"}, {\"index\": \"dreaming\", \"d0\": -0.6329495310783386, \"d1\": 0.683413565158844, \"tag\": \"VBG\"}, {\"index\": \"dreams\", \"d0\": -1.980522632598877, \"d1\": 0.24939994513988495, \"tag\": \"NNS\"}, {\"index\": \"dregs\", \"d0\": 0.524670422077179, \"d1\": -1.6426622867584229, \"tag\": \"NNS\"}, {\"index\": \"drexel\", \"d0\": 3.2152953147888184, \"d1\": 0.8416442275047302, \"tag\": null}, {\"index\": \"drying\", \"d0\": -2.2782764434814453, \"d1\": 1.368435025215149, \"tag\": \"VBG\"}, {\"index\": \"due\", \"d0\": 4.047303676605225, \"d1\": 0.8460707068443298, \"tag\": \"NN\"}, {\"index\": \"each\", \"d0\": 1.144080638885498, \"d1\": 0.04813937842845917, \"tag\": \"DT\"}, {\"index\": \"early\", \"d0\": 2.5971882343292236, \"d1\": -3.7319114208221436, \"tag\": \"JJ\"}, {\"index\": \"earthy\", \"d0\": -0.6192219257354736, \"d1\": -2.4920654296875, \"tag\": \"JJ\"}, {\"index\": \"ecstatic\", \"d0\": 1.1509560346603394, \"d1\": 2.321239471435547, \"tag\": \"JJ\"}, {\"index\": \"edged\", \"d0\": -3.463829517364502, \"d1\": 1.0263317823410034, \"tag\": \"VBD\"}, {\"index\": \"eh\", \"d0\": -0.2493440955877304, \"d1\": 0.351068377494812, \"tag\": null}, {\"index\": \"eight-thirty\", \"d0\": 0.6118988990783691, \"d1\": 0.1511906087398529, \"tag\": \"CD\"}, {\"index\": \"either\", \"d0\": 2.3353397846221924, \"d1\": -0.25567707419395447, \"tag\": \"RB\"}, {\"index\": \"elders\", \"d0\": -2.406313180923462, \"d1\": -3.1366560459136963, \"tag\": \"NNS\"}, {\"index\": \"elevated\", \"d0\": -3.7123918533325195, \"d1\": -0.6621843576431274, \"tag\": \"VBN\"}, {\"index\": \"else\", \"d0\": -2.0715577602386475, \"d1\": -0.5577960014343262, \"tag\": \"RB\"}, {\"index\": \"encrusted\", \"d0\": -1.488369345664978, \"d1\": -1.5620958805084229, \"tag\": \"VBN\"}, {\"index\": \"ended\", \"d0\": 1.757563591003418, \"d1\": -1.2104963064193726, \"tag\": \"VBD\"}, {\"index\": \"enough\", \"d0\": 4.6992034912109375, \"d1\": 1.4702047109603882, \"tag\": \"AP\"}, {\"index\": \"evasive\", \"d0\": 0.5291689038276672, \"d1\": 2.7451512813568115, \"tag\": \"JJ\"}, {\"index\": \"even\", \"d0\": 2.652705192565918, \"d1\": -1.7990223169326782, \"tag\": \"RB\"}, {\"index\": \"evening\", \"d0\": 4.025568008422852, \"d1\": -0.19434203207492828, \"tag\": \"NN\"}, {\"index\": \"evenings\", \"d0\": 3.3278307914733887, \"d1\": 0.47536829113960266, \"tag\": \"NNS\"}, {\"index\": \"everywhere\", \"d0\": -1.745890736579895, \"d1\": -0.3509799838066101, \"tag\": \"RB\"}, {\"index\": \"examining\", \"d0\": 1.745223045349121, \"d1\": 1.8348438739776611, \"tag\": \"VBG\"}, {\"index\": \"except\", \"d0\": 2.9868228435516357, \"d1\": -0.08002855628728867, \"tag\": \"IN\"}, {\"index\": \"excitedly\", \"d0\": -2.8882181644439697, \"d1\": 0.24458211660385132, \"tag\": \"RB\"}, {\"index\": \"exhausted\", \"d0\": -2.858903646469116, \"d1\": -1.9264914989471436, \"tag\": \"VBN\"}, {\"index\": \"expectantly\", \"d0\": -0.4170357286930084, \"d1\": -1.7349568605422974, \"tag\": \"RB\"}, {\"index\": \"expected\", \"d0\": -2.6130611896514893, \"d1\": -1.5473301410675049, \"tag\": \"VBD\"}, {\"index\": \"expression\", \"d0\": -1.4725693464279175, \"d1\": -0.3750217854976654, \"tag\": \"NN\"}, {\"index\": \"eye\", \"d0\": -1.2547835111618042, \"d1\": -0.6932520866394043, \"tag\": \"NN\"}, {\"index\": \"eyes\", \"d0\": -2.021089553833008, \"d1\": -3.7843515872955322, \"tag\": \"NNS\"}, {\"index\": \"facade\", \"d0\": -0.5137478113174438, \"d1\": 2.1114501953125, \"tag\": \"NN\"}, {\"index\": \"face\", \"d0\": 2.5292224884033203, \"d1\": -1.1612120866775513, \"tag\": \"NN\"}, {\"index\": \"fancy\", \"d0\": 0.21175245940685272, \"d1\": 0.5318368077278137, \"tag\": \"JJ\"}, {\"index\": \"farewell\", \"d0\": -2.754640817642212, \"d1\": -1.8335341215133667, \"tag\": \"NN\"}, {\"index\": \"fear\", \"d0\": 1.412066102027893, \"d1\": -3.122692108154297, \"tag\": \"NN\"}, {\"index\": \"feasting\", \"d0\": -0.6722418069839478, \"d1\": -2.840127944946289, \"tag\": \"VBG\"}, {\"index\": \"features\", \"d0\": -3.5395963191986084, \"d1\": 2.4416141510009766, \"tag\": \"NNS\"}, {\"index\": \"fed\", \"d0\": -0.8088887929916382, \"d1\": -0.9593840837478638, \"tag\": \"VBD\"}, {\"index\": \"female\", \"d0\": -1.0340344905853271, \"d1\": 0.6367810368537903, \"tag\": \"NN\"}, {\"index\": \"fence\", \"d0\": -2.1298069953918457, \"d1\": 1.3675580024719238, \"tag\": \"NN\"}, {\"index\": \"fences\", \"d0\": -0.8881233930587769, \"d1\": 1.4682549238204956, \"tag\": \"NNS\"}, {\"index\": \"fifteen\", \"d0\": 2.31876277923584, \"d1\": -0.790337085723877, \"tag\": \"CD\"}, {\"index\": \"fig\", \"d0\": 1.4295165538787842, \"d1\": -3.159227132797241, \"tag\": \"NN\"}, {\"index\": \"figure\", \"d0\": -0.2149273008108139, \"d1\": 1.980414628982544, \"tag\": \"NN\"}, {\"index\": \"filippo\", \"d0\": 1.3465907573699951, \"d1\": -0.9454585909843445, \"tag\": null}, {\"index\": \"finger\", \"d0\": 0.4620100259780884, \"d1\": 2.187796115875244, \"tag\": \"NN\"}, {\"index\": \"fingers\", \"d0\": -0.8337706327438354, \"d1\": 3.1596832275390625, \"tag\": \"NNS\"}, {\"index\": \"first\", \"d0\": -1.9552316665649414, \"d1\": -1.4751930236816406, \"tag\": \"OD\"}, {\"index\": \"first\", \"d0\": -1.9552316665649414, \"d1\": -1.4751930236816406, \"tag\": \"RB\"}, {\"index\": \"fist\", \"d0\": -0.13476556539535522, \"d1\": -1.7733038663864136, \"tag\": \"NN\"}, {\"index\": \"fleas\", \"d0\": -1.436469554901123, \"d1\": 0.05950549989938736, \"tag\": \"NNS\"}, {\"index\": \"flesh\", \"d0\": 3.4995477199554443, \"d1\": -2.4419219493865967, \"tag\": \"NN\"}, {\"index\": \"fleshy\", \"d0\": 3.8169376850128174, \"d1\": 1.2096672058105469, \"tag\": \"JJ\"}, {\"index\": \"flown\", \"d0\": 3.620983362197876, \"d1\": 1.990935206413269, \"tag\": \"VBN\"}, {\"index\": \"fluttering\", \"d0\": -0.14330936968326569, \"d1\": 2.1216704845428467, \"tag\": \"VBG\"}, {\"index\": \"fly-dotted\", \"d0\": -0.09414837509393692, \"d1\": -0.6487676501274109, \"tag\": \"JJ\"}, {\"index\": \"fold\", \"d0\": 2.7156271934509277, \"d1\": -2.4719178676605225, \"tag\": \"VB\"}, {\"index\": \"foot\", \"d0\": -1.4095063209533691, \"d1\": 3.74792742729187, \"tag\": \"NN\"}, {\"index\": \"for\", \"d0\": -0.25610458850860596, \"d1\": 0.03561853989958763, \"tag\": \"IN\"}, {\"index\": \"for\", \"d0\": -0.25610458850860596, \"d1\": 0.03561853989958763, \"tag\": \"CS\"}, {\"index\": \"forked\", \"d0\": 0.6962444186210632, \"d1\": -0.8723548054695129, \"tag\": \"VBN\"}, {\"index\": \"form\", \"d0\": -0.28866156935691833, \"d1\": 2.4463531970977783, \"tag\": \"VB\"}, {\"index\": \"form\", \"d0\": -0.28866156935691833, \"d1\": 2.4463531970977783, \"tag\": \"NN\"}, {\"index\": \"fortresses\", \"d0\": -1.4719923734664917, \"d1\": 2.2393620014190674, \"tag\": \"NNS\"}, {\"index\": \"fragile\", \"d0\": -3.5567338466644287, \"d1\": 2.4301867485046387, \"tag\": \"JJ\"}, {\"index\": \"framed\", \"d0\": 0.4797405004501343, \"d1\": -3.33296537399292, \"tag\": \"VBN\"}, {\"index\": \"from\", \"d0\": 0.524686872959137, \"d1\": -0.10811153799295425, \"tag\": \"IN\"}, {\"index\": \"front\", \"d0\": 2.7124648094177246, \"d1\": 2.184272289276123, \"tag\": \"NN\"}, {\"index\": \"fully\", \"d0\": 2.2900452613830566, \"d1\": -1.1935510635375977, \"tag\": \"RB\"}, {\"index\": \"fur-piece\", \"d0\": 0.5520959496498108, \"d1\": -0.3903829753398895, \"tag\": \"NN\"}, {\"index\": \"gave\", \"d0\": 1.2652662992477417, \"d1\": 0.2136608511209488, \"tag\": \"VBD\"}, {\"index\": \"get\", \"d0\": 1.6751983165740967, \"d1\": 2.9147298336029053, \"tag\": \"VB\"}, {\"index\": \"gilded\", \"d0\": -2.117844581604004, \"d1\": 0.9015212059020996, \"tag\": \"VBN\"}, {\"index\": \"ginkgo\", \"d0\": 0.5066892504692078, \"d1\": -3.4435153007507324, \"tag\": \"NN\"}, {\"index\": \"girl\", \"d0\": -0.39464807510375977, \"d1\": -1.0022218227386475, \"tag\": \"NN\"}, {\"index\": \"git\", \"d0\": 1.4181400537490845, \"d1\": 1.0652503967285156, \"tag\": \"VB\"}, {\"index\": \"give\", \"d0\": 4.395201683044434, \"d1\": 1.355600118637085, \"tag\": \"VB\"}, {\"index\": \"given\", \"d0\": 0.074250228703022, \"d1\": -1.9763665199279785, \"tag\": \"VBN\"}, {\"index\": \"glance\", \"d0\": 0.46272924542427063, \"d1\": 2.0359866619110107, \"tag\": \"NN\"}, {\"index\": \"glass\", \"d0\": -0.5646482110023499, \"d1\": 2.1168854236602783, \"tag\": \"NN\"}, {\"index\": \"gloved\", \"d0\": -0.2863994836807251, \"d1\": -1.4512882232666016, \"tag\": \"VBN\"}, {\"index\": \"gloves\", \"d0\": -1.2747256755828857, \"d1\": -2.752336263656616, \"tag\": \"NNS\"}, {\"index\": \"glowed\", \"d0\": -1.0833925008773804, \"d1\": 3.4070682525634766, \"tag\": \"VBD\"}, {\"index\": \"glued\", \"d0\": 2.83577823638916, \"d1\": 0.888960599899292, \"tag\": \"VBN\"}, {\"index\": \"goat\", \"d0\": 1.7511687278747559, \"d1\": 1.8889635801315308, \"tag\": \"NN\"}, {\"index\": \"goat's\", \"d0\": -0.39681434631347656, \"d1\": -0.6785594820976257, \"tag\": \"NN$\"}, {\"index\": \"good\", \"d0\": 1.6046161651611328, \"d1\": 2.754340887069702, \"tag\": \"RB\"}, {\"index\": \"gossip\", \"d0\": 1.5260900259017944, \"d1\": 0.8776077628135681, \"tag\": \"NN\"}, {\"index\": \"gradually\", \"d0\": -3.435445547103882, \"d1\": -0.044841643422842026, \"tag\": \"RB\"}, {\"index\": \"grape\", \"d0\": 1.3083288669586182, \"d1\": -3.1456427574157715, \"tag\": \"NN\"}, {\"index\": \"grasp\", \"d0\": -0.8983685374259949, \"d1\": -0.6563630700111389, \"tag\": \"VB\"}, {\"index\": \"grating\", \"d0\": -0.536257803440094, \"d1\": 2.118516683578491, \"tag\": \"NN\"}, {\"index\": \"ground\", \"d0\": 0.6769125461578369, \"d1\": -1.4155031442642212, \"tag\": \"NN\"}, {\"index\": \"guessed\", \"d0\": 3.0952184200286865, \"d1\": -0.9962271451950073, \"tag\": \"VBD\"}, {\"index\": \"had\", \"d0\": 1.2777944803237915, \"d1\": -0.12149178981781006, \"tag\": \"HVD\"}, {\"index\": \"had\", \"d0\": 1.2777944803237915, \"d1\": -0.12149178981781006, \"tag\": \"HVN\"}, {\"index\": \"hair\", \"d0\": -3.558858633041382, \"d1\": 1.1242587566375732, \"tag\": \"NN\"}, {\"index\": \"hairs\", \"d0\": 1.640644907951355, \"d1\": -1.9512156248092651, \"tag\": \"NNS\"}, {\"index\": \"half-hour\", \"d0\": 0.3755083978176117, \"d1\": -0.33715301752090454, \"tag\": \"NN\"}, {\"index\": \"hand\", \"d0\": -0.14545953273773193, \"d1\": -1.9467637538909912, \"tag\": \"NN\"}, {\"index\": \"happened\", \"d0\": 0.018491365015506744, \"d1\": -2.857137441635132, \"tag\": \"VBN\"}, {\"index\": \"harshness\", \"d0\": -3.5453996658325195, \"d1\": 2.440802812576294, \"tag\": \"NN\"}, {\"index\": \"hatred\", \"d0\": 1.4029884338378906, \"d1\": -2.9272537231445312, \"tag\": \"NN\"}, {\"index\": \"haunches\", \"d0\": 1.8001335859298706, \"d1\": 1.7817000150680542, \"tag\": \"NNS\"}, {\"index\": \"have\", \"d0\": 0.7442803382873535, \"d1\": -0.417138934135437, \"tag\": \"HV\"}, {\"index\": \"having\", \"d0\": 0.058170825242996216, \"d1\": -0.08111230283975601, \"tag\": \"HVG\"}, {\"index\": \"he\", \"d0\": 0.7617205381393433, \"d1\": 0.5958511829376221, \"tag\": \"PPS\"}, {\"index\": \"head\", \"d0\": 2.0779776573181152, \"d1\": 1.0545333623886108, \"tag\": \"NN\"}, {\"index\": \"hear\", \"d0\": 3.3484814167022705, \"d1\": 3.4624011516571045, \"tag\": \"VB\"}, {\"index\": \"heard\", \"d0\": 2.451570510864258, \"d1\": -0.5191771388053894, \"tag\": \"VBN\"}, {\"index\": \"hearing\", \"d0\": 3.0947682857513428, \"d1\": -1.9237887859344482, \"tag\": \"VBG\"}, {\"index\": \"heat\", \"d0\": -1.1909410953521729, \"d1\": 0.620014488697052, \"tag\": \"NN\"}, {\"index\": \"heavy\", \"d0\": -0.5935074090957642, \"d1\": 2.2445027828216553, \"tag\": \"JJ\"}, {\"index\": \"hedge\", \"d0\": 1.5664231777191162, \"d1\": -1.3084263801574707, \"tag\": \"NN\"}, {\"index\": \"henh\", \"d0\": 0.4794473350048065, \"d1\": -0.3563022315502167, \"tag\": null}, {\"index\": \"her\", \"d0\": 1.1389260292053223, \"d1\": 0.25933316349983215, \"tag\": \"PP$\"}, {\"index\": \"her\", \"d0\": 1.1389260292053223, \"d1\": 0.25933316349983215, \"tag\": \"PPO\"}, {\"index\": \"here\", \"d0\": 0.8584722280502319, \"d1\": -0.32262179255485535, \"tag\": \"RB\"}, {\"index\": \"heritage\", \"d0\": 2.516408681869507, \"d1\": -0.3411620855331421, \"tag\": \"NN\"}, {\"index\": \"herself\", \"d0\": 0.5990400314331055, \"d1\": 0.50362229347229, \"tag\": \"PPL\"}, {\"index\": \"hey\", \"d0\": 1.1565431356430054, \"d1\": 0.4095861315727234, \"tag\": null}, {\"index\": \"high\", \"d0\": -1.3481016159057617, \"d1\": 3.936309576034546, \"tag\": \"JJ\"}, {\"index\": \"higher\", \"d0\": 1.7354862689971924, \"d1\": 0.8024216294288635, \"tag\": \"RBR\"}, {\"index\": \"hill\", \"d0\": -2.034717559814453, \"d1\": 2.931687831878662, \"tag\": \"NN\"}, {\"index\": \"him\", \"d0\": -0.20668694376945496, \"d1\": -0.1711806058883667, \"tag\": \"PPO\"}, {\"index\": \"himself\", \"d0\": 0.5692003965377808, \"d1\": -0.8380125164985657, \"tag\": \"PPL\"}, {\"index\": \"hinges\", \"d0\": 2.8922157287597656, \"d1\": -3.8516712188720703, \"tag\": \"NNS\"}, {\"index\": \"his\", \"d0\": 0.7674556970596313, \"d1\": -0.2892991304397583, \"tag\": \"PP$\"}, {\"index\": \"hold\", \"d0\": 1.6813074350357056, \"d1\": 1.864344835281372, \"tag\": \"VB\"}, {\"index\": \"hold\", \"d0\": 1.6813074350357056, \"d1\": 1.864344835281372, \"tag\": \"NN\"}, {\"index\": \"holding\", \"d0\": 0.5898084044456482, \"d1\": 0.5058096051216125, \"tag\": \"VBG\"}, {\"index\": \"hopped\", \"d0\": -1.4639208316802979, \"d1\": 0.0029581552371382713, \"tag\": \"VBD\"}, {\"index\": \"house\", \"d0\": 0.5971782207489014, \"d1\": 0.6600694060325623, \"tag\": \"NN\"}, {\"index\": \"housed\", \"d0\": 2.4264254570007324, \"d1\": -1.6700403690338135, \"tag\": \"VBD\"}, {\"index\": \"houses\", \"d0\": -1.5013041496276855, \"d1\": 1.2074644565582275, \"tag\": \"NNS\"}, {\"index\": \"hundred\", \"d0\": -2.3881571292877197, \"d1\": -1.1908342838287354, \"tag\": \"CD\"}, {\"index\": \"i\", \"d0\": 0.10735474526882172, \"d1\": 0.2976263165473938, \"tag\": null}, {\"index\": \"idiot\", \"d0\": 0.1102958396077156, \"d1\": 4.2760796546936035, \"tag\": \"NN\"}, {\"index\": \"if\", \"d0\": -0.28612619638442993, \"d1\": 0.5202644467353821, \"tag\": \"CS\"}, {\"index\": \"ignored\", \"d0\": -0.1862206608057022, \"d1\": 0.03905799612402916, \"tag\": \"VBD\"}, {\"index\": \"impetuous\", \"d0\": 3.6257333755493164, \"d1\": -2.6723673343658447, \"tag\": \"JJ\"}, {\"index\": \"in\", \"d0\": 0.5949999094009399, \"d1\": -0.3322118818759918, \"tag\": \"IN\"}, {\"index\": \"in\", \"d0\": 0.5949999094009399, \"d1\": -0.3322118818759918, \"tag\": \"RP\"}, {\"index\": \"inside\", \"d0\": 0.258489727973938, \"d1\": -1.5654436349868774, \"tag\": \"IN\"}, {\"index\": \"interrupted\", \"d0\": 1.0904040336608887, \"d1\": 2.3055052757263184, \"tag\": \"VBN\"}, {\"index\": \"interrupted\", \"d0\": 1.0904040336608887, \"d1\": 2.3055052757263184, \"tag\": \"VBD\"}, {\"index\": \"intervals\", \"d0\": -3.3174643516540527, \"d1\": -0.8121488690376282, \"tag\": \"NNS\"}, {\"index\": \"intimacy\", \"d0\": -1.004156231880188, \"d1\": 1.228538990020752, \"tag\": \"NN\"}, {\"index\": \"into\", \"d0\": 0.20364442467689514, \"d1\": -0.4564567506313324, \"tag\": \"IN\"}, {\"index\": \"iron\", \"d0\": -0.6072027683258057, \"d1\": 2.037247657775879, \"tag\": \"NN\"}, {\"index\": \"it\", \"d0\": 0.8347825407981873, \"d1\": 0.5368679165840149, \"tag\": \"PPO\"}, {\"index\": \"it\", \"d0\": 0.8347825407981873, \"d1\": 0.5368679165840149, \"tag\": \"PPS\"}, {\"index\": \"it's\", \"d0\": 1.0595381259918213, \"d1\": 0.1767943799495697, \"tag\": null}, {\"index\": \"italy\", \"d0\": 2.189403533935547, \"d1\": 0.5722503662109375, \"tag\": null}, {\"index\": \"its\", \"d0\": 0.11188919097185135, \"d1\": 0.9326070547103882, \"tag\": \"PP$\"}, {\"index\": \"jowls\", \"d0\": -0.49246764183044434, \"d1\": -1.6821235418319702, \"tag\": \"NNS\"}, {\"index\": \"june\", \"d0\": 2.573667526245117, \"d1\": -3.636324167251587, \"tag\": null}, {\"index\": \"just\", \"d0\": 0.4688287675380707, \"d1\": -0.4781680107116699, \"tag\": \"RB\"}, {\"index\": \"kept\", \"d0\": 0.24023549258708954, \"d1\": 0.4436532258987427, \"tag\": \"VBD\"}, {\"index\": \"kiss\", \"d0\": 0.011665240861475468, \"d1\": -2.0533571243286133, \"tag\": \"NN\"}, {\"index\": \"knew\", \"d0\": 0.1381305605173111, \"d1\": 2.7012040615081787, \"tag\": \"VBD\"}, {\"index\": \"know\", \"d0\": 4.521936893463135, \"d1\": 1.460333228111267, \"tag\": \"VB\"}, {\"index\": \"knowing\", \"d0\": -0.6683415174484253, \"d1\": -1.4522273540496826, \"tag\": \"VBG\"}, {\"index\": \"known\", \"d0\": 2.051584482192993, \"d1\": -1.2669119834899902, \"tag\": \"VBN\"}, {\"index\": \"laced\", \"d0\": 0.12879568338394165, \"d1\": 4.248861312866211, \"tag\": \"VBN\"}, {\"index\": \"lapping\", \"d0\": -1.8161159753799438, \"d1\": -3.9735372066497803, \"tag\": \"VBG\"}, {\"index\": \"laura\", \"d0\": -0.12870512902736664, \"d1\": 1.06273353099823, \"tag\": null}, {\"index\": \"lawn\", \"d0\": 2.203589916229248, \"d1\": -1.6923203468322754, \"tag\": \"NN\"}, {\"index\": \"lawns\", \"d0\": 1.0809627771377563, \"d1\": 1.8337947130203247, \"tag\": \"NNS\"}, {\"index\": \"leaned\", \"d0\": -0.8658398389816284, \"d1\": 0.15788039565086365, \"tag\": \"VBD\"}, {\"index\": \"left\", \"d0\": 3.504133701324463, \"d1\": 1.9023908376693726, \"tag\": \"VBN\"}, {\"index\": \"leg\", \"d0\": 2.5055274963378906, \"d1\": 0.11423652619123459, \"tag\": \"NN\"}, {\"index\": \"less\", \"d0\": 2.571662425994873, \"d1\": 0.219816192984581, \"tag\": \"AP\"}, {\"index\": \"let\", \"d0\": 0.7832022309303284, \"d1\": 3.573150873184204, \"tag\": \"VBD\"}, {\"index\": \"licked\", \"d0\": 1.765740990638733, \"d1\": 0.8600850105285645, \"tag\": \"VBD\"}, {\"index\": \"life\", \"d0\": 1.867334008216858, \"d1\": -0.8604065179824829, \"tag\": \"NN\"}, {\"index\": \"light\", \"d0\": -1.2743364572525024, \"d1\": -2.8432822227478027, \"tag\": \"VB\"}, {\"index\": \"light\", \"d0\": -1.2743364572525024, \"d1\": -2.8432822227478027, \"tag\": \"JJ\"}, {\"index\": \"lights\", \"d0\": 1.2628817558288574, \"d1\": -1.6921252012252808, \"tag\": \"NNS\"}, {\"index\": \"like\", \"d0\": -1.0407880544662476, \"d1\": 3.1312131881713867, \"tag\": \"CS\"}, {\"index\": \"liked\", \"d0\": 0.43691715598106384, \"d1\": -0.8685603141784668, \"tag\": \"VBD\"}, {\"index\": \"lined\", \"d0\": -0.6577150225639343, \"d1\": 0.8072446584701538, \"tag\": \"VBD\"}, {\"index\": \"lines\", \"d0\": -3.5257651805877686, \"d1\": 2.4833993911743164, \"tag\": \"NNS\"}, {\"index\": \"lithe\", \"d0\": 1.9029148817062378, \"d1\": -0.07277017831802368, \"tag\": \"JJ\"}, {\"index\": \"lived\", \"d0\": -1.3217804431915283, \"d1\": 0.9990984201431274, \"tag\": \"VBD\"}, {\"index\": \"local\", \"d0\": 1.407915472984314, \"d1\": -0.5030570030212402, \"tag\": \"JJ\"}, {\"index\": \"long\", \"d0\": -0.2547939121723175, \"d1\": -3.181565523147583, \"tag\": \"JJ\"}, {\"index\": \"long\", \"d0\": -0.2547939121723175, \"d1\": -3.181565523147583, \"tag\": \"RB\"}, {\"index\": \"looked\", \"d0\": 4.352325916290283, \"d1\": 1.5792255401611328, \"tag\": \"VBN\"}, {\"index\": \"looking\", \"d0\": 2.8718583583831787, \"d1\": -0.12392615526914597, \"tag\": \"VBG\"}, {\"index\": \"loosely\", \"d0\": 5.027388572692871, \"d1\": -0.2932526767253876, \"tag\": \"RB\"}, {\"index\": \"lost\", \"d0\": -0.6162370443344116, \"d1\": -0.35864102840423584, \"tag\": \"VBN\"}, {\"index\": \"love\", \"d0\": 1.3028385639190674, \"d1\": -2.395939826965332, \"tag\": null}, {\"index\": \"low\", \"d0\": -0.5616341829299927, \"d1\": 2.0437395572662354, \"tag\": \"JJ\"}, {\"index\": \"lyric\", \"d0\": -3.543948173522949, \"d1\": 2.497257947921753, \"tag\": \"JJ\"}, {\"index\": \"made\", \"d0\": 1.5762262344360352, \"d1\": 2.5179800987243652, \"tag\": \"VBN\"}, {\"index\": \"made\", \"d0\": 1.5762262344360352, \"d1\": 2.5179800987243652, \"tag\": \"VBD\"}, {\"index\": \"making\", \"d0\": 1.2621393203735352, \"d1\": 2.4193806648254395, \"tag\": \"VBG\"}, {\"index\": \"man\", \"d0\": 0.5863556861877441, \"d1\": 0.9459389448165894, \"tag\": \"NN\"}, {\"index\": \"man's\", \"d0\": 1.1082987785339355, \"d1\": -0.009357692673802376, \"tag\": \"NN$\"}, {\"index\": \"manure-scented\", \"d0\": 0.8478453159332275, \"d1\": 0.13814878463745117, \"tag\": \"JJ\"}, {\"index\": \"marbleized\", \"d0\": -1.4199682474136353, \"d1\": -1.545091986656189, \"tag\": \"VBN\"}, {\"index\": \"mass\", \"d0\": 3.5606629848480225, \"d1\": -0.18013998866081238, \"tag\": null}, {\"index\": \"matter\", \"d0\": -1.865378975868225, \"d1\": 0.14804168045520782, \"tag\": \"VB\"}, {\"index\": \"mauve-colored\", \"d0\": -0.04760575294494629, \"d1\": -0.05093401297926903, \"tag\": null}, {\"index\": \"meantime\", \"d0\": 1.778465747833252, \"d1\": 0.07256828993558884, \"tag\": \"NN\"}, {\"index\": \"memory\", \"d0\": 3.497786521911621, \"d1\": -1.2973603010177612, \"tag\": \"NN\"}, {\"index\": \"men\", \"d0\": 3.1088333129882812, \"d1\": 0.7386394143104553, \"tag\": \"NNS\"}, {\"index\": \"might\", \"d0\": -0.11004731804132462, \"d1\": 1.062491774559021, \"tag\": \"MD\"}, {\"index\": \"milk\", \"d0\": -1.1930136680603027, \"d1\": -3.75355863571167, \"tag\": \"NN\"}, {\"index\": \"miniature\", \"d0\": -0.36928775906562805, \"d1\": -1.042037844657898, \"tag\": \"JJ\"}, {\"index\": \"missed\", \"d0\": 2.243211507797241, \"d1\": -3.0706255435943604, \"tag\": \"VBN\"}, {\"index\": \"monotonous\", \"d0\": 3.612588882446289, \"d1\": -0.39928144216537476, \"tag\": \"JJ\"}, {\"index\": \"month\", \"d0\": -2.43280029296875, \"d1\": 2.4527838230133057, \"tag\": \"NN\"}, {\"index\": \"months\", \"d0\": -0.0059645818546414375, \"d1\": 0.20174716413021088, \"tag\": \"NNS\"}, {\"index\": \"mood\", \"d0\": 1.3910592794418335, \"d1\": 1.2518045902252197, \"tag\": \"NN\"}, {\"index\": \"morning\", \"d0\": 1.5667128562927246, \"d1\": -0.7036189436912537, \"tag\": \"NN\"}, {\"index\": \"mother\", \"d0\": 2.9910171031951904, \"d1\": -1.0714035034179688, \"tag\": \"NN\"}, {\"index\": \"mouth\", \"d0\": -1.1095398664474487, \"d1\": -3.910280227661133, \"tag\": \"NN\"}, {\"index\": \"mouths\", \"d0\": 1.6814814805984497, \"d1\": -0.8097326755523682, \"tag\": \"NNS\"}, {\"index\": \"moving\", \"d0\": -1.9011961221694946, \"d1\": 1.065194010734558, \"tag\": \"VBG\"}, {\"index\": \"mysterious\", \"d0\": -1.3396799564361572, \"d1\": 1.8392406702041626, \"tag\": \"JJ\"}, {\"index\": \"name\", \"d0\": 1.2810652256011963, \"d1\": -1.121137261390686, \"tag\": \"NN\"}, {\"index\": \"named\", \"d0\": 1.7914419174194336, \"d1\": -0.3816069960594177, \"tag\": \"VBN\"}, {\"index\": \"near\", \"d0\": 0.7820370197296143, \"d1\": 3.5541069507598877, \"tag\": \"IN\"}, {\"index\": \"neatest\", \"d0\": 0.09460239857435226, \"d1\": 4.182372093200684, \"tag\": \"JJT\"}, {\"index\": \"neighborhood\", \"d0\": -0.05447283387184143, \"d1\": 1.4871824979782104, \"tag\": \"NN\"}, {\"index\": \"neither\", \"d0\": 1.9180066585540771, \"d1\": -0.5059028267860413, \"tag\": \"CC\"}, {\"index\": \"never\", \"d0\": 3.2743475437164307, \"d1\": -1.9703643321990967, \"tag\": \"RB\"}, {\"index\": \"new\", \"d0\": -0.8973686099052429, \"d1\": -2.824592351913452, \"tag\": \"JJ\"}, {\"index\": \"next\", \"d0\": -0.49370214343070984, \"d1\": 2.3031790256500244, \"tag\": \"AP\"}, {\"index\": \"night\", \"d0\": 1.6392139196395874, \"d1\": -2.48234486579895, \"tag\": \"NN\"}, {\"index\": \"niobe\", \"d0\": 0.10670571029186249, \"d1\": 3.8147783279418945, \"tag\": null}, {\"index\": \"no\", \"d0\": 0.7130475044250488, \"d1\": 0.21491225063800812, \"tag\": \"RB\"}, {\"index\": \"no\", \"d0\": 0.7130475044250488, \"d1\": 0.21491225063800812, \"tag\": \"AT\"}, {\"index\": \"nobody\", \"d0\": 2.0364670753479004, \"d1\": 0.7278776168823242, \"tag\": \"PN\"}, {\"index\": \"noon\", \"d0\": 3.7956764698028564, \"d1\": -0.15775974094867706, \"tag\": \"NN\"}, {\"index\": \"nor\", \"d0\": -0.42516040802001953, \"d1\": 0.6406051516532898, \"tag\": \"CC\"}, {\"index\": \"not\", \"d0\": 0.050140924751758575, \"d1\": 0.2533702552318573, \"tag\": \"*\"}, {\"index\": \"nothing\", \"d0\": 2.5689120292663574, \"d1\": -1.9325414896011353, \"tag\": \"PN\"}, {\"index\": \"noticed\", \"d0\": 1.8875794410705566, \"d1\": 1.0647929906845093, \"tag\": \"VBN\"}, {\"index\": \"now\", \"d0\": 0.4694763422012329, \"d1\": -0.1254817098379135, \"tag\": \"RB\"}, {\"index\": \"obeyed\", \"d0\": 0.3717450797557831, \"d1\": -0.37751305103302, \"tag\": \"VBD\"}, {\"index\": \"ocher\", \"d0\": -3.4424972534179688, \"d1\": 1.196012258529663, \"tag\": \"NN\"}, {\"index\": \"of\", \"d0\": 0.536616861820221, \"d1\": 0.0070952922105789185, \"tag\": \"IN\"}, {\"index\": \"old\", \"d0\": 0.6526753902435303, \"d1\": -0.7560675144195557, \"tag\": \"JJ\"}, {\"index\": \"older\", \"d0\": 1.1591310501098633, \"d1\": -0.33497354388237, \"tag\": \"JJR\"}, {\"index\": \"on\", \"d0\": 0.44313231110572815, \"d1\": 0.33379581570625305, \"tag\": \"IN\"}, {\"index\": \"once\", \"d0\": -0.07236241549253464, \"d1\": 0.07681906223297119, \"tag\": \"CS\"}, {\"index\": \"one\", \"d0\": 0.9472484588623047, \"d1\": -0.36003100872039795, \"tag\": \"PN\"}, {\"index\": \"one\", \"d0\": 0.9472484588623047, \"d1\": -0.36003100872039795, \"tag\": \"CD\"}, {\"index\": \"ones\", \"d0\": 0.10025107860565186, \"d1\": 4.28409481048584, \"tag\": \"NNS\"}, {\"index\": \"only\", \"d0\": 0.6021555066108704, \"d1\": -0.6026395559310913, \"tag\": \"AP\"}, {\"index\": \"only\", \"d0\": 0.6021555066108704, \"d1\": -0.6026395559310913, \"tag\": \"RB\"}, {\"index\": \"onto\", \"d0\": -1.2046468257904053, \"d1\": -0.11884679645299911, \"tag\": \"IN\"}, {\"index\": \"opened\", \"d0\": -1.3729044198989868, \"d1\": -4.046569347381592, \"tag\": \"VBD\"}, {\"index\": \"opened\", \"d0\": -1.3729044198989868, \"d1\": -4.046569347381592, \"tag\": \"VBN\"}, {\"index\": \"operated\", \"d0\": -0.4601442217826843, \"d1\": -3.9517056941986084, \"tag\": \"VBD\"}, {\"index\": \"opposition\", \"d0\": 2.6213269233703613, \"d1\": 1.3490098714828491, \"tag\": \"NN\"}, {\"index\": \"or\", \"d0\": 0.04998418688774109, \"d1\": 0.02172440104186535, \"tag\": \"CC\"}, {\"index\": \"orange\", \"d0\": 2.5650177001953125, \"d1\": 2.517111301422119, \"tag\": \"JJ\"}, {\"index\": \"order\", \"d0\": 0.17274801433086395, \"d1\": -1.211295485496521, \"tag\": \"VB\"}, {\"index\": \"other\", \"d0\": 0.9254424571990967, \"d1\": -0.3447123169898987, \"tag\": \"AP\"}, {\"index\": \"ours\", \"d0\": 0.5400417447090149, \"d1\": 0.2652951776981354, \"tag\": \"PP$$\"}, {\"index\": \"out\", \"d0\": -0.030776260420680046, \"d1\": 0.3469989001750946, \"tag\": \"RP\"}, {\"index\": \"outskirts\", \"d0\": 2.1951546669006348, \"d1\": 0.4175170660018921, \"tag\": \"NNS\"}, {\"index\": \"over\", \"d0\": -0.023351315408945084, \"d1\": -1.1049885749816895, \"tag\": \"RP\"}, {\"index\": \"over\", \"d0\": -0.023351315408945084, \"d1\": -1.1049885749816895, \"tag\": \"IN\"}, {\"index\": \"owned\", \"d0\": -1.142217755317688, \"d1\": 1.4160773754119873, \"tag\": \"VBD\"}, {\"index\": \"pact\", \"d0\": 2.0697669982910156, \"d1\": -1.5056679248809814, \"tag\": \"NN\"}, {\"index\": \"paid\", \"d0\": 1.576806902885437, \"d1\": 2.5304324626922607, \"tag\": \"VBN\"}, {\"index\": \"pales\", \"d0\": 4.889702320098877, \"d1\": -0.27971795201301575, \"tag\": \"NNS\"}, {\"index\": \"parents\", \"d0\": 0.5650050044059753, \"d1\": -2.46931529045105, \"tag\": \"NNS\"}, {\"index\": \"park\", \"d0\": -2.330451011657715, \"d1\": 0.015934361144900322, \"tag\": \"NN\"}, {\"index\": \"part\", \"d0\": 1.032878041267395, \"d1\": 1.0884760618209839, \"tag\": \"NN\"}, {\"index\": \"pass\", \"d0\": 0.7385521531105042, \"d1\": 3.5199320316314697, \"tag\": \"NN\"}, {\"index\": \"passing\", \"d0\": 0.059412866830825806, \"d1\": -1.6957614421844482, \"tag\": \"VBG\"}, {\"index\": \"passion\", \"d0\": -0.8695777654647827, \"d1\": -2.8600144386291504, \"tag\": \"NN\"}, {\"index\": \"past\", \"d0\": 0.4542195200920105, \"d1\": -2.274355173110962, \"tag\": \"NN\"}, {\"index\": \"paste\", \"d0\": 1.7497637271881104, \"d1\": 4.432206153869629, \"tag\": \"NN\"}, {\"index\": \"paved\", \"d0\": -0.501276969909668, \"d1\": 0.7915986180305481, \"tag\": \"VBN\"}, {\"index\": \"pay\", \"d0\": 4.621200084686279, \"d1\": 1.3360259532928467, \"tag\": \"VB\"}, {\"index\": \"people\", \"d0\": 4.555054187774658, \"d1\": 1.4460541009902954, \"tag\": \"NNS\"}, {\"index\": \"perched\", \"d0\": -1.7432361841201782, \"d1\": 2.5766899585723877, \"tag\": \"VBD\"}, {\"index\": \"perhaps\", \"d0\": 4.127342224121094, \"d1\": 0.7878530025482178, \"tag\": \"RB\"}, {\"index\": \"philadelphia\", \"d0\": 2.137342929840088, \"d1\": 0.4883342683315277, \"tag\": null}, {\"index\": \"pink\", \"d0\": -1.4417909383773804, \"d1\": -1.7264317274093628, \"tag\": \"JJ\"}, {\"index\": \"pipe\", \"d0\": -1.3612796068191528, \"d1\": -2.4332990646362305, \"tag\": \"NN\"}, {\"index\": \"place\", \"d0\": -2.432993173599243, \"d1\": -1.8748228549957275, \"tag\": \"NN\"}, {\"index\": \"player\", \"d0\": -0.3214682936668396, \"d1\": -4.203542232513428, \"tag\": \"NN\"}, {\"index\": \"playing\", \"d0\": 3.3461577892303467, \"d1\": 0.32235002517700195, \"tag\": \"VBG\"}, {\"index\": \"pleasure\", \"d0\": 1.1000258922576904, \"d1\": 2.2525553703308105, \"tag\": \"NN\"}, {\"index\": \"pocket\", \"d0\": 0.1618523746728897, \"d1\": -1.833726406097412, \"tag\": \"NN\"}, {\"index\": \"pointed\", \"d0\": 0.8237674236297607, \"d1\": -4.928350448608398, \"tag\": \"VBD\"}, {\"index\": \"polished\", \"d0\": -2.9590253829956055, \"d1\": 0.509382963180542, \"tag\": \"VBN\"}, {\"index\": \"pompeii\", \"d0\": 2.491424322128296, \"d1\": -0.5908321738243103, \"tag\": null}, {\"index\": \"pompeii's\", \"d0\": -0.056839507073163986, \"d1\": -0.2761026918888092, \"tag\": null}, {\"index\": \"porch\", \"d0\": -2.2153940200805664, \"d1\": 1.3014931678771973, \"tag\": \"NN\"}, {\"index\": \"porches\", \"d0\": -0.12418869882822037, \"d1\": 1.4117980003356934, \"tag\": \"NNS\"}, {\"index\": \"portentous\", \"d0\": 0.6056370139122009, \"d1\": 2.821017026901245, \"tag\": \"JJ\"}, {\"index\": \"possessed\", \"d0\": -2.6722331047058105, \"d1\": -2.9968936443328857, \"tag\": \"VBD\"}, {\"index\": \"pound\", \"d0\": -0.39259645342826843, \"d1\": -1.6779437065124512, \"tag\": \"VB\"}, {\"index\": \"present\", \"d0\": 0.44946545362472534, \"d1\": -2.231764078140259, \"tag\": \"JJ\"}, {\"index\": \"pressing\", \"d0\": -0.2716149687767029, \"d1\": -4.3466291427612305, \"tag\": \"VBG\"}, {\"index\": \"pretended\", \"d0\": 1.5118123292922974, \"d1\": 1.8161752223968506, \"tag\": \"VBD\"}, {\"index\": \"pretty\", \"d0\": 1.3974769115447998, \"d1\": 2.96504545211792, \"tag\": \"JJ\"}, {\"index\": \"price\", \"d0\": 3.5374937057495117, \"d1\": 0.7990362644195557, \"tag\": \"NN\"}, {\"index\": \"privacy\", \"d0\": -0.0154994772747159, \"d1\": 2.447800874710083, \"tag\": \"NN\"}, {\"index\": \"property\", \"d0\": -0.8623454570770264, \"d1\": 1.4897326231002808, \"tag\": \"NN\"}, {\"index\": \"provided\", \"d0\": 1.9484552145004272, \"d1\": -0.4822385311126709, \"tag\": \"VBD\"}, {\"index\": \"puckered\", \"d0\": -2.929633617401123, \"d1\": 0.06515204906463623, \"tag\": \"VBN\"}, {\"index\": \"pulling\", \"d0\": -0.27308550477027893, \"d1\": -4.318061828613281, \"tag\": \"VBG\"}, {\"index\": \"purpose\", \"d0\": 2.249608039855957, \"d1\": 0.4464063048362732, \"tag\": \"NN\"}, {\"index\": \"pushed\", \"d0\": -2.442730188369751, \"d1\": -3.232618570327759, \"tag\": \"VBN\"}, {\"index\": \"puttana\", \"d0\": 0.1623641699552536, \"d1\": 0.6099475026130676, \"tag\": null}, {\"index\": \"quality\", \"d0\": -0.676138162612915, \"d1\": -0.09140042215585709, \"tag\": \"NN\"}, {\"index\": \"quarters\", \"d0\": 0.40163666009902954, \"d1\": -3.3252978324890137, \"tag\": \"NNS\"}, {\"index\": \"questioned\", \"d0\": 0.47875380516052246, \"d1\": -0.5161369442939758, \"tag\": \"VBN\"}, {\"index\": \"quickly\", \"d0\": 1.2581347227096558, \"d1\": 1.8652385473251343, \"tag\": \"RB\"}, {\"index\": \"rail\", \"d0\": -1.7268823385238647, \"d1\": 1.062290906906128, \"tag\": \"NN\"}, {\"index\": \"railing\", \"d0\": 5.020677089691162, \"d1\": -0.29593443870544434, \"tag\": \"NN\"}, {\"index\": \"raise\", \"d0\": 0.5023892521858215, \"d1\": 2.0819649696350098, \"tag\": \"VB\"}, {\"index\": \"rang\", \"d0\": 3.703975200653076, \"d1\": -0.15678194165229797, \"tag\": \"VBD\"}, {\"index\": \"reach\", \"d0\": -1.1331785917282104, \"d1\": -0.728053629398346, \"tag\": \"VB\"}, {\"index\": \"reached\", \"d0\": -0.816231906414032, \"d1\": 0.8736830949783325, \"tag\": \"VBD\"}, {\"index\": \"reassured\", \"d0\": 4.496727466583252, \"d1\": 1.1439909934997559, \"tag\": \"VBD\"}, {\"index\": \"reeked\", \"d0\": 0.6228234767913818, \"d1\": -1.7358661890029907, \"tag\": \"VBD\"}, {\"index\": \"released\", \"d0\": 1.3427568674087524, \"d1\": 2.070505380630493, \"tag\": \"VBD\"}, {\"index\": \"remember\", \"d0\": 3.1580910682678223, \"d1\": -1.1666971445083618, \"tag\": \"VB\"}, {\"index\": \"remove\", \"d0\": -1.3273687362670898, \"d1\": -2.3720710277557373, \"tag\": \"VB\"}, {\"index\": \"repetitive\", \"d0\": 4.044029712677002, \"d1\": -0.3907368779182434, \"tag\": \"JJ\"}, {\"index\": \"restless\", \"d0\": 2.0127222537994385, \"d1\": -1.0325872898101807, \"tag\": \"JJ\"}, {\"index\": \"rich\", \"d0\": -1.0556038618087769, \"d1\": 0.44344794750213623, \"tag\": \"JJ\"}, {\"index\": \"ride\", \"d0\": 1.4603837728500366, \"d1\": -0.7507678866386414, \"tag\": \"VB\"}, {\"index\": \"ripe\", \"d0\": 1.7637134790420532, \"d1\": 4.463146686553955, \"tag\": \"JJ\"}, {\"index\": \"rising\", \"d0\": 2.1847121715545654, \"d1\": 3.9307920932769775, \"tag\": \"VBG\"}, {\"index\": \"road\", \"d0\": -2.4961681365966797, \"d1\": -0.14581120014190674, \"tag\": null}, {\"index\": \"roared\", \"d0\": -3.5546185970306396, \"d1\": -0.782467782497406, \"tag\": \"VBD\"}, {\"index\": \"rode\", \"d0\": 2.6280012130737305, \"d1\": 2.4846560955047607, \"tag\": \"VBD\"}, {\"index\": \"rolled\", \"d0\": 0.40313541889190674, \"d1\": -0.8082989454269409, \"tag\": \"VBD\"}, {\"index\": \"romeo\", \"d0\": 0.10495337098836899, \"d1\": 4.293715953826904, \"tag\": null}, {\"index\": \"romeo's\", \"d0\": 0.7365383505821228, \"d1\": -0.0382445752620697, \"tag\": null}, {\"index\": \"roof\", \"d0\": -1.2623045444488525, \"d1\": -3.864107370376587, \"tag\": \"NN\"}, {\"index\": \"rosaries\", \"d0\": -2.891061305999756, \"d1\": 0.3227618634700775, \"tag\": \"NNS\"}, {\"index\": \"rose\", \"d0\": 3.1342151165008545, \"d1\": -0.6814280152320862, \"tag\": \"NN\"}, {\"index\": \"rossi\", \"d0\": 1.556335687637329, \"d1\": -1.0215681791305542, \"tag\": null}, {\"index\": \"rot\", \"d0\": 2.5019326210021973, \"d1\": -1.7662338018417358, \"tag\": \"NN\"}, {\"index\": \"rotundity\", \"d0\": 3.6370272636413574, \"d1\": -2.696711301803589, \"tag\": \"NN\"}, {\"index\": \"running\", \"d0\": 3.3534483909606934, \"d1\": 3.506319761276245, \"tag\": \"VBG\"}, {\"index\": \"rusted\", \"d0\": 2.888962745666504, \"d1\": -3.820359706878662, \"tag\": \"VBN\"}, {\"index\": \"said\", \"d0\": -2.4832937717437744, \"d1\": -1.914151906967163, \"tag\": \"VBN\"}, {\"index\": \"said\", \"d0\": -2.4832937717437744, \"d1\": -1.914151906967163, \"tag\": \"VBD\"}, {\"index\": \"sake\", \"d0\": 1.379223108291626, \"d1\": 1.1716283559799194, \"tag\": \"UH\"}, {\"index\": \"sallow\", \"d0\": -1.0693022012710571, \"d1\": -1.0066609382629395, \"tag\": \"JJ\"}, {\"index\": \"salt\", \"d0\": -0.6736475229263306, \"d1\": -2.821135997772217, \"tag\": \"NN\"}, {\"index\": \"same\", \"d0\": 0.888799250125885, \"d1\": -0.7446133494377136, \"tag\": \"AP\"}, {\"index\": \"sameness\", \"d0\": -2.350250005722046, \"d1\": -0.5133503079414368, \"tag\": \"NN\"}, {\"index\": \"sandals\", \"d0\": -0.050887323915958405, \"d1\": 3.3043229579925537, \"tag\": \"NNS\"}, {\"index\": \"sat\", \"d0\": 3.261911392211914, \"d1\": 1.176245093345642, \"tag\": \"VBD\"}, {\"index\": \"satin-covered\", \"d0\": 0.2941814064979553, \"d1\": -0.09718423336744308, \"tag\": \"JJ\"}, {\"index\": \"saturday\", \"d0\": -2.4110734462738037, \"d1\": 2.5224928855895996, \"tag\": null}, {\"index\": \"savored\", \"d0\": -0.9871590733528137, \"d1\": -2.7964258193969727, \"tag\": \"VBD\"}, {\"index\": \"saw\", \"d0\": 2.2467551231384277, \"d1\": 0.4515107274055481, \"tag\": \"VBD\"}, {\"index\": \"say\", \"d0\": -0.06600196659564972, \"d1\": 0.9068003296852112, \"tag\": \"VB\"}, {\"index\": \"scent\", \"d0\": 2.5724213123321533, \"d1\": -1.8728477954864502, \"tag\": \"NN\"}, {\"index\": \"schuylkill\", \"d0\": 1.0625828504562378, \"d1\": -4.206898212432861, \"tag\": null}, {\"index\": \"screeched\", \"d0\": 2.8754003047943115, \"d1\": -3.7811102867126465, \"tag\": \"VBD\"}, {\"index\": \"screeching\", \"d0\": -1.991327166557312, \"d1\": 1.1409485340118408, \"tag\": \"VBG\"}, {\"index\": \"screen\", \"d0\": 2.7605981826782227, \"d1\": -3.838195323944092, \"tag\": \"NN\"}, {\"index\": \"seams\", \"d0\": 4.573967456817627, \"d1\": -1.8876625299453735, \"tag\": \"NNS\"}, {\"index\": \"second-story\", \"d0\": 1.3399789333343506, \"d1\": 0.5030378103256226, \"tag\": \"NN\"}, {\"index\": \"see\", \"d0\": 3.5477094650268555, \"d1\": 2.503194570541382, \"tag\": \"VB\"}, {\"index\": \"seemed\", \"d0\": 0.8233639597892761, \"d1\": -1.3442234992980957, \"tag\": \"VBD\"}, {\"index\": \"seen\", \"d0\": -2.7856037616729736, \"d1\": -1.8852944374084473, \"tag\": \"VBN\"}, {\"index\": \"sensing\", \"d0\": 0.7338968515396118, \"d1\": 3.513429880142212, \"tag\": \"VBG\"}, {\"index\": \"service\", \"d0\": 3.32816481590271, \"d1\": 3.4920661449432373, \"tag\": \"NN\"}, {\"index\": \"shaded\", \"d0\": 1.4096989631652832, \"d1\": -3.123387575149536, \"tag\": \"VBN\"}, {\"index\": \"shadow\", \"d0\": 0.7787435054779053, \"d1\": 3.612091064453125, \"tag\": \"NN\"}, {\"index\": \"shaved\", \"d0\": -3.577453374862671, \"d1\": 1.1763300895690918, \"tag\": \"VBN\"}, {\"index\": \"she\", \"d0\": 0.7997214794158936, \"d1\": -0.45623770356178284, \"tag\": \"PPS\"}, {\"index\": \"she's\", \"d0\": 0.3685828745365143, \"d1\": -1.1720558404922485, \"tag\": null}, {\"index\": \"shining\", \"d0\": -1.9837493896484375, \"d1\": 0.2138378918170929, \"tag\": \"VBG\"}, {\"index\": \"shooing\", \"d0\": -1.2641346454620361, \"d1\": 0.0726734846830368, \"tag\": \"VBG\"}, {\"index\": \"shop\", \"d0\": 0.2703284025192261, \"d1\": -1.8040341138839722, \"tag\": \"NN\"}, {\"index\": \"shoulders\", \"d0\": 2.4182748794555664, \"d1\": 2.177766799926758, \"tag\": \"NNS\"}, {\"index\": \"shouldn't\", \"d0\": 0.9875666499137878, \"d1\": 0.5799832344055176, \"tag\": \"MD*\"}, {\"index\": \"showed\", \"d0\": 1.8022329807281494, \"d1\": -0.3008493185043335, \"tag\": \"VBD\"}, {\"index\": \"showroom\", \"d0\": -0.014366528019309044, \"d1\": 1.5044267177581787, \"tag\": \"NN\"}, {\"index\": \"shrill\", \"d0\": 3.5811262130737305, \"d1\": -2.621051788330078, \"tag\": \"JJ\"}, {\"index\": \"side\", \"d0\": -1.4553385972976685, \"d1\": 0.8895171880722046, \"tag\": \"NN\"}, {\"index\": \"sidewalk\", \"d0\": -0.6561933755874634, \"d1\": 1.8997869491577148, \"tag\": \"NN\"}, {\"index\": \"sight\", \"d0\": -0.5235373377799988, \"d1\": -3.201073408126831, \"tag\": \"NN\"}, {\"index\": \"sign\", \"d0\": 2.3934688568115234, \"d1\": -0.4673641324043274, \"tag\": \"NN\"}, {\"index\": \"signore\", \"d0\": 0.41890206933021545, \"d1\": -0.017872139811515808, \"tag\": null}, {\"index\": \"silent\", \"d0\": 1.1923015117645264, \"d1\": -4.44443416595459, \"tag\": \"JJ\"}, {\"index\": \"silently\", \"d0\": -0.3936590850353241, \"d1\": 1.6531213521957397, \"tag\": \"RB\"}, {\"index\": \"since\", \"d0\": -0.04440119117498398, \"d1\": -2.8623197078704834, \"tag\": \"RB\"}, {\"index\": \"sinewy\", \"d0\": 3.2791757583618164, \"d1\": 1.2365646362304688, \"tag\": \"JJ\"}, {\"index\": \"sinister\", \"d0\": 1.191407322883606, \"d1\": -1.346360683441162, \"tag\": \"JJ\"}, {\"index\": \"sink\", \"d0\": -3.504856586456299, \"d1\": -2.0410847663879395, \"tag\": \"VB\"}, {\"index\": \"sister\", \"d0\": 1.2540884017944336, \"d1\": -1.5183358192443848, \"tag\": \"NN\"}, {\"index\": \"sit\", \"d0\": 0.38624101877212524, \"d1\": -1.082175374031067, \"tag\": \"VB\"}, {\"index\": \"six\", \"d0\": 4.072261333465576, \"d1\": -0.2011273205280304, \"tag\": \"CD\"}, {\"index\": \"skilled\", \"d0\": -0.39792153239250183, \"d1\": -4.061842918395996, \"tag\": \"JJ\"}, {\"index\": \"skin\", \"d0\": -1.512819528579712, \"d1\": -1.7513514757156372, \"tag\": \"NN\"}, {\"index\": \"slant\", \"d0\": -1.9401254653930664, \"d1\": 2.8051509857177734, \"tag\": \"NN\"}, {\"index\": \"slapped\", \"d0\": 0.4042426645755768, \"d1\": 0.3955313265323639, \"tag\": \"VBN\"}, {\"index\": \"slashed\", \"d0\": 0.7548102736473083, \"d1\": 1.1732231378555298, \"tag\": \"VBD\"}, {\"index\": \"sleep\", \"d0\": -1.9657107591629028, \"d1\": 0.12438447028398514, \"tag\": \"NN\"}, {\"index\": \"slid\", \"d0\": 0.5789069533348083, \"d1\": 2.749730110168457, \"tag\": \"VBD\"}, {\"index\": \"sloping\", \"d0\": 1.251043677330017, \"d1\": 1.7478216886520386, \"tag\": \"VBG\"}, {\"index\": \"small\", \"d0\": -3.551105260848999, \"d1\": -2.0714292526245117, \"tag\": \"JJ\"}, {\"index\": \"smell\", \"d0\": 1.7562004327774048, \"d1\": 4.494787216186523, \"tag\": \"NN\"}, {\"index\": \"smelled\", \"d0\": 2.0221810340881348, \"d1\": 0.690097451210022, \"tag\": \"VBD\"}, {\"index\": \"smiled\", \"d0\": -0.5594545602798462, \"d1\": -2.29534649848938, \"tag\": \"VBN\"}, {\"index\": \"smoke\", \"d0\": 1.6565673351287842, \"d1\": 1.083048939704895, \"tag\": \"VB\"}, {\"index\": \"smoked\", \"d0\": -0.2783893048763275, \"d1\": 1.1107813119888306, \"tag\": \"VBD\"}, {\"index\": \"smooth\", \"d0\": 0.3839259743690491, \"d1\": 1.7755799293518066, \"tag\": \"VB\"}, {\"index\": \"smoothness\", \"d0\": -2.7931506633758545, \"d1\": 0.3139576315879822, \"tag\": \"NN\"}, {\"index\": \"so\", \"d0\": 1.0651583671569824, \"d1\": -0.08783812075853348, \"tag\": \"QL\"}, {\"index\": \"so\", \"d0\": 1.0651583671569824, \"d1\": -0.08783812075853348, \"tag\": \"CS\"}, {\"index\": \"softness\", \"d0\": 2.606907844543457, \"d1\": -2.322230577468872, \"tag\": \"NN\"}, {\"index\": \"something\", \"d0\": 0.7086188197135925, \"d1\": 3.3063242435455322, \"tag\": \"PN\"}, {\"index\": \"somewhat\", \"d0\": -2.6376307010650635, \"d1\": -3.1097910404205322, \"tag\": \"QL\"}, {\"index\": \"son\", \"d0\": -0.9510531425476074, \"d1\": -0.9485883116722107, \"tag\": \"NN\"}, {\"index\": \"soothing\", \"d0\": -0.6235717535018921, \"d1\": -1.3572973012924194, \"tag\": null}, {\"index\": \"soul\", \"d0\": 4.509910583496094, \"d1\": 1.503592848777771, \"tag\": \"NN\"}, {\"index\": \"sound\", \"d0\": 3.5652294158935547, \"d1\": -2.6441104412078857, \"tag\": \"VB\"}, {\"index\": \"sounds\", \"d0\": 2.1287784576416016, \"d1\": -2.8922762870788574, \"tag\": \"NNS\"}, {\"index\": \"sour\", \"d0\": 1.9404876232147217, \"d1\": 4.240521430969238, \"tag\": \"JJ\"}, {\"index\": \"soutane\", \"d0\": 0.36886268854141235, \"d1\": 1.3735952377319336, \"tag\": \"NN\"}, {\"index\": \"space\", \"d0\": -3.5895743370056152, \"d1\": -0.06378018856048584, \"tag\": \"NN\"}, {\"index\": \"speeches\", \"d0\": 1.4962377548217773, \"d1\": 2.9428813457489014, \"tag\": \"NNS\"}, {\"index\": \"spent\", \"d0\": 3.270192861557007, \"d1\": 0.443197101354599, \"tag\": \"VBD\"}, {\"index\": \"sphere\", \"d0\": -1.5107252597808838, \"d1\": -1.659377932548523, \"tag\": \"NN\"}, {\"index\": \"sprouted\", \"d0\": 1.968917965888977, \"d1\": -1.7332937717437744, \"tag\": \"VBD\"}, {\"index\": \"spun\", \"d0\": 1.1902401447296143, \"d1\": -4.351792335510254, \"tag\": \"VBD\"}, {\"index\": \"square\", \"d0\": -0.9956508278846741, \"d1\": 2.521355390548706, \"tag\": \"JJ\"}, {\"index\": \"square\", \"d0\": -0.9956508278846741, \"d1\": 2.521355390548706, \"tag\": \"NN\"}, {\"index\": \"square\", \"d0\": -0.9956508278846741, \"d1\": 2.521355390548706, \"tag\": \"VB\"}, {\"index\": \"squatted\", \"d0\": -0.29426109790802, \"d1\": 1.0619971752166748, \"tag\": \"VBD\"}, {\"index\": \"squirted\", \"d0\": -1.4069223403930664, \"d1\": -4.001219272613525, \"tag\": \"VBD\"}, {\"index\": \"stable-garage\", \"d0\": 0.3934434652328491, \"d1\": 0.4989490807056427, \"tag\": \"NN\"}, {\"index\": \"stage\", \"d0\": 0.9252421259880066, \"d1\": 1.3036830425262451, \"tag\": \"NN\"}, {\"index\": \"stained\", \"d0\": -3.19159197807312, \"d1\": 1.298478603363037, \"tag\": \"VBN\"}, {\"index\": \"stared\", \"d0\": -1.3689961433410645, \"d1\": -1.6195749044418335, \"tag\": \"VBD\"}, {\"index\": \"station\", \"d0\": -3.5692825317382812, \"d1\": -0.7964154481887817, \"tag\": \"NN\"}, {\"index\": \"step\", \"d0\": 2.3549675941467285, \"d1\": 2.2267584800720215, \"tag\": \"NN\"}, {\"index\": \"steps\", \"d0\": 2.5100114345550537, \"d1\": 2.6936066150665283, \"tag\": \"NNS\"}, {\"index\": \"still\", \"d0\": -1.429997444152832, \"d1\": -1.0926551818847656, \"tag\": \"RB\"}, {\"index\": \"stockings\", \"d0\": 4.607441425323486, \"d1\": -1.9057388305664062, \"tag\": \"NNS\"}, {\"index\": \"stop\", \"d0\": 2.435960054397583, \"d1\": 1.4995512962341309, \"tag\": \"VB\"}, {\"index\": \"storm\", \"d0\": 0.5113906264305115, \"d1\": 2.790705442428589, \"tag\": \"NN\"}, {\"index\": \"straddled\", \"d0\": 5.044525146484375, \"d1\": -0.30302900075912476, \"tag\": \"VBD\"}, {\"index\": \"straining\", \"d0\": -3.5475964546203613, \"d1\": -0.18870073556900024, \"tag\": \"VBG\"}, {\"index\": \"straw\", \"d0\": -2.148838520050049, \"d1\": -0.8958373069763184, \"tag\": \"NN\"}, {\"index\": \"street\", \"d0\": 3.594200611114502, \"d1\": 1.771487832069397, \"tag\": \"NN\"}, {\"index\": \"streetcar\", \"d0\": 1.8906242847442627, \"d1\": -0.38514694571495056, \"tag\": \"NN\"}, {\"index\": \"streetcars\", \"d0\": 2.695582151412964, \"d1\": 2.4864566326141357, \"tag\": \"NNS\"}, {\"index\": \"streets\", \"d0\": -0.6693432331085205, \"d1\": 1.5676660537719727, \"tag\": \"NNS\"}, {\"index\": \"stretched\", \"d0\": -3.7058568000793457, \"d1\": -0.5660073757171631, \"tag\": \"VBD\"}, {\"index\": \"strutted\", \"d0\": 1.9111216068267822, \"d1\": 1.158511757850647, \"tag\": \"VBD\"}, {\"index\": \"stucco\", \"d0\": -3.6093978881835938, \"d1\": -0.8322854042053223, \"tag\": \"NN\"}, {\"index\": \"stuff\", \"d0\": -1.2074894905090332, \"d1\": -2.2763450145721436, \"tag\": \"VB\"}, {\"index\": \"suddenly\", \"d0\": -0.4235471785068512, \"d1\": -0.030330277979373932, \"tag\": null}, {\"index\": \"suitcase\", \"d0\": -2.0787081718444824, \"d1\": -0.8944430351257324, \"tag\": \"NN\"}, {\"index\": \"sullen\", \"d0\": -2.6102383136749268, \"d1\": -2.925440549850464, \"tag\": \"JJ\"}, {\"index\": \"sun\", \"d0\": -2.1468594074249268, \"d1\": 0.2571713626384735, \"tag\": \"NN\"}, {\"index\": \"sunday\", \"d0\": -2.383265256881714, \"d1\": 2.3026437759399414, \"tag\": null}, {\"index\": \"sundays\", \"d0\": 3.273998498916626, \"d1\": 0.337626576423645, \"tag\": null}, {\"index\": \"sundials\", \"d0\": -1.0559072494506836, \"d1\": 0.10462645441293716, \"tag\": \"NNS\"}, {\"index\": \"suppleness\", \"d0\": 4.038649082183838, \"d1\": -1.202730655670166, \"tag\": \"NN\"}, {\"index\": \"supporting\", \"d0\": -0.5769199132919312, \"d1\": 2.1629157066345215, \"tag\": \"VBG\"}, {\"index\": \"sure\", \"d0\": 2.7366793155670166, \"d1\": -1.5361171960830688, \"tag\": \"JJ\"}, {\"index\": \"surging\", \"d0\": 1.6210877895355225, \"d1\": -2.3595168590545654, \"tag\": \"VBG\"}, {\"index\": \"surveyed\", \"d0\": -0.14645400643348694, \"d1\": 1.6451432704925537, \"tag\": \"VBD\"}, {\"index\": \"swayed\", \"d0\": 1.3886144161224365, \"d1\": -1.8083271980285645, \"tag\": \"VBN\"}, {\"index\": \"swayed\", \"d0\": 1.3886144161224365, \"d1\": -1.8083271980285645, \"tag\": \"VBD\"}, {\"index\": \"sweet\", \"d0\": 1.9058891534805298, \"d1\": 4.316163539886475, \"tag\": \"JJ\"}, {\"index\": \"sweeter\", \"d0\": 0.9803470969200134, \"d1\": -1.6265660524368286, \"tag\": \"JJR\"}, {\"index\": \"swept\", \"d0\": -1.3394283056259155, \"d1\": 3.88326358795166, \"tag\": \"VBD\"}, {\"index\": \"swings\", \"d0\": 2.9102745056152344, \"d1\": -3.7146058082580566, \"tag\": \"NNS\"}, {\"index\": \"swirled\", \"d0\": 3.3064699172973633, \"d1\": 1.34782075881958, \"tag\": \"VBD\"}, {\"index\": \"swollen\", \"d0\": -0.5111172199249268, \"d1\": -1.7103184461593628, \"tag\": \"VBN\"}, {\"index\": \"swung\", \"d0\": 4.974308490753174, \"d1\": -0.2681557536125183, \"tag\": \"VBD\"}, {\"index\": \"table\", \"d0\": -0.5686275959014893, \"d1\": -1.5464309453964233, \"tag\": \"NN\"}, {\"index\": \"take\", \"d0\": 0.13881346583366394, \"d1\": -1.750518798828125, \"tag\": \"VB\"}, {\"index\": \"taking\", \"d0\": -1.6642577648162842, \"d1\": -0.9463664889335632, \"tag\": \"VBG\"}, {\"index\": \"tanned\", \"d0\": -0.13695666193962097, \"d1\": 1.3272541761398315, \"tag\": \"VBN\"}, {\"index\": \"tapering\", \"d0\": 0.794151246547699, \"d1\": -4.899101257324219, \"tag\": \"VBG\"}, {\"index\": \"taste\", \"d0\": -0.7940652966499329, \"d1\": -2.80755615234375, \"tag\": \"NN\"}, {\"index\": \"taut\", \"d0\": -1.373245358467102, \"d1\": -1.6719427108764648, \"tag\": \"JJ\"}, {\"index\": \"teats\", \"d0\": -0.8756443858146667, \"d1\": -1.7911279201507568, \"tag\": \"NNS\"}, {\"index\": \"tell\", \"d0\": -0.08648191392421722, \"d1\": -0.06563057750463486, \"tag\": \"VB\"}, {\"index\": \"ten\", \"d0\": 0.6891438364982605, \"d1\": -0.2669583559036255, \"tag\": \"CD\"}, {\"index\": \"than\", \"d0\": 0.9373403191566467, \"d1\": 0.22688047587871552, \"tag\": \"CS\"}, {\"index\": \"that\", \"d0\": 0.21440286934375763, \"d1\": -0.045071788132190704, \"tag\": \"WPS\"}, {\"index\": \"that\", \"d0\": 0.21440286934375763, \"d1\": -0.045071788132190704, \"tag\": \"DT\"}, {\"index\": \"that\", \"d0\": 0.21440286934375763, \"d1\": -0.045071788132190704, \"tag\": \"CS\"}, {\"index\": \"that's\", \"d0\": 0.6283388137817383, \"d1\": -0.4484497010707855, \"tag\": \"DT+BEZ\"}, {\"index\": \"the\", \"d0\": -0.18105310201644897, \"d1\": -0.8921006321907043, \"tag\": \"AT\"}, {\"index\": \"their\", \"d0\": 1.2184404134750366, \"d1\": 0.08916979283094406, \"tag\": \"PP$\"}, {\"index\": \"them\", \"d0\": 1.3153678178787231, \"d1\": 0.40212956070899963, \"tag\": \"PPO\"}, {\"index\": \"then\", \"d0\": 0.4782555103302002, \"d1\": 0.6137374043464661, \"tag\": \"RB\"}, {\"index\": \"there\", \"d0\": 0.4816782772541046, \"d1\": 0.1252945065498352, \"tag\": \"RB\"}, {\"index\": \"there\", \"d0\": 0.4816782772541046, \"d1\": 0.1252945065498352, \"tag\": \"EX\"}, {\"index\": \"there's\", \"d0\": -0.03163852170109749, \"d1\": -0.2433227002620697, \"tag\": null}, {\"index\": \"these\", \"d0\": 0.9785735607147217, \"d1\": -0.38606539368629456, \"tag\": \"DTS\"}, {\"index\": \"they\", \"d0\": 0.6148877143859863, \"d1\": -0.36779120564460754, \"tag\": \"PPSS\"}, {\"index\": \"thick\", \"d0\": 1.7264353036880493, \"d1\": 4.351839542388916, \"tag\": \"JJ\"}, {\"index\": \"thighs\", \"d0\": 0.4193671941757202, \"d1\": 0.6430227160453796, \"tag\": \"NNS\"}, {\"index\": \"thin\", \"d0\": -1.752201795578003, \"d1\": -1.2921584844589233, \"tag\": \"JJ\"}, {\"index\": \"thing\", \"d0\": -0.0618414506316185, \"d1\": -2.6229987144470215, \"tag\": \"NN\"}, {\"index\": \"thinner\", \"d0\": 4.593648910522461, \"d1\": -1.8973525762557983, \"tag\": \"JJR\"}, {\"index\": \"this\", \"d0\": -0.06654728949069977, \"d1\": 0.3767660856246948, \"tag\": \"DT\"}, {\"index\": \"those\", \"d0\": -0.26189756393432617, \"d1\": -0.5511292219161987, \"tag\": \"DTS\"}, {\"index\": \"though\", \"d0\": 2.1730244159698486, \"d1\": 0.3925681412220001, \"tag\": \"CS\"}, {\"index\": \"thought\", \"d0\": 1.8424941301345825, \"d1\": 1.340925693511963, \"tag\": \"VBD\"}, {\"index\": \"threw\", \"d0\": -1.1702576875686646, \"d1\": -1.1228729486465454, \"tag\": \"VBD\"}, {\"index\": \"through\", \"d0\": 0.25427502393722534, \"d1\": -0.723471462726593, \"tag\": \"IN\"}, {\"index\": \"thrown\", \"d0\": 0.31072571873664856, \"d1\": -1.508671760559082, \"tag\": \"VBN\"}, {\"index\": \"ticks\", \"d0\": 1.0800832509994507, \"d1\": 1.3961294889450073, \"tag\": \"NNS\"}, {\"index\": \"time\", \"d0\": 4.68795919418335, \"d1\": 1.4659072160720825, \"tag\": \"NN\"}, {\"index\": \"time\", \"d0\": 4.68795919418335, \"d1\": 1.4659072160720825, \"tag\": \"VB\"}, {\"index\": \"time-cast\", \"d0\": -0.28357404470443726, \"d1\": -0.47082918882369995, \"tag\": \"JJ\"}, {\"index\": \"tiny\", \"d0\": 1.3487863540649414, \"d1\": -4.025797367095947, \"tag\": \"JJ\"}, {\"index\": \"tips\", \"d0\": -1.0961236953735352, \"d1\": 3.4158058166503906, \"tag\": \"NNS\"}, {\"index\": \"to\", \"d0\": 0.8969917893409729, \"d1\": 0.520775556564331, \"tag\": \"IN\"}, {\"index\": \"to\", \"d0\": 0.8969917893409729, \"d1\": 0.520775556564331, \"tag\": \"TO\"}, {\"index\": \"toes\", \"d0\": -1.022312879562378, \"d1\": 3.040896415710449, \"tag\": \"NNS\"}, {\"index\": \"tomato\", \"d0\": 1.7609546184539795, \"d1\": 4.398603439331055, \"tag\": \"NN\"}, {\"index\": \"tone\", \"d0\": 4.045437812805176, \"d1\": -0.36172670125961304, \"tag\": \"NN\"}, {\"index\": \"tongue\", \"d0\": -0.9474266767501831, \"d1\": -3.0817227363586426, \"tag\": \"NN\"}, {\"index\": \"too\", \"d0\": 0.4160655438899994, \"d1\": -0.47521522641181946, \"tag\": \"RB\"}, {\"index\": \"took\", \"d0\": 2.3272383213043213, \"d1\": -1.183372974395752, \"tag\": \"VBD\"}, {\"index\": \"top\", \"d0\": -2.1923611164093018, \"d1\": 2.9176948070526123, \"tag\": \"NN\"}, {\"index\": \"torino\", \"d0\": 0.939109206199646, \"d1\": 1.512291431427002, \"tag\": null}, {\"index\": \"torn\", \"d0\": 5.087466239929199, \"d1\": -0.3231850862503052, \"tag\": \"VBN\"}, {\"index\": \"touch\", \"d0\": 0.3758792281150818, \"d1\": -2.1276025772094727, \"tag\": \"NN\"}, {\"index\": \"toward\", \"d0\": 0.8425266146659851, \"d1\": -4.880589485168457, \"tag\": \"IN\"}, {\"index\": \"tower\", \"d0\": 3.3112952709198, \"d1\": -0.2723318934440613, \"tag\": \"NN\"}, {\"index\": \"town\", \"d0\": 2.2417008876800537, \"d1\": 0.3969052731990814, \"tag\": \"NN\"}, {\"index\": \"trains\", \"d0\": -3.6869611740112305, \"d1\": -0.6715589165687561, \"tag\": \"NNS\"}, {\"index\": \"trays\", \"d0\": 2.3004331588745117, \"d1\": 3.8796255588531494, \"tag\": \"NNS\"}, {\"index\": \"trees\", \"d0\": 1.1256799697875977, \"d1\": -3.295069456100464, \"tag\": \"NNS\"}, {\"index\": \"tribute\", \"d0\": 2.4141316413879395, \"d1\": -0.17842206358909607, \"tag\": \"NN\"}, {\"index\": \"tunneled\", \"d0\": -1.4386264085769653, \"d1\": 2.2210965156555176, \"tag\": \"VBD\"}, {\"index\": \"tweezed\", \"d0\": 0.9259086847305298, \"d1\": 1.112587571144104, \"tag\": \"VBN\"}, {\"index\": \"two-story\", \"d0\": 0.8683329224586487, \"d1\": -0.3252100944519043, \"tag\": \"JJ\"}, {\"index\": \"unconcerned\", \"d0\": -2.209547281265259, \"d1\": 1.3683888912200928, \"tag\": \"JJ\"}, {\"index\": \"undulated\", \"d0\": 0.869875431060791, \"d1\": 1.4475395679473877, \"tag\": \"VBD\"}, {\"index\": \"unfalteringly\", \"d0\": -0.7935196161270142, \"d1\": -1.3628170490264893, \"tag\": \"RB\"}, {\"index\": \"unimportant\", \"d0\": 0.38445818424224854, \"d1\": -0.393798828125, \"tag\": \"JJ\"}, {\"index\": \"unity\", \"d0\": -0.3716844916343689, \"d1\": -4.166038513183594, \"tag\": \"NN\"}, {\"index\": \"unusual\", \"d0\": 0.06775813549757004, \"d1\": -2.975452423095703, \"tag\": \"JJ\"}, {\"index\": \"up\", \"d0\": 0.4506218135356903, \"d1\": -0.029273098334670067, \"tag\": \"RP\"}, {\"index\": \"upon\", \"d0\": -0.8803077936172485, \"d1\": -1.402728796005249, \"tag\": \"IN\"}, {\"index\": \"upward\", \"d0\": 0.713241457939148, \"d1\": 1.876481294631958, \"tag\": \"RB\"}, {\"index\": \"variegated\", \"d0\": -0.9451645016670227, \"d1\": -0.45369020104408264, \"tag\": \"VBN\"}, {\"index\": \"very\", \"d0\": 0.8478078842163086, \"d1\": -0.03663427755236626, \"tag\": \"AP\"}, {\"index\": \"vest\", \"d0\": 0.20360448956489563, \"d1\": -1.536474585533142, \"tag\": \"NN\"}, {\"index\": \"vines\", \"d0\": 1.3408031463623047, \"d1\": -3.09784197807312, \"tag\": \"NNS\"}, {\"index\": \"voice\", \"d0\": 3.625521421432495, \"d1\": -2.6792728900909424, \"tag\": \"NN\"}, {\"index\": \"waiting\", \"d0\": 0.24876143038272858, \"d1\": -0.8973144888877869, \"tag\": \"VBG\"}, {\"index\": \"wall\", \"d0\": 0.46016207337379456, \"d1\": -3.3960092067718506, \"tag\": \"NN\"}, {\"index\": \"walls\", \"d0\": -1.4787408113479614, \"d1\": 2.2541463375091553, \"tag\": \"NNS\"}, {\"index\": \"wanted\", \"d0\": 1.4378666877746582, \"d1\": 1.11439847946167, \"tag\": \"VBD\"}, {\"index\": \"warm\", \"d0\": -1.7026100158691406, \"d1\": -4.118950366973877, \"tag\": \"JJ\"}, {\"index\": \"warmth\", \"d0\": -1.248734951019287, \"d1\": -1.6186295747756958, \"tag\": \"NN\"}, {\"index\": \"was\", \"d0\": 1.0247312784194946, \"d1\": 0.25645944476127625, \"tag\": \"BEDZ\"}, {\"index\": \"watching\", \"d0\": 4.110840320587158, \"d1\": -1.502842664718628, \"tag\": \"VBG\"}, {\"index\": \"wave\", \"d0\": -2.807821273803711, \"d1\": -1.924095630645752, \"tag\": \"VB\"}, {\"index\": \"way\", \"d0\": 2.8978185653686523, \"d1\": 1.061703085899353, \"tag\": \"NN\"}, {\"index\": \"we\", \"d0\": 0.004626601468771696, \"d1\": -0.13975340127944946, \"tag\": \"PPSS\"}, {\"index\": \"well\", \"d0\": -1.8329973220825195, \"d1\": 0.298332154750824, \"tag\": null}, {\"index\": \"went\", \"d0\": -2.380805492401123, \"d1\": 2.3934922218322754, \"tag\": \"VBD\"}, {\"index\": \"were\", \"d0\": 0.5443838834762573, \"d1\": -0.46648672223091125, \"tag\": \"BED\"}, {\"index\": \"wet\", \"d0\": -1.9681315422058105, \"d1\": 1.1839454174041748, \"tag\": \"JJ\"}, {\"index\": \"wetness\", \"d0\": -1.8139921426773071, \"d1\": -4.011814117431641, \"tag\": \"NN\"}, {\"index\": \"what\", \"d0\": 0.9826763868331909, \"d1\": 0.5592091083526611, \"tag\": \"WDT\"}, {\"index\": \"when\", \"d0\": 0.9500080347061157, \"d1\": 0.3286539316177368, \"tag\": \"WRB\"}, {\"index\": \"where\", \"d0\": 0.5172827839851379, \"d1\": -0.6597806811332703, \"tag\": \"WRB\"}, {\"index\": \"which\", \"d0\": 1.172540307044983, \"d1\": 0.02696244791150093, \"tag\": \"WDT\"}, {\"index\": \"while\", \"d0\": 0.43756115436553955, \"d1\": -0.3315005600452423, \"tag\": \"NN\"}, {\"index\": \"whirling\", \"d0\": 1.7506383657455444, \"d1\": -2.522543430328369, \"tag\": \"VBG\"}, {\"index\": \"whiskered\", \"d0\": -0.7663868069648743, \"d1\": -1.555776596069336, \"tag\": \"JJ\"}, {\"index\": \"white\", \"d0\": -1.3810193538665771, \"d1\": 4.0399250984191895, \"tag\": \"JJ\"}, {\"index\": \"white-columned\", \"d0\": 0.7031026482582092, \"d1\": 0.5068615674972534, \"tag\": \"JJ\"}, {\"index\": \"who\", \"d0\": 0.4880061745643616, \"d1\": -0.22300197184085846, \"tag\": \"WPS\"}, {\"index\": \"whom\", \"d0\": 0.2981354892253876, \"d1\": -0.7542508840560913, \"tag\": \"WPO\"}, {\"index\": \"whose\", \"d0\": -1.3553187847137451, \"d1\": 3.846792459487915, \"tag\": \"WP$\"}, {\"index\": \"why\", \"d0\": 1.212081789970398, \"d1\": -0.33930641412734985, \"tag\": \"WRB\"}, {\"index\": \"wicker\", \"d0\": 2.9173166751861572, \"d1\": -3.6775453090667725, \"tag\": \"NN\"}, {\"index\": \"wide\", \"d0\": -1.429749846458435, \"d1\": -4.10862922668457, \"tag\": \"RB\"}, {\"index\": \"wide\", \"d0\": -1.429749846458435, \"d1\": -4.10862922668457, \"tag\": \"JJ\"}, {\"index\": \"wife\", \"d0\": 1.6579698324203491, \"d1\": 0.3719325661659241, \"tag\": \"NN\"}, {\"index\": \"wiggled\", \"d0\": 2.6446785926818848, \"d1\": 2.018929958343506, \"tag\": \"VBD\"}, {\"index\": \"window\", \"d0\": 1.5438120365142822, \"d1\": -1.107526421546936, \"tag\": \"NN\"}, {\"index\": \"wine\", \"d0\": -0.7954043745994568, \"d1\": -2.8395884037017822, \"tag\": \"NN\"}, {\"index\": \"with\", \"d0\": -0.18256409466266632, \"d1\": -0.8024128079414368, \"tag\": \"IN\"}, {\"index\": \"withered\", \"d0\": 0.8673722147941589, \"d1\": -1.7466198205947876, \"tag\": \"VBN\"}, {\"index\": \"within\", \"d0\": -1.71615731716156, \"d1\": -1.850156307220459, \"tag\": \"IN\"}, {\"index\": \"without\", \"d0\": 2.8731977939605713, \"d1\": -0.3283044397830963, \"tag\": \"IN\"}, {\"index\": \"woman\", \"d0\": 3.632664203643799, \"d1\": -1.2916749715805054, \"tag\": \"NN\"}, {\"index\": \"women\", \"d0\": -2.5236575603485107, \"d1\": -1.857642412185669, \"tag\": \"NNS\"}, {\"index\": \"wood\", \"d0\": -1.1792008876800537, \"d1\": 2.5731728076934814, \"tag\": \"NN\"}, {\"index\": \"wooden\", \"d0\": 0.2700938284397125, \"d1\": 1.769769310951233, \"tag\": \"JJ\"}, {\"index\": \"work\", \"d0\": 0.8152928352355957, \"d1\": -0.36627086997032166, \"tag\": \"VB\"}, {\"index\": \"would\", \"d0\": 0.5935913920402527, \"d1\": 0.17128659784793854, \"tag\": \"MD\"}, {\"index\": \"wouldn't\", \"d0\": 1.0522239208221436, \"d1\": -0.2587108612060547, \"tag\": \"MD*\"}, {\"index\": \"wrapped\", \"d0\": 2.3238062858581543, \"d1\": 3.8340630531311035, \"tag\": \"VBN\"}, {\"index\": \"wrapped\", \"d0\": 2.3238062858581543, \"d1\": 3.8340630531311035, \"tag\": \"VBD\"}, {\"index\": \"wrinkled\", \"d0\": 0.8563238382339478, \"d1\": -2.034207582473755, \"tag\": \"VBN\"}, {\"index\": \"wrinkled\", \"d0\": 0.8563238382339478, \"d1\": -2.034207582473755, \"tag\": \"VBD\"}, {\"index\": \"yellow\", \"d0\": -1.4369416236877441, \"d1\": -0.46084463596343994, \"tag\": \"JJ\"}, {\"index\": \"yet\", \"d0\": 4.109821796417236, \"d1\": 0.5995880961418152, \"tag\": \"RB\"}, {\"index\": \"you\", \"d0\": 1.3412656784057617, \"d1\": -0.12958455085754395, \"tag\": \"PPSS\"}, {\"index\": \"you\", \"d0\": 1.3412656784057617, \"d1\": -0.12958455085754395, \"tag\": \"PPO\"}, {\"index\": \"you're\", \"d0\": -0.010218145325779915, \"d1\": 0.45310157537460327, \"tag\": null}, {\"index\": \"your\", \"d0\": 0.16978567838668823, \"d1\": -0.020554877817630768, \"tag\": \"PP$\"}, {\"index\": \"youth\", \"d0\": 0.6578078269958496, \"d1\": -2.6864185333251953, \"tag\": \"NN\"}]}};\n",
       "const opt = {};\n",
       "const type = \"vega-lite\";\n",
       "const id = \"6ac24a33-6168-41ab-83c6-7fdd89a5e04c\";\n",
       "\n",
       "const output_area = this;\n",
       "\n",
       "require([\"nbextensions/jupyter-vega/index\"], function(vega) {\n",
       "  const target = document.createElement(\"div\");\n",
       "  target.id = id;\n",
       "  target.className = \"vega-embed\";\n",
       "\n",
       "  const style = document.createElement(\"style\");\n",
       "  style.textContent = [\n",
       "    \".vega-embed .error p {\",\n",
       "    \"  color: firebrick;\",\n",
       "    \"  font-size: 14px;\",\n",
       "    \"}\",\n",
       "  ].join(\"\\\\n\");\n",
       "\n",
       "  // element is a jQuery wrapped DOM element inside the output area\n",
       "  // see http://ipython.readthedocs.io/en/stable/api/generated/\\\n",
       "  // IPython.display.html#IPython.display.Javascript.__init__\n",
       "  element[0].appendChild(target);\n",
       "  element[0].appendChild(style);\n",
       "\n",
       "  vega.render(\"#\" + id, spec, type, opt, output_area);\n",
       "}, function (err) {\n",
       "  if (err.requireType !== \"scripterror\") {\n",
       "    throw(err);\n",
       "  }\n",
       "});\n"
      ],
      "text/plain": [
       "<vega.vegalite.VegaLite at 0x111bbc668>"
      ]
     },
     "metadata": {
      "jupyter-vega": "#6ac24a33-6168-41ab-83c6-7fdd89a5e04c"
     },
     "output_type": "display_data"
    },
    {
     "data": {
      "text/plain": []
     },
     "execution_count": 236,
     "metadata": {},
     "output_type": "execute_result"
    },
    {
     "data": {
      "image/png": "[encoded data removed]"
     },
     "metadata": {
      "jupyter-vega": "#6ac24a33-6168-41ab-83c6-7fdd89a5e04c"
     },
     "output_type": "display_data"
    }
   ],
   "source": [
    "marked = chart.mark_circle(size=50)\n",
    "marked = marked.encode(x=alt.X('d1:Q', title='Dimension 1'), \n",
    "                       y=alt.Y('d0:Q', title='Dimension 2'), \n",
    "                       tooltip='index', \n",
    "                       color=alt.Color('tag', legend=None))\n",
    "marked = marked.properties(title='2-dimensional t-SNE Visualization of our Data').configure_title(fontSize=20)\n",
    "marked.interactive()"
   ]
  },
  {
   "cell_type": "markdown",
   "metadata": {},
   "source": [
    "<a id='phase-5'></a><a id='section-5'></a>\n",
    "\n",
    "---\n",
    "<span class='bold'>Section</span> [Top](#phase-4) &bull; [Bottom](#phase-5) &bull; [5.0 Key Takeaways](#section-5) &bull; [5.1 Closing Notes](#section-5-1)\n",
    "\n",
    "# Closing <a id='phase-5'></a>\n",
    "\n",
    "### <span class='phase-5'>5.0 Key Takeaways</span>\n",
    "<img src='./images/takeaway.jpg' style='float: right; height: 10em; margin-right: 2em;'/>\n",
    "\n",
    "Here are some main points to remember after this presentation:\n",
    "\n",
    "  * Words can be converted into mathematical objects\n",
    "  * Words as mathematical objects can encode and capture deep relationships in the original text\n",
    "  * Word2Vec is only one way of creating word embeddings\n",
    "\n",
    "### <span class='phase-5'>5.1 Closing Notes</span> <a id='section-5'></a>\n",
    "\n",
    "There are existing implementations that already exist that allow you to use Word2Vec technology out of the box.\n",
    "\n",
    "Examples of these include:\n",
    "  * SpaCy\n",
    "  * gensim\n",
    "  * ELMo\n",
    "  * fasttext\n",
    " \n",
    "\n",
    "---\n",
    "\n",
    "References\n",
    "[1] Test"
   ]
  },
  {
   "cell_type": "markdown",
   "metadata": {},
   "source": [
    "---"
   ]
  }
 ],
 "metadata": {
  "kernelspec": {
   "display_name": "Python 3",
   "language": "python",
   "name": "python3"
  },
  "language_info": {
   "codemirror_mode": {
    "name": "ipython",
    "version": 3
   },
   "file_extension": ".py",
   "mimetype": "text/x-python",
   "name": "python",
   "nbconvert_exporter": "python",
   "pygments_lexer": "ipython3",
   "version": "3.6.9"
  }
 },
 "nbformat": 4,
 "nbformat_minor": 2
}
