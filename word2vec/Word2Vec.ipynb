{
 "cells": [
  {
   "cell_type": "code",
   "execution_count": 41,
   "metadata": {},
   "outputs": [
    {
     "data": {
      "text/html": [
       "\n",
       "<style>\n",
       "\n",
       ".banner {\n",
       "    border-radius: 2px;\n",
       "    border-left: solid 5px gray;\n",
       "    padding-left: 1em;\n",
       "}\n",
       "\n",
       ".tip {\n",
       "    background: lightgreen;\n",
       "    border-left: solid 5px green;\n",
       "}\n",
       ".attention {\n",
       "    background: yellow;\n",
       "    border-left: solid 5px orange;\n",
       "}\n",
       "\n",
       ".warning {\n",
       "    background: orange;\n",
       "    border-left: solid 5px red;\n",
       "}\n",
       "\n",
       ".navigation {\n",
       "    font-size: 1.05em;\n",
       "    color: gray;\n",
       "}\n",
       "\n",
       ".navigation:hover {\n",
       "    color: black;\n",
       "}\n",
       "\n",
       ".content {\n",
       "    font-size: 1.1em;\n",
       "}\n",
       "</style>"
      ],
      "text/plain": [
       "<IPython.core.display.HTML object>"
      ]
     },
     "execution_count": 41,
     "metadata": {},
     "output_type": "execute_result"
    }
   ],
   "source": [
    "from IPython.core.display import HTML\n",
    "\n",
    "HTML('''\n",
    "<style>\n",
    "\n",
    ".banner {\n",
    "    border-radius: 2px;\n",
    "    border-left: solid 5px gray;\n",
    "    padding-left: 1em;\n",
    "}\n",
    "\n",
    ".tip {\n",
    "    background: lightgreen;\n",
    "    border-left: solid 5px green;\n",
    "}\n",
    ".attention {\n",
    "    background: yellow;\n",
    "    border-left: solid 5px orange;\n",
    "}\n",
    "\n",
    ".warning {\n",
    "    background: orange;\n",
    "    border-left: solid 5px red;\n",
    "}\n",
    "\n",
    ".navigation {\n",
    "    font-size: 1.05em;\n",
    "    color: gray;\n",
    "}\n",
    "\n",
    ".navigation:hover {\n",
    "    color: black;\n",
    "}\n",
    "\n",
    ".content {\n",
    "    font-size: 1.1em;\n",
    "}\n",
    "</style>''')"
   ]
  },
  {
   "cell_type": "markdown",
   "metadata": {},
   "source": [
    "# Presentation on Word2Vec\n",
    "Glenn Abastillas | 24 March, 2020\n",
    "\n",
    "``` ADD VISUAL OF KING - QUEEN = MAN WITH SVG ```\n",
    "\n",
    "This notebook goes over an example implementation of Word2Vec and some existing packages that perform Word2Vec training.\n",
    "\n",
    "Contents\n",
    "  1.  Preliminary Steps\n",
    "      * [Load Packages](#load_packages)\n",
    "      * [Preprocess Data](#preprocess_data)\n",
    "      * [Quick Background](#quick_background)\n",
    "  2. [Implementation from Scratch](#implementation_from_scratch)\n",
    "      * Word2Vec Flavors: Continuous Back of Words (CBOW) / Skip Grams (SG)\n",
    "      * Training\n",
    "      * Retrieving the trained matrix\n",
    "      * Applications\n",
    "  3. Using an Existing Package\n",
    "\n",
    "__At each step, we will also cover other packages that can be used to acheive the same thing (e.g., Countvectorizer)__\n",
    "  \n",
    "<p class='tip banner'>This is an example of a tip.<p>\n",
    "<p class='attention banner'>This is an example of an attention.<p>\n",
    "<p class='warning banner'>This is an example of a warning.<p>\n",
    "  \n",
    "---\n",
    "\n",
    "### Load Packages <a id=\"load_packages\"></a>\n",
    "First we import packages and clean the data."
   ]
  },
  {
   "cell_type": "code",
   "execution_count": 1,
   "metadata": {},
   "outputs": [],
   "source": [
    "import numpy as np\n",
    "import spacy\n",
    "import tqdm\n",
    "from string import punctuation\n",
    "from nltk.corpus import gutenberg, stopwords\n",
    "from collections import namedtuple"
   ]
  },
  {
   "cell_type": "markdown",
   "metadata": {},
   "source": [
    "We will use data from the `gutenberg` corpus and normalize the input data."
   ]
  },
  {
   "cell_type": "code",
   "execution_count": 2,
   "metadata": {},
   "outputs": [
    {
     "data": {
      "text/plain": [
       "['austen-emma.txt',\n",
       " 'austen-persuasion.txt',\n",
       " 'austen-sense.txt',\n",
       " 'bible-kjv.txt',\n",
       " 'blake-poems.txt',\n",
       " 'bryant-stories.txt',\n",
       " 'burgess-busterbrown.txt',\n",
       " 'carroll-alice.txt',\n",
       " 'chesterton-ball.txt',\n",
       " 'chesterton-brown.txt',\n",
       " 'chesterton-thursday.txt',\n",
       " 'edgeworth-parents.txt',\n",
       " 'melville-moby_dick.txt',\n",
       " 'milton-paradise.txt',\n",
       " 'shakespeare-caesar.txt',\n",
       " 'shakespeare-hamlet.txt',\n",
       " 'shakespeare-macbeth.txt',\n",
       " 'whitman-leaves.txt']"
      ]
     },
     "execution_count": 2,
     "metadata": {},
     "output_type": "execute_result"
    }
   ],
   "source": [
    "gutenberg.fileids()"
   ]
  },
  {
   "cell_type": "code",
   "execution_count": 3,
   "metadata": {},
   "outputs": [
    {
     "name": "stdout",
     "output_type": "stream",
     "text": [
      "Number of sentences: 438\n"
     ]
    }
   ],
   "source": [
    "sents = gutenberg.sents('blake-poems.txt')\n",
    "print(f'Number of sentences: {len(sents)}')"
   ]
  },
  {
   "cell_type": "markdown",
   "metadata": {},
   "source": [
    "`[insert navigation here]`\n",
    "\n",
    "---\n",
    "### Preprocess Data <a id=\"preprocess_data\"></a>\n",
    "##### Normalize Vocabulary\n",
    "\n",
    "To improve processing and richness of our lexical items, we normalize our language data. \n",
    "\n",
    "Normalizing data can involve a variety of tasks depending on the final application of our language model. These tasks including making all words the same case, removing punctuation, and removing **<a id=\"stopword\" style=\"text-decoration: none; cursor: help;\" title=\"Words that contribute little semantic information to a text\">stopwords</a>**.\n",
    "\n",
    "For this presentation, we will use **<a id=\"token\" style=\"text-decoration: none; cursor: help;\" title=\"Combinations of characters separated by spaces (e.g., words, numbers)\">tokens</a>** that are not punctuation nor stopwords.\n",
    "\n",
    "Let's quickly define some functions we will use to pare our text data down."
   ]
  },
  {
   "cell_type": "code",
   "execution_count": 4,
   "metadata": {},
   "outputs": [],
   "source": [
    "stopwords_ = stopwords.words('english')\n",
    "\n",
    "def is_stopword(token):\n",
    "    ''' Check if a specified token is a stopword. '''\n",
    "    try:\n",
    "        return token.lower() in stopwords_\n",
    "    except:\n",
    "        return False\n",
    "\n",
    "def is_valid_token(token):\n",
    "    ''' Check if token is valid, i.e., not a stopword or punctuation '''\n",
    "    try:\n",
    "        return token.isalnum() & ~is_stopword(token)\n",
    "    except:\n",
    "        return False"
   ]
  },
  {
   "cell_type": "markdown",
   "metadata": {},
   "source": [
    "##### First Normalization Step\n",
    "Next, we create our `raw_text` data using the functions we just defined."
   ]
  },
  {
   "cell_type": "code",
   "execution_count": 5,
   "metadata": {},
   "outputs": [
    {
     "name": "stdout",
     "output_type": "stream",
     "text": [
      "Number of sentences : 438\n",
      "CPU times: user 78.9 ms, sys: 6.55 ms, total: 85.5 ms\n",
      "Wall time: 89.6 ms\n"
     ]
    }
   ],
   "source": [
    "%%time\n",
    "normalized_sents = [[word.lower() for word in sent if is_valid_token(word)] for sent in sents]\n",
    "\n",
    "print(f'Number of sentences : {len(normalized_sents)}')"
   ]
  },
  {
   "cell_type": "markdown",
   "metadata": {},
   "source": [
    "With our `normalized_text`, we can create a `dict` to convert the strings into numbers for faster processing down the line. We also create maps for strings to integers, integers to strings, and a probability distribution of word frequencies for possible negative sampling (if there is time)."
   ]
  },
  {
   "cell_type": "code",
   "execution_count": 6,
   "metadata": {},
   "outputs": [
    {
     "name": "stdout",
     "output_type": "stream",
     "text": [
      "Vocabulary size: 1402\n"
     ]
    }
   ],
   "source": [
    "flattened_text = [word for sent in normalized_sents for word in sent]\n",
    "\n",
    "WORDS, COUNTS = np.unique(flattened_text, return_counts=True)\n",
    "\n",
    "PROBS = COUNTS**(3/4) / (COUNTS**(3/4)).sum()\n",
    "\n",
    "INDEX = np.arange(WORDS.size)\n",
    "\n",
    "VOCAB = dict(zip(WORDS, INDEX))\n",
    "VOCABR = dict(zip(INDEX, WORDS))\n",
    "\n",
    "print(f'Vocabulary size: {WORDS.size}')"
   ]
  },
  {
   "cell_type": "markdown",
   "metadata": {},
   "source": [
    "##### Second Normalization Step\n",
    "\n",
    "Using the conversion function defined above, we can convert our `normalized_sents` into `data`, which contains only integers that will be used in our Word2Vec example."
   ]
  },
  {
   "cell_type": "code",
   "execution_count": 7,
   "metadata": {},
   "outputs": [
    {
     "name": "stdout",
     "output_type": "stream",
     "text": [
      "CPU times: user 5 µs, sys: 0 ns, total: 5 µs\n",
      "Wall time: 9.06 µs\n"
     ]
    }
   ],
   "source": [
    "%%time\n",
    "data = (np.array([VOCAB[token] for token in sent]) for sent in normalized_sents)"
   ]
  },
  {
   "cell_type": "markdown",
   "metadata": {},
   "source": [
    "`[insert navigation here]`\n",
    "\n",
    "---\n",
    "\n",
    "Use this reference for later [Dimensions greater than 300 have diminishing returns](https://www.aclweb.org/anthology/D14-1162/)\n",
    "\n",
    "### Quick Background <a id=\"quick_background\"></a>\n",
    "#### Background Into Word2Vec\n",
    "\n",
    "* What is it?\n",
    "  - <p class='content'>Quick definition (implementation of theoretical matrix bit): A method or representing words as numerical vectors, which allow us to improve the efficiency of our models as well as enable us to glean insight on how words behave in a text.</p>\n",
    "  - What is does to text: The Word2Vec model converts words as strings into an array of numbers of n-dimensions by training a shallow neural network and keeping only the trained weights.\n",
    "  - What the output is: The trained weights from the neural network we train are conveniently also act as the word vectors themselves in a matrix format.\n",
    "  \n",
    "* Why do we need it?\n",
    "  - Many uses in AI: Semantic analysis, entity discovery, lexical and lexical relationship analysis, and topic modeling.\n",
    "  - Pros: We can do algebra with words and converting strings to numeric vectors unlocks a host of abilities that we can perform on these numeric vectors.\n",
    "  - Cons: We need a large vocabulary and training can be very time and resources heavy.\n",
    " \n",
    "* What cool things can it do?\n",
    "  - Condense text into a lightweight matrix\n",
    "  - Provide semantic abilities\n",
    "  - Enable data to have algebraic properties\n",
    " \n",
    "* What are competing models?\n",
    "  - Other models to represent text\n",
    "  - GloVe\n",
    "  - Other vectorization models"
   ]
  },
  {
   "cell_type": "markdown",
   "metadata": {},
   "source": [
    "`[insert navigation here]`\n",
    "\n",
    "---\n",
    "## Implementation from Scratch <a id=\"implementation_from_scratch\"></a>\n",
    "\n",
    "For things example, we will create a Word2Vec language model using the data we preprocessed above. \n",
    "\n",
    "In this section, we will develop a **<a id=\"skip-gram\" style=\"text-decoration: none; cursor: help;\" title=\"Using the a token to predict its surroundings\">Skip-gram</a>** flavored Word2Vec model.\n",
    "\n",
    "We will:\n",
    "  * Create Skip-gram windows\n",
    "  * Create preliminary <a id='one-hot' style='text-decoration: none; cursor: help;' title='A vector that is comprised of zeros and ones indicating absence or presence of a value'>one-hot vectors</a>\n",
    "\n",
    "\n",
    "###### Parameters <a id='parameters'></a>\n",
    "First we define some hyperparameters that we use for training."
   ]
  },
  {
   "cell_type": "code",
   "execution_count": 8,
   "metadata": {},
   "outputs": [],
   "source": [
    "parameters = {'window_size' : 2, 'dimensions' : 100, 'learning_rate' : 0.02, 'epochs' : 3}"
   ]
  },
  {
   "cell_type": "markdown",
   "metadata": {},
   "source": [
    "<style>\n",
    "table, td, tr {\n",
    "    border: solid 1px gray;\n",
    "    background: green;\n",
    "}\n",
    "</style>\n",
    "This table quickly describes what each parameter does.\n",
    "\n",
    "Parameters | Data Type | Description\n",
    "--- | :-: | :--\n",
    "`window_size` | `int` | The number of target tokens before and after a central token to include\n",
    "`dimensions` | `int` | The number of dimensions in hidden layer. Dimensions greater than 300 have diminishing returns `[cite]`.\n",
    "`learning_rate` | `float` | How quickly our model will correct itself\n",
    "`epochs` | `int` | The number of rounds the model is trained\n",
    "\n",
    "##### Creating the Training Data <a id=\"creating_the_training_data\"></a>\n",
    "\n",
    "We will generate loose <a id='one-hot' style='text-decoration: none; cursor: help;' title='A vector that is comprised of zeros and ones indicating absence or presence of a value'>one-hot vectors</a> that will serve as input and target data when training our model.\n",
    "\n",
    "First we filter our data to ensure we have sufficient data to window."
   ]
  },
  {
   "cell_type": "code",
   "execution_count": 9,
   "metadata": {},
   "outputs": [
    {
     "name": "stdout",
     "output_type": "stream",
     "text": [
      "Number of sentences in data: 358\n",
      "CPU times: user 4.03 ms, sys: 832 µs, total: 4.86 ms\n",
      "Wall time: 4.57 ms\n"
     ]
    }
   ],
   "source": [
    "%%time\n",
    "data = [sent for sent in data if sent.size >= parameters['window_size'] + 1]\n",
    "\n",
    "print(f'Number of sentences in data: {len(data)}')"
   ]
  },
  {
   "cell_type": "markdown",
   "metadata": {},
   "source": [
    "Now, we generate our one hot vectors using the `VOCAB` as a model for our vector.\n",
    "\n",
    "Let's define a few functions to help use generate these data."
   ]
  },
  {
   "cell_type": "code",
   "execution_count": 10,
   "metadata": {},
   "outputs": [],
   "source": [
    "Datum = namedtuple('Datum', 'target context'.split())\n",
    "\n",
    "def one_hot(token, size=WORDS.size):\n",
    "    ''' Convert an input token into an integer according to a specified reference '''\n",
    "    vector = np.zeros((size, 1))\n",
    "    vector[token] = 1\n",
    "    return vector\n",
    "\n",
    "def process_sentence(sent, processed_sentence={}, window_size=parameters['window_size'] + 1):\n",
    "    ''' Return a dictionary with token keys and contexts as values\n",
    "        \n",
    "        Parameters\n",
    "        ----------\n",
    "            sent (list) : sentence to convert into one-hot vectors \n",
    "                          and group into target and context\n",
    "            processed_sentence (dict) : Previously processed sentences to add to\n",
    "            window_size (int) : Window size of CBOW\n",
    "        \n",
    "        Returns\n",
    "        -------\n",
    "            (dict) object with tokens as keys and their corresponding\n",
    "                   one-hot vector targets and context in the following format:\n",
    "            \n",
    "            >> { token : [[target, [context-1, context-2, ...]], ...]}\n",
    "    '''\n",
    "    for i, token in enumerate(sent):\n",
    "        a, b, j = max(i - window_size, 0), i + window_size, i+1\n",
    "        before, after = sent[a:i], sent[j:b]\n",
    "\n",
    "        context = []\n",
    "\n",
    "        # Loop through the surrounding tokens\n",
    "        for context_token in np.append(before, after):\n",
    "            try:\n",
    "                context.append(one_hot(context_token))\n",
    "            except:\n",
    "                print(token, context_token, a, b, before, after, sent[a:b])\n",
    "                raise\n",
    "        \n",
    "        if token in processed_sentence:\n",
    "            processed_sentence[token].context.append(context)\n",
    "        else:\n",
    "            target = one_hot(token)\n",
    "            processed_sentence[token] = Datum(target, [context])\n",
    "\n",
    "    return processed_sentence"
   ]
  },
  {
   "cell_type": "markdown",
   "metadata": {},
   "source": [
    "Loop through all the sentences to generate `target` and `context` data for training."
   ]
  },
  {
   "cell_type": "code",
   "execution_count": 11,
   "metadata": {},
   "outputs": [
    {
     "name": "stderr",
     "output_type": "stream",
     "text": [
      "100%|██████████| 358/358 [00:00<00:00, 1223.76it/s]\n"
     ]
    }
   ],
   "source": [
    "processed_sentences = {}\n",
    "for sent in tqdm.tqdm(data):\n",
    "    processed_sentences = process_sentence(sent, processed_sentences)\n"
   ]
  },
  {
   "cell_type": "markdown",
   "metadata": {},
   "source": [
    "<p class='attention'>&uparrow; Processing time may vary </p>\n",
    "\n",
    "`[insert navigation here]`\n",
    "\n",
    "---\n",
    "##### Create Layers <a id='create_layers'></a>\n",
    "\n",
    "These matrices will serve as the layers that surround our `word2vec` layer during training."
   ]
  },
  {
   "cell_type": "code",
   "execution_count": 12,
   "metadata": {},
   "outputs": [
    {
     "name": "stdout",
     "output_type": "stream",
     "text": [
      "Dimensions\n",
      "Weights 1 (1402, 100)\n",
      "Weights 2 (1402, 100)\n"
     ]
    }
   ],
   "source": [
    "weights_1 = np.random.random((WORDS.size, parameters['dimensions']))\n",
    "weights_2 = np.random.random((WORDS.size, parameters['dimensions']))\n",
    "print(f'Dimensions\\nWeights 1 {weights_1.shape}\\nWeights 2 {weights_2.shape}')"
   ]
  },
  {
   "cell_type": "markdown",
   "metadata": {},
   "source": [
    "`[insert navigation here]`\n",
    "\n",
    "---\n",
    "###### Feed Forward Algorithm\n",
    "\n",
    "The first part of a two part algorithm defining a <a id='learning-step' style='text-decoration: none; cursor: help;' title='A phase where training data are learned and errors are adjusted throughout the model'>learning step</a>. This algorithm introduces our randomly initialized model to its first evidence of real data to learn from. It then predicts a surrounding vocabulary item from it."
   ]
  },
  {
   "cell_type": "code",
   "execution_count": 13,
   "metadata": {},
   "outputs": [],
   "source": [
    "def softmax(datum):\n",
    "    ''' Return the an array normalized to a probability '''\n",
    "    e = np.exp(datum - datum.max())\n",
    "    return e / e.sum()\n",
    "\n",
    "def forward(datum, weights_1=weights_1, weights_2=weights_2):\n",
    "    ''' Return three matrices corresponding to the prediction, hidden layer, and output '''\n",
    "    hidden = np.dot(weights_1.T, datum)\n",
    "    output = np.dot(weights_2, hidden)\n",
    "    prediction = softmax(output)\n",
    "    return prediction, hidden, output"
   ]
  },
  {
   "cell_type": "markdown",
   "metadata": {},
   "source": [
    "`[insert navigation here]`\n",
    "\n",
    "---\n",
    "###### Backpropagation Algorithm\n",
    "\n",
    "The second part of the two part algorithm defining a <a id='learning-step' style='text-decoration: none; cursor: help;' title='A phase where training data are learned and errors are adjusted throughout the model'>learning step</a>. This algorithm compares the output of the <a id='feed-forward-algorithm' style='text-decoration: none; cursor: help;' title='The algorithm that takes in new data and attempts to make predictions from it'>feed forward algorithm</a> to the input token's actual context, calculates the error, and adjusts the model to correct for it. The adjustments are made in increments set by the learning rate parameter we set in our `parameters` variable."
   ]
  },
  {
   "cell_type": "code",
   "execution_count": 14,
   "metadata": {},
   "outputs": [],
   "source": [
    "def calculate_error(prediction, context):\n",
    "    ''' Return a weights with the summed prediction error '''\n",
    "    error = np.zeros((prediction.size, 1))\n",
    "    for subcontext in context:\n",
    "        for token in subcontext:\n",
    "            error += prediction - token\n",
    "    return error\n",
    "\n",
    "def backpropagate(prediction, hidden, target, context, weights_1=weights_1, weights_2=weights_2, index=INDEX):\n",
    "    ''' Update weight matrices according to output from forward() '''\n",
    "    error = calculate_error(prediction, context)\n",
    "\n",
    "    sample = negative_sample(context)\n",
    "    target_index = index[target.flatten() == 1]\n",
    "    sample = np.append(target_index, sample)\n",
    "    error[~sample] = 0\n",
    "    \n",
    "    weights_2_delta = np.outer(error, hidden)\n",
    "    hidden_error = np.dot(weights_2.T, error)\n",
    "    weights_1_delta = np.outer(hidden_error, target).T\n",
    "    \n",
    "    weights_1 -= weights_1_delta * parameters['learning_rate']\n",
    "    weights_2 -= weights_2_delta * parameters['learning_rate']\n",
    "    \n",
    "def negative_sample(context, n=5, index=INDEX, probs=PROBS):\n",
    "    ''' Return an array of randomly sampled tokens to be updated '''\n",
    "    positives = sum([sum(c) for c in context]).flatten() >= 1\n",
    "    negatives = np.invert(positives)\n",
    "    sample = index[negatives]\n",
    "    p = probs[negatives] / probs[negatives].sum()\n",
    "    return np.random.choice(sample, n, p=p)"
   ]
  },
  {
   "cell_type": "markdown",
   "metadata": {},
   "source": [
    "Sandbox to do negative_sample"
   ]
  },
  {
   "cell_type": "code",
   "execution_count": null,
   "metadata": {},
   "outputs": [],
   "source": [
    "example = processed_sentences[1]\n",
    "target, context = example.target, example.context"
   ]
  },
  {
   "cell_type": "code",
   "execution_count": null,
   "metadata": {},
   "outputs": [],
   "source": [
    "pred, h, u = forward(target)"
   ]
  },
  {
   "cell_type": "code",
   "execution_count": null,
   "metadata": {},
   "outputs": [],
   "source": [
    "%%time\n",
    "backpropagate(pred, h, target, context)"
   ]
  },
  {
   "cell_type": "markdown",
   "metadata": {},
   "source": [
    "`[insert navigation here]`\n",
    "\n",
    "---\n",
    "##### Training Algorithm\n",
    "\n",
    "Having both the feed forward and backpropagation algorithms defined, we can now define a training algorithm to learn all training examples for a single <a id='epoch' style='text-decoration: none; cursor: help;' title='A complete cycle of learning steps through all training data'>epoch</a>."
   ]
  },
  {
   "cell_type": "code",
   "execution_count": 43,
   "metadata": {},
   "outputs": [],
   "source": [
    "def train(training_data, weights_1=weights_1, weights_2=weights_2, parameters=parameters, total=WORDS.size):\n",
    "    ''' Train the Word2Vec model on our training data to generate meaningful word vectors '''\n",
    "    \n",
    "    data = tqdm.tqdm(training_data.items())\n",
    "\n",
    "    for epoch in tqdm.trange(50):\n",
    "        for __, (target, context) in data:\n",
    "#         for __, (target, context) in tqdm.trange(data, total = len(data)):\n",
    "            prediction, hidden, output = forward(target)\n",
    "            backpropagate(prediction, hidden, target, context)"
   ]
  },
  {
   "cell_type": "markdown",
   "metadata": {},
   "source": [
    "`[insert navigation here]`\n",
    "\n",
    "---\n",
    "###### Test Iteration <a id='test_iteration'></a>\n",
    "\n",
    "This cell loops through all our training data to demonstrate what happens in one training <a id='epoch' style='text-decoration: none; cursor: help;' title='A complete cycle of learning steps through all training data'>epoch</a>.\n",
    "\n",
    "<p class='warning'>Processing time may vary</p>"
   ]
  },
  {
   "cell_type": "code",
   "execution_count": 44,
   "metadata": {},
   "outputs": [
    {
     "name": "stderr",
     "output_type": "stream",
     "text": [
      "  0%|          | 0/1384 [00:00<?, ?it/s]\n",
      " 98%|█████████▊| 1355/1384 [00:04<00:00, 336.85it/s]\n",
      "100%|██████████| 1384/1384 [00:04<00:00, 322.60it/s]\n",
      "100%|██████████| 50/50 [03:21<00:00,  4.04s/it]"
     ]
    },
    {
     "name": "stdout",
     "output_type": "stream",
     "text": [
      "CPU times: user 3min 3s, sys: 16.7 s, total: 3min 20s\n",
      "Wall time: 3min 21s\n"
     ]
    },
    {
     "name": "stderr",
     "output_type": "stream",
     "text": [
      "\n"
     ]
    }
   ],
   "source": [
    "%%time\n",
    "train(processed_sentences)"
   ]
  },
  {
   "cell_type": "markdown",
   "metadata": {},
   "source": [
    "##### Looking at Some Examples\n",
    "\n",
    "We define some functions to inspect the output of our model."
   ]
  },
  {
   "cell_type": "code",
   "execution_count": 17,
   "metadata": {},
   "outputs": [],
   "source": [
    "def word_vector(token, model=weights_1):\n",
    "    ''' Return the word vector corresponding to a token '''\n",
    "    return model[token]\n",
    "\n",
    "def similarity(vector1, vector2):\n",
    "    ''' Return the cosine similarity score for two tokens input as vectors '''\n",
    "    if isinstance(vector1, int):\n",
    "        vector1 = word_vector(vector1)\n",
    "        \n",
    "    if isinstance(vector2, int):\n",
    "        vector2 = word_vector(vector2)\n",
    "        \n",
    "    a = np.dot(vector1, vector2)\n",
    "    b = np.dot(vector1, vector1)\n",
    "    c = np.dot(vector2, vector2)\n",
    "    return a / (np.sqrt(b) * np.sqrt(c))"
   ]
  },
  {
   "cell_type": "markdown",
   "metadata": {},
   "source": [
    "We inspect randomly selected words for their similarity score where $similarity \\in [-1,1]$"
   ]
  },
  {
   "cell_type": "code",
   "execution_count": 64,
   "metadata": {},
   "outputs": [
    {
     "name": "stdout",
     "output_type": "stream",
     "text": [
      "increase and sick\n"
     ]
    },
    {
     "data": {
      "text/plain": [
       "-0.9999999999999999"
      ]
     },
     "execution_count": 64,
     "metadata": {},
     "output_type": "execute_result"
    }
   ],
   "source": [
    "v1 = np.random.randint(0, WORDS.size)\n",
    "v2 = np.random.randint(0, WORDS.size)\n",
    "print(f'{VOCABR[v1]} and {VOCABR[v2]}')\n",
    "similarity(v1, v2)"
   ]
  },
  {
   "cell_type": "markdown",
   "metadata": {},
   "source": [
    "Test the current model trained only on a single epoch."
   ]
  },
  {
   "cell_type": "code",
   "execution_count": 54,
   "metadata": {},
   "outputs": [
    {
     "name": "stdout",
     "output_type": "stream",
     "text": [
      "Token number 1194 is \"terror\" along with \"terrific\" with cos score as 0.9999999999999998\n"
     ]
    }
   ],
   "source": [
    "token = np.random.randint(0, WORDS.size)\n",
    "a, b = weights_1[token - 1], weights_1[token]\n",
    "distance = np.dot(a,b) / (np.sqrt(np.dot(a, a)) * np.sqrt(np.dot(b,b)))\n",
    "\n",
    "print(f'Token number {token} is \"{VOCABR[token]}\" along with \"{VOCABR[token-1]}\" with cos score as {distance}')"
   ]
  },
  {
   "cell_type": "code",
   "execution_count": 45,
   "metadata": {},
   "outputs": [],
   "source": [
    "np.savetxt('20200326_blake-poems.csv', weights_1, delimiter=',')"
   ]
  },
  {
   "cell_type": "markdown",
   "metadata": {},
   "source": [
    "`[insert navigation here]`\n",
    "\n",
    "---\n",
    "#### Using Our Trained Model\n",
    "\n",
    "We can use our trained model to `list things we can do with our Word2Vec model from earlier`.\n",
    "\n",
    "First, we define functions to help do those things."
   ]
  },
  {
   "cell_type": "code",
   "execution_count": null,
   "metadata": {},
   "outputs": [],
   "source": [
    "def most_similar(token, model=weights_1):\n",
    "    ''' Return the token and vector of the most similar token in the model to input token '''\n",
    "    best_score = -1\n",
    "    token_vector = word_vector(token)\n",
    "    best_vector = None\n",
    "    for i, current_vector in enumerate(model):\n",
    "        if i == token:\n",
    "            continue\n",
    "            \n",
    "        score = similarity(token_vector, current_vector)\n",
    "        if score > best_score:\n",
    "            best_score = score\n",
    "            best_vector = i\n",
    "    return best_vector, best_score\n",
    "\n",
    "\n",
    "def topn(token, n=3, model=weights_1):\n",
    "    ''' Return the top n tokens and vectors most closely related to input token '''\n",
    "    \n",
    "    similarity_scores, vectors = [], []\n",
    "    token_vector = word_vector(token, model)\n",
    "    \n",
    "    for i, current_vector in enumerate(model):\n",
    "        score = similarity(token_vector, current_vector)\n",
    "        \n",
    "        if similarity_scores and similarity_scores[0] < score:\n",
    "            similarity_scores.insert(0, score)\n",
    "            vectors.insert(0, i)\n",
    "        "
   ]
  },
  {
   "cell_type": "markdown",
   "metadata": {},
   "source": [
    "Test with algebraic interactions of this "
   ]
  },
  {
   "cell_type": "code",
   "execution_count": null,
   "metadata": {},
   "outputs": [],
   "source": [
    "most_similar(994)"
   ]
  },
  {
   "cell_type": "code",
   "execution_count": null,
   "metadata": {},
   "outputs": [],
   "source": [
    "VOCABR[994], VOCABR[8066]"
   ]
  },
  {
   "cell_type": "code",
   "execution_count": null,
   "metadata": {},
   "outputs": [],
   "source": [
    "similarity(word_vector(343), word_vector(344)), VOCABR[343], VOCABR[344]"
   ]
  },
  {
   "cell_type": "markdown",
   "metadata": {},
   "source": [
    "### Visualize Word2Vec"
   ]
  },
  {
   "cell_type": "code",
   "execution_count": 20,
   "metadata": {},
   "outputs": [],
   "source": [
    "import altair as alt\n",
    "import matplotlib.pyplot as plt"
   ]
  },
  {
   "cell_type": "code",
   "execution_count": 67,
   "metadata": {},
   "outputs": [
    {
     "data": {
      "text/plain": [
       "<matplotlib.collections.PathCollection at 0x11d8e4c50>"
      ]
     },
     "execution_count": 67,
     "metadata": {},
     "output_type": "execute_result"
    },
    {
     "data": {
      "image/png": "[encoded data removed]",
      "text/plain": [
       "<Figure size 432x288 with 1 Axes>"
      ]
     },
     "metadata": {
      "needs_background": "light"
     },
     "output_type": "display_data"
    }
   ],
   "source": [
    "plt.scatter(weights_1[:,1], weights_1[:,62])"
   ]
  },
  {
   "cell_type": "markdown",
   "metadata": {},
   "source": [
    "---"
   ]
  },
  {
   "cell_type": "code",
   "execution_count": null,
   "metadata": {},
   "outputs": [],
   "source": [
    "vector.shape, matrix_1.shape"
   ]
  },
  {
   "cell_type": "code",
   "execution_count": null,
   "metadata": {},
   "outputs": [],
   "source": [
    "pred, h, u = forward(vector, matrix_1, matrix_2)\n",
    "pred.shape, h.shape, u.shape"
   ]
  },
  {
   "cell_type": "code",
   "execution_count": null,
   "metadata": {},
   "outputs": [],
   "source": [
    "VOCABR[vector.argmax()]"
   ]
  },
  {
   "cell_type": "code",
   "execution_count": null,
   "metadata": {},
   "outputs": [],
   "source": [
    "VOCABR[pred.argmax()]"
   ]
  },
  {
   "cell_type": "markdown",
   "metadata": {},
   "source": [
    "## Using an Existing Package\n",
    "\n",
    "There are existing implementations that already exist that allow you to use Word2Vec technology out of the box.\n",
    "\n",
    "Examples of these include:\n",
    "  * SpaCy\n",
    "  * gensim\n",
    "  * ELMo\n",
    "  * fasttext\n",
    " \n",
    " \n",
    "### SpaCy"
   ]
  },
  {
   "cell_type": "code",
   "execution_count": null,
   "metadata": {},
   "outputs": [],
   "source": [
    "nlp = spacy.load('en_core_web_sm')"
   ]
  },
  {
   "cell_type": "code",
   "execution_count": null,
   "metadata": {},
   "outputs": [],
   "source": []
  },
  {
   "cell_type": "code",
   "execution_count": null,
   "metadata": {},
   "outputs": [],
   "source": []
  }
 ],
 "metadata": {
  "kernelspec": {
   "display_name": "Python 3",
   "language": "python",
   "name": "python3"
  },
  "language_info": {
   "codemirror_mode": {
    "name": "ipython",
    "version": 3
   },
   "file_extension": ".py",
   "mimetype": "text/x-python",
   "name": "python",
   "nbconvert_exporter": "python",
   "pygments_lexer": "ipython3",
   "version": "3.6.9"
  }
 },
 "nbformat": 4,
 "nbformat_minor": 2
}
