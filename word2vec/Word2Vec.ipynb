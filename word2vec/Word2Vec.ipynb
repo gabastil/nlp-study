{
 "cells": [
  {
   "cell_type": "code",
   "execution_count": 829,
   "metadata": {},
   "outputs": [
    {
     "data": {
      "text/html": [
       "<!DOCTYPE html>\n",
       "<html>\n",
       "<head>\n",
       "    <title>CSS Stylesheet for Jupyter</title>\n",
       "    <style>\n",
       "        .banner {\n",
       "            border-left: solid 5px black;\n",
       "            background: lightgray;\n",
       "            padding-left: 1em;\n",
       "        }\n",
       "\n",
       "        .tip {\n",
       "            border-left-color: darkgreen;\n",
       "            background: lightgreen;\n",
       "        }\n",
       "\n",
       "        .attention {\n",
       "            border-left-color: goldenrod;\n",
       "            background: lightgoldenrodyellow;\n",
       "        }\n",
       "        .warning {\n",
       "            border-left-color: darkred;\n",
       "            background: lightcoral;\n",
       "        }\n",
       "\n",
       "        .section-header {\n",
       "            color: green;\n",
       "        }\n",
       "\n",
       "    </style>\n",
       "</head>\n",
       "<body>\n",
       "\n",
       "</body>\n",
       "</html>"
      ],
      "text/plain": [
       "<IPython.core.display.HTML object>"
      ]
     },
     "execution_count": 829,
     "metadata": {},
     "output_type": "execute_result"
    }
   ],
   "source": [
    "from IPython.core.display import HTML\n",
    "\n",
    "HTML('./style/style.html')"
   ]
  },
  {
   "cell_type": "markdown",
   "metadata": {},
   "source": [
    "# Presentation on Word2Vec\n",
    "Glenn Abastillas | 24 March, 2020\n",
    "\n",
    "``` ADD VISUAL OF KING - QUEEN = MAN WITH SVG ```\n",
    "\n",
    "This notebook goes over an example implementation of Word2Vec and some existing packages that perform Word2Vec training.\n",
    "\n",
    "Contents\n",
    "  1.  Preliminary Steps\n",
    "      * [Load Packages](#load_packages)\n",
    "      * [Preprocess Data](#preprocess_data)\n",
    "      * [Quick Background](#quick_background)\n",
    "  2. [Implementation from Scratch](#implementation_from_scratch)\n",
    "      * Word2Vec Flavors: Continuous Back of Words (CBOW) / Skip Grams (SG)\n",
    "      * Training\n",
    "      * Retrieving the trained matrix\n",
    "      * Applications\n",
    "  3. Using an Existing Package\n",
    "\n",
    "__At each step, we will also cover other packages that can be used to acheive the same thing (e.g., Countvectorizer)__\n",
    "  \n",
    "<p class='tip banner'>This is an example of a tip.<p>\n",
    "<p class='attention banner'>This is an example of an attention.<p>\n",
    "<p class='warning banner'>This is an example of a warning.<p>\n",
    "  \n",
    "---\n",
    "\n",
    "### Load Packages <a id=\"load_packages\"></a>\n",
    "First we import packages and clean the data."
   ]
  },
  {
   "cell_type": "code",
   "execution_count": 773,
   "metadata": {},
   "outputs": [],
   "source": [
    "import numpy as np\n",
    "import spacy\n",
    "from tqdm.notebook import trange, tqdm\n",
    "\n",
    "import pandas as pd\n",
    "import altair as alt\n",
    "import matplotlib.pyplot as plt\n",
    "\n",
    "from string import punctuation\n",
    "from nltk.corpus import brown, gutenberg, stopwords\n",
    "from collections import namedtuple\n",
    "from sklearn.decomposition import PCA\n",
    "from sklearn.preprocessing import StandardScaler\n",
    "from sklearn.manifold import TSNE\n",
    "\n",
    "alt.renderers.enable('notebook')\n",
    "corpus = brown"
   ]
  },
  {
   "cell_type": "markdown",
   "metadata": {},
   "source": [
    "We will use data from the `gutenberg` corpus and normalize the input data."
   ]
  },
  {
   "cell_type": "code",
   "execution_count": 775,
   "metadata": {},
   "outputs": [
    {
     "name": "stdout",
     "output_type": "stream",
     "text": [
      "Number of sentences: 100\n",
      "Number of words: 2,259\n"
     ]
    }
   ],
   "source": [
    "title = 'ca11'\n",
    "sents = corpus.sents(title)\n",
    "words = corpus.words(title)\n",
    "\n",
    "print(f'Number of sentences: {len(sents):,}')\n",
    "print(f'Number of words: {len(words):,}')"
   ]
  },
  {
   "cell_type": "code",
   "execution_count": 150,
   "metadata": {},
   "outputs": [],
   "source": [
    "sents = ['sarah is my mother who married my father'.split(), \n",
    "         'peter is my father and best friend'.split(), \n",
    "         'my dad works all day'.split(),\n",
    "         'sarah and peter live in our house but work outside the house'.split(),\n",
    "         'i love my mother and father'.split(),\n",
    "         'i love my mom and dad'.split(),\n",
    "         'mom is at work and dad is at home'.split(),\n",
    "         'alan turing is the organization that dad works for'.split(),\n",
    "         '3m is where my mom works'.split(),\n",
    "         'i work from home a lot'.split()]\n",
    "words = [word for sent in sents for word in sent]"
   ]
  },
  {
   "cell_type": "code",
   "execution_count": 464,
   "metadata": {},
   "outputs": [],
   "source": [
    "text = \"\"\"\"The Road Not Taken\" is a narrative poem. It reads naturally or conversationally and begins as a kind of photographic depiction of a quiet moment in woods. It consists of four stanzas of 5 lines each. The first line rhymes with the third and fourth, and the second line rhymes with the fifth (ABAAB). The meter is basically iambic tetrameter, with each line having four two-syllable feet. Though in almost every line, in different positions, an iamb is replaced with an anapest. The variation of the rhythm gives naturalness, a feeling of thought occurring spontaneously, and it also affects the reader's sense of expectation.[3] In the only line that contains strictly iambs, the more regular rhythm supports the idea of a turning towards an acceptance of a kind of reality: \"Though as for that the passing there … \" In the final line, the way the rhyme and rhythm work together is significantly different, and catches the reader off guard.[4]\n",
    "\n",
    "It is one of Frost's most popular works. Some have said that it is one of his most misunderstood poems, claiming that it is not simply a poem that champions the idea of \"following your own path\", but that the poem, they suggest, expresses some irony regarding that idea.[5][1]\n",
    "\n",
    "Frost's biographer Lawrance Thompson suggests that the poem's narrator is \"one who habitually wastes energy in regretting any choice made: belatedly but wistfully he sighs over the attractive alternative rejected\".[6] Thompson also says that when introducing the poem in readings, Frost would say that the speaker was based on his friend Edward Thomas. In Frost's words, Thomas was \"a person who, whichever road he went, would be sorry he didn't go the other. He was hard on himself that way.\"[7]\n",
    "\n",
    "Regarding the \"sigh\" that is mentioned in the last stanza, it may be seen as an expression of regret or of satisfaction, but there is significance in the difference between what the speaker has just said of the two roads, and what he will say in the future.[8] According to the biographer Lawrance Thompson, as Frost was once about to read the poem, he commented to his audience, \"You have to be careful of that one; it's a tricky poem—very tricky,\" perhaps intending to suggest the poem's ironic possibilities.[6][9] A New York Times Sunday book review on Brian Hall's 2008 biography Fall of Frost states: \"Whichever way they go, they're sure to miss something good on the other path.\"[10]\"\"\""
   ]
  },
  {
   "cell_type": "code",
   "execution_count": 467,
   "metadata": {},
   "outputs": [],
   "source": [
    "sents = [[word.lower() for word in sent.split()] for sent in text.split('.')]\n",
    "words = [word for sent in sents for word in sent]"
   ]
  },
  {
   "cell_type": "markdown",
   "metadata": {},
   "source": [
    "Generate word encodings and word probabilities."
   ]
  },
  {
   "cell_type": "code",
   "execution_count": 776,
   "metadata": {},
   "outputs": [],
   "source": [
    "words = [word.lower() for word in words]\n",
    "\n",
    "WORDS, COUNTS = np.unique(words, return_counts=True)\n",
    "\n",
    "PROBS = COUNTS**0.75 / (COUNTS**0.75).sum()\n",
    "\n",
    "INDEX = np.arange(WORDS.size)\n",
    "\n",
    "VOCAB = dict(zip(WORDS, INDEX))\n",
    "VOCABR = dict(zip(INDEX, WORDS))"
   ]
  },
  {
   "cell_type": "markdown",
   "metadata": {},
   "source": [
    "---\n",
    "##### Visual Inspection\n",
    "\n",
    "A quick look into our corpus reveals that the most frequent sentences in our corpus are 3, 16, and 10 tokens long."
   ]
  },
  {
   "cell_type": "code",
   "execution_count": 821,
   "metadata": {},
   "outputs": [],
   "source": [
    "lengths = [len(sent) for sent in sents]\n",
    "lengths_data = pd.DataFrame(lengths, columns=['Sentence Length'])\n",
    "lengths_data = lengths_data['Sentence Length'].value_counts()"
   ]
  },
  {
   "cell_type": "markdown",
   "metadata": {},
   "source": [
    "Let's visualize the counts of sentence length."
   ]
  },
  {
   "cell_type": "code",
   "execution_count": 825,
   "metadata": {},
   "outputs": [
    {
     "data": {
      "text/plain": [
       "Text(0, 0.5, 'Counts')"
      ]
     },
     "execution_count": 825,
     "metadata": {},
     "output_type": "execute_result"
    },
    {
     "data": {
      "image/png": "[encoded data removed]",
      "text/plain": [
       "<Figure size 1440x360 with 1 Axes>"
      ]
     },
     "metadata": {
      "needs_background": "light"
     },
     "output_type": "display_data"
    }
   ],
   "source": [
    "params = {'kind' : 'bar', 'figsize' : (20, 5), 'title' : f'Tally of Sentence Lengths'}\n",
    "ax = lengths_data.plot(**params)\n",
    "ax.set_xlabel('Number of tokens in a sentence')\n",
    "ax.set_ylabel('Counts')"
   ]
  },
  {
   "cell_type": "markdown",
   "metadata": {},
   "source": [
    "---\n",
    "\n",
    "##### Preprocessing the Text\n",
    "\n",
    "Next we preprocess the text to get rid of overly frequent words (e.g., `the`) and stopwords (e.g., `and`, `but`). \n",
    "\n",
    "\\[INSERT IMAGE HERE OF CROSSED OUT STOPWORDS\\]\n",
    "\n",
    "These functions help us do that filtering."
   ]
  },
  {
   "cell_type": "code",
   "execution_count": 831,
   "metadata": {},
   "outputs": [],
   "source": [
    "stopwords_ = stopwords.words('english')\n",
    "\n",
    "def is_stopword(token):\n",
    "    ''' Check if a specified token is a stopword. '''\n",
    "    try:\n",
    "        return token.lower() in stopwords_\n",
    "    except:\n",
    "        return False\n",
    "\n",
    "def is_valid_token(token):\n",
    "    ''' Check if token is valid, i.e., not a stopword or punctuation '''\n",
    "    try:\n",
    "        return token.isalnum() & ~is_stopword(token)\n",
    "    except:\n",
    "        return False\n",
    "\n",
    "def subsample(vocabulary, probs=PROBS, sample_rate=0.001):\n",
    "    ''' Return the indices of words to be excluded '''\n",
    "    p_keep = (np.sqrt(probs / sample_rate) + 1) * sample_rate / probs\n",
    "    p_keep[p_keep >= 1] = 1\n",
    "    return p_keep\n",
    "    "
   ]
  },
  {
   "cell_type": "markdown",
   "metadata": {},
   "source": [
    "##### First Normalization Step\n",
    "Next, we create our `raw_text` data using the functions we just defined."
   ]
  },
  {
   "cell_type": "markdown",
   "metadata": {},
   "source": [
    "###### Subsampling\n",
    "\n",
    "Remove overly frequent words that may not contribute much to vector meanings (e.g., the). First, generate a list of frequent words with a low probability of keeping them (e.g., $P_{keep}(w_i) < 0.75$)\n",
    "\n",
    "<p class='attention banner'>cite this paper</p>"
   ]
  },
  {
   "cell_type": "code",
   "execution_count": 832,
   "metadata": {},
   "outputs": [],
   "source": [
    "p_keep = subsample(WORDS)\n",
    "exclude = [word.lower() for word in WORDS[p_keep < 0.75]]"
   ]
  },
  {
   "cell_type": "markdown",
   "metadata": {},
   "source": [
    "Update the sentences with the new `exclude` filter.\n",
    "\n",
    "<p class='attention banner'>Examplain usage of timer?</p>"
   ]
  },
  {
   "cell_type": "code",
   "execution_count": 833,
   "metadata": {},
   "outputs": [
    {
     "name": "stdout",
     "output_type": "stream",
     "text": [
      "Number of sentences: 100\n",
      "CPU times: user 1.66 ms, sys: 805 µs, total: 2.47 ms\n",
      "Wall time: 2.46 ms\n"
     ]
    }
   ],
   "source": [
    "%%time\n",
    "sents = [[word.lower() for word in sent if (word.lower() not in exclude) and word.isalnum()] for sent in sents]\n",
    "print(f'Number of sentences: {len(sents):,}')"
   ]
  },
  {
   "cell_type": "markdown",
   "metadata": {},
   "source": [
    "##### Second Normalization Step\n",
    "\n",
    "Using the conversion function defined above, we can convert our `normalized_sents` into `data`, which contains only integers that will be used in our Word2Vec example."
   ]
  },
  {
   "cell_type": "code",
   "execution_count": 834,
   "metadata": {},
   "outputs": [
    {
     "name": "stdout",
     "output_type": "stream",
     "text": [
      "CPU times: user 200 µs, sys: 672 µs, total: 872 µs\n",
      "Wall time: 882 µs\n"
     ]
    }
   ],
   "source": [
    "%%time\n",
    "data = (np.array([VOCAB[token] for token in sent]) for sent in sents)"
   ]
  },
  {
   "cell_type": "markdown",
   "metadata": {},
   "source": [
    "`[insert navigation here]`\n",
    "\n",
    "---\n",
    "\n",
    "Use this reference for later [Dimensions greater than 300 have diminishing returns](https://www.aclweb.org/anthology/D14-1162/)\n",
    "\n",
    "### Quick Background <a id=\"quick_background\"></a>\n",
    "#### Background Into Word2Vec\n",
    "\n",
    "<p class='warning banner'>Add images of class vector relationships</p>\n",
    "\n",
    "* What is it?\n",
    "  - <p class='content'>Quick definition (implementation of theoretical matrix bit): A method or representing words as numerical vectors, which allow us to improve the efficiency of our models as well as enable us to glean insight on how words behave in a text.</p>\n",
    "  - What is does to text: The Word2Vec model converts words as strings into an array of numbers of n-dimensions by training a shallow neural network and keeping only the trained weights.\n",
    "  - What the output is: The trained weights from the neural network we train are conveniently also act as the word vectors themselves in a matrix format.\n",
    "\n",
    "<p class='warning banner'>Add images of linalg</p>\n",
    "* Why do we need it?\n",
    "  - Many uses in AI: Semantic analysis, entity discovery, lexical and lexical relationship analysis, and topic modeling.\n",
    "  - Pros: We can do algebra with words and converting strings to numeric vectors unlocks a host of abilities that we can perform on these numeric vectors.\n",
    "  - Cons: We need a large vocabulary and training can be very time and resources heavy.\n",
    " \n",
    " \n",
    "<p class='warning banner'>Add classic image of king - man + woman = queen but as a rebus</p>\n",
    "* What cool things can it do?\n",
    "  - Condense text into a lightweight matrix\n",
    "  - Provide semantic abilities\n",
    "  - Enable data to have algebraic properties\n",
    " \n",
    "* What are competing models?\n",
    "  - Other models to represent text\n",
    "  - GloVe\n",
    "  - Other vectorization models"
   ]
  },
  {
   "cell_type": "markdown",
   "metadata": {},
   "source": [
    "`[insert navigation here]`\n",
    "\n",
    "---\n",
    "## Implementation from Scratch <a id=\"implementation_from_scratch\"></a>\n",
    "\n",
    "For things example, we will create a Word2Vec language model using the data we preprocessed above. \n",
    "\n",
    "In this section, we will develop a **<a id=\"skip-gram\" style=\"text-decoration: none; cursor: help;\" title=\"Using the a token to predict its surroundings\">Skip-gram</a>** flavored Word2Vec model.\n",
    "\n",
    "We will:\n",
    "  * Create Skip-gram windows\n",
    "  * Create preliminary <a id='one-hot' style='text-decoration: none; cursor: help;' title='A vector that is comprised of zeros and ones indicating absence or presence of a value'>one-hot vectors</a>\n",
    "\n",
    "\n",
    "###### Parameters <a id='parameters'></a>\n",
    "First we define some hyperparameters that we use for training."
   ]
  },
  {
   "cell_type": "code",
   "execution_count": 835,
   "metadata": {},
   "outputs": [],
   "source": [
    "parameters = {'window_size' : 2, 'dimensions' : 100, 'learning_rate' : 0.02, 'epochs' : 50}"
   ]
  },
  {
   "cell_type": "markdown",
   "metadata": {},
   "source": [
    "<p class='attention banner'>Style this table later and move to before the cell</p>\n",
    "This table quickly describes what each parameter does.\n",
    "\n",
    "Parameters | Data Type | Description\n",
    "--- | :-: | :--\n",
    "`window_size` | `int` | The number of target tokens before and after a central token to include\n",
    "`dimensions` | `int` | The number of dimensions in hidden layer. Dimensions greater than 300 have diminishing returns `[cite]`.\n",
    "`learning_rate` | `float` | How quickly our model will correct itself\n",
    "`epochs` | `int` | The number of rounds the model is trained\n",
    "\n",
    "##### Creating the Training Data <a id=\"creating_the_training_data\"></a>\n",
    "\n",
    "We will generate loose <a id='one-hot' style='text-decoration: none; cursor: help;' title='A vector that is comprised of zeros and ones indicating absence or presence of a value'>one-hot vectors</a> that will serve as input and target data when training our model.\n",
    "\n",
    "First we filter our data to ensure we have sufficient data to window."
   ]
  },
  {
   "cell_type": "code",
   "execution_count": 836,
   "metadata": {},
   "outputs": [
    {
     "name": "stdout",
     "output_type": "stream",
     "text": [
      "Number of sentences in data: 85\n",
      "CPU times: user 1.53 ms, sys: 1.42 ms, total: 2.95 ms\n",
      "Wall time: 5.63 ms\n"
     ]
    }
   ],
   "source": [
    "%%time\n",
    "data = [sent for sent in data if sent.size >= parameters['window_size'] + 2]\n",
    "\n",
    "print(f'Number of sentences in data: {len(data)}')"
   ]
  },
  {
   "cell_type": "markdown",
   "metadata": {},
   "source": [
    "Now, we generate our one hot vectors using the `VOCAB` as a model for our vector.\n",
    "\n",
    "Let's define a few functions to help use generate these data."
   ]
  },
  {
   "cell_type": "code",
   "execution_count": 837,
   "metadata": {},
   "outputs": [],
   "source": [
    "Datum = namedtuple('Datum', 'target context'.split())\n",
    "\n",
    "def one_hot(token, size=WORDS.size):\n",
    "    ''' Convert an input token into an integer according to a specified reference '''\n",
    "    vector = np.zeros((size, 1))\n",
    "    vector[token] = 1\n",
    "    return vector\n",
    "\n",
    "def generate_examples(data, examples=[], size=parameters['window_size']):\n",
    "    ''' Create a example data with the structure [(context, targets), ...] '''\n",
    "    for i, sentence in tqdm(enumerate(data), desc='Generating examples', total=len(data)):\n",
    "        for j, token in enumerate(sentence):\n",
    "            before = max(j - size, 0)\n",
    "            after = j + size\n",
    "            skip = j + 1\n",
    "\n",
    "            context = one_hot(sentence[j])\n",
    "            targets = np.append(sentence[before:j], sentence[skip:after])\n",
    "            \n",
    "            _targets = []\n",
    "        \n",
    "            for target in targets:\n",
    "                _targets.append(one_hot(target))\n",
    "                \n",
    "            examples.append((context, _targets))\n",
    "    \n",
    "    return examples"
   ]
  },
  {
   "cell_type": "markdown",
   "metadata": {},
   "source": [
    "Loop through all the sentences to generate `target` and `context` data for training.\n",
    "<p class='attention'>Processing time may vary </p>"
   ]
  },
  {
   "cell_type": "code",
   "execution_count": 786,
   "metadata": {},
   "outputs": [
    {
     "data": {
      "application/vnd.jupyter.widget-view+json": {
       "model_id": "ebd34f623eec49de804ace237541dd1d",
       "version_major": 2,
       "version_minor": 0
      },
      "text/plain": [
       "HBox(children=(FloatProgress(value=0.0, description='Generating examples', max=85.0, style=ProgressStyle(descr…"
      ]
     },
     "metadata": {},
     "output_type": "display_data"
    },
    {
     "name": "stdout",
     "output_type": "stream",
     "text": [
      "\n",
      "1330 examples\n"
     ]
    }
   ],
   "source": [
    "examples = generate_examples(data)\n",
    "print(f'{len(examples)} examples')"
   ]
  },
  {
   "cell_type": "markdown",
   "metadata": {},
   "source": [
    "`[insert navigation here]`\n",
    "\n",
    "---\n",
    "\n",
    "<p class='tip'>New Section</p>\n",
    "\n",
    "### Create Layers <a id='create_layers'></a>\n",
    "\n",
    "These matrices will serve as the layers that surround our `word2vec` layer during training."
   ]
  },
  {
   "cell_type": "code",
   "execution_count": 642,
   "metadata": {},
   "outputs": [
    {
     "name": "stdout",
     "output_type": "stream",
     "text": [
      "Dimensions\n",
      "Weights 1 (242, 100)\n",
      "Weights 2 (242, 100)\n"
     ]
    }
   ],
   "source": [
    "weights_1 = np.random.random((WORDS.size, parameters['dimensions']))\n",
    "weights_2 = np.random.random((WORDS.size, parameters['dimensions']))\n",
    "print(f'Dimensions\\nWeights 1 {weights_1.shape}\\nWeights 2 {weights_2.shape}')"
   ]
  },
  {
   "cell_type": "markdown",
   "metadata": {},
   "source": [
    "`[insert navigation here]`\n",
    "\n",
    "---\n",
    "###### Feed Forward Algorithm\n",
    "\n",
    "The first part of a two part algorithm defining a <a id='learning-step' style='text-decoration: none; cursor: help;' title='A phase where training data are learned and errors are adjusted throughout the model'>learning step</a>. This algorithm introduces our randomly initialized model to its first evidence of real data to learn from. It then predicts a surrounding vocabulary item from it."
   ]
  },
  {
   "cell_type": "code",
   "execution_count": 643,
   "metadata": {},
   "outputs": [],
   "source": [
    "def forward(datum, weights_1=weights_1, weights_2=weights_2):\n",
    "    ''' Return three matrices corresponding to the prediction, hidden layer, and output '''\n",
    "    hidden = np.dot(weights_1.T, datum)\n",
    "    output = np.dot(weights_2, hidden)\n",
    "    prediction = softmax(output)\n",
    "    return prediction, hidden, output\n",
    "\n",
    "def softmax(datum):\n",
    "    ''' Return the an array normalized to a probability '''\n",
    "    e = np.exp(datum - datum.max())\n",
    "    return e / e.sum()\n",
    "\n",
    "def calculate_loss(datum, prediction):\n",
    "    ''' Calculate the cross entropy for the output of a forward pass '''\n",
    "    dimensions = prediction.shape[1]\n",
    "    inner_sum = np.sum(datum * np.log(prediction), axis=0, keepdims=1)\n",
    "    outer_sum = np.sum(inner_sum, axis=1)\n",
    "    return - (1 / dimensions) * outer_sum"
   ]
  },
  {
   "cell_type": "markdown",
   "metadata": {},
   "source": [
    "<p class='warning'>Old functions</p>"
   ]
  },
  {
   "cell_type": "code",
   "execution_count": 644,
   "metadata": {},
   "outputs": [],
   "source": [
    "def calculate_error(prediction, context):\n",
    "    ''' Return a weights with the summed prediction error '''\n",
    "    error = np.zeros((prediction.size, 1))\n",
    "    for subcontext in context:\n",
    "        for token in subcontext:\n",
    "            error += prediction - token\n",
    "    return error\n",
    "\n",
    "def backpropagate(prediction, hidden, target, context, weights_1=weights_1, weights_2=weights_2, index=INDEX):\n",
    "    ''' Update weight matrices according to output from forward() '''\n",
    "    error = calculate_error(prediction, context)\n",
    "    \n",
    "    weights_2_delta = np.outer(error, hidden)\n",
    "    hidden_error = np.dot(weights_2.T, error)\n",
    "    weights_1_delta = np.outer(hidden_error, target).T\n",
    "    \n",
    "    weights_1 -= weights_1_delta * parameters['learning_rate']\n",
    "    weights_2 -= weights_2_delta * parameters['learning_rate']"
   ]
  },
  {
   "cell_type": "markdown",
   "metadata": {},
   "source": [
    "`[insert navigation here]`\n",
    "\n",
    "---\n",
    "##### Training Algorithm\n",
    "\n",
    "Having both the feed forward and backpropagation algorithms defined, we can now define a training algorithm to learn all training examples for a single <a id='epoch' style='text-decoration: none; cursor: help;' title='A complete cycle of learning steps through all training data'>epoch</a>."
   ]
  },
  {
   "cell_type": "code",
   "execution_count": 645,
   "metadata": {},
   "outputs": [],
   "source": [
    "def train(examples, weights_1=weights_1, weights_2=weights_2, parameters=parameters, total=WORDS.size):\n",
    "    ''' Train the Word2Vec model on our training data to generate meaningful word vectors '''\n",
    "    \n",
    "    epochs = trange(parameters['epochs'], desc=\"Training\")\n",
    "    loss = []\n",
    "    predictions = []\n",
    "\n",
    "    for epoch in epochs:\n",
    "        data = tqdm(examples, desc=f'Epoch {epoch}', leave=False)\n",
    "        for context, targets in data:\n",
    "            prediction, hidden, output = forward(context)\n",
    "            backpropagate(prediction, hidden, context, targets)\n",
    "            predictions.append(prediction.argmax())\n",
    "#             loss.append(calculate_loss(context, prediction)[0])\n",
    "    return loss, predictions"
   ]
  },
  {
   "cell_type": "code",
   "execution_count": 649,
   "metadata": {},
   "outputs": [
    {
     "data": {
      "text/plain": [
       "[85,\n",
       " 196,\n",
       " 87,\n",
       " 209,\n",
       " 68,\n",
       " 73,\n",
       " 142,\n",
       " 126,\n",
       " 89,\n",
       " 95,\n",
       " 176,\n",
       " 40,\n",
       " 228,\n",
       " 21,\n",
       " 161,\n",
       " 41,\n",
       " 24,\n",
       " 212,\n",
       " 10,\n",
       " 155,\n",
       " 192,\n",
       " 210,\n",
       " 220,\n",
       " 100,\n",
       " 169,\n",
       " 22,\n",
       " 172,\n",
       " 4,\n",
       " 203,\n",
       " 66,\n",
       " 39,\n",
       " 85,\n",
       " 104,\n",
       " 197,\n",
       " 91,\n",
       " 52,\n",
       " 211,\n",
       " 102,\n",
       " 23,\n",
       " 168,\n",
       " 57,\n",
       " 201,\n",
       " 82,\n",
       " 45,\n",
       " 61,\n",
       " 211,\n",
       " 234,\n",
       " 49,\n",
       " 195,\n",
       " 206,\n",
       " 190,\n",
       " 4,\n",
       " 66,\n",
       " 99,\n",
       " 232,\n",
       " 59,\n",
       " 163,\n",
       " 147,\n",
       " 121,\n",
       " 208,\n",
       " 18,\n",
       " 51,\n",
       " 132,\n",
       " 213,\n",
       " 217,\n",
       " 81,\n",
       " 141,\n",
       " 102,\n",
       " 190,\n",
       " 108,\n",
       " 236,\n",
       " 135,\n",
       " 90,\n",
       " 168,\n",
       " 225,\n",
       " 121,\n",
       " 142,\n",
       " 84,\n",
       " 6,\n",
       " 68,\n",
       " 97,\n",
       " 19,\n",
       " 224,\n",
       " 101,\n",
       " 83,\n",
       " 202,\n",
       " 66,\n",
       " 235,\n",
       " 171,\n",
       " 14,\n",
       " 44,\n",
       " 27,\n",
       " 65,\n",
       " 203,\n",
       " 136,\n",
       " 51,\n",
       " 206,\n",
       " 210,\n",
       " 84,\n",
       " 179,\n",
       " 221,\n",
       " 134,\n",
       " 166,\n",
       " 133,\n",
       " 93,\n",
       " 120,\n",
       " 197,\n",
       " 173,\n",
       " 42,\n",
       " 132,\n",
       " 59,\n",
       " 87,\n",
       " 111,\n",
       " 172,\n",
       " 142,\n",
       " 137,\n",
       " 66,\n",
       " 45,\n",
       " 91,\n",
       " 49,\n",
       " 168,\n",
       " 205,\n",
       " 84,\n",
       " 33,\n",
       " 57,\n",
       " 238,\n",
       " 104,\n",
       " 231,\n",
       " 214,\n",
       " 21,\n",
       " 87]"
      ]
     },
     "execution_count": 649,
     "metadata": {},
     "output_type": "execute_result"
    }
   ],
   "source": [
    "loss[1]"
   ]
  },
  {
   "cell_type": "markdown",
   "metadata": {},
   "source": [
    "`[insert navigation here]`\n",
    "\n",
    "---\n",
    "###### Test Iteration <a id='test_iteration'></a>\n",
    "\n",
    "This cell loops through all our training data to demonstrate what happens in one training <a id='epoch' style='text-decoration: none; cursor: help;' title='A complete cycle of learning steps through all training data'>epoch</a>.\n",
    "\n",
    "<p class='warning'>Processing time may vary</p>"
   ]
  },
  {
   "cell_type": "code",
   "execution_count": 651,
   "metadata": {},
   "outputs": [
    {
     "data": {
      "application/vnd.jupyter.widget-view+json": {
       "model_id": "7ddf33db880743ec8ea5d1389a3c5e64",
       "version_major": 2,
       "version_minor": 0
      },
      "text/plain": [
       "HBox(children=(FloatProgress(value=0.0, description='Training', max=10.0, style=ProgressStyle(description_widt…"
      ]
     },
     "metadata": {},
     "output_type": "display_data"
    },
    {
     "data": {
      "application/vnd.jupyter.widget-view+json": {
       "model_id": "",
       "version_major": 2,
       "version_minor": 0
      },
      "text/plain": [
       "HBox(children=(FloatProgress(value=0.0, description='Epoch 0', max=131.0, style=ProgressStyle(description_widt…"
      ]
     },
     "metadata": {},
     "output_type": "display_data"
    },
    {
     "data": {
      "application/vnd.jupyter.widget-view+json": {
       "model_id": "",
       "version_major": 2,
       "version_minor": 0
      },
      "text/plain": [
       "HBox(children=(FloatProgress(value=0.0, description='Epoch 1', max=131.0, style=ProgressStyle(description_widt…"
      ]
     },
     "metadata": {},
     "output_type": "display_data"
    },
    {
     "data": {
      "application/vnd.jupyter.widget-view+json": {
       "model_id": "",
       "version_major": 2,
       "version_minor": 0
      },
      "text/plain": [
       "HBox(children=(FloatProgress(value=0.0, description='Epoch 2', max=131.0, style=ProgressStyle(description_widt…"
      ]
     },
     "metadata": {},
     "output_type": "display_data"
    },
    {
     "data": {
      "application/vnd.jupyter.widget-view+json": {
       "model_id": "",
       "version_major": 2,
       "version_minor": 0
      },
      "text/plain": [
       "HBox(children=(FloatProgress(value=0.0, description='Epoch 3', max=131.0, style=ProgressStyle(description_widt…"
      ]
     },
     "metadata": {},
     "output_type": "display_data"
    },
    {
     "data": {
      "application/vnd.jupyter.widget-view+json": {
       "model_id": "",
       "version_major": 2,
       "version_minor": 0
      },
      "text/plain": [
       "HBox(children=(FloatProgress(value=0.0, description='Epoch 4', max=131.0, style=ProgressStyle(description_widt…"
      ]
     },
     "metadata": {},
     "output_type": "display_data"
    },
    {
     "data": {
      "application/vnd.jupyter.widget-view+json": {
       "model_id": "",
       "version_major": 2,
       "version_minor": 0
      },
      "text/plain": [
       "HBox(children=(FloatProgress(value=0.0, description='Epoch 5', max=131.0, style=ProgressStyle(description_widt…"
      ]
     },
     "metadata": {},
     "output_type": "display_data"
    },
    {
     "data": {
      "application/vnd.jupyter.widget-view+json": {
       "model_id": "",
       "version_major": 2,
       "version_minor": 0
      },
      "text/plain": [
       "HBox(children=(FloatProgress(value=0.0, description='Epoch 6', max=131.0, style=ProgressStyle(description_widt…"
      ]
     },
     "metadata": {},
     "output_type": "display_data"
    },
    {
     "data": {
      "application/vnd.jupyter.widget-view+json": {
       "model_id": "",
       "version_major": 2,
       "version_minor": 0
      },
      "text/plain": [
       "HBox(children=(FloatProgress(value=0.0, description='Epoch 7', max=131.0, style=ProgressStyle(description_widt…"
      ]
     },
     "metadata": {},
     "output_type": "display_data"
    },
    {
     "data": {
      "application/vnd.jupyter.widget-view+json": {
       "model_id": "",
       "version_major": 2,
       "version_minor": 0
      },
      "text/plain": [
       "HBox(children=(FloatProgress(value=0.0, description='Epoch 8', max=131.0, style=ProgressStyle(description_widt…"
      ]
     },
     "metadata": {},
     "output_type": "display_data"
    },
    {
     "data": {
      "application/vnd.jupyter.widget-view+json": {
       "model_id": "",
       "version_major": 2,
       "version_minor": 0
      },
      "text/plain": [
       "HBox(children=(FloatProgress(value=0.0, description='Epoch 9', max=131.0, style=ProgressStyle(description_widt…"
      ]
     },
     "metadata": {},
     "output_type": "display_data"
    },
    {
     "name": "stdout",
     "output_type": "stream",
     "text": [
      "\n",
      "CPU times: user 7.42 s, sys: 217 ms, total: 7.63 s\n",
      "Wall time: 7.69 s\n"
     ]
    }
   ],
   "source": [
    "%%time\n",
    "parameters['epochs'] = 10\n",
    "loss = train(examples)"
   ]
  },
  {
   "cell_type": "markdown",
   "metadata": {},
   "source": [
    "##### Looking at Some Examples\n",
    "\n",
    "We define some functions to inspect the output of our model."
   ]
  },
  {
   "cell_type": "code",
   "execution_count": 652,
   "metadata": {},
   "outputs": [],
   "source": [
    "def word_vector(token, model=weights_2):\n",
    "    ''' Return the word vector corresponding to a token '''\n",
    "    return model[token]\n",
    "\n",
    "def similarity(vector1, vector2):\n",
    "    ''' Return the cosine similarity score for two tokens input as vectors '''\n",
    "    if isinstance(vector1, int):\n",
    "        vector1 = word_vector(vector1)\n",
    "        \n",
    "    if isinstance(vector2, int):\n",
    "        vector2 = word_vector(vector2)\n",
    "        \n",
    "    a = np.dot(vector1, vector2)\n",
    "    b = np.dot(vector1, vector1)\n",
    "    c = np.dot(vector2, vector2)\n",
    "    return a / (np.sqrt(b) * np.sqrt(c))"
   ]
  },
  {
   "cell_type": "markdown",
   "metadata": {},
   "source": [
    "We inspect randomly selected words for their similarity score where $similarity \\in [-1,1]$"
   ]
  },
  {
   "cell_type": "code",
   "execution_count": 653,
   "metadata": {},
   "outputs": [
    {
     "name": "stdout",
     "output_type": "stream",
     "text": [
      "will and once\n"
     ]
    },
    {
     "data": {
      "text/plain": [
       "0.997687731599427"
      ]
     },
     "execution_count": 653,
     "metadata": {},
     "output_type": "execute_result"
    }
   ],
   "source": [
    "v1 = np.random.randint(0, WORDS.size)\n",
    "v2 = np.random.randint(0, WORDS.size)\n",
    "print(f'{VOCABR[v1]} and {VOCABR[v2]}')\n",
    "similarity(v1, v2)"
   ]
  },
  {
   "cell_type": "code",
   "execution_count": 654,
   "metadata": {},
   "outputs": [
    {
     "data": {
      "text/plain": [
       "(186, 169)"
      ]
     },
     "execution_count": 654,
     "metadata": {},
     "output_type": "execute_result"
    }
   ],
   "source": [
    "VOCAB['sorry'], VOCAB['rhymes']"
   ]
  },
  {
   "cell_type": "code",
   "execution_count": 664,
   "metadata": {},
   "outputs": [
    {
     "name": "stdout",
     "output_type": "stream",
     "text": [
      "stanza, and stanzas\n"
     ]
    },
    {
     "data": {
      "text/plain": [
       "-0.5056590273259606"
      ]
     },
     "execution_count": 664,
     "metadata": {},
     "output_type": "execute_result"
    }
   ],
   "source": [
    "v1 = 189\n",
    "v2 = 190\n",
    "print(f'{VOCABR[v1]} and {VOCABR[v2]}')\n",
    "similarity(v1, v2)"
   ]
  },
  {
   "cell_type": "markdown",
   "metadata": {},
   "source": [
    "Test the current model trained only on a single epoch."
   ]
  },
  {
   "cell_type": "code",
   "execution_count": 588,
   "metadata": {},
   "outputs": [
    {
     "name": "stdout",
     "output_type": "stream",
     "text": [
      "Token number 83 is \"good\" along with \"go,\" with cos score as 0.7756679016707607\n"
     ]
    }
   ],
   "source": [
    "token = np.random.randint(0, WORDS.size)\n",
    "a, b = weights_1[token - 1], weights_1[token]\n",
    "distance = np.dot(a,b) / (np.sqrt(np.dot(a, a)) * np.sqrt(np.dot(b,b)))\n",
    "\n",
    "print(f'Token number {token} is \"{VOCABR[token]}\" along with \"{VOCABR[token-1]}\" with cos score as {distance}')"
   ]
  },
  {
   "cell_type": "code",
   "execution_count": 551,
   "metadata": {},
   "outputs": [],
   "source": [
    "# np.savetxt('20200326_blake-poems.csv', weights_1, delimiter=',')"
   ]
  },
  {
   "cell_type": "markdown",
   "metadata": {},
   "source": [
    "`[insert navigation here]`\n",
    "\n",
    "---\n",
    "#### Using Our Trained Model\n",
    "\n",
    "We can use our trained model to `list things we can do with our Word2Vec model from earlier`.\n",
    "\n",
    "First, we define functions to help do those things."
   ]
  },
  {
   "cell_type": "code",
   "execution_count": 734,
   "metadata": {},
   "outputs": [],
   "source": [
    "iamb = word_vector(VOCAB['iamb'])"
   ]
  },
  {
   "cell_type": "code",
   "execution_count": 735,
   "metadata": {},
   "outputs": [],
   "source": [
    "numerator = np.dot(np.array([iamb]), weights_1.T).T"
   ]
  },
  {
   "cell_type": "code",
   "execution_count": 736,
   "metadata": {},
   "outputs": [],
   "source": [
    "denominator2 = np.sqrt(np.dot(iamb, iamb))"
   ]
  },
  {
   "cell_type": "code",
   "execution_count": 759,
   "metadata": {},
   "outputs": [
    {
     "name": "stderr",
     "output_type": "stream",
     "text": [
      "/Applications/anaconda/lib/python3.6/site-packages/ipykernel_launcher.py:1: RuntimeWarning: invalid value encountered in sqrt\n",
      "  \"\"\"Entry point for launching an IPython kernel.\n"
     ]
    }
   ],
   "source": [
    "denominator1 = np.sqrt(weights_1 @ weights_1.T)[np.arange(242), np.arange(242)]"
   ]
  },
  {
   "cell_type": "code",
   "execution_count": 762,
   "metadata": {},
   "outputs": [
    {
     "data": {
      "text/plain": [
       "-6.124722184094672e+51"
      ]
     },
     "execution_count": 762,
     "metadata": {},
     "output_type": "execute_result"
    }
   ],
   "source": [
    "(weights_1 @ weights_1.T).min()"
   ]
  },
  {
   "cell_type": "code",
   "execution_count": 738,
   "metadata": {},
   "outputs": [
    {
     "data": {
      "text/plain": [
       "('kind', 'words,', '(abaab)')"
      ]
     },
     "execution_count": 738,
     "metadata": {},
     "output_type": "execute_result"
    }
   ],
   "source": [
    "VOCABR[107], VOCABR[235], VOCABR[11]"
   ]
  },
  {
   "cell_type": "code",
   "execution_count": 742,
   "metadata": {},
   "outputs": [],
   "source": [
    "ranking = (numerator.T.flatten() / (denominator1*denominator2)).argsort()"
   ]
  },
  {
   "cell_type": "code",
   "execution_count": 747,
   "metadata": {},
   "outputs": [
    {
     "data": {
      "text/plain": [
       "array(['almost', 'sure', 'good', 'affects', 'replaced', 'occurring',\n",
       "       'conversationally', 'biography', 'something', 'fall'], dtype='<U16')"
      ]
     },
     "execution_count": 747,
     "metadata": {},
     "output_type": "execute_result"
    }
   ],
   "source": [
    "WORDS[ranking][:10]"
   ]
  },
  {
   "cell_type": "code",
   "execution_count": 552,
   "metadata": {},
   "outputs": [],
   "source": [
    "def topn(token, n=3, model=weights_1):\n",
    "    ''' Return the top n tokens and vectors most closely related to input token '''\n",
    "    \n",
    "#     similarity_scores, vectors = [], []\n",
    "    vector = word_vector(token, model)\n",
    "    \n",
    "    numerator = np.dot(np.array([vector]), model.T)\n",
    "    denominator1 = np.sqrt(np.dot(vector, vector))\n",
    "    denominator2 = np.sqrt(np.dot())\n",
    "    \n",
    "\n",
    "    \n",
    "    \n",
    "#     for vector in model:\n",
    "#         similarity_scores.append(similarity(token, vector))\n",
    "    \n",
    "#     return np.array(similarity_scores)\n",
    "        "
   ]
  },
  {
   "cell_type": "code",
   "execution_count": 553,
   "metadata": {},
   "outputs": [
    {
     "ename": "IndexError",
     "evalue": "index 400 is out of bounds for axis 0 with size 242",
     "output_type": "error",
     "traceback": [
      "\u001b[0;31m---------------------------------------------------------------------------\u001b[0m",
      "\u001b[0;31mIndexError\u001b[0m                                Traceback (most recent call last)",
      "\u001b[0;32m<ipython-input-553-34e71fea0539>\u001b[0m in \u001b[0;36m<module>\u001b[0;34m\u001b[0m\n\u001b[0;32m----> 1\u001b[0;31m \u001b[0mres\u001b[0m \u001b[0;34m=\u001b[0m \u001b[0mtopn\u001b[0m\u001b[0;34m(\u001b[0m\u001b[0;36m400\u001b[0m\u001b[0;34m)\u001b[0m\u001b[0;34m\u001b[0m\u001b[0;34m\u001b[0m\u001b[0m\n\u001b[0m",
      "\u001b[0;32m<ipython-input-552-aa76161b4e35>\u001b[0m in \u001b[0;36mtopn\u001b[0;34m(token, n, model)\u001b[0m\n\u001b[1;32m      3\u001b[0m \u001b[0;34m\u001b[0m\u001b[0m\n\u001b[1;32m      4\u001b[0m     \u001b[0msimilarity_scores\u001b[0m\u001b[0;34m,\u001b[0m \u001b[0mvectors\u001b[0m \u001b[0;34m=\u001b[0m \u001b[0;34m[\u001b[0m\u001b[0;34m]\u001b[0m\u001b[0;34m,\u001b[0m \u001b[0;34m[\u001b[0m\u001b[0;34m]\u001b[0m\u001b[0;34m\u001b[0m\u001b[0;34m\u001b[0m\u001b[0m\n\u001b[0;32m----> 5\u001b[0;31m     \u001b[0mtoken_vector\u001b[0m \u001b[0;34m=\u001b[0m \u001b[0mword_vector\u001b[0m\u001b[0;34m(\u001b[0m\u001b[0mtoken\u001b[0m\u001b[0;34m,\u001b[0m \u001b[0mmodel\u001b[0m\u001b[0;34m)\u001b[0m\u001b[0;34m\u001b[0m\u001b[0;34m\u001b[0m\u001b[0m\n\u001b[0m\u001b[1;32m      6\u001b[0m \u001b[0;34m\u001b[0m\u001b[0m\n\u001b[1;32m      7\u001b[0m     \u001b[0;32mfor\u001b[0m \u001b[0mvector\u001b[0m \u001b[0;32min\u001b[0m \u001b[0mmodel\u001b[0m\u001b[0;34m:\u001b[0m\u001b[0;34m\u001b[0m\u001b[0;34m\u001b[0m\u001b[0m\n",
      "\u001b[0;32m<ipython-input-528-5b261836788d>\u001b[0m in \u001b[0;36mword_vector\u001b[0;34m(token, model)\u001b[0m\n\u001b[1;32m      1\u001b[0m \u001b[0;32mdef\u001b[0m \u001b[0mword_vector\u001b[0m\u001b[0;34m(\u001b[0m\u001b[0mtoken\u001b[0m\u001b[0;34m,\u001b[0m \u001b[0mmodel\u001b[0m\u001b[0;34m=\u001b[0m\u001b[0mweights_1\u001b[0m\u001b[0;34m)\u001b[0m\u001b[0;34m:\u001b[0m\u001b[0;34m\u001b[0m\u001b[0;34m\u001b[0m\u001b[0m\n\u001b[1;32m      2\u001b[0m     \u001b[0;34m''' Return the word vector corresponding to a token '''\u001b[0m\u001b[0;34m\u001b[0m\u001b[0;34m\u001b[0m\u001b[0m\n\u001b[0;32m----> 3\u001b[0;31m     \u001b[0;32mreturn\u001b[0m \u001b[0mmodel\u001b[0m\u001b[0;34m[\u001b[0m\u001b[0mtoken\u001b[0m\u001b[0;34m]\u001b[0m\u001b[0;34m\u001b[0m\u001b[0;34m\u001b[0m\u001b[0m\n\u001b[0m\u001b[1;32m      4\u001b[0m \u001b[0;34m\u001b[0m\u001b[0m\n\u001b[1;32m      5\u001b[0m \u001b[0;32mdef\u001b[0m \u001b[0msimilarity\u001b[0m\u001b[0;34m(\u001b[0m\u001b[0mvector1\u001b[0m\u001b[0;34m,\u001b[0m \u001b[0mvector2\u001b[0m\u001b[0;34m)\u001b[0m\u001b[0;34m:\u001b[0m\u001b[0;34m\u001b[0m\u001b[0;34m\u001b[0m\u001b[0m\n",
      "\u001b[0;31mIndexError\u001b[0m: index 400 is out of bounds for axis 0 with size 242"
     ]
    }
   ],
   "source": [
    "res = topn(400)"
   ]
  },
  {
   "cell_type": "markdown",
   "metadata": {},
   "source": [
    "Test with algebraic interactions of this "
   ]
  },
  {
   "cell_type": "code",
   "execution_count": null,
   "metadata": {},
   "outputs": [],
   "source": [
    "most_similar(994)"
   ]
  },
  {
   "cell_type": "code",
   "execution_count": null,
   "metadata": {},
   "outputs": [],
   "source": [
    "VOCABR[994], VOCABR[8066]"
   ]
  },
  {
   "cell_type": "code",
   "execution_count": null,
   "metadata": {},
   "outputs": [],
   "source": [
    "similarity(word_vector(343), word_vector(344)), VOCABR[343], VOCABR[344]"
   ]
  },
  {
   "cell_type": "markdown",
   "metadata": {},
   "source": [
    "`[insert navigation here]`\n",
    "\n",
    "---\n",
    "\n",
    "### Visualize Word2Vec\n",
    "\n",
    "We can visualize our word vectors trained using plotting packages like `matplotlib`, `seaborn`, and others. I make use of the `altair` visualization package.\n",
    "\n",
    "<p class='tip'>Preprocessing</p>"
   ]
  },
  {
   "cell_type": "code",
   "execution_count": 560,
   "metadata": {},
   "outputs": [],
   "source": [
    "from sklearn.decomposition import PCA\n",
    "from sklearn.manifold import TSNE\n",
    "from sklearn.preprocessing import StandardScaler\n",
    "import matplotlib.pyplot as plt"
   ]
  },
  {
   "cell_type": "markdown",
   "metadata": {},
   "source": [
    "Declare preprocessing models."
   ]
  },
  {
   "cell_type": "code",
   "execution_count": 665,
   "metadata": {},
   "outputs": [],
   "source": [
    "pca2 = PCA(n_components=2)\n",
    "pca50 = PCA(n_components=min(50, weights_1.shape[0]))\n",
    "tsne = TSNE(n_components=2, perplexity=100)\n",
    "scale = StandardScaler()"
   ]
  },
  {
   "cell_type": "markdown",
   "metadata": {},
   "source": [
    "Normalize the vector weights so that $\\mu = 0$ and $\\sigma = 1$."
   ]
  },
  {
   "cell_type": "code",
   "execution_count": 666,
   "metadata": {},
   "outputs": [],
   "source": [
    "scaled_data = scale.fit_transform(weights_1)"
   ]
  },
  {
   "cell_type": "markdown",
   "metadata": {},
   "source": [
    "Reduce dimensionality via PCA transform."
   ]
  },
  {
   "cell_type": "code",
   "execution_count": 667,
   "metadata": {},
   "outputs": [],
   "source": [
    "pca_data_2 = pca2.fit_transform(scaled_data)\n",
    "pca_data_50 = pca50.fit_transform(scaled_data)"
   ]
  },
  {
   "cell_type": "markdown",
   "metadata": {},
   "source": [
    "Reduce dimensionality via TSNE transform.\n",
    "\n",
    "<p class='warning'> Results may vary from run to run</p>"
   ]
  },
  {
   "cell_type": "code",
   "execution_count": 668,
   "metadata": {},
   "outputs": [
    {
     "name": "stdout",
     "output_type": "stream",
     "text": [
      "CPU times: user 7.12 s, sys: 89.9 ms, total: 7.21 s\n",
      "Wall time: 2.01 s\n"
     ]
    }
   ],
   "source": [
    "%%time\n",
    "tsne_data = tsne.fit_transform(pca_data_50)"
   ]
  },
  {
   "cell_type": "code",
   "execution_count": 669,
   "metadata": {},
   "outputs": [
    {
     "data": {
      "text/plain": [
       "<matplotlib.collections.PathCollection at 0x118679a20>"
      ]
     },
     "execution_count": 669,
     "metadata": {},
     "output_type": "execute_result"
    },
    {
     "data": {
      "image/png": "[encoded data removed]",
      "text/plain": [
       "<Figure size 432x288 with 1 Axes>"
      ]
     },
     "metadata": {
      "needs_background": "light"
     },
     "output_type": "display_data"
    }
   ],
   "source": [
    "plt.scatter(x=tsne_data[:,0], y=tsne_data[:,1])"
   ]
  },
  {
   "cell_type": "code",
   "execution_count": 670,
   "metadata": {},
   "outputs": [
    {
     "data": {
      "text/plain": [
       "<matplotlib.collections.PathCollection at 0x1188b2710>"
      ]
     },
     "execution_count": 670,
     "metadata": {},
     "output_type": "execute_result"
    },
    {
     "data": {
      "image/png": "[encoded data removed]",
      "text/plain": [
       "<Figure size 432x288 with 1 Axes>"
      ]
     },
     "metadata": {
      "needs_background": "light"
     },
     "output_type": "display_data"
    }
   ],
   "source": [
    "plt.scatter(x=pca_data_2[:,0], y=pca_data_2[:,1])"
   ]
  },
  {
   "cell_type": "markdown",
   "metadata": {},
   "source": [
    "#### Visualization with Altaïr\n",
    "\n",
    "After transforming the high-dimensional data down to 2 and 3 dimensional datasets, we can better visualize what the vectors we trained look like."
   ]
  },
  {
   "cell_type": "code",
   "execution_count": 671,
   "metadata": {},
   "outputs": [],
   "source": [
    "current = tsne_data\n",
    "columns = [f'd{i}' for i in range(current.shape[-1])]\n",
    "index = [f'{VOCABR[i]}' for i in range(current.shape[0])]\n",
    "\n",
    "viz_data = pd.DataFrame(tsne_data, columns=columns, index=index).reset_index()"
   ]
  },
  {
   "cell_type": "code",
   "execution_count": 672,
   "metadata": {},
   "outputs": [],
   "source": [
    "chart = alt.Chart(viz_data)"
   ]
  },
  {
   "cell_type": "code",
   "execution_count": 673,
   "metadata": {},
   "outputs": [
    {
     "data": {
      "text/plain": [
       "X({\n",
       "  \n",
       "})"
      ]
     },
     "execution_count": 673,
     "metadata": {},
     "output_type": "execute_result"
    }
   ],
   "source": [
    "alt.X()"
   ]
  },
  {
   "cell_type": "code",
   "execution_count": 674,
   "metadata": {},
   "outputs": [
    {
     "data": {
      "application/javascript": [
       "const spec = {\"config\": {\"view\": {\"width\": 400, \"height\": 300}, \"mark\": {\"tooltip\": null}}, \"data\": {\"name\": \"data-d7f19af29b1ea92d9df402318b72f373\"}, \"mark\": \"point\", \"encoding\": {\"tooltip\": {\"type\": \"nominal\", \"field\": \"index\"}, \"x\": {\"type\": \"quantitative\", \"field\": \"d1\", \"title\": \"Dimension\"}, \"y\": {\"type\": \"quantitative\", \"field\": \"d0\"}}, \"selection\": {\"selector005\": {\"type\": \"interval\", \"bind\": \"scales\", \"encodings\": [\"x\", \"y\"]}}, \"$schema\": \"https://vega.github.io/schema/vega-lite/v3.4.0.json\", \"datasets\": {\"data-d7f19af29b1ea92d9df402318b72f373\": [{\"index\": \"\\\"\", \"d0\": -4.004946231842041, \"d1\": 3.715151071548462}, {\"index\": \"\\\"[10]\", \"d0\": -3.5136194229125977, \"d1\": 4.427027702331543}, {\"index\": \"\\\"[7]\", \"d0\": -4.0258989334106445, \"d1\": 3.6887149810791016}, {\"index\": \"\\\"a\", \"d0\": -4.033351421356201, \"d1\": 3.6854162216186523}, {\"index\": \"\\\"following\", \"d0\": -3.506052255630493, \"d1\": 4.4325971603393555}, {\"index\": \"\\\"one\", \"d0\": -3.511831521987915, \"d1\": 4.426249980926514}, {\"index\": \"\\\"sigh\\\"\", \"d0\": -4.028987884521484, \"d1\": 3.6909823417663574}, {\"index\": \"\\\"the\", \"d0\": -3.4977035522460938, \"d1\": 4.455523490905762}, {\"index\": \"\\\"though\", \"d0\": -4.8311848640441895, \"d1\": 2.574052095413208}, {\"index\": \"\\\"whichever\", \"d0\": -3.511831283569336, \"d1\": 4.426249027252197}, {\"index\": \"\\\"you\", \"d0\": -3.998241901397705, \"d1\": 3.724987506866455}, {\"index\": \"(abaab)\", \"d0\": -3.998241901397705, \"d1\": 3.724987268447876}, {\"index\": \"2008\", \"d0\": -0.6490206718444824, \"d1\": 0.5159575939178467}, {\"index\": \"5\", \"d0\": -4.892125606536865, \"d1\": 0.5771996974945068}, {\"index\": \"[3]\", \"d0\": -4.271646022796631, \"d1\": 2.5257256031036377}, {\"index\": \"[4]\", \"d0\": -4.007788181304932, \"d1\": 2.658900260925293}, {\"index\": \"[5][1]\", \"d0\": -4.8971686363220215, \"d1\": 3.466115713119507}, {\"index\": \"[6]\", \"d0\": -4.998171329498291, \"d1\": 3.2424800395965576}, {\"index\": \"[6][9]\", \"d0\": -4.263549327850342, \"d1\": 2.5155346393585205}, {\"index\": \"[8]\", \"d0\": -4.618403911590576, \"d1\": 3.5876801013946533}, {\"index\": \"a\", \"d0\": -3.981504440307617, \"d1\": 3.217249631881714}, {\"index\": \"about\", \"d0\": -5.969982624053955, \"d1\": -0.7636107206344604}, {\"index\": \"acceptance\", \"d0\": -1.5824521780014038, \"d1\": 3.049028158187866}, {\"index\": \"according\", \"d0\": -7.967188835144043, \"d1\": 1.8033934831619263}, {\"index\": \"affects\", \"d0\": -1.5473816394805908, \"d1\": 3.0270333290100098}, {\"index\": \"almost\", \"d0\": -1.584605097770691, \"d1\": 3.0654306411743164}, {\"index\": \"also\", \"d0\": -3.971470355987549, \"d1\": 2.725510835647583}, {\"index\": \"alternative\", \"d0\": -7.926730155944824, \"d1\": 1.8574846982955933}, {\"index\": \"an\", \"d0\": -4.593690395355225, \"d1\": 2.612900733947754}, {\"index\": \"anapest\", \"d0\": -4.91764497756958, \"d1\": 0.6150712966918945}, {\"index\": \"and\", \"d0\": -4.9204020500183105, \"d1\": 2.832597255706787}, {\"index\": \"any\", \"d0\": -2.924031972885132, \"d1\": 0.14215222001075745}, {\"index\": \"as\", \"d0\": -4.63287878036499, \"d1\": 3.5783917903900146}, {\"index\": \"attractive\", \"d0\": -2.987215518951416, \"d1\": -0.31719887256622314}, {\"index\": \"audience,\", \"d0\": -3.9714672565460205, \"d1\": 2.7255141735076904}, {\"index\": \"based\", \"d0\": -8.23607349395752, \"d1\": 1.3221200704574585}, {\"index\": \"basically\", \"d0\": -4.953289031982422, \"d1\": 0.6669274568557739}, {\"index\": \"be\", \"d0\": -3.93278169631958, \"d1\": 3.1053595542907715}, {\"index\": \"begins\", \"d0\": -1.5409709215164185, \"d1\": 3.01316499710083}, {\"index\": \"belatedly\", \"d0\": -2.9893970489501953, \"d1\": -0.32070282101631165}, {\"index\": \"between\", \"d0\": -8.511017799377441, \"d1\": 0.5985732078552246}, {\"index\": \"biographer\", \"d0\": -4.600320339202881, \"d1\": 2.612750291824341}, {\"index\": \"biography\", \"d0\": -0.6481871604919434, \"d1\": 0.5167500376701355}, {\"index\": \"book\", \"d0\": -8.55860710144043, \"d1\": 0.3496413826942444}, {\"index\": \"brian\", \"d0\": -0.6492166519165039, \"d1\": 0.5159503221511841}, {\"index\": \"but\", \"d0\": -4.9602580070495605, \"d1\": 2.8915040493011475}, {\"index\": \"careful\", \"d0\": -8.548299789428711, \"d1\": 0.42790454626083374}, {\"index\": \"catches\", \"d0\": -7.728135585784912, \"d1\": 2.0848753452301025}, {\"index\": \"champions\", \"d0\": -7.608308792114258, \"d1\": 2.212933301925659}, {\"index\": \"choice\", \"d0\": -7.951955795288086, \"d1\": 1.823386311531067}, {\"index\": \"claiming\", \"d0\": -7.109323024749756, \"d1\": 2.3106794357299805}, {\"index\": \"commented\", \"d0\": -0.6493124961853027, \"d1\": 0.5141337513923645}, {\"index\": \"consists\", \"d0\": -5.259891033172607, \"d1\": 1.3149821758270264}, {\"index\": \"contains\", \"d0\": -4.635440826416016, \"d1\": 5.205023288726807}, {\"index\": \"conversationally\", \"d0\": -1.537196397781372, \"d1\": 3.012988567352295}, {\"index\": \"depiction\", \"d0\": -4.910953044891357, \"d1\": 0.6017611026763916}, {\"index\": \"didn't\", \"d0\": -3.972276449203491, \"d1\": 2.7249908447265625}, {\"index\": \"difference\", \"d0\": -2.985097885131836, \"d1\": -0.30335551500320435}, {\"index\": \"different\", \"d0\": -4.856255531311035, \"d1\": 0.5334068536758423}, {\"index\": \"different,\", \"d0\": -4.642574310302734, \"d1\": 3.580846071243286}, {\"index\": \"each\", \"d0\": -3.9339513778686523, \"d1\": 3.0903494358062744}, {\"index\": \"edward\", \"d0\": -8.074029922485352, \"d1\": 1.6326993703842163}, {\"index\": \"energy\", \"d0\": -7.929376602172852, \"d1\": 1.855273723602295}, {\"index\": \"every\", \"d0\": -4.861924648284912, \"d1\": 0.5397519469261169}, {\"index\": \"expectation\", \"d0\": -4.619626522064209, \"d1\": 5.231659412384033}, {\"index\": \"expresses\", \"d0\": -7.597962856292725, \"d1\": 2.1854684352874756}, {\"index\": \"expression\", \"d0\": -8.478920936584473, \"d1\": 0.7042083740234375}, {\"index\": \"fall\", \"d0\": -0.6485015749931335, \"d1\": 0.5161760449409485}, {\"index\": \"feeling\", \"d0\": -1.549782395362854, \"d1\": 3.024960994720459}, {\"index\": \"feet\", \"d0\": -4.936814785003662, \"d1\": 0.6445888876914978}, {\"index\": \"fifth\", \"d0\": -4.958530902862549, \"d1\": 0.6784042119979858}, {\"index\": \"final\", \"d0\": -2.5795936584472656, \"d1\": 3.9571001529693604}, {\"index\": \"first\", \"d0\": -5.250158309936523, \"d1\": 1.272805094718933}, {\"index\": \"for\", \"d0\": -4.765962600708008, \"d1\": 5.232635974884033}, {\"index\": \"four\", \"d0\": -4.008762836456299, \"d1\": 2.632615327835083}, {\"index\": \"fourth,\", \"d0\": -3.95774507522583, \"d1\": 2.7543020248413086}, {\"index\": \"friend\", \"d0\": -8.304579734802246, \"d1\": 1.163043737411499}, {\"index\": \"frost\", \"d0\": -4.928358554840088, \"d1\": 2.850637197494507}, {\"index\": \"frost's\", \"d0\": -5.010186672210693, \"d1\": 3.088301420211792}, {\"index\": \"future\", \"d0\": -5.968235969543457, \"d1\": -0.7539640069007874}, {\"index\": \"gives\", \"d0\": -4.913374423980713, \"d1\": 0.6098316311836243}, {\"index\": \"go\", \"d0\": -8.139860153198242, \"d1\": 1.5195106267929077}, {\"index\": \"go,\", \"d0\": -4.900944232940674, \"d1\": 2.8190758228302}, {\"index\": \"good\", \"d0\": -0.6471620798110962, \"d1\": 0.5174878239631653}, {\"index\": \"guard\", \"d0\": -7.463357925415039, \"d1\": 2.288724422454834}, {\"index\": \"habitually\", \"d0\": -7.817968845367432, \"d1\": 1.9892921447753906}, {\"index\": \"hall's\", \"d0\": -4.906122207641602, \"d1\": 2.8153326511383057}, {\"index\": \"hard\", \"d0\": -4.590629577636719, \"d1\": 3.5879247188568115}, {\"index\": \"has\", \"d0\": -8.520456314086914, \"d1\": 0.5582898259162903}, {\"index\": \"have\", \"d0\": -4.905292510986328, \"d1\": 2.8066866397857666}, {\"index\": \"having\", \"d0\": -1.549319863319397, \"d1\": 3.019425630569458}, {\"index\": \"he\", \"d0\": -4.26427698135376, \"d1\": 2.517002820968628}, {\"index\": \"himself\", \"d0\": -5.017160892486572, \"d1\": 3.133862018585205}, {\"index\": \"his\", \"d0\": -4.8724141120910645, \"d1\": 3.4833123683929443}, {\"index\": \"iamb\", \"d0\": -1.5495741367340088, \"d1\": 3.0217719078063965}, {\"index\": \"iambic\", \"d0\": -4.8704681396484375, \"d1\": 0.5481665134429932}, {\"index\": \"iambs,\", \"d0\": -4.00887393951416, \"d1\": 2.632510185241699}, {\"index\": \"idea\", \"d0\": -3.9339349269866943, \"d1\": 3.0902762413024902}, {\"index\": \"in\", \"d0\": -4.9940290451049805, \"d1\": 3.2511496543884277}, {\"index\": \"intending\", \"d0\": -8.55201244354248, \"d1\": 0.41099968552589417}, {\"index\": \"introducing\", \"d0\": -2.9865338802337646, \"d1\": -0.31349679827690125}, {\"index\": \"ironic\", \"d0\": -0.6489909291267395, \"d1\": 0.5153664350509644}, {\"index\": \"irony\", \"d0\": -7.36021089553833, \"d1\": 2.317729949951172}, {\"index\": \"is\", \"d0\": -4.292843341827393, \"d1\": 3.3795759677886963}, {\"index\": \"it\", \"d0\": -4.767573833465576, \"d1\": 2.713200330734253}, {\"index\": \"it's\", \"d0\": -3.973050832748413, \"d1\": 3.1880898475646973}, {\"index\": \"just\", \"d0\": -2.9821674823760986, \"d1\": -0.2998114228248596}, {\"index\": \"kind\", \"d0\": -4.632880210876465, \"d1\": 3.5783915519714355}, {\"index\": \"last\", \"d0\": -2.9577443599700928, \"d1\": -0.16190436482429504}, {\"index\": \"lawrance\", \"d0\": -4.268474102020264, \"d1\": 2.516855478286743}, {\"index\": \"line\", \"d0\": -4.263545989990234, \"d1\": 2.515535354614258}, {\"index\": \"line,\", \"d0\": -4.734543323516846, \"d1\": 2.6848316192626953}, {\"index\": \"lines\", \"d0\": -4.9829277992248535, \"d1\": 0.713958203792572}, {\"index\": \"made:\", \"d0\": -4.608144283294678, \"d1\": 2.6145665645599365}, {\"index\": \"may\", \"d0\": -8.430831909179688, \"d1\": 0.8413370847702026}, {\"index\": \"mentioned\", \"d0\": -2.8807971477508545, \"d1\": 0.4850532114505768}, {\"index\": \"meter\", \"d0\": -5.237804412841797, \"d1\": 1.242105484008789}, {\"index\": \"miss\", \"d0\": -0.648676335811615, \"d1\": 0.5164909362792969}, {\"index\": \"misunderstood\", \"d0\": -6.491117000579834, \"d1\": 2.138732671737671}, {\"index\": \"moment\", \"d0\": -4.903700828552246, \"d1\": 0.590372622013092}, {\"index\": \"more\", \"d0\": -1.5582046508789062, \"d1\": 3.0151491165161133}, {\"index\": \"most\", \"d0\": -3.933943271636963, \"d1\": 3.0903069972991943}, {\"index\": \"narrative\", \"d0\": -4.872415542602539, \"d1\": 3.483309507369995}, {\"index\": \"narrator\", \"d0\": -7.398410797119141, \"d1\": 2.3029000759124756}, {\"index\": \"naturally\", \"d0\": -5.055121898651123, \"d1\": 0.837134838104248}, {\"index\": \"naturalness,\", \"d0\": -4.008763313293457, \"d1\": 2.632615327835083}, {\"index\": \"new\", \"d0\": -1.1463124752044678, \"d1\": 2.4759600162506104}, {\"index\": \"not\", \"d0\": -4.999861717224121, \"d1\": 3.0951225757598877}, {\"index\": \"occurring\", \"d0\": -1.5492262840270996, \"d1\": 3.0288846492767334}, {\"index\": \"of\", \"d0\": -3.9683279991149902, \"d1\": 3.1736257076263428}, {\"index\": \"off\", \"d0\": -7.738762855529785, \"d1\": 2.0924582481384277}, {\"index\": \"on\", \"d0\": -4.589694499969482, \"d1\": 2.6095693111419678}, {\"index\": \"once\", \"d0\": -5.968574047088623, \"d1\": -0.7544286251068115}, {\"index\": \"one\", \"d0\": -4.872403621673584, \"d1\": 3.4833199977874756}, {\"index\": \"one;\", \"d0\": -3.9507532119750977, \"d1\": 3.1460750102996826}, {\"index\": \"only\", \"d0\": -4.627658367156982, \"d1\": 5.0233845710754395}, {\"index\": \"or\", \"d0\": -4.268470764160156, \"d1\": 2.5168566703796387}, {\"index\": \"other\", \"d0\": -3.931562900543213, \"d1\": 3.0928518772125244}, {\"index\": \"over\", \"d0\": -8.127076148986816, \"d1\": 1.5423170328140259}, {\"index\": \"own\", \"d0\": -7.503882884979248, \"d1\": 2.246995449066162}, {\"index\": \"passing\", \"d0\": -1.5511010885238647, \"d1\": 3.025658369064331}, {\"index\": \"path\", \"d0\": -8.515127182006836, \"d1\": 0.5360558032989502}, {\"index\": \"path\\\",\", \"d0\": -4.993406295776367, \"d1\": 3.2574596405029297}, {\"index\": \"perhaps\", \"d0\": -0.648723840713501, \"d1\": 0.514702320098877}, {\"index\": \"person\", \"d0\": -2.8848519325256348, \"d1\": 0.47121569514274597}, {\"index\": \"photographic\", \"d0\": -1.5400185585021973, \"d1\": 3.0138258934020996}, {\"index\": \"poem\", \"d0\": -4.600696086883545, \"d1\": 2.611074686050415}, {\"index\": \"poem's\", \"d0\": -4.642273426055908, \"d1\": 3.580857992172241}, {\"index\": \"poem,\", \"d0\": -4.592273235321045, \"d1\": 2.6128671169281006}, {\"index\": \"poems,\", \"d0\": -4.286715984344482, \"d1\": 3.3774383068084717}, {\"index\": \"poem\\u2014very\", \"d0\": -4.7345356941223145, \"d1\": 2.684828758239746}, {\"index\": \"popular\", \"d0\": -4.263399124145508, \"d1\": 2.515505075454712}, {\"index\": \"positions,\", \"d0\": -4.906102657318115, \"d1\": 2.815305471420288}, {\"index\": \"possibilities\", \"d0\": -8.501496315002441, \"d1\": 0.6033214926719666}, {\"index\": \"quiet\", \"d0\": -1.5446593761444092, \"d1\": 3.0145864486694336}, {\"index\": \"read\", \"d0\": -8.545310974121094, \"d1\": 0.44640934467315674}, {\"index\": \"reader\", \"d0\": -7.769794464111328, \"d1\": 2.0665745735168457}, {\"index\": \"reader's\", \"d0\": -4.380259990692139, \"d1\": 3.5007238388061523}, {\"index\": \"readings,\", \"d0\": -4.734617233276367, \"d1\": 2.6848652362823486}, {\"index\": \"reads\", \"d0\": -5.273336410522461, \"d1\": 1.3576390743255615}, {\"index\": \"reality:\", \"d0\": -4.276265621185303, \"d1\": 3.3822402954101562}, {\"index\": \"regarding\", \"d0\": -3.882223606109619, \"d1\": 3.0581181049346924}, {\"index\": \"regret\", \"d0\": -8.492918014526367, \"d1\": 0.6547640562057495}, {\"index\": \"regretting\", \"d0\": -7.974338531494141, \"d1\": 1.7888174057006836}, {\"index\": \"regular\", \"d0\": -1.5522366762161255, \"d1\": 3.024709463119507}, {\"index\": \"rejected\\\"\", \"d0\": -4.623042583465576, \"d1\": 3.576982021331787}, {\"index\": \"replaced\", \"d0\": -1.547776699066162, \"d1\": 3.0246734619140625}, {\"index\": \"review\", \"d0\": -8.561395645141602, \"d1\": 0.323517382144928}, {\"index\": \"rhyme\", \"d0\": -2.5754036903381348, \"d1\": 3.9557650089263916}, {\"index\": \"rhymes\", \"d0\": -4.894406318664551, \"d1\": 3.4674971103668213}, {\"index\": \"rhythm\", \"d0\": -4.9271721839904785, \"d1\": 2.8478915691375732}, {\"index\": \"road\", \"d0\": -4.98734188079834, \"d1\": 3.318013906478882}, {\"index\": \"roads,\", \"d0\": -4.415765762329102, \"d1\": 3.518812417984009}, {\"index\": \"said\", \"d0\": -3.959099769592285, \"d1\": 3.15822434425354}, {\"index\": \"satisfaction,\", \"d0\": -4.512271881103516, \"d1\": 3.5734269618988037}, {\"index\": \"say\", \"d0\": -3.9634976387023926, \"d1\": 3.1662333011627197}, {\"index\": \"says\", \"d0\": -7.4273247718811035, \"d1\": 2.2888994216918945}, {\"index\": \"second\", \"d0\": -4.882734775543213, \"d1\": 0.5647827982902527}, {\"index\": \"seen\", \"d0\": -8.457475662231445, \"d1\": 0.76357501745224}, {\"index\": \"sense\", \"d0\": -1.6323554515838623, \"d1\": 2.869062662124634}, {\"index\": \"sighs\", \"d0\": -8.04499626159668, \"d1\": 1.6851768493652344}, {\"index\": \"significance\", \"d0\": -8.503097534179688, \"d1\": 0.6153264045715332}, {\"index\": \"significantly\", \"d0\": -7.720367431640625, \"d1\": 2.092532157897949}, {\"index\": \"simply\", \"d0\": -7.617636680603027, \"d1\": 2.2088265419006348}, {\"index\": \"some\", \"d0\": -3.9714653491973877, \"d1\": 2.725517749786377}, {\"index\": \"something\", \"d0\": -0.6480392217636108, \"d1\": 0.5169395208358765}, {\"index\": \"sorry\", \"d0\": -8.383764266967773, \"d1\": 0.9814847707748413}, {\"index\": \"speaker\", \"d0\": -4.908391952514648, \"d1\": 2.8190906047821045}, {\"index\": \"spontaneously,\", \"d0\": -4.647016525268555, \"d1\": 3.583935499191284}, {\"index\": \"stanza,\", \"d0\": -4.268566131591797, \"d1\": 2.5196590423583984}, {\"index\": \"stanzas\", \"d0\": -5.00655460357666, \"d1\": 0.7553303241729736}, {\"index\": \"states:\", \"d0\": -4.881791114807129, \"d1\": 3.475618362426758}, {\"index\": \"strictly\", \"d0\": -1.6332321166992188, \"d1\": 2.9148972034454346}, {\"index\": \"suggest\", \"d0\": -8.554424285888672, \"d1\": 0.39287060499191284}, {\"index\": \"suggest,\", \"d0\": -3.96555757522583, \"d1\": 3.1764614582061768}, {\"index\": \"suggests\", \"d0\": -2.4423210620880127, \"d1\": 1.5783400535583496}, {\"index\": \"sunday\", \"d0\": -0.6505509614944458, \"d1\": 0.5156786441802979}, {\"index\": \"supports\", \"d0\": -1.5514602661132812, \"d1\": 3.0245895385742188}, {\"index\": \"sure\", \"d0\": -0.6485610008239746, \"d1\": 0.5171712636947632}, {\"index\": \"taken\\\"\", \"d0\": -4.2635498046875, \"d1\": 2.515535354614258}, {\"index\": \"tetrameter,\", \"d0\": -4.9133992195129395, \"d1\": 3.4434773921966553}, {\"index\": \"that\", \"d0\": -4.342030048370361, \"d1\": 3.469649314880371}, {\"index\": \"the\", \"d0\": -5.010430812835693, \"d1\": 3.1891326904296875}, {\"index\": \"there\", \"d0\": -4.993417739868164, \"d1\": 3.25742244720459}, {\"index\": \"they\", \"d0\": -3.9339582920074463, \"d1\": 3.0903737545013428}, {\"index\": \"they're\", \"d0\": -4.0739216804504395, \"d1\": 3.27886700630188}, {\"index\": \"third\", \"d0\": -1.5847338438034058, \"d1\": 3.0635905265808105}, {\"index\": \"thomas\", \"d0\": -3.9693174362182617, \"d1\": 3.176056146621704}, {\"index\": \"thompson\", \"d0\": -4.283688068389893, \"d1\": 3.3845036029815674}, {\"index\": \"thompson,\", \"d0\": -4.292842864990234, \"d1\": 3.3795783519744873}, {\"index\": \"though\", \"d0\": -5.22523832321167, \"d1\": 1.2004776000976562}, {\"index\": \"thought\", \"d0\": -4.844565391540527, \"d1\": 0.5216041207313538}, {\"index\": \"times\", \"d0\": -0.6478539705276489, \"d1\": 0.5161585807800293}, {\"index\": \"to\", \"d0\": -5.016422271728516, \"d1\": 3.1462526321411133}, {\"index\": \"together\", \"d0\": -7.7490410804748535, \"d1\": 2.0846259593963623}, {\"index\": \"towards\", \"d0\": -4.6128458976745605, \"d1\": 5.246822834014893}, {\"index\": \"tricky\", \"d0\": -0.6490965485572815, \"d1\": 0.5145828723907471}, {\"index\": \"tricky,\\\"\", \"d0\": -4.603969573974609, \"d1\": 2.6132078170776367}, {\"index\": \"turning\", \"d0\": -4.584322452545166, \"d1\": 5.231832504272461}, {\"index\": \"two\", \"d0\": -8.526634216308594, \"d1\": 0.5326446890830994}, {\"index\": \"two-syllable\", \"d0\": -4.5936408042907715, \"d1\": 2.6086740493774414}, {\"index\": \"variation\", \"d0\": -5.206963539123535, \"d1\": 1.1470956802368164}, {\"index\": \"was\", \"d0\": -3.972818613052368, \"d1\": 2.720320701599121}, {\"index\": \"wastes\", \"d0\": -7.878028869628906, \"d1\": 1.9212698936462402}, {\"index\": \"way\", \"d0\": -5.00019645690918, \"d1\": 3.0473310947418213}, {\"index\": \"went,\", \"d0\": -4.612483024597168, \"d1\": 3.5786590576171875}, {\"index\": \"what\", \"d0\": -4.6991963386535645, \"d1\": 2.6742565631866455}, {\"index\": \"when\", \"d0\": -2.9615085124969482, \"d1\": -0.19610990583896637}, {\"index\": \"whichever\", \"d0\": -2.957750082015991, \"d1\": -0.17206841707229614}, {\"index\": \"who\", \"d0\": -7.749876022338867, \"d1\": 2.0594828128814697}, {\"index\": \"who,\", \"d0\": -4.286717891693115, \"d1\": 3.377439260482788}, {\"index\": \"will\", \"d0\": -8.53579330444336, \"d1\": 0.4938811957836151}, {\"index\": \"wistfully\", \"d0\": -2.9887397289276123, \"d1\": -0.31741756200790405}, {\"index\": \"with\", \"d0\": -4.271645545959473, \"d1\": 2.525725841522217}, {\"index\": \"woods\", \"d0\": -1.5851595401763916, \"d1\": 3.064370632171631}, {\"index\": \"words,\", \"d0\": -3.957746982574463, \"d1\": 2.754298210144043}, {\"index\": \"work\", \"d0\": -1.5538276433944702, \"d1\": 3.0254359245300293}, {\"index\": \"works\", \"d0\": -3.9341976642608643, \"d1\": 2.796727180480957}, {\"index\": \"would\", \"d0\": -5.012222766876221, \"d1\": 3.095421075820923}, {\"index\": \"york\", \"d0\": -8.504610061645508, \"d1\": 0.588765561580658}, {\"index\": \"your\", \"d0\": -7.5678911209106445, \"d1\": 2.245473861694336}, {\"index\": \"\\u2026\", \"d0\": -4.618984222412109, \"d1\": 3.5876424312591553}]}};\n",
       "const opt = {};\n",
       "const type = \"vega-lite\";\n",
       "const id = \"4dcc9693-10a5-40e5-8ca4-63397d8c1c36\";\n",
       "\n",
       "const output_area = this;\n",
       "\n",
       "require([\"nbextensions/jupyter-vega/index\"], function(vega) {\n",
       "  const target = document.createElement(\"div\");\n",
       "  target.id = id;\n",
       "  target.className = \"vega-embed\";\n",
       "\n",
       "  const style = document.createElement(\"style\");\n",
       "  style.textContent = [\n",
       "    \".vega-embed .error p {\",\n",
       "    \"  color: firebrick;\",\n",
       "    \"  font-size: 14px;\",\n",
       "    \"}\",\n",
       "  ].join(\"\\\\n\");\n",
       "\n",
       "  // element is a jQuery wrapped DOM element inside the output area\n",
       "  // see http://ipython.readthedocs.io/en/stable/api/generated/\\\n",
       "  // IPython.display.html#IPython.display.Javascript.__init__\n",
       "  element[0].appendChild(target);\n",
       "  element[0].appendChild(style);\n",
       "\n",
       "  vega.render(\"#\" + id, spec, type, opt, output_area);\n",
       "}, function (err) {\n",
       "  if (err.requireType !== \"scripterror\") {\n",
       "    throw(err);\n",
       "  }\n",
       "});\n"
      ],
      "text/plain": [
       "<vega.vegalite.VegaLite at 0x11884b5c0>"
      ]
     },
     "metadata": {
      "jupyter-vega": "#4dcc9693-10a5-40e5-8ca4-63397d8c1c36"
     },
     "output_type": "display_data"
    },
    {
     "data": {
      "text/plain": []
     },
     "execution_count": 674,
     "metadata": {},
     "output_type": "execute_result"
    },
    {
     "data": {
      "image/png": "[encoded data removed]"
     },
     "metadata": {
      "jupyter-vega": "#4dcc9693-10a5-40e5-8ca4-63397d8c1c36"
     },
     "output_type": "display_data"
    }
   ],
   "source": [
    "marked = chart.mark_point()\n",
    "marked.encode(x=alt.X('d1:Q', title='Dimension'), y='d0:Q', tooltip='index').interactive(True)"
   ]
  },
  {
   "cell_type": "code",
   "execution_count": null,
   "metadata": {},
   "outputs": [],
   "source": [
    "viz_data"
   ]
  },
  {
   "cell_type": "markdown",
   "metadata": {},
   "source": [
    "---"
   ]
  },
  {
   "cell_type": "code",
   "execution_count": null,
   "metadata": {},
   "outputs": [],
   "source": [
    "vector.shape, matrix_1.shape"
   ]
  },
  {
   "cell_type": "code",
   "execution_count": null,
   "metadata": {},
   "outputs": [],
   "source": [
    "pred, h, u = forward(vector, matrix_1, matrix_2)\n",
    "pred.shape, h.shape, u.shape"
   ]
  },
  {
   "cell_type": "code",
   "execution_count": null,
   "metadata": {},
   "outputs": [],
   "source": [
    "VOCABR[vector.argmax()]"
   ]
  },
  {
   "cell_type": "code",
   "execution_count": null,
   "metadata": {},
   "outputs": [],
   "source": [
    "VOCABR[pred.argmax()]"
   ]
  },
  {
   "cell_type": "markdown",
   "metadata": {},
   "source": [
    "## Using an Existing Package\n",
    "\n",
    "There are existing implementations that already exist that allow you to use Word2Vec technology out of the box.\n",
    "\n",
    "Examples of these include:\n",
    "  * SpaCy\n",
    "  * gensim\n",
    "  * ELMo\n",
    "  * fasttext\n",
    " \n",
    " \n",
    "### SpaCy"
   ]
  },
  {
   "cell_type": "code",
   "execution_count": null,
   "metadata": {},
   "outputs": [],
   "source": [
    "nlp = spacy.load('en_core_web_sm')"
   ]
  },
  {
   "cell_type": "code",
   "execution_count": null,
   "metadata": {},
   "outputs": [],
   "source": []
  },
  {
   "cell_type": "code",
   "execution_count": null,
   "metadata": {},
   "outputs": [],
   "source": []
  }
 ],
 "metadata": {
  "kernelspec": {
   "display_name": "Python 3",
   "language": "python",
   "name": "python3"
  },
  "language_info": {
   "codemirror_mode": {
    "name": "ipython",
    "version": 3
   },
   "file_extension": ".py",
   "mimetype": "text/x-python",
   "name": "python",
   "nbconvert_exporter": "python",
   "pygments_lexer": "ipython3",
   "version": "3.6.9"
  }
 },
 "nbformat": 4,
 "nbformat_minor": 2
}
